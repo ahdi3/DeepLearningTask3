{
  "cells": [
    {
      "cell_type": "markdown",
      "metadata": {
        "id": "view-in-github",
        "colab_type": "text"
      },
      "source": [
        "<a href=\"https://colab.research.google.com/github/ahdi3/DeepLearningTask3/blob/main/TaskWeek4.ipynb\" target=\"_parent\"><img src=\"https://colab.research.google.com/assets/colab-badge.svg\" alt=\"Open In Colab\"/></a>"
      ]
    },
    {
      "cell_type": "markdown",
      "source": [
        "Nama: Ahdi Nazzalul Ahsan\n",
        "\n",
        "NPM: 2206812956"
      ],
      "metadata": {
        "id": "1pRXqRa5NHFv"
      },
      "id": "1pRXqRa5NHFv"
    },
    {
      "cell_type": "markdown",
      "id": "c522d716",
      "metadata": {
        "id": "c522d716"
      },
      "source": [
        "# **Modern Convolutional Neural Networks**"
      ]
    },
    {
      "cell_type": "code",
      "execution_count": null,
      "id": "270c2008",
      "metadata": {
        "id": "270c2008",
        "colab": {
          "base_uri": "https://localhost:8080/"
        },
        "outputId": "962fba50-d494-45cb-83f0-3058f13539dc"
      },
      "outputs": [
        {
          "output_type": "stream",
          "name": "stdout",
          "text": [
            "Requirement already satisfied: d2l==1.0.3 in /usr/local/lib/python3.10/dist-packages (1.0.3)\n",
            "Requirement already satisfied: jupyter==1.0.0 in /usr/local/lib/python3.10/dist-packages (from d2l==1.0.3) (1.0.0)\n",
            "Requirement already satisfied: numpy==1.23.5 in /usr/local/lib/python3.10/dist-packages (from d2l==1.0.3) (1.23.5)\n",
            "Requirement already satisfied: matplotlib==3.7.2 in /usr/local/lib/python3.10/dist-packages (from d2l==1.0.3) (3.7.2)\n",
            "Requirement already satisfied: matplotlib-inline==0.1.6 in /usr/local/lib/python3.10/dist-packages (from d2l==1.0.3) (0.1.6)\n",
            "Requirement already satisfied: requests==2.31.0 in /usr/local/lib/python3.10/dist-packages (from d2l==1.0.3) (2.31.0)\n",
            "Requirement already satisfied: pandas==2.0.3 in /usr/local/lib/python3.10/dist-packages (from d2l==1.0.3) (2.0.3)\n",
            "Requirement already satisfied: scipy==1.10.1 in /usr/local/lib/python3.10/dist-packages (from d2l==1.0.3) (1.10.1)\n",
            "Requirement already satisfied: notebook in /usr/local/lib/python3.10/dist-packages (from jupyter==1.0.0->d2l==1.0.3) (6.5.5)\n",
            "Requirement already satisfied: qtconsole in /usr/local/lib/python3.10/dist-packages (from jupyter==1.0.0->d2l==1.0.3) (5.6.0)\n",
            "Requirement already satisfied: jupyter-console in /usr/local/lib/python3.10/dist-packages (from jupyter==1.0.0->d2l==1.0.3) (6.1.0)\n",
            "Requirement already satisfied: nbconvert in /usr/local/lib/python3.10/dist-packages (from jupyter==1.0.0->d2l==1.0.3) (6.5.4)\n",
            "Requirement already satisfied: ipykernel in /usr/local/lib/python3.10/dist-packages (from jupyter==1.0.0->d2l==1.0.3) (5.5.6)\n",
            "Requirement already satisfied: ipywidgets in /usr/local/lib/python3.10/dist-packages (from jupyter==1.0.0->d2l==1.0.3) (7.7.1)\n",
            "Requirement already satisfied: contourpy>=1.0.1 in /usr/local/lib/python3.10/dist-packages (from matplotlib==3.7.2->d2l==1.0.3) (1.3.0)\n",
            "Requirement already satisfied: cycler>=0.10 in /usr/local/lib/python3.10/dist-packages (from matplotlib==3.7.2->d2l==1.0.3) (0.12.1)\n",
            "Requirement already satisfied: fonttools>=4.22.0 in /usr/local/lib/python3.10/dist-packages (from matplotlib==3.7.2->d2l==1.0.3) (4.53.1)\n",
            "Requirement already satisfied: kiwisolver>=1.0.1 in /usr/local/lib/python3.10/dist-packages (from matplotlib==3.7.2->d2l==1.0.3) (1.4.7)\n",
            "Requirement already satisfied: packaging>=20.0 in /usr/local/lib/python3.10/dist-packages (from matplotlib==3.7.2->d2l==1.0.3) (24.1)\n",
            "Requirement already satisfied: pillow>=6.2.0 in /usr/local/lib/python3.10/dist-packages (from matplotlib==3.7.2->d2l==1.0.3) (10.4.0)\n",
            "Requirement already satisfied: pyparsing<3.1,>=2.3.1 in /usr/local/lib/python3.10/dist-packages (from matplotlib==3.7.2->d2l==1.0.3) (3.0.9)\n",
            "Requirement already satisfied: python-dateutil>=2.7 in /usr/local/lib/python3.10/dist-packages (from matplotlib==3.7.2->d2l==1.0.3) (2.8.2)\n",
            "Requirement already satisfied: traitlets in /usr/local/lib/python3.10/dist-packages (from matplotlib-inline==0.1.6->d2l==1.0.3) (5.7.1)\n",
            "Requirement already satisfied: pytz>=2020.1 in /usr/local/lib/python3.10/dist-packages (from pandas==2.0.3->d2l==1.0.3) (2024.2)\n",
            "Requirement already satisfied: tzdata>=2022.1 in /usr/local/lib/python3.10/dist-packages (from pandas==2.0.3->d2l==1.0.3) (2024.1)\n",
            "Requirement already satisfied: charset-normalizer<4,>=2 in /usr/local/lib/python3.10/dist-packages (from requests==2.31.0->d2l==1.0.3) (3.3.2)\n",
            "Requirement already satisfied: idna<4,>=2.5 in /usr/local/lib/python3.10/dist-packages (from requests==2.31.0->d2l==1.0.3) (3.10)\n",
            "Requirement already satisfied: urllib3<3,>=1.21.1 in /usr/local/lib/python3.10/dist-packages (from requests==2.31.0->d2l==1.0.3) (2.2.3)\n",
            "Requirement already satisfied: certifi>=2017.4.17 in /usr/local/lib/python3.10/dist-packages (from requests==2.31.0->d2l==1.0.3) (2024.8.30)\n",
            "Requirement already satisfied: six>=1.5 in /usr/local/lib/python3.10/dist-packages (from python-dateutil>=2.7->matplotlib==3.7.2->d2l==1.0.3) (1.16.0)\n",
            "Requirement already satisfied: ipython-genutils in /usr/local/lib/python3.10/dist-packages (from ipykernel->jupyter==1.0.0->d2l==1.0.3) (0.2.0)\n",
            "Requirement already satisfied: ipython>=5.0.0 in /usr/local/lib/python3.10/dist-packages (from ipykernel->jupyter==1.0.0->d2l==1.0.3) (7.34.0)\n",
            "Requirement already satisfied: jupyter-client in /usr/local/lib/python3.10/dist-packages (from ipykernel->jupyter==1.0.0->d2l==1.0.3) (6.1.12)\n",
            "Requirement already satisfied: tornado>=4.2 in /usr/local/lib/python3.10/dist-packages (from ipykernel->jupyter==1.0.0->d2l==1.0.3) (6.3.3)\n",
            "Requirement already satisfied: widgetsnbextension~=3.6.0 in /usr/local/lib/python3.10/dist-packages (from ipywidgets->jupyter==1.0.0->d2l==1.0.3) (3.6.9)\n",
            "Requirement already satisfied: jupyterlab-widgets>=1.0.0 in /usr/local/lib/python3.10/dist-packages (from ipywidgets->jupyter==1.0.0->d2l==1.0.3) (3.0.13)\n",
            "Requirement already satisfied: prompt-toolkit!=3.0.0,!=3.0.1,<3.1.0,>=2.0.0 in /usr/local/lib/python3.10/dist-packages (from jupyter-console->jupyter==1.0.0->d2l==1.0.3) (3.0.47)\n",
            "Requirement already satisfied: pygments in /usr/local/lib/python3.10/dist-packages (from jupyter-console->jupyter==1.0.0->d2l==1.0.3) (2.18.0)\n",
            "Requirement already satisfied: lxml in /usr/local/lib/python3.10/dist-packages (from nbconvert->jupyter==1.0.0->d2l==1.0.3) (4.9.4)\n",
            "Requirement already satisfied: beautifulsoup4 in /usr/local/lib/python3.10/dist-packages (from nbconvert->jupyter==1.0.0->d2l==1.0.3) (4.12.3)\n",
            "Requirement already satisfied: bleach in /usr/local/lib/python3.10/dist-packages (from nbconvert->jupyter==1.0.0->d2l==1.0.3) (6.1.0)\n",
            "Requirement already satisfied: defusedxml in /usr/local/lib/python3.10/dist-packages (from nbconvert->jupyter==1.0.0->d2l==1.0.3) (0.7.1)\n",
            "Requirement already satisfied: entrypoints>=0.2.2 in /usr/local/lib/python3.10/dist-packages (from nbconvert->jupyter==1.0.0->d2l==1.0.3) (0.4)\n",
            "Requirement already satisfied: jinja2>=3.0 in /usr/local/lib/python3.10/dist-packages (from nbconvert->jupyter==1.0.0->d2l==1.0.3) (3.1.4)\n",
            "Requirement already satisfied: jupyter-core>=4.7 in /usr/local/lib/python3.10/dist-packages (from nbconvert->jupyter==1.0.0->d2l==1.0.3) (5.7.2)\n",
            "Requirement already satisfied: jupyterlab-pygments in /usr/local/lib/python3.10/dist-packages (from nbconvert->jupyter==1.0.0->d2l==1.0.3) (0.3.0)\n",
            "Requirement already satisfied: MarkupSafe>=2.0 in /usr/local/lib/python3.10/dist-packages (from nbconvert->jupyter==1.0.0->d2l==1.0.3) (2.1.5)\n",
            "Requirement already satisfied: mistune<2,>=0.8.1 in /usr/local/lib/python3.10/dist-packages (from nbconvert->jupyter==1.0.0->d2l==1.0.3) (0.8.4)\n",
            "Requirement already satisfied: nbclient>=0.5.0 in /usr/local/lib/python3.10/dist-packages (from nbconvert->jupyter==1.0.0->d2l==1.0.3) (0.10.0)\n",
            "Requirement already satisfied: nbformat>=5.1 in /usr/local/lib/python3.10/dist-packages (from nbconvert->jupyter==1.0.0->d2l==1.0.3) (5.10.4)\n",
            "Requirement already satisfied: pandocfilters>=1.4.1 in /usr/local/lib/python3.10/dist-packages (from nbconvert->jupyter==1.0.0->d2l==1.0.3) (1.5.1)\n",
            "Requirement already satisfied: tinycss2 in /usr/local/lib/python3.10/dist-packages (from nbconvert->jupyter==1.0.0->d2l==1.0.3) (1.3.0)\n",
            "Requirement already satisfied: pyzmq<25,>=17 in /usr/local/lib/python3.10/dist-packages (from notebook->jupyter==1.0.0->d2l==1.0.3) (24.0.1)\n",
            "Requirement already satisfied: argon2-cffi in /usr/local/lib/python3.10/dist-packages (from notebook->jupyter==1.0.0->d2l==1.0.3) (23.1.0)\n",
            "Requirement already satisfied: nest-asyncio>=1.5 in /usr/local/lib/python3.10/dist-packages (from notebook->jupyter==1.0.0->d2l==1.0.3) (1.6.0)\n",
            "Requirement already satisfied: Send2Trash>=1.8.0 in /usr/local/lib/python3.10/dist-packages (from notebook->jupyter==1.0.0->d2l==1.0.3) (1.8.3)\n",
            "Requirement already satisfied: terminado>=0.8.3 in /usr/local/lib/python3.10/dist-packages (from notebook->jupyter==1.0.0->d2l==1.0.3) (0.18.1)\n",
            "Requirement already satisfied: prometheus-client in /usr/local/lib/python3.10/dist-packages (from notebook->jupyter==1.0.0->d2l==1.0.3) (0.21.0)\n",
            "Requirement already satisfied: nbclassic>=0.4.7 in /usr/local/lib/python3.10/dist-packages (from notebook->jupyter==1.0.0->d2l==1.0.3) (1.1.0)\n",
            "Requirement already satisfied: qtpy>=2.4.0 in /usr/local/lib/python3.10/dist-packages (from qtconsole->jupyter==1.0.0->d2l==1.0.3) (2.4.1)\n",
            "Requirement already satisfied: setuptools>=18.5 in /usr/local/lib/python3.10/dist-packages (from ipython>=5.0.0->ipykernel->jupyter==1.0.0->d2l==1.0.3) (71.0.4)\n",
            "Requirement already satisfied: jedi>=0.16 in /usr/local/lib/python3.10/dist-packages (from ipython>=5.0.0->ipykernel->jupyter==1.0.0->d2l==1.0.3) (0.19.1)\n",
            "Requirement already satisfied: decorator in /usr/local/lib/python3.10/dist-packages (from ipython>=5.0.0->ipykernel->jupyter==1.0.0->d2l==1.0.3) (4.4.2)\n",
            "Requirement already satisfied: pickleshare in /usr/local/lib/python3.10/dist-packages (from ipython>=5.0.0->ipykernel->jupyter==1.0.0->d2l==1.0.3) (0.7.5)\n",
            "Requirement already satisfied: backcall in /usr/local/lib/python3.10/dist-packages (from ipython>=5.0.0->ipykernel->jupyter==1.0.0->d2l==1.0.3) (0.2.0)\n",
            "Requirement already satisfied: pexpect>4.3 in /usr/local/lib/python3.10/dist-packages (from ipython>=5.0.0->ipykernel->jupyter==1.0.0->d2l==1.0.3) (4.9.0)\n",
            "Requirement already satisfied: platformdirs>=2.5 in /usr/local/lib/python3.10/dist-packages (from jupyter-core>=4.7->nbconvert->jupyter==1.0.0->d2l==1.0.3) (4.3.6)\n",
            "Requirement already satisfied: notebook-shim>=0.2.3 in /usr/local/lib/python3.10/dist-packages (from nbclassic>=0.4.7->notebook->jupyter==1.0.0->d2l==1.0.3) (0.2.4)\n",
            "Requirement already satisfied: fastjsonschema>=2.15 in /usr/local/lib/python3.10/dist-packages (from nbformat>=5.1->nbconvert->jupyter==1.0.0->d2l==1.0.3) (2.20.0)\n",
            "Requirement already satisfied: jsonschema>=2.6 in /usr/local/lib/python3.10/dist-packages (from nbformat>=5.1->nbconvert->jupyter==1.0.0->d2l==1.0.3) (4.23.0)\n",
            "Requirement already satisfied: wcwidth in /usr/local/lib/python3.10/dist-packages (from prompt-toolkit!=3.0.0,!=3.0.1,<3.1.0,>=2.0.0->jupyter-console->jupyter==1.0.0->d2l==1.0.3) (0.2.13)\n",
            "Requirement already satisfied: ptyprocess in /usr/local/lib/python3.10/dist-packages (from terminado>=0.8.3->notebook->jupyter==1.0.0->d2l==1.0.3) (0.7.0)\n",
            "Requirement already satisfied: argon2-cffi-bindings in /usr/local/lib/python3.10/dist-packages (from argon2-cffi->notebook->jupyter==1.0.0->d2l==1.0.3) (21.2.0)\n",
            "Requirement already satisfied: soupsieve>1.2 in /usr/local/lib/python3.10/dist-packages (from beautifulsoup4->nbconvert->jupyter==1.0.0->d2l==1.0.3) (2.6)\n",
            "Requirement already satisfied: webencodings in /usr/local/lib/python3.10/dist-packages (from bleach->nbconvert->jupyter==1.0.0->d2l==1.0.3) (0.5.1)\n",
            "Requirement already satisfied: parso<0.9.0,>=0.8.3 in /usr/local/lib/python3.10/dist-packages (from jedi>=0.16->ipython>=5.0.0->ipykernel->jupyter==1.0.0->d2l==1.0.3) (0.8.4)\n",
            "Requirement already satisfied: attrs>=22.2.0 in /usr/local/lib/python3.10/dist-packages (from jsonschema>=2.6->nbformat>=5.1->nbconvert->jupyter==1.0.0->d2l==1.0.3) (24.2.0)\n",
            "Requirement already satisfied: jsonschema-specifications>=2023.03.6 in /usr/local/lib/python3.10/dist-packages (from jsonschema>=2.6->nbformat>=5.1->nbconvert->jupyter==1.0.0->d2l==1.0.3) (2023.12.1)\n",
            "Requirement already satisfied: referencing>=0.28.4 in /usr/local/lib/python3.10/dist-packages (from jsonschema>=2.6->nbformat>=5.1->nbconvert->jupyter==1.0.0->d2l==1.0.3) (0.35.1)\n",
            "Requirement already satisfied: rpds-py>=0.7.1 in /usr/local/lib/python3.10/dist-packages (from jsonschema>=2.6->nbformat>=5.1->nbconvert->jupyter==1.0.0->d2l==1.0.3) (0.20.0)\n",
            "Requirement already satisfied: jupyter-server<3,>=1.8 in /usr/local/lib/python3.10/dist-packages (from notebook-shim>=0.2.3->nbclassic>=0.4.7->notebook->jupyter==1.0.0->d2l==1.0.3) (1.24.0)\n",
            "Requirement already satisfied: cffi>=1.0.1 in /usr/local/lib/python3.10/dist-packages (from argon2-cffi-bindings->argon2-cffi->notebook->jupyter==1.0.0->d2l==1.0.3) (1.17.1)\n",
            "Requirement already satisfied: pycparser in /usr/local/lib/python3.10/dist-packages (from cffi>=1.0.1->argon2-cffi-bindings->argon2-cffi->notebook->jupyter==1.0.0->d2l==1.0.3) (2.22)\n",
            "Requirement already satisfied: anyio<4,>=3.1.0 in /usr/local/lib/python3.10/dist-packages (from jupyter-server<3,>=1.8->notebook-shim>=0.2.3->nbclassic>=0.4.7->notebook->jupyter==1.0.0->d2l==1.0.3) (3.7.1)\n",
            "Requirement already satisfied: websocket-client in /usr/local/lib/python3.10/dist-packages (from jupyter-server<3,>=1.8->notebook-shim>=0.2.3->nbclassic>=0.4.7->notebook->jupyter==1.0.0->d2l==1.0.3) (1.8.0)\n",
            "Requirement already satisfied: sniffio>=1.1 in /usr/local/lib/python3.10/dist-packages (from anyio<4,>=3.1.0->jupyter-server<3,>=1.8->notebook-shim>=0.2.3->nbclassic>=0.4.7->notebook->jupyter==1.0.0->d2l==1.0.3) (1.3.1)\n",
            "Requirement already satisfied: exceptiongroup in /usr/local/lib/python3.10/dist-packages (from anyio<4,>=3.1.0->jupyter-server<3,>=1.8->notebook-shim>=0.2.3->nbclassic>=0.4.7->notebook->jupyter==1.0.0->d2l==1.0.3) (1.2.2)\n"
          ]
        }
      ],
      "source": [
        "!pip install d2l==1.0.3\n"
      ]
    },
    {
      "cell_type": "markdown",
      "id": "c3ed4012",
      "metadata": {
        "origin_pos": 1,
        "id": "c3ed4012"
      },
      "source": [
        "#8.1 Deep Convolutional Neural Networks (AlexNet)\n",
        ":label:`sec_alexnet`\n",
        "\n",
        "\n",
        "Although CNNs were well known\n",
        "in the computer vision and machine learning communities\n",
        "following the introduction of LeNet :cite:`LeCun.Jackel.Bottou.ea.1995`,\n",
        "they did not immediately dominate the field.\n",
        "Although LeNet achieved good results on early small datasets,\n",
        "the performance and feasibility of training CNNs\n",
        "on larger, more realistic datasets had yet to be established.\n",
        "In fact, for much of the intervening time between the early 1990s\n",
        "and the watershed results of 2012 :cite:`Krizhevsky.Sutskever.Hinton.2012`,\n",
        "neural networks were often surpassed by other machine learning methods,\n",
        "such as kernel methods :cite:`Scholkopf.Smola.2002`, ensemble methods :cite:`Freund.Schapire.ea.1996`,\n",
        "and structured estimation :cite:`Taskar.Guestrin.Koller.2004`.\n",
        "\n",
        "For computer vision, this comparison is perhaps not entirely accurate.\n",
        "That is, although the inputs to convolutional networks\n",
        "consist of raw or lightly-processed (e.g., by centering) pixel values, practitioners would never feed raw pixels into traditional models.\n",
        "Instead, typical computer vision pipelines\n",
        "consisted of manually engineering feature extraction pipelines, such as SIFT :cite:`Lowe.2004`, SURF :cite:`Bay.Tuytelaars.Van-Gool.2006`, and bags of visual words :cite:`Sivic.Zisserman.2003`.\n",
        "Rather than *learning* the features, the features were *crafted*.\n",
        "Most of the progress came from having more clever ideas for feature extraction on the one hand and deep insight into geometry :cite:`Hartley.Zisserman.2000` on the other. The learning algorithm was often considered an afterthought.\n",
        "\n",
        "Although some neural network accelerators were available in the 1990s,\n",
        "they were not yet sufficiently powerful to make\n",
        "deep multichannel, multilayer CNNs\n",
        "with a large number of parameters. For instance, NVIDIA's GeForce 256 from 1999\n",
        "was able to process at most 480 million floating-point operations, such as additions and multiplications, per second (MFLOPS), without any meaningful\n",
        "programming framework for operations beyond games. Today's accelerators are able to perform in excess of 1000 TFLOPs per device.\n",
        "Moreover, datasets were still relatively small: OCR on 60,000 low-resolution $28 \\times 28$ pixel images was considered a highly challenging task.\n",
        "Added to these obstacles, key tricks for training neural networks\n",
        "including parameter initialization heuristics :cite:`Glorot.Bengio.2010`,\n",
        "clever variants of stochastic gradient descent :cite:`Kingma.Ba.2014`,\n",
        "non-squashing activation functions :cite:`Nair.Hinton.2010`,\n",
        "and effective regularization techniques :cite:`Srivastava.Hinton.Krizhevsky.ea.2014` were still missing.\n",
        "\n",
        "Thus, rather than training *end-to-end* (pixel to classification) systems,\n",
        "classical pipelines looked more like this:\n",
        "\n",
        "1. Obtain an interesting dataset. In the early days, these datasets required expensive sensors. For instance, the [Apple QuickTake 100](https://en.wikipedia.org/wiki/Apple_QuickTake) of 1994 sported a whopping 0.3 megapixel (VGA) resolution, capable of storing up to 8 images, all for the price of \\$1000.\n",
        "1. Preprocess the dataset with hand-crafted features based on some knowledge of optics, geometry, other analytic tools, and occasionally on the serendipitous discoveries by lucky graduate students.\n",
        "1. Feed the data through a standard set of feature extractors such as the SIFT (scale-invariant feature transform) :cite:`Lowe.2004`, the SURF (speeded up robust features) :cite:`Bay.Tuytelaars.Van-Gool.2006`, or any number of other hand-tuned pipelines. OpenCV still provides SIFT extractors to this day!\n",
        "1. Dump the resulting representations into your favorite classifier, likely a linear model or kernel method, to train a classifier.\n",
        "\n",
        "If you spoke to machine learning researchers,\n",
        "they would reply that machine learning was both important and beautiful.\n",
        "Elegant theories proved the properties of various classifiers :cite:`boucheron2005theory` and convex\n",
        "optimization :cite:`Boyd.Vandenberghe.2004` had become the mainstay for obtaining them.\n",
        "The field of machine learning was thriving, rigorous, and eminently useful. However,\n",
        "if you spoke to a computer vision researcher,\n",
        "you would hear a very different story.\n",
        "The dirty truth of image recognition, they would tell you,\n",
        "is that features, geometry :cite:`Hartley.Zisserman.2000,hartley2009global`, and engineering,\n",
        "rather than novel learning algorithms, drove progress.\n",
        "Computer vision researchers justifiably believed\n",
        "that a slightly bigger or cleaner dataset\n",
        "or a slightly improved feature-extraction pipeline\n",
        "mattered far more to the final accuracy than any learning algorithm.\n"
      ]
    },
    {
      "cell_type": "code",
      "execution_count": null,
      "id": "07938be6",
      "metadata": {
        "attributes": {
          "classes": [],
          "id": "",
          "n": "3"
        },
        "execution": {
          "iopub.execute_input": "2023-08-18T19:43:33.339125Z",
          "iopub.status.busy": "2023-08-18T19:43:33.338612Z",
          "iopub.status.idle": "2023-08-18T19:43:36.248351Z",
          "shell.execute_reply": "2023-08-18T19:43:36.247404Z"
        },
        "origin_pos": 3,
        "tab": [
          "pytorch"
        ],
        "id": "07938be6"
      },
      "outputs": [],
      "source": [
        "\n",
        "import torch\n",
        "from torch import nn\n",
        "from d2l import torch as d2l"
      ]
    },
    {
      "cell_type": "markdown",
      "id": "3425d857",
      "metadata": {
        "origin_pos": 6,
        "id": "3425d857"
      },
      "source": [
        "## Representation Learning\n",
        "\n",
        "Another way to cast the state of affairs is that\n",
        "the most important part of the pipeline was the representation.\n",
        "And up until 2012 the representation was calculated mostly mechanically.\n",
        "In fact, engineering a new set of feature functions, improving results, and writing up the method\n",
        "all featured prominently in papers.\n",
        "SIFT :cite:`Lowe.2004`,\n",
        "SURF :cite:`Bay.Tuytelaars.Van-Gool.2006`,\n",
        "HOG (histograms of oriented gradient) :cite:`Dalal.Triggs.2005`,\n",
        "bags of visual words :cite:`Sivic.Zisserman.2003`,\n",
        "and similar feature extractors ruled the roost.\n",
        "\n",
        "Another group of researchers,\n",
        "including Yann LeCun, Geoff Hinton, Yoshua Bengio,\n",
        "Andrew Ng, Shun-ichi Amari, and Juergen Schmidhuber,\n",
        "had different plans.\n",
        "They believed that features themselves ought to be learned.\n",
        "Moreover, they believed that to be reasonably complex,\n",
        "the features ought to be hierarchically composed\n",
        "with multiple jointly learned layers, each with learnable parameters.\n",
        "In the case of an image, the lowest layers might come\n",
        "to detect edges, colors, and textures, by analogy with how the visual system in animals\n",
        "processes its input. In particular, the automatic design of visual features such as those obtained\n",
        "by sparse coding :cite:`olshausen1996emergence` remained an open challenge until the advent of modern CNNs.\n",
        "It was not until :citet:`Dean.Corrado.Monga.ea.2012,le2013building` that the idea of generating features\n",
        "from image data automatically gained significant traction.\n",
        "\n",
        "The first modern CNN :cite:`Krizhevsky.Sutskever.Hinton.2012`, named\n",
        "*AlexNet* after one of its inventors, Alex Krizhevsky, is largely an evolutionary improvement\n",
        "over LeNet. It achieved excellent performance in the 2012 ImageNet challenge.\n",
        "\n",
        "![Image filters learned by the first layer of AlexNet. Reproduction courtesy of :citet:`Krizhevsky.Sutskever.Hinton.2012`.](https://github.com/d2l-ai/d2l-pytorch-colab/blob/master/img/filters.png?raw=1)\n",
        ":width:`400px`\n",
        ":label:`fig_filters`\n",
        "\n",
        "Interestingly, in the lowest layers of the network,\n",
        "the model learned feature extractors that resembled some traditional filters.\n",
        ":numref:`fig_filters`\n",
        "shows lower-level image descriptors.\n",
        "Higher layers in the network might build upon these representations\n",
        "to represent larger structures, like eyes, noses, blades of grass, and so on.\n",
        "Even higher layers might represent whole objects\n",
        "like people, airplanes, dogs, or frisbees.\n",
        "Ultimately, the final hidden state learns a compact representation\n",
        "of the image that summarizes its contents\n",
        "such that data belonging to different categories can be easily separated.\n",
        "\n",
        "AlexNet (2012) and its precursor LeNet (1995) share many architectural elements. This begs the question: why did it take so long?\n",
        "A key difference was that, over the previous two decades, the amount of data and the computing power available had increased significantly. As such AlexNet was much larger: it was trained on much more data, and on much faster GPUs compared to the CPUs available in 1995.\n",
        "\n",
        "### Missing Ingredient: Data\n",
        "\n",
        "Deep models with many layers require large amounts of data\n",
        "in order to enter the regime\n",
        "where they significantly outperform traditional methods\n",
        "based on convex optimizations (e.g., linear and kernel methods).\n",
        "However, given the limited storage capacity of computers,\n",
        "the relative expense of (imaging) sensors,\n",
        "and the comparatively tighter research budgets in the 1990s,\n",
        "most research relied on tiny datasets.\n",
        "Numerous papers relied on the UCI collection of datasets,\n",
        "many of which contained only hundreds or (a few) thousands of images\n",
        "captured in low resolution and often with an artificially clean background.\n",
        "\n",
        "In 2009, the ImageNet dataset was released :cite:`Deng.Dong.Socher.ea.2009`,\n",
        "challenging researchers to learn models from 1 million examples,\n",
        "1000 each from 1000 distinct categories of objects. The categories themselves\n",
        "were based on the most popular noun nodes in WordNet :cite:`Miller.1995`.\n",
        "The ImageNet team used Google Image Search to prefilter large candidate sets\n",
        "for each category and employed\n",
        "the Amazon Mechanical Turk crowdsourcing pipeline\n",
        "to confirm for each image whether it belonged to the associated category.\n",
        "This scale was unprecedented, exceeding others by over an order of magnitude\n",
        "(e.g., CIFAR-100 has 60,000 images). Another aspect was that the images were at\n",
        "relatively high resolution of $224 \\times 224$ pixels, unlike the 80 million-sized\n",
        "TinyImages dataset :cite:`Torralba.Fergus.Freeman.2008`, consisting of $32 \\times 32$ pixel thumbnails.\n",
        "This allowed for the formation of higher-level features.\n",
        "The associated competition, dubbed the ImageNet Large Scale Visual Recognition\n",
        "Challenge :cite:`russakovsky2015imagenet`,\n",
        "pushed computer vision and machine learning research forward,\n",
        "challenging researchers to identify which models performed best\n",
        "at a greater scale than academics had previously considered. The largest vision datasets, such as LAION-5B\n",
        ":cite:`schuhmann2022laion` contain billions of images with additional metadata.\n",
        "\n",
        "### Missing Ingredient: Hardware\n",
        "\n",
        "Deep learning models are voracious consumers of compute cycles.\n",
        "Training can take hundreds of epochs, and each iteration\n",
        "requires passing data through many layers of computationally expensive\n",
        "linear algebra operations.\n",
        "This is one of the main reasons why in the 1990s and early 2000s,\n",
        "simple algorithms based on the more-efficiently optimized\n",
        "convex objectives were preferred.\n",
        "\n",
        "*Graphical processing units* (GPUs) proved to be a game changer\n",
        "in making deep learning feasible.\n",
        "These chips had earlier been developed for accelerating\n",
        "graphics processing to benefit computer games.\n",
        "In particular, they were optimized for high throughput $4 \\times 4$\n",
        "matrix--vector products, which are needed for many computer graphics tasks.\n",
        "Fortunately, the math is strikingly similar\n",
        "to that required for calculating convolutional layers.\n",
        "Around that time, NVIDIA and ATI had begun optimizing GPUs\n",
        "for general computing operations :cite:`Fernando.2004`,\n",
        "going as far as to market them as *general-purpose GPUs* (GPGPUs).\n",
        "\n",
        "To provide some intuition, consider the cores of a modern microprocessor\n",
        "(CPU).\n",
        "Each of the cores is fairly powerful running at a high clock frequency\n",
        "and sporting large caches (up to several megabytes of L3).\n",
        "Each core is well-suited to executing a wide range of instructions,\n",
        "with branch predictors, a deep pipeline, specialized execution units,\n",
        "speculative execution,\n",
        "and many other bells and whistles\n",
        "that enable it to run a large variety of programs with sophisticated control flow.\n",
        "This apparent strength, however, is also its Achilles heel:\n",
        "general-purpose cores are very expensive to build. They excel at general-purpose\n",
        "code with lots of control flow.\n",
        "This requires lots of chip area, not just for the\n",
        "actual ALU (arithmetic logical unit) where computation happens, but also for\n",
        "all the aforementioned bells and whistles, plus\n",
        "memory interfaces, caching logic between cores,\n",
        "high-speed interconnects, and so on. CPUs are\n",
        "comparatively bad at any single task when compared with dedicated hardware.\n",
        "Modern laptops have 4--8 cores,\n",
        "and even high-end servers rarely exceed 64 cores per socket,\n",
        "simply because it is not cost-effective.\n",
        "\n",
        "By comparison, GPUs can consist of thousands of small processing elements (NIVIDA's latest Ampere chips have up to 6912 CUDA cores), often grouped into larger groups (NVIDIA calls them warps).\n",
        "The details differ somewhat between NVIDIA, AMD, ARM and other chip vendors. While each core is relatively weak,\n",
        "running at about 1GHz clock frequency,\n",
        "it is the total number of such cores that makes GPUs orders of magnitude faster than CPUs.\n",
        "For instance, NVIDIA's recent Ampere A100 GPU offers over 300 TFLOPs per chip for specialized 16-bit precision (BFLOAT16) matrix-matrix multiplications, and up to 20 TFLOPs for more general-purpose floating point operations (FP32).\n",
        "At the same time, floating point performance of CPUs rarely exceeds 1 TFLOPs. For instance, Amazon's Graviton 3  reaches 2 TFLOPs peak performance for 16-bit precision operations, a number similar to the GPU performance of Apple's M1 processor.\n",
        "\n",
        "There are many reasons why GPUs are much faster than CPUs in terms of FLOPs.\n",
        "First, power consumption tends to grow *quadratically* with clock frequency.\n",
        "Hence, for the power budget of a CPU core that runs four times faster (a typical number),\n",
        "you can use 16 GPU cores at $\\frac{1}{4}$ the speed,\n",
        "which yields $16 \\times \\frac{1}{4} = 4$ times the performance.\n",
        "Second, GPU cores are much simpler\n",
        "(in fact, for a long time they were not even *able*\n",
        "to execute general-purpose code),\n",
        "which makes them more energy efficient. For instance, (i) they tend not to support speculative evaluation, (ii) it typically is not possible to program each processing element individually, and (iii) the caches per core tend to be much smaller.\n",
        "Last, many operations in deep learning require high memory bandwidth.\n",
        "Again, GPUs shine here with buses that are at least 10 times as wide as many CPUs.\n",
        "\n",
        "Back to 2012. A major breakthrough came\n",
        "when Alex Krizhevsky and Ilya Sutskever\n",
        "implemented a deep CNN\n",
        "that could run on GPUs.\n",
        "They realized that the computational bottlenecks in CNNs,\n",
        "convolutions and matrix multiplications,\n",
        "are all operations that could be parallelized in hardware.\n",
        "Using two NVIDIA GTX 580s with 3GB of memory, either of which was capable of 1.5 TFLOPs (still a challenge for most CPUs a decade later),\n",
        "they implemented fast convolutions.\n",
        "The [cuda-convnet](https://code.google.com/archive/p/cuda-convnet/) code\n",
        "was good enough that for several years\n",
        "it was the industry standard and powered\n",
        "the first couple of years of the deep learning boom.\n",
        "\n",
        "## AlexNet\n",
        "\n",
        "AlexNet, which employed an 8-layer CNN,\n",
        "won the ImageNet Large Scale Visual Recognition Challenge 2012\n",
        "by a large margin :cite:`Russakovsky.Deng.Huang.ea.2013`.\n",
        "This network showed, for the first time,\n",
        "that the features obtained by learning can transcend manually-designed features, breaking the previous paradigm in computer vision.\n",
        "\n",
        "The architectures of AlexNet and LeNet are strikingly similar,\n",
        "as :numref:`fig_alexnet` illustrates.\n",
        "Note that we provide a slightly streamlined version of AlexNet\n",
        "removing some of the design quirks that were needed in 2012\n",
        "to make the model fit on two small GPUs.\n",
        "\n",
        "![From LeNet (left) to AlexNet (right).](http://d2l.ai/_images/alexnet.svg)\n",
        ":label:`fig_alexnet`\n",
        "\n",
        "There are also significant differences between AlexNet and LeNet.\n",
        "First, AlexNet is much deeper than the comparatively small LeNet-5.\n",
        "AlexNet consists of eight layers: five convolutional layers,\n",
        "two fully connected hidden layers, and one fully connected output layer.\n",
        "Second, AlexNet used the ReLU instead of the sigmoid\n",
        "as its activation function. Let's delve into the details below.\n",
        "\n",
        "### Architecture\n",
        "\n",
        "In AlexNet's first layer, the convolution window shape is $11\\times11$.\n",
        "Since the images in ImageNet are eight times taller and wider\n",
        "than the MNIST images,\n",
        "objects in ImageNet data tend to occupy more pixels with more visual detail.\n",
        "Consequently, a larger convolution window is needed to capture the object.\n",
        "The convolution window shape in the second layer\n",
        "is reduced to $5\\times5$, followed by $3\\times3$.\n",
        "In addition, after the first, second, and fifth convolutional layers,\n",
        "the network adds max-pooling layers\n",
        "with a window shape of $3\\times3$ and a stride of 2.\n",
        "Moreover, AlexNet has ten times more convolution channels than LeNet.\n",
        "\n",
        "After the final convolutional layer, there are two huge fully connected layers\n",
        "with 4096 outputs.\n",
        "These layers require nearly 1GB model parameters.\n",
        "Because of the limited memory in early GPUs,\n",
        "the original AlexNet used a dual data stream design,\n",
        "so that each of their two GPUs could be responsible\n",
        "for storing and computing only its half of the model.\n",
        "Fortunately, GPU memory is comparatively abundant now,\n",
        "so we rarely need to break up models across GPUs these days\n",
        "(our version of the AlexNet model deviates\n",
        "from the original paper in this aspect).\n",
        "\n",
        "### Activation Functions\n",
        "\n",
        "Furthermore, AlexNet changed the sigmoid activation function to a simpler ReLU activation function. On the one hand, the computation of the ReLU activation function is simpler. For example, it does not have the exponentiation operation found in the sigmoid activation function.\n",
        " On the other hand, the ReLU activation function makes model training easier when using different parameter initialization methods. This is because, when the output of the sigmoid activation function is very close to 0 or 1, the gradient of these regions is almost 0, so that backpropagation cannot continue to update some of the model parameters. By contrast, the gradient of the ReLU activation function in the positive interval is always 1 (:numref:`subsec_activation-functions`). Therefore, if the model parameters are not properly initialized, the sigmoid function may obtain a gradient of almost 0 in the positive interval, meaning that the model cannot be effectively trained.\n",
        "\n",
        "### Capacity Control and Preprocessing\n",
        "\n",
        "AlexNet controls the model complexity of the fully connected layer\n",
        "by dropout (:numref:`sec_dropout`),\n",
        "while LeNet only uses weight decay.\n",
        "To augment the data even further, the training loop of AlexNet\n",
        "added a great deal of image augmentation,\n",
        "such as flipping, clipping, and color changes.\n",
        "This makes the model more robust and the larger sample size effectively reduces overfitting.\n",
        "See :citet:`Buslaev.Iglovikov.Khvedchenya.ea.2020` for an in-depth review of such preprocessing steps.\n"
      ]
    },
    {
      "cell_type": "code",
      "execution_count": null,
      "id": "29feac8e",
      "metadata": {
        "attributes": {
          "classes": [],
          "id": "",
          "n": "5"
        },
        "execution": {
          "iopub.execute_input": "2023-08-18T19:43:36.252627Z",
          "iopub.status.busy": "2023-08-18T19:43:36.251926Z",
          "iopub.status.idle": "2023-08-18T19:43:36.259662Z",
          "shell.execute_reply": "2023-08-18T19:43:36.258841Z"
        },
        "origin_pos": 7,
        "tab": [
          "pytorch"
        ],
        "id": "29feac8e"
      },
      "outputs": [],
      "source": [
        "class AlexNet(d2l.Classifier):\n",
        "    def __init__(self, lr=0.1, num_classes=10):\n",
        "        super().__init__()\n",
        "        self.save_hyperparameters()\n",
        "        self.net = nn.Sequential(\n",
        "            nn.LazyConv2d(96, kernel_size=11, stride=4, padding=1),\n",
        "            nn.ReLU(), nn.MaxPool2d(kernel_size=3, stride=2),\n",
        "            nn.LazyConv2d(256, kernel_size=5, padding=2), nn.ReLU(),\n",
        "            nn.MaxPool2d(kernel_size=3, stride=2),\n",
        "            nn.LazyConv2d(384, kernel_size=3, padding=1), nn.ReLU(),\n",
        "            nn.LazyConv2d(384, kernel_size=3, padding=1), nn.ReLU(),\n",
        "            nn.LazyConv2d(256, kernel_size=3, padding=1), nn.ReLU(),\n",
        "            nn.MaxPool2d(kernel_size=3, stride=2), nn.Flatten(),\n",
        "            nn.LazyLinear(4096), nn.ReLU(), nn.Dropout(p=0.5),\n",
        "            nn.LazyLinear(4096), nn.ReLU(),nn.Dropout(p=0.5),\n",
        "            nn.LazyLinear(num_classes))\n",
        "        self.net.apply(d2l.init_cnn)"
      ]
    },
    {
      "cell_type": "markdown",
      "id": "59e725f1",
      "metadata": {
        "origin_pos": 9,
        "id": "59e725f1"
      },
      "source": [
        "We [**construct a single-channel data example**] with both height and width of 224 (**to observe the output shape of each layer**). It matches the AlexNet architecture in :numref:`fig_alexnet`.\n"
      ]
    },
    {
      "cell_type": "code",
      "execution_count": null,
      "id": "3d5c2c0a",
      "metadata": {
        "attributes": {
          "classes": [],
          "id": "",
          "n": "6"
        },
        "execution": {
          "iopub.execute_input": "2023-08-18T19:43:36.262984Z",
          "iopub.status.busy": "2023-08-18T19:43:36.262447Z",
          "iopub.status.idle": "2023-08-18T19:43:36.786362Z",
          "shell.execute_reply": "2023-08-18T19:43:36.785437Z"
        },
        "origin_pos": 10,
        "tab": [
          "pytorch"
        ],
        "id": "3d5c2c0a",
        "outputId": "0c80ad33-8df2-4b08-ba44-247a5d24e268",
        "colab": {
          "base_uri": "https://localhost:8080/"
        }
      },
      "outputs": [
        {
          "output_type": "stream",
          "name": "stdout",
          "text": [
            "Conv2d output shape:\t torch.Size([1, 96, 54, 54])\n",
            "ReLU output shape:\t torch.Size([1, 96, 54, 54])\n",
            "MaxPool2d output shape:\t torch.Size([1, 96, 26, 26])\n",
            "Conv2d output shape:\t torch.Size([1, 256, 26, 26])\n",
            "ReLU output shape:\t torch.Size([1, 256, 26, 26])\n",
            "MaxPool2d output shape:\t torch.Size([1, 256, 12, 12])\n",
            "Conv2d output shape:\t torch.Size([1, 384, 12, 12])\n",
            "ReLU output shape:\t torch.Size([1, 384, 12, 12])\n",
            "Conv2d output shape:\t torch.Size([1, 384, 12, 12])\n",
            "ReLU output shape:\t torch.Size([1, 384, 12, 12])\n",
            "Conv2d output shape:\t torch.Size([1, 256, 12, 12])\n",
            "ReLU output shape:\t torch.Size([1, 256, 12, 12])\n",
            "MaxPool2d output shape:\t torch.Size([1, 256, 5, 5])\n",
            "Flatten output shape:\t torch.Size([1, 6400])\n",
            "Linear output shape:\t torch.Size([1, 4096])\n",
            "ReLU output shape:\t torch.Size([1, 4096])\n",
            "Dropout output shape:\t torch.Size([1, 4096])\n",
            "Linear output shape:\t torch.Size([1, 4096])\n",
            "ReLU output shape:\t torch.Size([1, 4096])\n",
            "Dropout output shape:\t torch.Size([1, 4096])\n",
            "Linear output shape:\t torch.Size([1, 10])\n"
          ]
        }
      ],
      "source": [
        "AlexNet().layer_summary((1, 1, 224, 224))"
      ]
    },
    {
      "cell_type": "markdown",
      "id": "193ba4c7",
      "metadata": {
        "origin_pos": 13,
        "id": "193ba4c7"
      },
      "source": [
        "## Training\n",
        "\n",
        "Although AlexNet was trained on ImageNet in :citet:`Krizhevsky.Sutskever.Hinton.2012`,\n",
        "we use Fashion-MNIST here\n",
        "since training an ImageNet model to convergence could take hours or days\n",
        "even on a modern GPU.\n",
        "One of the problems with applying AlexNet directly on [**Fashion-MNIST**]\n",
        "is that its (**images have lower resolution**) ($28 \\times 28$ pixels)\n",
        "(**than ImageNet images.**)\n",
        "To make things work, (**we upsample them to $224 \\times 224$**).\n",
        "This is generally not a smart practice, as it simply increases the computational\n",
        "complexity without adding information. Nonetheless, we do it here to be faithful to the AlexNet architecture.\n",
        "We perform this resizing with the `resize` argument in the `d2l.FashionMNIST` constructor.\n",
        "\n",
        "Now, we can [**start training AlexNet.**]\n",
        "Compared to LeNet in :numref:`sec_lenet`,\n",
        "the main change here is the use of a smaller learning rate\n",
        "and much slower training due to the deeper and wider network,\n",
        "the higher image resolution, and the more costly convolutions.\n"
      ]
    },
    {
      "cell_type": "code",
      "execution_count": null,
      "id": "acd6a3e0",
      "metadata": {
        "attributes": {
          "classes": [],
          "id": "",
          "n": "8"
        },
        "execution": {
          "iopub.execute_input": "2023-08-18T19:43:36.789914Z",
          "iopub.status.busy": "2023-08-18T19:43:36.789357Z",
          "iopub.status.idle": "2023-08-18T19:46:37.458518Z",
          "shell.execute_reply": "2023-08-18T19:46:37.457483Z"
        },
        "origin_pos": 14,
        "tab": [
          "pytorch"
        ],
        "id": "acd6a3e0",
        "outputId": "82ce7565-4cd0-4cc8-f775-7c77f2f79a73",
        "colab": {
          "base_uri": "https://localhost:8080/",
          "height": 265
        }
      },
      "outputs": [
        {
          "output_type": "display_data",
          "data": {
            "text/plain": [
              "<Figure size 350x250 with 1 Axes>"
            ],
            "image/svg+xml": "<?xml version=\"1.0\" encoding=\"utf-8\" standalone=\"no\"?>\n<!DOCTYPE svg PUBLIC \"-//W3C//DTD SVG 1.1//EN\"\n  \"http://www.w3.org/Graphics/SVG/1.1/DTD/svg11.dtd\">\n<svg xmlns:xlink=\"http://www.w3.org/1999/xlink\" width=\"238.965625pt\" height=\"183.35625pt\" viewBox=\"0 0 238.965625 183.35625\" xmlns=\"http://www.w3.org/2000/svg\" version=\"1.1\">\n <metadata>\n  <rdf:RDF xmlns:dc=\"http://purl.org/dc/elements/1.1/\" xmlns:cc=\"http://creativecommons.org/ns#\" xmlns:rdf=\"http://www.w3.org/1999/02/22-rdf-syntax-ns#\">\n   <cc:Work>\n    <dc:type rdf:resource=\"http://purl.org/dc/dcmitype/StillImage\"/>\n    <dc:date>2024-09-29T08:51:44.381735</dc:date>\n    <dc:format>image/svg+xml</dc:format>\n    <dc:creator>\n     <cc:Agent>\n      <dc:title>Matplotlib v3.7.2, https://matplotlib.org/</dc:title>\n     </cc:Agent>\n    </dc:creator>\n   </cc:Work>\n  </rdf:RDF>\n </metadata>\n <defs>\n  <style type=\"text/css\">*{stroke-linejoin: round; stroke-linecap: butt}</style>\n </defs>\n <g id=\"figure_1\">\n  <g id=\"patch_1\">\n   <path d=\"M 0 183.35625 \nL 238.965625 183.35625 \nL 238.965625 0 \nL 0 0 \nz\n\" style=\"fill: #ffffff\"/>\n  </g>\n  <g id=\"axes_1\">\n   <g id=\"patch_2\">\n    <path d=\"M 30.103125 145.8 \nL 225.403125 145.8 \nL 225.403125 7.2 \nL 30.103125 7.2 \nz\n\" style=\"fill: #ffffff\"/>\n   </g>\n   <g id=\"matplotlib.axis_1\">\n    <g id=\"xtick_1\">\n     <g id=\"line2d_1\">\n      <defs>\n       <path id=\"md47ad17b55\" d=\"M 0 0 \nL 0 3.5 \n\" style=\"stroke: #000000; stroke-width: 0.8\"/>\n      </defs>\n      <g>\n       <use xlink:href=\"#md47ad17b55\" x=\"30.103125\" y=\"145.8\" style=\"stroke: #000000; stroke-width: 0.8\"/>\n      </g>\n     </g>\n     <g id=\"text_1\">\n      <!-- 0 -->\n      <g transform=\"translate(26.921875 160.398438) scale(0.1 -0.1)\">\n       <defs>\n        <path id=\"DejaVuSans-30\" d=\"M 2034 4250 \nQ 1547 4250 1301 3770 \nQ 1056 3291 1056 2328 \nQ 1056 1369 1301 889 \nQ 1547 409 2034 409 \nQ 2525 409 2770 889 \nQ 3016 1369 3016 2328 \nQ 3016 3291 2770 3770 \nQ 2525 4250 2034 4250 \nz\nM 2034 4750 \nQ 2819 4750 3233 4129 \nQ 3647 3509 3647 2328 \nQ 3647 1150 3233 529 \nQ 2819 -91 2034 -91 \nQ 1250 -91 836 529 \nQ 422 1150 422 2328 \nQ 422 3509 836 4129 \nQ 1250 4750 2034 4750 \nz\n\" transform=\"scale(0.015625)\"/>\n       </defs>\n       <use xlink:href=\"#DejaVuSans-30\"/>\n      </g>\n     </g>\n    </g>\n    <g id=\"xtick_2\">\n     <g id=\"line2d_2\">\n      <g>\n       <use xlink:href=\"#md47ad17b55\" x=\"69.163125\" y=\"145.8\" style=\"stroke: #000000; stroke-width: 0.8\"/>\n      </g>\n     </g>\n     <g id=\"text_2\">\n      <!-- 2 -->\n      <g transform=\"translate(65.981875 160.398438) scale(0.1 -0.1)\">\n       <defs>\n        <path id=\"DejaVuSans-32\" d=\"M 1228 531 \nL 3431 531 \nL 3431 0 \nL 469 0 \nL 469 531 \nQ 828 903 1448 1529 \nQ 2069 2156 2228 2338 \nQ 2531 2678 2651 2914 \nQ 2772 3150 2772 3378 \nQ 2772 3750 2511 3984 \nQ 2250 4219 1831 4219 \nQ 1534 4219 1204 4116 \nQ 875 4013 500 3803 \nL 500 4441 \nQ 881 4594 1212 4672 \nQ 1544 4750 1819 4750 \nQ 2544 4750 2975 4387 \nQ 3406 4025 3406 3419 \nQ 3406 3131 3298 2873 \nQ 3191 2616 2906 2266 \nQ 2828 2175 2409 1742 \nQ 1991 1309 1228 531 \nz\n\" transform=\"scale(0.015625)\"/>\n       </defs>\n       <use xlink:href=\"#DejaVuSans-32\"/>\n      </g>\n     </g>\n    </g>\n    <g id=\"xtick_3\">\n     <g id=\"line2d_3\">\n      <g>\n       <use xlink:href=\"#md47ad17b55\" x=\"108.223125\" y=\"145.8\" style=\"stroke: #000000; stroke-width: 0.8\"/>\n      </g>\n     </g>\n     <g id=\"text_3\">\n      <!-- 4 -->\n      <g transform=\"translate(105.041875 160.398438) scale(0.1 -0.1)\">\n       <defs>\n        <path id=\"DejaVuSans-34\" d=\"M 2419 4116 \nL 825 1625 \nL 2419 1625 \nL 2419 4116 \nz\nM 2253 4666 \nL 3047 4666 \nL 3047 1625 \nL 3713 1625 \nL 3713 1100 \nL 3047 1100 \nL 3047 0 \nL 2419 0 \nL 2419 1100 \nL 313 1100 \nL 313 1709 \nL 2253 4666 \nz\n\" transform=\"scale(0.015625)\"/>\n       </defs>\n       <use xlink:href=\"#DejaVuSans-34\"/>\n      </g>\n     </g>\n    </g>\n    <g id=\"xtick_4\">\n     <g id=\"line2d_4\">\n      <g>\n       <use xlink:href=\"#md47ad17b55\" x=\"147.283125\" y=\"145.8\" style=\"stroke: #000000; stroke-width: 0.8\"/>\n      </g>\n     </g>\n     <g id=\"text_4\">\n      <!-- 6 -->\n      <g transform=\"translate(144.101875 160.398438) scale(0.1 -0.1)\">\n       <defs>\n        <path id=\"DejaVuSans-36\" d=\"M 2113 2584 \nQ 1688 2584 1439 2293 \nQ 1191 2003 1191 1497 \nQ 1191 994 1439 701 \nQ 1688 409 2113 409 \nQ 2538 409 2786 701 \nQ 3034 994 3034 1497 \nQ 3034 2003 2786 2293 \nQ 2538 2584 2113 2584 \nz\nM 3366 4563 \nL 3366 3988 \nQ 3128 4100 2886 4159 \nQ 2644 4219 2406 4219 \nQ 1781 4219 1451 3797 \nQ 1122 3375 1075 2522 \nQ 1259 2794 1537 2939 \nQ 1816 3084 2150 3084 \nQ 2853 3084 3261 2657 \nQ 3669 2231 3669 1497 \nQ 3669 778 3244 343 \nQ 2819 -91 2113 -91 \nQ 1303 -91 875 529 \nQ 447 1150 447 2328 \nQ 447 3434 972 4092 \nQ 1497 4750 2381 4750 \nQ 2619 4750 2861 4703 \nQ 3103 4656 3366 4563 \nz\n\" transform=\"scale(0.015625)\"/>\n       </defs>\n       <use xlink:href=\"#DejaVuSans-36\"/>\n      </g>\n     </g>\n    </g>\n    <g id=\"xtick_5\">\n     <g id=\"line2d_5\">\n      <g>\n       <use xlink:href=\"#md47ad17b55\" x=\"186.343125\" y=\"145.8\" style=\"stroke: #000000; stroke-width: 0.8\"/>\n      </g>\n     </g>\n     <g id=\"text_5\">\n      <!-- 8 -->\n      <g transform=\"translate(183.161875 160.398438) scale(0.1 -0.1)\">\n       <defs>\n        <path id=\"DejaVuSans-38\" d=\"M 2034 2216 \nQ 1584 2216 1326 1975 \nQ 1069 1734 1069 1313 \nQ 1069 891 1326 650 \nQ 1584 409 2034 409 \nQ 2484 409 2743 651 \nQ 3003 894 3003 1313 \nQ 3003 1734 2745 1975 \nQ 2488 2216 2034 2216 \nz\nM 1403 2484 \nQ 997 2584 770 2862 \nQ 544 3141 544 3541 \nQ 544 4100 942 4425 \nQ 1341 4750 2034 4750 \nQ 2731 4750 3128 4425 \nQ 3525 4100 3525 3541 \nQ 3525 3141 3298 2862 \nQ 3072 2584 2669 2484 \nQ 3125 2378 3379 2068 \nQ 3634 1759 3634 1313 \nQ 3634 634 3220 271 \nQ 2806 -91 2034 -91 \nQ 1263 -91 848 271 \nQ 434 634 434 1313 \nQ 434 1759 690 2068 \nQ 947 2378 1403 2484 \nz\nM 1172 3481 \nQ 1172 3119 1398 2916 \nQ 1625 2713 2034 2713 \nQ 2441 2713 2670 2916 \nQ 2900 3119 2900 3481 \nQ 2900 3844 2670 4047 \nQ 2441 4250 2034 4250 \nQ 1625 4250 1398 4047 \nQ 1172 3844 1172 3481 \nz\n\" transform=\"scale(0.015625)\"/>\n       </defs>\n       <use xlink:href=\"#DejaVuSans-38\"/>\n      </g>\n     </g>\n    </g>\n    <g id=\"xtick_6\">\n     <g id=\"line2d_6\">\n      <g>\n       <use xlink:href=\"#md47ad17b55\" x=\"225.403125\" y=\"145.8\" style=\"stroke: #000000; stroke-width: 0.8\"/>\n      </g>\n     </g>\n     <g id=\"text_6\">\n      <!-- 10 -->\n      <g transform=\"translate(219.040625 160.398438) scale(0.1 -0.1)\">\n       <defs>\n        <path id=\"DejaVuSans-31\" d=\"M 794 531 \nL 1825 531 \nL 1825 4091 \nL 703 3866 \nL 703 4441 \nL 1819 4666 \nL 2450 4666 \nL 2450 531 \nL 3481 531 \nL 3481 0 \nL 794 0 \nL 794 531 \nz\n\" transform=\"scale(0.015625)\"/>\n       </defs>\n       <use xlink:href=\"#DejaVuSans-31\"/>\n       <use xlink:href=\"#DejaVuSans-30\" x=\"63.623047\"/>\n      </g>\n     </g>\n    </g>\n    <g id=\"text_7\">\n     <!-- epoch -->\n     <g transform=\"translate(112.525 174.076563) scale(0.1 -0.1)\">\n      <defs>\n       <path id=\"DejaVuSans-65\" d=\"M 3597 1894 \nL 3597 1613 \nL 953 1613 \nQ 991 1019 1311 708 \nQ 1631 397 2203 397 \nQ 2534 397 2845 478 \nQ 3156 559 3463 722 \nL 3463 178 \nQ 3153 47 2828 -22 \nQ 2503 -91 2169 -91 \nQ 1331 -91 842 396 \nQ 353 884 353 1716 \nQ 353 2575 817 3079 \nQ 1281 3584 2069 3584 \nQ 2775 3584 3186 3129 \nQ 3597 2675 3597 1894 \nz\nM 3022 2063 \nQ 3016 2534 2758 2815 \nQ 2500 3097 2075 3097 \nQ 1594 3097 1305 2825 \nQ 1016 2553 972 2059 \nL 3022 2063 \nz\n\" transform=\"scale(0.015625)\"/>\n       <path id=\"DejaVuSans-70\" d=\"M 1159 525 \nL 1159 -1331 \nL 581 -1331 \nL 581 3500 \nL 1159 3500 \nL 1159 2969 \nQ 1341 3281 1617 3432 \nQ 1894 3584 2278 3584 \nQ 2916 3584 3314 3078 \nQ 3713 2572 3713 1747 \nQ 3713 922 3314 415 \nQ 2916 -91 2278 -91 \nQ 1894 -91 1617 61 \nQ 1341 213 1159 525 \nz\nM 3116 1747 \nQ 3116 2381 2855 2742 \nQ 2594 3103 2138 3103 \nQ 1681 3103 1420 2742 \nQ 1159 2381 1159 1747 \nQ 1159 1113 1420 752 \nQ 1681 391 2138 391 \nQ 2594 391 2855 752 \nQ 3116 1113 3116 1747 \nz\n\" transform=\"scale(0.015625)\"/>\n       <path id=\"DejaVuSans-6f\" d=\"M 1959 3097 \nQ 1497 3097 1228 2736 \nQ 959 2375 959 1747 \nQ 959 1119 1226 758 \nQ 1494 397 1959 397 \nQ 2419 397 2687 759 \nQ 2956 1122 2956 1747 \nQ 2956 2369 2687 2733 \nQ 2419 3097 1959 3097 \nz\nM 1959 3584 \nQ 2709 3584 3137 3096 \nQ 3566 2609 3566 1747 \nQ 3566 888 3137 398 \nQ 2709 -91 1959 -91 \nQ 1206 -91 779 398 \nQ 353 888 353 1747 \nQ 353 2609 779 3096 \nQ 1206 3584 1959 3584 \nz\n\" transform=\"scale(0.015625)\"/>\n       <path id=\"DejaVuSans-63\" d=\"M 3122 3366 \nL 3122 2828 \nQ 2878 2963 2633 3030 \nQ 2388 3097 2138 3097 \nQ 1578 3097 1268 2742 \nQ 959 2388 959 1747 \nQ 959 1106 1268 751 \nQ 1578 397 2138 397 \nQ 2388 397 2633 464 \nQ 2878 531 3122 666 \nL 3122 134 \nQ 2881 22 2623 -34 \nQ 2366 -91 2075 -91 \nQ 1284 -91 818 406 \nQ 353 903 353 1747 \nQ 353 2603 823 3093 \nQ 1294 3584 2113 3584 \nQ 2378 3584 2631 3529 \nQ 2884 3475 3122 3366 \nz\n\" transform=\"scale(0.015625)\"/>\n       <path id=\"DejaVuSans-68\" d=\"M 3513 2113 \nL 3513 0 \nL 2938 0 \nL 2938 2094 \nQ 2938 2591 2744 2837 \nQ 2550 3084 2163 3084 \nQ 1697 3084 1428 2787 \nQ 1159 2491 1159 1978 \nL 1159 0 \nL 581 0 \nL 581 4863 \nL 1159 4863 \nL 1159 2956 \nQ 1366 3272 1645 3428 \nQ 1925 3584 2291 3584 \nQ 2894 3584 3203 3211 \nQ 3513 2838 3513 2113 \nz\n\" transform=\"scale(0.015625)\"/>\n      </defs>\n      <use xlink:href=\"#DejaVuSans-65\"/>\n      <use xlink:href=\"#DejaVuSans-70\" x=\"61.523438\"/>\n      <use xlink:href=\"#DejaVuSans-6f\" x=\"125\"/>\n      <use xlink:href=\"#DejaVuSans-63\" x=\"186.181641\"/>\n      <use xlink:href=\"#DejaVuSans-68\" x=\"241.162109\"/>\n     </g>\n    </g>\n   </g>\n   <g id=\"matplotlib.axis_2\">\n    <g id=\"ytick_1\">\n     <g id=\"line2d_7\">\n      <defs>\n       <path id=\"mc82ff8ddfb\" d=\"M 0 0 \nL -3.5 0 \n\" style=\"stroke: #000000; stroke-width: 0.8\"/>\n      </defs>\n      <g>\n       <use xlink:href=\"#mc82ff8ddfb\" x=\"30.103125\" y=\"125.50072\" style=\"stroke: #000000; stroke-width: 0.8\"/>\n      </g>\n     </g>\n     <g id=\"text_8\">\n      <!-- 0.5 -->\n      <g transform=\"translate(7.2 129.299938) scale(0.1 -0.1)\">\n       <defs>\n        <path id=\"DejaVuSans-2e\" d=\"M 684 794 \nL 1344 794 \nL 1344 0 \nL 684 0 \nL 684 794 \nz\n\" transform=\"scale(0.015625)\"/>\n        <path id=\"DejaVuSans-35\" d=\"M 691 4666 \nL 3169 4666 \nL 3169 4134 \nL 1269 4134 \nL 1269 2991 \nQ 1406 3038 1543 3061 \nQ 1681 3084 1819 3084 \nQ 2600 3084 3056 2656 \nQ 3513 2228 3513 1497 \nQ 3513 744 3044 326 \nQ 2575 -91 1722 -91 \nQ 1428 -91 1123 -41 \nQ 819 9 494 109 \nL 494 744 \nQ 775 591 1075 516 \nQ 1375 441 1709 441 \nQ 2250 441 2565 725 \nQ 2881 1009 2881 1497 \nQ 2881 1984 2565 2268 \nQ 2250 2553 1709 2553 \nQ 1456 2553 1204 2497 \nQ 953 2441 691 2322 \nL 691 4666 \nz\n\" transform=\"scale(0.015625)\"/>\n       </defs>\n       <use xlink:href=\"#DejaVuSans-30\"/>\n       <use xlink:href=\"#DejaVuSans-2e\" x=\"63.623047\"/>\n       <use xlink:href=\"#DejaVuSans-35\" x=\"95.410156\"/>\n      </g>\n     </g>\n    </g>\n    <g id=\"ytick_2\">\n     <g id=\"line2d_8\">\n      <g>\n       <use xlink:href=\"#mc82ff8ddfb\" x=\"30.103125\" y=\"94.429446\" style=\"stroke: #000000; stroke-width: 0.8\"/>\n      </g>\n     </g>\n     <g id=\"text_9\">\n      <!-- 1.0 -->\n      <g transform=\"translate(7.2 98.228665) scale(0.1 -0.1)\">\n       <use xlink:href=\"#DejaVuSans-31\"/>\n       <use xlink:href=\"#DejaVuSans-2e\" x=\"63.623047\"/>\n       <use xlink:href=\"#DejaVuSans-30\" x=\"95.410156\"/>\n      </g>\n     </g>\n    </g>\n    <g id=\"ytick_3\">\n     <g id=\"line2d_9\">\n      <g>\n       <use xlink:href=\"#mc82ff8ddfb\" x=\"30.103125\" y=\"63.358173\" style=\"stroke: #000000; stroke-width: 0.8\"/>\n      </g>\n     </g>\n     <g id=\"text_10\">\n      <!-- 1.5 -->\n      <g transform=\"translate(7.2 67.157391) scale(0.1 -0.1)\">\n       <use xlink:href=\"#DejaVuSans-31\"/>\n       <use xlink:href=\"#DejaVuSans-2e\" x=\"63.623047\"/>\n       <use xlink:href=\"#DejaVuSans-35\" x=\"95.410156\"/>\n      </g>\n     </g>\n    </g>\n    <g id=\"ytick_4\">\n     <g id=\"line2d_10\">\n      <g>\n       <use xlink:href=\"#mc82ff8ddfb\" x=\"30.103125\" y=\"32.286899\" style=\"stroke: #000000; stroke-width: 0.8\"/>\n      </g>\n     </g>\n     <g id=\"text_11\">\n      <!-- 2.0 -->\n      <g transform=\"translate(7.2 36.086118) scale(0.1 -0.1)\">\n       <use xlink:href=\"#DejaVuSans-32\"/>\n       <use xlink:href=\"#DejaVuSans-2e\" x=\"63.623047\"/>\n       <use xlink:href=\"#DejaVuSans-30\" x=\"95.410156\"/>\n      </g>\n     </g>\n    </g>\n   </g>\n   <g id=\"line2d_11\">\n    <path d=\"M 34.954394 13.5 \n\" clip-path=\"url(#pb41b811729)\" style=\"fill: none; stroke: #1f77b4; stroke-width: 1.5; stroke-linecap: square\"/>\n   </g>\n   <g id=\"line2d_12\">\n    <path d=\"M 34.954394 13.5 \nL 44.698573 13.5471 \n\" clip-path=\"url(#pb41b811729)\" style=\"fill: none; stroke: #1f77b4; stroke-width: 1.5; stroke-linecap: square\"/>\n   </g>\n   <g id=\"line2d_13\">\n    <path d=\"M 34.954394 13.5 \nL 44.698573 13.5471 \n\" clip-path=\"url(#pb41b811729)\" style=\"fill: none; stroke: #1f77b4; stroke-width: 1.5; stroke-linecap: square\"/>\n   </g>\n   <g id=\"line2d_14\">\n    <path d=\"M 49.633125 13.596984 \n\" clip-path=\"url(#pb41b811729)\" style=\"fill: none; stroke-dasharray: 5.55,2.4; stroke-dashoffset: 0; stroke: #ff7f0e; stroke-width: 1.5\"/>\n   </g>\n   <g id=\"line2d_15\"/>\n   <g id=\"line2d_16\">\n    <path d=\"M 34.954394 13.5 \nL 44.698573 13.5471 \n\" clip-path=\"url(#pb41b811729)\" style=\"fill: none; stroke: #1f77b4; stroke-width: 1.5; stroke-linecap: square\"/>\n   </g>\n   <g id=\"line2d_17\">\n    <path d=\"M 49.633125 13.596984 \n\" clip-path=\"url(#pb41b811729)\" style=\"fill: none; stroke-dasharray: 5.55,2.4; stroke-dashoffset: 0; stroke: #ff7f0e; stroke-width: 1.5\"/>\n   </g>\n   <g id=\"line2d_18\">\n    <path d=\"M 49.633125 138.664222 \n\" clip-path=\"url(#pb41b811729)\" style=\"fill: none; stroke-dasharray: 9.6,2.4,1.5,2.4; stroke-dashoffset: 0; stroke: #2ca02c; stroke-width: 1.5\"/>\n   </g>\n   <g id=\"line2d_19\">\n    <path d=\"M 34.954394 13.5 \nL 44.698573 13.5471 \nL 54.442752 13.646959 \n\" clip-path=\"url(#pb41b811729)\" style=\"fill: none; stroke: #1f77b4; stroke-width: 1.5; stroke-linecap: square\"/>\n   </g>\n   <g id=\"line2d_20\">\n    <path d=\"M 49.633125 13.596984 \n\" clip-path=\"url(#pb41b811729)\" style=\"fill: none; stroke-dasharray: 5.55,2.4; stroke-dashoffset: 0; stroke: #ff7f0e; stroke-width: 1.5\"/>\n   </g>\n   <g id=\"line2d_21\">\n    <path d=\"M 49.633125 138.664222 \n\" clip-path=\"url(#pb41b811729)\" style=\"fill: none; stroke-dasharray: 9.6,2.4,1.5,2.4; stroke-dashoffset: 0; stroke: #2ca02c; stroke-width: 1.5\"/>\n   </g>\n   <g id=\"line2d_22\">\n    <path d=\"M 34.954394 13.5 \nL 44.698573 13.5471 \nL 54.442752 13.646959 \nL 64.186931 13.950495 \n\" clip-path=\"url(#pb41b811729)\" style=\"fill: none; stroke: #1f77b4; stroke-width: 1.5; stroke-linecap: square\"/>\n   </g>\n   <g id=\"line2d_23\">\n    <path d=\"M 49.633125 13.596984 \n\" clip-path=\"url(#pb41b811729)\" style=\"fill: none; stroke-dasharray: 5.55,2.4; stroke-dashoffset: 0; stroke: #ff7f0e; stroke-width: 1.5\"/>\n   </g>\n   <g id=\"line2d_24\">\n    <path d=\"M 49.633125 138.664222 \n\" clip-path=\"url(#pb41b811729)\" style=\"fill: none; stroke-dasharray: 9.6,2.4,1.5,2.4; stroke-dashoffset: 0; stroke: #2ca02c; stroke-width: 1.5\"/>\n   </g>\n   <g id=\"line2d_25\">\n    <path d=\"M 34.954394 13.5 \nL 44.698573 13.5471 \nL 54.442752 13.646959 \nL 64.186931 13.950495 \n\" clip-path=\"url(#pb41b811729)\" style=\"fill: none; stroke: #1f77b4; stroke-width: 1.5; stroke-linecap: square\"/>\n   </g>\n   <g id=\"line2d_26\">\n    <path d=\"M 49.633125 13.596984 \nL 69.163125 14.566428 \n\" clip-path=\"url(#pb41b811729)\" style=\"fill: none; stroke-dasharray: 5.55,2.4; stroke-dashoffset: 0; stroke: #ff7f0e; stroke-width: 1.5\"/>\n   </g>\n   <g id=\"line2d_27\">\n    <path d=\"M 49.633125 138.664222 \n\" clip-path=\"url(#pb41b811729)\" style=\"fill: none; stroke-dasharray: 9.6,2.4,1.5,2.4; stroke-dashoffset: 0; stroke: #2ca02c; stroke-width: 1.5\"/>\n   </g>\n   <g id=\"line2d_28\">\n    <path d=\"M 34.954394 13.5 \nL 44.698573 13.5471 \nL 54.442752 13.646959 \nL 64.186931 13.950495 \n\" clip-path=\"url(#pb41b811729)\" style=\"fill: none; stroke: #1f77b4; stroke-width: 1.5; stroke-linecap: square\"/>\n   </g>\n   <g id=\"line2d_29\">\n    <path d=\"M 49.633125 13.596984 \nL 69.163125 14.566428 \n\" clip-path=\"url(#pb41b811729)\" style=\"fill: none; stroke-dasharray: 5.55,2.4; stroke-dashoffset: 0; stroke: #ff7f0e; stroke-width: 1.5\"/>\n   </g>\n   <g id=\"line2d_30\">\n    <path d=\"M 49.633125 138.664222 \nL 69.163125 139.5 \n\" clip-path=\"url(#pb41b811729)\" style=\"fill: none; stroke-dasharray: 9.6,2.4,1.5,2.4; stroke-dashoffset: 0; stroke: #2ca02c; stroke-width: 1.5\"/>\n   </g>\n   <g id=\"line2d_31\">\n    <path d=\"M 34.954394 13.5 \nL 44.698573 13.5471 \nL 54.442752 13.646959 \nL 64.186931 13.950495 \nL 73.93111 40.850032 \n\" clip-path=\"url(#pb41b811729)\" style=\"fill: none; stroke: #1f77b4; stroke-width: 1.5; stroke-linecap: square\"/>\n   </g>\n   <g id=\"line2d_32\">\n    <path d=\"M 49.633125 13.596984 \nL 69.163125 14.566428 \n\" clip-path=\"url(#pb41b811729)\" style=\"fill: none; stroke-dasharray: 5.55,2.4; stroke-dashoffset: 0; stroke: #ff7f0e; stroke-width: 1.5\"/>\n   </g>\n   <g id=\"line2d_33\">\n    <path d=\"M 49.633125 138.664222 \nL 69.163125 139.5 \n\" clip-path=\"url(#pb41b811729)\" style=\"fill: none; stroke-dasharray: 9.6,2.4,1.5,2.4; stroke-dashoffset: 0; stroke: #2ca02c; stroke-width: 1.5\"/>\n   </g>\n   <g id=\"line2d_34\">\n    <path d=\"M 34.954394 13.5 \nL 44.698573 13.5471 \nL 54.442752 13.646959 \nL 64.186931 13.950495 \nL 73.93111 40.850032 \nL 83.675289 89.927141 \n\" clip-path=\"url(#pb41b811729)\" style=\"fill: none; stroke: #1f77b4; stroke-width: 1.5; stroke-linecap: square\"/>\n   </g>\n   <g id=\"line2d_35\">\n    <path d=\"M 49.633125 13.596984 \nL 69.163125 14.566428 \n\" clip-path=\"url(#pb41b811729)\" style=\"fill: none; stroke-dasharray: 5.55,2.4; stroke-dashoffset: 0; stroke: #ff7f0e; stroke-width: 1.5\"/>\n   </g>\n   <g id=\"line2d_36\">\n    <path d=\"M 49.633125 138.664222 \nL 69.163125 139.5 \n\" clip-path=\"url(#pb41b811729)\" style=\"fill: none; stroke-dasharray: 9.6,2.4,1.5,2.4; stroke-dashoffset: 0; stroke: #2ca02c; stroke-width: 1.5\"/>\n   </g>\n   <g id=\"line2d_37\">\n    <path d=\"M 34.954394 13.5 \nL 44.698573 13.5471 \nL 54.442752 13.646959 \nL 64.186931 13.950495 \nL 73.93111 40.850032 \nL 83.675289 89.927141 \n\" clip-path=\"url(#pb41b811729)\" style=\"fill: none; stroke: #1f77b4; stroke-width: 1.5; stroke-linecap: square\"/>\n   </g>\n   <g id=\"line2d_38\">\n    <path d=\"M 49.633125 13.596984 \nL 69.163125 14.566428 \nL 88.693125 98.458068 \n\" clip-path=\"url(#pb41b811729)\" style=\"fill: none; stroke-dasharray: 5.55,2.4; stroke-dashoffset: 0; stroke: #ff7f0e; stroke-width: 1.5\"/>\n   </g>\n   <g id=\"line2d_39\">\n    <path d=\"M 49.633125 138.664222 \nL 69.163125 139.5 \n\" clip-path=\"url(#pb41b811729)\" style=\"fill: none; stroke-dasharray: 9.6,2.4,1.5,2.4; stroke-dashoffset: 0; stroke: #2ca02c; stroke-width: 1.5\"/>\n   </g>\n   <g id=\"line2d_40\">\n    <path d=\"M 34.954394 13.5 \nL 44.698573 13.5471 \nL 54.442752 13.646959 \nL 64.186931 13.950495 \nL 73.93111 40.850032 \nL 83.675289 89.927141 \n\" clip-path=\"url(#pb41b811729)\" style=\"fill: none; stroke: #1f77b4; stroke-width: 1.5; stroke-linecap: square\"/>\n   </g>\n   <g id=\"line2d_41\">\n    <path d=\"M 49.633125 13.596984 \nL 69.163125 14.566428 \nL 88.693125 98.458068 \n\" clip-path=\"url(#pb41b811729)\" style=\"fill: none; stroke-dasharray: 5.55,2.4; stroke-dashoffset: 0; stroke: #ff7f0e; stroke-width: 1.5\"/>\n   </g>\n   <g id=\"line2d_42\">\n    <path d=\"M 49.633125 138.664222 \nL 69.163125 139.5 \nL 88.693125 119.318421 \n\" clip-path=\"url(#pb41b811729)\" style=\"fill: none; stroke-dasharray: 9.6,2.4,1.5,2.4; stroke-dashoffset: 0; stroke: #2ca02c; stroke-width: 1.5\"/>\n   </g>\n   <g id=\"line2d_43\">\n    <path d=\"M 34.954394 13.5 \nL 44.698573 13.5471 \nL 54.442752 13.646959 \nL 64.186931 13.950495 \nL 73.93111 40.850032 \nL 83.675289 89.927141 \nL 93.419468 98.79232 \n\" clip-path=\"url(#pb41b811729)\" style=\"fill: none; stroke: #1f77b4; stroke-width: 1.5; stroke-linecap: square\"/>\n   </g>\n   <g id=\"line2d_44\">\n    <path d=\"M 49.633125 13.596984 \nL 69.163125 14.566428 \nL 88.693125 98.458068 \n\" clip-path=\"url(#pb41b811729)\" style=\"fill: none; stroke-dasharray: 5.55,2.4; stroke-dashoffset: 0; stroke: #ff7f0e; stroke-width: 1.5\"/>\n   </g>\n   <g id=\"line2d_45\">\n    <path d=\"M 49.633125 138.664222 \nL 69.163125 139.5 \nL 88.693125 119.318421 \n\" clip-path=\"url(#pb41b811729)\" style=\"fill: none; stroke-dasharray: 9.6,2.4,1.5,2.4; stroke-dashoffset: 0; stroke: #2ca02c; stroke-width: 1.5\"/>\n   </g>\n   <g id=\"line2d_46\">\n    <path d=\"M 34.954394 13.5 \nL 44.698573 13.5471 \nL 54.442752 13.646959 \nL 64.186931 13.950495 \nL 73.93111 40.850032 \nL 83.675289 89.927141 \nL 93.419468 98.79232 \nL 103.163647 104.055512 \n\" clip-path=\"url(#pb41b811729)\" style=\"fill: none; stroke: #1f77b4; stroke-width: 1.5; stroke-linecap: square\"/>\n   </g>\n   <g id=\"line2d_47\">\n    <path d=\"M 49.633125 13.596984 \nL 69.163125 14.566428 \nL 88.693125 98.458068 \n\" clip-path=\"url(#pb41b811729)\" style=\"fill: none; stroke-dasharray: 5.55,2.4; stroke-dashoffset: 0; stroke: #ff7f0e; stroke-width: 1.5\"/>\n   </g>\n   <g id=\"line2d_48\">\n    <path d=\"M 49.633125 138.664222 \nL 69.163125 139.5 \nL 88.693125 119.318421 \n\" clip-path=\"url(#pb41b811729)\" style=\"fill: none; stroke-dasharray: 9.6,2.4,1.5,2.4; stroke-dashoffset: 0; stroke: #2ca02c; stroke-width: 1.5\"/>\n   </g>\n   <g id=\"line2d_49\">\n    <path d=\"M 34.954394 13.5 \nL 44.698573 13.5471 \nL 54.442752 13.646959 \nL 64.186931 13.950495 \nL 73.93111 40.850032 \nL 83.675289 89.927141 \nL 93.419468 98.79232 \nL 103.163647 104.055512 \n\" clip-path=\"url(#pb41b811729)\" style=\"fill: none; stroke: #1f77b4; stroke-width: 1.5; stroke-linecap: square\"/>\n   </g>\n   <g id=\"line2d_50\">\n    <path d=\"M 49.633125 13.596984 \nL 69.163125 14.566428 \nL 88.693125 98.458068 \nL 108.223125 107.67924 \n\" clip-path=\"url(#pb41b811729)\" style=\"fill: none; stroke-dasharray: 5.55,2.4; stroke-dashoffset: 0; stroke: #ff7f0e; stroke-width: 1.5\"/>\n   </g>\n   <g id=\"line2d_51\">\n    <path d=\"M 49.633125 138.664222 \nL 69.163125 139.5 \nL 88.693125 119.318421 \n\" clip-path=\"url(#pb41b811729)\" style=\"fill: none; stroke-dasharray: 9.6,2.4,1.5,2.4; stroke-dashoffset: 0; stroke: #2ca02c; stroke-width: 1.5\"/>\n   </g>\n   <g id=\"line2d_52\">\n    <path d=\"M 34.954394 13.5 \nL 44.698573 13.5471 \nL 54.442752 13.646959 \nL 64.186931 13.950495 \nL 73.93111 40.850032 \nL 83.675289 89.927141 \nL 93.419468 98.79232 \nL 103.163647 104.055512 \n\" clip-path=\"url(#pb41b811729)\" style=\"fill: none; stroke: #1f77b4; stroke-width: 1.5; stroke-linecap: square\"/>\n   </g>\n   <g id=\"line2d_53\">\n    <path d=\"M 49.633125 13.596984 \nL 69.163125 14.566428 \nL 88.693125 98.458068 \nL 108.223125 107.67924 \n\" clip-path=\"url(#pb41b811729)\" style=\"fill: none; stroke-dasharray: 5.55,2.4; stroke-dashoffset: 0; stroke: #ff7f0e; stroke-width: 1.5\"/>\n   </g>\n   <g id=\"line2d_54\">\n    <path d=\"M 49.633125 138.664222 \nL 69.163125 139.5 \nL 88.693125 119.318421 \nL 108.223125 113.203722 \n\" clip-path=\"url(#pb41b811729)\" style=\"fill: none; stroke-dasharray: 9.6,2.4,1.5,2.4; stroke-dashoffset: 0; stroke: #2ca02c; stroke-width: 1.5\"/>\n   </g>\n   <g id=\"line2d_55\">\n    <path d=\"M 34.954394 13.5 \nL 44.698573 13.5471 \nL 54.442752 13.646959 \nL 64.186931 13.950495 \nL 73.93111 40.850032 \nL 83.675289 89.927141 \nL 93.419468 98.79232 \nL 103.163647 104.055512 \nL 112.907826 107.895319 \n\" clip-path=\"url(#pb41b811729)\" style=\"fill: none; stroke: #1f77b4; stroke-width: 1.5; stroke-linecap: square\"/>\n   </g>\n   <g id=\"line2d_56\">\n    <path d=\"M 49.633125 13.596984 \nL 69.163125 14.566428 \nL 88.693125 98.458068 \nL 108.223125 107.67924 \n\" clip-path=\"url(#pb41b811729)\" style=\"fill: none; stroke-dasharray: 5.55,2.4; stroke-dashoffset: 0; stroke: #ff7f0e; stroke-width: 1.5\"/>\n   </g>\n   <g id=\"line2d_57\">\n    <path d=\"M 49.633125 138.664222 \nL 69.163125 139.5 \nL 88.693125 119.318421 \nL 108.223125 113.203722 \n\" clip-path=\"url(#pb41b811729)\" style=\"fill: none; stroke-dasharray: 9.6,2.4,1.5,2.4; stroke-dashoffset: 0; stroke: #2ca02c; stroke-width: 1.5\"/>\n   </g>\n   <g id=\"line2d_58\">\n    <path d=\"M 34.954394 13.5 \nL 44.698573 13.5471 \nL 54.442752 13.646959 \nL 64.186931 13.950495 \nL 73.93111 40.850032 \nL 83.675289 89.927141 \nL 93.419468 98.79232 \nL 103.163647 104.055512 \nL 112.907826 107.895319 \nL 122.652006 110.705095 \n\" clip-path=\"url(#pb41b811729)\" style=\"fill: none; stroke: #1f77b4; stroke-width: 1.5; stroke-linecap: square\"/>\n   </g>\n   <g id=\"line2d_59\">\n    <path d=\"M 49.633125 13.596984 \nL 69.163125 14.566428 \nL 88.693125 98.458068 \nL 108.223125 107.67924 \n\" clip-path=\"url(#pb41b811729)\" style=\"fill: none; stroke-dasharray: 5.55,2.4; stroke-dashoffset: 0; stroke: #ff7f0e; stroke-width: 1.5\"/>\n   </g>\n   <g id=\"line2d_60\">\n    <path d=\"M 49.633125 138.664222 \nL 69.163125 139.5 \nL 88.693125 119.318421 \nL 108.223125 113.203722 \n\" clip-path=\"url(#pb41b811729)\" style=\"fill: none; stroke-dasharray: 9.6,2.4,1.5,2.4; stroke-dashoffset: 0; stroke: #2ca02c; stroke-width: 1.5\"/>\n   </g>\n   <g id=\"line2d_61\">\n    <path d=\"M 34.954394 13.5 \nL 44.698573 13.5471 \nL 54.442752 13.646959 \nL 64.186931 13.950495 \nL 73.93111 40.850032 \nL 83.675289 89.927141 \nL 93.419468 98.79232 \nL 103.163647 104.055512 \nL 112.907826 107.895319 \nL 122.652006 110.705095 \n\" clip-path=\"url(#pb41b811729)\" style=\"fill: none; stroke: #1f77b4; stroke-width: 1.5; stroke-linecap: square\"/>\n   </g>\n   <g id=\"line2d_62\">\n    <path d=\"M 49.633125 13.596984 \nL 69.163125 14.566428 \nL 88.693125 98.458068 \nL 108.223125 107.67924 \nL 127.753125 113.931565 \n\" clip-path=\"url(#pb41b811729)\" style=\"fill: none; stroke-dasharray: 5.55,2.4; stroke-dashoffset: 0; stroke: #ff7f0e; stroke-width: 1.5\"/>\n   </g>\n   <g id=\"line2d_63\">\n    <path d=\"M 49.633125 138.664222 \nL 69.163125 139.5 \nL 88.693125 119.318421 \nL 108.223125 113.203722 \n\" clip-path=\"url(#pb41b811729)\" style=\"fill: none; stroke-dasharray: 9.6,2.4,1.5,2.4; stroke-dashoffset: 0; stroke: #2ca02c; stroke-width: 1.5\"/>\n   </g>\n   <g id=\"line2d_64\">\n    <path d=\"M 34.954394 13.5 \nL 44.698573 13.5471 \nL 54.442752 13.646959 \nL 64.186931 13.950495 \nL 73.93111 40.850032 \nL 83.675289 89.927141 \nL 93.419468 98.79232 \nL 103.163647 104.055512 \nL 112.907826 107.895319 \nL 122.652006 110.705095 \n\" clip-path=\"url(#pb41b811729)\" style=\"fill: none; stroke: #1f77b4; stroke-width: 1.5; stroke-linecap: square\"/>\n   </g>\n   <g id=\"line2d_65\">\n    <path d=\"M 49.633125 13.596984 \nL 69.163125 14.566428 \nL 88.693125 98.458068 \nL 108.223125 107.67924 \nL 127.753125 113.931565 \n\" clip-path=\"url(#pb41b811729)\" style=\"fill: none; stroke-dasharray: 5.55,2.4; stroke-dashoffset: 0; stroke: #ff7f0e; stroke-width: 1.5\"/>\n   </g>\n   <g id=\"line2d_66\">\n    <path d=\"M 49.633125 138.664222 \nL 69.163125 139.5 \nL 88.693125 119.318421 \nL 108.223125 113.203722 \nL 127.753125 110.2109 \n\" clip-path=\"url(#pb41b811729)\" style=\"fill: none; stroke-dasharray: 9.6,2.4,1.5,2.4; stroke-dashoffset: 0; stroke: #2ca02c; stroke-width: 1.5\"/>\n   </g>\n   <g id=\"line2d_67\">\n    <path d=\"M 34.954394 13.5 \nL 44.698573 13.5471 \nL 54.442752 13.646959 \nL 64.186931 13.950495 \nL 73.93111 40.850032 \nL 83.675289 89.927141 \nL 93.419468 98.79232 \nL 103.163647 104.055512 \nL 112.907826 107.895319 \nL 122.652006 110.705095 \nL 132.396185 114.535998 \n\" clip-path=\"url(#pb41b811729)\" style=\"fill: none; stroke: #1f77b4; stroke-width: 1.5; stroke-linecap: square\"/>\n   </g>\n   <g id=\"line2d_68\">\n    <path d=\"M 49.633125 13.596984 \nL 69.163125 14.566428 \nL 88.693125 98.458068 \nL 108.223125 107.67924 \nL 127.753125 113.931565 \n\" clip-path=\"url(#pb41b811729)\" style=\"fill: none; stroke-dasharray: 5.55,2.4; stroke-dashoffset: 0; stroke: #ff7f0e; stroke-width: 1.5\"/>\n   </g>\n   <g id=\"line2d_69\">\n    <path d=\"M 49.633125 138.664222 \nL 69.163125 139.5 \nL 88.693125 119.318421 \nL 108.223125 113.203722 \nL 127.753125 110.2109 \n\" clip-path=\"url(#pb41b811729)\" style=\"fill: none; stroke-dasharray: 9.6,2.4,1.5,2.4; stroke-dashoffset: 0; stroke: #2ca02c; stroke-width: 1.5\"/>\n   </g>\n   <g id=\"line2d_70\">\n    <path d=\"M 34.954394 13.5 \nL 44.698573 13.5471 \nL 54.442752 13.646959 \nL 64.186931 13.950495 \nL 73.93111 40.850032 \nL 83.675289 89.927141 \nL 93.419468 98.79232 \nL 103.163647 104.055512 \nL 112.907826 107.895319 \nL 122.652006 110.705095 \nL 132.396185 114.535998 \nL 142.140364 117.022901 \n\" clip-path=\"url(#pb41b811729)\" style=\"fill: none; stroke: #1f77b4; stroke-width: 1.5; stroke-linecap: square\"/>\n   </g>\n   <g id=\"line2d_71\">\n    <path d=\"M 49.633125 13.596984 \nL 69.163125 14.566428 \nL 88.693125 98.458068 \nL 108.223125 107.67924 \nL 127.753125 113.931565 \n\" clip-path=\"url(#pb41b811729)\" style=\"fill: none; stroke-dasharray: 5.55,2.4; stroke-dashoffset: 0; stroke: #ff7f0e; stroke-width: 1.5\"/>\n   </g>\n   <g id=\"line2d_72\">\n    <path d=\"M 49.633125 138.664222 \nL 69.163125 139.5 \nL 88.693125 119.318421 \nL 108.223125 113.203722 \nL 127.753125 110.2109 \n\" clip-path=\"url(#pb41b811729)\" style=\"fill: none; stroke-dasharray: 9.6,2.4,1.5,2.4; stroke-dashoffset: 0; stroke: #2ca02c; stroke-width: 1.5\"/>\n   </g>\n   <g id=\"line2d_73\">\n    <path d=\"M 34.954394 13.5 \nL 44.698573 13.5471 \nL 54.442752 13.646959 \nL 64.186931 13.950495 \nL 73.93111 40.850032 \nL 83.675289 89.927141 \nL 93.419468 98.79232 \nL 103.163647 104.055512 \nL 112.907826 107.895319 \nL 122.652006 110.705095 \nL 132.396185 114.535998 \nL 142.140364 117.022901 \n\" clip-path=\"url(#pb41b811729)\" style=\"fill: none; stroke: #1f77b4; stroke-width: 1.5; stroke-linecap: square\"/>\n   </g>\n   <g id=\"line2d_74\">\n    <path d=\"M 49.633125 13.596984 \nL 69.163125 14.566428 \nL 88.693125 98.458068 \nL 108.223125 107.67924 \nL 127.753125 113.931565 \nL 147.283125 118.540134 \n\" clip-path=\"url(#pb41b811729)\" style=\"fill: none; stroke-dasharray: 5.55,2.4; stroke-dashoffset: 0; stroke: #ff7f0e; stroke-width: 1.5\"/>\n   </g>\n   <g id=\"line2d_75\">\n    <path d=\"M 49.633125 138.664222 \nL 69.163125 139.5 \nL 88.693125 119.318421 \nL 108.223125 113.203722 \nL 127.753125 110.2109 \n\" clip-path=\"url(#pb41b811729)\" style=\"fill: none; stroke-dasharray: 9.6,2.4,1.5,2.4; stroke-dashoffset: 0; stroke: #2ca02c; stroke-width: 1.5\"/>\n   </g>\n   <g id=\"line2d_76\">\n    <path d=\"M 34.954394 13.5 \nL 44.698573 13.5471 \nL 54.442752 13.646959 \nL 64.186931 13.950495 \nL 73.93111 40.850032 \nL 83.675289 89.927141 \nL 93.419468 98.79232 \nL 103.163647 104.055512 \nL 112.907826 107.895319 \nL 122.652006 110.705095 \nL 132.396185 114.535998 \nL 142.140364 117.022901 \n\" clip-path=\"url(#pb41b811729)\" style=\"fill: none; stroke: #1f77b4; stroke-width: 1.5; stroke-linecap: square\"/>\n   </g>\n   <g id=\"line2d_77\">\n    <path d=\"M 49.633125 13.596984 \nL 69.163125 14.566428 \nL 88.693125 98.458068 \nL 108.223125 107.67924 \nL 127.753125 113.931565 \nL 147.283125 118.540134 \n\" clip-path=\"url(#pb41b811729)\" style=\"fill: none; stroke-dasharray: 5.55,2.4; stroke-dashoffset: 0; stroke: #ff7f0e; stroke-width: 1.5\"/>\n   </g>\n   <g id=\"line2d_78\">\n    <path d=\"M 49.633125 138.664222 \nL 69.163125 139.5 \nL 88.693125 119.318421 \nL 108.223125 113.203722 \nL 127.753125 110.2109 \nL 147.283125 108.828179 \n\" clip-path=\"url(#pb41b811729)\" style=\"fill: none; stroke-dasharray: 9.6,2.4,1.5,2.4; stroke-dashoffset: 0; stroke: #2ca02c; stroke-width: 1.5\"/>\n   </g>\n   <g id=\"line2d_79\">\n    <path d=\"M 34.954394 13.5 \nL 44.698573 13.5471 \nL 54.442752 13.646959 \nL 64.186931 13.950495 \nL 73.93111 40.850032 \nL 83.675289 89.927141 \nL 93.419468 98.79232 \nL 103.163647 104.055512 \nL 112.907826 107.895319 \nL 122.652006 110.705095 \nL 132.396185 114.535998 \nL 142.140364 117.022901 \nL 151.884543 119.338811 \n\" clip-path=\"url(#pb41b811729)\" style=\"fill: none; stroke: #1f77b4; stroke-width: 1.5; stroke-linecap: square\"/>\n   </g>\n   <g id=\"line2d_80\">\n    <path d=\"M 49.633125 13.596984 \nL 69.163125 14.566428 \nL 88.693125 98.458068 \nL 108.223125 107.67924 \nL 127.753125 113.931565 \nL 147.283125 118.540134 \n\" clip-path=\"url(#pb41b811729)\" style=\"fill: none; stroke-dasharray: 5.55,2.4; stroke-dashoffset: 0; stroke: #ff7f0e; stroke-width: 1.5\"/>\n   </g>\n   <g id=\"line2d_81\">\n    <path d=\"M 49.633125 138.664222 \nL 69.163125 139.5 \nL 88.693125 119.318421 \nL 108.223125 113.203722 \nL 127.753125 110.2109 \nL 147.283125 108.828179 \n\" clip-path=\"url(#pb41b811729)\" style=\"fill: none; stroke-dasharray: 9.6,2.4,1.5,2.4; stroke-dashoffset: 0; stroke: #2ca02c; stroke-width: 1.5\"/>\n   </g>\n   <g id=\"line2d_82\">\n    <path d=\"M 34.954394 13.5 \nL 44.698573 13.5471 \nL 54.442752 13.646959 \nL 64.186931 13.950495 \nL 73.93111 40.850032 \nL 83.675289 89.927141 \nL 93.419468 98.79232 \nL 103.163647 104.055512 \nL 112.907826 107.895319 \nL 122.652006 110.705095 \nL 132.396185 114.535998 \nL 142.140364 117.022901 \nL 151.884543 119.338811 \nL 161.628722 120.701186 \n\" clip-path=\"url(#pb41b811729)\" style=\"fill: none; stroke: #1f77b4; stroke-width: 1.5; stroke-linecap: square\"/>\n   </g>\n   <g id=\"line2d_83\">\n    <path d=\"M 49.633125 13.596984 \nL 69.163125 14.566428 \nL 88.693125 98.458068 \nL 108.223125 107.67924 \nL 127.753125 113.931565 \nL 147.283125 118.540134 \n\" clip-path=\"url(#pb41b811729)\" style=\"fill: none; stroke-dasharray: 5.55,2.4; stroke-dashoffset: 0; stroke: #ff7f0e; stroke-width: 1.5\"/>\n   </g>\n   <g id=\"line2d_84\">\n    <path d=\"M 49.633125 138.664222 \nL 69.163125 139.5 \nL 88.693125 119.318421 \nL 108.223125 113.203722 \nL 127.753125 110.2109 \nL 147.283125 108.828179 \n\" clip-path=\"url(#pb41b811729)\" style=\"fill: none; stroke-dasharray: 9.6,2.4,1.5,2.4; stroke-dashoffset: 0; stroke: #2ca02c; stroke-width: 1.5\"/>\n   </g>\n   <g id=\"line2d_85\">\n    <path d=\"M 34.954394 13.5 \nL 44.698573 13.5471 \nL 54.442752 13.646959 \nL 64.186931 13.950495 \nL 73.93111 40.850032 \nL 83.675289 89.927141 \nL 93.419468 98.79232 \nL 103.163647 104.055512 \nL 112.907826 107.895319 \nL 122.652006 110.705095 \nL 132.396185 114.535998 \nL 142.140364 117.022901 \nL 151.884543 119.338811 \nL 161.628722 120.701186 \n\" clip-path=\"url(#pb41b811729)\" style=\"fill: none; stroke: #1f77b4; stroke-width: 1.5; stroke-linecap: square\"/>\n   </g>\n   <g id=\"line2d_86\">\n    <path d=\"M 49.633125 13.596984 \nL 69.163125 14.566428 \nL 88.693125 98.458068 \nL 108.223125 107.67924 \nL 127.753125 113.931565 \nL 147.283125 118.540134 \nL 166.813125 121.416075 \n\" clip-path=\"url(#pb41b811729)\" style=\"fill: none; stroke-dasharray: 5.55,2.4; stroke-dashoffset: 0; stroke: #ff7f0e; stroke-width: 1.5\"/>\n   </g>\n   <g id=\"line2d_87\">\n    <path d=\"M 49.633125 138.664222 \nL 69.163125 139.5 \nL 88.693125 119.318421 \nL 108.223125 113.203722 \nL 127.753125 110.2109 \nL 147.283125 108.828179 \n\" clip-path=\"url(#pb41b811729)\" style=\"fill: none; stroke-dasharray: 9.6,2.4,1.5,2.4; stroke-dashoffset: 0; stroke: #2ca02c; stroke-width: 1.5\"/>\n   </g>\n   <g id=\"line2d_88\">\n    <path d=\"M 34.954394 13.5 \nL 44.698573 13.5471 \nL 54.442752 13.646959 \nL 64.186931 13.950495 \nL 73.93111 40.850032 \nL 83.675289 89.927141 \nL 93.419468 98.79232 \nL 103.163647 104.055512 \nL 112.907826 107.895319 \nL 122.652006 110.705095 \nL 132.396185 114.535998 \nL 142.140364 117.022901 \nL 151.884543 119.338811 \nL 161.628722 120.701186 \n\" clip-path=\"url(#pb41b811729)\" style=\"fill: none; stroke: #1f77b4; stroke-width: 1.5; stroke-linecap: square\"/>\n   </g>\n   <g id=\"line2d_89\">\n    <path d=\"M 49.633125 13.596984 \nL 69.163125 14.566428 \nL 88.693125 98.458068 \nL 108.223125 107.67924 \nL 127.753125 113.931565 \nL 147.283125 118.540134 \nL 166.813125 121.416075 \n\" clip-path=\"url(#pb41b811729)\" style=\"fill: none; stroke-dasharray: 5.55,2.4; stroke-dashoffset: 0; stroke: #ff7f0e; stroke-width: 1.5\"/>\n   </g>\n   <g id=\"line2d_90\">\n    <path d=\"M 49.633125 138.664222 \nL 69.163125 139.5 \nL 88.693125 119.318421 \nL 108.223125 113.203722 \nL 127.753125 110.2109 \nL 147.283125 108.828179 \nL 166.813125 107.820329 \n\" clip-path=\"url(#pb41b811729)\" style=\"fill: none; stroke-dasharray: 9.6,2.4,1.5,2.4; stroke-dashoffset: 0; stroke: #2ca02c; stroke-width: 1.5\"/>\n   </g>\n   <g id=\"line2d_91\">\n    <path d=\"M 34.954394 13.5 \nL 44.698573 13.5471 \nL 54.442752 13.646959 \nL 64.186931 13.950495 \nL 73.93111 40.850032 \nL 83.675289 89.927141 \nL 93.419468 98.79232 \nL 103.163647 104.055512 \nL 112.907826 107.895319 \nL 122.652006 110.705095 \nL 132.396185 114.535998 \nL 142.140364 117.022901 \nL 151.884543 119.338811 \nL 161.628722 120.701186 \nL 171.372901 122.654554 \n\" clip-path=\"url(#pb41b811729)\" style=\"fill: none; stroke: #1f77b4; stroke-width: 1.5; stroke-linecap: square\"/>\n   </g>\n   <g id=\"line2d_92\">\n    <path d=\"M 49.633125 13.596984 \nL 69.163125 14.566428 \nL 88.693125 98.458068 \nL 108.223125 107.67924 \nL 127.753125 113.931565 \nL 147.283125 118.540134 \nL 166.813125 121.416075 \n\" clip-path=\"url(#pb41b811729)\" style=\"fill: none; stroke-dasharray: 5.55,2.4; stroke-dashoffset: 0; stroke: #ff7f0e; stroke-width: 1.5\"/>\n   </g>\n   <g id=\"line2d_93\">\n    <path d=\"M 49.633125 138.664222 \nL 69.163125 139.5 \nL 88.693125 119.318421 \nL 108.223125 113.203722 \nL 127.753125 110.2109 \nL 147.283125 108.828179 \nL 166.813125 107.820329 \n\" clip-path=\"url(#pb41b811729)\" style=\"fill: none; stroke-dasharray: 9.6,2.4,1.5,2.4; stroke-dashoffset: 0; stroke: #2ca02c; stroke-width: 1.5\"/>\n   </g>\n   <g id=\"line2d_94\">\n    <path d=\"M 34.954394 13.5 \nL 44.698573 13.5471 \nL 54.442752 13.646959 \nL 64.186931 13.950495 \nL 73.93111 40.850032 \nL 83.675289 89.927141 \nL 93.419468 98.79232 \nL 103.163647 104.055512 \nL 112.907826 107.895319 \nL 122.652006 110.705095 \nL 132.396185 114.535998 \nL 142.140364 117.022901 \nL 151.884543 119.338811 \nL 161.628722 120.701186 \nL 171.372901 122.654554 \nL 181.11708 123.573262 \n\" clip-path=\"url(#pb41b811729)\" style=\"fill: none; stroke: #1f77b4; stroke-width: 1.5; stroke-linecap: square\"/>\n   </g>\n   <g id=\"line2d_95\">\n    <path d=\"M 49.633125 13.596984 \nL 69.163125 14.566428 \nL 88.693125 98.458068 \nL 108.223125 107.67924 \nL 127.753125 113.931565 \nL 147.283125 118.540134 \nL 166.813125 121.416075 \n\" clip-path=\"url(#pb41b811729)\" style=\"fill: none; stroke-dasharray: 5.55,2.4; stroke-dashoffset: 0; stroke: #ff7f0e; stroke-width: 1.5\"/>\n   </g>\n   <g id=\"line2d_96\">\n    <path d=\"M 49.633125 138.664222 \nL 69.163125 139.5 \nL 88.693125 119.318421 \nL 108.223125 113.203722 \nL 127.753125 110.2109 \nL 147.283125 108.828179 \nL 166.813125 107.820329 \n\" clip-path=\"url(#pb41b811729)\" style=\"fill: none; stroke-dasharray: 9.6,2.4,1.5,2.4; stroke-dashoffset: 0; stroke: #2ca02c; stroke-width: 1.5\"/>\n   </g>\n   <g id=\"line2d_97\">\n    <path d=\"M 34.954394 13.5 \nL 44.698573 13.5471 \nL 54.442752 13.646959 \nL 64.186931 13.950495 \nL 73.93111 40.850032 \nL 83.675289 89.927141 \nL 93.419468 98.79232 \nL 103.163647 104.055512 \nL 112.907826 107.895319 \nL 122.652006 110.705095 \nL 132.396185 114.535998 \nL 142.140364 117.022901 \nL 151.884543 119.338811 \nL 161.628722 120.701186 \nL 171.372901 122.654554 \nL 181.11708 123.573262 \n\" clip-path=\"url(#pb41b811729)\" style=\"fill: none; stroke: #1f77b4; stroke-width: 1.5; stroke-linecap: square\"/>\n   </g>\n   <g id=\"line2d_98\">\n    <path d=\"M 49.633125 13.596984 \nL 69.163125 14.566428 \nL 88.693125 98.458068 \nL 108.223125 107.67924 \nL 127.753125 113.931565 \nL 147.283125 118.540134 \nL 166.813125 121.416075 \nL 186.343125 124.303718 \n\" clip-path=\"url(#pb41b811729)\" style=\"fill: none; stroke-dasharray: 5.55,2.4; stroke-dashoffset: 0; stroke: #ff7f0e; stroke-width: 1.5\"/>\n   </g>\n   <g id=\"line2d_99\">\n    <path d=\"M 49.633125 138.664222 \nL 69.163125 139.5 \nL 88.693125 119.318421 \nL 108.223125 113.203722 \nL 127.753125 110.2109 \nL 147.283125 108.828179 \nL 166.813125 107.820329 \n\" clip-path=\"url(#pb41b811729)\" style=\"fill: none; stroke-dasharray: 9.6,2.4,1.5,2.4; stroke-dashoffset: 0; stroke: #2ca02c; stroke-width: 1.5\"/>\n   </g>\n   <g id=\"line2d_100\">\n    <path d=\"M 34.954394 13.5 \nL 44.698573 13.5471 \nL 54.442752 13.646959 \nL 64.186931 13.950495 \nL 73.93111 40.850032 \nL 83.675289 89.927141 \nL 93.419468 98.79232 \nL 103.163647 104.055512 \nL 112.907826 107.895319 \nL 122.652006 110.705095 \nL 132.396185 114.535998 \nL 142.140364 117.022901 \nL 151.884543 119.338811 \nL 161.628722 120.701186 \nL 171.372901 122.654554 \nL 181.11708 123.573262 \n\" clip-path=\"url(#pb41b811729)\" style=\"fill: none; stroke: #1f77b4; stroke-width: 1.5; stroke-linecap: square\"/>\n   </g>\n   <g id=\"line2d_101\">\n    <path d=\"M 49.633125 13.596984 \nL 69.163125 14.566428 \nL 88.693125 98.458068 \nL 108.223125 107.67924 \nL 127.753125 113.931565 \nL 147.283125 118.540134 \nL 166.813125 121.416075 \nL 186.343125 124.303718 \n\" clip-path=\"url(#pb41b811729)\" style=\"fill: none; stroke-dasharray: 5.55,2.4; stroke-dashoffset: 0; stroke: #ff7f0e; stroke-width: 1.5\"/>\n   </g>\n   <g id=\"line2d_102\">\n    <path d=\"M 49.633125 138.664222 \nL 69.163125 139.5 \nL 88.693125 119.318421 \nL 108.223125 113.203722 \nL 127.753125 110.2109 \nL 147.283125 108.828179 \nL 166.813125 107.820329 \nL 186.343125 106.554372 \n\" clip-path=\"url(#pb41b811729)\" style=\"fill: none; stroke-dasharray: 9.6,2.4,1.5,2.4; stroke-dashoffset: 0; stroke: #2ca02c; stroke-width: 1.5\"/>\n   </g>\n   <g id=\"line2d_103\">\n    <path d=\"M 34.954394 13.5 \nL 44.698573 13.5471 \nL 54.442752 13.646959 \nL 64.186931 13.950495 \nL 73.93111 40.850032 \nL 83.675289 89.927141 \nL 93.419468 98.79232 \nL 103.163647 104.055512 \nL 112.907826 107.895319 \nL 122.652006 110.705095 \nL 132.396185 114.535998 \nL 142.140364 117.022901 \nL 151.884543 119.338811 \nL 161.628722 120.701186 \nL 171.372901 122.654554 \nL 181.11708 123.573262 \nL 190.861259 124.474497 \n\" clip-path=\"url(#pb41b811729)\" style=\"fill: none; stroke: #1f77b4; stroke-width: 1.5; stroke-linecap: square\"/>\n   </g>\n   <g id=\"line2d_104\">\n    <path d=\"M 49.633125 13.596984 \nL 69.163125 14.566428 \nL 88.693125 98.458068 \nL 108.223125 107.67924 \nL 127.753125 113.931565 \nL 147.283125 118.540134 \nL 166.813125 121.416075 \nL 186.343125 124.303718 \n\" clip-path=\"url(#pb41b811729)\" style=\"fill: none; stroke-dasharray: 5.55,2.4; stroke-dashoffset: 0; stroke: #ff7f0e; stroke-width: 1.5\"/>\n   </g>\n   <g id=\"line2d_105\">\n    <path d=\"M 49.633125 138.664222 \nL 69.163125 139.5 \nL 88.693125 119.318421 \nL 108.223125 113.203722 \nL 127.753125 110.2109 \nL 147.283125 108.828179 \nL 166.813125 107.820329 \nL 186.343125 106.554372 \n\" clip-path=\"url(#pb41b811729)\" style=\"fill: none; stroke-dasharray: 9.6,2.4,1.5,2.4; stroke-dashoffset: 0; stroke: #2ca02c; stroke-width: 1.5\"/>\n   </g>\n   <g id=\"line2d_106\">\n    <path d=\"M 34.954394 13.5 \nL 44.698573 13.5471 \nL 54.442752 13.646959 \nL 64.186931 13.950495 \nL 73.93111 40.850032 \nL 83.675289 89.927141 \nL 93.419468 98.79232 \nL 103.163647 104.055512 \nL 112.907826 107.895319 \nL 122.652006 110.705095 \nL 132.396185 114.535998 \nL 142.140364 117.022901 \nL 151.884543 119.338811 \nL 161.628722 120.701186 \nL 171.372901 122.654554 \nL 181.11708 123.573262 \nL 190.861259 124.474497 \nL 200.605438 126.308583 \n\" clip-path=\"url(#pb41b811729)\" style=\"fill: none; stroke: #1f77b4; stroke-width: 1.5; stroke-linecap: square\"/>\n   </g>\n   <g id=\"line2d_107\">\n    <path d=\"M 49.633125 13.596984 \nL 69.163125 14.566428 \nL 88.693125 98.458068 \nL 108.223125 107.67924 \nL 127.753125 113.931565 \nL 147.283125 118.540134 \nL 166.813125 121.416075 \nL 186.343125 124.303718 \n\" clip-path=\"url(#pb41b811729)\" style=\"fill: none; stroke-dasharray: 5.55,2.4; stroke-dashoffset: 0; stroke: #ff7f0e; stroke-width: 1.5\"/>\n   </g>\n   <g id=\"line2d_108\">\n    <path d=\"M 49.633125 138.664222 \nL 69.163125 139.5 \nL 88.693125 119.318421 \nL 108.223125 113.203722 \nL 127.753125 110.2109 \nL 147.283125 108.828179 \nL 166.813125 107.820329 \nL 186.343125 106.554372 \n\" clip-path=\"url(#pb41b811729)\" style=\"fill: none; stroke-dasharray: 9.6,2.4,1.5,2.4; stroke-dashoffset: 0; stroke: #2ca02c; stroke-width: 1.5\"/>\n   </g>\n   <g id=\"line2d_109\">\n    <path d=\"M 34.954394 13.5 \nL 44.698573 13.5471 \nL 54.442752 13.646959 \nL 64.186931 13.950495 \nL 73.93111 40.850032 \nL 83.675289 89.927141 \nL 93.419468 98.79232 \nL 103.163647 104.055512 \nL 112.907826 107.895319 \nL 122.652006 110.705095 \nL 132.396185 114.535998 \nL 142.140364 117.022901 \nL 151.884543 119.338811 \nL 161.628722 120.701186 \nL 171.372901 122.654554 \nL 181.11708 123.573262 \nL 190.861259 124.474497 \nL 200.605438 126.308583 \n\" clip-path=\"url(#pb41b811729)\" style=\"fill: none; stroke: #1f77b4; stroke-width: 1.5; stroke-linecap: square\"/>\n   </g>\n   <g id=\"line2d_110\">\n    <path d=\"M 49.633125 13.596984 \nL 69.163125 14.566428 \nL 88.693125 98.458068 \nL 108.223125 107.67924 \nL 127.753125 113.931565 \nL 147.283125 118.540134 \nL 166.813125 121.416075 \nL 186.343125 124.303718 \nL 205.873125 126.993131 \n\" clip-path=\"url(#pb41b811729)\" style=\"fill: none; stroke-dasharray: 5.55,2.4; stroke-dashoffset: 0; stroke: #ff7f0e; stroke-width: 1.5\"/>\n   </g>\n   <g id=\"line2d_111\">\n    <path d=\"M 49.633125 138.664222 \nL 69.163125 139.5 \nL 88.693125 119.318421 \nL 108.223125 113.203722 \nL 127.753125 110.2109 \nL 147.283125 108.828179 \nL 166.813125 107.820329 \nL 186.343125 106.554372 \n\" clip-path=\"url(#pb41b811729)\" style=\"fill: none; stroke-dasharray: 9.6,2.4,1.5,2.4; stroke-dashoffset: 0; stroke: #2ca02c; stroke-width: 1.5\"/>\n   </g>\n   <g id=\"line2d_112\">\n    <path d=\"M 34.954394 13.5 \nL 44.698573 13.5471 \nL 54.442752 13.646959 \nL 64.186931 13.950495 \nL 73.93111 40.850032 \nL 83.675289 89.927141 \nL 93.419468 98.79232 \nL 103.163647 104.055512 \nL 112.907826 107.895319 \nL 122.652006 110.705095 \nL 132.396185 114.535998 \nL 142.140364 117.022901 \nL 151.884543 119.338811 \nL 161.628722 120.701186 \nL 171.372901 122.654554 \nL 181.11708 123.573262 \nL 190.861259 124.474497 \nL 200.605438 126.308583 \n\" clip-path=\"url(#pb41b811729)\" style=\"fill: none; stroke: #1f77b4; stroke-width: 1.5; stroke-linecap: square\"/>\n   </g>\n   <g id=\"line2d_113\">\n    <path d=\"M 49.633125 13.596984 \nL 69.163125 14.566428 \nL 88.693125 98.458068 \nL 108.223125 107.67924 \nL 127.753125 113.931565 \nL 147.283125 118.540134 \nL 166.813125 121.416075 \nL 186.343125 124.303718 \nL 205.873125 126.993131 \n\" clip-path=\"url(#pb41b811729)\" style=\"fill: none; stroke-dasharray: 5.55,2.4; stroke-dashoffset: 0; stroke: #ff7f0e; stroke-width: 1.5\"/>\n   </g>\n   <g id=\"line2d_114\">\n    <path d=\"M 49.633125 138.664222 \nL 69.163125 139.5 \nL 88.693125 119.318421 \nL 108.223125 113.203722 \nL 127.753125 110.2109 \nL 147.283125 108.828179 \nL 166.813125 107.820329 \nL 186.343125 106.554372 \nL 205.873125 105.540376 \n\" clip-path=\"url(#pb41b811729)\" style=\"fill: none; stroke-dasharray: 9.6,2.4,1.5,2.4; stroke-dashoffset: 0; stroke: #2ca02c; stroke-width: 1.5\"/>\n   </g>\n   <g id=\"line2d_115\">\n    <path d=\"M 34.954394 13.5 \nL 44.698573 13.5471 \nL 54.442752 13.646959 \nL 64.186931 13.950495 \nL 73.93111 40.850032 \nL 83.675289 89.927141 \nL 93.419468 98.79232 \nL 103.163647 104.055512 \nL 112.907826 107.895319 \nL 122.652006 110.705095 \nL 132.396185 114.535998 \nL 142.140364 117.022901 \nL 151.884543 119.338811 \nL 161.628722 120.701186 \nL 171.372901 122.654554 \nL 181.11708 123.573262 \nL 190.861259 124.474497 \nL 200.605438 126.308583 \nL 210.349618 126.799602 \n\" clip-path=\"url(#pb41b811729)\" style=\"fill: none; stroke: #1f77b4; stroke-width: 1.5; stroke-linecap: square\"/>\n   </g>\n   <g id=\"line2d_116\">\n    <path d=\"M 49.633125 13.596984 \nL 69.163125 14.566428 \nL 88.693125 98.458068 \nL 108.223125 107.67924 \nL 127.753125 113.931565 \nL 147.283125 118.540134 \nL 166.813125 121.416075 \nL 186.343125 124.303718 \nL 205.873125 126.993131 \n\" clip-path=\"url(#pb41b811729)\" style=\"fill: none; stroke-dasharray: 5.55,2.4; stroke-dashoffset: 0; stroke: #ff7f0e; stroke-width: 1.5\"/>\n   </g>\n   <g id=\"line2d_117\">\n    <path d=\"M 49.633125 138.664222 \nL 69.163125 139.5 \nL 88.693125 119.318421 \nL 108.223125 113.203722 \nL 127.753125 110.2109 \nL 147.283125 108.828179 \nL 166.813125 107.820329 \nL 186.343125 106.554372 \nL 205.873125 105.540376 \n\" clip-path=\"url(#pb41b811729)\" style=\"fill: none; stroke-dasharray: 9.6,2.4,1.5,2.4; stroke-dashoffset: 0; stroke: #2ca02c; stroke-width: 1.5\"/>\n   </g>\n   <g id=\"line2d_118\">\n    <path d=\"M 34.954394 13.5 \nL 44.698573 13.5471 \nL 54.442752 13.646959 \nL 64.186931 13.950495 \nL 73.93111 40.850032 \nL 83.675289 89.927141 \nL 93.419468 98.79232 \nL 103.163647 104.055512 \nL 112.907826 107.895319 \nL 122.652006 110.705095 \nL 132.396185 114.535998 \nL 142.140364 117.022901 \nL 151.884543 119.338811 \nL 161.628722 120.701186 \nL 171.372901 122.654554 \nL 181.11708 123.573262 \nL 190.861259 124.474497 \nL 200.605438 126.308583 \nL 210.349618 126.799602 \nL 220.093797 127.585078 \n\" clip-path=\"url(#pb41b811729)\" style=\"fill: none; stroke: #1f77b4; stroke-width: 1.5; stroke-linecap: square\"/>\n   </g>\n   <g id=\"line2d_119\">\n    <path d=\"M 49.633125 13.596984 \nL 69.163125 14.566428 \nL 88.693125 98.458068 \nL 108.223125 107.67924 \nL 127.753125 113.931565 \nL 147.283125 118.540134 \nL 166.813125 121.416075 \nL 186.343125 124.303718 \nL 205.873125 126.993131 \n\" clip-path=\"url(#pb41b811729)\" style=\"fill: none; stroke-dasharray: 5.55,2.4; stroke-dashoffset: 0; stroke: #ff7f0e; stroke-width: 1.5\"/>\n   </g>\n   <g id=\"line2d_120\">\n    <path d=\"M 49.633125 138.664222 \nL 69.163125 139.5 \nL 88.693125 119.318421 \nL 108.223125 113.203722 \nL 127.753125 110.2109 \nL 147.283125 108.828179 \nL 166.813125 107.820329 \nL 186.343125 106.554372 \nL 205.873125 105.540376 \n\" clip-path=\"url(#pb41b811729)\" style=\"fill: none; stroke-dasharray: 9.6,2.4,1.5,2.4; stroke-dashoffset: 0; stroke: #2ca02c; stroke-width: 1.5\"/>\n   </g>\n   <g id=\"line2d_121\">\n    <path d=\"M 34.954394 13.5 \nL 44.698573 13.5471 \nL 54.442752 13.646959 \nL 64.186931 13.950495 \nL 73.93111 40.850032 \nL 83.675289 89.927141 \nL 93.419468 98.79232 \nL 103.163647 104.055512 \nL 112.907826 107.895319 \nL 122.652006 110.705095 \nL 132.396185 114.535998 \nL 142.140364 117.022901 \nL 151.884543 119.338811 \nL 161.628722 120.701186 \nL 171.372901 122.654554 \nL 181.11708 123.573262 \nL 190.861259 124.474497 \nL 200.605438 126.308583 \nL 210.349618 126.799602 \nL 220.093797 127.585078 \n\" clip-path=\"url(#pb41b811729)\" style=\"fill: none; stroke: #1f77b4; stroke-width: 1.5; stroke-linecap: square\"/>\n   </g>\n   <g id=\"line2d_122\">\n    <path d=\"M 49.633125 13.596984 \nL 69.163125 14.566428 \nL 88.693125 98.458068 \nL 108.223125 107.67924 \nL 127.753125 113.931565 \nL 147.283125 118.540134 \nL 166.813125 121.416075 \nL 186.343125 124.303718 \nL 205.873125 126.993131 \nL 225.403125 128.445143 \n\" clip-path=\"url(#pb41b811729)\" style=\"fill: none; stroke-dasharray: 5.55,2.4; stroke-dashoffset: 0; stroke: #ff7f0e; stroke-width: 1.5\"/>\n   </g>\n   <g id=\"line2d_123\">\n    <path d=\"M 49.633125 138.664222 \nL 69.163125 139.5 \nL 88.693125 119.318421 \nL 108.223125 113.203722 \nL 127.753125 110.2109 \nL 147.283125 108.828179 \nL 166.813125 107.820329 \nL 186.343125 106.554372 \nL 205.873125 105.540376 \n\" clip-path=\"url(#pb41b811729)\" style=\"fill: none; stroke-dasharray: 9.6,2.4,1.5,2.4; stroke-dashoffset: 0; stroke: #2ca02c; stroke-width: 1.5\"/>\n   </g>\n   <g id=\"line2d_124\">\n    <path d=\"M 34.954394 13.5 \nL 44.698573 13.5471 \nL 54.442752 13.646959 \nL 64.186931 13.950495 \nL 73.93111 40.850032 \nL 83.675289 89.927141 \nL 93.419468 98.79232 \nL 103.163647 104.055512 \nL 112.907826 107.895319 \nL 122.652006 110.705095 \nL 132.396185 114.535998 \nL 142.140364 117.022901 \nL 151.884543 119.338811 \nL 161.628722 120.701186 \nL 171.372901 122.654554 \nL 181.11708 123.573262 \nL 190.861259 124.474497 \nL 200.605438 126.308583 \nL 210.349618 126.799602 \nL 220.093797 127.585078 \n\" clip-path=\"url(#pb41b811729)\" style=\"fill: none; stroke: #1f77b4; stroke-width: 1.5; stroke-linecap: square\"/>\n   </g>\n   <g id=\"line2d_125\">\n    <path d=\"M 49.633125 13.596984 \nL 69.163125 14.566428 \nL 88.693125 98.458068 \nL 108.223125 107.67924 \nL 127.753125 113.931565 \nL 147.283125 118.540134 \nL 166.813125 121.416075 \nL 186.343125 124.303718 \nL 205.873125 126.993131 \nL 225.403125 128.445143 \n\" clip-path=\"url(#pb41b811729)\" style=\"fill: none; stroke-dasharray: 5.55,2.4; stroke-dashoffset: 0; stroke: #ff7f0e; stroke-width: 1.5\"/>\n   </g>\n   <g id=\"line2d_126\">\n    <path d=\"M 49.633125 138.664222 \nL 69.163125 139.5 \nL 88.693125 119.318421 \nL 108.223125 113.203722 \nL 127.753125 110.2109 \nL 147.283125 108.828179 \nL 166.813125 107.820329 \nL 186.343125 106.554372 \nL 205.873125 105.540376 \nL 225.403125 104.747616 \n\" clip-path=\"url(#pb41b811729)\" style=\"fill: none; stroke-dasharray: 9.6,2.4,1.5,2.4; stroke-dashoffset: 0; stroke: #2ca02c; stroke-width: 1.5\"/>\n   </g>\n   <g id=\"patch_3\">\n    <path d=\"M 30.103125 145.8 \nL 30.103125 7.2 \n\" style=\"fill: none; stroke: #000000; stroke-width: 0.8; stroke-linejoin: miter; stroke-linecap: square\"/>\n   </g>\n   <g id=\"patch_4\">\n    <path d=\"M 225.403125 145.8 \nL 225.403125 7.2 \n\" style=\"fill: none; stroke: #000000; stroke-width: 0.8; stroke-linejoin: miter; stroke-linecap: square\"/>\n   </g>\n   <g id=\"patch_5\">\n    <path d=\"M 30.103125 145.8 \nL 225.403125 145.8 \n\" style=\"fill: none; stroke: #000000; stroke-width: 0.8; stroke-linejoin: miter; stroke-linecap: square\"/>\n   </g>\n   <g id=\"patch_6\">\n    <path d=\"M 30.103125 7.2 \nL 225.403125 7.2 \n\" style=\"fill: none; stroke: #000000; stroke-width: 0.8; stroke-linejoin: miter; stroke-linecap: square\"/>\n   </g>\n   <g id=\"legend_1\">\n    <g id=\"patch_7\">\n     <path d=\"M 138.8125 60.06875 \nL 218.403125 60.06875 \nQ 220.403125 60.06875 220.403125 58.06875 \nL 220.403125 14.2 \nQ 220.403125 12.2 218.403125 12.2 \nL 138.8125 12.2 \nQ 136.8125 12.2 136.8125 14.2 \nL 136.8125 58.06875 \nQ 136.8125 60.06875 138.8125 60.06875 \nz\n\" style=\"fill: #ffffff; opacity: 0.8; stroke: #cccccc; stroke-linejoin: miter\"/>\n    </g>\n    <g id=\"line2d_127\">\n     <path d=\"M 140.8125 20.298438 \nL 150.8125 20.298438 \nL 160.8125 20.298438 \n\" style=\"fill: none; stroke: #1f77b4; stroke-width: 1.5; stroke-linecap: square\"/>\n    </g>\n    <g id=\"text_12\">\n     <!-- train_loss -->\n     <g transform=\"translate(168.8125 23.798438) scale(0.1 -0.1)\">\n      <defs>\n       <path id=\"DejaVuSans-74\" d=\"M 1172 4494 \nL 1172 3500 \nL 2356 3500 \nL 2356 3053 \nL 1172 3053 \nL 1172 1153 \nQ 1172 725 1289 603 \nQ 1406 481 1766 481 \nL 2356 481 \nL 2356 0 \nL 1766 0 \nQ 1100 0 847 248 \nQ 594 497 594 1153 \nL 594 3053 \nL 172 3053 \nL 172 3500 \nL 594 3500 \nL 594 4494 \nL 1172 4494 \nz\n\" transform=\"scale(0.015625)\"/>\n       <path id=\"DejaVuSans-72\" d=\"M 2631 2963 \nQ 2534 3019 2420 3045 \nQ 2306 3072 2169 3072 \nQ 1681 3072 1420 2755 \nQ 1159 2438 1159 1844 \nL 1159 0 \nL 581 0 \nL 581 3500 \nL 1159 3500 \nL 1159 2956 \nQ 1341 3275 1631 3429 \nQ 1922 3584 2338 3584 \nQ 2397 3584 2469 3576 \nQ 2541 3569 2628 3553 \nL 2631 2963 \nz\n\" transform=\"scale(0.015625)\"/>\n       <path id=\"DejaVuSans-61\" d=\"M 2194 1759 \nQ 1497 1759 1228 1600 \nQ 959 1441 959 1056 \nQ 959 750 1161 570 \nQ 1363 391 1709 391 \nQ 2188 391 2477 730 \nQ 2766 1069 2766 1631 \nL 2766 1759 \nL 2194 1759 \nz\nM 3341 1997 \nL 3341 0 \nL 2766 0 \nL 2766 531 \nQ 2569 213 2275 61 \nQ 1981 -91 1556 -91 \nQ 1019 -91 701 211 \nQ 384 513 384 1019 \nQ 384 1609 779 1909 \nQ 1175 2209 1959 2209 \nL 2766 2209 \nL 2766 2266 \nQ 2766 2663 2505 2880 \nQ 2244 3097 1772 3097 \nQ 1472 3097 1187 3025 \nQ 903 2953 641 2809 \nL 641 3341 \nQ 956 3463 1253 3523 \nQ 1550 3584 1831 3584 \nQ 2591 3584 2966 3190 \nQ 3341 2797 3341 1997 \nz\n\" transform=\"scale(0.015625)\"/>\n       <path id=\"DejaVuSans-69\" d=\"M 603 3500 \nL 1178 3500 \nL 1178 0 \nL 603 0 \nL 603 3500 \nz\nM 603 4863 \nL 1178 4863 \nL 1178 4134 \nL 603 4134 \nL 603 4863 \nz\n\" transform=\"scale(0.015625)\"/>\n       <path id=\"DejaVuSans-6e\" d=\"M 3513 2113 \nL 3513 0 \nL 2938 0 \nL 2938 2094 \nQ 2938 2591 2744 2837 \nQ 2550 3084 2163 3084 \nQ 1697 3084 1428 2787 \nQ 1159 2491 1159 1978 \nL 1159 0 \nL 581 0 \nL 581 3500 \nL 1159 3500 \nL 1159 2956 \nQ 1366 3272 1645 3428 \nQ 1925 3584 2291 3584 \nQ 2894 3584 3203 3211 \nQ 3513 2838 3513 2113 \nz\n\" transform=\"scale(0.015625)\"/>\n       <path id=\"DejaVuSans-5f\" d=\"M 3263 -1063 \nL 3263 -1509 \nL -63 -1509 \nL -63 -1063 \nL 3263 -1063 \nz\n\" transform=\"scale(0.015625)\"/>\n       <path id=\"DejaVuSans-6c\" d=\"M 603 4863 \nL 1178 4863 \nL 1178 0 \nL 603 0 \nL 603 4863 \nz\n\" transform=\"scale(0.015625)\"/>\n       <path id=\"DejaVuSans-73\" d=\"M 2834 3397 \nL 2834 2853 \nQ 2591 2978 2328 3040 \nQ 2066 3103 1784 3103 \nQ 1356 3103 1142 2972 \nQ 928 2841 928 2578 \nQ 928 2378 1081 2264 \nQ 1234 2150 1697 2047 \nL 1894 2003 \nQ 2506 1872 2764 1633 \nQ 3022 1394 3022 966 \nQ 3022 478 2636 193 \nQ 2250 -91 1575 -91 \nQ 1294 -91 989 -36 \nQ 684 19 347 128 \nL 347 722 \nQ 666 556 975 473 \nQ 1284 391 1588 391 \nQ 1994 391 2212 530 \nQ 2431 669 2431 922 \nQ 2431 1156 2273 1281 \nQ 2116 1406 1581 1522 \nL 1381 1569 \nQ 847 1681 609 1914 \nQ 372 2147 372 2553 \nQ 372 3047 722 3315 \nQ 1072 3584 1716 3584 \nQ 2034 3584 2315 3537 \nQ 2597 3491 2834 3397 \nz\n\" transform=\"scale(0.015625)\"/>\n      </defs>\n      <use xlink:href=\"#DejaVuSans-74\"/>\n      <use xlink:href=\"#DejaVuSans-72\" x=\"39.208984\"/>\n      <use xlink:href=\"#DejaVuSans-61\" x=\"80.322266\"/>\n      <use xlink:href=\"#DejaVuSans-69\" x=\"141.601562\"/>\n      <use xlink:href=\"#DejaVuSans-6e\" x=\"169.384766\"/>\n      <use xlink:href=\"#DejaVuSans-5f\" x=\"232.763672\"/>\n      <use xlink:href=\"#DejaVuSans-6c\" x=\"282.763672\"/>\n      <use xlink:href=\"#DejaVuSans-6f\" x=\"310.546875\"/>\n      <use xlink:href=\"#DejaVuSans-73\" x=\"371.728516\"/>\n      <use xlink:href=\"#DejaVuSans-73\" x=\"423.828125\"/>\n     </g>\n    </g>\n    <g id=\"line2d_128\">\n     <path d=\"M 140.8125 35.254688 \nL 150.8125 35.254688 \nL 160.8125 35.254688 \n\" style=\"fill: none; stroke-dasharray: 5.55,2.4; stroke-dashoffset: 0; stroke: #ff7f0e; stroke-width: 1.5\"/>\n    </g>\n    <g id=\"text_13\">\n     <!-- val_loss -->\n     <g transform=\"translate(168.8125 38.754688) scale(0.1 -0.1)\">\n      <defs>\n       <path id=\"DejaVuSans-76\" d=\"M 191 3500 \nL 800 3500 \nL 1894 563 \nL 2988 3500 \nL 3597 3500 \nL 2284 0 \nL 1503 0 \nL 191 3500 \nz\n\" transform=\"scale(0.015625)\"/>\n      </defs>\n      <use xlink:href=\"#DejaVuSans-76\"/>\n      <use xlink:href=\"#DejaVuSans-61\" x=\"59.179688\"/>\n      <use xlink:href=\"#DejaVuSans-6c\" x=\"120.458984\"/>\n      <use xlink:href=\"#DejaVuSans-5f\" x=\"148.242188\"/>\n      <use xlink:href=\"#DejaVuSans-6c\" x=\"198.242188\"/>\n      <use xlink:href=\"#DejaVuSans-6f\" x=\"226.025391\"/>\n      <use xlink:href=\"#DejaVuSans-73\" x=\"287.207031\"/>\n      <use xlink:href=\"#DejaVuSans-73\" x=\"339.306641\"/>\n     </g>\n    </g>\n    <g id=\"line2d_129\">\n     <path d=\"M 140.8125 50.210938 \nL 150.8125 50.210938 \nL 160.8125 50.210938 \n\" style=\"fill: none; stroke-dasharray: 9.6,2.4,1.5,2.4; stroke-dashoffset: 0; stroke: #2ca02c; stroke-width: 1.5\"/>\n    </g>\n    <g id=\"text_14\">\n     <!-- val_acc -->\n     <g transform=\"translate(168.8125 53.710938) scale(0.1 -0.1)\">\n      <use xlink:href=\"#DejaVuSans-76\"/>\n      <use xlink:href=\"#DejaVuSans-61\" x=\"59.179688\"/>\n      <use xlink:href=\"#DejaVuSans-6c\" x=\"120.458984\"/>\n      <use xlink:href=\"#DejaVuSans-5f\" x=\"148.242188\"/>\n      <use xlink:href=\"#DejaVuSans-61\" x=\"198.242188\"/>\n      <use xlink:href=\"#DejaVuSans-63\" x=\"259.521484\"/>\n      <use xlink:href=\"#DejaVuSans-63\" x=\"314.501953\"/>\n     </g>\n    </g>\n   </g>\n  </g>\n </g>\n <defs>\n  <clipPath id=\"pb41b811729\">\n   <rect x=\"30.103125\" y=\"7.2\" width=\"195.3\" height=\"138.6\"/>\n  </clipPath>\n </defs>\n</svg>\n"
          },
          "metadata": {}
        }
      ],
      "source": [
        "model = AlexNet(lr=0.01)\n",
        "data = d2l.FashionMNIST(batch_size=128, resize=(224, 224))\n",
        "trainer = d2l.Trainer(max_epochs=10, num_gpus=1)\n",
        "trainer.fit(model, data)"
      ]
    },
    {
      "cell_type": "markdown",
      "id": "f9c33357",
      "metadata": {
        "origin_pos": 16,
        "id": "f9c33357"
      },
      "source": [
        "## Discussion\n",
        "\n",
        "AlexNet's structure bears a striking resemblance to LeNet, with a number of critical improvements, both for accuracy (dropout) and for ease of training (ReLU). What is equally striking is the amount of progress that has been made in terms of deep learning tooling. What was several months of work in 2012 can now be accomplished in a dozen lines of code using any modern framework.\n",
        "\n",
        "Reviewing the architecture, we see that AlexNet has an Achilles heel when it comes to efficiency: the last two hidden layers require matrices of size $6400 \\times 4096$ and $4096 \\times 4096$, respectively. This corresponds to 164 MB of memory and 81 MFLOPs of computation, both of which are a nontrivial outlay, especially on smaller devices, such as mobile phones. This is one of the reasons why AlexNet has been surpassed by much more effective architectures that we will cover in the following sections. Nonetheless, it is a key step from shallow to deep networks that are used nowadays. Note that even though the number of parameters exceeds by far the amount of training data in our experiments (the last two layers have more than 40 million parameters, trained on a datasets of 60 thousand images), there is hardly any overfitting: training and validation loss are virtually identical throughout training. This is due to the improved regularization, such as dropout, inherent in modern deep network designs.\n",
        "\n",
        "Although it seems that there are only a few more lines in AlexNet's implementation than in LeNet's, it took the academic community many years to embrace this conceptual change and take advantage of its excellent experimental results. This was also due to the lack of efficient computational tools. At the time neither DistBelief :cite:`Dean.Corrado.Monga.ea.2012` nor Caffe :cite:`Jia.Shelhamer.Donahue.ea.2014` existed, and Theano :cite:`Bergstra.Breuleux.Bastien.ea.2010` still lacked many distinguishing features. It was the availability of TensorFlow :cite:`Abadi.Barham.Chen.ea.2016` that dramatically changed the situation.\n",
        "\n",
        "## Exercises\n",
        "\n",
        "1. Following up on the discussion above, analyze the computational properties of AlexNet.\n",
        "    1. Compute the memory footprint for convolutions and fully connected layers, respectively. Which one dominates?\n",
        "    2. Calculate the computational cost for the convolutions and the fully connected layers.\n",
        "    3. How does the memory (read and write bandwidth, latency, size) affect computation? Is there any difference in its effects for training and inference?\n",
        "2. You are a chip designer and need to trade off computation and memory bandwidth. For example, a faster chip requires more power and possibly a larger chip area. More memory bandwidth requires more pins and control logic, thus also more area. How do you optimize?\n",
        "3. Why do engineers no longer report performance benchmarks on AlexNet?\n",
        "4. Try increasing the number of epochs when training AlexNet. Compared with LeNet, how do the results differ? Why?\n",
        "5. AlexNet may be too complex for the Fashion-MNIST dataset, in particular due to the low resolution of the initial images.\n",
        "    1. Try simplifying the model to make the training faster, while ensuring that the accuracy does not drop significantly.\n",
        "    2. Design a better model that works directly on $28 \\times 28$ images.\n",
        "6. Modify the batch size, and observe the changes in throughput (images/s), accuracy, and GPU memory.\n",
        "7. Apply dropout and ReLU to LeNet-5. Does it improve? Can you improve things further by preprocessing to take advantage of the invariances inherent in the images?\n",
        "8. Can you make AlexNet overfit? Which feature do you need to remove or change to break training?\n"
      ]
    },
    {
      "cell_type": "markdown",
      "id": "3e825ff7",
      "metadata": {
        "origin_pos": 18,
        "tab": [
          "pytorch"
        ],
        "id": "3e825ff7"
      },
      "source": [
        "[Discussions](https://discuss.d2l.ai/t/76)\n"
      ]
    },
    {
      "cell_type": "markdown",
      "source": [
        "## **Answer Exercise:**\n",
        "\n",
        "**1. Menganalisis sifat komputasi dari AlexNet:**\n",
        "  1.   Hitung jejak memori untuk convolution dan fully connected (FC) layer. Manakah yang mendominasi?\n",
        "\n",
        "  *   Untuk layer convolutional, jejak memori dihitung berdasarkan ukuran filter (kernel), jumlah filter, dan dimensi output. Di sisi lain, untuk FC layer, jejak memori tergantung pada ukuran matriks antara neuron input dan output. Dalam AlexNet, FC layer mendominasi penggunaan memori karena ukuran matriksnya yang besar, khususnya pada dua layer FC terakhir ($6400 \\times 4096$ dan $4096 \\times 4096$) yang membutuhkan banyak memori.\n",
        "\n",
        "\n",
        "\n",
        "  2.   Hitung biaya komputasi untuk convolutions dan FC layer.\n",
        "\n",
        "   *   Biaya komputasi convolution dihitung dengan mempertimbangkan ukuran kernel, jumlah channel, dan dimensi gambar yang dilibatkan. FC layer juga mahal karena melibatkan operasi matriks yang besar. Namun, FC layer memerlukan lebih banyak operasi floating-point dibandingkan dengan convolutions, terutama pada layer terakhir yang memiliki parameter dalam jumlah besar.\n",
        "\n",
        "  3. Bagaimana memori (bandwidth baca dan tulis, latensi, ukuran) memengaruhi komputasi? Adakah perbedaan pengaruhnya pada pelatihan dan inference?\n",
        "\n",
        "    *   Latensi dan bandwidth memori yang rendah dapat menghambat performa komputasi karena data harus dibaca dan ditulis secara efisien. Saat pelatihan, memori sangat penting karena banyak data parameter yang harus diakses dan diperbarui selama backpropagation. Sementara pada inference, data tidak di-update, sehingga kebutuhan bandwidth biasanya lebih rendah.\n",
        "\n",
        "**2. Sebagai desainer chip, bagaimana Anda menyeimbangkan komputasi dan bandwidth memori?**\n",
        "\n",
        "\n",
        "  *   Sebagai desainer chip, bisa mengoptimalkan penggunaan daya dengan memperbaiki efisiensi clock dan memperkecil kebutuhan daya. Dengan menggunakan teknologi seperti caching untuk mengurangi frekuensi akses memori dan memilih arsitektur yang efisien (seperti pipelining dan parallelism), dapat meminimalkan penggunaan daya tanpa mengorbankan performa. Jika bandwidth memori lebih tinggi diperlukan,  dapat menambah lebih banyak jalur atau menggunakan teknologi memori yang lebih cepat seperti GDDR6 atau HBM, dengan catatan bahwa ini akan membutuhkan lebih banyak area chip.\n",
        "\n",
        "**3. Mengapa para insinyur tidak lagi melaporkan tolok ukur performa pada AlexNet?**\n",
        "\n",
        "*   AlexNet tidak lagi digunakan sebagai benchmark karena sudah usang dan tidak efisien dibandingkan model modern seperti ResNet atau EfficientNet. Selain itu, dengan perkembangan alat deep learning yang lebih canggih, seperti batch normalization, dropout, dan arsitektur baru, AlexNet sekarang dianggap terlalu sederhana dan kurang optimal untuk berbagai tugas yang lebih kompleks.\n",
        "\n",
        "**4. Cobalah meningkatkan jumlah epochs saat melatih AlexNet. Bagaimana hasilnya dibandingkan dengan LeNet? Mengapa?**\n",
        "\n",
        "*   AlexNet memiliki lebih banyak parameter dibandingkan LeNet, sehingga membutuhkan lebih banyak epochs untuk mencapai konvergensi. Namun, AlexNet cenderung mencapai performa yang lebih baik pada dataset yang kompleks karena arsitekturnya yang lebih dalam. Sementara itu, LeNet lebih cepat konvergen pada dataset sederhana seperti MNIST, tetapi performanya terbatas pada dataset yang lebih besar dan kompleks.\n",
        "\n",
        "**5. AlexNet mungkin terlalu kompleks untuk dataset Fashion-MNIST.**\n",
        "  1. Coba sederhanakan model untuk membuat pelatihan lebih cepat, sambil memastikan akurasi tidak turun secara signifikan.\n",
        "\n",
        "  *   Anda bisa mengurangi ukuran layer convolutional atau menggunakan dropout dan batch normalization untuk mempercepat pelatihan. Atau, model seperti MobileNet dapat digunakan untuk menyederhanakan arsitektur dan meningkatkan efisiensi komputasi.\n",
        "\n",
        "  2. Rancang model yang lebih baik yang bekerja langsung pada gambar $28 \\times 28$.\n",
        "  *   Anda bisa membuat model dengan layer convolutional yang lebih sedikit dan layer FC yang lebih kecil, misalnya menggunakan arsitektur CNN sederhana dengan 2-3 convolutional layers dan FC layer yang lebih kecil agar sesuai dengan resolusi gambar $28 \\times 28$.\n",
        "\n",
        "**6. Modifikasi ukuran batch, dan amati perubahan throughput (gambar/detik), akurasi, dan memori GPU.**\n",
        "\n",
        "*   Ukuran batch yang lebih besar meningkatkan throughput tetapi juga meningkatkan penggunaan memori GPU. Sebaliknya, ukuran batch yang lebih kecil membutuhkan lebih sedikit memori, namun throughput dapat menurun. Efeknya pada akurasi bisa bervariasi, karena batch besar memungkinkan konvergensi yang lebih stabil, sementara batch kecil mungkin membuat training lebih fluktuatif.\n",
        "\n",
        "**7. Terapkan dropout dan ReLU ke LeNet-5. Apakah ini memperbaiki kinerja?**\n",
        "\n",
        "*   Dropout dapat membantu mencegah overfitting, sedangkan ReLU mempercepat konvergensi dengan mengatasi masalah vanishing gradients. Penggunaan dropout dan ReLU kemungkinan besar akan meningkatkan performa pada LeNet-5, khususnya dalam hal generalisasi dan kecepatan pelatihan.\n",
        "\n",
        "**8. Bisakah Anda membuat AlexNet overfit? Fitur apa yang perlu Anda hapus atau ubah untuk memecahkan pelatihan?**\n",
        "\n",
        "*   AlexNet bisa overfit jika regularisasi seperti dropout dihilangkan, atau jika dataset terlalu kecil atau kurang beragam. Mengurangi augmentasi data, atau melatih dengan dataset kecil tanpa dropout, bisa menyebabkan overfitting yang signifikan.\n",
        "\n",
        "\n",
        "\n",
        "\n",
        "\n",
        "\n",
        "\n",
        "\n",
        "\n",
        "\n",
        "\n",
        "\n",
        "\n",
        "\n",
        "\n",
        "\n"
      ],
      "metadata": {
        "id": "Z4svr7X3i8AK"
      },
      "id": "Z4svr7X3i8AK"
    },
    {
      "cell_type": "markdown",
      "source": [
        "#8.2 Deep Convolutional Neural Networks (AlexNet)\n",
        ":label:`sec_alexnet`\n",
        "\n",
        "\n",
        "Although CNNs were well known\n",
        "in the computer vision and machine learning communities\n",
        "following the introduction of LeNet :cite:`LeCun.Jackel.Bottou.ea.1995`,\n",
        "they did not immediately dominate the field.\n",
        "Although LeNet achieved good results on early small datasets,\n",
        "the performance and feasibility of training CNNs\n",
        "on larger, more realistic datasets had yet to be established.\n",
        "In fact, for much of the intervening time between the early 1990s\n",
        "and the watershed results of 2012 :cite:`Krizhevsky.Sutskever.Hinton.2012`,\n",
        "neural networks were often surpassed by other machine learning methods,\n",
        "such as kernel methods :cite:`Scholkopf.Smola.2002`, ensemble methods :cite:`Freund.Schapire.ea.1996`,\n",
        "and structured estimation :cite:`Taskar.Guestrin.Koller.2004`.\n",
        "\n",
        "For computer vision, this comparison is perhaps not entirely accurate.\n",
        "That is, although the inputs to convolutional networks\n",
        "consist of raw or lightly-processed (e.g., by centering) pixel values, practitioners would never feed raw pixels into traditional models.\n",
        "Instead, typical computer vision pipelines\n",
        "consisted of manually engineering feature extraction pipelines, such as SIFT :cite:`Lowe.2004`, SURF :cite:`Bay.Tuytelaars.Van-Gool.2006`, and bags of visual words :cite:`Sivic.Zisserman.2003`.\n",
        "Rather than *learning* the features, the features were *crafted*.\n",
        "Most of the progress came from having more clever ideas for feature extraction on the one hand and deep insight into geometry :cite:`Hartley.Zisserman.2000` on the other. The learning algorithm was often considered an afterthought.\n",
        "\n",
        "Although some neural network accelerators were available in the 1990s,\n",
        "they were not yet sufficiently powerful to make\n",
        "deep multichannel, multilayer CNNs\n",
        "with a large number of parameters. For instance, NVIDIA's GeForce 256 from 1999\n",
        "was able to process at most 480 million floating-point operations, such as additions and multiplications, per second (MFLOPS), without any meaningful\n",
        "programming framework for operations beyond games. Today's accelerators are able to perform in excess of 1000 TFLOPs per device.\n",
        "Moreover, datasets were still relatively small: OCR on 60,000 low-resolution $28 \\times 28$ pixel images was considered a highly challenging task.\n",
        "Added to these obstacles, key tricks for training neural networks\n",
        "including parameter initialization heuristics :cite:`Glorot.Bengio.2010`,\n",
        "clever variants of stochastic gradient descent :cite:`Kingma.Ba.2014`,\n",
        "non-squashing activation functions :cite:`Nair.Hinton.2010`,\n",
        "and effective regularization techniques :cite:`Srivastava.Hinton.Krizhevsky.ea.2014` were still missing.\n",
        "\n",
        "Thus, rather than training *end-to-end* (pixel to classification) systems,\n",
        "classical pipelines looked more like this:\n",
        "\n",
        "1. Obtain an interesting dataset. In the early days, these datasets required expensive sensors. For instance, the [Apple QuickTake 100](https://en.wikipedia.org/wiki/Apple_QuickTake) of 1994 sported a whopping 0.3 megapixel (VGA) resolution, capable of storing up to 8 images, all for the price of \\$1000.\n",
        "1. Preprocess the dataset with hand-crafted features based on some knowledge of optics, geometry, other analytic tools, and occasionally on the serendipitous discoveries by lucky graduate students.\n",
        "1. Feed the data through a standard set of feature extractors such as the SIFT (scale-invariant feature transform) :cite:`Lowe.2004`, the SURF (speeded up robust features) :cite:`Bay.Tuytelaars.Van-Gool.2006`, or any number of other hand-tuned pipelines. OpenCV still provides SIFT extractors to this day!\n",
        "1. Dump the resulting representations into your favorite classifier, likely a linear model or kernel method, to train a classifier.\n",
        "\n",
        "If you spoke to machine learning researchers,\n",
        "they would reply that machine learning was both important and beautiful.\n",
        "Elegant theories proved the properties of various classifiers :cite:`boucheron2005theory` and convex\n",
        "optimization :cite:`Boyd.Vandenberghe.2004` had become the mainstay for obtaining them.\n",
        "The field of machine learning was thriving, rigorous, and eminently useful. However,\n",
        "if you spoke to a computer vision researcher,\n",
        "you would hear a very different story.\n",
        "The dirty truth of image recognition, they would tell you,\n",
        "is that features, geometry :cite:`Hartley.Zisserman.2000,hartley2009global`, and engineering,\n",
        "rather than novel learning algorithms, drove progress.\n",
        "Computer vision researchers justifiably believed\n",
        "that a slightly bigger or cleaner dataset\n",
        "or a slightly improved feature-extraction pipeline\n",
        "mattered far more to the final accuracy than any learning algorithm.\n"
      ],
      "metadata": {
        "id": "tiowGV1-APX0"
      },
      "id": "tiowGV1-APX0"
    },
    {
      "cell_type": "markdown",
      "source": [
        "## (**VGG Blocks**)\n",
        ":label:`subsec_vgg-blocks`\n",
        "\n",
        "The basic building block of CNNs\n",
        "is a sequence of the following:\n",
        "(i) a convolutional layer\n",
        "with padding to maintain the resolution,\n",
        "(ii) a nonlinearity such as a ReLU,\n",
        "(iii) a pooling layer such\n",
        "as max-pooling to reduce the resolution. One of the problems with\n",
        "this approach is that the spatial resolution decreases quite rapidly. In particular,\n",
        "this imposes a hard limit of $\\log_2 d$ convolutional layers on the network before all\n",
        "dimensions ($d$) are used up. For instance, in the case of ImageNet, it would be impossible to have\n",
        "more than 8 convolutional layers in this way.\n",
        "\n",
        "The key idea of :citet:`Simonyan.Zisserman.2014` was to use *multiple* convolutions in between downsampling\n",
        "via max-pooling in the form of a block. They were primarily interested in whether deep or\n",
        "wide networks perform better. For instance, the successive application of two $3 \\times 3$ convolutions\n",
        "touches the same pixels as a single $5 \\times 5$ convolution does. At the same time, the latter uses approximately\n",
        "as many parameters ($25 \\cdot c^2$) as three $3 \\times 3$ convolutions do ($3 \\cdot 9 \\cdot c^2$).\n",
        "In a rather detailed analysis they showed that deep and narrow networks significantly outperform their shallow counterparts. This set deep learning on a quest for ever deeper networks with over 100 layers for typical applications.\n",
        "Stacking $3 \\times 3$ convolutions\n",
        "has become a gold standard in later deep networks (a design decision only to be revisited recently by\n",
        ":citet:`liu2022convnet`). Consequently, fast implementations for small convolutions have become a staple on GPUs :cite:`lavin2016fast`.\n",
        "\n",
        "Back to VGG: a VGG block consists of a *sequence* of convolutions with $3\\times3$ kernels with padding of 1\n",
        "(keeping height and width) followed by a $2 \\times 2$ max-pooling layer with stride of 2\n",
        "(halving height and width after each block).\n",
        "In the code below, we define a function called `vgg_block`\n",
        "to implement one VGG block.\n",
        "\n",
        "The function below takes two arguments,\n",
        "corresponding to the number of convolutional layers `num_convs`\n",
        "and the number of output channels `num_channels`.\n"
      ],
      "metadata": {
        "id": "YRvJTjIyAfyg"
      },
      "id": "YRvJTjIyAfyg"
    },
    {
      "cell_type": "code",
      "source": [
        "def vgg_block(num_convs, out_channels):\n",
        "    layers = []\n",
        "    for _ in range(num_convs):\n",
        "        layers.append(nn.LazyConv2d(out_channels, kernel_size=3, padding=1))\n",
        "        layers.append(nn.ReLU())\n",
        "    layers.append(nn.MaxPool2d(kernel_size=2,stride=2))\n",
        "    return nn.Sequential(*layers)"
      ],
      "metadata": {
        "id": "VejUnOKCAfhm"
      },
      "id": "VejUnOKCAfhm",
      "execution_count": null,
      "outputs": []
    },
    {
      "cell_type": "markdown",
      "source": [
        "## [**VGG Network**]\n",
        ":label:`subsec_vgg-network`\n",
        "\n",
        "Like AlexNet and LeNet,\n",
        "the VGG Network can be partitioned into two parts:\n",
        "the first consisting mostly of convolutional and pooling layers\n",
        "and the second consisting of fully connected layers that are identical to those in AlexNet.\n",
        "The key difference is\n",
        "that the convolutional layers are grouped in nonlinear transformations that\n",
        "leave the dimensonality unchanged, followed by a resolution-reduction step, as\n",
        "depicted in :numref:`fig_vgg`.\n",
        "\n",
        "![From AlexNet to VGG. The key difference is that VGG consists of blocks of layers, whereas AlexNet's layers are all designed individually.](http://d2l.ai/_images/vgg.svg)\n",
        ":width:`400px`\n",
        ":label:`fig_vgg`\n",
        "\n",
        "The convolutional part of the network connects several VGG blocks from :numref:`fig_vgg` (also defined in the `vgg_block` function)\n",
        "in succession. This grouping of convolutions is a pattern that has\n",
        "remained almost unchanged over the past decade, although the specific choice of\n",
        "operations has undergone considerable modifications.\n",
        "The variable `arch` consists of a list of tuples (one per block),\n",
        "where each contains two values: the number of convolutional layers\n",
        "and the number of output channels,\n",
        "which are precisely the arguments required to call\n",
        "the `vgg_block` function. As such, VGG defines a *family* of networks rather than just\n",
        "a specific manifestation. To build a specific network we simply iterate over `arch` to compose the blocks.\n"
      ],
      "metadata": {
        "id": "DZ6-C-hsAlLS"
      },
      "id": "DZ6-C-hsAlLS"
    },
    {
      "cell_type": "code",
      "source": [
        "class VGG(d2l.Classifier):\n",
        "    def __init__(self, arch, lr=0.1, num_classes=10):\n",
        "        super().__init__()\n",
        "        self.save_hyperparameters()\n",
        "        conv_blks = []\n",
        "        for (num_convs, out_channels) in arch:\n",
        "            conv_blks.append(vgg_block(num_convs, out_channels))\n",
        "        self.net = nn.Sequential(\n",
        "            *conv_blks, nn.Flatten(),\n",
        "            nn.LazyLinear(4096), nn.ReLU(), nn.Dropout(0.5),\n",
        "            nn.LazyLinear(4096), nn.ReLU(), nn.Dropout(0.5),\n",
        "            nn.LazyLinear(num_classes))\n",
        "        self.net.apply(d2l.init_cnn)"
      ],
      "metadata": {
        "id": "DcHqjbExAmW_"
      },
      "id": "DcHqjbExAmW_",
      "execution_count": null,
      "outputs": []
    },
    {
      "cell_type": "markdown",
      "source": [
        "The original VGG network had five convolutional blocks,\n",
        "among which the first two have one convolutional layer each\n",
        "and the latter three contain two convolutional layers each.\n",
        "The first block has 64 output channels\n",
        "and each subsequent block doubles the number of output channels,\n",
        "until that number reaches 512.\n",
        "Since this network uses eight convolutional layers\n",
        "and three fully connected layers, it is often called VGG-11.\n"
      ],
      "metadata": {
        "id": "5PKIwQKgAqkm"
      },
      "id": "5PKIwQKgAqkm"
    },
    {
      "cell_type": "code",
      "source": [
        "VGG(arch=((1, 64), (1, 128), (2, 256), (2, 512), (2, 512))).layer_summary(\n",
        "    (1, 1, 224, 224))"
      ],
      "metadata": {
        "colab": {
          "base_uri": "https://localhost:8080/"
        },
        "id": "KtMf7DgbArDy",
        "outputId": "18d4636e-70d5-4014-bd70-48551d3e6fc1"
      },
      "id": "KtMf7DgbArDy",
      "execution_count": null,
      "outputs": [
        {
          "output_type": "stream",
          "name": "stdout",
          "text": [
            "Sequential output shape:\t torch.Size([1, 64, 112, 112])\n",
            "Sequential output shape:\t torch.Size([1, 128, 56, 56])\n",
            "Sequential output shape:\t torch.Size([1, 256, 28, 28])\n",
            "Sequential output shape:\t torch.Size([1, 512, 14, 14])\n",
            "Sequential output shape:\t torch.Size([1, 512, 7, 7])\n",
            "Flatten output shape:\t torch.Size([1, 25088])\n",
            "Linear output shape:\t torch.Size([1, 4096])\n",
            "ReLU output shape:\t torch.Size([1, 4096])\n",
            "Dropout output shape:\t torch.Size([1, 4096])\n",
            "Linear output shape:\t torch.Size([1, 4096])\n",
            "ReLU output shape:\t torch.Size([1, 4096])\n",
            "Dropout output shape:\t torch.Size([1, 4096])\n",
            "Linear output shape:\t torch.Size([1, 10])\n"
          ]
        }
      ]
    },
    {
      "cell_type": "markdown",
      "source": [
        "As you can see, we halve height and width at each block,\n",
        "finally reaching a height and width of 7\n",
        "before flattening the representations\n",
        "for processing by the fully connected part of the network.\n",
        ":citet:`Simonyan.Zisserman.2014` described several other variants of VGG.\n",
        "In fact, it has become the norm to propose *families* of networks with\n",
        "different speed--accuracy trade-off when introducing a new architecture.\n",
        "\n",
        "## Training\n",
        "\n",
        "[**Since VGG-11 is computationally more demanding than AlexNet\n",
        "we construct a network with a smaller number of channels.**]\n",
        "This is more than sufficient for training on Fashion-MNIST.\n",
        "The [**model training**] process is similar to that of AlexNet in :numref:`sec_alexnet`.\n",
        "Again observe the close match between validation and training loss,\n",
        "suggesting only a small amount of overfitting.\n"
      ],
      "metadata": {
        "id": "xIYNo-gEAvmV"
      },
      "id": "xIYNo-gEAvmV"
    },
    {
      "cell_type": "code",
      "source": [
        "model = VGG(arch=((1, 16), (1, 32), (2, 64), (2, 128), (2, 128)), lr=0.01)\n",
        "trainer = d2l.Trainer(max_epochs=10, num_gpus=1)\n",
        "data = d2l.FashionMNIST(batch_size=128, resize=(224, 224))\n",
        "model.apply_init([next(iter(data.get_dataloader(True)))[0]], d2l.init_cnn)\n",
        "trainer.fit(model, data)"
      ],
      "metadata": {
        "colab": {
          "base_uri": "https://localhost:8080/",
          "height": 265
        },
        "id": "qgOTqWpgAwNd",
        "outputId": "edc5ecce-5459-4400-ca4d-0b81989c91e1"
      },
      "id": "qgOTqWpgAwNd",
      "execution_count": null,
      "outputs": [
        {
          "output_type": "display_data",
          "data": {
            "text/plain": [
              "<Figure size 350x250 with 1 Axes>"
            ],
            "image/svg+xml": "<?xml version=\"1.0\" encoding=\"utf-8\" standalone=\"no\"?>\n<!DOCTYPE svg PUBLIC \"-//W3C//DTD SVG 1.1//EN\"\n  \"http://www.w3.org/Graphics/SVG/1.1/DTD/svg11.dtd\">\n<svg xmlns:xlink=\"http://www.w3.org/1999/xlink\" width=\"238.965625pt\" height=\"183.35625pt\" viewBox=\"0 0 238.965625 183.35625\" xmlns=\"http://www.w3.org/2000/svg\" version=\"1.1\">\n <metadata>\n  <rdf:RDF xmlns:dc=\"http://purl.org/dc/elements/1.1/\" xmlns:cc=\"http://creativecommons.org/ns#\" xmlns:rdf=\"http://www.w3.org/1999/02/22-rdf-syntax-ns#\">\n   <cc:Work>\n    <dc:type rdf:resource=\"http://purl.org/dc/dcmitype/StillImage\"/>\n    <dc:date>2024-09-29T09:15:46.534192</dc:date>\n    <dc:format>image/svg+xml</dc:format>\n    <dc:creator>\n     <cc:Agent>\n      <dc:title>Matplotlib v3.7.2, https://matplotlib.org/</dc:title>\n     </cc:Agent>\n    </dc:creator>\n   </cc:Work>\n  </rdf:RDF>\n </metadata>\n <defs>\n  <style type=\"text/css\">*{stroke-linejoin: round; stroke-linecap: butt}</style>\n </defs>\n <g id=\"figure_1\">\n  <g id=\"patch_1\">\n   <path d=\"M 0 183.35625 \nL 238.965625 183.35625 \nL 238.965625 0 \nL 0 0 \nz\n\" style=\"fill: #ffffff\"/>\n  </g>\n  <g id=\"axes_1\">\n   <g id=\"patch_2\">\n    <path d=\"M 30.103125 145.8 \nL 225.403125 145.8 \nL 225.403125 7.2 \nL 30.103125 7.2 \nz\n\" style=\"fill: #ffffff\"/>\n   </g>\n   <g id=\"matplotlib.axis_1\">\n    <g id=\"xtick_1\">\n     <g id=\"line2d_1\">\n      <defs>\n       <path id=\"m8fb370ec0b\" d=\"M 0 0 \nL 0 3.5 \n\" style=\"stroke: #000000; stroke-width: 0.8\"/>\n      </defs>\n      <g>\n       <use xlink:href=\"#m8fb370ec0b\" x=\"30.103125\" y=\"145.8\" style=\"stroke: #000000; stroke-width: 0.8\"/>\n      </g>\n     </g>\n     <g id=\"text_1\">\n      <!-- 0 -->\n      <g transform=\"translate(26.921875 160.398438) scale(0.1 -0.1)\">\n       <defs>\n        <path id=\"DejaVuSans-30\" d=\"M 2034 4250 \nQ 1547 4250 1301 3770 \nQ 1056 3291 1056 2328 \nQ 1056 1369 1301 889 \nQ 1547 409 2034 409 \nQ 2525 409 2770 889 \nQ 3016 1369 3016 2328 \nQ 3016 3291 2770 3770 \nQ 2525 4250 2034 4250 \nz\nM 2034 4750 \nQ 2819 4750 3233 4129 \nQ 3647 3509 3647 2328 \nQ 3647 1150 3233 529 \nQ 2819 -91 2034 -91 \nQ 1250 -91 836 529 \nQ 422 1150 422 2328 \nQ 422 3509 836 4129 \nQ 1250 4750 2034 4750 \nz\n\" transform=\"scale(0.015625)\"/>\n       </defs>\n       <use xlink:href=\"#DejaVuSans-30\"/>\n      </g>\n     </g>\n    </g>\n    <g id=\"xtick_2\">\n     <g id=\"line2d_2\">\n      <g>\n       <use xlink:href=\"#m8fb370ec0b\" x=\"69.163125\" y=\"145.8\" style=\"stroke: #000000; stroke-width: 0.8\"/>\n      </g>\n     </g>\n     <g id=\"text_2\">\n      <!-- 2 -->\n      <g transform=\"translate(65.981875 160.398438) scale(0.1 -0.1)\">\n       <defs>\n        <path id=\"DejaVuSans-32\" d=\"M 1228 531 \nL 3431 531 \nL 3431 0 \nL 469 0 \nL 469 531 \nQ 828 903 1448 1529 \nQ 2069 2156 2228 2338 \nQ 2531 2678 2651 2914 \nQ 2772 3150 2772 3378 \nQ 2772 3750 2511 3984 \nQ 2250 4219 1831 4219 \nQ 1534 4219 1204 4116 \nQ 875 4013 500 3803 \nL 500 4441 \nQ 881 4594 1212 4672 \nQ 1544 4750 1819 4750 \nQ 2544 4750 2975 4387 \nQ 3406 4025 3406 3419 \nQ 3406 3131 3298 2873 \nQ 3191 2616 2906 2266 \nQ 2828 2175 2409 1742 \nQ 1991 1309 1228 531 \nz\n\" transform=\"scale(0.015625)\"/>\n       </defs>\n       <use xlink:href=\"#DejaVuSans-32\"/>\n      </g>\n     </g>\n    </g>\n    <g id=\"xtick_3\">\n     <g id=\"line2d_3\">\n      <g>\n       <use xlink:href=\"#m8fb370ec0b\" x=\"108.223125\" y=\"145.8\" style=\"stroke: #000000; stroke-width: 0.8\"/>\n      </g>\n     </g>\n     <g id=\"text_3\">\n      <!-- 4 -->\n      <g transform=\"translate(105.041875 160.398438) scale(0.1 -0.1)\">\n       <defs>\n        <path id=\"DejaVuSans-34\" d=\"M 2419 4116 \nL 825 1625 \nL 2419 1625 \nL 2419 4116 \nz\nM 2253 4666 \nL 3047 4666 \nL 3047 1625 \nL 3713 1625 \nL 3713 1100 \nL 3047 1100 \nL 3047 0 \nL 2419 0 \nL 2419 1100 \nL 313 1100 \nL 313 1709 \nL 2253 4666 \nz\n\" transform=\"scale(0.015625)\"/>\n       </defs>\n       <use xlink:href=\"#DejaVuSans-34\"/>\n      </g>\n     </g>\n    </g>\n    <g id=\"xtick_4\">\n     <g id=\"line2d_4\">\n      <g>\n       <use xlink:href=\"#m8fb370ec0b\" x=\"147.283125\" y=\"145.8\" style=\"stroke: #000000; stroke-width: 0.8\"/>\n      </g>\n     </g>\n     <g id=\"text_4\">\n      <!-- 6 -->\n      <g transform=\"translate(144.101875 160.398438) scale(0.1 -0.1)\">\n       <defs>\n        <path id=\"DejaVuSans-36\" d=\"M 2113 2584 \nQ 1688 2584 1439 2293 \nQ 1191 2003 1191 1497 \nQ 1191 994 1439 701 \nQ 1688 409 2113 409 \nQ 2538 409 2786 701 \nQ 3034 994 3034 1497 \nQ 3034 2003 2786 2293 \nQ 2538 2584 2113 2584 \nz\nM 3366 4563 \nL 3366 3988 \nQ 3128 4100 2886 4159 \nQ 2644 4219 2406 4219 \nQ 1781 4219 1451 3797 \nQ 1122 3375 1075 2522 \nQ 1259 2794 1537 2939 \nQ 1816 3084 2150 3084 \nQ 2853 3084 3261 2657 \nQ 3669 2231 3669 1497 \nQ 3669 778 3244 343 \nQ 2819 -91 2113 -91 \nQ 1303 -91 875 529 \nQ 447 1150 447 2328 \nQ 447 3434 972 4092 \nQ 1497 4750 2381 4750 \nQ 2619 4750 2861 4703 \nQ 3103 4656 3366 4563 \nz\n\" transform=\"scale(0.015625)\"/>\n       </defs>\n       <use xlink:href=\"#DejaVuSans-36\"/>\n      </g>\n     </g>\n    </g>\n    <g id=\"xtick_5\">\n     <g id=\"line2d_5\">\n      <g>\n       <use xlink:href=\"#m8fb370ec0b\" x=\"186.343125\" y=\"145.8\" style=\"stroke: #000000; stroke-width: 0.8\"/>\n      </g>\n     </g>\n     <g id=\"text_5\">\n      <!-- 8 -->\n      <g transform=\"translate(183.161875 160.398438) scale(0.1 -0.1)\">\n       <defs>\n        <path id=\"DejaVuSans-38\" d=\"M 2034 2216 \nQ 1584 2216 1326 1975 \nQ 1069 1734 1069 1313 \nQ 1069 891 1326 650 \nQ 1584 409 2034 409 \nQ 2484 409 2743 651 \nQ 3003 894 3003 1313 \nQ 3003 1734 2745 1975 \nQ 2488 2216 2034 2216 \nz\nM 1403 2484 \nQ 997 2584 770 2862 \nQ 544 3141 544 3541 \nQ 544 4100 942 4425 \nQ 1341 4750 2034 4750 \nQ 2731 4750 3128 4425 \nQ 3525 4100 3525 3541 \nQ 3525 3141 3298 2862 \nQ 3072 2584 2669 2484 \nQ 3125 2378 3379 2068 \nQ 3634 1759 3634 1313 \nQ 3634 634 3220 271 \nQ 2806 -91 2034 -91 \nQ 1263 -91 848 271 \nQ 434 634 434 1313 \nQ 434 1759 690 2068 \nQ 947 2378 1403 2484 \nz\nM 1172 3481 \nQ 1172 3119 1398 2916 \nQ 1625 2713 2034 2713 \nQ 2441 2713 2670 2916 \nQ 2900 3119 2900 3481 \nQ 2900 3844 2670 4047 \nQ 2441 4250 2034 4250 \nQ 1625 4250 1398 4047 \nQ 1172 3844 1172 3481 \nz\n\" transform=\"scale(0.015625)\"/>\n       </defs>\n       <use xlink:href=\"#DejaVuSans-38\"/>\n      </g>\n     </g>\n    </g>\n    <g id=\"xtick_6\">\n     <g id=\"line2d_6\">\n      <g>\n       <use xlink:href=\"#m8fb370ec0b\" x=\"225.403125\" y=\"145.8\" style=\"stroke: #000000; stroke-width: 0.8\"/>\n      </g>\n     </g>\n     <g id=\"text_6\">\n      <!-- 10 -->\n      <g transform=\"translate(219.040625 160.398438) scale(0.1 -0.1)\">\n       <defs>\n        <path id=\"DejaVuSans-31\" d=\"M 794 531 \nL 1825 531 \nL 1825 4091 \nL 703 3866 \nL 703 4441 \nL 1819 4666 \nL 2450 4666 \nL 2450 531 \nL 3481 531 \nL 3481 0 \nL 794 0 \nL 794 531 \nz\n\" transform=\"scale(0.015625)\"/>\n       </defs>\n       <use xlink:href=\"#DejaVuSans-31\"/>\n       <use xlink:href=\"#DejaVuSans-30\" x=\"63.623047\"/>\n      </g>\n     </g>\n    </g>\n    <g id=\"text_7\">\n     <!-- epoch -->\n     <g transform=\"translate(112.525 174.076563) scale(0.1 -0.1)\">\n      <defs>\n       <path id=\"DejaVuSans-65\" d=\"M 3597 1894 \nL 3597 1613 \nL 953 1613 \nQ 991 1019 1311 708 \nQ 1631 397 2203 397 \nQ 2534 397 2845 478 \nQ 3156 559 3463 722 \nL 3463 178 \nQ 3153 47 2828 -22 \nQ 2503 -91 2169 -91 \nQ 1331 -91 842 396 \nQ 353 884 353 1716 \nQ 353 2575 817 3079 \nQ 1281 3584 2069 3584 \nQ 2775 3584 3186 3129 \nQ 3597 2675 3597 1894 \nz\nM 3022 2063 \nQ 3016 2534 2758 2815 \nQ 2500 3097 2075 3097 \nQ 1594 3097 1305 2825 \nQ 1016 2553 972 2059 \nL 3022 2063 \nz\n\" transform=\"scale(0.015625)\"/>\n       <path id=\"DejaVuSans-70\" d=\"M 1159 525 \nL 1159 -1331 \nL 581 -1331 \nL 581 3500 \nL 1159 3500 \nL 1159 2969 \nQ 1341 3281 1617 3432 \nQ 1894 3584 2278 3584 \nQ 2916 3584 3314 3078 \nQ 3713 2572 3713 1747 \nQ 3713 922 3314 415 \nQ 2916 -91 2278 -91 \nQ 1894 -91 1617 61 \nQ 1341 213 1159 525 \nz\nM 3116 1747 \nQ 3116 2381 2855 2742 \nQ 2594 3103 2138 3103 \nQ 1681 3103 1420 2742 \nQ 1159 2381 1159 1747 \nQ 1159 1113 1420 752 \nQ 1681 391 2138 391 \nQ 2594 391 2855 752 \nQ 3116 1113 3116 1747 \nz\n\" transform=\"scale(0.015625)\"/>\n       <path id=\"DejaVuSans-6f\" d=\"M 1959 3097 \nQ 1497 3097 1228 2736 \nQ 959 2375 959 1747 \nQ 959 1119 1226 758 \nQ 1494 397 1959 397 \nQ 2419 397 2687 759 \nQ 2956 1122 2956 1747 \nQ 2956 2369 2687 2733 \nQ 2419 3097 1959 3097 \nz\nM 1959 3584 \nQ 2709 3584 3137 3096 \nQ 3566 2609 3566 1747 \nQ 3566 888 3137 398 \nQ 2709 -91 1959 -91 \nQ 1206 -91 779 398 \nQ 353 888 353 1747 \nQ 353 2609 779 3096 \nQ 1206 3584 1959 3584 \nz\n\" transform=\"scale(0.015625)\"/>\n       <path id=\"DejaVuSans-63\" d=\"M 3122 3366 \nL 3122 2828 \nQ 2878 2963 2633 3030 \nQ 2388 3097 2138 3097 \nQ 1578 3097 1268 2742 \nQ 959 2388 959 1747 \nQ 959 1106 1268 751 \nQ 1578 397 2138 397 \nQ 2388 397 2633 464 \nQ 2878 531 3122 666 \nL 3122 134 \nQ 2881 22 2623 -34 \nQ 2366 -91 2075 -91 \nQ 1284 -91 818 406 \nQ 353 903 353 1747 \nQ 353 2603 823 3093 \nQ 1294 3584 2113 3584 \nQ 2378 3584 2631 3529 \nQ 2884 3475 3122 3366 \nz\n\" transform=\"scale(0.015625)\"/>\n       <path id=\"DejaVuSans-68\" d=\"M 3513 2113 \nL 3513 0 \nL 2938 0 \nL 2938 2094 \nQ 2938 2591 2744 2837 \nQ 2550 3084 2163 3084 \nQ 1697 3084 1428 2787 \nQ 1159 2491 1159 1978 \nL 1159 0 \nL 581 0 \nL 581 4863 \nL 1159 4863 \nL 1159 2956 \nQ 1366 3272 1645 3428 \nQ 1925 3584 2291 3584 \nQ 2894 3584 3203 3211 \nQ 3513 2838 3513 2113 \nz\n\" transform=\"scale(0.015625)\"/>\n      </defs>\n      <use xlink:href=\"#DejaVuSans-65\"/>\n      <use xlink:href=\"#DejaVuSans-70\" x=\"61.523438\"/>\n      <use xlink:href=\"#DejaVuSans-6f\" x=\"125\"/>\n      <use xlink:href=\"#DejaVuSans-63\" x=\"186.181641\"/>\n      <use xlink:href=\"#DejaVuSans-68\" x=\"241.162109\"/>\n     </g>\n    </g>\n   </g>\n   <g id=\"matplotlib.axis_2\">\n    <g id=\"ytick_1\">\n     <g id=\"line2d_7\">\n      <defs>\n       <path id=\"mc51cfb9966\" d=\"M 0 0 \nL -3.5 0 \n\" style=\"stroke: #000000; stroke-width: 0.8\"/>\n      </defs>\n      <g>\n       <use xlink:href=\"#mc51cfb9966\" x=\"30.103125\" y=\"126.735427\" style=\"stroke: #000000; stroke-width: 0.8\"/>\n      </g>\n     </g>\n     <g id=\"text_8\">\n      <!-- 0.5 -->\n      <g transform=\"translate(7.2 130.534646) scale(0.1 -0.1)\">\n       <defs>\n        <path id=\"DejaVuSans-2e\" d=\"M 684 794 \nL 1344 794 \nL 1344 0 \nL 684 0 \nL 684 794 \nz\n\" transform=\"scale(0.015625)\"/>\n        <path id=\"DejaVuSans-35\" d=\"M 691 4666 \nL 3169 4666 \nL 3169 4134 \nL 1269 4134 \nL 1269 2991 \nQ 1406 3038 1543 3061 \nQ 1681 3084 1819 3084 \nQ 2600 3084 3056 2656 \nQ 3513 2228 3513 1497 \nQ 3513 744 3044 326 \nQ 2575 -91 1722 -91 \nQ 1428 -91 1123 -41 \nQ 819 9 494 109 \nL 494 744 \nQ 775 591 1075 516 \nQ 1375 441 1709 441 \nQ 2250 441 2565 725 \nQ 2881 1009 2881 1497 \nQ 2881 1984 2565 2268 \nQ 2250 2553 1709 2553 \nQ 1456 2553 1204 2497 \nQ 953 2441 691 2322 \nL 691 4666 \nz\n\" transform=\"scale(0.015625)\"/>\n       </defs>\n       <use xlink:href=\"#DejaVuSans-30\"/>\n       <use xlink:href=\"#DejaVuSans-2e\" x=\"63.623047\"/>\n       <use xlink:href=\"#DejaVuSans-35\" x=\"95.410156\"/>\n      </g>\n     </g>\n    </g>\n    <g id=\"ytick_2\">\n     <g id=\"line2d_8\">\n      <g>\n       <use xlink:href=\"#mc51cfb9966\" x=\"30.103125\" y=\"95.310364\" style=\"stroke: #000000; stroke-width: 0.8\"/>\n      </g>\n     </g>\n     <g id=\"text_9\">\n      <!-- 1.0 -->\n      <g transform=\"translate(7.2 99.109582) scale(0.1 -0.1)\">\n       <use xlink:href=\"#DejaVuSans-31\"/>\n       <use xlink:href=\"#DejaVuSans-2e\" x=\"63.623047\"/>\n       <use xlink:href=\"#DejaVuSans-30\" x=\"95.410156\"/>\n      </g>\n     </g>\n    </g>\n    <g id=\"ytick_3\">\n     <g id=\"line2d_9\">\n      <g>\n       <use xlink:href=\"#mc51cfb9966\" x=\"30.103125\" y=\"63.8853\" style=\"stroke: #000000; stroke-width: 0.8\"/>\n      </g>\n     </g>\n     <g id=\"text_10\">\n      <!-- 1.5 -->\n      <g transform=\"translate(7.2 67.684519) scale(0.1 -0.1)\">\n       <use xlink:href=\"#DejaVuSans-31\"/>\n       <use xlink:href=\"#DejaVuSans-2e\" x=\"63.623047\"/>\n       <use xlink:href=\"#DejaVuSans-35\" x=\"95.410156\"/>\n      </g>\n     </g>\n    </g>\n    <g id=\"ytick_4\">\n     <g id=\"line2d_10\">\n      <g>\n       <use xlink:href=\"#mc51cfb9966\" x=\"30.103125\" y=\"32.460237\" style=\"stroke: #000000; stroke-width: 0.8\"/>\n      </g>\n     </g>\n     <g id=\"text_11\">\n      <!-- 2.0 -->\n      <g transform=\"translate(7.2 36.259456) scale(0.1 -0.1)\">\n       <use xlink:href=\"#DejaVuSans-32\"/>\n       <use xlink:href=\"#DejaVuSans-2e\" x=\"63.623047\"/>\n       <use xlink:href=\"#DejaVuSans-30\" x=\"95.410156\"/>\n      </g>\n     </g>\n    </g>\n   </g>\n   <g id=\"line2d_11\">\n    <path d=\"M 34.954394 13.5 \n\" clip-path=\"url(#p37b1caaa51)\" style=\"fill: none; stroke: #1f77b4; stroke-width: 1.5; stroke-linecap: square\"/>\n   </g>\n   <g id=\"line2d_12\">\n    <path d=\"M 34.954394 13.5 \nL 44.698573 15.78807 \n\" clip-path=\"url(#p37b1caaa51)\" style=\"fill: none; stroke: #1f77b4; stroke-width: 1.5; stroke-linecap: square\"/>\n   </g>\n   <g id=\"line2d_13\">\n    <path d=\"M 34.954394 13.5 \nL 44.698573 15.78807 \n\" clip-path=\"url(#p37b1caaa51)\" style=\"fill: none; stroke: #1f77b4; stroke-width: 1.5; stroke-linecap: square\"/>\n   </g>\n   <g id=\"line2d_14\">\n    <path d=\"M 49.633125 38.495956 \n\" clip-path=\"url(#p37b1caaa51)\" style=\"fill: none; stroke-dasharray: 5.55,2.4; stroke-dashoffset: 0; stroke: #ff7f0e; stroke-width: 1.5\"/>\n   </g>\n   <g id=\"line2d_15\"/>\n   <g id=\"line2d_16\">\n    <path d=\"M 34.954394 13.5 \nL 44.698573 15.78807 \n\" clip-path=\"url(#p37b1caaa51)\" style=\"fill: none; stroke: #1f77b4; stroke-width: 1.5; stroke-linecap: square\"/>\n   </g>\n   <g id=\"line2d_17\">\n    <path d=\"M 49.633125 38.495956 \n\" clip-path=\"url(#p37b1caaa51)\" style=\"fill: none; stroke-dasharray: 5.55,2.4; stroke-dashoffset: 0; stroke: #ff7f0e; stroke-width: 1.5\"/>\n   </g>\n   <g id=\"line2d_18\">\n    <path d=\"M 49.633125 131.496424 \n\" clip-path=\"url(#p37b1caaa51)\" style=\"fill: none; stroke-dasharray: 9.6,2.4,1.5,2.4; stroke-dashoffset: 0; stroke: #2ca02c; stroke-width: 1.5\"/>\n   </g>\n   <g id=\"line2d_19\">\n    <path d=\"M 34.954394 13.5 \nL 44.698573 15.78807 \nL 54.442752 94.982599 \n\" clip-path=\"url(#p37b1caaa51)\" style=\"fill: none; stroke: #1f77b4; stroke-width: 1.5; stroke-linecap: square\"/>\n   </g>\n   <g id=\"line2d_20\">\n    <path d=\"M 49.633125 38.495956 \n\" clip-path=\"url(#p37b1caaa51)\" style=\"fill: none; stroke-dasharray: 5.55,2.4; stroke-dashoffset: 0; stroke: #ff7f0e; stroke-width: 1.5\"/>\n   </g>\n   <g id=\"line2d_21\">\n    <path d=\"M 49.633125 131.496424 \n\" clip-path=\"url(#p37b1caaa51)\" style=\"fill: none; stroke-dasharray: 9.6,2.4,1.5,2.4; stroke-dashoffset: 0; stroke: #2ca02c; stroke-width: 1.5\"/>\n   </g>\n   <g id=\"line2d_22\">\n    <path d=\"M 34.954394 13.5 \nL 44.698573 15.78807 \nL 54.442752 94.982599 \nL 64.186931 115.667964 \n\" clip-path=\"url(#p37b1caaa51)\" style=\"fill: none; stroke: #1f77b4; stroke-width: 1.5; stroke-linecap: square\"/>\n   </g>\n   <g id=\"line2d_23\">\n    <path d=\"M 49.633125 38.495956 \n\" clip-path=\"url(#p37b1caaa51)\" style=\"fill: none; stroke-dasharray: 5.55,2.4; stroke-dashoffset: 0; stroke: #ff7f0e; stroke-width: 1.5\"/>\n   </g>\n   <g id=\"line2d_24\">\n    <path d=\"M 49.633125 131.496424 \n\" clip-path=\"url(#p37b1caaa51)\" style=\"fill: none; stroke-dasharray: 9.6,2.4,1.5,2.4; stroke-dashoffset: 0; stroke: #2ca02c; stroke-width: 1.5\"/>\n   </g>\n   <g id=\"line2d_25\">\n    <path d=\"M 34.954394 13.5 \nL 44.698573 15.78807 \nL 54.442752 94.982599 \nL 64.186931 115.667964 \n\" clip-path=\"url(#p37b1caaa51)\" style=\"fill: none; stroke: #1f77b4; stroke-width: 1.5; stroke-linecap: square\"/>\n   </g>\n   <g id=\"line2d_26\">\n    <path d=\"M 49.633125 38.495956 \nL 69.163125 123.265285 \n\" clip-path=\"url(#p37b1caaa51)\" style=\"fill: none; stroke-dasharray: 5.55,2.4; stroke-dashoffset: 0; stroke: #ff7f0e; stroke-width: 1.5\"/>\n   </g>\n   <g id=\"line2d_27\">\n    <path d=\"M 49.633125 131.496424 \n\" clip-path=\"url(#p37b1caaa51)\" style=\"fill: none; stroke-dasharray: 9.6,2.4,1.5,2.4; stroke-dashoffset: 0; stroke: #2ca02c; stroke-width: 1.5\"/>\n   </g>\n   <g id=\"line2d_28\">\n    <path d=\"M 34.954394 13.5 \nL 44.698573 15.78807 \nL 54.442752 94.982599 \nL 64.186931 115.667964 \n\" clip-path=\"url(#p37b1caaa51)\" style=\"fill: none; stroke: #1f77b4; stroke-width: 1.5; stroke-linecap: square\"/>\n   </g>\n   <g id=\"line2d_29\">\n    <path d=\"M 49.633125 38.495956 \nL 69.163125 123.265285 \n\" clip-path=\"url(#p37b1caaa51)\" style=\"fill: none; stroke-dasharray: 5.55,2.4; stroke-dashoffset: 0; stroke: #ff7f0e; stroke-width: 1.5\"/>\n   </g>\n   <g id=\"line2d_30\">\n    <path d=\"M 49.633125 131.496424 \nL 69.163125 108.574028 \n\" clip-path=\"url(#p37b1caaa51)\" style=\"fill: none; stroke-dasharray: 9.6,2.4,1.5,2.4; stroke-dashoffset: 0; stroke: #2ca02c; stroke-width: 1.5\"/>\n   </g>\n   <g id=\"line2d_31\">\n    <path d=\"M 34.954394 13.5 \nL 44.698573 15.78807 \nL 54.442752 94.982599 \nL 64.186931 115.667964 \nL 73.93111 122.336617 \n\" clip-path=\"url(#p37b1caaa51)\" style=\"fill: none; stroke: #1f77b4; stroke-width: 1.5; stroke-linecap: square\"/>\n   </g>\n   <g id=\"line2d_32\">\n    <path d=\"M 49.633125 38.495956 \nL 69.163125 123.265285 \n\" clip-path=\"url(#p37b1caaa51)\" style=\"fill: none; stroke-dasharray: 5.55,2.4; stroke-dashoffset: 0; stroke: #ff7f0e; stroke-width: 1.5\"/>\n   </g>\n   <g id=\"line2d_33\">\n    <path d=\"M 49.633125 131.496424 \nL 69.163125 108.574028 \n\" clip-path=\"url(#p37b1caaa51)\" style=\"fill: none; stroke-dasharray: 9.6,2.4,1.5,2.4; stroke-dashoffset: 0; stroke: #2ca02c; stroke-width: 1.5\"/>\n   </g>\n   <g id=\"line2d_34\">\n    <path d=\"M 34.954394 13.5 \nL 44.698573 15.78807 \nL 54.442752 94.982599 \nL 64.186931 115.667964 \nL 73.93111 122.336617 \nL 83.675289 126.742475 \n\" clip-path=\"url(#p37b1caaa51)\" style=\"fill: none; stroke: #1f77b4; stroke-width: 1.5; stroke-linecap: square\"/>\n   </g>\n   <g id=\"line2d_35\">\n    <path d=\"M 49.633125 38.495956 \nL 69.163125 123.265285 \n\" clip-path=\"url(#p37b1caaa51)\" style=\"fill: none; stroke-dasharray: 5.55,2.4; stroke-dashoffset: 0; stroke: #ff7f0e; stroke-width: 1.5\"/>\n   </g>\n   <g id=\"line2d_36\">\n    <path d=\"M 49.633125 131.496424 \nL 69.163125 108.574028 \n\" clip-path=\"url(#p37b1caaa51)\" style=\"fill: none; stroke-dasharray: 9.6,2.4,1.5,2.4; stroke-dashoffset: 0; stroke: #2ca02c; stroke-width: 1.5\"/>\n   </g>\n   <g id=\"line2d_37\">\n    <path d=\"M 34.954394 13.5 \nL 44.698573 15.78807 \nL 54.442752 94.982599 \nL 64.186931 115.667964 \nL 73.93111 122.336617 \nL 83.675289 126.742475 \n\" clip-path=\"url(#p37b1caaa51)\" style=\"fill: none; stroke: #1f77b4; stroke-width: 1.5; stroke-linecap: square\"/>\n   </g>\n   <g id=\"line2d_38\">\n    <path d=\"M 49.633125 38.495956 \nL 69.163125 123.265285 \nL 88.693125 128.82814 \n\" clip-path=\"url(#p37b1caaa51)\" style=\"fill: none; stroke-dasharray: 5.55,2.4; stroke-dashoffset: 0; stroke: #ff7f0e; stroke-width: 1.5\"/>\n   </g>\n   <g id=\"line2d_39\">\n    <path d=\"M 49.633125 131.496424 \nL 69.163125 108.574028 \n\" clip-path=\"url(#p37b1caaa51)\" style=\"fill: none; stroke-dasharray: 9.6,2.4,1.5,2.4; stroke-dashoffset: 0; stroke: #2ca02c; stroke-width: 1.5\"/>\n   </g>\n   <g id=\"line2d_40\">\n    <path d=\"M 34.954394 13.5 \nL 44.698573 15.78807 \nL 54.442752 94.982599 \nL 64.186931 115.667964 \nL 73.93111 122.336617 \nL 83.675289 126.742475 \n\" clip-path=\"url(#p37b1caaa51)\" style=\"fill: none; stroke: #1f77b4; stroke-width: 1.5; stroke-linecap: square\"/>\n   </g>\n   <g id=\"line2d_41\">\n    <path d=\"M 49.633125 38.495956 \nL 69.163125 123.265285 \nL 88.693125 128.82814 \n\" clip-path=\"url(#p37b1caaa51)\" style=\"fill: none; stroke-dasharray: 5.55,2.4; stroke-dashoffset: 0; stroke: #ff7f0e; stroke-width: 1.5\"/>\n   </g>\n   <g id=\"line2d_42\">\n    <path d=\"M 49.633125 131.496424 \nL 69.163125 108.574028 \nL 88.693125 106.348914 \n\" clip-path=\"url(#p37b1caaa51)\" style=\"fill: none; stroke-dasharray: 9.6,2.4,1.5,2.4; stroke-dashoffset: 0; stroke: #2ca02c; stroke-width: 1.5\"/>\n   </g>\n   <g id=\"line2d_43\">\n    <path d=\"M 34.954394 13.5 \nL 44.698573 15.78807 \nL 54.442752 94.982599 \nL 64.186931 115.667964 \nL 73.93111 122.336617 \nL 83.675289 126.742475 \nL 93.419468 129.038267 \n\" clip-path=\"url(#p37b1caaa51)\" style=\"fill: none; stroke: #1f77b4; stroke-width: 1.5; stroke-linecap: square\"/>\n   </g>\n   <g id=\"line2d_44\">\n    <path d=\"M 49.633125 38.495956 \nL 69.163125 123.265285 \nL 88.693125 128.82814 \n\" clip-path=\"url(#p37b1caaa51)\" style=\"fill: none; stroke-dasharray: 5.55,2.4; stroke-dashoffset: 0; stroke: #ff7f0e; stroke-width: 1.5\"/>\n   </g>\n   <g id=\"line2d_45\">\n    <path d=\"M 49.633125 131.496424 \nL 69.163125 108.574028 \nL 88.693125 106.348914 \n\" clip-path=\"url(#p37b1caaa51)\" style=\"fill: none; stroke-dasharray: 9.6,2.4,1.5,2.4; stroke-dashoffset: 0; stroke: #2ca02c; stroke-width: 1.5\"/>\n   </g>\n   <g id=\"line2d_46\">\n    <path d=\"M 34.954394 13.5 \nL 44.698573 15.78807 \nL 54.442752 94.982599 \nL 64.186931 115.667964 \nL 73.93111 122.336617 \nL 83.675289 126.742475 \nL 93.419468 129.038267 \nL 103.163647 130.854169 \n\" clip-path=\"url(#p37b1caaa51)\" style=\"fill: none; stroke: #1f77b4; stroke-width: 1.5; stroke-linecap: square\"/>\n   </g>\n   <g id=\"line2d_47\">\n    <path d=\"M 49.633125 38.495956 \nL 69.163125 123.265285 \nL 88.693125 128.82814 \n\" clip-path=\"url(#p37b1caaa51)\" style=\"fill: none; stroke-dasharray: 5.55,2.4; stroke-dashoffset: 0; stroke: #ff7f0e; stroke-width: 1.5\"/>\n   </g>\n   <g id=\"line2d_48\">\n    <path d=\"M 49.633125 131.496424 \nL 69.163125 108.574028 \nL 88.693125 106.348914 \n\" clip-path=\"url(#p37b1caaa51)\" style=\"fill: none; stroke-dasharray: 9.6,2.4,1.5,2.4; stroke-dashoffset: 0; stroke: #2ca02c; stroke-width: 1.5\"/>\n   </g>\n   <g id=\"line2d_49\">\n    <path d=\"M 34.954394 13.5 \nL 44.698573 15.78807 \nL 54.442752 94.982599 \nL 64.186931 115.667964 \nL 73.93111 122.336617 \nL 83.675289 126.742475 \nL 93.419468 129.038267 \nL 103.163647 130.854169 \n\" clip-path=\"url(#p37b1caaa51)\" style=\"fill: none; stroke: #1f77b4; stroke-width: 1.5; stroke-linecap: square\"/>\n   </g>\n   <g id=\"line2d_50\">\n    <path d=\"M 49.633125 38.495956 \nL 69.163125 123.265285 \nL 88.693125 128.82814 \nL 108.223125 133.282448 \n\" clip-path=\"url(#p37b1caaa51)\" style=\"fill: none; stroke-dasharray: 5.55,2.4; stroke-dashoffset: 0; stroke: #ff7f0e; stroke-width: 1.5\"/>\n   </g>\n   <g id=\"line2d_51\">\n    <path d=\"M 49.633125 131.496424 \nL 69.163125 108.574028 \nL 88.693125 106.348914 \n\" clip-path=\"url(#p37b1caaa51)\" style=\"fill: none; stroke-dasharray: 9.6,2.4,1.5,2.4; stroke-dashoffset: 0; stroke: #2ca02c; stroke-width: 1.5\"/>\n   </g>\n   <g id=\"line2d_52\">\n    <path d=\"M 34.954394 13.5 \nL 44.698573 15.78807 \nL 54.442752 94.982599 \nL 64.186931 115.667964 \nL 73.93111 122.336617 \nL 83.675289 126.742475 \nL 93.419468 129.038267 \nL 103.163647 130.854169 \n\" clip-path=\"url(#p37b1caaa51)\" style=\"fill: none; stroke: #1f77b4; stroke-width: 1.5; stroke-linecap: square\"/>\n   </g>\n   <g id=\"line2d_53\">\n    <path d=\"M 49.633125 38.495956 \nL 69.163125 123.265285 \nL 88.693125 128.82814 \nL 108.223125 133.282448 \n\" clip-path=\"url(#p37b1caaa51)\" style=\"fill: none; stroke-dasharray: 5.55,2.4; stroke-dashoffset: 0; stroke: #ff7f0e; stroke-width: 1.5\"/>\n   </g>\n   <g id=\"line2d_54\">\n    <path d=\"M 49.633125 131.496424 \nL 69.163125 108.574028 \nL 88.693125 106.348914 \nL 108.223125 104.378633 \n\" clip-path=\"url(#p37b1caaa51)\" style=\"fill: none; stroke-dasharray: 9.6,2.4,1.5,2.4; stroke-dashoffset: 0; stroke: #2ca02c; stroke-width: 1.5\"/>\n   </g>\n   <g id=\"line2d_55\">\n    <path d=\"M 34.954394 13.5 \nL 44.698573 15.78807 \nL 54.442752 94.982599 \nL 64.186931 115.667964 \nL 73.93111 122.336617 \nL 83.675289 126.742475 \nL 93.419468 129.038267 \nL 103.163647 130.854169 \nL 112.907826 131.935885 \n\" clip-path=\"url(#p37b1caaa51)\" style=\"fill: none; stroke: #1f77b4; stroke-width: 1.5; stroke-linecap: square\"/>\n   </g>\n   <g id=\"line2d_56\">\n    <path d=\"M 49.633125 38.495956 \nL 69.163125 123.265285 \nL 88.693125 128.82814 \nL 108.223125 133.282448 \n\" clip-path=\"url(#p37b1caaa51)\" style=\"fill: none; stroke-dasharray: 5.55,2.4; stroke-dashoffset: 0; stroke: #ff7f0e; stroke-width: 1.5\"/>\n   </g>\n   <g id=\"line2d_57\">\n    <path d=\"M 49.633125 131.496424 \nL 69.163125 108.574028 \nL 88.693125 106.348914 \nL 108.223125 104.378633 \n\" clip-path=\"url(#p37b1caaa51)\" style=\"fill: none; stroke-dasharray: 9.6,2.4,1.5,2.4; stroke-dashoffset: 0; stroke: #2ca02c; stroke-width: 1.5\"/>\n   </g>\n   <g id=\"line2d_58\">\n    <path d=\"M 34.954394 13.5 \nL 44.698573 15.78807 \nL 54.442752 94.982599 \nL 64.186931 115.667964 \nL 73.93111 122.336617 \nL 83.675289 126.742475 \nL 93.419468 129.038267 \nL 103.163647 130.854169 \nL 112.907826 131.935885 \nL 122.652006 133.619561 \n\" clip-path=\"url(#p37b1caaa51)\" style=\"fill: none; stroke: #1f77b4; stroke-width: 1.5; stroke-linecap: square\"/>\n   </g>\n   <g id=\"line2d_59\">\n    <path d=\"M 49.633125 38.495956 \nL 69.163125 123.265285 \nL 88.693125 128.82814 \nL 108.223125 133.282448 \n\" clip-path=\"url(#p37b1caaa51)\" style=\"fill: none; stroke-dasharray: 5.55,2.4; stroke-dashoffset: 0; stroke: #ff7f0e; stroke-width: 1.5\"/>\n   </g>\n   <g id=\"line2d_60\">\n    <path d=\"M 49.633125 131.496424 \nL 69.163125 108.574028 \nL 88.693125 106.348914 \nL 108.223125 104.378633 \n\" clip-path=\"url(#p37b1caaa51)\" style=\"fill: none; stroke-dasharray: 9.6,2.4,1.5,2.4; stroke-dashoffset: 0; stroke: #2ca02c; stroke-width: 1.5\"/>\n   </g>\n   <g id=\"line2d_61\">\n    <path d=\"M 34.954394 13.5 \nL 44.698573 15.78807 \nL 54.442752 94.982599 \nL 64.186931 115.667964 \nL 73.93111 122.336617 \nL 83.675289 126.742475 \nL 93.419468 129.038267 \nL 103.163647 130.854169 \nL 112.907826 131.935885 \nL 122.652006 133.619561 \n\" clip-path=\"url(#p37b1caaa51)\" style=\"fill: none; stroke: #1f77b4; stroke-width: 1.5; stroke-linecap: square\"/>\n   </g>\n   <g id=\"line2d_62\">\n    <path d=\"M 49.633125 38.495956 \nL 69.163125 123.265285 \nL 88.693125 128.82814 \nL 108.223125 133.282448 \nL 127.753125 134.748411 \n\" clip-path=\"url(#p37b1caaa51)\" style=\"fill: none; stroke-dasharray: 5.55,2.4; stroke-dashoffset: 0; stroke: #ff7f0e; stroke-width: 1.5\"/>\n   </g>\n   <g id=\"line2d_63\">\n    <path d=\"M 49.633125 131.496424 \nL 69.163125 108.574028 \nL 88.693125 106.348914 \nL 108.223125 104.378633 \n\" clip-path=\"url(#p37b1caaa51)\" style=\"fill: none; stroke-dasharray: 9.6,2.4,1.5,2.4; stroke-dashoffset: 0; stroke: #2ca02c; stroke-width: 1.5\"/>\n   </g>\n   <g id=\"line2d_64\">\n    <path d=\"M 34.954394 13.5 \nL 44.698573 15.78807 \nL 54.442752 94.982599 \nL 64.186931 115.667964 \nL 73.93111 122.336617 \nL 83.675289 126.742475 \nL 93.419468 129.038267 \nL 103.163647 130.854169 \nL 112.907826 131.935885 \nL 122.652006 133.619561 \n\" clip-path=\"url(#p37b1caaa51)\" style=\"fill: none; stroke: #1f77b4; stroke-width: 1.5; stroke-linecap: square\"/>\n   </g>\n   <g id=\"line2d_65\">\n    <path d=\"M 49.633125 38.495956 \nL 69.163125 123.265285 \nL 88.693125 128.82814 \nL 108.223125 133.282448 \nL 127.753125 134.748411 \n\" clip-path=\"url(#p37b1caaa51)\" style=\"fill: none; stroke-dasharray: 5.55,2.4; stroke-dashoffset: 0; stroke: #ff7f0e; stroke-width: 1.5\"/>\n   </g>\n   <g id=\"line2d_66\">\n    <path d=\"M 49.633125 131.496424 \nL 69.163125 108.574028 \nL 88.693125 106.348914 \nL 108.223125 104.378633 \nL 127.753125 103.781954 \n\" clip-path=\"url(#p37b1caaa51)\" style=\"fill: none; stroke-dasharray: 9.6,2.4,1.5,2.4; stroke-dashoffset: 0; stroke: #2ca02c; stroke-width: 1.5\"/>\n   </g>\n   <g id=\"line2d_67\">\n    <path d=\"M 34.954394 13.5 \nL 44.698573 15.78807 \nL 54.442752 94.982599 \nL 64.186931 115.667964 \nL 73.93111 122.336617 \nL 83.675289 126.742475 \nL 93.419468 129.038267 \nL 103.163647 130.854169 \nL 112.907826 131.935885 \nL 122.652006 133.619561 \nL 132.396185 134.41496 \n\" clip-path=\"url(#p37b1caaa51)\" style=\"fill: none; stroke: #1f77b4; stroke-width: 1.5; stroke-linecap: square\"/>\n   </g>\n   <g id=\"line2d_68\">\n    <path d=\"M 49.633125 38.495956 \nL 69.163125 123.265285 \nL 88.693125 128.82814 \nL 108.223125 133.282448 \nL 127.753125 134.748411 \n\" clip-path=\"url(#p37b1caaa51)\" style=\"fill: none; stroke-dasharray: 5.55,2.4; stroke-dashoffset: 0; stroke: #ff7f0e; stroke-width: 1.5\"/>\n   </g>\n   <g id=\"line2d_69\">\n    <path d=\"M 49.633125 131.496424 \nL 69.163125 108.574028 \nL 88.693125 106.348914 \nL 108.223125 104.378633 \nL 127.753125 103.781954 \n\" clip-path=\"url(#p37b1caaa51)\" style=\"fill: none; stroke-dasharray: 9.6,2.4,1.5,2.4; stroke-dashoffset: 0; stroke: #2ca02c; stroke-width: 1.5\"/>\n   </g>\n   <g id=\"line2d_70\">\n    <path d=\"M 34.954394 13.5 \nL 44.698573 15.78807 \nL 54.442752 94.982599 \nL 64.186931 115.667964 \nL 73.93111 122.336617 \nL 83.675289 126.742475 \nL 93.419468 129.038267 \nL 103.163647 130.854169 \nL 112.907826 131.935885 \nL 122.652006 133.619561 \nL 132.396185 134.41496 \nL 142.140364 135.343696 \n\" clip-path=\"url(#p37b1caaa51)\" style=\"fill: none; stroke: #1f77b4; stroke-width: 1.5; stroke-linecap: square\"/>\n   </g>\n   <g id=\"line2d_71\">\n    <path d=\"M 49.633125 38.495956 \nL 69.163125 123.265285 \nL 88.693125 128.82814 \nL 108.223125 133.282448 \nL 127.753125 134.748411 \n\" clip-path=\"url(#p37b1caaa51)\" style=\"fill: none; stroke-dasharray: 5.55,2.4; stroke-dashoffset: 0; stroke: #ff7f0e; stroke-width: 1.5\"/>\n   </g>\n   <g id=\"line2d_72\">\n    <path d=\"M 49.633125 131.496424 \nL 69.163125 108.574028 \nL 88.693125 106.348914 \nL 108.223125 104.378633 \nL 127.753125 103.781954 \n\" clip-path=\"url(#p37b1caaa51)\" style=\"fill: none; stroke-dasharray: 9.6,2.4,1.5,2.4; stroke-dashoffset: 0; stroke: #2ca02c; stroke-width: 1.5\"/>\n   </g>\n   <g id=\"line2d_73\">\n    <path d=\"M 34.954394 13.5 \nL 44.698573 15.78807 \nL 54.442752 94.982599 \nL 64.186931 115.667964 \nL 73.93111 122.336617 \nL 83.675289 126.742475 \nL 93.419468 129.038267 \nL 103.163647 130.854169 \nL 112.907826 131.935885 \nL 122.652006 133.619561 \nL 132.396185 134.41496 \nL 142.140364 135.343696 \n\" clip-path=\"url(#p37b1caaa51)\" style=\"fill: none; stroke: #1f77b4; stroke-width: 1.5; stroke-linecap: square\"/>\n   </g>\n   <g id=\"line2d_74\">\n    <path d=\"M 49.633125 38.495956 \nL 69.163125 123.265285 \nL 88.693125 128.82814 \nL 108.223125 133.282448 \nL 127.753125 134.748411 \nL 147.283125 136.440041 \n\" clip-path=\"url(#p37b1caaa51)\" style=\"fill: none; stroke-dasharray: 5.55,2.4; stroke-dashoffset: 0; stroke: #ff7f0e; stroke-width: 1.5\"/>\n   </g>\n   <g id=\"line2d_75\">\n    <path d=\"M 49.633125 131.496424 \nL 69.163125 108.574028 \nL 88.693125 106.348914 \nL 108.223125 104.378633 \nL 127.753125 103.781954 \n\" clip-path=\"url(#p37b1caaa51)\" style=\"fill: none; stroke-dasharray: 9.6,2.4,1.5,2.4; stroke-dashoffset: 0; stroke: #2ca02c; stroke-width: 1.5\"/>\n   </g>\n   <g id=\"line2d_76\">\n    <path d=\"M 34.954394 13.5 \nL 44.698573 15.78807 \nL 54.442752 94.982599 \nL 64.186931 115.667964 \nL 73.93111 122.336617 \nL 83.675289 126.742475 \nL 93.419468 129.038267 \nL 103.163647 130.854169 \nL 112.907826 131.935885 \nL 122.652006 133.619561 \nL 132.396185 134.41496 \nL 142.140364 135.343696 \n\" clip-path=\"url(#p37b1caaa51)\" style=\"fill: none; stroke: #1f77b4; stroke-width: 1.5; stroke-linecap: square\"/>\n   </g>\n   <g id=\"line2d_77\">\n    <path d=\"M 49.633125 38.495956 \nL 69.163125 123.265285 \nL 88.693125 128.82814 \nL 108.223125 133.282448 \nL 127.753125 134.748411 \nL 147.283125 136.440041 \n\" clip-path=\"url(#p37b1caaa51)\" style=\"fill: none; stroke-dasharray: 5.55,2.4; stroke-dashoffset: 0; stroke: #ff7f0e; stroke-width: 1.5\"/>\n   </g>\n   <g id=\"line2d_78\">\n    <path d=\"M 49.633125 131.496424 \nL 69.163125 108.574028 \nL 88.693125 106.348914 \nL 108.223125 104.378633 \nL 127.753125 103.781954 \nL 147.283125 103.154199 \n\" clip-path=\"url(#p37b1caaa51)\" style=\"fill: none; stroke-dasharray: 9.6,2.4,1.5,2.4; stroke-dashoffset: 0; stroke: #2ca02c; stroke-width: 1.5\"/>\n   </g>\n   <g id=\"line2d_79\">\n    <path d=\"M 34.954394 13.5 \nL 44.698573 15.78807 \nL 54.442752 94.982599 \nL 64.186931 115.667964 \nL 73.93111 122.336617 \nL 83.675289 126.742475 \nL 93.419468 129.038267 \nL 103.163647 130.854169 \nL 112.907826 131.935885 \nL 122.652006 133.619561 \nL 132.396185 134.41496 \nL 142.140364 135.343696 \nL 151.884543 136.175402 \n\" clip-path=\"url(#p37b1caaa51)\" style=\"fill: none; stroke: #1f77b4; stroke-width: 1.5; stroke-linecap: square\"/>\n   </g>\n   <g id=\"line2d_80\">\n    <path d=\"M 49.633125 38.495956 \nL 69.163125 123.265285 \nL 88.693125 128.82814 \nL 108.223125 133.282448 \nL 127.753125 134.748411 \nL 147.283125 136.440041 \n\" clip-path=\"url(#p37b1caaa51)\" style=\"fill: none; stroke-dasharray: 5.55,2.4; stroke-dashoffset: 0; stroke: #ff7f0e; stroke-width: 1.5\"/>\n   </g>\n   <g id=\"line2d_81\">\n    <path d=\"M 49.633125 131.496424 \nL 69.163125 108.574028 \nL 88.693125 106.348914 \nL 108.223125 104.378633 \nL 127.753125 103.781954 \nL 147.283125 103.154199 \n\" clip-path=\"url(#p37b1caaa51)\" style=\"fill: none; stroke-dasharray: 9.6,2.4,1.5,2.4; stroke-dashoffset: 0; stroke: #2ca02c; stroke-width: 1.5\"/>\n   </g>\n   <g id=\"line2d_82\">\n    <path d=\"M 34.954394 13.5 \nL 44.698573 15.78807 \nL 54.442752 94.982599 \nL 64.186931 115.667964 \nL 73.93111 122.336617 \nL 83.675289 126.742475 \nL 93.419468 129.038267 \nL 103.163647 130.854169 \nL 112.907826 131.935885 \nL 122.652006 133.619561 \nL 132.396185 134.41496 \nL 142.140364 135.343696 \nL 151.884543 136.175402 \nL 161.628722 136.424395 \n\" clip-path=\"url(#p37b1caaa51)\" style=\"fill: none; stroke: #1f77b4; stroke-width: 1.5; stroke-linecap: square\"/>\n   </g>\n   <g id=\"line2d_83\">\n    <path d=\"M 49.633125 38.495956 \nL 69.163125 123.265285 \nL 88.693125 128.82814 \nL 108.223125 133.282448 \nL 127.753125 134.748411 \nL 147.283125 136.440041 \n\" clip-path=\"url(#p37b1caaa51)\" style=\"fill: none; stroke-dasharray: 5.55,2.4; stroke-dashoffset: 0; stroke: #ff7f0e; stroke-width: 1.5\"/>\n   </g>\n   <g id=\"line2d_84\">\n    <path d=\"M 49.633125 131.496424 \nL 69.163125 108.574028 \nL 88.693125 106.348914 \nL 108.223125 104.378633 \nL 127.753125 103.781954 \nL 147.283125 103.154199 \n\" clip-path=\"url(#p37b1caaa51)\" style=\"fill: none; stroke-dasharray: 9.6,2.4,1.5,2.4; stroke-dashoffset: 0; stroke: #2ca02c; stroke-width: 1.5\"/>\n   </g>\n   <g id=\"line2d_85\">\n    <path d=\"M 34.954394 13.5 \nL 44.698573 15.78807 \nL 54.442752 94.982599 \nL 64.186931 115.667964 \nL 73.93111 122.336617 \nL 83.675289 126.742475 \nL 93.419468 129.038267 \nL 103.163647 130.854169 \nL 112.907826 131.935885 \nL 122.652006 133.619561 \nL 132.396185 134.41496 \nL 142.140364 135.343696 \nL 151.884543 136.175402 \nL 161.628722 136.424395 \n\" clip-path=\"url(#p37b1caaa51)\" style=\"fill: none; stroke: #1f77b4; stroke-width: 1.5; stroke-linecap: square\"/>\n   </g>\n   <g id=\"line2d_86\">\n    <path d=\"M 49.633125 38.495956 \nL 69.163125 123.265285 \nL 88.693125 128.82814 \nL 108.223125 133.282448 \nL 127.753125 134.748411 \nL 147.283125 136.440041 \nL 166.813125 137.217284 \n\" clip-path=\"url(#p37b1caaa51)\" style=\"fill: none; stroke-dasharray: 5.55,2.4; stroke-dashoffset: 0; stroke: #ff7f0e; stroke-width: 1.5\"/>\n   </g>\n   <g id=\"line2d_87\">\n    <path d=\"M 49.633125 131.496424 \nL 69.163125 108.574028 \nL 88.693125 106.348914 \nL 108.223125 104.378633 \nL 127.753125 103.781954 \nL 147.283125 103.154199 \n\" clip-path=\"url(#p37b1caaa51)\" style=\"fill: none; stroke-dasharray: 9.6,2.4,1.5,2.4; stroke-dashoffset: 0; stroke: #2ca02c; stroke-width: 1.5\"/>\n   </g>\n   <g id=\"line2d_88\">\n    <path d=\"M 34.954394 13.5 \nL 44.698573 15.78807 \nL 54.442752 94.982599 \nL 64.186931 115.667964 \nL 73.93111 122.336617 \nL 83.675289 126.742475 \nL 93.419468 129.038267 \nL 103.163647 130.854169 \nL 112.907826 131.935885 \nL 122.652006 133.619561 \nL 132.396185 134.41496 \nL 142.140364 135.343696 \nL 151.884543 136.175402 \nL 161.628722 136.424395 \n\" clip-path=\"url(#p37b1caaa51)\" style=\"fill: none; stroke: #1f77b4; stroke-width: 1.5; stroke-linecap: square\"/>\n   </g>\n   <g id=\"line2d_89\">\n    <path d=\"M 49.633125 38.495956 \nL 69.163125 123.265285 \nL 88.693125 128.82814 \nL 108.223125 133.282448 \nL 127.753125 134.748411 \nL 147.283125 136.440041 \nL 166.813125 137.217284 \n\" clip-path=\"url(#p37b1caaa51)\" style=\"fill: none; stroke-dasharray: 5.55,2.4; stroke-dashoffset: 0; stroke: #ff7f0e; stroke-width: 1.5\"/>\n   </g>\n   <g id=\"line2d_90\">\n    <path d=\"M 49.633125 131.496424 \nL 69.163125 108.574028 \nL 88.693125 106.348914 \nL 108.223125 104.378633 \nL 127.753125 103.781954 \nL 147.283125 103.154199 \nL 166.813125 102.781275 \n\" clip-path=\"url(#p37b1caaa51)\" style=\"fill: none; stroke-dasharray: 9.6,2.4,1.5,2.4; stroke-dashoffset: 0; stroke: #2ca02c; stroke-width: 1.5\"/>\n   </g>\n   <g id=\"line2d_91\">\n    <path d=\"M 34.954394 13.5 \nL 44.698573 15.78807 \nL 54.442752 94.982599 \nL 64.186931 115.667964 \nL 73.93111 122.336617 \nL 83.675289 126.742475 \nL 93.419468 129.038267 \nL 103.163647 130.854169 \nL 112.907826 131.935885 \nL 122.652006 133.619561 \nL 132.396185 134.41496 \nL 142.140364 135.343696 \nL 151.884543 136.175402 \nL 161.628722 136.424395 \nL 171.372901 137.431761 \n\" clip-path=\"url(#p37b1caaa51)\" style=\"fill: none; stroke: #1f77b4; stroke-width: 1.5; stroke-linecap: square\"/>\n   </g>\n   <g id=\"line2d_92\">\n    <path d=\"M 49.633125 38.495956 \nL 69.163125 123.265285 \nL 88.693125 128.82814 \nL 108.223125 133.282448 \nL 127.753125 134.748411 \nL 147.283125 136.440041 \nL 166.813125 137.217284 \n\" clip-path=\"url(#p37b1caaa51)\" style=\"fill: none; stroke-dasharray: 5.55,2.4; stroke-dashoffset: 0; stroke: #ff7f0e; stroke-width: 1.5\"/>\n   </g>\n   <g id=\"line2d_93\">\n    <path d=\"M 49.633125 131.496424 \nL 69.163125 108.574028 \nL 88.693125 106.348914 \nL 108.223125 104.378633 \nL 127.753125 103.781954 \nL 147.283125 103.154199 \nL 166.813125 102.781275 \n\" clip-path=\"url(#p37b1caaa51)\" style=\"fill: none; stroke-dasharray: 9.6,2.4,1.5,2.4; stroke-dashoffset: 0; stroke: #2ca02c; stroke-width: 1.5\"/>\n   </g>\n   <g id=\"line2d_94\">\n    <path d=\"M 34.954394 13.5 \nL 44.698573 15.78807 \nL 54.442752 94.982599 \nL 64.186931 115.667964 \nL 73.93111 122.336617 \nL 83.675289 126.742475 \nL 93.419468 129.038267 \nL 103.163647 130.854169 \nL 112.907826 131.935885 \nL 122.652006 133.619561 \nL 132.396185 134.41496 \nL 142.140364 135.343696 \nL 151.884543 136.175402 \nL 161.628722 136.424395 \nL 171.372901 137.431761 \nL 181.11708 137.456862 \n\" clip-path=\"url(#p37b1caaa51)\" style=\"fill: none; stroke: #1f77b4; stroke-width: 1.5; stroke-linecap: square\"/>\n   </g>\n   <g id=\"line2d_95\">\n    <path d=\"M 49.633125 38.495956 \nL 69.163125 123.265285 \nL 88.693125 128.82814 \nL 108.223125 133.282448 \nL 127.753125 134.748411 \nL 147.283125 136.440041 \nL 166.813125 137.217284 \n\" clip-path=\"url(#p37b1caaa51)\" style=\"fill: none; stroke-dasharray: 5.55,2.4; stroke-dashoffset: 0; stroke: #ff7f0e; stroke-width: 1.5\"/>\n   </g>\n   <g id=\"line2d_96\">\n    <path d=\"M 49.633125 131.496424 \nL 69.163125 108.574028 \nL 88.693125 106.348914 \nL 108.223125 104.378633 \nL 127.753125 103.781954 \nL 147.283125 103.154199 \nL 166.813125 102.781275 \n\" clip-path=\"url(#p37b1caaa51)\" style=\"fill: none; stroke-dasharray: 9.6,2.4,1.5,2.4; stroke-dashoffset: 0; stroke: #2ca02c; stroke-width: 1.5\"/>\n   </g>\n   <g id=\"line2d_97\">\n    <path d=\"M 34.954394 13.5 \nL 44.698573 15.78807 \nL 54.442752 94.982599 \nL 64.186931 115.667964 \nL 73.93111 122.336617 \nL 83.675289 126.742475 \nL 93.419468 129.038267 \nL 103.163647 130.854169 \nL 112.907826 131.935885 \nL 122.652006 133.619561 \nL 132.396185 134.41496 \nL 142.140364 135.343696 \nL 151.884543 136.175402 \nL 161.628722 136.424395 \nL 171.372901 137.431761 \nL 181.11708 137.456862 \n\" clip-path=\"url(#p37b1caaa51)\" style=\"fill: none; stroke: #1f77b4; stroke-width: 1.5; stroke-linecap: square\"/>\n   </g>\n   <g id=\"line2d_98\">\n    <path d=\"M 49.633125 38.495956 \nL 69.163125 123.265285 \nL 88.693125 128.82814 \nL 108.223125 133.282448 \nL 127.753125 134.748411 \nL 147.283125 136.440041 \nL 166.813125 137.217284 \nL 186.343125 137.714977 \n\" clip-path=\"url(#p37b1caaa51)\" style=\"fill: none; stroke-dasharray: 5.55,2.4; stroke-dashoffset: 0; stroke: #ff7f0e; stroke-width: 1.5\"/>\n   </g>\n   <g id=\"line2d_99\">\n    <path d=\"M 49.633125 131.496424 \nL 69.163125 108.574028 \nL 88.693125 106.348914 \nL 108.223125 104.378633 \nL 127.753125 103.781954 \nL 147.283125 103.154199 \nL 166.813125 102.781275 \n\" clip-path=\"url(#p37b1caaa51)\" style=\"fill: none; stroke-dasharray: 9.6,2.4,1.5,2.4; stroke-dashoffset: 0; stroke: #2ca02c; stroke-width: 1.5\"/>\n   </g>\n   <g id=\"line2d_100\">\n    <path d=\"M 34.954394 13.5 \nL 44.698573 15.78807 \nL 54.442752 94.982599 \nL 64.186931 115.667964 \nL 73.93111 122.336617 \nL 83.675289 126.742475 \nL 93.419468 129.038267 \nL 103.163647 130.854169 \nL 112.907826 131.935885 \nL 122.652006 133.619561 \nL 132.396185 134.41496 \nL 142.140364 135.343696 \nL 151.884543 136.175402 \nL 161.628722 136.424395 \nL 171.372901 137.431761 \nL 181.11708 137.456862 \n\" clip-path=\"url(#p37b1caaa51)\" style=\"fill: none; stroke: #1f77b4; stroke-width: 1.5; stroke-linecap: square\"/>\n   </g>\n   <g id=\"line2d_101\">\n    <path d=\"M 49.633125 38.495956 \nL 69.163125 123.265285 \nL 88.693125 128.82814 \nL 108.223125 133.282448 \nL 127.753125 134.748411 \nL 147.283125 136.440041 \nL 166.813125 137.217284 \nL 186.343125 137.714977 \n\" clip-path=\"url(#p37b1caaa51)\" style=\"fill: none; stroke-dasharray: 5.55,2.4; stroke-dashoffset: 0; stroke: #ff7f0e; stroke-width: 1.5\"/>\n   </g>\n   <g id=\"line2d_102\">\n    <path d=\"M 49.633125 131.496424 \nL 69.163125 108.574028 \nL 88.693125 106.348914 \nL 108.223125 104.378633 \nL 127.753125 103.781954 \nL 147.283125 103.154199 \nL 166.813125 102.781275 \nL 186.343125 102.700475 \n\" clip-path=\"url(#p37b1caaa51)\" style=\"fill: none; stroke-dasharray: 9.6,2.4,1.5,2.4; stroke-dashoffset: 0; stroke: #2ca02c; stroke-width: 1.5\"/>\n   </g>\n   <g id=\"line2d_103\">\n    <path d=\"M 34.954394 13.5 \nL 44.698573 15.78807 \nL 54.442752 94.982599 \nL 64.186931 115.667964 \nL 73.93111 122.336617 \nL 83.675289 126.742475 \nL 93.419468 129.038267 \nL 103.163647 130.854169 \nL 112.907826 131.935885 \nL 122.652006 133.619561 \nL 132.396185 134.41496 \nL 142.140364 135.343696 \nL 151.884543 136.175402 \nL 161.628722 136.424395 \nL 171.372901 137.431761 \nL 181.11708 137.456862 \nL 190.861259 137.928705 \n\" clip-path=\"url(#p37b1caaa51)\" style=\"fill: none; stroke: #1f77b4; stroke-width: 1.5; stroke-linecap: square\"/>\n   </g>\n   <g id=\"line2d_104\">\n    <path d=\"M 49.633125 38.495956 \nL 69.163125 123.265285 \nL 88.693125 128.82814 \nL 108.223125 133.282448 \nL 127.753125 134.748411 \nL 147.283125 136.440041 \nL 166.813125 137.217284 \nL 186.343125 137.714977 \n\" clip-path=\"url(#p37b1caaa51)\" style=\"fill: none; stroke-dasharray: 5.55,2.4; stroke-dashoffset: 0; stroke: #ff7f0e; stroke-width: 1.5\"/>\n   </g>\n   <g id=\"line2d_105\">\n    <path d=\"M 49.633125 131.496424 \nL 69.163125 108.574028 \nL 88.693125 106.348914 \nL 108.223125 104.378633 \nL 127.753125 103.781954 \nL 147.283125 103.154199 \nL 166.813125 102.781275 \nL 186.343125 102.700475 \n\" clip-path=\"url(#p37b1caaa51)\" style=\"fill: none; stroke-dasharray: 9.6,2.4,1.5,2.4; stroke-dashoffset: 0; stroke: #2ca02c; stroke-width: 1.5\"/>\n   </g>\n   <g id=\"line2d_106\">\n    <path d=\"M 34.954394 13.5 \nL 44.698573 15.78807 \nL 54.442752 94.982599 \nL 64.186931 115.667964 \nL 73.93111 122.336617 \nL 83.675289 126.742475 \nL 93.419468 129.038267 \nL 103.163647 130.854169 \nL 112.907826 131.935885 \nL 122.652006 133.619561 \nL 132.396185 134.41496 \nL 142.140364 135.343696 \nL 151.884543 136.175402 \nL 161.628722 136.424395 \nL 171.372901 137.431761 \nL 181.11708 137.456862 \nL 190.861259 137.928705 \nL 200.605438 138.85565 \n\" clip-path=\"url(#p37b1caaa51)\" style=\"fill: none; stroke: #1f77b4; stroke-width: 1.5; stroke-linecap: square\"/>\n   </g>\n   <g id=\"line2d_107\">\n    <path d=\"M 49.633125 38.495956 \nL 69.163125 123.265285 \nL 88.693125 128.82814 \nL 108.223125 133.282448 \nL 127.753125 134.748411 \nL 147.283125 136.440041 \nL 166.813125 137.217284 \nL 186.343125 137.714977 \n\" clip-path=\"url(#p37b1caaa51)\" style=\"fill: none; stroke-dasharray: 5.55,2.4; stroke-dashoffset: 0; stroke: #ff7f0e; stroke-width: 1.5\"/>\n   </g>\n   <g id=\"line2d_108\">\n    <path d=\"M 49.633125 131.496424 \nL 69.163125 108.574028 \nL 88.693125 106.348914 \nL 108.223125 104.378633 \nL 127.753125 103.781954 \nL 147.283125 103.154199 \nL 166.813125 102.781275 \nL 186.343125 102.700475 \n\" clip-path=\"url(#p37b1caaa51)\" style=\"fill: none; stroke-dasharray: 9.6,2.4,1.5,2.4; stroke-dashoffset: 0; stroke: #2ca02c; stroke-width: 1.5\"/>\n   </g>\n   <g id=\"line2d_109\">\n    <path d=\"M 34.954394 13.5 \nL 44.698573 15.78807 \nL 54.442752 94.982599 \nL 64.186931 115.667964 \nL 73.93111 122.336617 \nL 83.675289 126.742475 \nL 93.419468 129.038267 \nL 103.163647 130.854169 \nL 112.907826 131.935885 \nL 122.652006 133.619561 \nL 132.396185 134.41496 \nL 142.140364 135.343696 \nL 151.884543 136.175402 \nL 161.628722 136.424395 \nL 171.372901 137.431761 \nL 181.11708 137.456862 \nL 190.861259 137.928705 \nL 200.605438 138.85565 \n\" clip-path=\"url(#p37b1caaa51)\" style=\"fill: none; stroke: #1f77b4; stroke-width: 1.5; stroke-linecap: square\"/>\n   </g>\n   <g id=\"line2d_110\">\n    <path d=\"M 49.633125 38.495956 \nL 69.163125 123.265285 \nL 88.693125 128.82814 \nL 108.223125 133.282448 \nL 127.753125 134.748411 \nL 147.283125 136.440041 \nL 166.813125 137.217284 \nL 186.343125 137.714977 \nL 205.873125 139.156387 \n\" clip-path=\"url(#p37b1caaa51)\" style=\"fill: none; stroke-dasharray: 5.55,2.4; stroke-dashoffset: 0; stroke: #ff7f0e; stroke-width: 1.5\"/>\n   </g>\n   <g id=\"line2d_111\">\n    <path d=\"M 49.633125 131.496424 \nL 69.163125 108.574028 \nL 88.693125 106.348914 \nL 108.223125 104.378633 \nL 127.753125 103.781954 \nL 147.283125 103.154199 \nL 166.813125 102.781275 \nL 186.343125 102.700475 \n\" clip-path=\"url(#p37b1caaa51)\" style=\"fill: none; stroke-dasharray: 9.6,2.4,1.5,2.4; stroke-dashoffset: 0; stroke: #2ca02c; stroke-width: 1.5\"/>\n   </g>\n   <g id=\"line2d_112\">\n    <path d=\"M 34.954394 13.5 \nL 44.698573 15.78807 \nL 54.442752 94.982599 \nL 64.186931 115.667964 \nL 73.93111 122.336617 \nL 83.675289 126.742475 \nL 93.419468 129.038267 \nL 103.163647 130.854169 \nL 112.907826 131.935885 \nL 122.652006 133.619561 \nL 132.396185 134.41496 \nL 142.140364 135.343696 \nL 151.884543 136.175402 \nL 161.628722 136.424395 \nL 171.372901 137.431761 \nL 181.11708 137.456862 \nL 190.861259 137.928705 \nL 200.605438 138.85565 \n\" clip-path=\"url(#p37b1caaa51)\" style=\"fill: none; stroke: #1f77b4; stroke-width: 1.5; stroke-linecap: square\"/>\n   </g>\n   <g id=\"line2d_113\">\n    <path d=\"M 49.633125 38.495956 \nL 69.163125 123.265285 \nL 88.693125 128.82814 \nL 108.223125 133.282448 \nL 127.753125 134.748411 \nL 147.283125 136.440041 \nL 166.813125 137.217284 \nL 186.343125 137.714977 \nL 205.873125 139.156387 \n\" clip-path=\"url(#p37b1caaa51)\" style=\"fill: none; stroke-dasharray: 5.55,2.4; stroke-dashoffset: 0; stroke: #ff7f0e; stroke-width: 1.5\"/>\n   </g>\n   <g id=\"line2d_114\">\n    <path d=\"M 49.633125 131.496424 \nL 69.163125 108.574028 \nL 88.693125 106.348914 \nL 108.223125 104.378633 \nL 127.753125 103.781954 \nL 147.283125 103.154199 \nL 166.813125 102.781275 \nL 186.343125 102.700475 \nL 205.873125 102.228104 \n\" clip-path=\"url(#p37b1caaa51)\" style=\"fill: none; stroke-dasharray: 9.6,2.4,1.5,2.4; stroke-dashoffset: 0; stroke: #2ca02c; stroke-width: 1.5\"/>\n   </g>\n   <g id=\"line2d_115\">\n    <path d=\"M 34.954394 13.5 \nL 44.698573 15.78807 \nL 54.442752 94.982599 \nL 64.186931 115.667964 \nL 73.93111 122.336617 \nL 83.675289 126.742475 \nL 93.419468 129.038267 \nL 103.163647 130.854169 \nL 112.907826 131.935885 \nL 122.652006 133.619561 \nL 132.396185 134.41496 \nL 142.140364 135.343696 \nL 151.884543 136.175402 \nL 161.628722 136.424395 \nL 171.372901 137.431761 \nL 181.11708 137.456862 \nL 190.861259 137.928705 \nL 200.605438 138.85565 \nL 210.349618 139.028311 \n\" clip-path=\"url(#p37b1caaa51)\" style=\"fill: none; stroke: #1f77b4; stroke-width: 1.5; stroke-linecap: square\"/>\n   </g>\n   <g id=\"line2d_116\">\n    <path d=\"M 49.633125 38.495956 \nL 69.163125 123.265285 \nL 88.693125 128.82814 \nL 108.223125 133.282448 \nL 127.753125 134.748411 \nL 147.283125 136.440041 \nL 166.813125 137.217284 \nL 186.343125 137.714977 \nL 205.873125 139.156387 \n\" clip-path=\"url(#p37b1caaa51)\" style=\"fill: none; stroke-dasharray: 5.55,2.4; stroke-dashoffset: 0; stroke: #ff7f0e; stroke-width: 1.5\"/>\n   </g>\n   <g id=\"line2d_117\">\n    <path d=\"M 49.633125 131.496424 \nL 69.163125 108.574028 \nL 88.693125 106.348914 \nL 108.223125 104.378633 \nL 127.753125 103.781954 \nL 147.283125 103.154199 \nL 166.813125 102.781275 \nL 186.343125 102.700475 \nL 205.873125 102.228104 \n\" clip-path=\"url(#p37b1caaa51)\" style=\"fill: none; stroke-dasharray: 9.6,2.4,1.5,2.4; stroke-dashoffset: 0; stroke: #2ca02c; stroke-width: 1.5\"/>\n   </g>\n   <g id=\"line2d_118\">\n    <path d=\"M 34.954394 13.5 \nL 44.698573 15.78807 \nL 54.442752 94.982599 \nL 64.186931 115.667964 \nL 73.93111 122.336617 \nL 83.675289 126.742475 \nL 93.419468 129.038267 \nL 103.163647 130.854169 \nL 112.907826 131.935885 \nL 122.652006 133.619561 \nL 132.396185 134.41496 \nL 142.140364 135.343696 \nL 151.884543 136.175402 \nL 161.628722 136.424395 \nL 171.372901 137.431761 \nL 181.11708 137.456862 \nL 190.861259 137.928705 \nL 200.605438 138.85565 \nL 210.349618 139.028311 \nL 220.093797 139.5 \n\" clip-path=\"url(#p37b1caaa51)\" style=\"fill: none; stroke: #1f77b4; stroke-width: 1.5; stroke-linecap: square\"/>\n   </g>\n   <g id=\"line2d_119\">\n    <path d=\"M 49.633125 38.495956 \nL 69.163125 123.265285 \nL 88.693125 128.82814 \nL 108.223125 133.282448 \nL 127.753125 134.748411 \nL 147.283125 136.440041 \nL 166.813125 137.217284 \nL 186.343125 137.714977 \nL 205.873125 139.156387 \n\" clip-path=\"url(#p37b1caaa51)\" style=\"fill: none; stroke-dasharray: 5.55,2.4; stroke-dashoffset: 0; stroke: #ff7f0e; stroke-width: 1.5\"/>\n   </g>\n   <g id=\"line2d_120\">\n    <path d=\"M 49.633125 131.496424 \nL 69.163125 108.574028 \nL 88.693125 106.348914 \nL 108.223125 104.378633 \nL 127.753125 103.781954 \nL 147.283125 103.154199 \nL 166.813125 102.781275 \nL 186.343125 102.700475 \nL 205.873125 102.228104 \n\" clip-path=\"url(#p37b1caaa51)\" style=\"fill: none; stroke-dasharray: 9.6,2.4,1.5,2.4; stroke-dashoffset: 0; stroke: #2ca02c; stroke-width: 1.5\"/>\n   </g>\n   <g id=\"line2d_121\">\n    <path d=\"M 34.954394 13.5 \nL 44.698573 15.78807 \nL 54.442752 94.982599 \nL 64.186931 115.667964 \nL 73.93111 122.336617 \nL 83.675289 126.742475 \nL 93.419468 129.038267 \nL 103.163647 130.854169 \nL 112.907826 131.935885 \nL 122.652006 133.619561 \nL 132.396185 134.41496 \nL 142.140364 135.343696 \nL 151.884543 136.175402 \nL 161.628722 136.424395 \nL 171.372901 137.431761 \nL 181.11708 137.456862 \nL 190.861259 137.928705 \nL 200.605438 138.85565 \nL 210.349618 139.028311 \nL 220.093797 139.5 \n\" clip-path=\"url(#p37b1caaa51)\" style=\"fill: none; stroke: #1f77b4; stroke-width: 1.5; stroke-linecap: square\"/>\n   </g>\n   <g id=\"line2d_122\">\n    <path d=\"M 49.633125 38.495956 \nL 69.163125 123.265285 \nL 88.693125 128.82814 \nL 108.223125 133.282448 \nL 127.753125 134.748411 \nL 147.283125 136.440041 \nL 166.813125 137.217284 \nL 186.343125 137.714977 \nL 205.873125 139.156387 \nL 225.403125 138.997046 \n\" clip-path=\"url(#p37b1caaa51)\" style=\"fill: none; stroke-dasharray: 5.55,2.4; stroke-dashoffset: 0; stroke: #ff7f0e; stroke-width: 1.5\"/>\n   </g>\n   <g id=\"line2d_123\">\n    <path d=\"M 49.633125 131.496424 \nL 69.163125 108.574028 \nL 88.693125 106.348914 \nL 108.223125 104.378633 \nL 127.753125 103.781954 \nL 147.283125 103.154199 \nL 166.813125 102.781275 \nL 186.343125 102.700475 \nL 205.873125 102.228104 \n\" clip-path=\"url(#p37b1caaa51)\" style=\"fill: none; stroke-dasharray: 9.6,2.4,1.5,2.4; stroke-dashoffset: 0; stroke: #2ca02c; stroke-width: 1.5\"/>\n   </g>\n   <g id=\"line2d_124\">\n    <path d=\"M 34.954394 13.5 \nL 44.698573 15.78807 \nL 54.442752 94.982599 \nL 64.186931 115.667964 \nL 73.93111 122.336617 \nL 83.675289 126.742475 \nL 93.419468 129.038267 \nL 103.163647 130.854169 \nL 112.907826 131.935885 \nL 122.652006 133.619561 \nL 132.396185 134.41496 \nL 142.140364 135.343696 \nL 151.884543 136.175402 \nL 161.628722 136.424395 \nL 171.372901 137.431761 \nL 181.11708 137.456862 \nL 190.861259 137.928705 \nL 200.605438 138.85565 \nL 210.349618 139.028311 \nL 220.093797 139.5 \n\" clip-path=\"url(#p37b1caaa51)\" style=\"fill: none; stroke: #1f77b4; stroke-width: 1.5; stroke-linecap: square\"/>\n   </g>\n   <g id=\"line2d_125\">\n    <path d=\"M 49.633125 38.495956 \nL 69.163125 123.265285 \nL 88.693125 128.82814 \nL 108.223125 133.282448 \nL 127.753125 134.748411 \nL 147.283125 136.440041 \nL 166.813125 137.217284 \nL 186.343125 137.714977 \nL 205.873125 139.156387 \nL 225.403125 138.997046 \n\" clip-path=\"url(#p37b1caaa51)\" style=\"fill: none; stroke-dasharray: 5.55,2.4; stroke-dashoffset: 0; stroke: #ff7f0e; stroke-width: 1.5\"/>\n   </g>\n   <g id=\"line2d_126\">\n    <path d=\"M 49.633125 131.496424 \nL 69.163125 108.574028 \nL 88.693125 106.348914 \nL 108.223125 104.378633 \nL 127.753125 103.781954 \nL 147.283125 103.154199 \nL 166.813125 102.781275 \nL 186.343125 102.700475 \nL 205.873125 102.228104 \nL 225.403125 102.153519 \n\" clip-path=\"url(#p37b1caaa51)\" style=\"fill: none; stroke-dasharray: 9.6,2.4,1.5,2.4; stroke-dashoffset: 0; stroke: #2ca02c; stroke-width: 1.5\"/>\n   </g>\n   <g id=\"patch_3\">\n    <path d=\"M 30.103125 145.8 \nL 30.103125 7.2 \n\" style=\"fill: none; stroke: #000000; stroke-width: 0.8; stroke-linejoin: miter; stroke-linecap: square\"/>\n   </g>\n   <g id=\"patch_4\">\n    <path d=\"M 225.403125 145.8 \nL 225.403125 7.2 \n\" style=\"fill: none; stroke: #000000; stroke-width: 0.8; stroke-linejoin: miter; stroke-linecap: square\"/>\n   </g>\n   <g id=\"patch_5\">\n    <path d=\"M 30.103125 145.8 \nL 225.403125 145.8 \n\" style=\"fill: none; stroke: #000000; stroke-width: 0.8; stroke-linejoin: miter; stroke-linecap: square\"/>\n   </g>\n   <g id=\"patch_6\">\n    <path d=\"M 30.103125 7.2 \nL 225.403125 7.2 \n\" style=\"fill: none; stroke: #000000; stroke-width: 0.8; stroke-linejoin: miter; stroke-linecap: square\"/>\n   </g>\n   <g id=\"legend_1\">\n    <g id=\"patch_7\">\n     <path d=\"M 138.8125 60.06875 \nL 218.403125 60.06875 \nQ 220.403125 60.06875 220.403125 58.06875 \nL 220.403125 14.2 \nQ 220.403125 12.2 218.403125 12.2 \nL 138.8125 12.2 \nQ 136.8125 12.2 136.8125 14.2 \nL 136.8125 58.06875 \nQ 136.8125 60.06875 138.8125 60.06875 \nz\n\" style=\"fill: #ffffff; opacity: 0.8; stroke: #cccccc; stroke-linejoin: miter\"/>\n    </g>\n    <g id=\"line2d_127\">\n     <path d=\"M 140.8125 20.298438 \nL 150.8125 20.298438 \nL 160.8125 20.298438 \n\" style=\"fill: none; stroke: #1f77b4; stroke-width: 1.5; stroke-linecap: square\"/>\n    </g>\n    <g id=\"text_12\">\n     <!-- train_loss -->\n     <g transform=\"translate(168.8125 23.798438) scale(0.1 -0.1)\">\n      <defs>\n       <path id=\"DejaVuSans-74\" d=\"M 1172 4494 \nL 1172 3500 \nL 2356 3500 \nL 2356 3053 \nL 1172 3053 \nL 1172 1153 \nQ 1172 725 1289 603 \nQ 1406 481 1766 481 \nL 2356 481 \nL 2356 0 \nL 1766 0 \nQ 1100 0 847 248 \nQ 594 497 594 1153 \nL 594 3053 \nL 172 3053 \nL 172 3500 \nL 594 3500 \nL 594 4494 \nL 1172 4494 \nz\n\" transform=\"scale(0.015625)\"/>\n       <path id=\"DejaVuSans-72\" d=\"M 2631 2963 \nQ 2534 3019 2420 3045 \nQ 2306 3072 2169 3072 \nQ 1681 3072 1420 2755 \nQ 1159 2438 1159 1844 \nL 1159 0 \nL 581 0 \nL 581 3500 \nL 1159 3500 \nL 1159 2956 \nQ 1341 3275 1631 3429 \nQ 1922 3584 2338 3584 \nQ 2397 3584 2469 3576 \nQ 2541 3569 2628 3553 \nL 2631 2963 \nz\n\" transform=\"scale(0.015625)\"/>\n       <path id=\"DejaVuSans-61\" d=\"M 2194 1759 \nQ 1497 1759 1228 1600 \nQ 959 1441 959 1056 \nQ 959 750 1161 570 \nQ 1363 391 1709 391 \nQ 2188 391 2477 730 \nQ 2766 1069 2766 1631 \nL 2766 1759 \nL 2194 1759 \nz\nM 3341 1997 \nL 3341 0 \nL 2766 0 \nL 2766 531 \nQ 2569 213 2275 61 \nQ 1981 -91 1556 -91 \nQ 1019 -91 701 211 \nQ 384 513 384 1019 \nQ 384 1609 779 1909 \nQ 1175 2209 1959 2209 \nL 2766 2209 \nL 2766 2266 \nQ 2766 2663 2505 2880 \nQ 2244 3097 1772 3097 \nQ 1472 3097 1187 3025 \nQ 903 2953 641 2809 \nL 641 3341 \nQ 956 3463 1253 3523 \nQ 1550 3584 1831 3584 \nQ 2591 3584 2966 3190 \nQ 3341 2797 3341 1997 \nz\n\" transform=\"scale(0.015625)\"/>\n       <path id=\"DejaVuSans-69\" d=\"M 603 3500 \nL 1178 3500 \nL 1178 0 \nL 603 0 \nL 603 3500 \nz\nM 603 4863 \nL 1178 4863 \nL 1178 4134 \nL 603 4134 \nL 603 4863 \nz\n\" transform=\"scale(0.015625)\"/>\n       <path id=\"DejaVuSans-6e\" d=\"M 3513 2113 \nL 3513 0 \nL 2938 0 \nL 2938 2094 \nQ 2938 2591 2744 2837 \nQ 2550 3084 2163 3084 \nQ 1697 3084 1428 2787 \nQ 1159 2491 1159 1978 \nL 1159 0 \nL 581 0 \nL 581 3500 \nL 1159 3500 \nL 1159 2956 \nQ 1366 3272 1645 3428 \nQ 1925 3584 2291 3584 \nQ 2894 3584 3203 3211 \nQ 3513 2838 3513 2113 \nz\n\" transform=\"scale(0.015625)\"/>\n       <path id=\"DejaVuSans-5f\" d=\"M 3263 -1063 \nL 3263 -1509 \nL -63 -1509 \nL -63 -1063 \nL 3263 -1063 \nz\n\" transform=\"scale(0.015625)\"/>\n       <path id=\"DejaVuSans-6c\" d=\"M 603 4863 \nL 1178 4863 \nL 1178 0 \nL 603 0 \nL 603 4863 \nz\n\" transform=\"scale(0.015625)\"/>\n       <path id=\"DejaVuSans-73\" d=\"M 2834 3397 \nL 2834 2853 \nQ 2591 2978 2328 3040 \nQ 2066 3103 1784 3103 \nQ 1356 3103 1142 2972 \nQ 928 2841 928 2578 \nQ 928 2378 1081 2264 \nQ 1234 2150 1697 2047 \nL 1894 2003 \nQ 2506 1872 2764 1633 \nQ 3022 1394 3022 966 \nQ 3022 478 2636 193 \nQ 2250 -91 1575 -91 \nQ 1294 -91 989 -36 \nQ 684 19 347 128 \nL 347 722 \nQ 666 556 975 473 \nQ 1284 391 1588 391 \nQ 1994 391 2212 530 \nQ 2431 669 2431 922 \nQ 2431 1156 2273 1281 \nQ 2116 1406 1581 1522 \nL 1381 1569 \nQ 847 1681 609 1914 \nQ 372 2147 372 2553 \nQ 372 3047 722 3315 \nQ 1072 3584 1716 3584 \nQ 2034 3584 2315 3537 \nQ 2597 3491 2834 3397 \nz\n\" transform=\"scale(0.015625)\"/>\n      </defs>\n      <use xlink:href=\"#DejaVuSans-74\"/>\n      <use xlink:href=\"#DejaVuSans-72\" x=\"39.208984\"/>\n      <use xlink:href=\"#DejaVuSans-61\" x=\"80.322266\"/>\n      <use xlink:href=\"#DejaVuSans-69\" x=\"141.601562\"/>\n      <use xlink:href=\"#DejaVuSans-6e\" x=\"169.384766\"/>\n      <use xlink:href=\"#DejaVuSans-5f\" x=\"232.763672\"/>\n      <use xlink:href=\"#DejaVuSans-6c\" x=\"282.763672\"/>\n      <use xlink:href=\"#DejaVuSans-6f\" x=\"310.546875\"/>\n      <use xlink:href=\"#DejaVuSans-73\" x=\"371.728516\"/>\n      <use xlink:href=\"#DejaVuSans-73\" x=\"423.828125\"/>\n     </g>\n    </g>\n    <g id=\"line2d_128\">\n     <path d=\"M 140.8125 35.254688 \nL 150.8125 35.254688 \nL 160.8125 35.254688 \n\" style=\"fill: none; stroke-dasharray: 5.55,2.4; stroke-dashoffset: 0; stroke: #ff7f0e; stroke-width: 1.5\"/>\n    </g>\n    <g id=\"text_13\">\n     <!-- val_loss -->\n     <g transform=\"translate(168.8125 38.754688) scale(0.1 -0.1)\">\n      <defs>\n       <path id=\"DejaVuSans-76\" d=\"M 191 3500 \nL 800 3500 \nL 1894 563 \nL 2988 3500 \nL 3597 3500 \nL 2284 0 \nL 1503 0 \nL 191 3500 \nz\n\" transform=\"scale(0.015625)\"/>\n      </defs>\n      <use xlink:href=\"#DejaVuSans-76\"/>\n      <use xlink:href=\"#DejaVuSans-61\" x=\"59.179688\"/>\n      <use xlink:href=\"#DejaVuSans-6c\" x=\"120.458984\"/>\n      <use xlink:href=\"#DejaVuSans-5f\" x=\"148.242188\"/>\n      <use xlink:href=\"#DejaVuSans-6c\" x=\"198.242188\"/>\n      <use xlink:href=\"#DejaVuSans-6f\" x=\"226.025391\"/>\n      <use xlink:href=\"#DejaVuSans-73\" x=\"287.207031\"/>\n      <use xlink:href=\"#DejaVuSans-73\" x=\"339.306641\"/>\n     </g>\n    </g>\n    <g id=\"line2d_129\">\n     <path d=\"M 140.8125 50.210938 \nL 150.8125 50.210938 \nL 160.8125 50.210938 \n\" style=\"fill: none; stroke-dasharray: 9.6,2.4,1.5,2.4; stroke-dashoffset: 0; stroke: #2ca02c; stroke-width: 1.5\"/>\n    </g>\n    <g id=\"text_14\">\n     <!-- val_acc -->\n     <g transform=\"translate(168.8125 53.710938) scale(0.1 -0.1)\">\n      <use xlink:href=\"#DejaVuSans-76\"/>\n      <use xlink:href=\"#DejaVuSans-61\" x=\"59.179688\"/>\n      <use xlink:href=\"#DejaVuSans-6c\" x=\"120.458984\"/>\n      <use xlink:href=\"#DejaVuSans-5f\" x=\"148.242188\"/>\n      <use xlink:href=\"#DejaVuSans-61\" x=\"198.242188\"/>\n      <use xlink:href=\"#DejaVuSans-63\" x=\"259.521484\"/>\n      <use xlink:href=\"#DejaVuSans-63\" x=\"314.501953\"/>\n     </g>\n    </g>\n   </g>\n  </g>\n </g>\n <defs>\n  <clipPath id=\"p37b1caaa51\">\n   <rect x=\"30.103125\" y=\"7.2\" width=\"195.3\" height=\"138.6\"/>\n  </clipPath>\n </defs>\n</svg>\n"
          },
          "metadata": {}
        }
      ]
    },
    {
      "cell_type": "markdown",
      "source": [
        "## Summary\n",
        "\n",
        "One might argue that VGG is the first truly modern convolutional neural network. While AlexNet introduced many of the components of what make deep learning effective at scale, it is VGG that arguably introduced key properties such as blocks of multiple convolutions and a preference for deep and narrow networks. It is also the first network that is actually an entire family of similarly parametrized models, giving the practitioner ample trade-off between complexity and speed. This is also the place where modern deep learning frameworks shine. It is no longer necessary to generate XML configuration files to specify a network but rather, to assemble said networks through simple Python code.\n",
        "\n",
        "More recently ParNet :cite:`Goyal.Bochkovskiy.Deng.ea.2021` demonstrated that it is possible to achieve competitive performance using a much more shallow architecture through a large number of parallel computations. This is an exciting development and there is hope that it will influence architecture designs in the future. For the remainder of the chapter, though, we will follow the path of scientific progress over the past decade.\n",
        "\n",
        "## Exercises\n",
        "\n",
        "\n",
        "1. Compared with AlexNet, VGG is much slower in terms of computation, and it also needs more GPU memory.\n",
        "    1. Compare the number of parameters needed for AlexNet and VGG.\n",
        "    2. Compare the number of floating point operations used in the convolutional layers and in the fully connected layers.\n",
        "    3. How could you reduce the computational cost created by the fully connected layers?\n",
        "2. When displaying the dimensions associated with the various layers of the network, we only see the information associated with eight blocks (plus some auxiliary transforms), even though the network has 11 layers. Where did the remaining three layers go?\n",
        "3. Use Table 1 in the VGG paper :cite:`Simonyan.Zisserman.2014` to construct other common models, such as VGG-16 or VGG-19.\n",
        "4. Upsampling the resolution in Fashion-MNIST eight-fold from $28 \\times 28$ to $224 \\times 224$ dimensions is very wasteful. Try modifying the network architecture and resolution conversion, e.g., to 56 or to 84 dimensions for its input instead. Can you do so without reducing the accuracy of the network? Consult the VGG paper :cite:`Simonyan.Zisserman.2014` for ideas on adding more nonlinearities prior to downsampling.\n"
      ],
      "metadata": {
        "id": "MeA3pRYhB368"
      },
      "id": "MeA3pRYhB368"
    },
    {
      "cell_type": "markdown",
      "source": [
        "##**Answer Exercise**\n",
        "\n",
        "**1. Dibandingkan dengan AlexNet, VGG jauh lebih lambat dalam hal komputasi, dan juga membutuhkan lebih banyak memori GPU.**\n",
        "\n",
        "1.   Bandingkan jumlah parameter yang dibutuhkan untuk AlexNet dan VGG.\n",
        "\n",
        "  *   AlexNet memiliki sekitar 60 juta parameter, sedangkan VGG-16 memiliki sekitar 138 juta parameter, yang berarti VGG membutuhkan lebih banyak memori untuk menyimpan parameternya. Perbedaan besar ini terutama disebabkan oleh arsitektur VGG yang lebih dalam dan penggunaan blok konvolusi bertumpuk.\n",
        "\n",
        "2.   Bandingkan jumlah operasi floating point yang digunakan dalam layer konvolusi dan layer fully connected.\n",
        "\n",
        "  *   Pada AlexNet, layer fully connected (FC) menyumbang sebagian besar operasi floating point (FLOPs), sedangkan pada VGG, layer konvolusionallah yang mendominasi. Ini karena VGG menggunakan lebih banyak layer konvolusi daripada FC, yang berarti sebagian besar perhitungan dilakukan pada tahap konvolusi.\n",
        "\n",
        "3. Bagaimana Anda dapat mengurangi biaya komputasi yang disebabkan oleh layer fully connected?\n",
        "\n",
        "  *   Salah satu cara untuk mengurangi biaya komputasi pada layer fully connected adalah dengan menggantinya dengan global average pooling, yang menghilangkan kebutuhan akan FC dan mengurangi jumlah parameter secara signifikan. Pendekatan ini telah diterapkan pada banyak model modern seperti GoogLeNet dan ResNet.\n",
        "\n",
        "\n",
        "**2. Saat menampilkan dimensi yang terkait dengan berbagai layer jaringan, kita hanya melihat informasi yang terkait dengan delapan blok (ditambah beberapa transformasi tambahan), meskipun jaringan memiliki 11 layer. Ke mana tiga layer lainnya pergi?**\n",
        "\n",
        "*   Tiga layer lainnya adalah layer pooling yang biasanya tidak dicatat sebagai bagian dari dimensi yang signifikan. Layer-layer ini bertanggung jawab untuk melakukan downsampling pada data dan tidak memiliki bobot pelatihan, sehingga kadang-kadang tidak ditampilkan saat memvisualisasikan dimensi jaringan.\n",
        "\n",
        "\n",
        "**3. Gunakan Tabel 1 dalam makalah VGG untuk membangun model umum lainnya, seperti VGG-16 atau VGG-19.**\n",
        "\n",
        "*   Berdasarkan Tabel 1 dari makalah VGG oleh Simonyan dan Zisserman (2014), model VGG-16 memiliki 13 layer konvolusi dan 3 layer fully connected, sementara VGG-19 memiliki 16 layer konvolusi dan 3 layer fully connected. Kamu dapat membangun model ini dengan menumpuk layer konvolusi sesuai dengan struktur yang dijelaskan dalam tabel tersebut.\n",
        "\n",
        "\n",
        "**4. Upsampling resolusi di dataset Fashion-MNIST dari $28 \\times 28$ menjadi $224 \\times 224$ sangat boros. Cobalah memodifikasi arsitektur jaringan dan konversi resolusi, misalnya, menjadi 56 atau 84 dimensi untuk inputnya. Bisakah kamu melakukannya tanpa mengurangi akurasi jaringan? Konsultasikan makalah VGG untuk ide tentang menambahkan lebih banyak non-linearitas sebelum downsampling.**\n",
        "\n",
        "*   Untuk mengurangi resolusi input menjadi 56 atau 84, Anda dapat menggunakan pooling atau convolutional stride untuk memperkecil resolusi gambar dengan cara yang lebih efisien. Selain itu, menambahkan layer non-linear seperti ReLU setelah setiap konvolusi dapat membantu model belajar representasi yang lebih kaya meskipun menggunakan resolusi yang lebih rendah. Menambahkan lebih banyak konvolusi sebelum downsampling juga dapat membantu menjaga akurasi.\n",
        "\n",
        "\n",
        "\n",
        "\n",
        "\n",
        "\n",
        "\n"
      ],
      "metadata": {
        "id": "US4kKfa-niUC"
      },
      "id": "US4kKfa-niUC"
    },
    {
      "cell_type": "markdown",
      "source": [
        "#8.3 Network in Network (NiN)\n",
        ":label:`sec_nin`\n",
        "\n",
        "LeNet, AlexNet, and VGG all share a common design pattern:\n",
        "extract features exploiting *spatial* structure\n",
        "via a sequence of convolutions and pooling layers\n",
        "and post-process the representations via fully connected layers.\n",
        "The improvements upon LeNet by AlexNet and VGG mainly lie\n",
        "in how these later networks widen and deepen these two modules.\n",
        "\n",
        "This design poses two major challenges.\n",
        "First, the fully connected layers at the end\n",
        "of the architecture consume tremendous numbers of parameters. For instance, even a simple\n",
        "model such as VGG-11 requires a monstrous matrix, occupying almost\n",
        "400MB of RAM in single precision (FP32). This is a significant impediment to computation, in particular on\n",
        "mobile and embedded devices. After all, even high-end mobile phones sport no more than 8GB of RAM. At the time VGG was invented, this was an order of magnitude less (the iPhone 4S had 512MB). As such, it would have been difficult to justify spending the majority of memory on an image classifier.\n",
        "\n",
        "Second, it is equally impossible to add fully connected layers\n",
        "earlier in the network to increase the degree of nonlinearity: doing so would destroy the\n",
        "spatial structure and require potentially even more memory.\n",
        "\n",
        "The *network in network* (*NiN*) blocks :cite:`Lin.Chen.Yan.2013` offer an alternative,\n",
        "capable of solving both problems in one simple strategy.\n",
        "They were proposed based on a very simple insight: (i) use $1 \\times 1$ convolutions to add\n",
        "local nonlinearities across the channel activations and (ii) use global average pooling to integrate\n",
        "across all locations in the last representation layer. Note that global average pooling would not\n",
        "be effective, were it not for the added nonlinearities. Let's dive into this in detail.\n"
      ],
      "metadata": {
        "id": "YUb_49boB5fG"
      },
      "id": "YUb_49boB5fG"
    },
    {
      "cell_type": "markdown",
      "source": [
        "## (**NiN Blocks**)\n",
        "\n",
        "Recall :numref:`subsec_1x1`. In it we said that the inputs and outputs of convolutional layers\n",
        "consist of four-dimensional tensors with axes\n",
        "corresponding to the example, channel, height, and width.\n",
        "Also recall that the inputs and outputs of fully connected layers\n",
        "are typically two-dimensional tensors corresponding to the example and feature.\n",
        "The idea behind NiN is to apply a fully connected layer\n",
        "at each pixel location (for each height and width).\n",
        "The resulting $1 \\times 1$ convolution can be thought of as\n",
        "a fully connected layer acting independently on each pixel location.\n",
        "\n",
        ":numref:`fig_nin` illustrates the main structural\n",
        "differences between VGG and NiN, and their blocks.\n",
        "Note both the difference in the NiN blocks (the initial convolution is followed by $1 \\times 1$ convolutions, whereas VGG retains $3 \\times 3$ convolutions) and at the end where we no longer require a giant fully connected layer.\n",
        "\n",
        "![Comparing the architectures of VGG and NiN, and of their blocks.](http://d2l.ai/_images/nin.svg)\n",
        ":width:`600px`\n",
        ":label:`fig_nin`\n"
      ],
      "metadata": {
        "id": "FlHQ17QQEQaH"
      },
      "id": "FlHQ17QQEQaH"
    },
    {
      "cell_type": "code",
      "source": [
        "def nin_block(out_channels, kernel_size, strides, padding):\n",
        "    return nn.Sequential(\n",
        "        nn.LazyConv2d(out_channels, kernel_size, strides, padding), nn.ReLU(),\n",
        "        nn.LazyConv2d(out_channels, kernel_size=1), nn.ReLU(),\n",
        "        nn.LazyConv2d(out_channels, kernel_size=1), nn.ReLU())"
      ],
      "metadata": {
        "id": "11z6MqauB41_"
      },
      "id": "11z6MqauB41_",
      "execution_count": null,
      "outputs": []
    },
    {
      "cell_type": "markdown",
      "source": [
        "## [**NiN Model**]\n",
        "\n",
        "NiN uses the same initial convolution sizes as AlexNet (it was proposed shortly thereafter).\n",
        "The kernel sizes are $11\\times 11$, $5\\times 5$, and $3\\times 3$, respectively,\n",
        "and the numbers of output channels match those of AlexNet. Each NiN block is followed by a max-pooling layer\n",
        "with a stride of 2 and a window shape of $3\\times 3$.\n",
        "\n",
        "The second significant difference between NiN and both AlexNet and VGG\n",
        "is that NiN avoids fully connected layers altogether.\n",
        "Instead, NiN uses a NiN block with a number of output channels equal to the number of label classes, followed by a *global* average pooling layer,\n",
        "yielding a vector of logits.\n",
        "This design significantly reduces the number of required model parameters, albeit at the expense of a potential increase in training time.\n"
      ],
      "metadata": {
        "id": "uke4gSNzEe0B"
      },
      "id": "uke4gSNzEe0B"
    },
    {
      "cell_type": "code",
      "source": [
        "class NiN(d2l.Classifier):\n",
        "    def __init__(self, lr=0.1, num_classes=10):\n",
        "        super().__init__()\n",
        "        self.save_hyperparameters()\n",
        "        self.net = nn.Sequential(\n",
        "            nin_block(96, kernel_size=11, strides=4, padding=0),\n",
        "            nn.MaxPool2d(3, stride=2),\n",
        "            nin_block(256, kernel_size=5, strides=1, padding=2),\n",
        "            nn.MaxPool2d(3, stride=2),\n",
        "            nin_block(384, kernel_size=3, strides=1, padding=1),\n",
        "            nn.MaxPool2d(3, stride=2),\n",
        "            nn.Dropout(0.5),\n",
        "            nin_block(num_classes, kernel_size=3, strides=1, padding=1),\n",
        "            nn.AdaptiveAvgPool2d((1, 1)),\n",
        "            nn.Flatten())\n",
        "        self.net.apply(d2l.init_cnn)"
      ],
      "metadata": {
        "id": "GOac0XuoEa_I"
      },
      "id": "GOac0XuoEa_I",
      "execution_count": null,
      "outputs": []
    },
    {
      "cell_type": "markdown",
      "source": [
        "We create a data example to see [**the output shape of each block**].\n"
      ],
      "metadata": {
        "id": "ZGmPMjYIEobX"
      },
      "id": "ZGmPMjYIEobX"
    },
    {
      "cell_type": "code",
      "source": [
        "NiN().layer_summary((1, 1, 224, 224))"
      ],
      "metadata": {
        "colab": {
          "base_uri": "https://localhost:8080/"
        },
        "id": "-uWuHftWEpzU",
        "outputId": "0752d0b5-02de-4220-ca08-3e9ffbcecc5f"
      },
      "id": "-uWuHftWEpzU",
      "execution_count": null,
      "outputs": [
        {
          "output_type": "stream",
          "name": "stdout",
          "text": [
            "Sequential output shape:\t torch.Size([1, 96, 54, 54])\n",
            "MaxPool2d output shape:\t torch.Size([1, 96, 26, 26])\n",
            "Sequential output shape:\t torch.Size([1, 256, 26, 26])\n",
            "MaxPool2d output shape:\t torch.Size([1, 256, 12, 12])\n",
            "Sequential output shape:\t torch.Size([1, 384, 12, 12])\n",
            "MaxPool2d output shape:\t torch.Size([1, 384, 5, 5])\n",
            "Dropout output shape:\t torch.Size([1, 384, 5, 5])\n",
            "Sequential output shape:\t torch.Size([1, 10, 5, 5])\n",
            "AdaptiveAvgPool2d output shape:\t torch.Size([1, 10, 1, 1])\n",
            "Flatten output shape:\t torch.Size([1, 10])\n"
          ]
        }
      ]
    },
    {
      "cell_type": "markdown",
      "source": [
        "## [**Training**]\n",
        "\n",
        "As before we use Fashion-MNIST to train the model using the same\n",
        "optimizer that we used for AlexNet and VGG.\n"
      ],
      "metadata": {
        "id": "af2Ql5C3EmOE"
      },
      "id": "af2Ql5C3EmOE"
    },
    {
      "cell_type": "code",
      "source": [
        "model = NiN(lr=0.05)\n",
        "trainer = d2l.Trainer(max_epochs=10, num_gpus=1)\n",
        "data = d2l.FashionMNIST(batch_size=128, resize=(224, 224))\n",
        "model.apply_init([next(iter(data.get_dataloader(True)))[0]], d2l.init_cnn)\n",
        "trainer.fit(model, data)"
      ],
      "metadata": {
        "colab": {
          "base_uri": "https://localhost:8080/",
          "height": 265
        },
        "id": "SpKEgF-iExhe",
        "outputId": "0b39cb32-9e98-4b80-c511-720fc636ce36"
      },
      "id": "SpKEgF-iExhe",
      "execution_count": null,
      "outputs": [
        {
          "output_type": "display_data",
          "data": {
            "text/plain": [
              "<Figure size 350x250 with 1 Axes>"
            ],
            "image/svg+xml": "<?xml version=\"1.0\" encoding=\"utf-8\" standalone=\"no\"?>\n<!DOCTYPE svg PUBLIC \"-//W3C//DTD SVG 1.1//EN\"\n  \"http://www.w3.org/Graphics/SVG/1.1/DTD/svg11.dtd\">\n<svg xmlns:xlink=\"http://www.w3.org/1999/xlink\" width=\"238.965625pt\" height=\"183.35625pt\" viewBox=\"0 0 238.965625 183.35625\" xmlns=\"http://www.w3.org/2000/svg\" version=\"1.1\">\n <metadata>\n  <rdf:RDF xmlns:dc=\"http://purl.org/dc/elements/1.1/\" xmlns:cc=\"http://creativecommons.org/ns#\" xmlns:rdf=\"http://www.w3.org/1999/02/22-rdf-syntax-ns#\">\n   <cc:Work>\n    <dc:type rdf:resource=\"http://purl.org/dc/dcmitype/StillImage\"/>\n    <dc:date>2024-09-29T09:30:02.476786</dc:date>\n    <dc:format>image/svg+xml</dc:format>\n    <dc:creator>\n     <cc:Agent>\n      <dc:title>Matplotlib v3.7.2, https://matplotlib.org/</dc:title>\n     </cc:Agent>\n    </dc:creator>\n   </cc:Work>\n  </rdf:RDF>\n </metadata>\n <defs>\n  <style type=\"text/css\">*{stroke-linejoin: round; stroke-linecap: butt}</style>\n </defs>\n <g id=\"figure_1\">\n  <g id=\"patch_1\">\n   <path d=\"M 0 183.35625 \nL 238.965625 183.35625 \nL 238.965625 0 \nL 0 0 \nz\n\" style=\"fill: #ffffff\"/>\n  </g>\n  <g id=\"axes_1\">\n   <g id=\"patch_2\">\n    <path d=\"M 30.103125 145.8 \nL 225.403125 145.8 \nL 225.403125 7.2 \nL 30.103125 7.2 \nz\n\" style=\"fill: #ffffff\"/>\n   </g>\n   <g id=\"matplotlib.axis_1\">\n    <g id=\"xtick_1\">\n     <g id=\"line2d_1\">\n      <defs>\n       <path id=\"mf3be13ff97\" d=\"M 0 0 \nL 0 3.5 \n\" style=\"stroke: #000000; stroke-width: 0.8\"/>\n      </defs>\n      <g>\n       <use xlink:href=\"#mf3be13ff97\" x=\"30.103125\" y=\"145.8\" style=\"stroke: #000000; stroke-width: 0.8\"/>\n      </g>\n     </g>\n     <g id=\"text_1\">\n      <!-- 0 -->\n      <g transform=\"translate(26.921875 160.398438) scale(0.1 -0.1)\">\n       <defs>\n        <path id=\"DejaVuSans-30\" d=\"M 2034 4250 \nQ 1547 4250 1301 3770 \nQ 1056 3291 1056 2328 \nQ 1056 1369 1301 889 \nQ 1547 409 2034 409 \nQ 2525 409 2770 889 \nQ 3016 1369 3016 2328 \nQ 3016 3291 2770 3770 \nQ 2525 4250 2034 4250 \nz\nM 2034 4750 \nQ 2819 4750 3233 4129 \nQ 3647 3509 3647 2328 \nQ 3647 1150 3233 529 \nQ 2819 -91 2034 -91 \nQ 1250 -91 836 529 \nQ 422 1150 422 2328 \nQ 422 3509 836 4129 \nQ 1250 4750 2034 4750 \nz\n\" transform=\"scale(0.015625)\"/>\n       </defs>\n       <use xlink:href=\"#DejaVuSans-30\"/>\n      </g>\n     </g>\n    </g>\n    <g id=\"xtick_2\">\n     <g id=\"line2d_2\">\n      <g>\n       <use xlink:href=\"#mf3be13ff97\" x=\"69.163125\" y=\"145.8\" style=\"stroke: #000000; stroke-width: 0.8\"/>\n      </g>\n     </g>\n     <g id=\"text_2\">\n      <!-- 2 -->\n      <g transform=\"translate(65.981875 160.398438) scale(0.1 -0.1)\">\n       <defs>\n        <path id=\"DejaVuSans-32\" d=\"M 1228 531 \nL 3431 531 \nL 3431 0 \nL 469 0 \nL 469 531 \nQ 828 903 1448 1529 \nQ 2069 2156 2228 2338 \nQ 2531 2678 2651 2914 \nQ 2772 3150 2772 3378 \nQ 2772 3750 2511 3984 \nQ 2250 4219 1831 4219 \nQ 1534 4219 1204 4116 \nQ 875 4013 500 3803 \nL 500 4441 \nQ 881 4594 1212 4672 \nQ 1544 4750 1819 4750 \nQ 2544 4750 2975 4387 \nQ 3406 4025 3406 3419 \nQ 3406 3131 3298 2873 \nQ 3191 2616 2906 2266 \nQ 2828 2175 2409 1742 \nQ 1991 1309 1228 531 \nz\n\" transform=\"scale(0.015625)\"/>\n       </defs>\n       <use xlink:href=\"#DejaVuSans-32\"/>\n      </g>\n     </g>\n    </g>\n    <g id=\"xtick_3\">\n     <g id=\"line2d_3\">\n      <g>\n       <use xlink:href=\"#mf3be13ff97\" x=\"108.223125\" y=\"145.8\" style=\"stroke: #000000; stroke-width: 0.8\"/>\n      </g>\n     </g>\n     <g id=\"text_3\">\n      <!-- 4 -->\n      <g transform=\"translate(105.041875 160.398438) scale(0.1 -0.1)\">\n       <defs>\n        <path id=\"DejaVuSans-34\" d=\"M 2419 4116 \nL 825 1625 \nL 2419 1625 \nL 2419 4116 \nz\nM 2253 4666 \nL 3047 4666 \nL 3047 1625 \nL 3713 1625 \nL 3713 1100 \nL 3047 1100 \nL 3047 0 \nL 2419 0 \nL 2419 1100 \nL 313 1100 \nL 313 1709 \nL 2253 4666 \nz\n\" transform=\"scale(0.015625)\"/>\n       </defs>\n       <use xlink:href=\"#DejaVuSans-34\"/>\n      </g>\n     </g>\n    </g>\n    <g id=\"xtick_4\">\n     <g id=\"line2d_4\">\n      <g>\n       <use xlink:href=\"#mf3be13ff97\" x=\"147.283125\" y=\"145.8\" style=\"stroke: #000000; stroke-width: 0.8\"/>\n      </g>\n     </g>\n     <g id=\"text_4\">\n      <!-- 6 -->\n      <g transform=\"translate(144.101875 160.398438) scale(0.1 -0.1)\">\n       <defs>\n        <path id=\"DejaVuSans-36\" d=\"M 2113 2584 \nQ 1688 2584 1439 2293 \nQ 1191 2003 1191 1497 \nQ 1191 994 1439 701 \nQ 1688 409 2113 409 \nQ 2538 409 2786 701 \nQ 3034 994 3034 1497 \nQ 3034 2003 2786 2293 \nQ 2538 2584 2113 2584 \nz\nM 3366 4563 \nL 3366 3988 \nQ 3128 4100 2886 4159 \nQ 2644 4219 2406 4219 \nQ 1781 4219 1451 3797 \nQ 1122 3375 1075 2522 \nQ 1259 2794 1537 2939 \nQ 1816 3084 2150 3084 \nQ 2853 3084 3261 2657 \nQ 3669 2231 3669 1497 \nQ 3669 778 3244 343 \nQ 2819 -91 2113 -91 \nQ 1303 -91 875 529 \nQ 447 1150 447 2328 \nQ 447 3434 972 4092 \nQ 1497 4750 2381 4750 \nQ 2619 4750 2861 4703 \nQ 3103 4656 3366 4563 \nz\n\" transform=\"scale(0.015625)\"/>\n       </defs>\n       <use xlink:href=\"#DejaVuSans-36\"/>\n      </g>\n     </g>\n    </g>\n    <g id=\"xtick_5\">\n     <g id=\"line2d_5\">\n      <g>\n       <use xlink:href=\"#mf3be13ff97\" x=\"186.343125\" y=\"145.8\" style=\"stroke: #000000; stroke-width: 0.8\"/>\n      </g>\n     </g>\n     <g id=\"text_5\">\n      <!-- 8 -->\n      <g transform=\"translate(183.161875 160.398438) scale(0.1 -0.1)\">\n       <defs>\n        <path id=\"DejaVuSans-38\" d=\"M 2034 2216 \nQ 1584 2216 1326 1975 \nQ 1069 1734 1069 1313 \nQ 1069 891 1326 650 \nQ 1584 409 2034 409 \nQ 2484 409 2743 651 \nQ 3003 894 3003 1313 \nQ 3003 1734 2745 1975 \nQ 2488 2216 2034 2216 \nz\nM 1403 2484 \nQ 997 2584 770 2862 \nQ 544 3141 544 3541 \nQ 544 4100 942 4425 \nQ 1341 4750 2034 4750 \nQ 2731 4750 3128 4425 \nQ 3525 4100 3525 3541 \nQ 3525 3141 3298 2862 \nQ 3072 2584 2669 2484 \nQ 3125 2378 3379 2068 \nQ 3634 1759 3634 1313 \nQ 3634 634 3220 271 \nQ 2806 -91 2034 -91 \nQ 1263 -91 848 271 \nQ 434 634 434 1313 \nQ 434 1759 690 2068 \nQ 947 2378 1403 2484 \nz\nM 1172 3481 \nQ 1172 3119 1398 2916 \nQ 1625 2713 2034 2713 \nQ 2441 2713 2670 2916 \nQ 2900 3119 2900 3481 \nQ 2900 3844 2670 4047 \nQ 2441 4250 2034 4250 \nQ 1625 4250 1398 4047 \nQ 1172 3844 1172 3481 \nz\n\" transform=\"scale(0.015625)\"/>\n       </defs>\n       <use xlink:href=\"#DejaVuSans-38\"/>\n      </g>\n     </g>\n    </g>\n    <g id=\"xtick_6\">\n     <g id=\"line2d_6\">\n      <g>\n       <use xlink:href=\"#mf3be13ff97\" x=\"225.403125\" y=\"145.8\" style=\"stroke: #000000; stroke-width: 0.8\"/>\n      </g>\n     </g>\n     <g id=\"text_6\">\n      <!-- 10 -->\n      <g transform=\"translate(219.040625 160.398438) scale(0.1 -0.1)\">\n       <defs>\n        <path id=\"DejaVuSans-31\" d=\"M 794 531 \nL 1825 531 \nL 1825 4091 \nL 703 3866 \nL 703 4441 \nL 1819 4666 \nL 2450 4666 \nL 2450 531 \nL 3481 531 \nL 3481 0 \nL 794 0 \nL 794 531 \nz\n\" transform=\"scale(0.015625)\"/>\n       </defs>\n       <use xlink:href=\"#DejaVuSans-31\"/>\n       <use xlink:href=\"#DejaVuSans-30\" x=\"63.623047\"/>\n      </g>\n     </g>\n    </g>\n    <g id=\"text_7\">\n     <!-- epoch -->\n     <g transform=\"translate(112.525 174.076563) scale(0.1 -0.1)\">\n      <defs>\n       <path id=\"DejaVuSans-65\" d=\"M 3597 1894 \nL 3597 1613 \nL 953 1613 \nQ 991 1019 1311 708 \nQ 1631 397 2203 397 \nQ 2534 397 2845 478 \nQ 3156 559 3463 722 \nL 3463 178 \nQ 3153 47 2828 -22 \nQ 2503 -91 2169 -91 \nQ 1331 -91 842 396 \nQ 353 884 353 1716 \nQ 353 2575 817 3079 \nQ 1281 3584 2069 3584 \nQ 2775 3584 3186 3129 \nQ 3597 2675 3597 1894 \nz\nM 3022 2063 \nQ 3016 2534 2758 2815 \nQ 2500 3097 2075 3097 \nQ 1594 3097 1305 2825 \nQ 1016 2553 972 2059 \nL 3022 2063 \nz\n\" transform=\"scale(0.015625)\"/>\n       <path id=\"DejaVuSans-70\" d=\"M 1159 525 \nL 1159 -1331 \nL 581 -1331 \nL 581 3500 \nL 1159 3500 \nL 1159 2969 \nQ 1341 3281 1617 3432 \nQ 1894 3584 2278 3584 \nQ 2916 3584 3314 3078 \nQ 3713 2572 3713 1747 \nQ 3713 922 3314 415 \nQ 2916 -91 2278 -91 \nQ 1894 -91 1617 61 \nQ 1341 213 1159 525 \nz\nM 3116 1747 \nQ 3116 2381 2855 2742 \nQ 2594 3103 2138 3103 \nQ 1681 3103 1420 2742 \nQ 1159 2381 1159 1747 \nQ 1159 1113 1420 752 \nQ 1681 391 2138 391 \nQ 2594 391 2855 752 \nQ 3116 1113 3116 1747 \nz\n\" transform=\"scale(0.015625)\"/>\n       <path id=\"DejaVuSans-6f\" d=\"M 1959 3097 \nQ 1497 3097 1228 2736 \nQ 959 2375 959 1747 \nQ 959 1119 1226 758 \nQ 1494 397 1959 397 \nQ 2419 397 2687 759 \nQ 2956 1122 2956 1747 \nQ 2956 2369 2687 2733 \nQ 2419 3097 1959 3097 \nz\nM 1959 3584 \nQ 2709 3584 3137 3096 \nQ 3566 2609 3566 1747 \nQ 3566 888 3137 398 \nQ 2709 -91 1959 -91 \nQ 1206 -91 779 398 \nQ 353 888 353 1747 \nQ 353 2609 779 3096 \nQ 1206 3584 1959 3584 \nz\n\" transform=\"scale(0.015625)\"/>\n       <path id=\"DejaVuSans-63\" d=\"M 3122 3366 \nL 3122 2828 \nQ 2878 2963 2633 3030 \nQ 2388 3097 2138 3097 \nQ 1578 3097 1268 2742 \nQ 959 2388 959 1747 \nQ 959 1106 1268 751 \nQ 1578 397 2138 397 \nQ 2388 397 2633 464 \nQ 2878 531 3122 666 \nL 3122 134 \nQ 2881 22 2623 -34 \nQ 2366 -91 2075 -91 \nQ 1284 -91 818 406 \nQ 353 903 353 1747 \nQ 353 2603 823 3093 \nQ 1294 3584 2113 3584 \nQ 2378 3584 2631 3529 \nQ 2884 3475 3122 3366 \nz\n\" transform=\"scale(0.015625)\"/>\n       <path id=\"DejaVuSans-68\" d=\"M 3513 2113 \nL 3513 0 \nL 2938 0 \nL 2938 2094 \nQ 2938 2591 2744 2837 \nQ 2550 3084 2163 3084 \nQ 1697 3084 1428 2787 \nQ 1159 2491 1159 1978 \nL 1159 0 \nL 581 0 \nL 581 4863 \nL 1159 4863 \nL 1159 2956 \nQ 1366 3272 1645 3428 \nQ 1925 3584 2291 3584 \nQ 2894 3584 3203 3211 \nQ 3513 2838 3513 2113 \nz\n\" transform=\"scale(0.015625)\"/>\n      </defs>\n      <use xlink:href=\"#DejaVuSans-65\"/>\n      <use xlink:href=\"#DejaVuSans-70\" x=\"61.523438\"/>\n      <use xlink:href=\"#DejaVuSans-6f\" x=\"125\"/>\n      <use xlink:href=\"#DejaVuSans-63\" x=\"186.181641\"/>\n      <use xlink:href=\"#DejaVuSans-68\" x=\"241.162109\"/>\n     </g>\n    </g>\n   </g>\n   <g id=\"matplotlib.axis_2\">\n    <g id=\"ytick_1\">\n     <g id=\"line2d_7\">\n      <defs>\n       <path id=\"m88de5d1e75\" d=\"M 0 0 \nL -3.5 0 \n\" style=\"stroke: #000000; stroke-width: 0.8\"/>\n      </defs>\n      <g>\n       <use xlink:href=\"#m88de5d1e75\" x=\"30.103125\" y=\"119.932179\" style=\"stroke: #000000; stroke-width: 0.8\"/>\n      </g>\n     </g>\n     <g id=\"text_8\">\n      <!-- 0.5 -->\n      <g transform=\"translate(7.2 123.731397) scale(0.1 -0.1)\">\n       <defs>\n        <path id=\"DejaVuSans-2e\" d=\"M 684 794 \nL 1344 794 \nL 1344 0 \nL 684 0 \nL 684 794 \nz\n\" transform=\"scale(0.015625)\"/>\n        <path id=\"DejaVuSans-35\" d=\"M 691 4666 \nL 3169 4666 \nL 3169 4134 \nL 1269 4134 \nL 1269 2991 \nQ 1406 3038 1543 3061 \nQ 1681 3084 1819 3084 \nQ 2600 3084 3056 2656 \nQ 3513 2228 3513 1497 \nQ 3513 744 3044 326 \nQ 2575 -91 1722 -91 \nQ 1428 -91 1123 -41 \nQ 819 9 494 109 \nL 494 744 \nQ 775 591 1075 516 \nQ 1375 441 1709 441 \nQ 2250 441 2565 725 \nQ 2881 1009 2881 1497 \nQ 2881 1984 2565 2268 \nQ 2250 2553 1709 2553 \nQ 1456 2553 1204 2497 \nQ 953 2441 691 2322 \nL 691 4666 \nz\n\" transform=\"scale(0.015625)\"/>\n       </defs>\n       <use xlink:href=\"#DejaVuSans-30\"/>\n       <use xlink:href=\"#DejaVuSans-2e\" x=\"63.623047\"/>\n       <use xlink:href=\"#DejaVuSans-35\" x=\"95.410156\"/>\n      </g>\n     </g>\n    </g>\n    <g id=\"ytick_2\">\n     <g id=\"line2d_8\">\n      <g>\n       <use xlink:href=\"#m88de5d1e75\" x=\"30.103125\" y=\"90.434592\" style=\"stroke: #000000; stroke-width: 0.8\"/>\n      </g>\n     </g>\n     <g id=\"text_9\">\n      <!-- 1.0 -->\n      <g transform=\"translate(7.2 94.233811) scale(0.1 -0.1)\">\n       <use xlink:href=\"#DejaVuSans-31\"/>\n       <use xlink:href=\"#DejaVuSans-2e\" x=\"63.623047\"/>\n       <use xlink:href=\"#DejaVuSans-30\" x=\"95.410156\"/>\n      </g>\n     </g>\n    </g>\n    <g id=\"ytick_3\">\n     <g id=\"line2d_9\">\n      <g>\n       <use xlink:href=\"#m88de5d1e75\" x=\"30.103125\" y=\"60.937006\" style=\"stroke: #000000; stroke-width: 0.8\"/>\n      </g>\n     </g>\n     <g id=\"text_10\">\n      <!-- 1.5 -->\n      <g transform=\"translate(7.2 64.736225) scale(0.1 -0.1)\">\n       <use xlink:href=\"#DejaVuSans-31\"/>\n       <use xlink:href=\"#DejaVuSans-2e\" x=\"63.623047\"/>\n       <use xlink:href=\"#DejaVuSans-35\" x=\"95.410156\"/>\n      </g>\n     </g>\n    </g>\n    <g id=\"ytick_4\">\n     <g id=\"line2d_10\">\n      <g>\n       <use xlink:href=\"#m88de5d1e75\" x=\"30.103125\" y=\"31.43942\" style=\"stroke: #000000; stroke-width: 0.8\"/>\n      </g>\n     </g>\n     <g id=\"text_11\">\n      <!-- 2.0 -->\n      <g transform=\"translate(7.2 35.238639) scale(0.1 -0.1)\">\n       <use xlink:href=\"#DejaVuSans-32\"/>\n       <use xlink:href=\"#DejaVuSans-2e\" x=\"63.623047\"/>\n       <use xlink:href=\"#DejaVuSans-30\" x=\"95.410156\"/>\n      </g>\n     </g>\n    </g>\n   </g>\n   <g id=\"line2d_11\">\n    <path d=\"M 34.954394 13.5 \n\" clip-path=\"url(#pa76bc1bef0)\" style=\"fill: none; stroke: #1f77b4; stroke-width: 1.5; stroke-linecap: square\"/>\n   </g>\n   <g id=\"line2d_12\">\n    <path d=\"M 34.954394 13.5 \nL 44.698573 13.593577 \n\" clip-path=\"url(#pa76bc1bef0)\" style=\"fill: none; stroke: #1f77b4; stroke-width: 1.5; stroke-linecap: square\"/>\n   </g>\n   <g id=\"line2d_13\">\n    <path d=\"M 34.954394 13.5 \nL 44.698573 13.593577 \n\" clip-path=\"url(#pa76bc1bef0)\" style=\"fill: none; stroke: #1f77b4; stroke-width: 1.5; stroke-linecap: square\"/>\n   </g>\n   <g id=\"line2d_14\">\n    <path d=\"M 49.633125 13.605502 \n\" clip-path=\"url(#pa76bc1bef0)\" style=\"fill: none; stroke-dasharray: 5.55,2.4; stroke-dashoffset: 0; stroke: #ff7f0e; stroke-width: 1.5\"/>\n   </g>\n   <g id=\"line2d_15\"/>\n   <g id=\"line2d_16\">\n    <path d=\"M 34.954394 13.5 \nL 44.698573 13.593577 \n\" clip-path=\"url(#pa76bc1bef0)\" style=\"fill: none; stroke: #1f77b4; stroke-width: 1.5; stroke-linecap: square\"/>\n   </g>\n   <g id=\"line2d_17\">\n    <path d=\"M 49.633125 13.605502 \n\" clip-path=\"url(#pa76bc1bef0)\" style=\"fill: none; stroke-dasharray: 5.55,2.4; stroke-dashoffset: 0; stroke: #ff7f0e; stroke-width: 1.5\"/>\n   </g>\n   <g id=\"line2d_18\">\n    <path d=\"M 49.633125 139.5 \n\" clip-path=\"url(#pa76bc1bef0)\" style=\"fill: none; stroke-dasharray: 9.6,2.4,1.5,2.4; stroke-dashoffset: 0; stroke: #2ca02c; stroke-width: 1.5\"/>\n   </g>\n   <g id=\"line2d_19\">\n    <path d=\"M 34.954394 13.5 \nL 44.698573 13.593577 \nL 54.442752 13.633764 \n\" clip-path=\"url(#pa76bc1bef0)\" style=\"fill: none; stroke: #1f77b4; stroke-width: 1.5; stroke-linecap: square\"/>\n   </g>\n   <g id=\"line2d_20\">\n    <path d=\"M 49.633125 13.605502 \n\" clip-path=\"url(#pa76bc1bef0)\" style=\"fill: none; stroke-dasharray: 5.55,2.4; stroke-dashoffset: 0; stroke: #ff7f0e; stroke-width: 1.5\"/>\n   </g>\n   <g id=\"line2d_21\">\n    <path d=\"M 49.633125 139.5 \n\" clip-path=\"url(#pa76bc1bef0)\" style=\"fill: none; stroke-dasharray: 9.6,2.4,1.5,2.4; stroke-dashoffset: 0; stroke: #2ca02c; stroke-width: 1.5\"/>\n   </g>\n   <g id=\"line2d_22\">\n    <path d=\"M 34.954394 13.5 \nL 44.698573 13.593577 \nL 54.442752 13.633764 \nL 64.186931 13.896391 \n\" clip-path=\"url(#pa76bc1bef0)\" style=\"fill: none; stroke: #1f77b4; stroke-width: 1.5; stroke-linecap: square\"/>\n   </g>\n   <g id=\"line2d_23\">\n    <path d=\"M 49.633125 13.605502 \n\" clip-path=\"url(#pa76bc1bef0)\" style=\"fill: none; stroke-dasharray: 5.55,2.4; stroke-dashoffset: 0; stroke: #ff7f0e; stroke-width: 1.5\"/>\n   </g>\n   <g id=\"line2d_24\">\n    <path d=\"M 49.633125 139.5 \n\" clip-path=\"url(#pa76bc1bef0)\" style=\"fill: none; stroke-dasharray: 9.6,2.4,1.5,2.4; stroke-dashoffset: 0; stroke: #2ca02c; stroke-width: 1.5\"/>\n   </g>\n   <g id=\"line2d_25\">\n    <path d=\"M 34.954394 13.5 \nL 44.698573 13.593577 \nL 54.442752 13.633764 \nL 64.186931 13.896391 \n\" clip-path=\"url(#pa76bc1bef0)\" style=\"fill: none; stroke: #1f77b4; stroke-width: 1.5; stroke-linecap: square\"/>\n   </g>\n   <g id=\"line2d_26\">\n    <path d=\"M 49.633125 13.605502 \nL 69.163125 14.732391 \n\" clip-path=\"url(#pa76bc1bef0)\" style=\"fill: none; stroke-dasharray: 5.55,2.4; stroke-dashoffset: 0; stroke: #ff7f0e; stroke-width: 1.5\"/>\n   </g>\n   <g id=\"line2d_27\">\n    <path d=\"M 49.633125 139.5 \n\" clip-path=\"url(#pa76bc1bef0)\" style=\"fill: none; stroke-dasharray: 9.6,2.4,1.5,2.4; stroke-dashoffset: 0; stroke: #2ca02c; stroke-width: 1.5\"/>\n   </g>\n   <g id=\"line2d_28\">\n    <path d=\"M 34.954394 13.5 \nL 44.698573 13.593577 \nL 54.442752 13.633764 \nL 64.186931 13.896391 \n\" clip-path=\"url(#pa76bc1bef0)\" style=\"fill: none; stroke: #1f77b4; stroke-width: 1.5; stroke-linecap: square\"/>\n   </g>\n   <g id=\"line2d_29\">\n    <path d=\"M 49.633125 13.605502 \nL 69.163125 14.732391 \n\" clip-path=\"url(#pa76bc1bef0)\" style=\"fill: none; stroke-dasharray: 5.55,2.4; stroke-dashoffset: 0; stroke: #ff7f0e; stroke-width: 1.5\"/>\n   </g>\n   <g id=\"line2d_30\">\n    <path d=\"M 49.633125 139.5 \nL 69.163125 137.889768 \n\" clip-path=\"url(#pa76bc1bef0)\" style=\"fill: none; stroke-dasharray: 9.6,2.4,1.5,2.4; stroke-dashoffset: 0; stroke: #2ca02c; stroke-width: 1.5\"/>\n   </g>\n   <g id=\"line2d_31\">\n    <path d=\"M 34.954394 13.5 \nL 44.698573 13.593577 \nL 54.442752 13.633764 \nL 64.186931 13.896391 \nL 73.93111 24.090383 \n\" clip-path=\"url(#pa76bc1bef0)\" style=\"fill: none; stroke: #1f77b4; stroke-width: 1.5; stroke-linecap: square\"/>\n   </g>\n   <g id=\"line2d_32\">\n    <path d=\"M 49.633125 13.605502 \nL 69.163125 14.732391 \n\" clip-path=\"url(#pa76bc1bef0)\" style=\"fill: none; stroke-dasharray: 5.55,2.4; stroke-dashoffset: 0; stroke: #ff7f0e; stroke-width: 1.5\"/>\n   </g>\n   <g id=\"line2d_33\">\n    <path d=\"M 49.633125 139.5 \nL 69.163125 137.889768 \n\" clip-path=\"url(#pa76bc1bef0)\" style=\"fill: none; stroke-dasharray: 9.6,2.4,1.5,2.4; stroke-dashoffset: 0; stroke: #2ca02c; stroke-width: 1.5\"/>\n   </g>\n   <g id=\"line2d_34\">\n    <path d=\"M 34.954394 13.5 \nL 44.698573 13.593577 \nL 54.442752 13.633764 \nL 64.186931 13.896391 \nL 73.93111 24.090383 \nL 83.675289 52.57932 \n\" clip-path=\"url(#pa76bc1bef0)\" style=\"fill: none; stroke: #1f77b4; stroke-width: 1.5; stroke-linecap: square\"/>\n   </g>\n   <g id=\"line2d_35\">\n    <path d=\"M 49.633125 13.605502 \nL 69.163125 14.732391 \n\" clip-path=\"url(#pa76bc1bef0)\" style=\"fill: none; stroke-dasharray: 5.55,2.4; stroke-dashoffset: 0; stroke: #ff7f0e; stroke-width: 1.5\"/>\n   </g>\n   <g id=\"line2d_36\">\n    <path d=\"M 49.633125 139.5 \nL 69.163125 137.889768 \n\" clip-path=\"url(#pa76bc1bef0)\" style=\"fill: none; stroke-dasharray: 9.6,2.4,1.5,2.4; stroke-dashoffset: 0; stroke: #2ca02c; stroke-width: 1.5\"/>\n   </g>\n   <g id=\"line2d_37\">\n    <path d=\"M 34.954394 13.5 \nL 44.698573 13.593577 \nL 54.442752 13.633764 \nL 64.186931 13.896391 \nL 73.93111 24.090383 \nL 83.675289 52.57932 \n\" clip-path=\"url(#pa76bc1bef0)\" style=\"fill: none; stroke: #1f77b4; stroke-width: 1.5; stroke-linecap: square\"/>\n   </g>\n   <g id=\"line2d_38\">\n    <path d=\"M 49.633125 13.605502 \nL 69.163125 14.732391 \nL 88.693125 71.912973 \n\" clip-path=\"url(#pa76bc1bef0)\" style=\"fill: none; stroke-dasharray: 5.55,2.4; stroke-dashoffset: 0; stroke: #ff7f0e; stroke-width: 1.5\"/>\n   </g>\n   <g id=\"line2d_39\">\n    <path d=\"M 49.633125 139.5 \nL 69.163125 137.889768 \n\" clip-path=\"url(#pa76bc1bef0)\" style=\"fill: none; stroke-dasharray: 9.6,2.4,1.5,2.4; stroke-dashoffset: 0; stroke: #2ca02c; stroke-width: 1.5\"/>\n   </g>\n   <g id=\"line2d_40\">\n    <path d=\"M 34.954394 13.5 \nL 44.698573 13.593577 \nL 54.442752 13.633764 \nL 64.186931 13.896391 \nL 73.93111 24.090383 \nL 83.675289 52.57932 \n\" clip-path=\"url(#pa76bc1bef0)\" style=\"fill: none; stroke: #1f77b4; stroke-width: 1.5; stroke-linecap: square\"/>\n   </g>\n   <g id=\"line2d_41\">\n    <path d=\"M 49.633125 13.605502 \nL 69.163125 14.732391 \nL 88.693125 71.912973 \n\" clip-path=\"url(#pa76bc1bef0)\" style=\"fill: none; stroke-dasharray: 5.55,2.4; stroke-dashoffset: 0; stroke: #ff7f0e; stroke-width: 1.5\"/>\n   </g>\n   <g id=\"line2d_42\">\n    <path d=\"M 49.633125 139.5 \nL 69.163125 137.889768 \nL 88.693125 117.680187 \n\" clip-path=\"url(#pa76bc1bef0)\" style=\"fill: none; stroke-dasharray: 9.6,2.4,1.5,2.4; stroke-dashoffset: 0; stroke: #2ca02c; stroke-width: 1.5\"/>\n   </g>\n   <g id=\"line2d_43\">\n    <path d=\"M 34.954394 13.5 \nL 44.698573 13.593577 \nL 54.442752 13.633764 \nL 64.186931 13.896391 \nL 73.93111 24.090383 \nL 83.675289 52.57932 \nL 93.419468 79.389382 \n\" clip-path=\"url(#pa76bc1bef0)\" style=\"fill: none; stroke: #1f77b4; stroke-width: 1.5; stroke-linecap: square\"/>\n   </g>\n   <g id=\"line2d_44\">\n    <path d=\"M 49.633125 13.605502 \nL 69.163125 14.732391 \nL 88.693125 71.912973 \n\" clip-path=\"url(#pa76bc1bef0)\" style=\"fill: none; stroke-dasharray: 5.55,2.4; stroke-dashoffset: 0; stroke: #ff7f0e; stroke-width: 1.5\"/>\n   </g>\n   <g id=\"line2d_45\">\n    <path d=\"M 49.633125 139.5 \nL 69.163125 137.889768 \nL 88.693125 117.680187 \n\" clip-path=\"url(#pa76bc1bef0)\" style=\"fill: none; stroke-dasharray: 9.6,2.4,1.5,2.4; stroke-dashoffset: 0; stroke: #2ca02c; stroke-width: 1.5\"/>\n   </g>\n   <g id=\"line2d_46\">\n    <path d=\"M 34.954394 13.5 \nL 44.698573 13.593577 \nL 54.442752 13.633764 \nL 64.186931 13.896391 \nL 73.93111 24.090383 \nL 83.675289 52.57932 \nL 93.419468 79.389382 \nL 103.163647 107.38063 \n\" clip-path=\"url(#pa76bc1bef0)\" style=\"fill: none; stroke: #1f77b4; stroke-width: 1.5; stroke-linecap: square\"/>\n   </g>\n   <g id=\"line2d_47\">\n    <path d=\"M 49.633125 13.605502 \nL 69.163125 14.732391 \nL 88.693125 71.912973 \n\" clip-path=\"url(#pa76bc1bef0)\" style=\"fill: none; stroke-dasharray: 5.55,2.4; stroke-dashoffset: 0; stroke: #ff7f0e; stroke-width: 1.5\"/>\n   </g>\n   <g id=\"line2d_48\">\n    <path d=\"M 49.633125 139.5 \nL 69.163125 137.889768 \nL 88.693125 117.680187 \n\" clip-path=\"url(#pa76bc1bef0)\" style=\"fill: none; stroke-dasharray: 9.6,2.4,1.5,2.4; stroke-dashoffset: 0; stroke: #2ca02c; stroke-width: 1.5\"/>\n   </g>\n   <g id=\"line2d_49\">\n    <path d=\"M 34.954394 13.5 \nL 44.698573 13.593577 \nL 54.442752 13.633764 \nL 64.186931 13.896391 \nL 73.93111 24.090383 \nL 83.675289 52.57932 \nL 93.419468 79.389382 \nL 103.163647 107.38063 \n\" clip-path=\"url(#pa76bc1bef0)\" style=\"fill: none; stroke: #1f77b4; stroke-width: 1.5; stroke-linecap: square\"/>\n   </g>\n   <g id=\"line2d_50\">\n    <path d=\"M 49.633125 13.605502 \nL 69.163125 14.732391 \nL 88.693125 71.912973 \nL 108.223125 107.832032 \n\" clip-path=\"url(#pa76bc1bef0)\" style=\"fill: none; stroke-dasharray: 5.55,2.4; stroke-dashoffset: 0; stroke: #ff7f0e; stroke-width: 1.5\"/>\n   </g>\n   <g id=\"line2d_51\">\n    <path d=\"M 49.633125 139.5 \nL 69.163125 137.889768 \nL 88.693125 117.680187 \n\" clip-path=\"url(#pa76bc1bef0)\" style=\"fill: none; stroke-dasharray: 9.6,2.4,1.5,2.4; stroke-dashoffset: 0; stroke: #2ca02c; stroke-width: 1.5\"/>\n   </g>\n   <g id=\"line2d_52\">\n    <path d=\"M 34.954394 13.5 \nL 44.698573 13.593577 \nL 54.442752 13.633764 \nL 64.186931 13.896391 \nL 73.93111 24.090383 \nL 83.675289 52.57932 \nL 93.419468 79.389382 \nL 103.163647 107.38063 \n\" clip-path=\"url(#pa76bc1bef0)\" style=\"fill: none; stroke: #1f77b4; stroke-width: 1.5; stroke-linecap: square\"/>\n   </g>\n   <g id=\"line2d_53\">\n    <path d=\"M 49.633125 13.605502 \nL 69.163125 14.732391 \nL 88.693125 71.912973 \nL 108.223125 107.832032 \n\" clip-path=\"url(#pa76bc1bef0)\" style=\"fill: none; stroke-dasharray: 5.55,2.4; stroke-dashoffset: 0; stroke: #ff7f0e; stroke-width: 1.5\"/>\n   </g>\n   <g id=\"line2d_54\">\n    <path d=\"M 49.633125 139.5 \nL 69.163125 137.889768 \nL 88.693125 117.680187 \nL 108.223125 106.945306 \n\" clip-path=\"url(#pa76bc1bef0)\" style=\"fill: none; stroke-dasharray: 9.6,2.4,1.5,2.4; stroke-dashoffset: 0; stroke: #2ca02c; stroke-width: 1.5\"/>\n   </g>\n   <g id=\"line2d_55\">\n    <path d=\"M 34.954394 13.5 \nL 44.698573 13.593577 \nL 54.442752 13.633764 \nL 64.186931 13.896391 \nL 73.93111 24.090383 \nL 83.675289 52.57932 \nL 93.419468 79.389382 \nL 103.163647 107.38063 \nL 112.907826 112.434687 \n\" clip-path=\"url(#pa76bc1bef0)\" style=\"fill: none; stroke: #1f77b4; stroke-width: 1.5; stroke-linecap: square\"/>\n   </g>\n   <g id=\"line2d_56\">\n    <path d=\"M 49.633125 13.605502 \nL 69.163125 14.732391 \nL 88.693125 71.912973 \nL 108.223125 107.832032 \n\" clip-path=\"url(#pa76bc1bef0)\" style=\"fill: none; stroke-dasharray: 5.55,2.4; stroke-dashoffset: 0; stroke: #ff7f0e; stroke-width: 1.5\"/>\n   </g>\n   <g id=\"line2d_57\">\n    <path d=\"M 49.633125 139.5 \nL 69.163125 137.889768 \nL 88.693125 117.680187 \nL 108.223125 106.945306 \n\" clip-path=\"url(#pa76bc1bef0)\" style=\"fill: none; stroke-dasharray: 9.6,2.4,1.5,2.4; stroke-dashoffset: 0; stroke: #2ca02c; stroke-width: 1.5\"/>\n   </g>\n   <g id=\"line2d_58\">\n    <path d=\"M 34.954394 13.5 \nL 44.698573 13.593577 \nL 54.442752 13.633764 \nL 64.186931 13.896391 \nL 73.93111 24.090383 \nL 83.675289 52.57932 \nL 93.419468 79.389382 \nL 103.163647 107.38063 \nL 112.907826 112.434687 \nL 122.652006 114.885097 \n\" clip-path=\"url(#pa76bc1bef0)\" style=\"fill: none; stroke: #1f77b4; stroke-width: 1.5; stroke-linecap: square\"/>\n   </g>\n   <g id=\"line2d_59\">\n    <path d=\"M 49.633125 13.605502 \nL 69.163125 14.732391 \nL 88.693125 71.912973 \nL 108.223125 107.832032 \n\" clip-path=\"url(#pa76bc1bef0)\" style=\"fill: none; stroke-dasharray: 5.55,2.4; stroke-dashoffset: 0; stroke: #ff7f0e; stroke-width: 1.5\"/>\n   </g>\n   <g id=\"line2d_60\">\n    <path d=\"M 49.633125 139.5 \nL 69.163125 137.889768 \nL 88.693125 117.680187 \nL 108.223125 106.945306 \n\" clip-path=\"url(#pa76bc1bef0)\" style=\"fill: none; stroke-dasharray: 9.6,2.4,1.5,2.4; stroke-dashoffset: 0; stroke: #2ca02c; stroke-width: 1.5\"/>\n   </g>\n   <g id=\"line2d_61\">\n    <path d=\"M 34.954394 13.5 \nL 44.698573 13.593577 \nL 54.442752 13.633764 \nL 64.186931 13.896391 \nL 73.93111 24.090383 \nL 83.675289 52.57932 \nL 93.419468 79.389382 \nL 103.163647 107.38063 \nL 112.907826 112.434687 \nL 122.652006 114.885097 \n\" clip-path=\"url(#pa76bc1bef0)\" style=\"fill: none; stroke: #1f77b4; stroke-width: 1.5; stroke-linecap: square\"/>\n   </g>\n   <g id=\"line2d_62\">\n    <path d=\"M 49.633125 13.605502 \nL 69.163125 14.732391 \nL 88.693125 71.912973 \nL 108.223125 107.832032 \nL 127.753125 117.754329 \n\" clip-path=\"url(#pa76bc1bef0)\" style=\"fill: none; stroke-dasharray: 5.55,2.4; stroke-dashoffset: 0; stroke: #ff7f0e; stroke-width: 1.5\"/>\n   </g>\n   <g id=\"line2d_63\">\n    <path d=\"M 49.633125 139.5 \nL 69.163125 137.889768 \nL 88.693125 117.680187 \nL 108.223125 106.945306 \n\" clip-path=\"url(#pa76bc1bef0)\" style=\"fill: none; stroke-dasharray: 9.6,2.4,1.5,2.4; stroke-dashoffset: 0; stroke: #2ca02c; stroke-width: 1.5\"/>\n   </g>\n   <g id=\"line2d_64\">\n    <path d=\"M 34.954394 13.5 \nL 44.698573 13.593577 \nL 54.442752 13.633764 \nL 64.186931 13.896391 \nL 73.93111 24.090383 \nL 83.675289 52.57932 \nL 93.419468 79.389382 \nL 103.163647 107.38063 \nL 112.907826 112.434687 \nL 122.652006 114.885097 \n\" clip-path=\"url(#pa76bc1bef0)\" style=\"fill: none; stroke: #1f77b4; stroke-width: 1.5; stroke-linecap: square\"/>\n   </g>\n   <g id=\"line2d_65\">\n    <path d=\"M 49.633125 13.605502 \nL 69.163125 14.732391 \nL 88.693125 71.912973 \nL 108.223125 107.832032 \nL 127.753125 117.754329 \n\" clip-path=\"url(#pa76bc1bef0)\" style=\"fill: none; stroke-dasharray: 5.55,2.4; stroke-dashoffset: 0; stroke: #ff7f0e; stroke-width: 1.5\"/>\n   </g>\n   <g id=\"line2d_66\">\n    <path d=\"M 49.633125 139.5 \nL 69.163125 137.889768 \nL 88.693125 117.680187 \nL 108.223125 106.945306 \nL 127.753125 103.2056 \n\" clip-path=\"url(#pa76bc1bef0)\" style=\"fill: none; stroke-dasharray: 9.6,2.4,1.5,2.4; stroke-dashoffset: 0; stroke: #2ca02c; stroke-width: 1.5\"/>\n   </g>\n   <g id=\"line2d_67\">\n    <path d=\"M 34.954394 13.5 \nL 44.698573 13.593577 \nL 54.442752 13.633764 \nL 64.186931 13.896391 \nL 73.93111 24.090383 \nL 83.675289 52.57932 \nL 93.419468 79.389382 \nL 103.163647 107.38063 \nL 112.907826 112.434687 \nL 122.652006 114.885097 \nL 132.396185 118.294376 \n\" clip-path=\"url(#pa76bc1bef0)\" style=\"fill: none; stroke: #1f77b4; stroke-width: 1.5; stroke-linecap: square\"/>\n   </g>\n   <g id=\"line2d_68\">\n    <path d=\"M 49.633125 13.605502 \nL 69.163125 14.732391 \nL 88.693125 71.912973 \nL 108.223125 107.832032 \nL 127.753125 117.754329 \n\" clip-path=\"url(#pa76bc1bef0)\" style=\"fill: none; stroke-dasharray: 5.55,2.4; stroke-dashoffset: 0; stroke: #ff7f0e; stroke-width: 1.5\"/>\n   </g>\n   <g id=\"line2d_69\">\n    <path d=\"M 49.633125 139.5 \nL 69.163125 137.889768 \nL 88.693125 117.680187 \nL 108.223125 106.945306 \nL 127.753125 103.2056 \n\" clip-path=\"url(#pa76bc1bef0)\" style=\"fill: none; stroke-dasharray: 9.6,2.4,1.5,2.4; stroke-dashoffset: 0; stroke: #2ca02c; stroke-width: 1.5\"/>\n   </g>\n   <g id=\"line2d_70\">\n    <path d=\"M 34.954394 13.5 \nL 44.698573 13.593577 \nL 54.442752 13.633764 \nL 64.186931 13.896391 \nL 73.93111 24.090383 \nL 83.675289 52.57932 \nL 93.419468 79.389382 \nL 103.163647 107.38063 \nL 112.907826 112.434687 \nL 122.652006 114.885097 \nL 132.396185 118.294376 \nL 142.140364 120.338673 \n\" clip-path=\"url(#pa76bc1bef0)\" style=\"fill: none; stroke: #1f77b4; stroke-width: 1.5; stroke-linecap: square\"/>\n   </g>\n   <g id=\"line2d_71\">\n    <path d=\"M 49.633125 13.605502 \nL 69.163125 14.732391 \nL 88.693125 71.912973 \nL 108.223125 107.832032 \nL 127.753125 117.754329 \n\" clip-path=\"url(#pa76bc1bef0)\" style=\"fill: none; stroke-dasharray: 5.55,2.4; stroke-dashoffset: 0; stroke: #ff7f0e; stroke-width: 1.5\"/>\n   </g>\n   <g id=\"line2d_72\">\n    <path d=\"M 49.633125 139.5 \nL 69.163125 137.889768 \nL 88.693125 117.680187 \nL 108.223125 106.945306 \nL 127.753125 103.2056 \n\" clip-path=\"url(#pa76bc1bef0)\" style=\"fill: none; stroke-dasharray: 9.6,2.4,1.5,2.4; stroke-dashoffset: 0; stroke: #2ca02c; stroke-width: 1.5\"/>\n   </g>\n   <g id=\"line2d_73\">\n    <path d=\"M 34.954394 13.5 \nL 44.698573 13.593577 \nL 54.442752 13.633764 \nL 64.186931 13.896391 \nL 73.93111 24.090383 \nL 83.675289 52.57932 \nL 93.419468 79.389382 \nL 103.163647 107.38063 \nL 112.907826 112.434687 \nL 122.652006 114.885097 \nL 132.396185 118.294376 \nL 142.140364 120.338673 \n\" clip-path=\"url(#pa76bc1bef0)\" style=\"fill: none; stroke: #1f77b4; stroke-width: 1.5; stroke-linecap: square\"/>\n   </g>\n   <g id=\"line2d_74\">\n    <path d=\"M 49.633125 13.605502 \nL 69.163125 14.732391 \nL 88.693125 71.912973 \nL 108.223125 107.832032 \nL 127.753125 117.754329 \nL 147.283125 118.105536 \n\" clip-path=\"url(#pa76bc1bef0)\" style=\"fill: none; stroke-dasharray: 5.55,2.4; stroke-dashoffset: 0; stroke: #ff7f0e; stroke-width: 1.5\"/>\n   </g>\n   <g id=\"line2d_75\">\n    <path d=\"M 49.633125 139.5 \nL 69.163125 137.889768 \nL 88.693125 117.680187 \nL 108.223125 106.945306 \nL 127.753125 103.2056 \n\" clip-path=\"url(#pa76bc1bef0)\" style=\"fill: none; stroke-dasharray: 9.6,2.4,1.5,2.4; stroke-dashoffset: 0; stroke: #2ca02c; stroke-width: 1.5\"/>\n   </g>\n   <g id=\"line2d_76\">\n    <path d=\"M 34.954394 13.5 \nL 44.698573 13.593577 \nL 54.442752 13.633764 \nL 64.186931 13.896391 \nL 73.93111 24.090383 \nL 83.675289 52.57932 \nL 93.419468 79.389382 \nL 103.163647 107.38063 \nL 112.907826 112.434687 \nL 122.652006 114.885097 \nL 132.396185 118.294376 \nL 142.140364 120.338673 \n\" clip-path=\"url(#pa76bc1bef0)\" style=\"fill: none; stroke: #1f77b4; stroke-width: 1.5; stroke-linecap: square\"/>\n   </g>\n   <g id=\"line2d_77\">\n    <path d=\"M 49.633125 13.605502 \nL 69.163125 14.732391 \nL 88.693125 71.912973 \nL 108.223125 107.832032 \nL 127.753125 117.754329 \nL 147.283125 118.105536 \n\" clip-path=\"url(#pa76bc1bef0)\" style=\"fill: none; stroke-dasharray: 5.55,2.4; stroke-dashoffset: 0; stroke: #ff7f0e; stroke-width: 1.5\"/>\n   </g>\n   <g id=\"line2d_78\">\n    <path d=\"M 49.633125 139.5 \nL 69.163125 137.889768 \nL 88.693125 117.680187 \nL 108.223125 106.945306 \nL 127.753125 103.2056 \nL 147.283125 101.595368 \n\" clip-path=\"url(#pa76bc1bef0)\" style=\"fill: none; stroke-dasharray: 9.6,2.4,1.5,2.4; stroke-dashoffset: 0; stroke: #2ca02c; stroke-width: 1.5\"/>\n   </g>\n   <g id=\"line2d_79\">\n    <path d=\"M 34.954394 13.5 \nL 44.698573 13.593577 \nL 54.442752 13.633764 \nL 64.186931 13.896391 \nL 73.93111 24.090383 \nL 83.675289 52.57932 \nL 93.419468 79.389382 \nL 103.163647 107.38063 \nL 112.907826 112.434687 \nL 122.652006 114.885097 \nL 132.396185 118.294376 \nL 142.140364 120.338673 \nL 151.884543 122.084464 \n\" clip-path=\"url(#pa76bc1bef0)\" style=\"fill: none; stroke: #1f77b4; stroke-width: 1.5; stroke-linecap: square\"/>\n   </g>\n   <g id=\"line2d_80\">\n    <path d=\"M 49.633125 13.605502 \nL 69.163125 14.732391 \nL 88.693125 71.912973 \nL 108.223125 107.832032 \nL 127.753125 117.754329 \nL 147.283125 118.105536 \n\" clip-path=\"url(#pa76bc1bef0)\" style=\"fill: none; stroke-dasharray: 5.55,2.4; stroke-dashoffset: 0; stroke: #ff7f0e; stroke-width: 1.5\"/>\n   </g>\n   <g id=\"line2d_81\">\n    <path d=\"M 49.633125 139.5 \nL 69.163125 137.889768 \nL 88.693125 117.680187 \nL 108.223125 106.945306 \nL 127.753125 103.2056 \nL 147.283125 101.595368 \n\" clip-path=\"url(#pa76bc1bef0)\" style=\"fill: none; stroke-dasharray: 9.6,2.4,1.5,2.4; stroke-dashoffset: 0; stroke: #2ca02c; stroke-width: 1.5\"/>\n   </g>\n   <g id=\"line2d_82\">\n    <path d=\"M 34.954394 13.5 \nL 44.698573 13.593577 \nL 54.442752 13.633764 \nL 64.186931 13.896391 \nL 73.93111 24.090383 \nL 83.675289 52.57932 \nL 93.419468 79.389382 \nL 103.163647 107.38063 \nL 112.907826 112.434687 \nL 122.652006 114.885097 \nL 132.396185 118.294376 \nL 142.140364 120.338673 \nL 151.884543 122.084464 \nL 161.628722 123.755925 \n\" clip-path=\"url(#pa76bc1bef0)\" style=\"fill: none; stroke: #1f77b4; stroke-width: 1.5; stroke-linecap: square\"/>\n   </g>\n   <g id=\"line2d_83\">\n    <path d=\"M 49.633125 13.605502 \nL 69.163125 14.732391 \nL 88.693125 71.912973 \nL 108.223125 107.832032 \nL 127.753125 117.754329 \nL 147.283125 118.105536 \n\" clip-path=\"url(#pa76bc1bef0)\" style=\"fill: none; stroke-dasharray: 5.55,2.4; stroke-dashoffset: 0; stroke: #ff7f0e; stroke-width: 1.5\"/>\n   </g>\n   <g id=\"line2d_84\">\n    <path d=\"M 49.633125 139.5 \nL 69.163125 137.889768 \nL 88.693125 117.680187 \nL 108.223125 106.945306 \nL 127.753125 103.2056 \nL 147.283125 101.595368 \n\" clip-path=\"url(#pa76bc1bef0)\" style=\"fill: none; stroke-dasharray: 9.6,2.4,1.5,2.4; stroke-dashoffset: 0; stroke: #2ca02c; stroke-width: 1.5\"/>\n   </g>\n   <g id=\"line2d_85\">\n    <path d=\"M 34.954394 13.5 \nL 44.698573 13.593577 \nL 54.442752 13.633764 \nL 64.186931 13.896391 \nL 73.93111 24.090383 \nL 83.675289 52.57932 \nL 93.419468 79.389382 \nL 103.163647 107.38063 \nL 112.907826 112.434687 \nL 122.652006 114.885097 \nL 132.396185 118.294376 \nL 142.140364 120.338673 \nL 151.884543 122.084464 \nL 161.628722 123.755925 \n\" clip-path=\"url(#pa76bc1bef0)\" style=\"fill: none; stroke: #1f77b4; stroke-width: 1.5; stroke-linecap: square\"/>\n   </g>\n   <g id=\"line2d_86\">\n    <path d=\"M 49.633125 13.605502 \nL 69.163125 14.732391 \nL 88.693125 71.912973 \nL 108.223125 107.832032 \nL 127.753125 117.754329 \nL 147.283125 118.105536 \nL 166.813125 122.593196 \n\" clip-path=\"url(#pa76bc1bef0)\" style=\"fill: none; stroke-dasharray: 5.55,2.4; stroke-dashoffset: 0; stroke: #ff7f0e; stroke-width: 1.5\"/>\n   </g>\n   <g id=\"line2d_87\">\n    <path d=\"M 49.633125 139.5 \nL 69.163125 137.889768 \nL 88.693125 117.680187 \nL 108.223125 106.945306 \nL 127.753125 103.2056 \nL 147.283125 101.595368 \n\" clip-path=\"url(#pa76bc1bef0)\" style=\"fill: none; stroke-dasharray: 9.6,2.4,1.5,2.4; stroke-dashoffset: 0; stroke: #2ca02c; stroke-width: 1.5\"/>\n   </g>\n   <g id=\"line2d_88\">\n    <path d=\"M 34.954394 13.5 \nL 44.698573 13.593577 \nL 54.442752 13.633764 \nL 64.186931 13.896391 \nL 73.93111 24.090383 \nL 83.675289 52.57932 \nL 93.419468 79.389382 \nL 103.163647 107.38063 \nL 112.907826 112.434687 \nL 122.652006 114.885097 \nL 132.396185 118.294376 \nL 142.140364 120.338673 \nL 151.884543 122.084464 \nL 161.628722 123.755925 \n\" clip-path=\"url(#pa76bc1bef0)\" style=\"fill: none; stroke: #1f77b4; stroke-width: 1.5; stroke-linecap: square\"/>\n   </g>\n   <g id=\"line2d_89\">\n    <path d=\"M 49.633125 13.605502 \nL 69.163125 14.732391 \nL 88.693125 71.912973 \nL 108.223125 107.832032 \nL 127.753125 117.754329 \nL 147.283125 118.105536 \nL 166.813125 122.593196 \n\" clip-path=\"url(#pa76bc1bef0)\" style=\"fill: none; stroke-dasharray: 5.55,2.4; stroke-dashoffset: 0; stroke: #ff7f0e; stroke-width: 1.5\"/>\n   </g>\n   <g id=\"line2d_90\">\n    <path d=\"M 49.633125 139.5 \nL 69.163125 137.889768 \nL 88.693125 117.680187 \nL 108.223125 106.945306 \nL 127.753125 103.2056 \nL 147.283125 101.595368 \nL 166.813125 100.136825 \n\" clip-path=\"url(#pa76bc1bef0)\" style=\"fill: none; stroke-dasharray: 9.6,2.4,1.5,2.4; stroke-dashoffset: 0; stroke: #2ca02c; stroke-width: 1.5\"/>\n   </g>\n   <g id=\"line2d_91\">\n    <path d=\"M 34.954394 13.5 \nL 44.698573 13.593577 \nL 54.442752 13.633764 \nL 64.186931 13.896391 \nL 73.93111 24.090383 \nL 83.675289 52.57932 \nL 93.419468 79.389382 \nL 103.163647 107.38063 \nL 112.907826 112.434687 \nL 122.652006 114.885097 \nL 132.396185 118.294376 \nL 142.140364 120.338673 \nL 151.884543 122.084464 \nL 161.628722 123.755925 \nL 171.372901 124.337615 \n\" clip-path=\"url(#pa76bc1bef0)\" style=\"fill: none; stroke: #1f77b4; stroke-width: 1.5; stroke-linecap: square\"/>\n   </g>\n   <g id=\"line2d_92\">\n    <path d=\"M 49.633125 13.605502 \nL 69.163125 14.732391 \nL 88.693125 71.912973 \nL 108.223125 107.832032 \nL 127.753125 117.754329 \nL 147.283125 118.105536 \nL 166.813125 122.593196 \n\" clip-path=\"url(#pa76bc1bef0)\" style=\"fill: none; stroke-dasharray: 5.55,2.4; stroke-dashoffset: 0; stroke: #ff7f0e; stroke-width: 1.5\"/>\n   </g>\n   <g id=\"line2d_93\">\n    <path d=\"M 49.633125 139.5 \nL 69.163125 137.889768 \nL 88.693125 117.680187 \nL 108.223125 106.945306 \nL 127.753125 103.2056 \nL 147.283125 101.595368 \nL 166.813125 100.136825 \n\" clip-path=\"url(#pa76bc1bef0)\" style=\"fill: none; stroke-dasharray: 9.6,2.4,1.5,2.4; stroke-dashoffset: 0; stroke: #2ca02c; stroke-width: 1.5\"/>\n   </g>\n   <g id=\"line2d_94\">\n    <path d=\"M 34.954394 13.5 \nL 44.698573 13.593577 \nL 54.442752 13.633764 \nL 64.186931 13.896391 \nL 73.93111 24.090383 \nL 83.675289 52.57932 \nL 93.419468 79.389382 \nL 103.163647 107.38063 \nL 112.907826 112.434687 \nL 122.652006 114.885097 \nL 132.396185 118.294376 \nL 142.140364 120.338673 \nL 151.884543 122.084464 \nL 161.628722 123.755925 \nL 171.372901 124.337615 \nL 181.11708 125.858955 \n\" clip-path=\"url(#pa76bc1bef0)\" style=\"fill: none; stroke: #1f77b4; stroke-width: 1.5; stroke-linecap: square\"/>\n   </g>\n   <g id=\"line2d_95\">\n    <path d=\"M 49.633125 13.605502 \nL 69.163125 14.732391 \nL 88.693125 71.912973 \nL 108.223125 107.832032 \nL 127.753125 117.754329 \nL 147.283125 118.105536 \nL 166.813125 122.593196 \n\" clip-path=\"url(#pa76bc1bef0)\" style=\"fill: none; stroke-dasharray: 5.55,2.4; stroke-dashoffset: 0; stroke: #ff7f0e; stroke-width: 1.5\"/>\n   </g>\n   <g id=\"line2d_96\">\n    <path d=\"M 49.633125 139.5 \nL 69.163125 137.889768 \nL 88.693125 117.680187 \nL 108.223125 106.945306 \nL 127.753125 103.2056 \nL 147.283125 101.595368 \nL 166.813125 100.136825 \n\" clip-path=\"url(#pa76bc1bef0)\" style=\"fill: none; stroke-dasharray: 9.6,2.4,1.5,2.4; stroke-dashoffset: 0; stroke: #2ca02c; stroke-width: 1.5\"/>\n   </g>\n   <g id=\"line2d_97\">\n    <path d=\"M 34.954394 13.5 \nL 44.698573 13.593577 \nL 54.442752 13.633764 \nL 64.186931 13.896391 \nL 73.93111 24.090383 \nL 83.675289 52.57932 \nL 93.419468 79.389382 \nL 103.163647 107.38063 \nL 112.907826 112.434687 \nL 122.652006 114.885097 \nL 132.396185 118.294376 \nL 142.140364 120.338673 \nL 151.884543 122.084464 \nL 161.628722 123.755925 \nL 171.372901 124.337615 \nL 181.11708 125.858955 \n\" clip-path=\"url(#pa76bc1bef0)\" style=\"fill: none; stroke: #1f77b4; stroke-width: 1.5; stroke-linecap: square\"/>\n   </g>\n   <g id=\"line2d_98\">\n    <path d=\"M 49.633125 13.605502 \nL 69.163125 14.732391 \nL 88.693125 71.912973 \nL 108.223125 107.832032 \nL 127.753125 117.754329 \nL 147.283125 118.105536 \nL 166.813125 122.593196 \nL 186.343125 120.016144 \n\" clip-path=\"url(#pa76bc1bef0)\" style=\"fill: none; stroke-dasharray: 5.55,2.4; stroke-dashoffset: 0; stroke: #ff7f0e; stroke-width: 1.5\"/>\n   </g>\n   <g id=\"line2d_99\">\n    <path d=\"M 49.633125 139.5 \nL 69.163125 137.889768 \nL 88.693125 117.680187 \nL 108.223125 106.945306 \nL 127.753125 103.2056 \nL 147.283125 101.595368 \nL 166.813125 100.136825 \n\" clip-path=\"url(#pa76bc1bef0)\" style=\"fill: none; stroke-dasharray: 9.6,2.4,1.5,2.4; stroke-dashoffset: 0; stroke: #2ca02c; stroke-width: 1.5\"/>\n   </g>\n   <g id=\"line2d_100\">\n    <path d=\"M 34.954394 13.5 \nL 44.698573 13.593577 \nL 54.442752 13.633764 \nL 64.186931 13.896391 \nL 73.93111 24.090383 \nL 83.675289 52.57932 \nL 93.419468 79.389382 \nL 103.163647 107.38063 \nL 112.907826 112.434687 \nL 122.652006 114.885097 \nL 132.396185 118.294376 \nL 142.140364 120.338673 \nL 151.884543 122.084464 \nL 161.628722 123.755925 \nL 171.372901 124.337615 \nL 181.11708 125.858955 \n\" clip-path=\"url(#pa76bc1bef0)\" style=\"fill: none; stroke: #1f77b4; stroke-width: 1.5; stroke-linecap: square\"/>\n   </g>\n   <g id=\"line2d_101\">\n    <path d=\"M 49.633125 13.605502 \nL 69.163125 14.732391 \nL 88.693125 71.912973 \nL 108.223125 107.832032 \nL 127.753125 117.754329 \nL 147.283125 118.105536 \nL 166.813125 122.593196 \nL 186.343125 120.016144 \n\" clip-path=\"url(#pa76bc1bef0)\" style=\"fill: none; stroke-dasharray: 5.55,2.4; stroke-dashoffset: 0; stroke: #ff7f0e; stroke-width: 1.5\"/>\n   </g>\n   <g id=\"line2d_102\">\n    <path d=\"M 49.633125 139.5 \nL 69.163125 137.889768 \nL 88.693125 117.680187 \nL 108.223125 106.945306 \nL 127.753125 103.2056 \nL 147.283125 101.595368 \nL 166.813125 100.136825 \nL 186.343125 100.836926 \n\" clip-path=\"url(#pa76bc1bef0)\" style=\"fill: none; stroke-dasharray: 9.6,2.4,1.5,2.4; stroke-dashoffset: 0; stroke: #2ca02c; stroke-width: 1.5\"/>\n   </g>\n   <g id=\"line2d_103\">\n    <path d=\"M 34.954394 13.5 \nL 44.698573 13.593577 \nL 54.442752 13.633764 \nL 64.186931 13.896391 \nL 73.93111 24.090383 \nL 83.675289 52.57932 \nL 93.419468 79.389382 \nL 103.163647 107.38063 \nL 112.907826 112.434687 \nL 122.652006 114.885097 \nL 132.396185 118.294376 \nL 142.140364 120.338673 \nL 151.884543 122.084464 \nL 161.628722 123.755925 \nL 171.372901 124.337615 \nL 181.11708 125.858955 \nL 190.861259 96.396418 \n\" clip-path=\"url(#pa76bc1bef0)\" style=\"fill: none; stroke: #1f77b4; stroke-width: 1.5; stroke-linecap: square\"/>\n   </g>\n   <g id=\"line2d_104\">\n    <path d=\"M 49.633125 13.605502 \nL 69.163125 14.732391 \nL 88.693125 71.912973 \nL 108.223125 107.832032 \nL 127.753125 117.754329 \nL 147.283125 118.105536 \nL 166.813125 122.593196 \nL 186.343125 120.016144 \n\" clip-path=\"url(#pa76bc1bef0)\" style=\"fill: none; stroke-dasharray: 5.55,2.4; stroke-dashoffset: 0; stroke: #ff7f0e; stroke-width: 1.5\"/>\n   </g>\n   <g id=\"line2d_105\">\n    <path d=\"M 49.633125 139.5 \nL 69.163125 137.889768 \nL 88.693125 117.680187 \nL 108.223125 106.945306 \nL 127.753125 103.2056 \nL 147.283125 101.595368 \nL 166.813125 100.136825 \nL 186.343125 100.836926 \n\" clip-path=\"url(#pa76bc1bef0)\" style=\"fill: none; stroke-dasharray: 9.6,2.4,1.5,2.4; stroke-dashoffset: 0; stroke: #2ca02c; stroke-width: 1.5\"/>\n   </g>\n   <g id=\"line2d_106\">\n    <path d=\"M 34.954394 13.5 \nL 44.698573 13.593577 \nL 54.442752 13.633764 \nL 64.186931 13.896391 \nL 73.93111 24.090383 \nL 83.675289 52.57932 \nL 93.419468 79.389382 \nL 103.163647 107.38063 \nL 112.907826 112.434687 \nL 122.652006 114.885097 \nL 132.396185 118.294376 \nL 142.140364 120.338673 \nL 151.884543 122.084464 \nL 161.628722 123.755925 \nL 171.372901 124.337615 \nL 181.11708 125.858955 \nL 190.861259 96.396418 \nL 200.605438 109.913073 \n\" clip-path=\"url(#pa76bc1bef0)\" style=\"fill: none; stroke: #1f77b4; stroke-width: 1.5; stroke-linecap: square\"/>\n   </g>\n   <g id=\"line2d_107\">\n    <path d=\"M 49.633125 13.605502 \nL 69.163125 14.732391 \nL 88.693125 71.912973 \nL 108.223125 107.832032 \nL 127.753125 117.754329 \nL 147.283125 118.105536 \nL 166.813125 122.593196 \nL 186.343125 120.016144 \n\" clip-path=\"url(#pa76bc1bef0)\" style=\"fill: none; stroke-dasharray: 5.55,2.4; stroke-dashoffset: 0; stroke: #ff7f0e; stroke-width: 1.5\"/>\n   </g>\n   <g id=\"line2d_108\">\n    <path d=\"M 49.633125 139.5 \nL 69.163125 137.889768 \nL 88.693125 117.680187 \nL 108.223125 106.945306 \nL 127.753125 103.2056 \nL 147.283125 101.595368 \nL 166.813125 100.136825 \nL 186.343125 100.836926 \n\" clip-path=\"url(#pa76bc1bef0)\" style=\"fill: none; stroke-dasharray: 9.6,2.4,1.5,2.4; stroke-dashoffset: 0; stroke: #2ca02c; stroke-width: 1.5\"/>\n   </g>\n   <g id=\"line2d_109\">\n    <path d=\"M 34.954394 13.5 \nL 44.698573 13.593577 \nL 54.442752 13.633764 \nL 64.186931 13.896391 \nL 73.93111 24.090383 \nL 83.675289 52.57932 \nL 93.419468 79.389382 \nL 103.163647 107.38063 \nL 112.907826 112.434687 \nL 122.652006 114.885097 \nL 132.396185 118.294376 \nL 142.140364 120.338673 \nL 151.884543 122.084464 \nL 161.628722 123.755925 \nL 171.372901 124.337615 \nL 181.11708 125.858955 \nL 190.861259 96.396418 \nL 200.605438 109.913073 \n\" clip-path=\"url(#pa76bc1bef0)\" style=\"fill: none; stroke: #1f77b4; stroke-width: 1.5; stroke-linecap: square\"/>\n   </g>\n   <g id=\"line2d_110\">\n    <path d=\"M 49.633125 13.605502 \nL 69.163125 14.732391 \nL 88.693125 71.912973 \nL 108.223125 107.832032 \nL 127.753125 117.754329 \nL 147.283125 118.105536 \nL 166.813125 122.593196 \nL 186.343125 120.016144 \nL 205.873125 117.978608 \n\" clip-path=\"url(#pa76bc1bef0)\" style=\"fill: none; stroke-dasharray: 5.55,2.4; stroke-dashoffset: 0; stroke: #ff7f0e; stroke-width: 1.5\"/>\n   </g>\n   <g id=\"line2d_111\">\n    <path d=\"M 49.633125 139.5 \nL 69.163125 137.889768 \nL 88.693125 117.680187 \nL 108.223125 106.945306 \nL 127.753125 103.2056 \nL 147.283125 101.595368 \nL 166.813125 100.136825 \nL 186.343125 100.836926 \n\" clip-path=\"url(#pa76bc1bef0)\" style=\"fill: none; stroke-dasharray: 9.6,2.4,1.5,2.4; stroke-dashoffset: 0; stroke: #2ca02c; stroke-width: 1.5\"/>\n   </g>\n   <g id=\"line2d_112\">\n    <path d=\"M 34.954394 13.5 \nL 44.698573 13.593577 \nL 54.442752 13.633764 \nL 64.186931 13.896391 \nL 73.93111 24.090383 \nL 83.675289 52.57932 \nL 93.419468 79.389382 \nL 103.163647 107.38063 \nL 112.907826 112.434687 \nL 122.652006 114.885097 \nL 132.396185 118.294376 \nL 142.140364 120.338673 \nL 151.884543 122.084464 \nL 161.628722 123.755925 \nL 171.372901 124.337615 \nL 181.11708 125.858955 \nL 190.861259 96.396418 \nL 200.605438 109.913073 \n\" clip-path=\"url(#pa76bc1bef0)\" style=\"fill: none; stroke: #1f77b4; stroke-width: 1.5; stroke-linecap: square\"/>\n   </g>\n   <g id=\"line2d_113\">\n    <path d=\"M 49.633125 13.605502 \nL 69.163125 14.732391 \nL 88.693125 71.912973 \nL 108.223125 107.832032 \nL 127.753125 117.754329 \nL 147.283125 118.105536 \nL 166.813125 122.593196 \nL 186.343125 120.016144 \nL 205.873125 117.978608 \n\" clip-path=\"url(#pa76bc1bef0)\" style=\"fill: none; stroke-dasharray: 5.55,2.4; stroke-dashoffset: 0; stroke: #ff7f0e; stroke-width: 1.5\"/>\n   </g>\n   <g id=\"line2d_114\">\n    <path d=\"M 49.633125 139.5 \nL 69.163125 137.889768 \nL 88.693125 117.680187 \nL 108.223125 106.945306 \nL 127.753125 103.2056 \nL 147.283125 101.595368 \nL 166.813125 100.136825 \nL 186.343125 100.836926 \nL 205.873125 103.812355 \n\" clip-path=\"url(#pa76bc1bef0)\" style=\"fill: none; stroke-dasharray: 9.6,2.4,1.5,2.4; stroke-dashoffset: 0; stroke: #2ca02c; stroke-width: 1.5\"/>\n   </g>\n   <g id=\"line2d_115\">\n    <path d=\"M 34.954394 13.5 \nL 44.698573 13.593577 \nL 54.442752 13.633764 \nL 64.186931 13.896391 \nL 73.93111 24.090383 \nL 83.675289 52.57932 \nL 93.419468 79.389382 \nL 103.163647 107.38063 \nL 112.907826 112.434687 \nL 122.652006 114.885097 \nL 132.396185 118.294376 \nL 142.140364 120.338673 \nL 151.884543 122.084464 \nL 161.628722 123.755925 \nL 171.372901 124.337615 \nL 181.11708 125.858955 \nL 190.861259 96.396418 \nL 200.605438 109.913073 \nL 210.349618 122.930867 \n\" clip-path=\"url(#pa76bc1bef0)\" style=\"fill: none; stroke: #1f77b4; stroke-width: 1.5; stroke-linecap: square\"/>\n   </g>\n   <g id=\"line2d_116\">\n    <path d=\"M 49.633125 13.605502 \nL 69.163125 14.732391 \nL 88.693125 71.912973 \nL 108.223125 107.832032 \nL 127.753125 117.754329 \nL 147.283125 118.105536 \nL 166.813125 122.593196 \nL 186.343125 120.016144 \nL 205.873125 117.978608 \n\" clip-path=\"url(#pa76bc1bef0)\" style=\"fill: none; stroke-dasharray: 5.55,2.4; stroke-dashoffset: 0; stroke: #ff7f0e; stroke-width: 1.5\"/>\n   </g>\n   <g id=\"line2d_117\">\n    <path d=\"M 49.633125 139.5 \nL 69.163125 137.889768 \nL 88.693125 117.680187 \nL 108.223125 106.945306 \nL 127.753125 103.2056 \nL 147.283125 101.595368 \nL 166.813125 100.136825 \nL 186.343125 100.836926 \nL 205.873125 103.812355 \n\" clip-path=\"url(#pa76bc1bef0)\" style=\"fill: none; stroke-dasharray: 9.6,2.4,1.5,2.4; stroke-dashoffset: 0; stroke: #2ca02c; stroke-width: 1.5\"/>\n   </g>\n   <g id=\"line2d_118\">\n    <path d=\"M 34.954394 13.5 \nL 44.698573 13.593577 \nL 54.442752 13.633764 \nL 64.186931 13.896391 \nL 73.93111 24.090383 \nL 83.675289 52.57932 \nL 93.419468 79.389382 \nL 103.163647 107.38063 \nL 112.907826 112.434687 \nL 122.652006 114.885097 \nL 132.396185 118.294376 \nL 142.140364 120.338673 \nL 151.884543 122.084464 \nL 161.628722 123.755925 \nL 171.372901 124.337615 \nL 181.11708 125.858955 \nL 190.861259 96.396418 \nL 200.605438 109.913073 \nL 210.349618 122.930867 \nL 220.093797 125.136598 \n\" clip-path=\"url(#pa76bc1bef0)\" style=\"fill: none; stroke: #1f77b4; stroke-width: 1.5; stroke-linecap: square\"/>\n   </g>\n   <g id=\"line2d_119\">\n    <path d=\"M 49.633125 13.605502 \nL 69.163125 14.732391 \nL 88.693125 71.912973 \nL 108.223125 107.832032 \nL 127.753125 117.754329 \nL 147.283125 118.105536 \nL 166.813125 122.593196 \nL 186.343125 120.016144 \nL 205.873125 117.978608 \n\" clip-path=\"url(#pa76bc1bef0)\" style=\"fill: none; stroke-dasharray: 5.55,2.4; stroke-dashoffset: 0; stroke: #ff7f0e; stroke-width: 1.5\"/>\n   </g>\n   <g id=\"line2d_120\">\n    <path d=\"M 49.633125 139.5 \nL 69.163125 137.889768 \nL 88.693125 117.680187 \nL 108.223125 106.945306 \nL 127.753125 103.2056 \nL 147.283125 101.595368 \nL 166.813125 100.136825 \nL 186.343125 100.836926 \nL 205.873125 103.812355 \n\" clip-path=\"url(#pa76bc1bef0)\" style=\"fill: none; stroke-dasharray: 9.6,2.4,1.5,2.4; stroke-dashoffset: 0; stroke: #2ca02c; stroke-width: 1.5\"/>\n   </g>\n   <g id=\"line2d_121\">\n    <path d=\"M 34.954394 13.5 \nL 44.698573 13.593577 \nL 54.442752 13.633764 \nL 64.186931 13.896391 \nL 73.93111 24.090383 \nL 83.675289 52.57932 \nL 93.419468 79.389382 \nL 103.163647 107.38063 \nL 112.907826 112.434687 \nL 122.652006 114.885097 \nL 132.396185 118.294376 \nL 142.140364 120.338673 \nL 151.884543 122.084464 \nL 161.628722 123.755925 \nL 171.372901 124.337615 \nL 181.11708 125.858955 \nL 190.861259 96.396418 \nL 200.605438 109.913073 \nL 210.349618 122.930867 \nL 220.093797 125.136598 \n\" clip-path=\"url(#pa76bc1bef0)\" style=\"fill: none; stroke: #1f77b4; stroke-width: 1.5; stroke-linecap: square\"/>\n   </g>\n   <g id=\"line2d_122\">\n    <path d=\"M 49.633125 13.605502 \nL 69.163125 14.732391 \nL 88.693125 71.912973 \nL 108.223125 107.832032 \nL 127.753125 117.754329 \nL 147.283125 118.105536 \nL 166.813125 122.593196 \nL 186.343125 120.016144 \nL 205.873125 117.978608 \nL 225.403125 126.578466 \n\" clip-path=\"url(#pa76bc1bef0)\" style=\"fill: none; stroke-dasharray: 5.55,2.4; stroke-dashoffset: 0; stroke: #ff7f0e; stroke-width: 1.5\"/>\n   </g>\n   <g id=\"line2d_123\">\n    <path d=\"M 49.633125 139.5 \nL 69.163125 137.889768 \nL 88.693125 117.680187 \nL 108.223125 106.945306 \nL 127.753125 103.2056 \nL 147.283125 101.595368 \nL 166.813125 100.136825 \nL 186.343125 100.836926 \nL 205.873125 103.812355 \n\" clip-path=\"url(#pa76bc1bef0)\" style=\"fill: none; stroke-dasharray: 9.6,2.4,1.5,2.4; stroke-dashoffset: 0; stroke: #2ca02c; stroke-width: 1.5\"/>\n   </g>\n   <g id=\"line2d_124\">\n    <path d=\"M 34.954394 13.5 \nL 44.698573 13.593577 \nL 54.442752 13.633764 \nL 64.186931 13.896391 \nL 73.93111 24.090383 \nL 83.675289 52.57932 \nL 93.419468 79.389382 \nL 103.163647 107.38063 \nL 112.907826 112.434687 \nL 122.652006 114.885097 \nL 132.396185 118.294376 \nL 142.140364 120.338673 \nL 151.884543 122.084464 \nL 161.628722 123.755925 \nL 171.372901 124.337615 \nL 181.11708 125.858955 \nL 190.861259 96.396418 \nL 200.605438 109.913073 \nL 210.349618 122.930867 \nL 220.093797 125.136598 \n\" clip-path=\"url(#pa76bc1bef0)\" style=\"fill: none; stroke: #1f77b4; stroke-width: 1.5; stroke-linecap: square\"/>\n   </g>\n   <g id=\"line2d_125\">\n    <path d=\"M 49.633125 13.605502 \nL 69.163125 14.732391 \nL 88.693125 71.912973 \nL 108.223125 107.832032 \nL 127.753125 117.754329 \nL 147.283125 118.105536 \nL 166.813125 122.593196 \nL 186.343125 120.016144 \nL 205.873125 117.978608 \nL 225.403125 126.578466 \n\" clip-path=\"url(#pa76bc1bef0)\" style=\"fill: none; stroke-dasharray: 5.55,2.4; stroke-dashoffset: 0; stroke: #ff7f0e; stroke-width: 1.5\"/>\n   </g>\n   <g id=\"line2d_126\">\n    <path d=\"M 49.633125 139.5 \nL 69.163125 137.889768 \nL 88.693125 117.680187 \nL 108.223125 106.945306 \nL 127.753125 103.2056 \nL 147.283125 101.595368 \nL 166.813125 100.136825 \nL 186.343125 100.836926 \nL 205.873125 103.812355 \nL 225.403125 98.783296 \n\" clip-path=\"url(#pa76bc1bef0)\" style=\"fill: none; stroke-dasharray: 9.6,2.4,1.5,2.4; stroke-dashoffset: 0; stroke: #2ca02c; stroke-width: 1.5\"/>\n   </g>\n   <g id=\"patch_3\">\n    <path d=\"M 30.103125 145.8 \nL 30.103125 7.2 \n\" style=\"fill: none; stroke: #000000; stroke-width: 0.8; stroke-linejoin: miter; stroke-linecap: square\"/>\n   </g>\n   <g id=\"patch_4\">\n    <path d=\"M 225.403125 145.8 \nL 225.403125 7.2 \n\" style=\"fill: none; stroke: #000000; stroke-width: 0.8; stroke-linejoin: miter; stroke-linecap: square\"/>\n   </g>\n   <g id=\"patch_5\">\n    <path d=\"M 30.103125 145.8 \nL 225.403125 145.8 \n\" style=\"fill: none; stroke: #000000; stroke-width: 0.8; stroke-linejoin: miter; stroke-linecap: square\"/>\n   </g>\n   <g id=\"patch_6\">\n    <path d=\"M 30.103125 7.2 \nL 225.403125 7.2 \n\" style=\"fill: none; stroke: #000000; stroke-width: 0.8; stroke-linejoin: miter; stroke-linecap: square\"/>\n   </g>\n   <g id=\"legend_1\">\n    <g id=\"patch_7\">\n     <path d=\"M 138.8125 60.06875 \nL 218.403125 60.06875 \nQ 220.403125 60.06875 220.403125 58.06875 \nL 220.403125 14.2 \nQ 220.403125 12.2 218.403125 12.2 \nL 138.8125 12.2 \nQ 136.8125 12.2 136.8125 14.2 \nL 136.8125 58.06875 \nQ 136.8125 60.06875 138.8125 60.06875 \nz\n\" style=\"fill: #ffffff; opacity: 0.8; stroke: #cccccc; stroke-linejoin: miter\"/>\n    </g>\n    <g id=\"line2d_127\">\n     <path d=\"M 140.8125 20.298438 \nL 150.8125 20.298438 \nL 160.8125 20.298438 \n\" style=\"fill: none; stroke: #1f77b4; stroke-width: 1.5; stroke-linecap: square\"/>\n    </g>\n    <g id=\"text_12\">\n     <!-- train_loss -->\n     <g transform=\"translate(168.8125 23.798438) scale(0.1 -0.1)\">\n      <defs>\n       <path id=\"DejaVuSans-74\" d=\"M 1172 4494 \nL 1172 3500 \nL 2356 3500 \nL 2356 3053 \nL 1172 3053 \nL 1172 1153 \nQ 1172 725 1289 603 \nQ 1406 481 1766 481 \nL 2356 481 \nL 2356 0 \nL 1766 0 \nQ 1100 0 847 248 \nQ 594 497 594 1153 \nL 594 3053 \nL 172 3053 \nL 172 3500 \nL 594 3500 \nL 594 4494 \nL 1172 4494 \nz\n\" transform=\"scale(0.015625)\"/>\n       <path id=\"DejaVuSans-72\" d=\"M 2631 2963 \nQ 2534 3019 2420 3045 \nQ 2306 3072 2169 3072 \nQ 1681 3072 1420 2755 \nQ 1159 2438 1159 1844 \nL 1159 0 \nL 581 0 \nL 581 3500 \nL 1159 3500 \nL 1159 2956 \nQ 1341 3275 1631 3429 \nQ 1922 3584 2338 3584 \nQ 2397 3584 2469 3576 \nQ 2541 3569 2628 3553 \nL 2631 2963 \nz\n\" transform=\"scale(0.015625)\"/>\n       <path id=\"DejaVuSans-61\" d=\"M 2194 1759 \nQ 1497 1759 1228 1600 \nQ 959 1441 959 1056 \nQ 959 750 1161 570 \nQ 1363 391 1709 391 \nQ 2188 391 2477 730 \nQ 2766 1069 2766 1631 \nL 2766 1759 \nL 2194 1759 \nz\nM 3341 1997 \nL 3341 0 \nL 2766 0 \nL 2766 531 \nQ 2569 213 2275 61 \nQ 1981 -91 1556 -91 \nQ 1019 -91 701 211 \nQ 384 513 384 1019 \nQ 384 1609 779 1909 \nQ 1175 2209 1959 2209 \nL 2766 2209 \nL 2766 2266 \nQ 2766 2663 2505 2880 \nQ 2244 3097 1772 3097 \nQ 1472 3097 1187 3025 \nQ 903 2953 641 2809 \nL 641 3341 \nQ 956 3463 1253 3523 \nQ 1550 3584 1831 3584 \nQ 2591 3584 2966 3190 \nQ 3341 2797 3341 1997 \nz\n\" transform=\"scale(0.015625)\"/>\n       <path id=\"DejaVuSans-69\" d=\"M 603 3500 \nL 1178 3500 \nL 1178 0 \nL 603 0 \nL 603 3500 \nz\nM 603 4863 \nL 1178 4863 \nL 1178 4134 \nL 603 4134 \nL 603 4863 \nz\n\" transform=\"scale(0.015625)\"/>\n       <path id=\"DejaVuSans-6e\" d=\"M 3513 2113 \nL 3513 0 \nL 2938 0 \nL 2938 2094 \nQ 2938 2591 2744 2837 \nQ 2550 3084 2163 3084 \nQ 1697 3084 1428 2787 \nQ 1159 2491 1159 1978 \nL 1159 0 \nL 581 0 \nL 581 3500 \nL 1159 3500 \nL 1159 2956 \nQ 1366 3272 1645 3428 \nQ 1925 3584 2291 3584 \nQ 2894 3584 3203 3211 \nQ 3513 2838 3513 2113 \nz\n\" transform=\"scale(0.015625)\"/>\n       <path id=\"DejaVuSans-5f\" d=\"M 3263 -1063 \nL 3263 -1509 \nL -63 -1509 \nL -63 -1063 \nL 3263 -1063 \nz\n\" transform=\"scale(0.015625)\"/>\n       <path id=\"DejaVuSans-6c\" d=\"M 603 4863 \nL 1178 4863 \nL 1178 0 \nL 603 0 \nL 603 4863 \nz\n\" transform=\"scale(0.015625)\"/>\n       <path id=\"DejaVuSans-73\" d=\"M 2834 3397 \nL 2834 2853 \nQ 2591 2978 2328 3040 \nQ 2066 3103 1784 3103 \nQ 1356 3103 1142 2972 \nQ 928 2841 928 2578 \nQ 928 2378 1081 2264 \nQ 1234 2150 1697 2047 \nL 1894 2003 \nQ 2506 1872 2764 1633 \nQ 3022 1394 3022 966 \nQ 3022 478 2636 193 \nQ 2250 -91 1575 -91 \nQ 1294 -91 989 -36 \nQ 684 19 347 128 \nL 347 722 \nQ 666 556 975 473 \nQ 1284 391 1588 391 \nQ 1994 391 2212 530 \nQ 2431 669 2431 922 \nQ 2431 1156 2273 1281 \nQ 2116 1406 1581 1522 \nL 1381 1569 \nQ 847 1681 609 1914 \nQ 372 2147 372 2553 \nQ 372 3047 722 3315 \nQ 1072 3584 1716 3584 \nQ 2034 3584 2315 3537 \nQ 2597 3491 2834 3397 \nz\n\" transform=\"scale(0.015625)\"/>\n      </defs>\n      <use xlink:href=\"#DejaVuSans-74\"/>\n      <use xlink:href=\"#DejaVuSans-72\" x=\"39.208984\"/>\n      <use xlink:href=\"#DejaVuSans-61\" x=\"80.322266\"/>\n      <use xlink:href=\"#DejaVuSans-69\" x=\"141.601562\"/>\n      <use xlink:href=\"#DejaVuSans-6e\" x=\"169.384766\"/>\n      <use xlink:href=\"#DejaVuSans-5f\" x=\"232.763672\"/>\n      <use xlink:href=\"#DejaVuSans-6c\" x=\"282.763672\"/>\n      <use xlink:href=\"#DejaVuSans-6f\" x=\"310.546875\"/>\n      <use xlink:href=\"#DejaVuSans-73\" x=\"371.728516\"/>\n      <use xlink:href=\"#DejaVuSans-73\" x=\"423.828125\"/>\n     </g>\n    </g>\n    <g id=\"line2d_128\">\n     <path d=\"M 140.8125 35.254688 \nL 150.8125 35.254688 \nL 160.8125 35.254688 \n\" style=\"fill: none; stroke-dasharray: 5.55,2.4; stroke-dashoffset: 0; stroke: #ff7f0e; stroke-width: 1.5\"/>\n    </g>\n    <g id=\"text_13\">\n     <!-- val_loss -->\n     <g transform=\"translate(168.8125 38.754688) scale(0.1 -0.1)\">\n      <defs>\n       <path id=\"DejaVuSans-76\" d=\"M 191 3500 \nL 800 3500 \nL 1894 563 \nL 2988 3500 \nL 3597 3500 \nL 2284 0 \nL 1503 0 \nL 191 3500 \nz\n\" transform=\"scale(0.015625)\"/>\n      </defs>\n      <use xlink:href=\"#DejaVuSans-76\"/>\n      <use xlink:href=\"#DejaVuSans-61\" x=\"59.179688\"/>\n      <use xlink:href=\"#DejaVuSans-6c\" x=\"120.458984\"/>\n      <use xlink:href=\"#DejaVuSans-5f\" x=\"148.242188\"/>\n      <use xlink:href=\"#DejaVuSans-6c\" x=\"198.242188\"/>\n      <use xlink:href=\"#DejaVuSans-6f\" x=\"226.025391\"/>\n      <use xlink:href=\"#DejaVuSans-73\" x=\"287.207031\"/>\n      <use xlink:href=\"#DejaVuSans-73\" x=\"339.306641\"/>\n     </g>\n    </g>\n    <g id=\"line2d_129\">\n     <path d=\"M 140.8125 50.210938 \nL 150.8125 50.210938 \nL 160.8125 50.210938 \n\" style=\"fill: none; stroke-dasharray: 9.6,2.4,1.5,2.4; stroke-dashoffset: 0; stroke: #2ca02c; stroke-width: 1.5\"/>\n    </g>\n    <g id=\"text_14\">\n     <!-- val_acc -->\n     <g transform=\"translate(168.8125 53.710938) scale(0.1 -0.1)\">\n      <use xlink:href=\"#DejaVuSans-76\"/>\n      <use xlink:href=\"#DejaVuSans-61\" x=\"59.179688\"/>\n      <use xlink:href=\"#DejaVuSans-6c\" x=\"120.458984\"/>\n      <use xlink:href=\"#DejaVuSans-5f\" x=\"148.242188\"/>\n      <use xlink:href=\"#DejaVuSans-61\" x=\"198.242188\"/>\n      <use xlink:href=\"#DejaVuSans-63\" x=\"259.521484\"/>\n      <use xlink:href=\"#DejaVuSans-63\" x=\"314.501953\"/>\n     </g>\n    </g>\n   </g>\n  </g>\n </g>\n <defs>\n  <clipPath id=\"pa76bc1bef0\">\n   <rect x=\"30.103125\" y=\"7.2\" width=\"195.3\" height=\"138.6\"/>\n  </clipPath>\n </defs>\n</svg>\n"
          },
          "metadata": {}
        }
      ]
    },
    {
      "cell_type": "markdown",
      "source": [
        "## Summary\n",
        "\n",
        "NiN has dramatically fewer parameters than AlexNet and VGG. This stems primarily from the fact that it needs no giant fully connected layers. Instead, it uses global average pooling to aggregate across all image locations after the last stage of the network body. This obviates the need for expensive (learned) reduction operations and replaces them by a simple average. What surprised researchers at the time was the fact that this averaging operation did not harm accuracy. Note that averaging across a low-resolution representation (with many channels) also adds to the amount of translation invariance that the network can handle.\n",
        "\n",
        "Choosing fewer convolutions with wide kernels and replacing them by $1 \\times 1$ convolutions aids the quest for fewer parameters further. It can cater for a significant amount of nonlinearity across channels within any given location. Both $1 \\times 1$ convolutions and global average pooling significantly influenced subsequent CNN designs.\n",
        "\n",
        "## Exercises\n",
        "\n",
        "1. Why are there two $1\\times 1$ convolutional layers per NiN block? Increase their number to three. Reduce their number to one. What changes?\n",
        "2. What changes if you replace the $1 \\times 1$ convolutions by $3 \\times 3$ convolutions?\n",
        "3. What happens if you replace the global average pooling by a fully connected layer (speed, accuracy, number of parameters)?\n",
        "4. Calculate the resource usage for NiN.\n",
        "    1. What is the number of parameters?\n",
        "    2. What is the amount of computation?\n",
        "    3. What is the amount of memory needed during training?\n",
        "    4. What is the amount of memory needed during prediction?\n",
        "5. What are possible problems with reducing the $384 \\times 5 \\times 5$ representation to a $10 \\times 5 \\times 5$ representation in one step?\n",
        "6. Use the structural design decisions in VGG that led to VGG-11, VGG-16, and VGG-19 to design a family of NiN-like networks.\n"
      ],
      "metadata": {
        "id": "d8cYBlcUG0Uv"
      },
      "id": "d8cYBlcUG0Uv"
    },
    {
      "cell_type": "markdown",
      "source": [
        "## **Answer Exercise**\n",
        "\n",
        "**1. Mengapa ada dua layer konvolusi $1 \\times 1$ per blok NiN? Tambahkan jumlahnya menjadi tiga. Kurangi menjadi satu. Apa yang berubah?**\n",
        "\n",
        "*   Dua layer konvolusi $1 \\times 1$ digunakan untuk meningkatkan ekspresivitas dan nonlinearitas pada setiap blok, memungkinkan jaringan untuk belajar lebih banyak fitur. Jika jumlahnya ditambah menjadi tiga, jaringan dapat menangkap lebih banyak fitur dan meningkatkan kapasitas representasi, tetapi juga meningkatkan kompleksitas komputasi. Jika dikurangi menjadi satu, kapasitas ekspresi fitur akan berkurang, sehingga mungkin mengurangi kemampuan jaringan untuk mempelajari pola yang kompleks.\n",
        "\n",
        "\n",
        "**2. Apa yang berubah jika kamu mengganti konvolusi $1 \\times 1$ dengan konvolusi $3 \\times 3$?**\n",
        "\n",
        "*   Mengganti konvolusi $1 \\times 1$ dengan $3 \\times 3$ akan meningkatkan jumlah parameter secara signifikan, karena setiap kernel akan memiliki lebih banyak koneksi. Hal ini meningkatkan kapasitas komputasi dan memori yang diperlukan, tetapi juga dapat membantu jaringan menangkap lebih banyak informasi spasial dari data. Namun, ini bertentangan dengan tujuan NiN untuk mengurangi jumlah parameter.\n",
        "\n",
        "**3. Apa yang terjadi jika kamu mengganti global average pooling dengan lapisan fully connected (kecepatan, akurasi, jumlah parameter)?**\n",
        "\n",
        "*   Jika mengganti global average pooling dengan layer fully connected, jumlah parameter akan meningkat secara drastis, karena layer fully connected memerlukan banyak bobot yang harus dipelajari. Hal ini akan memperlambat kecepatan pelatihan dan inferensi karena operasi fully connected lebih kompleks. Akurasi mungkin sedikit meningkat karena lebih banyak parameter yang dapat dipelajari, tetapi ada risiko overfitting yang lebih besar, terutama jika dataset tidak cukup besar.\n",
        "\n",
        "\n",
        "**4. Hitung penggunaan sumber daya untuk NiN.**\n",
        "1. Berapa jumlah parameternya?\n",
        "\n",
        "  *   Jumlah parameter pada NiN bergantung pada ukuran dan jumlah filter pada layer-layer konvolusi $1 \\times 1$. Jumlah parameter dapat dihitung dengan mempertimbangkan semua layer konvolusi dan pooling.\n",
        "\n",
        "2. Berapa jumlah perhitungan yang diperlukan?\n",
        "  *   Perhitungan yang diperlukan ditentukan oleh jumlah operasi floating point per detik (FLOPs) di semua layer, termasuk operasi konvolusi dan pooling.\n",
        "3. Berapa banyak memori yang dibutuhkan selama pelatihan?\n",
        "  *   Memori selama pelatihan meliputi penyimpanan parameter model, gradien, dan aktivasi di setiap layer. Hal ini juga bergantung pada ukuran batch dan dimensi input.\n",
        "\n",
        "4. Berapa banyak memori yang dibutuhkan selama prediksi?\n",
        "  *   Memori selama prediksi hanya mencakup penyimpanan parameter dan aktivasi saat melakukan feedforward tanpa menyimpan gradien. Biasanya lebih sedikit dibandingkan selama pelatihan.\n",
        "\n",
        "\n",
        "**5. Apa masalah potensial jika kamu mengurangi representasi $384 \\times 5 \\times 5$ menjadi $10 \\times 5 \\times 5$ dalam satu langkah?**\n",
        "*   Mengurangi representasi secara drastis dalam satu langkah dapat menghilangkan banyak informasi penting yang tersimpan di dalam representasi spasial. Hal ini dapat menyebabkan kehilangan detail dalam fitur yang dipelajari dan merusak akurasi model secara keseluruhan. Pengurangan bertahap melalui beberapa layer akan lebih aman dan efektif.\n",
        "\n",
        "**6. Gunakan keputusan desain struktural dalam VGG yang mengarah ke VGG-11, VGG-16, dan VGG-19 untuk merancang keluarga jaringan seperti NiN.**\n",
        "\n",
        "*   Seperti pada VGG, kita bisa mendesain keluarga jaringan NiN dengan menggunakan pendekatan modular, misalnya, membuat versi NiN dengan lebih banyak blok konvolusi atau menambah/mengurangi layer konvolusi $1 \\times 1$ dalam setiap blok. Kita bisa merancang NiN-11 dengan 11 layer konvolusi, NiN-16 dengan 16 layer, atau NiN-19 dengan 19 layer, mengikuti pola yang sama seperti keluarga VGG, sambil tetap mempertahankan penggunaan global average pooling untuk menjaga efisiensi.\n",
        "\n",
        "\n",
        "\n",
        "\n"
      ],
      "metadata": {
        "id": "I9xL0NQQLNX6"
      },
      "id": "I9xL0NQQLNX6"
    },
    {
      "cell_type": "markdown",
      "source": [
        "#8.4 Multi-Branch Networks  (GoogLeNet)\n",
        ":label:`sec_googlenet`\n",
        "\n",
        "In 2014, *GoogLeNet*\n",
        "won the ImageNet Challenge :cite:`Szegedy.Liu.Jia.ea.2015`, using a structure\n",
        "that combined the strengths of NiN :cite:`Lin.Chen.Yan.2013`, repeated blocks :cite:`Simonyan.Zisserman.2014`,\n",
        "and a cocktail of convolution kernels. It was arguably also the first network that exhibited a clear distinction among the stem (data ingest), body (data processing), and head (prediction) in a CNN. This design pattern has persisted ever since in the design of deep networks: the *stem* is given by the first two or three convolutions that operate on the image. They extract low-level features from the underlying images. This is followed by a *body* of convolutional blocks. Finally, the *head* maps the features obtained so far to the required classification, segmentation, detection, or tracking problem at hand.\n",
        "\n",
        "The key contribution in GoogLeNet was the design of the network body. It solved the problem of selecting\n",
        "convolution kernels in an ingenious way. While other works tried to identify which convolution, ranging from $1 \\times 1$ to $11 \\times 11$ would be best, it simply *concatenated* multi-branch convolutions.\n",
        "In what follows we introduce a slightly simplified version of GoogLeNet: the original design included a number of tricks for stabilizing training through intermediate loss functions, applied to multiple layers of the network.\n",
        "They are no longer necessary due to the availability of improved training algorithms.\n"
      ],
      "metadata": {
        "id": "EhDDJvrPG52W"
      },
      "id": "EhDDJvrPG52W"
    },
    {
      "cell_type": "markdown",
      "source": [
        "## (**Inception Blocks**)\n",
        "\n",
        "The basic convolutional block in GoogLeNet is called an *Inception block*,\n",
        "stemming from the meme \"we need to go deeper\" from the movie *Inception*.\n",
        "\n",
        "![Structure of the Inception block.](http://d2l.ai/_images/inception.svg)\n",
        ":label:`fig_inception`\n",
        "\n",
        "As depicted in :numref:`fig_inception`,\n",
        "the inception block consists of four parallel branches.\n",
        "The first three branches use convolutional layers\n",
        "with window sizes of $1\\times 1$, $3\\times 3$, and $5\\times 5$\n",
        "to extract information from different spatial sizes.\n",
        "The middle two branches also add a $1\\times 1$ convolution of the input\n",
        "to reduce the number of channels, reducing the model's complexity.\n",
        "The fourth branch uses a $3\\times 3$ max-pooling layer,\n",
        "followed by a $1\\times 1$ convolutional layer\n",
        "to change the number of channels.\n",
        "The four branches all use appropriate padding to give the input and output the same height and width.\n",
        "Finally, the outputs along each branch are concatenated\n",
        "along the channel dimension and comprise the block's output.\n",
        "The commonly-tuned hyperparameters of the Inception block\n",
        "are the number of output channels per layer, i.e., how to allocate capacity among convolutions of different size.\n"
      ],
      "metadata": {
        "id": "k-04s6Y5Hx1B"
      },
      "id": "k-04s6Y5Hx1B"
    },
    {
      "cell_type": "code",
      "source": [
        "import torch\n",
        "from torch import nn\n",
        "from torch.nn import functional as F\n",
        "from d2l import torch as d2l"
      ],
      "metadata": {
        "id": "ZXjRlYo5JzKO"
      },
      "id": "ZXjRlYo5JzKO",
      "execution_count": null,
      "outputs": []
    },
    {
      "cell_type": "code",
      "source": [
        "class Inception(nn.Module):\n",
        "    # c1--c4 are the number of output channels for each branch\n",
        "    def __init__(self, c1, c2, c3, c4, **kwargs):\n",
        "        super(Inception, self).__init__(**kwargs)\n",
        "        # Branch 1\n",
        "        self.b1_1 = nn.LazyConv2d(c1, kernel_size=1)\n",
        "        # Branch 2\n",
        "        self.b2_1 = nn.LazyConv2d(c2[0], kernel_size=1)\n",
        "        self.b2_2 = nn.LazyConv2d(c2[1], kernel_size=3, padding=1)\n",
        "        # Branch 3\n",
        "        self.b3_1 = nn.LazyConv2d(c3[0], kernel_size=1)\n",
        "        self.b3_2 = nn.LazyConv2d(c3[1], kernel_size=5, padding=2)\n",
        "        # Branch 4\n",
        "        self.b4_1 = nn.MaxPool2d(kernel_size=3, stride=1, padding=1)\n",
        "        self.b4_2 = nn.LazyConv2d(c4, kernel_size=1)\n",
        "\n",
        "    def forward(self, x):\n",
        "        b1 = F.relu(self.b1_1(x))\n",
        "        b2 = F.relu(self.b2_2(F.relu(self.b2_1(x))))\n",
        "        b3 = F.relu(self.b3_2(F.relu(self.b3_1(x))))\n",
        "        b4 = F.relu(self.b4_2(self.b4_1(x)))\n",
        "        return torch.cat((b1, b2, b3, b4), dim=1)"
      ],
      "metadata": {
        "id": "_sckCyYNH3EN"
      },
      "id": "_sckCyYNH3EN",
      "execution_count": null,
      "outputs": []
    },
    {
      "cell_type": "markdown",
      "source": [
        "To gain some intuition for why this network works so well,\n",
        "consider the combination of the filters.\n",
        "They explore the image in a variety of filter sizes.\n",
        "This means that details at different extents\n",
        "can be recognized efficiently by filters of different sizes.\n",
        "At the same time, we can allocate different amounts of parameters\n",
        "for different filters.\n",
        "\n",
        "\n",
        "## [**GoogLeNet Model**]\n",
        "\n",
        "As shown in :numref:`fig_inception_full`, GoogLeNet uses a stack of a total of 9 inception blocks, arranged into three groups with max-pooling in between,\n",
        "and global average pooling in its head to generate its estimates.\n",
        "Max-pooling between inception blocks reduces the dimensionality.\n",
        "At its stem, the first module is similar to AlexNet and LeNet.\n",
        "\n",
        "![The GoogLeNet architecture.](../img/inception-full-90.svg)\n",
        ":label:`fig_inception_full`\n",
        "\n",
        "We can now implement GoogLeNet piece by piece. Let's begin with the stem.\n",
        "The first module uses a 64-channel $7\\times 7$ convolutional layer.\n"
      ],
      "metadata": {
        "id": "9vpgHoMnH8Yv"
      },
      "id": "9vpgHoMnH8Yv"
    },
    {
      "cell_type": "code",
      "source": [
        "class GoogleNet(d2l.Classifier):\n",
        "    def b1(self):\n",
        "        return nn.Sequential(\n",
        "            nn.LazyConv2d(64, kernel_size=7, stride=2, padding=3),\n",
        "            nn.ReLU(), nn.MaxPool2d(kernel_size=3, stride=2, padding=1))"
      ],
      "metadata": {
        "id": "wS11qSKcIAXe"
      },
      "id": "wS11qSKcIAXe",
      "execution_count": null,
      "outputs": []
    },
    {
      "cell_type": "markdown",
      "source": [
        "The second module uses two convolutional layers:\n",
        "first, a 64-channel $1\\times 1$ convolutional layer,\n",
        "followed by a $3\\times 3$ convolutional layer that triples the number of channels. This corresponds to the second branch in the Inception block and concludes the design of the body. At this point we have 192 channels.\n"
      ],
      "metadata": {
        "id": "1mQO43fRITbk"
      },
      "id": "1mQO43fRITbk"
    },
    {
      "cell_type": "code",
      "source": [
        "@d2l.add_to_class(GoogleNet)\n",
        "def b2(self):\n",
        "    return nn.Sequential(\n",
        "        nn.LazyConv2d(64, kernel_size=1), nn.ReLU(),\n",
        "        nn.LazyConv2d(192, kernel_size=3, padding=1), nn.ReLU(),\n",
        "        nn.MaxPool2d(kernel_size=3, stride=2, padding=1))"
      ],
      "metadata": {
        "id": "bXbqQRPHIT8p"
      },
      "id": "bXbqQRPHIT8p",
      "execution_count": null,
      "outputs": []
    },
    {
      "cell_type": "markdown",
      "source": [
        "The third module connects two complete Inception blocks in series.\n",
        "The number of output channels of the first Inception block is\n",
        "$64+128+32+32=256$. This amounts to\n",
        "a ratio of the number of output channels\n",
        "among the four branches of $2:4:1:1$. To achieve this, we first reduce the input\n",
        "dimensions by $\\frac{1}{2}$ and by $\\frac{1}{12}$ in the second and third branch respectively\n",
        "to arrive at $96 = 192/2$ and $16 = 192/12$ channels respectively.\n",
        "\n",
        "The number of output channels of the second Inception block\n",
        "is increased to $128+192+96+64=480$, yielding a ratio of $128:192:96:64 = 4:6:3:2$. As before,\n",
        "we need to reduce the number of intermediate dimensions in the second and third channel. A\n",
        "scale of $\\frac{1}{2}$ and $\\frac{1}{8}$ respectively suffices, yielding $128$ and $32$ channels\n",
        "respectively. This is captured by the arguments of the following `Inception` block constructors.\n"
      ],
      "metadata": {
        "id": "-JEM_eLAI6lE"
      },
      "id": "-JEM_eLAI6lE"
    },
    {
      "cell_type": "code",
      "source": [
        "@d2l.add_to_class(GoogleNet)\n",
        "def b3(self):\n",
        "    return nn.Sequential(Inception(64, (96, 128), (16, 32), 32),\n",
        "                         Inception(128, (128, 192), (32, 96), 64),\n",
        "                         nn.MaxPool2d(kernel_size=3, stride=2, padding=1))"
      ],
      "metadata": {
        "id": "F18t18MTI9ih"
      },
      "id": "F18t18MTI9ih",
      "execution_count": null,
      "outputs": []
    },
    {
      "cell_type": "markdown",
      "source": [
        "The fourth module is more complicated.\n",
        "It connects five Inception blocks in series,\n",
        "and they have $192+208+48+64=512$, $160+224+64+64=512$,\n",
        "$128+256+64+64=512$, $112+288+64+64=528$,\n",
        "and $256+320+128+128=832$ output channels, respectively.\n",
        "The number of channels assigned to these branches is similar\n",
        "to that in the third module:\n",
        "the second branch with the $3\\times 3$ convolutional layer\n",
        "outputs the largest number of channels,\n",
        "followed by the first branch with only the $1\\times 1$ convolutional layer,\n",
        "the third branch with the $5\\times 5$ convolutional layer,\n",
        "and the fourth branch with the $3\\times 3$ max-pooling layer.\n",
        "The second and third branches will first reduce\n",
        "the number of channels according to the ratio.\n",
        "These ratios are slightly different in different Inception blocks.\n"
      ],
      "metadata": {
        "id": "FdBvBmZZJAYq"
      },
      "id": "FdBvBmZZJAYq"
    },
    {
      "cell_type": "code",
      "source": [
        "@d2l.add_to_class(GoogleNet)\n",
        "def b4(self):\n",
        "    return nn.Sequential(Inception(192, (96, 208), (16, 48), 64),\n",
        "                         Inception(160, (112, 224), (24, 64), 64),\n",
        "                         Inception(128, (128, 256), (24, 64), 64),\n",
        "                         Inception(112, (144, 288), (32, 64), 64),\n",
        "                         Inception(256, (160, 320), (32, 128), 128),\n",
        "                         nn.MaxPool2d(kernel_size=3, stride=2, padding=1))"
      ],
      "metadata": {
        "id": "AthTVkA-I-XG"
      },
      "id": "AthTVkA-I-XG",
      "execution_count": null,
      "outputs": []
    },
    {
      "cell_type": "markdown",
      "source": [
        "The fifth module has two Inception blocks with $256+320+128+128=832$\n",
        "and $384+384+128+128=1024$ output channels.\n",
        "The number of channels assigned to each branch\n",
        "is the same as that in the third and fourth modules,\n",
        "but differs in specific values.\n",
        "It should be noted that the fifth block is followed by the output layer.\n",
        "This block uses the global average pooling layer\n",
        "to change the height and width of each channel to 1, just as in NiN.\n",
        "Finally, we turn the output into a two-dimensional array\n",
        "followed by a fully connected layer\n",
        "whose number of outputs is the number of label classes.\n"
      ],
      "metadata": {
        "id": "lgm57fFXJH5A"
      },
      "id": "lgm57fFXJH5A"
    },
    {
      "cell_type": "code",
      "source": [
        "@d2l.add_to_class(GoogleNet)\n",
        "def b5(self):\n",
        "    return nn.Sequential(Inception(256, (160, 320), (32, 128), 128),\n",
        "                         Inception(384, (192, 384), (48, 128), 128),\n",
        "                         nn.AdaptiveAvgPool2d((1,1)), nn.Flatten())"
      ],
      "metadata": {
        "id": "TKnvzy0xJESx"
      },
      "id": "TKnvzy0xJESx",
      "execution_count": null,
      "outputs": []
    },
    {
      "cell_type": "markdown",
      "source": [
        "Now that we defined all blocks `b1` through `b5`, it is just a matter of assembling them all into a full network.\n"
      ],
      "metadata": {
        "id": "e6wU73A_JM-h"
      },
      "id": "e6wU73A_JM-h"
    },
    {
      "cell_type": "code",
      "source": [
        "@d2l.add_to_class(GoogleNet)\n",
        "def __init__(self, lr=0.1, num_classes=10):\n",
        "    super(GoogleNet, self).__init__()\n",
        "    self.save_hyperparameters()\n",
        "    self.net = nn.Sequential(self.b1(), self.b2(), self.b3(), self.b4(),\n",
        "                             self.b5(), nn.LazyLinear(num_classes))\n",
        "    self.net.apply(d2l.init_cnn)"
      ],
      "metadata": {
        "id": "17bFV6O6JLEd"
      },
      "id": "17bFV6O6JLEd",
      "execution_count": null,
      "outputs": []
    },
    {
      "cell_type": "markdown",
      "source": [
        "The GoogLeNet model is computationally complex. Note the large number of\n",
        "relatively arbitrary hyperparameters in terms of the number of channels chosen, the number of blocks prior to dimensionality reduction, the relative partitioning of capacity across channels, etc. Much of it is due to the\n",
        "fact that at the time when GoogLeNet was introduced, automatic tools for network definition or design exploration\n",
        "were not yet available. For instance, by now we take it for granted that a competent deep learning framework is capable of inferring dimensionalities of input tensors automatically. At the time, many such configurations had to be specified explicitly by the experimenter, thus often slowing down active experimentation. Moreover, the tools needed for automatic exploration were still in flux and initial experiments largely amounted to costly brute-force exploration, genetic algorithms, and similar strategies.\n",
        "\n",
        "For now the only modification we will carry out is to\n",
        "[**reduce the input height and width from 224 to 96\n",
        "to have a reasonable training time on Fashion-MNIST.**]\n",
        "This simplifies the computation. Let's have a look at the\n",
        "changes in the shape of the output between the various modules.\n"
      ],
      "metadata": {
        "id": "-0rBgzXbJTmN"
      },
      "id": "-0rBgzXbJTmN"
    },
    {
      "cell_type": "code",
      "source": [
        "model = GoogleNet().layer_summary((1, 1, 96, 96))"
      ],
      "metadata": {
        "colab": {
          "base_uri": "https://localhost:8080/"
        },
        "id": "mdZdjDVSJRcO",
        "outputId": "fb580852-6a9a-41c5-ff6c-01d18e104330"
      },
      "id": "mdZdjDVSJRcO",
      "execution_count": null,
      "outputs": [
        {
          "output_type": "stream",
          "name": "stdout",
          "text": [
            "Sequential output shape:\t torch.Size([1, 64, 24, 24])\n",
            "Sequential output shape:\t torch.Size([1, 192, 12, 12])\n",
            "Sequential output shape:\t torch.Size([1, 480, 6, 6])\n",
            "Sequential output shape:\t torch.Size([1, 832, 3, 3])\n",
            "Sequential output shape:\t torch.Size([1, 1024])\n",
            "Linear output shape:\t torch.Size([1, 10])\n"
          ]
        }
      ]
    },
    {
      "cell_type": "markdown",
      "source": [
        "## [**Training**]\n",
        "\n",
        "As before, we train our model using the Fashion-MNIST dataset.\n",
        " We transform it to $96 \\times 96$ pixel resolution\n",
        " before invoking the training procedure.\n"
      ],
      "metadata": {
        "id": "2pEKjv29J5w5"
      },
      "id": "2pEKjv29J5w5"
    },
    {
      "cell_type": "code",
      "source": [
        "model = GoogleNet(lr=0.01)\n",
        "trainer = d2l.Trainer(max_epochs=10, num_gpus=1)\n",
        "data = d2l.FashionMNIST(batch_size=128, resize=(96, 96))\n",
        "model.apply_init([next(iter(data.get_dataloader(True)))[0]], d2l.init_cnn)\n",
        "trainer.fit(model, data)"
      ],
      "metadata": {
        "colab": {
          "base_uri": "https://localhost:8080/",
          "height": 265
        },
        "id": "zP9o4UcwJ6Qr",
        "outputId": "4ea9629d-b432-4ad6-8840-b54de751477a"
      },
      "id": "zP9o4UcwJ6Qr",
      "execution_count": null,
      "outputs": [
        {
          "output_type": "display_data",
          "data": {
            "text/plain": [
              "<Figure size 350x250 with 1 Axes>"
            ],
            "image/svg+xml": "<?xml version=\"1.0\" encoding=\"utf-8\" standalone=\"no\"?>\n<!DOCTYPE svg PUBLIC \"-//W3C//DTD SVG 1.1//EN\"\n  \"http://www.w3.org/Graphics/SVG/1.1/DTD/svg11.dtd\">\n<svg xmlns:xlink=\"http://www.w3.org/1999/xlink\" width=\"238.965625pt\" height=\"183.35625pt\" viewBox=\"0 0 238.965625 183.35625\" xmlns=\"http://www.w3.org/2000/svg\" version=\"1.1\">\n <metadata>\n  <rdf:RDF xmlns:dc=\"http://purl.org/dc/elements/1.1/\" xmlns:cc=\"http://creativecommons.org/ns#\" xmlns:rdf=\"http://www.w3.org/1999/02/22-rdf-syntax-ns#\">\n   <cc:Work>\n    <dc:type rdf:resource=\"http://purl.org/dc/dcmitype/StillImage\"/>\n    <dc:date>2024-09-29T09:49:19.939484</dc:date>\n    <dc:format>image/svg+xml</dc:format>\n    <dc:creator>\n     <cc:Agent>\n      <dc:title>Matplotlib v3.7.2, https://matplotlib.org/</dc:title>\n     </cc:Agent>\n    </dc:creator>\n   </cc:Work>\n  </rdf:RDF>\n </metadata>\n <defs>\n  <style type=\"text/css\">*{stroke-linejoin: round; stroke-linecap: butt}</style>\n </defs>\n <g id=\"figure_1\">\n  <g id=\"patch_1\">\n   <path d=\"M 0 183.35625 \nL 238.965625 183.35625 \nL 238.965625 0 \nL 0 0 \nz\n\" style=\"fill: #ffffff\"/>\n  </g>\n  <g id=\"axes_1\">\n   <g id=\"patch_2\">\n    <path d=\"M 30.103125 145.8 \nL 225.403125 145.8 \nL 225.403125 7.2 \nL 30.103125 7.2 \nz\n\" style=\"fill: #ffffff\"/>\n   </g>\n   <g id=\"matplotlib.axis_1\">\n    <g id=\"xtick_1\">\n     <g id=\"line2d_1\">\n      <defs>\n       <path id=\"m495694f147\" d=\"M 0 0 \nL 0 3.5 \n\" style=\"stroke: #000000; stroke-width: 0.8\"/>\n      </defs>\n      <g>\n       <use xlink:href=\"#m495694f147\" x=\"30.103125\" y=\"145.8\" style=\"stroke: #000000; stroke-width: 0.8\"/>\n      </g>\n     </g>\n     <g id=\"text_1\">\n      <!-- 0 -->\n      <g transform=\"translate(26.921875 160.398438) scale(0.1 -0.1)\">\n       <defs>\n        <path id=\"DejaVuSans-30\" d=\"M 2034 4250 \nQ 1547 4250 1301 3770 \nQ 1056 3291 1056 2328 \nQ 1056 1369 1301 889 \nQ 1547 409 2034 409 \nQ 2525 409 2770 889 \nQ 3016 1369 3016 2328 \nQ 3016 3291 2770 3770 \nQ 2525 4250 2034 4250 \nz\nM 2034 4750 \nQ 2819 4750 3233 4129 \nQ 3647 3509 3647 2328 \nQ 3647 1150 3233 529 \nQ 2819 -91 2034 -91 \nQ 1250 -91 836 529 \nQ 422 1150 422 2328 \nQ 422 3509 836 4129 \nQ 1250 4750 2034 4750 \nz\n\" transform=\"scale(0.015625)\"/>\n       </defs>\n       <use xlink:href=\"#DejaVuSans-30\"/>\n      </g>\n     </g>\n    </g>\n    <g id=\"xtick_2\">\n     <g id=\"line2d_2\">\n      <g>\n       <use xlink:href=\"#m495694f147\" x=\"69.163125\" y=\"145.8\" style=\"stroke: #000000; stroke-width: 0.8\"/>\n      </g>\n     </g>\n     <g id=\"text_2\">\n      <!-- 2 -->\n      <g transform=\"translate(65.981875 160.398438) scale(0.1 -0.1)\">\n       <defs>\n        <path id=\"DejaVuSans-32\" d=\"M 1228 531 \nL 3431 531 \nL 3431 0 \nL 469 0 \nL 469 531 \nQ 828 903 1448 1529 \nQ 2069 2156 2228 2338 \nQ 2531 2678 2651 2914 \nQ 2772 3150 2772 3378 \nQ 2772 3750 2511 3984 \nQ 2250 4219 1831 4219 \nQ 1534 4219 1204 4116 \nQ 875 4013 500 3803 \nL 500 4441 \nQ 881 4594 1212 4672 \nQ 1544 4750 1819 4750 \nQ 2544 4750 2975 4387 \nQ 3406 4025 3406 3419 \nQ 3406 3131 3298 2873 \nQ 3191 2616 2906 2266 \nQ 2828 2175 2409 1742 \nQ 1991 1309 1228 531 \nz\n\" transform=\"scale(0.015625)\"/>\n       </defs>\n       <use xlink:href=\"#DejaVuSans-32\"/>\n      </g>\n     </g>\n    </g>\n    <g id=\"xtick_3\">\n     <g id=\"line2d_3\">\n      <g>\n       <use xlink:href=\"#m495694f147\" x=\"108.223125\" y=\"145.8\" style=\"stroke: #000000; stroke-width: 0.8\"/>\n      </g>\n     </g>\n     <g id=\"text_3\">\n      <!-- 4 -->\n      <g transform=\"translate(105.041875 160.398438) scale(0.1 -0.1)\">\n       <defs>\n        <path id=\"DejaVuSans-34\" d=\"M 2419 4116 \nL 825 1625 \nL 2419 1625 \nL 2419 4116 \nz\nM 2253 4666 \nL 3047 4666 \nL 3047 1625 \nL 3713 1625 \nL 3713 1100 \nL 3047 1100 \nL 3047 0 \nL 2419 0 \nL 2419 1100 \nL 313 1100 \nL 313 1709 \nL 2253 4666 \nz\n\" transform=\"scale(0.015625)\"/>\n       </defs>\n       <use xlink:href=\"#DejaVuSans-34\"/>\n      </g>\n     </g>\n    </g>\n    <g id=\"xtick_4\">\n     <g id=\"line2d_4\">\n      <g>\n       <use xlink:href=\"#m495694f147\" x=\"147.283125\" y=\"145.8\" style=\"stroke: #000000; stroke-width: 0.8\"/>\n      </g>\n     </g>\n     <g id=\"text_4\">\n      <!-- 6 -->\n      <g transform=\"translate(144.101875 160.398438) scale(0.1 -0.1)\">\n       <defs>\n        <path id=\"DejaVuSans-36\" d=\"M 2113 2584 \nQ 1688 2584 1439 2293 \nQ 1191 2003 1191 1497 \nQ 1191 994 1439 701 \nQ 1688 409 2113 409 \nQ 2538 409 2786 701 \nQ 3034 994 3034 1497 \nQ 3034 2003 2786 2293 \nQ 2538 2584 2113 2584 \nz\nM 3366 4563 \nL 3366 3988 \nQ 3128 4100 2886 4159 \nQ 2644 4219 2406 4219 \nQ 1781 4219 1451 3797 \nQ 1122 3375 1075 2522 \nQ 1259 2794 1537 2939 \nQ 1816 3084 2150 3084 \nQ 2853 3084 3261 2657 \nQ 3669 2231 3669 1497 \nQ 3669 778 3244 343 \nQ 2819 -91 2113 -91 \nQ 1303 -91 875 529 \nQ 447 1150 447 2328 \nQ 447 3434 972 4092 \nQ 1497 4750 2381 4750 \nQ 2619 4750 2861 4703 \nQ 3103 4656 3366 4563 \nz\n\" transform=\"scale(0.015625)\"/>\n       </defs>\n       <use xlink:href=\"#DejaVuSans-36\"/>\n      </g>\n     </g>\n    </g>\n    <g id=\"xtick_5\">\n     <g id=\"line2d_5\">\n      <g>\n       <use xlink:href=\"#m495694f147\" x=\"186.343125\" y=\"145.8\" style=\"stroke: #000000; stroke-width: 0.8\"/>\n      </g>\n     </g>\n     <g id=\"text_5\">\n      <!-- 8 -->\n      <g transform=\"translate(183.161875 160.398438) scale(0.1 -0.1)\">\n       <defs>\n        <path id=\"DejaVuSans-38\" d=\"M 2034 2216 \nQ 1584 2216 1326 1975 \nQ 1069 1734 1069 1313 \nQ 1069 891 1326 650 \nQ 1584 409 2034 409 \nQ 2484 409 2743 651 \nQ 3003 894 3003 1313 \nQ 3003 1734 2745 1975 \nQ 2488 2216 2034 2216 \nz\nM 1403 2484 \nQ 997 2584 770 2862 \nQ 544 3141 544 3541 \nQ 544 4100 942 4425 \nQ 1341 4750 2034 4750 \nQ 2731 4750 3128 4425 \nQ 3525 4100 3525 3541 \nQ 3525 3141 3298 2862 \nQ 3072 2584 2669 2484 \nQ 3125 2378 3379 2068 \nQ 3634 1759 3634 1313 \nQ 3634 634 3220 271 \nQ 2806 -91 2034 -91 \nQ 1263 -91 848 271 \nQ 434 634 434 1313 \nQ 434 1759 690 2068 \nQ 947 2378 1403 2484 \nz\nM 1172 3481 \nQ 1172 3119 1398 2916 \nQ 1625 2713 2034 2713 \nQ 2441 2713 2670 2916 \nQ 2900 3119 2900 3481 \nQ 2900 3844 2670 4047 \nQ 2441 4250 2034 4250 \nQ 1625 4250 1398 4047 \nQ 1172 3844 1172 3481 \nz\n\" transform=\"scale(0.015625)\"/>\n       </defs>\n       <use xlink:href=\"#DejaVuSans-38\"/>\n      </g>\n     </g>\n    </g>\n    <g id=\"xtick_6\">\n     <g id=\"line2d_6\">\n      <g>\n       <use xlink:href=\"#m495694f147\" x=\"225.403125\" y=\"145.8\" style=\"stroke: #000000; stroke-width: 0.8\"/>\n      </g>\n     </g>\n     <g id=\"text_6\">\n      <!-- 10 -->\n      <g transform=\"translate(219.040625 160.398438) scale(0.1 -0.1)\">\n       <defs>\n        <path id=\"DejaVuSans-31\" d=\"M 794 531 \nL 1825 531 \nL 1825 4091 \nL 703 3866 \nL 703 4441 \nL 1819 4666 \nL 2450 4666 \nL 2450 531 \nL 3481 531 \nL 3481 0 \nL 794 0 \nL 794 531 \nz\n\" transform=\"scale(0.015625)\"/>\n       </defs>\n       <use xlink:href=\"#DejaVuSans-31\"/>\n       <use xlink:href=\"#DejaVuSans-30\" x=\"63.623047\"/>\n      </g>\n     </g>\n    </g>\n    <g id=\"text_7\">\n     <!-- epoch -->\n     <g transform=\"translate(112.525 174.076563) scale(0.1 -0.1)\">\n      <defs>\n       <path id=\"DejaVuSans-65\" d=\"M 3597 1894 \nL 3597 1613 \nL 953 1613 \nQ 991 1019 1311 708 \nQ 1631 397 2203 397 \nQ 2534 397 2845 478 \nQ 3156 559 3463 722 \nL 3463 178 \nQ 3153 47 2828 -22 \nQ 2503 -91 2169 -91 \nQ 1331 -91 842 396 \nQ 353 884 353 1716 \nQ 353 2575 817 3079 \nQ 1281 3584 2069 3584 \nQ 2775 3584 3186 3129 \nQ 3597 2675 3597 1894 \nz\nM 3022 2063 \nQ 3016 2534 2758 2815 \nQ 2500 3097 2075 3097 \nQ 1594 3097 1305 2825 \nQ 1016 2553 972 2059 \nL 3022 2063 \nz\n\" transform=\"scale(0.015625)\"/>\n       <path id=\"DejaVuSans-70\" d=\"M 1159 525 \nL 1159 -1331 \nL 581 -1331 \nL 581 3500 \nL 1159 3500 \nL 1159 2969 \nQ 1341 3281 1617 3432 \nQ 1894 3584 2278 3584 \nQ 2916 3584 3314 3078 \nQ 3713 2572 3713 1747 \nQ 3713 922 3314 415 \nQ 2916 -91 2278 -91 \nQ 1894 -91 1617 61 \nQ 1341 213 1159 525 \nz\nM 3116 1747 \nQ 3116 2381 2855 2742 \nQ 2594 3103 2138 3103 \nQ 1681 3103 1420 2742 \nQ 1159 2381 1159 1747 \nQ 1159 1113 1420 752 \nQ 1681 391 2138 391 \nQ 2594 391 2855 752 \nQ 3116 1113 3116 1747 \nz\n\" transform=\"scale(0.015625)\"/>\n       <path id=\"DejaVuSans-6f\" d=\"M 1959 3097 \nQ 1497 3097 1228 2736 \nQ 959 2375 959 1747 \nQ 959 1119 1226 758 \nQ 1494 397 1959 397 \nQ 2419 397 2687 759 \nQ 2956 1122 2956 1747 \nQ 2956 2369 2687 2733 \nQ 2419 3097 1959 3097 \nz\nM 1959 3584 \nQ 2709 3584 3137 3096 \nQ 3566 2609 3566 1747 \nQ 3566 888 3137 398 \nQ 2709 -91 1959 -91 \nQ 1206 -91 779 398 \nQ 353 888 353 1747 \nQ 353 2609 779 3096 \nQ 1206 3584 1959 3584 \nz\n\" transform=\"scale(0.015625)\"/>\n       <path id=\"DejaVuSans-63\" d=\"M 3122 3366 \nL 3122 2828 \nQ 2878 2963 2633 3030 \nQ 2388 3097 2138 3097 \nQ 1578 3097 1268 2742 \nQ 959 2388 959 1747 \nQ 959 1106 1268 751 \nQ 1578 397 2138 397 \nQ 2388 397 2633 464 \nQ 2878 531 3122 666 \nL 3122 134 \nQ 2881 22 2623 -34 \nQ 2366 -91 2075 -91 \nQ 1284 -91 818 406 \nQ 353 903 353 1747 \nQ 353 2603 823 3093 \nQ 1294 3584 2113 3584 \nQ 2378 3584 2631 3529 \nQ 2884 3475 3122 3366 \nz\n\" transform=\"scale(0.015625)\"/>\n       <path id=\"DejaVuSans-68\" d=\"M 3513 2113 \nL 3513 0 \nL 2938 0 \nL 2938 2094 \nQ 2938 2591 2744 2837 \nQ 2550 3084 2163 3084 \nQ 1697 3084 1428 2787 \nQ 1159 2491 1159 1978 \nL 1159 0 \nL 581 0 \nL 581 4863 \nL 1159 4863 \nL 1159 2956 \nQ 1366 3272 1645 3428 \nQ 1925 3584 2291 3584 \nQ 2894 3584 3203 3211 \nQ 3513 2838 3513 2113 \nz\n\" transform=\"scale(0.015625)\"/>\n      </defs>\n      <use xlink:href=\"#DejaVuSans-65\"/>\n      <use xlink:href=\"#DejaVuSans-70\" x=\"61.523438\"/>\n      <use xlink:href=\"#DejaVuSans-6f\" x=\"125\"/>\n      <use xlink:href=\"#DejaVuSans-63\" x=\"186.181641\"/>\n      <use xlink:href=\"#DejaVuSans-68\" x=\"241.162109\"/>\n     </g>\n    </g>\n   </g>\n   <g id=\"matplotlib.axis_2\">\n    <g id=\"ytick_1\">\n     <g id=\"line2d_7\">\n      <defs>\n       <path id=\"m2de9a51caa\" d=\"M 0 0 \nL -3.5 0 \n\" style=\"stroke: #000000; stroke-width: 0.8\"/>\n      </defs>\n      <g>\n       <use xlink:href=\"#m2de9a51caa\" x=\"30.103125\" y=\"145.278889\" style=\"stroke: #000000; stroke-width: 0.8\"/>\n      </g>\n     </g>\n     <g id=\"text_8\">\n      <!-- 0.0 -->\n      <g transform=\"translate(7.2 149.078108) scale(0.1 -0.1)\">\n       <defs>\n        <path id=\"DejaVuSans-2e\" d=\"M 684 794 \nL 1344 794 \nL 1344 0 \nL 684 0 \nL 684 794 \nz\n\" transform=\"scale(0.015625)\"/>\n       </defs>\n       <use xlink:href=\"#DejaVuSans-30\"/>\n       <use xlink:href=\"#DejaVuSans-2e\" x=\"63.623047\"/>\n       <use xlink:href=\"#DejaVuSans-30\" x=\"95.410156\"/>\n      </g>\n     </g>\n    </g>\n    <g id=\"ytick_2\">\n     <g id=\"line2d_8\">\n      <g>\n       <use xlink:href=\"#m2de9a51caa\" x=\"30.103125\" y=\"116.661784\" style=\"stroke: #000000; stroke-width: 0.8\"/>\n      </g>\n     </g>\n     <g id=\"text_9\">\n      <!-- 0.5 -->\n      <g transform=\"translate(7.2 120.461003) scale(0.1 -0.1)\">\n       <defs>\n        <path id=\"DejaVuSans-35\" d=\"M 691 4666 \nL 3169 4666 \nL 3169 4134 \nL 1269 4134 \nL 1269 2991 \nQ 1406 3038 1543 3061 \nQ 1681 3084 1819 3084 \nQ 2600 3084 3056 2656 \nQ 3513 2228 3513 1497 \nQ 3513 744 3044 326 \nQ 2575 -91 1722 -91 \nQ 1428 -91 1123 -41 \nQ 819 9 494 109 \nL 494 744 \nQ 775 591 1075 516 \nQ 1375 441 1709 441 \nQ 2250 441 2565 725 \nQ 2881 1009 2881 1497 \nQ 2881 1984 2565 2268 \nQ 2250 2553 1709 2553 \nQ 1456 2553 1204 2497 \nQ 953 2441 691 2322 \nL 691 4666 \nz\n\" transform=\"scale(0.015625)\"/>\n       </defs>\n       <use xlink:href=\"#DejaVuSans-30\"/>\n       <use xlink:href=\"#DejaVuSans-2e\" x=\"63.623047\"/>\n       <use xlink:href=\"#DejaVuSans-35\" x=\"95.410156\"/>\n      </g>\n     </g>\n    </g>\n    <g id=\"ytick_3\">\n     <g id=\"line2d_9\">\n      <g>\n       <use xlink:href=\"#m2de9a51caa\" x=\"30.103125\" y=\"88.044679\" style=\"stroke: #000000; stroke-width: 0.8\"/>\n      </g>\n     </g>\n     <g id=\"text_10\">\n      <!-- 1.0 -->\n      <g transform=\"translate(7.2 91.843898) scale(0.1 -0.1)\">\n       <use xlink:href=\"#DejaVuSans-31\"/>\n       <use xlink:href=\"#DejaVuSans-2e\" x=\"63.623047\"/>\n       <use xlink:href=\"#DejaVuSans-30\" x=\"95.410156\"/>\n      </g>\n     </g>\n    </g>\n    <g id=\"ytick_4\">\n     <g id=\"line2d_10\">\n      <g>\n       <use xlink:href=\"#m2de9a51caa\" x=\"30.103125\" y=\"59.427574\" style=\"stroke: #000000; stroke-width: 0.8\"/>\n      </g>\n     </g>\n     <g id=\"text_11\">\n      <!-- 1.5 -->\n      <g transform=\"translate(7.2 63.226793) scale(0.1 -0.1)\">\n       <use xlink:href=\"#DejaVuSans-31\"/>\n       <use xlink:href=\"#DejaVuSans-2e\" x=\"63.623047\"/>\n       <use xlink:href=\"#DejaVuSans-35\" x=\"95.410156\"/>\n      </g>\n     </g>\n    </g>\n    <g id=\"ytick_5\">\n     <g id=\"line2d_11\">\n      <g>\n       <use xlink:href=\"#m2de9a51caa\" x=\"30.103125\" y=\"30.810469\" style=\"stroke: #000000; stroke-width: 0.8\"/>\n      </g>\n     </g>\n     <g id=\"text_12\">\n      <!-- 2.0 -->\n      <g transform=\"translate(7.2 34.609688) scale(0.1 -0.1)\">\n       <use xlink:href=\"#DejaVuSans-32\"/>\n       <use xlink:href=\"#DejaVuSans-2e\" x=\"63.623047\"/>\n       <use xlink:href=\"#DejaVuSans-30\" x=\"95.410156\"/>\n      </g>\n     </g>\n    </g>\n   </g>\n   <g id=\"line2d_12\">\n    <path d=\"M 34.954394 13.5 \n\" clip-path=\"url(#pd79ded0ab6)\" style=\"fill: none; stroke: #1f77b4; stroke-width: 1.5; stroke-linecap: square\"/>\n   </g>\n   <g id=\"line2d_13\">\n    <path d=\"M 34.954394 13.5 \nL 44.698573 13.537399 \n\" clip-path=\"url(#pd79ded0ab6)\" style=\"fill: none; stroke: #1f77b4; stroke-width: 1.5; stroke-linecap: square\"/>\n   </g>\n   <g id=\"line2d_14\">\n    <path d=\"M 34.954394 13.5 \nL 44.698573 13.537399 \n\" clip-path=\"url(#pd79ded0ab6)\" style=\"fill: none; stroke: #1f77b4; stroke-width: 1.5; stroke-linecap: square\"/>\n   </g>\n   <g id=\"line2d_15\">\n    <path d=\"M 49.633125 13.562518 \n\" clip-path=\"url(#pd79ded0ab6)\" style=\"fill: none; stroke-dasharray: 5.55,2.4; stroke-dashoffset: 0; stroke: #ff7f0e; stroke-width: 1.5\"/>\n   </g>\n   <g id=\"line2d_16\"/>\n   <g id=\"line2d_17\">\n    <path d=\"M 34.954394 13.5 \nL 44.698573 13.537399 \n\" clip-path=\"url(#pd79ded0ab6)\" style=\"fill: none; stroke: #1f77b4; stroke-width: 1.5; stroke-linecap: square\"/>\n   </g>\n   <g id=\"line2d_18\">\n    <path d=\"M 49.633125 13.562518 \n\" clip-path=\"url(#pd79ded0ab6)\" style=\"fill: none; stroke-dasharray: 5.55,2.4; stroke-dashoffset: 0; stroke: #ff7f0e; stroke-width: 1.5\"/>\n   </g>\n   <g id=\"line2d_19\">\n    <path d=\"M 49.633125 136.183223 \n\" clip-path=\"url(#pd79ded0ab6)\" style=\"fill: none; stroke-dasharray: 9.6,2.4,1.5,2.4; stroke-dashoffset: 0; stroke: #2ca02c; stroke-width: 1.5\"/>\n   </g>\n   <g id=\"line2d_20\">\n    <path d=\"M 34.954394 13.5 \nL 44.698573 13.537399 \nL 54.442752 13.579457 \n\" clip-path=\"url(#pd79ded0ab6)\" style=\"fill: none; stroke: #1f77b4; stroke-width: 1.5; stroke-linecap: square\"/>\n   </g>\n   <g id=\"line2d_21\">\n    <path d=\"M 49.633125 13.562518 \n\" clip-path=\"url(#pd79ded0ab6)\" style=\"fill: none; stroke-dasharray: 5.55,2.4; stroke-dashoffset: 0; stroke: #ff7f0e; stroke-width: 1.5\"/>\n   </g>\n   <g id=\"line2d_22\">\n    <path d=\"M 49.633125 136.183223 \n\" clip-path=\"url(#pd79ded0ab6)\" style=\"fill: none; stroke-dasharray: 9.6,2.4,1.5,2.4; stroke-dashoffset: 0; stroke: #2ca02c; stroke-width: 1.5\"/>\n   </g>\n   <g id=\"line2d_23\">\n    <path d=\"M 34.954394 13.5 \nL 44.698573 13.537399 \nL 54.442752 13.579457 \nL 64.186931 13.619823 \n\" clip-path=\"url(#pd79ded0ab6)\" style=\"fill: none; stroke: #1f77b4; stroke-width: 1.5; stroke-linecap: square\"/>\n   </g>\n   <g id=\"line2d_24\">\n    <path d=\"M 49.633125 13.562518 \n\" clip-path=\"url(#pd79ded0ab6)\" style=\"fill: none; stroke-dasharray: 5.55,2.4; stroke-dashoffset: 0; stroke: #ff7f0e; stroke-width: 1.5\"/>\n   </g>\n   <g id=\"line2d_25\">\n    <path d=\"M 49.633125 136.183223 \n\" clip-path=\"url(#pd79ded0ab6)\" style=\"fill: none; stroke-dasharray: 9.6,2.4,1.5,2.4; stroke-dashoffset: 0; stroke: #2ca02c; stroke-width: 1.5\"/>\n   </g>\n   <g id=\"line2d_26\">\n    <path d=\"M 34.954394 13.5 \nL 44.698573 13.537399 \nL 54.442752 13.579457 \nL 64.186931 13.619823 \n\" clip-path=\"url(#pd79ded0ab6)\" style=\"fill: none; stroke: #1f77b4; stroke-width: 1.5; stroke-linecap: square\"/>\n   </g>\n   <g id=\"line2d_27\">\n    <path d=\"M 49.633125 13.562518 \nL 69.163125 13.65347 \n\" clip-path=\"url(#pd79ded0ab6)\" style=\"fill: none; stroke-dasharray: 5.55,2.4; stroke-dashoffset: 0; stroke: #ff7f0e; stroke-width: 1.5\"/>\n   </g>\n   <g id=\"line2d_28\">\n    <path d=\"M 49.633125 136.183223 \n\" clip-path=\"url(#pd79ded0ab6)\" style=\"fill: none; stroke-dasharray: 9.6,2.4,1.5,2.4; stroke-dashoffset: 0; stroke: #2ca02c; stroke-width: 1.5\"/>\n   </g>\n   <g id=\"line2d_29\">\n    <path d=\"M 34.954394 13.5 \nL 44.698573 13.537399 \nL 54.442752 13.579457 \nL 64.186931 13.619823 \n\" clip-path=\"url(#pd79ded0ab6)\" style=\"fill: none; stroke: #1f77b4; stroke-width: 1.5; stroke-linecap: square\"/>\n   </g>\n   <g id=\"line2d_30\">\n    <path d=\"M 49.633125 13.562518 \nL 69.163125 13.65347 \n\" clip-path=\"url(#pd79ded0ab6)\" style=\"fill: none; stroke-dasharray: 5.55,2.4; stroke-dashoffset: 0; stroke: #ff7f0e; stroke-width: 1.5\"/>\n   </g>\n   <g id=\"line2d_31\">\n    <path d=\"M 49.633125 136.183223 \nL 69.163125 139.5 \n\" clip-path=\"url(#pd79ded0ab6)\" style=\"fill: none; stroke-dasharray: 9.6,2.4,1.5,2.4; stroke-dashoffset: 0; stroke: #2ca02c; stroke-width: 1.5\"/>\n   </g>\n   <g id=\"line2d_32\">\n    <path d=\"M 34.954394 13.5 \nL 44.698573 13.537399 \nL 54.442752 13.579457 \nL 64.186931 13.619823 \nL 73.93111 13.680578 \n\" clip-path=\"url(#pd79ded0ab6)\" style=\"fill: none; stroke: #1f77b4; stroke-width: 1.5; stroke-linecap: square\"/>\n   </g>\n   <g id=\"line2d_33\">\n    <path d=\"M 49.633125 13.562518 \nL 69.163125 13.65347 \n\" clip-path=\"url(#pd79ded0ab6)\" style=\"fill: none; stroke-dasharray: 5.55,2.4; stroke-dashoffset: 0; stroke: #ff7f0e; stroke-width: 1.5\"/>\n   </g>\n   <g id=\"line2d_34\">\n    <path d=\"M 49.633125 136.183223 \nL 69.163125 139.5 \n\" clip-path=\"url(#pd79ded0ab6)\" style=\"fill: none; stroke-dasharray: 9.6,2.4,1.5,2.4; stroke-dashoffset: 0; stroke: #2ca02c; stroke-width: 1.5\"/>\n   </g>\n   <g id=\"line2d_35\">\n    <path d=\"M 34.954394 13.5 \nL 44.698573 13.537399 \nL 54.442752 13.579457 \nL 64.186931 13.619823 \nL 73.93111 13.680578 \nL 83.675289 13.762427 \n\" clip-path=\"url(#pd79ded0ab6)\" style=\"fill: none; stroke: #1f77b4; stroke-width: 1.5; stroke-linecap: square\"/>\n   </g>\n   <g id=\"line2d_36\">\n    <path d=\"M 49.633125 13.562518 \nL 69.163125 13.65347 \n\" clip-path=\"url(#pd79ded0ab6)\" style=\"fill: none; stroke-dasharray: 5.55,2.4; stroke-dashoffset: 0; stroke: #ff7f0e; stroke-width: 1.5\"/>\n   </g>\n   <g id=\"line2d_37\">\n    <path d=\"M 49.633125 136.183223 \nL 69.163125 139.5 \n\" clip-path=\"url(#pd79ded0ab6)\" style=\"fill: none; stroke-dasharray: 9.6,2.4,1.5,2.4; stroke-dashoffset: 0; stroke: #2ca02c; stroke-width: 1.5\"/>\n   </g>\n   <g id=\"line2d_38\">\n    <path d=\"M 34.954394 13.5 \nL 44.698573 13.537399 \nL 54.442752 13.579457 \nL 64.186931 13.619823 \nL 73.93111 13.680578 \nL 83.675289 13.762427 \n\" clip-path=\"url(#pd79ded0ab6)\" style=\"fill: none; stroke: #1f77b4; stroke-width: 1.5; stroke-linecap: square\"/>\n   </g>\n   <g id=\"line2d_39\">\n    <path d=\"M 49.633125 13.562518 \nL 69.163125 13.65347 \nL 88.693125 13.829532 \n\" clip-path=\"url(#pd79ded0ab6)\" style=\"fill: none; stroke-dasharray: 5.55,2.4; stroke-dashoffset: 0; stroke: #ff7f0e; stroke-width: 1.5\"/>\n   </g>\n   <g id=\"line2d_40\">\n    <path d=\"M 49.633125 136.183223 \nL 69.163125 139.5 \n\" clip-path=\"url(#pd79ded0ab6)\" style=\"fill: none; stroke-dasharray: 9.6,2.4,1.5,2.4; stroke-dashoffset: 0; stroke: #2ca02c; stroke-width: 1.5\"/>\n   </g>\n   <g id=\"line2d_41\">\n    <path d=\"M 34.954394 13.5 \nL 44.698573 13.537399 \nL 54.442752 13.579457 \nL 64.186931 13.619823 \nL 73.93111 13.680578 \nL 83.675289 13.762427 \n\" clip-path=\"url(#pd79ded0ab6)\" style=\"fill: none; stroke: #1f77b4; stroke-width: 1.5; stroke-linecap: square\"/>\n   </g>\n   <g id=\"line2d_42\">\n    <path d=\"M 49.633125 13.562518 \nL 69.163125 13.65347 \nL 88.693125 13.829532 \n\" clip-path=\"url(#pd79ded0ab6)\" style=\"fill: none; stroke-dasharray: 5.55,2.4; stroke-dashoffset: 0; stroke: #ff7f0e; stroke-width: 1.5\"/>\n   </g>\n   <g id=\"line2d_43\">\n    <path d=\"M 49.633125 136.183223 \nL 69.163125 139.5 \nL 88.693125 127.851661 \n\" clip-path=\"url(#pd79ded0ab6)\" style=\"fill: none; stroke-dasharray: 9.6,2.4,1.5,2.4; stroke-dashoffset: 0; stroke: #2ca02c; stroke-width: 1.5\"/>\n   </g>\n   <g id=\"line2d_44\">\n    <path d=\"M 34.954394 13.5 \nL 44.698573 13.537399 \nL 54.442752 13.579457 \nL 64.186931 13.619823 \nL 73.93111 13.680578 \nL 83.675289 13.762427 \nL 93.419468 13.906852 \n\" clip-path=\"url(#pd79ded0ab6)\" style=\"fill: none; stroke: #1f77b4; stroke-width: 1.5; stroke-linecap: square\"/>\n   </g>\n   <g id=\"line2d_45\">\n    <path d=\"M 49.633125 13.562518 \nL 69.163125 13.65347 \nL 88.693125 13.829532 \n\" clip-path=\"url(#pd79ded0ab6)\" style=\"fill: none; stroke-dasharray: 5.55,2.4; stroke-dashoffset: 0; stroke: #ff7f0e; stroke-width: 1.5\"/>\n   </g>\n   <g id=\"line2d_46\">\n    <path d=\"M 49.633125 136.183223 \nL 69.163125 139.5 \nL 88.693125 127.851661 \n\" clip-path=\"url(#pd79ded0ab6)\" style=\"fill: none; stroke-dasharray: 9.6,2.4,1.5,2.4; stroke-dashoffset: 0; stroke: #2ca02c; stroke-width: 1.5\"/>\n   </g>\n   <g id=\"line2d_47\">\n    <path d=\"M 34.954394 13.5 \nL 44.698573 13.537399 \nL 54.442752 13.579457 \nL 64.186931 13.619823 \nL 73.93111 13.680578 \nL 83.675289 13.762427 \nL 93.419468 13.906852 \nL 103.163647 14.182267 \n\" clip-path=\"url(#pd79ded0ab6)\" style=\"fill: none; stroke: #1f77b4; stroke-width: 1.5; stroke-linecap: square\"/>\n   </g>\n   <g id=\"line2d_48\">\n    <path d=\"M 49.633125 13.562518 \nL 69.163125 13.65347 \nL 88.693125 13.829532 \n\" clip-path=\"url(#pd79ded0ab6)\" style=\"fill: none; stroke-dasharray: 5.55,2.4; stroke-dashoffset: 0; stroke: #ff7f0e; stroke-width: 1.5\"/>\n   </g>\n   <g id=\"line2d_49\">\n    <path d=\"M 49.633125 136.183223 \nL 69.163125 139.5 \nL 88.693125 127.851661 \n\" clip-path=\"url(#pd79ded0ab6)\" style=\"fill: none; stroke-dasharray: 9.6,2.4,1.5,2.4; stroke-dashoffset: 0; stroke: #2ca02c; stroke-width: 1.5\"/>\n   </g>\n   <g id=\"line2d_50\">\n    <path d=\"M 34.954394 13.5 \nL 44.698573 13.537399 \nL 54.442752 13.579457 \nL 64.186931 13.619823 \nL 73.93111 13.680578 \nL 83.675289 13.762427 \nL 93.419468 13.906852 \nL 103.163647 14.182267 \n\" clip-path=\"url(#pd79ded0ab6)\" style=\"fill: none; stroke: #1f77b4; stroke-width: 1.5; stroke-linecap: square\"/>\n   </g>\n   <g id=\"line2d_51\">\n    <path d=\"M 49.633125 13.562518 \nL 69.163125 13.65347 \nL 88.693125 13.829532 \nL 108.223125 14.42667 \n\" clip-path=\"url(#pd79ded0ab6)\" style=\"fill: none; stroke-dasharray: 5.55,2.4; stroke-dashoffset: 0; stroke: #ff7f0e; stroke-width: 1.5\"/>\n   </g>\n   <g id=\"line2d_52\">\n    <path d=\"M 49.633125 136.183223 \nL 69.163125 139.5 \nL 88.693125 127.851661 \n\" clip-path=\"url(#pd79ded0ab6)\" style=\"fill: none; stroke-dasharray: 9.6,2.4,1.5,2.4; stroke-dashoffset: 0; stroke: #2ca02c; stroke-width: 1.5\"/>\n   </g>\n   <g id=\"line2d_53\">\n    <path d=\"M 34.954394 13.5 \nL 44.698573 13.537399 \nL 54.442752 13.579457 \nL 64.186931 13.619823 \nL 73.93111 13.680578 \nL 83.675289 13.762427 \nL 93.419468 13.906852 \nL 103.163647 14.182267 \n\" clip-path=\"url(#pd79ded0ab6)\" style=\"fill: none; stroke: #1f77b4; stroke-width: 1.5; stroke-linecap: square\"/>\n   </g>\n   <g id=\"line2d_54\">\n    <path d=\"M 49.633125 13.562518 \nL 69.163125 13.65347 \nL 88.693125 13.829532 \nL 108.223125 14.42667 \n\" clip-path=\"url(#pd79ded0ab6)\" style=\"fill: none; stroke-dasharray: 5.55,2.4; stroke-dashoffset: 0; stroke: #ff7f0e; stroke-width: 1.5\"/>\n   </g>\n   <g id=\"line2d_55\">\n    <path d=\"M 49.633125 136.183223 \nL 69.163125 139.5 \nL 88.693125 127.851661 \nL 108.223125 128.672365 \n\" clip-path=\"url(#pd79ded0ab6)\" style=\"fill: none; stroke-dasharray: 9.6,2.4,1.5,2.4; stroke-dashoffset: 0; stroke: #2ca02c; stroke-width: 1.5\"/>\n   </g>\n   <g id=\"line2d_56\">\n    <path d=\"M 34.954394 13.5 \nL 44.698573 13.537399 \nL 54.442752 13.579457 \nL 64.186931 13.619823 \nL 73.93111 13.680578 \nL 83.675289 13.762427 \nL 93.419468 13.906852 \nL 103.163647 14.182267 \nL 112.907826 14.880014 \n\" clip-path=\"url(#pd79ded0ab6)\" style=\"fill: none; stroke: #1f77b4; stroke-width: 1.5; stroke-linecap: square\"/>\n   </g>\n   <g id=\"line2d_57\">\n    <path d=\"M 49.633125 13.562518 \nL 69.163125 13.65347 \nL 88.693125 13.829532 \nL 108.223125 14.42667 \n\" clip-path=\"url(#pd79ded0ab6)\" style=\"fill: none; stroke-dasharray: 5.55,2.4; stroke-dashoffset: 0; stroke: #ff7f0e; stroke-width: 1.5\"/>\n   </g>\n   <g id=\"line2d_58\">\n    <path d=\"M 49.633125 136.183223 \nL 69.163125 139.5 \nL 88.693125 127.851661 \nL 108.223125 128.672365 \n\" clip-path=\"url(#pd79ded0ab6)\" style=\"fill: none; stroke-dasharray: 9.6,2.4,1.5,2.4; stroke-dashoffset: 0; stroke: #2ca02c; stroke-width: 1.5\"/>\n   </g>\n   <g id=\"line2d_59\">\n    <path d=\"M 34.954394 13.5 \nL 44.698573 13.537399 \nL 54.442752 13.579457 \nL 64.186931 13.619823 \nL 73.93111 13.680578 \nL 83.675289 13.762427 \nL 93.419468 13.906852 \nL 103.163647 14.182267 \nL 112.907826 14.880014 \nL 122.652006 17.724247 \n\" clip-path=\"url(#pd79ded0ab6)\" style=\"fill: none; stroke: #1f77b4; stroke-width: 1.5; stroke-linecap: square\"/>\n   </g>\n   <g id=\"line2d_60\">\n    <path d=\"M 49.633125 13.562518 \nL 69.163125 13.65347 \nL 88.693125 13.829532 \nL 108.223125 14.42667 \n\" clip-path=\"url(#pd79ded0ab6)\" style=\"fill: none; stroke-dasharray: 5.55,2.4; stroke-dashoffset: 0; stroke: #ff7f0e; stroke-width: 1.5\"/>\n   </g>\n   <g id=\"line2d_61\">\n    <path d=\"M 49.633125 136.183223 \nL 69.163125 139.5 \nL 88.693125 127.851661 \nL 108.223125 128.672365 \n\" clip-path=\"url(#pd79ded0ab6)\" style=\"fill: none; stroke-dasharray: 9.6,2.4,1.5,2.4; stroke-dashoffset: 0; stroke: #2ca02c; stroke-width: 1.5\"/>\n   </g>\n   <g id=\"line2d_62\">\n    <path d=\"M 34.954394 13.5 \nL 44.698573 13.537399 \nL 54.442752 13.579457 \nL 64.186931 13.619823 \nL 73.93111 13.680578 \nL 83.675289 13.762427 \nL 93.419468 13.906852 \nL 103.163647 14.182267 \nL 112.907826 14.880014 \nL 122.652006 17.724247 \n\" clip-path=\"url(#pd79ded0ab6)\" style=\"fill: none; stroke: #1f77b4; stroke-width: 1.5; stroke-linecap: square\"/>\n   </g>\n   <g id=\"line2d_63\">\n    <path d=\"M 49.633125 13.562518 \nL 69.163125 13.65347 \nL 88.693125 13.829532 \nL 108.223125 14.42667 \nL 127.753125 22.444695 \n\" clip-path=\"url(#pd79ded0ab6)\" style=\"fill: none; stroke-dasharray: 5.55,2.4; stroke-dashoffset: 0; stroke: #ff7f0e; stroke-width: 1.5\"/>\n   </g>\n   <g id=\"line2d_64\">\n    <path d=\"M 49.633125 136.183223 \nL 69.163125 139.5 \nL 88.693125 127.851661 \nL 108.223125 128.672365 \n\" clip-path=\"url(#pd79ded0ab6)\" style=\"fill: none; stroke-dasharray: 9.6,2.4,1.5,2.4; stroke-dashoffset: 0; stroke: #2ca02c; stroke-width: 1.5\"/>\n   </g>\n   <g id=\"line2d_65\">\n    <path d=\"M 34.954394 13.5 \nL 44.698573 13.537399 \nL 54.442752 13.579457 \nL 64.186931 13.619823 \nL 73.93111 13.680578 \nL 83.675289 13.762427 \nL 93.419468 13.906852 \nL 103.163647 14.182267 \nL 112.907826 14.880014 \nL 122.652006 17.724247 \n\" clip-path=\"url(#pd79ded0ab6)\" style=\"fill: none; stroke: #1f77b4; stroke-width: 1.5; stroke-linecap: square\"/>\n   </g>\n   <g id=\"line2d_66\">\n    <path d=\"M 49.633125 13.562518 \nL 69.163125 13.65347 \nL 88.693125 13.829532 \nL 108.223125 14.42667 \nL 127.753125 22.444695 \n\" clip-path=\"url(#pd79ded0ab6)\" style=\"fill: none; stroke-dasharray: 5.55,2.4; stroke-dashoffset: 0; stroke: #ff7f0e; stroke-width: 1.5\"/>\n   </g>\n   <g id=\"line2d_67\">\n    <path d=\"M 49.633125 136.183223 \nL 69.163125 139.5 \nL 88.693125 127.851661 \nL 108.223125 128.672365 \nL 127.753125 127.008317 \n\" clip-path=\"url(#pd79ded0ab6)\" style=\"fill: none; stroke-dasharray: 9.6,2.4,1.5,2.4; stroke-dashoffset: 0; stroke: #2ca02c; stroke-width: 1.5\"/>\n   </g>\n   <g id=\"line2d_68\">\n    <path d=\"M 34.954394 13.5 \nL 44.698573 13.537399 \nL 54.442752 13.579457 \nL 64.186931 13.619823 \nL 73.93111 13.680578 \nL 83.675289 13.762427 \nL 93.419468 13.906852 \nL 103.163647 14.182267 \nL 112.907826 14.880014 \nL 122.652006 17.724247 \nL 132.396185 36.960948 \n\" clip-path=\"url(#pd79ded0ab6)\" style=\"fill: none; stroke: #1f77b4; stroke-width: 1.5; stroke-linecap: square\"/>\n   </g>\n   <g id=\"line2d_69\">\n    <path d=\"M 49.633125 13.562518 \nL 69.163125 13.65347 \nL 88.693125 13.829532 \nL 108.223125 14.42667 \nL 127.753125 22.444695 \n\" clip-path=\"url(#pd79ded0ab6)\" style=\"fill: none; stroke-dasharray: 5.55,2.4; stroke-dashoffset: 0; stroke: #ff7f0e; stroke-width: 1.5\"/>\n   </g>\n   <g id=\"line2d_70\">\n    <path d=\"M 49.633125 136.183223 \nL 69.163125 139.5 \nL 88.693125 127.851661 \nL 108.223125 128.672365 \nL 127.753125 127.008317 \n\" clip-path=\"url(#pd79ded0ab6)\" style=\"fill: none; stroke-dasharray: 9.6,2.4,1.5,2.4; stroke-dashoffset: 0; stroke: #2ca02c; stroke-width: 1.5\"/>\n   </g>\n   <g id=\"line2d_71\">\n    <path d=\"M 34.954394 13.5 \nL 44.698573 13.537399 \nL 54.442752 13.579457 \nL 64.186931 13.619823 \nL 73.93111 13.680578 \nL 83.675289 13.762427 \nL 93.419468 13.906852 \nL 103.163647 14.182267 \nL 112.907826 14.880014 \nL 122.652006 17.724247 \nL 132.396185 36.960948 \nL 142.140364 73.181324 \n\" clip-path=\"url(#pd79ded0ab6)\" style=\"fill: none; stroke: #1f77b4; stroke-width: 1.5; stroke-linecap: square\"/>\n   </g>\n   <g id=\"line2d_72\">\n    <path d=\"M 49.633125 13.562518 \nL 69.163125 13.65347 \nL 88.693125 13.829532 \nL 108.223125 14.42667 \nL 127.753125 22.444695 \n\" clip-path=\"url(#pd79ded0ab6)\" style=\"fill: none; stroke-dasharray: 5.55,2.4; stroke-dashoffset: 0; stroke: #ff7f0e; stroke-width: 1.5\"/>\n   </g>\n   <g id=\"line2d_73\">\n    <path d=\"M 49.633125 136.183223 \nL 69.163125 139.5 \nL 88.693125 127.851661 \nL 108.223125 128.672365 \nL 127.753125 127.008317 \n\" clip-path=\"url(#pd79ded0ab6)\" style=\"fill: none; stroke-dasharray: 9.6,2.4,1.5,2.4; stroke-dashoffset: 0; stroke: #2ca02c; stroke-width: 1.5\"/>\n   </g>\n   <g id=\"line2d_74\">\n    <path d=\"M 34.954394 13.5 \nL 44.698573 13.537399 \nL 54.442752 13.579457 \nL 64.186931 13.619823 \nL 73.93111 13.680578 \nL 83.675289 13.762427 \nL 93.419468 13.906852 \nL 103.163647 14.182267 \nL 112.907826 14.880014 \nL 122.652006 17.724247 \nL 132.396185 36.960948 \nL 142.140364 73.181324 \n\" clip-path=\"url(#pd79ded0ab6)\" style=\"fill: none; stroke: #1f77b4; stroke-width: 1.5; stroke-linecap: square\"/>\n   </g>\n   <g id=\"line2d_75\">\n    <path d=\"M 49.633125 13.562518 \nL 69.163125 13.65347 \nL 88.693125 13.829532 \nL 108.223125 14.42667 \nL 127.753125 22.444695 \nL 147.283125 84.864886 \n\" clip-path=\"url(#pd79ded0ab6)\" style=\"fill: none; stroke-dasharray: 5.55,2.4; stroke-dashoffset: 0; stroke: #ff7f0e; stroke-width: 1.5\"/>\n   </g>\n   <g id=\"line2d_76\">\n    <path d=\"M 49.633125 136.183223 \nL 69.163125 139.5 \nL 88.693125 127.851661 \nL 108.223125 128.672365 \nL 127.753125 127.008317 \n\" clip-path=\"url(#pd79ded0ab6)\" style=\"fill: none; stroke-dasharray: 9.6,2.4,1.5,2.4; stroke-dashoffset: 0; stroke: #2ca02c; stroke-width: 1.5\"/>\n   </g>\n   <g id=\"line2d_77\">\n    <path d=\"M 34.954394 13.5 \nL 44.698573 13.537399 \nL 54.442752 13.579457 \nL 64.186931 13.619823 \nL 73.93111 13.680578 \nL 83.675289 13.762427 \nL 93.419468 13.906852 \nL 103.163647 14.182267 \nL 112.907826 14.880014 \nL 122.652006 17.724247 \nL 132.396185 36.960948 \nL 142.140364 73.181324 \n\" clip-path=\"url(#pd79ded0ab6)\" style=\"fill: none; stroke: #1f77b4; stroke-width: 1.5; stroke-linecap: square\"/>\n   </g>\n   <g id=\"line2d_78\">\n    <path d=\"M 49.633125 13.562518 \nL 69.163125 13.65347 \nL 88.693125 13.829532 \nL 108.223125 14.42667 \nL 127.753125 22.444695 \nL 147.283125 84.864886 \n\" clip-path=\"url(#pd79ded0ab6)\" style=\"fill: none; stroke-dasharray: 5.55,2.4; stroke-dashoffset: 0; stroke: #ff7f0e; stroke-width: 1.5\"/>\n   </g>\n   <g id=\"line2d_79\">\n    <path d=\"M 49.633125 136.183223 \nL 69.163125 139.5 \nL 88.693125 127.851661 \nL 108.223125 128.672365 \nL 127.753125 127.008317 \nL 147.283125 114.358153 \n\" clip-path=\"url(#pd79ded0ab6)\" style=\"fill: none; stroke-dasharray: 9.6,2.4,1.5,2.4; stroke-dashoffset: 0; stroke: #2ca02c; stroke-width: 1.5\"/>\n   </g>\n   <g id=\"line2d_80\">\n    <path d=\"M 34.954394 13.5 \nL 44.698573 13.537399 \nL 54.442752 13.579457 \nL 64.186931 13.619823 \nL 73.93111 13.680578 \nL 83.675289 13.762427 \nL 93.419468 13.906852 \nL 103.163647 14.182267 \nL 112.907826 14.880014 \nL 122.652006 17.724247 \nL 132.396185 36.960948 \nL 142.140364 73.181324 \nL 151.884543 91.270339 \n\" clip-path=\"url(#pd79ded0ab6)\" style=\"fill: none; stroke: #1f77b4; stroke-width: 1.5; stroke-linecap: square\"/>\n   </g>\n   <g id=\"line2d_81\">\n    <path d=\"M 49.633125 13.562518 \nL 69.163125 13.65347 \nL 88.693125 13.829532 \nL 108.223125 14.42667 \nL 127.753125 22.444695 \nL 147.283125 84.864886 \n\" clip-path=\"url(#pd79ded0ab6)\" style=\"fill: none; stroke-dasharray: 5.55,2.4; stroke-dashoffset: 0; stroke: #ff7f0e; stroke-width: 1.5\"/>\n   </g>\n   <g id=\"line2d_82\">\n    <path d=\"M 49.633125 136.183223 \nL 69.163125 139.5 \nL 88.693125 127.851661 \nL 108.223125 128.672365 \nL 127.753125 127.008317 \nL 147.283125 114.358153 \n\" clip-path=\"url(#pd79ded0ab6)\" style=\"fill: none; stroke-dasharray: 9.6,2.4,1.5,2.4; stroke-dashoffset: 0; stroke: #2ca02c; stroke-width: 1.5\"/>\n   </g>\n   <g id=\"line2d_83\">\n    <path d=\"M 34.954394 13.5 \nL 44.698573 13.537399 \nL 54.442752 13.579457 \nL 64.186931 13.619823 \nL 73.93111 13.680578 \nL 83.675289 13.762427 \nL 93.419468 13.906852 \nL 103.163647 14.182267 \nL 112.907826 14.880014 \nL 122.652006 17.724247 \nL 132.396185 36.960948 \nL 142.140364 73.181324 \nL 151.884543 91.270339 \nL 161.628722 99.221322 \n\" clip-path=\"url(#pd79ded0ab6)\" style=\"fill: none; stroke: #1f77b4; stroke-width: 1.5; stroke-linecap: square\"/>\n   </g>\n   <g id=\"line2d_84\">\n    <path d=\"M 49.633125 13.562518 \nL 69.163125 13.65347 \nL 88.693125 13.829532 \nL 108.223125 14.42667 \nL 127.753125 22.444695 \nL 147.283125 84.864886 \n\" clip-path=\"url(#pd79ded0ab6)\" style=\"fill: none; stroke-dasharray: 5.55,2.4; stroke-dashoffset: 0; stroke: #ff7f0e; stroke-width: 1.5\"/>\n   </g>\n   <g id=\"line2d_85\">\n    <path d=\"M 49.633125 136.183223 \nL 69.163125 139.5 \nL 88.693125 127.851661 \nL 108.223125 128.672365 \nL 127.753125 127.008317 \nL 147.283125 114.358153 \n\" clip-path=\"url(#pd79ded0ab6)\" style=\"fill: none; stroke-dasharray: 9.6,2.4,1.5,2.4; stroke-dashoffset: 0; stroke: #2ca02c; stroke-width: 1.5\"/>\n   </g>\n   <g id=\"line2d_86\">\n    <path d=\"M 34.954394 13.5 \nL 44.698573 13.537399 \nL 54.442752 13.579457 \nL 64.186931 13.619823 \nL 73.93111 13.680578 \nL 83.675289 13.762427 \nL 93.419468 13.906852 \nL 103.163647 14.182267 \nL 112.907826 14.880014 \nL 122.652006 17.724247 \nL 132.396185 36.960948 \nL 142.140364 73.181324 \nL 151.884543 91.270339 \nL 161.628722 99.221322 \n\" clip-path=\"url(#pd79ded0ab6)\" style=\"fill: none; stroke: #1f77b4; stroke-width: 1.5; stroke-linecap: square\"/>\n   </g>\n   <g id=\"line2d_87\">\n    <path d=\"M 49.633125 13.562518 \nL 69.163125 13.65347 \nL 88.693125 13.829532 \nL 108.223125 14.42667 \nL 127.753125 22.444695 \nL 147.283125 84.864886 \nL 166.813125 98.27726 \n\" clip-path=\"url(#pd79ded0ab6)\" style=\"fill: none; stroke-dasharray: 5.55,2.4; stroke-dashoffset: 0; stroke: #ff7f0e; stroke-width: 1.5\"/>\n   </g>\n   <g id=\"line2d_88\">\n    <path d=\"M 49.633125 136.183223 \nL 69.163125 139.5 \nL 88.693125 127.851661 \nL 108.223125 128.672365 \nL 127.753125 127.008317 \nL 147.283125 114.358153 \n\" clip-path=\"url(#pd79ded0ab6)\" style=\"fill: none; stroke-dasharray: 9.6,2.4,1.5,2.4; stroke-dashoffset: 0; stroke: #2ca02c; stroke-width: 1.5\"/>\n   </g>\n   <g id=\"line2d_89\">\n    <path d=\"M 34.954394 13.5 \nL 44.698573 13.537399 \nL 54.442752 13.579457 \nL 64.186931 13.619823 \nL 73.93111 13.680578 \nL 83.675289 13.762427 \nL 93.419468 13.906852 \nL 103.163647 14.182267 \nL 112.907826 14.880014 \nL 122.652006 17.724247 \nL 132.396185 36.960948 \nL 142.140364 73.181324 \nL 151.884543 91.270339 \nL 161.628722 99.221322 \n\" clip-path=\"url(#pd79ded0ab6)\" style=\"fill: none; stroke: #1f77b4; stroke-width: 1.5; stroke-linecap: square\"/>\n   </g>\n   <g id=\"line2d_90\">\n    <path d=\"M 49.633125 13.562518 \nL 69.163125 13.65347 \nL 88.693125 13.829532 \nL 108.223125 14.42667 \nL 127.753125 22.444695 \nL 147.283125 84.864886 \nL 166.813125 98.27726 \n\" clip-path=\"url(#pd79ded0ab6)\" style=\"fill: none; stroke-dasharray: 5.55,2.4; stroke-dashoffset: 0; stroke: #ff7f0e; stroke-width: 1.5\"/>\n   </g>\n   <g id=\"line2d_91\">\n    <path d=\"M 49.633125 136.183223 \nL 69.163125 139.5 \nL 88.693125 127.851661 \nL 108.223125 128.672365 \nL 127.753125 127.008317 \nL 147.283125 114.358153 \nL 166.813125 104.996465 \n\" clip-path=\"url(#pd79ded0ab6)\" style=\"fill: none; stroke-dasharray: 9.6,2.4,1.5,2.4; stroke-dashoffset: 0; stroke: #2ca02c; stroke-width: 1.5\"/>\n   </g>\n   <g id=\"line2d_92\">\n    <path d=\"M 34.954394 13.5 \nL 44.698573 13.537399 \nL 54.442752 13.579457 \nL 64.186931 13.619823 \nL 73.93111 13.680578 \nL 83.675289 13.762427 \nL 93.419468 13.906852 \nL 103.163647 14.182267 \nL 112.907826 14.880014 \nL 122.652006 17.724247 \nL 132.396185 36.960948 \nL 142.140364 73.181324 \nL 151.884543 91.270339 \nL 161.628722 99.221322 \nL 171.372901 104.349014 \n\" clip-path=\"url(#pd79ded0ab6)\" style=\"fill: none; stroke: #1f77b4; stroke-width: 1.5; stroke-linecap: square\"/>\n   </g>\n   <g id=\"line2d_93\">\n    <path d=\"M 49.633125 13.562518 \nL 69.163125 13.65347 \nL 88.693125 13.829532 \nL 108.223125 14.42667 \nL 127.753125 22.444695 \nL 147.283125 84.864886 \nL 166.813125 98.27726 \n\" clip-path=\"url(#pd79ded0ab6)\" style=\"fill: none; stroke-dasharray: 5.55,2.4; stroke-dashoffset: 0; stroke: #ff7f0e; stroke-width: 1.5\"/>\n   </g>\n   <g id=\"line2d_94\">\n    <path d=\"M 49.633125 136.183223 \nL 69.163125 139.5 \nL 88.693125 127.851661 \nL 108.223125 128.672365 \nL 127.753125 127.008317 \nL 147.283125 114.358153 \nL 166.813125 104.996465 \n\" clip-path=\"url(#pd79ded0ab6)\" style=\"fill: none; stroke-dasharray: 9.6,2.4,1.5,2.4; stroke-dashoffset: 0; stroke: #2ca02c; stroke-width: 1.5\"/>\n   </g>\n   <g id=\"line2d_95\">\n    <path d=\"M 34.954394 13.5 \nL 44.698573 13.537399 \nL 54.442752 13.579457 \nL 64.186931 13.619823 \nL 73.93111 13.680578 \nL 83.675289 13.762427 \nL 93.419468 13.906852 \nL 103.163647 14.182267 \nL 112.907826 14.880014 \nL 122.652006 17.724247 \nL 132.396185 36.960948 \nL 142.140364 73.181324 \nL 151.884543 91.270339 \nL 161.628722 99.221322 \nL 171.372901 104.349014 \nL 181.11708 107.538951 \n\" clip-path=\"url(#pd79ded0ab6)\" style=\"fill: none; stroke: #1f77b4; stroke-width: 1.5; stroke-linecap: square\"/>\n   </g>\n   <g id=\"line2d_96\">\n    <path d=\"M 49.633125 13.562518 \nL 69.163125 13.65347 \nL 88.693125 13.829532 \nL 108.223125 14.42667 \nL 127.753125 22.444695 \nL 147.283125 84.864886 \nL 166.813125 98.27726 \n\" clip-path=\"url(#pd79ded0ab6)\" style=\"fill: none; stroke-dasharray: 5.55,2.4; stroke-dashoffset: 0; stroke: #ff7f0e; stroke-width: 1.5\"/>\n   </g>\n   <g id=\"line2d_97\">\n    <path d=\"M 49.633125 136.183223 \nL 69.163125 139.5 \nL 88.693125 127.851661 \nL 108.223125 128.672365 \nL 127.753125 127.008317 \nL 147.283125 114.358153 \nL 166.813125 104.996465 \n\" clip-path=\"url(#pd79ded0ab6)\" style=\"fill: none; stroke-dasharray: 9.6,2.4,1.5,2.4; stroke-dashoffset: 0; stroke: #2ca02c; stroke-width: 1.5\"/>\n   </g>\n   <g id=\"line2d_98\">\n    <path d=\"M 34.954394 13.5 \nL 44.698573 13.537399 \nL 54.442752 13.579457 \nL 64.186931 13.619823 \nL 73.93111 13.680578 \nL 83.675289 13.762427 \nL 93.419468 13.906852 \nL 103.163647 14.182267 \nL 112.907826 14.880014 \nL 122.652006 17.724247 \nL 132.396185 36.960948 \nL 142.140364 73.181324 \nL 151.884543 91.270339 \nL 161.628722 99.221322 \nL 171.372901 104.349014 \nL 181.11708 107.538951 \n\" clip-path=\"url(#pd79ded0ab6)\" style=\"fill: none; stroke: #1f77b4; stroke-width: 1.5; stroke-linecap: square\"/>\n   </g>\n   <g id=\"line2d_99\">\n    <path d=\"M 49.633125 13.562518 \nL 69.163125 13.65347 \nL 88.693125 13.829532 \nL 108.223125 14.42667 \nL 127.753125 22.444695 \nL 147.283125 84.864886 \nL 166.813125 98.27726 \nL 186.343125 107.001872 \n\" clip-path=\"url(#pd79ded0ab6)\" style=\"fill: none; stroke-dasharray: 5.55,2.4; stroke-dashoffset: 0; stroke: #ff7f0e; stroke-width: 1.5\"/>\n   </g>\n   <g id=\"line2d_100\">\n    <path d=\"M 49.633125 136.183223 \nL 69.163125 139.5 \nL 88.693125 127.851661 \nL 108.223125 128.672365 \nL 127.753125 127.008317 \nL 147.283125 114.358153 \nL 166.813125 104.996465 \n\" clip-path=\"url(#pd79ded0ab6)\" style=\"fill: none; stroke-dasharray: 9.6,2.4,1.5,2.4; stroke-dashoffset: 0; stroke: #2ca02c; stroke-width: 1.5\"/>\n   </g>\n   <g id=\"line2d_101\">\n    <path d=\"M 34.954394 13.5 \nL 44.698573 13.537399 \nL 54.442752 13.579457 \nL 64.186931 13.619823 \nL 73.93111 13.680578 \nL 83.675289 13.762427 \nL 93.419468 13.906852 \nL 103.163647 14.182267 \nL 112.907826 14.880014 \nL 122.652006 17.724247 \nL 132.396185 36.960948 \nL 142.140364 73.181324 \nL 151.884543 91.270339 \nL 161.628722 99.221322 \nL 171.372901 104.349014 \nL 181.11708 107.538951 \n\" clip-path=\"url(#pd79ded0ab6)\" style=\"fill: none; stroke: #1f77b4; stroke-width: 1.5; stroke-linecap: square\"/>\n   </g>\n   <g id=\"line2d_102\">\n    <path d=\"M 49.633125 13.562518 \nL 69.163125 13.65347 \nL 88.693125 13.829532 \nL 108.223125 14.42667 \nL 127.753125 22.444695 \nL 147.283125 84.864886 \nL 166.813125 98.27726 \nL 186.343125 107.001872 \n\" clip-path=\"url(#pd79ded0ab6)\" style=\"fill: none; stroke-dasharray: 5.55,2.4; stroke-dashoffset: 0; stroke: #ff7f0e; stroke-width: 1.5\"/>\n   </g>\n   <g id=\"line2d_103\">\n    <path d=\"M 49.633125 136.183223 \nL 69.163125 139.5 \nL 88.693125 127.851661 \nL 108.223125 128.672365 \nL 127.753125 127.008317 \nL 147.283125 114.358153 \nL 166.813125 104.996465 \nL 186.343125 102.387192 \n\" clip-path=\"url(#pd79ded0ab6)\" style=\"fill: none; stroke-dasharray: 9.6,2.4,1.5,2.4; stroke-dashoffset: 0; stroke: #2ca02c; stroke-width: 1.5\"/>\n   </g>\n   <g id=\"line2d_104\">\n    <path d=\"M 34.954394 13.5 \nL 44.698573 13.537399 \nL 54.442752 13.579457 \nL 64.186931 13.619823 \nL 73.93111 13.680578 \nL 83.675289 13.762427 \nL 93.419468 13.906852 \nL 103.163647 14.182267 \nL 112.907826 14.880014 \nL 122.652006 17.724247 \nL 132.396185 36.960948 \nL 142.140364 73.181324 \nL 151.884543 91.270339 \nL 161.628722 99.221322 \nL 171.372901 104.349014 \nL 181.11708 107.538951 \nL 190.861259 110.395911 \n\" clip-path=\"url(#pd79ded0ab6)\" style=\"fill: none; stroke: #1f77b4; stroke-width: 1.5; stroke-linecap: square\"/>\n   </g>\n   <g id=\"line2d_105\">\n    <path d=\"M 49.633125 13.562518 \nL 69.163125 13.65347 \nL 88.693125 13.829532 \nL 108.223125 14.42667 \nL 127.753125 22.444695 \nL 147.283125 84.864886 \nL 166.813125 98.27726 \nL 186.343125 107.001872 \n\" clip-path=\"url(#pd79ded0ab6)\" style=\"fill: none; stroke-dasharray: 5.55,2.4; stroke-dashoffset: 0; stroke: #ff7f0e; stroke-width: 1.5\"/>\n   </g>\n   <g id=\"line2d_106\">\n    <path d=\"M 49.633125 136.183223 \nL 69.163125 139.5 \nL 88.693125 127.851661 \nL 108.223125 128.672365 \nL 127.753125 127.008317 \nL 147.283125 114.358153 \nL 166.813125 104.996465 \nL 186.343125 102.387192 \n\" clip-path=\"url(#pd79ded0ab6)\" style=\"fill: none; stroke-dasharray: 9.6,2.4,1.5,2.4; stroke-dashoffset: 0; stroke: #2ca02c; stroke-width: 1.5\"/>\n   </g>\n   <g id=\"line2d_107\">\n    <path d=\"M 34.954394 13.5 \nL 44.698573 13.537399 \nL 54.442752 13.579457 \nL 64.186931 13.619823 \nL 73.93111 13.680578 \nL 83.675289 13.762427 \nL 93.419468 13.906852 \nL 103.163647 14.182267 \nL 112.907826 14.880014 \nL 122.652006 17.724247 \nL 132.396185 36.960948 \nL 142.140364 73.181324 \nL 151.884543 91.270339 \nL 161.628722 99.221322 \nL 171.372901 104.349014 \nL 181.11708 107.538951 \nL 190.861259 110.395911 \nL 200.605438 112.197742 \n\" clip-path=\"url(#pd79ded0ab6)\" style=\"fill: none; stroke: #1f77b4; stroke-width: 1.5; stroke-linecap: square\"/>\n   </g>\n   <g id=\"line2d_108\">\n    <path d=\"M 49.633125 13.562518 \nL 69.163125 13.65347 \nL 88.693125 13.829532 \nL 108.223125 14.42667 \nL 127.753125 22.444695 \nL 147.283125 84.864886 \nL 166.813125 98.27726 \nL 186.343125 107.001872 \n\" clip-path=\"url(#pd79ded0ab6)\" style=\"fill: none; stroke-dasharray: 5.55,2.4; stroke-dashoffset: 0; stroke: #ff7f0e; stroke-width: 1.5\"/>\n   </g>\n   <g id=\"line2d_109\">\n    <path d=\"M 49.633125 136.183223 \nL 69.163125 139.5 \nL 88.693125 127.851661 \nL 108.223125 128.672365 \nL 127.753125 127.008317 \nL 147.283125 114.358153 \nL 166.813125 104.996465 \nL 186.343125 102.387192 \n\" clip-path=\"url(#pd79ded0ab6)\" style=\"fill: none; stroke-dasharray: 9.6,2.4,1.5,2.4; stroke-dashoffset: 0; stroke: #2ca02c; stroke-width: 1.5\"/>\n   </g>\n   <g id=\"line2d_110\">\n    <path d=\"M 34.954394 13.5 \nL 44.698573 13.537399 \nL 54.442752 13.579457 \nL 64.186931 13.619823 \nL 73.93111 13.680578 \nL 83.675289 13.762427 \nL 93.419468 13.906852 \nL 103.163647 14.182267 \nL 112.907826 14.880014 \nL 122.652006 17.724247 \nL 132.396185 36.960948 \nL 142.140364 73.181324 \nL 151.884543 91.270339 \nL 161.628722 99.221322 \nL 171.372901 104.349014 \nL 181.11708 107.538951 \nL 190.861259 110.395911 \nL 200.605438 112.197742 \n\" clip-path=\"url(#pd79ded0ab6)\" style=\"fill: none; stroke: #1f77b4; stroke-width: 1.5; stroke-linecap: square\"/>\n   </g>\n   <g id=\"line2d_111\">\n    <path d=\"M 49.633125 13.562518 \nL 69.163125 13.65347 \nL 88.693125 13.829532 \nL 108.223125 14.42667 \nL 127.753125 22.444695 \nL 147.283125 84.864886 \nL 166.813125 98.27726 \nL 186.343125 107.001872 \nL 205.873125 109.168927 \n\" clip-path=\"url(#pd79ded0ab6)\" style=\"fill: none; stroke-dasharray: 5.55,2.4; stroke-dashoffset: 0; stroke: #ff7f0e; stroke-width: 1.5\"/>\n   </g>\n   <g id=\"line2d_112\">\n    <path d=\"M 49.633125 136.183223 \nL 69.163125 139.5 \nL 88.693125 127.851661 \nL 108.223125 128.672365 \nL 127.753125 127.008317 \nL 147.283125 114.358153 \nL 166.813125 104.996465 \nL 186.343125 102.387192 \n\" clip-path=\"url(#pd79ded0ab6)\" style=\"fill: none; stroke-dasharray: 9.6,2.4,1.5,2.4; stroke-dashoffset: 0; stroke: #2ca02c; stroke-width: 1.5\"/>\n   </g>\n   <g id=\"line2d_113\">\n    <path d=\"M 34.954394 13.5 \nL 44.698573 13.537399 \nL 54.442752 13.579457 \nL 64.186931 13.619823 \nL 73.93111 13.680578 \nL 83.675289 13.762427 \nL 93.419468 13.906852 \nL 103.163647 14.182267 \nL 112.907826 14.880014 \nL 122.652006 17.724247 \nL 132.396185 36.960948 \nL 142.140364 73.181324 \nL 151.884543 91.270339 \nL 161.628722 99.221322 \nL 171.372901 104.349014 \nL 181.11708 107.538951 \nL 190.861259 110.395911 \nL 200.605438 112.197742 \n\" clip-path=\"url(#pd79ded0ab6)\" style=\"fill: none; stroke: #1f77b4; stroke-width: 1.5; stroke-linecap: square\"/>\n   </g>\n   <g id=\"line2d_114\">\n    <path d=\"M 49.633125 13.562518 \nL 69.163125 13.65347 \nL 88.693125 13.829532 \nL 108.223125 14.42667 \nL 127.753125 22.444695 \nL 147.283125 84.864886 \nL 166.813125 98.27726 \nL 186.343125 107.001872 \nL 205.873125 109.168927 \n\" clip-path=\"url(#pd79ded0ab6)\" style=\"fill: none; stroke-dasharray: 5.55,2.4; stroke-dashoffset: 0; stroke: #ff7f0e; stroke-width: 1.5\"/>\n   </g>\n   <g id=\"line2d_115\">\n    <path d=\"M 49.633125 136.183223 \nL 69.163125 139.5 \nL 88.693125 127.851661 \nL 108.223125 128.672365 \nL 127.753125 127.008317 \nL 147.283125 114.358153 \nL 166.813125 104.996465 \nL 186.343125 102.387192 \nL 205.873125 101.311786 \n\" clip-path=\"url(#pd79ded0ab6)\" style=\"fill: none; stroke-dasharray: 9.6,2.4,1.5,2.4; stroke-dashoffset: 0; stroke: #2ca02c; stroke-width: 1.5\"/>\n   </g>\n   <g id=\"line2d_116\">\n    <path d=\"M 34.954394 13.5 \nL 44.698573 13.537399 \nL 54.442752 13.579457 \nL 64.186931 13.619823 \nL 73.93111 13.680578 \nL 83.675289 13.762427 \nL 93.419468 13.906852 \nL 103.163647 14.182267 \nL 112.907826 14.880014 \nL 122.652006 17.724247 \nL 132.396185 36.960948 \nL 142.140364 73.181324 \nL 151.884543 91.270339 \nL 161.628722 99.221322 \nL 171.372901 104.349014 \nL 181.11708 107.538951 \nL 190.861259 110.395911 \nL 200.605438 112.197742 \nL 210.349618 114.003694 \n\" clip-path=\"url(#pd79ded0ab6)\" style=\"fill: none; stroke: #1f77b4; stroke-width: 1.5; stroke-linecap: square\"/>\n   </g>\n   <g id=\"line2d_117\">\n    <path d=\"M 49.633125 13.562518 \nL 69.163125 13.65347 \nL 88.693125 13.829532 \nL 108.223125 14.42667 \nL 127.753125 22.444695 \nL 147.283125 84.864886 \nL 166.813125 98.27726 \nL 186.343125 107.001872 \nL 205.873125 109.168927 \n\" clip-path=\"url(#pd79ded0ab6)\" style=\"fill: none; stroke-dasharray: 5.55,2.4; stroke-dashoffset: 0; stroke: #ff7f0e; stroke-width: 1.5\"/>\n   </g>\n   <g id=\"line2d_118\">\n    <path d=\"M 49.633125 136.183223 \nL 69.163125 139.5 \nL 88.693125 127.851661 \nL 108.223125 128.672365 \nL 127.753125 127.008317 \nL 147.283125 114.358153 \nL 166.813125 104.996465 \nL 186.343125 102.387192 \nL 205.873125 101.311786 \n\" clip-path=\"url(#pd79ded0ab6)\" style=\"fill: none; stroke-dasharray: 9.6,2.4,1.5,2.4; stroke-dashoffset: 0; stroke: #2ca02c; stroke-width: 1.5\"/>\n   </g>\n   <g id=\"line2d_119\">\n    <path d=\"M 34.954394 13.5 \nL 44.698573 13.537399 \nL 54.442752 13.579457 \nL 64.186931 13.619823 \nL 73.93111 13.680578 \nL 83.675289 13.762427 \nL 93.419468 13.906852 \nL 103.163647 14.182267 \nL 112.907826 14.880014 \nL 122.652006 17.724247 \nL 132.396185 36.960948 \nL 142.140364 73.181324 \nL 151.884543 91.270339 \nL 161.628722 99.221322 \nL 171.372901 104.349014 \nL 181.11708 107.538951 \nL 190.861259 110.395911 \nL 200.605438 112.197742 \nL 210.349618 114.003694 \nL 220.093797 115.511879 \n\" clip-path=\"url(#pd79ded0ab6)\" style=\"fill: none; stroke: #1f77b4; stroke-width: 1.5; stroke-linecap: square\"/>\n   </g>\n   <g id=\"line2d_120\">\n    <path d=\"M 49.633125 13.562518 \nL 69.163125 13.65347 \nL 88.693125 13.829532 \nL 108.223125 14.42667 \nL 127.753125 22.444695 \nL 147.283125 84.864886 \nL 166.813125 98.27726 \nL 186.343125 107.001872 \nL 205.873125 109.168927 \n\" clip-path=\"url(#pd79ded0ab6)\" style=\"fill: none; stroke-dasharray: 5.55,2.4; stroke-dashoffset: 0; stroke: #ff7f0e; stroke-width: 1.5\"/>\n   </g>\n   <g id=\"line2d_121\">\n    <path d=\"M 49.633125 136.183223 \nL 69.163125 139.5 \nL 88.693125 127.851661 \nL 108.223125 128.672365 \nL 127.753125 127.008317 \nL 147.283125 114.358153 \nL 166.813125 104.996465 \nL 186.343125 102.387192 \nL 205.873125 101.311786 \n\" clip-path=\"url(#pd79ded0ab6)\" style=\"fill: none; stroke-dasharray: 9.6,2.4,1.5,2.4; stroke-dashoffset: 0; stroke: #2ca02c; stroke-width: 1.5\"/>\n   </g>\n   <g id=\"line2d_122\">\n    <path d=\"M 34.954394 13.5 \nL 44.698573 13.537399 \nL 54.442752 13.579457 \nL 64.186931 13.619823 \nL 73.93111 13.680578 \nL 83.675289 13.762427 \nL 93.419468 13.906852 \nL 103.163647 14.182267 \nL 112.907826 14.880014 \nL 122.652006 17.724247 \nL 132.396185 36.960948 \nL 142.140364 73.181324 \nL 151.884543 91.270339 \nL 161.628722 99.221322 \nL 171.372901 104.349014 \nL 181.11708 107.538951 \nL 190.861259 110.395911 \nL 200.605438 112.197742 \nL 210.349618 114.003694 \nL 220.093797 115.511879 \n\" clip-path=\"url(#pd79ded0ab6)\" style=\"fill: none; stroke: #1f77b4; stroke-width: 1.5; stroke-linecap: square\"/>\n   </g>\n   <g id=\"line2d_123\">\n    <path d=\"M 49.633125 13.562518 \nL 69.163125 13.65347 \nL 88.693125 13.829532 \nL 108.223125 14.42667 \nL 127.753125 22.444695 \nL 147.283125 84.864886 \nL 166.813125 98.27726 \nL 186.343125 107.001872 \nL 205.873125 109.168927 \nL 225.403125 112.351518 \n\" clip-path=\"url(#pd79ded0ab6)\" style=\"fill: none; stroke-dasharray: 5.55,2.4; stroke-dashoffset: 0; stroke: #ff7f0e; stroke-width: 1.5\"/>\n   </g>\n   <g id=\"line2d_124\">\n    <path d=\"M 49.633125 136.183223 \nL 69.163125 139.5 \nL 88.693125 127.851661 \nL 108.223125 128.672365 \nL 127.753125 127.008317 \nL 147.283125 114.358153 \nL 166.813125 104.996465 \nL 186.343125 102.387192 \nL 205.873125 101.311786 \n\" clip-path=\"url(#pd79ded0ab6)\" style=\"fill: none; stroke-dasharray: 9.6,2.4,1.5,2.4; stroke-dashoffset: 0; stroke: #2ca02c; stroke-width: 1.5\"/>\n   </g>\n   <g id=\"line2d_125\">\n    <path d=\"M 34.954394 13.5 \nL 44.698573 13.537399 \nL 54.442752 13.579457 \nL 64.186931 13.619823 \nL 73.93111 13.680578 \nL 83.675289 13.762427 \nL 93.419468 13.906852 \nL 103.163647 14.182267 \nL 112.907826 14.880014 \nL 122.652006 17.724247 \nL 132.396185 36.960948 \nL 142.140364 73.181324 \nL 151.884543 91.270339 \nL 161.628722 99.221322 \nL 171.372901 104.349014 \nL 181.11708 107.538951 \nL 190.861259 110.395911 \nL 200.605438 112.197742 \nL 210.349618 114.003694 \nL 220.093797 115.511879 \n\" clip-path=\"url(#pd79ded0ab6)\" style=\"fill: none; stroke: #1f77b4; stroke-width: 1.5; stroke-linecap: square\"/>\n   </g>\n   <g id=\"line2d_126\">\n    <path d=\"M 49.633125 13.562518 \nL 69.163125 13.65347 \nL 88.693125 13.829532 \nL 108.223125 14.42667 \nL 127.753125 22.444695 \nL 147.283125 84.864886 \nL 166.813125 98.27726 \nL 186.343125 107.001872 \nL 205.873125 109.168927 \nL 225.403125 112.351518 \n\" clip-path=\"url(#pd79ded0ab6)\" style=\"fill: none; stroke-dasharray: 5.55,2.4; stroke-dashoffset: 0; stroke: #ff7f0e; stroke-width: 1.5\"/>\n   </g>\n   <g id=\"line2d_127\">\n    <path d=\"M 49.633125 136.183223 \nL 69.163125 139.5 \nL 88.693125 127.851661 \nL 108.223125 128.672365 \nL 127.753125 127.008317 \nL 147.283125 114.358153 \nL 166.813125 104.996465 \nL 186.343125 102.387192 \nL 205.873125 101.311786 \nL 225.403125 100.768424 \n\" clip-path=\"url(#pd79ded0ab6)\" style=\"fill: none; stroke-dasharray: 9.6,2.4,1.5,2.4; stroke-dashoffset: 0; stroke: #2ca02c; stroke-width: 1.5\"/>\n   </g>\n   <g id=\"patch_3\">\n    <path d=\"M 30.103125 145.8 \nL 30.103125 7.2 \n\" style=\"fill: none; stroke: #000000; stroke-width: 0.8; stroke-linejoin: miter; stroke-linecap: square\"/>\n   </g>\n   <g id=\"patch_4\">\n    <path d=\"M 225.403125 145.8 \nL 225.403125 7.2 \n\" style=\"fill: none; stroke: #000000; stroke-width: 0.8; stroke-linejoin: miter; stroke-linecap: square\"/>\n   </g>\n   <g id=\"patch_5\">\n    <path d=\"M 30.103125 145.8 \nL 225.403125 145.8 \n\" style=\"fill: none; stroke: #000000; stroke-width: 0.8; stroke-linejoin: miter; stroke-linecap: square\"/>\n   </g>\n   <g id=\"patch_6\">\n    <path d=\"M 30.103125 7.2 \nL 225.403125 7.2 \n\" style=\"fill: none; stroke: #000000; stroke-width: 0.8; stroke-linejoin: miter; stroke-linecap: square\"/>\n   </g>\n   <g id=\"legend_1\">\n    <g id=\"patch_7\">\n     <path d=\"M 37.103125 100.434375 \nL 116.69375 100.434375 \nQ 118.69375 100.434375 118.69375 98.434375 \nL 118.69375 54.565625 \nQ 118.69375 52.565625 116.69375 52.565625 \nL 37.103125 52.565625 \nQ 35.103125 52.565625 35.103125 54.565625 \nL 35.103125 98.434375 \nQ 35.103125 100.434375 37.103125 100.434375 \nz\n\" style=\"fill: #ffffff; opacity: 0.8; stroke: #cccccc; stroke-linejoin: miter\"/>\n    </g>\n    <g id=\"line2d_128\">\n     <path d=\"M 39.103125 60.664063 \nL 49.103125 60.664063 \nL 59.103125 60.664063 \n\" style=\"fill: none; stroke: #1f77b4; stroke-width: 1.5; stroke-linecap: square\"/>\n    </g>\n    <g id=\"text_13\">\n     <!-- train_loss -->\n     <g transform=\"translate(67.103125 64.164063) scale(0.1 -0.1)\">\n      <defs>\n       <path id=\"DejaVuSans-74\" d=\"M 1172 4494 \nL 1172 3500 \nL 2356 3500 \nL 2356 3053 \nL 1172 3053 \nL 1172 1153 \nQ 1172 725 1289 603 \nQ 1406 481 1766 481 \nL 2356 481 \nL 2356 0 \nL 1766 0 \nQ 1100 0 847 248 \nQ 594 497 594 1153 \nL 594 3053 \nL 172 3053 \nL 172 3500 \nL 594 3500 \nL 594 4494 \nL 1172 4494 \nz\n\" transform=\"scale(0.015625)\"/>\n       <path id=\"DejaVuSans-72\" d=\"M 2631 2963 \nQ 2534 3019 2420 3045 \nQ 2306 3072 2169 3072 \nQ 1681 3072 1420 2755 \nQ 1159 2438 1159 1844 \nL 1159 0 \nL 581 0 \nL 581 3500 \nL 1159 3500 \nL 1159 2956 \nQ 1341 3275 1631 3429 \nQ 1922 3584 2338 3584 \nQ 2397 3584 2469 3576 \nQ 2541 3569 2628 3553 \nL 2631 2963 \nz\n\" transform=\"scale(0.015625)\"/>\n       <path id=\"DejaVuSans-61\" d=\"M 2194 1759 \nQ 1497 1759 1228 1600 \nQ 959 1441 959 1056 \nQ 959 750 1161 570 \nQ 1363 391 1709 391 \nQ 2188 391 2477 730 \nQ 2766 1069 2766 1631 \nL 2766 1759 \nL 2194 1759 \nz\nM 3341 1997 \nL 3341 0 \nL 2766 0 \nL 2766 531 \nQ 2569 213 2275 61 \nQ 1981 -91 1556 -91 \nQ 1019 -91 701 211 \nQ 384 513 384 1019 \nQ 384 1609 779 1909 \nQ 1175 2209 1959 2209 \nL 2766 2209 \nL 2766 2266 \nQ 2766 2663 2505 2880 \nQ 2244 3097 1772 3097 \nQ 1472 3097 1187 3025 \nQ 903 2953 641 2809 \nL 641 3341 \nQ 956 3463 1253 3523 \nQ 1550 3584 1831 3584 \nQ 2591 3584 2966 3190 \nQ 3341 2797 3341 1997 \nz\n\" transform=\"scale(0.015625)\"/>\n       <path id=\"DejaVuSans-69\" d=\"M 603 3500 \nL 1178 3500 \nL 1178 0 \nL 603 0 \nL 603 3500 \nz\nM 603 4863 \nL 1178 4863 \nL 1178 4134 \nL 603 4134 \nL 603 4863 \nz\n\" transform=\"scale(0.015625)\"/>\n       <path id=\"DejaVuSans-6e\" d=\"M 3513 2113 \nL 3513 0 \nL 2938 0 \nL 2938 2094 \nQ 2938 2591 2744 2837 \nQ 2550 3084 2163 3084 \nQ 1697 3084 1428 2787 \nQ 1159 2491 1159 1978 \nL 1159 0 \nL 581 0 \nL 581 3500 \nL 1159 3500 \nL 1159 2956 \nQ 1366 3272 1645 3428 \nQ 1925 3584 2291 3584 \nQ 2894 3584 3203 3211 \nQ 3513 2838 3513 2113 \nz\n\" transform=\"scale(0.015625)\"/>\n       <path id=\"DejaVuSans-5f\" d=\"M 3263 -1063 \nL 3263 -1509 \nL -63 -1509 \nL -63 -1063 \nL 3263 -1063 \nz\n\" transform=\"scale(0.015625)\"/>\n       <path id=\"DejaVuSans-6c\" d=\"M 603 4863 \nL 1178 4863 \nL 1178 0 \nL 603 0 \nL 603 4863 \nz\n\" transform=\"scale(0.015625)\"/>\n       <path id=\"DejaVuSans-73\" d=\"M 2834 3397 \nL 2834 2853 \nQ 2591 2978 2328 3040 \nQ 2066 3103 1784 3103 \nQ 1356 3103 1142 2972 \nQ 928 2841 928 2578 \nQ 928 2378 1081 2264 \nQ 1234 2150 1697 2047 \nL 1894 2003 \nQ 2506 1872 2764 1633 \nQ 3022 1394 3022 966 \nQ 3022 478 2636 193 \nQ 2250 -91 1575 -91 \nQ 1294 -91 989 -36 \nQ 684 19 347 128 \nL 347 722 \nQ 666 556 975 473 \nQ 1284 391 1588 391 \nQ 1994 391 2212 530 \nQ 2431 669 2431 922 \nQ 2431 1156 2273 1281 \nQ 2116 1406 1581 1522 \nL 1381 1569 \nQ 847 1681 609 1914 \nQ 372 2147 372 2553 \nQ 372 3047 722 3315 \nQ 1072 3584 1716 3584 \nQ 2034 3584 2315 3537 \nQ 2597 3491 2834 3397 \nz\n\" transform=\"scale(0.015625)\"/>\n      </defs>\n      <use xlink:href=\"#DejaVuSans-74\"/>\n      <use xlink:href=\"#DejaVuSans-72\" x=\"39.208984\"/>\n      <use xlink:href=\"#DejaVuSans-61\" x=\"80.322266\"/>\n      <use xlink:href=\"#DejaVuSans-69\" x=\"141.601562\"/>\n      <use xlink:href=\"#DejaVuSans-6e\" x=\"169.384766\"/>\n      <use xlink:href=\"#DejaVuSans-5f\" x=\"232.763672\"/>\n      <use xlink:href=\"#DejaVuSans-6c\" x=\"282.763672\"/>\n      <use xlink:href=\"#DejaVuSans-6f\" x=\"310.546875\"/>\n      <use xlink:href=\"#DejaVuSans-73\" x=\"371.728516\"/>\n      <use xlink:href=\"#DejaVuSans-73\" x=\"423.828125\"/>\n     </g>\n    </g>\n    <g id=\"line2d_129\">\n     <path d=\"M 39.103125 75.620313 \nL 49.103125 75.620313 \nL 59.103125 75.620313 \n\" style=\"fill: none; stroke-dasharray: 5.55,2.4; stroke-dashoffset: 0; stroke: #ff7f0e; stroke-width: 1.5\"/>\n    </g>\n    <g id=\"text_14\">\n     <!-- val_loss -->\n     <g transform=\"translate(67.103125 79.120313) scale(0.1 -0.1)\">\n      <defs>\n       <path id=\"DejaVuSans-76\" d=\"M 191 3500 \nL 800 3500 \nL 1894 563 \nL 2988 3500 \nL 3597 3500 \nL 2284 0 \nL 1503 0 \nL 191 3500 \nz\n\" transform=\"scale(0.015625)\"/>\n      </defs>\n      <use xlink:href=\"#DejaVuSans-76\"/>\n      <use xlink:href=\"#DejaVuSans-61\" x=\"59.179688\"/>\n      <use xlink:href=\"#DejaVuSans-6c\" x=\"120.458984\"/>\n      <use xlink:href=\"#DejaVuSans-5f\" x=\"148.242188\"/>\n      <use xlink:href=\"#DejaVuSans-6c\" x=\"198.242188\"/>\n      <use xlink:href=\"#DejaVuSans-6f\" x=\"226.025391\"/>\n      <use xlink:href=\"#DejaVuSans-73\" x=\"287.207031\"/>\n      <use xlink:href=\"#DejaVuSans-73\" x=\"339.306641\"/>\n     </g>\n    </g>\n    <g id=\"line2d_130\">\n     <path d=\"M 39.103125 90.576563 \nL 49.103125 90.576563 \nL 59.103125 90.576563 \n\" style=\"fill: none; stroke-dasharray: 9.6,2.4,1.5,2.4; stroke-dashoffset: 0; stroke: #2ca02c; stroke-width: 1.5\"/>\n    </g>\n    <g id=\"text_15\">\n     <!-- val_acc -->\n     <g transform=\"translate(67.103125 94.076563) scale(0.1 -0.1)\">\n      <use xlink:href=\"#DejaVuSans-76\"/>\n      <use xlink:href=\"#DejaVuSans-61\" x=\"59.179688\"/>\n      <use xlink:href=\"#DejaVuSans-6c\" x=\"120.458984\"/>\n      <use xlink:href=\"#DejaVuSans-5f\" x=\"148.242188\"/>\n      <use xlink:href=\"#DejaVuSans-61\" x=\"198.242188\"/>\n      <use xlink:href=\"#DejaVuSans-63\" x=\"259.521484\"/>\n      <use xlink:href=\"#DejaVuSans-63\" x=\"314.501953\"/>\n     </g>\n    </g>\n   </g>\n  </g>\n </g>\n <defs>\n  <clipPath id=\"pd79ded0ab6\">\n   <rect x=\"30.103125\" y=\"7.2\" width=\"195.3\" height=\"138.6\"/>\n  </clipPath>\n </defs>\n</svg>\n"
          },
          "metadata": {}
        }
      ]
    },
    {
      "cell_type": "markdown",
      "source": [
        "## Discussion\n",
        "\n",
        "A key feature of GoogLeNet is that it is actually *cheaper* to compute than its predecessors\n",
        "while simultaneously providing improved accuracy. This marks the beginning of a much more deliberate\n",
        "network design that trades off the cost of evaluating a network with a reduction in errors. It also marks the beginning of experimentation at a block level with network design hyperparameters, even though it was entirely manual at the time. We will revisit this topic in :numref:`sec_cnn-design` when discussing strategies for network structure exploration.\n",
        "\n",
        "Over the following sections we will encounter a number of design choices (e.g., batch normalization, residual connections, and channel grouping) that allow us to improve networks significantly. For now, you can be proud to have implemented what is arguably the first truly modern CNN.\n",
        "\n",
        "## Exercises\n",
        "\n",
        "1. GoogLeNet was so successful that it went through a number of iterations, progressively improving speed and accuracy. Try to implement and run some of them. They include the following:\n",
        "    1. Add a batch normalization layer :cite:`Ioffe.Szegedy.2015`, as described later in :numref:`sec_batch_norm`.\n",
        "    2. Make adjustments to the Inception block (width, choice and order of convolutions), as described in :citet:`Szegedy.Vanhoucke.Ioffe.ea.2016`.\n",
        "    3. Use label smoothing for model regularization, as described in :citet:`Szegedy.Vanhoucke.Ioffe.ea.2016`.\n",
        "    4. Make further adjustments to the Inception block by adding residual connection :cite:`Szegedy.Ioffe.Vanhoucke.ea.2017`, as described later in :numref:`sec_resnet`.\n",
        "2. What is the minimum image size needed for GoogLeNet to work?\n",
        "3. Can you design a variant of GoogLeNet that works on Fashion-MNIST's native resolution of $28 \\times 28$ pixels? How would you need to change the stem, the body, and the head of the network, if anything at all?\n",
        "4. Compare the model parameter sizes of AlexNet, VGG, NiN, and GoogLeNet. How do the latter two network\n",
        "   architectures significantly reduce the model parameter size?\n",
        "5. Compare the amount of computation needed in GoogLeNet and AlexNet. How does this affect the design of an accelerator chip, e.g., in terms of memory size, memory bandwidth, cache size, the amount of computation, and the benefit of specialized operations?\n"
      ],
      "metadata": {
        "id": "6Uldo5kCL5Cu"
      },
      "id": "6Uldo5kCL5Cu"
    },
    {
      "cell_type": "markdown",
      "source": [
        "## **Answer Exercise**\n",
        "\n",
        "**1. GoogLeNet begitu sukses sehingga melalui beberapa iterasi, yang secara bertahap meningkatkan kecepatan dan akurasi. Cobalah mengimplementasikan dan menjalankan beberapa iterasi tersebut. Mereka termasuk:**\n",
        "1. Menambahkan lapisan batch normalization :cite:`Ioffe.Szegedy.2015`, seperti dijelaskan kemudian di :numref:sec_batch_norm.\n",
        "\n",
        "  *   Implementasi lapisan batch normalization membantu jaringan dalam mempercepat pelatihan dan meningkatkan stabilitas dengan menormalkan aktivasi pada setiap mini-batch. Hal ini mengurangi masalah internal covariate shift.\n",
        "\n",
        "2. Membuat penyesuaian pada blok Inception (lebar, pilihan, dan urutan konvolusi), seperti dijelaskan dalam :cite:Szegedy.Vanhoucke.Ioffe.ea.2016.\n",
        "\n",
        "  *   Penyesuaian blok Inception seperti mengubah ukuran filter atau mengatur ulang urutan konvolusi memungkinkan jaringan menangkap berbagai skala fitur yang lebih baik dan mengurangi jumlah parameter.\n",
        "\n",
        "3. Menggunakan label smoothing untuk regularisasi model, seperti dijelaskan dalam :cite:`Szegedy.Vanhoucke.Ioffe.ea.2016`.\n",
        "  *   Label smoothing membantu dalam menghindari overfitting dengan mendistribusikan kembali probabilitas ke label yang salah. Ini membuat model tidak terlalu percaya diri pada prediksi tertentu, yang dapat meningkatkan generalisasi.\n",
        "\n",
        "4.  Membuat penyesuaian lebih lanjut pada blok Inception dengan menambahkan residual connection :cite:`Szegedy.Ioffe.Vanhoucke.ea.2017`, seperti dijelaskan kemudian di :numref:`sec_resnet`.\n",
        "  *   Penambahan residual connections membantu mencegah masalah vanishing gradient, memungkinkan jaringan menjadi lebih dalam tanpa kehilangan performa. Ini membantu mempertahankan gradien yang lebih kuat selama pelatihan.\n",
        "\n",
        "**2.  Berapa ukuran gambar minimum yang diperlukan untuk GoogLeNet dapat berfungsi?**\n",
        "*   GoogLeNet dirancang untuk bekerja dengan gambar ukuran 224 x 224 piksel, yang merupakan ukuran input standar untuk banyak model CNN modern. Namun, ukuran minimum dapat bervariasi tergantung pada arsitektur spesifik dan modifikasi pada jaringan. Untuk versi standar GoogLeNet, ukuran gambar di bawah 32x32 mungkin tidak memungkinkan jaringan bekerja optimal karena resolusi terlalu rendah untuk ekstraksi fitur yang baik.\n",
        "\n",
        "\n",
        "**3. Bisakah Anda merancang varian GoogLeNet yang berfungsi pada resolusi asli Fashion-MNIST sebesar $28 \\times 28$ piksel? Bagaimana Anda perlu mengubah stem, body, dan head dari jaringan, jika perlu?**\n",
        "\n",
        "*   Untuk menangani resolusi yang lebih rendah seperti 28 x 28 pada Fashion-MNIST, Anda bisa menyederhanakan stem dari jaringan dengan mengurangi jumlah lapisan konvolusi atau ukuran filter awal. Anda mungkin juga perlu menyesuaikan ukuran stride dan pooling agar sesuai dengan dimensi gambar yang lebih kecil, serta mengurangi kompleksitas body jaringan dengan lebih sedikit blok Inception. Head jaringan bisa tetap sama dengan penyesuaian kecil pada lapisan fully connected akhir.\n",
        "\n",
        "**4. Bandingkan ukuran parameter model dari AlexNet, VGG, NiN, dan GoogLeNet. Bagaimana dua arsitektur terakhir (NiN dan GoogLeNet) secara signifikan mengurangi ukuran parameter model?**\n",
        "\n",
        "\n",
        "*   AlexNet: Memiliki sekitar 60 juta parameter, sebagian besar berasal dari lapisan fully connected yang besar.\n",
        "*   VGG: Juga memiliki banyak parameter (sekitar 138 juta untuk VGG-16), karena menggunakan lapisan fully connected besar dan konvolusi yang lebih dalam.\n",
        "*   NiN: Menggunakan konvolusi $1 \\times 1$ yang mengurangi jumlah parameter, serta menggantikan fully connected dengan global average pooling, secara signifikan mengurangi ukuran model.\n",
        "*  GoogLeNet: Mengurangi parameter dengan menggunakan blok Inception yang menggabungkan konvolusi dengan ukuran kernel yang berbeda, dan juga mengganti lapisan fully connected dengan global average pooling, mengurangi jumlah parameter menjadi sekitar 7 juta.\n",
        "\n",
        "**5. Bandingkan jumlah komputasi yang dibutuhkan di GoogLeNet dan AlexNet. Bagaimana hal ini memengaruhi desain chip akselerator, misalnya, dalam hal ukuran memori, bandwidth memori, ukuran cache, jumlah komputasi, dan manfaat dari operasi khusus?**\n",
        "\n",
        "*  GoogLeNet jauh lebih efisien secara komputasi dibandingkan AlexNet meskipun memiliki arsitektur yang lebih kompleks, karena menggunakan blok Inception yang menggabungkan beberapa operasi konvolusi dalam cara yang lebih paralel dan efisien.\n",
        "*  Desain chip akselerator untuk GoogLeNet dapat dioptimalkan dengan memanfaatkan operasi paralel pada blok Inception, yang dapat mengurangi kebutuhan memori dan bandwidth dibandingkan dengan AlexNet. Ukuran cache bisa lebih kecil karena operasi blok yang efisien, dan jumlah komputasi dapat difokuskan pada operasi konvolusi yang lebih kecil (seperti $1 \\times 1$). Operasi khusus seperti global average pooling juga mengurangi beban komputasi dari operasi fully connected yang besar pada AlexNet.\n",
        "\n",
        "\n",
        "\n"
      ],
      "metadata": {
        "id": "-RECAGrBRBGm"
      },
      "id": "-RECAGrBRBGm"
    },
    {
      "cell_type": "markdown",
      "source": [
        "#8.5 Batch Normalization\n",
        ":label:`sec_batch_norm`\n",
        "\n",
        "Training deep neural networks is difficult.\n",
        "Getting them to converge in a reasonable amount of time can be tricky.\n",
        "In this section, we describe *batch normalization*, a popular and effective technique\n",
        "that consistently accelerates the convergence of deep networks :cite:`Ioffe.Szegedy.2015`.\n",
        "Together with residual blocks---covered later in :numref:`sec_resnet`---batch normalization\n",
        "has made it possible for practitioners to routinely train networks with over 100 layers.\n",
        "A secondary (serendipitous) benefit of batch normalization lies in its inherent regularization.\n"
      ],
      "metadata": {
        "id": "Ar6t92SmL6Ur"
      },
      "id": "Ar6t92SmL6Ur"
    },
    {
      "cell_type": "markdown",
      "source": [
        "## Training Deep Networks\n",
        "\n",
        "When working with data, we often preprocess before training.\n",
        "Choices regarding data preprocessing often make an enormous difference in the final results.\n",
        "Recall our application of MLPs to predicting house prices (:numref:`sec_kaggle_house`).\n",
        "Our first step when working with real data\n",
        "was to standardize our input features to have\n",
        "zero mean $\\boldsymbol{\\mu} = 0$ and unit variance $\\boldsymbol{\\Sigma} = \\boldsymbol{1}$ across multiple observations :cite:`friedman1987exploratory`, frequently rescaling the latter so  that the diagonal is unity, i.e., $\\Sigma_{ii} = 1$.\n",
        "Yet another strategy is to rescale vectors to unit length, possibly zero mean *per observation*.\n",
        "This can work well, e.g., for spatial sensor data. These preprocessing techniques and many others, are\n",
        "beneficial for keeping the estimation problem well controlled.\n",
        "For a review of feature selection and extraction see the article of :citet:`guyon2008feature`, for example.\n",
        "Standardizing vectors also has the nice side-effect of constraining the function complexity of functions that act upon it. For instance, the celebrated radius-margin bound :cite:`Vapnik95` in support vector machines and the Perceptron Convergence Theorem :cite:`Novikoff62` rely on inputs of bounded norm.\n",
        "\n",
        "Intuitively, this standardization plays nicely with our optimizers\n",
        "since it puts the parameters *a priori* on a similar scale.\n",
        "As such, it is only natural to ask whether a corresponding normalization step *inside* a deep network\n",
        "might not be beneficial. While this is not quite the reasoning that led to the invention of batch normalization :cite:`Ioffe.Szegedy.2015`, it is a useful way of understanding it and its cousin, layer normalization :cite:`Ba.Kiros.Hinton.2016`, within a unified framework.\n",
        "\n",
        "Second, for a typical MLP or CNN, as we train,\n",
        "the variables\n",
        "in intermediate layers (e.g., affine transformation outputs in MLP)\n",
        "may take values with widely varying magnitudes:\n",
        "whether along the layers from input to output, across units in the same layer,\n",
        "and over time due to our updates to the model parameters.\n",
        "The inventors of batch normalization postulated informally\n",
        "that this drift in the distribution of such variables could hamper the convergence of the network.\n",
        "Intuitively, we might conjecture that if one\n",
        "layer has variable activations that are 100 times that of another layer,\n",
        "this might necessitate compensatory adjustments in the learning rates. Adaptive solvers\n",
        "such as AdaGrad :cite:`Duchi.Hazan.Singer.2011`, Adam :cite:`Kingma.Ba.2014`, Yogi :cite:`Zaheer.Reddi.Sachan.ea.2018`, or Distributed Shampoo :cite:`anil2020scalable` aim to address this from the viewpoint of optimization, e.g., by adding aspects of second-order methods.\n",
        "The alternative is to prevent the problem from occurring, simply by adaptive normalization.\n",
        "\n",
        "Third, deeper networks are complex and tend to be more liable to overfitting.\n",
        "This means that regularization becomes more critical. A common technique for regularization is noise\n",
        "injection. This has been known for a long time, e.g., with regard to noise injection for the\n",
        "inputs :cite:`Bishop.1995`. It also forms the basis of dropout in :numref:`sec_dropout`. As it turns out, quite serendipitously, batch normalization conveys all three benefits: preprocessing, numerical stability, and regularization.\n",
        "\n",
        "Batch normalization is applied to individual layers, or optionally, to all of them:\n",
        "In each training iteration,\n",
        "we first normalize the inputs (of batch normalization)\n",
        "by subtracting their mean and\n",
        "dividing by their standard deviation,\n",
        "where both are estimated based on the statistics of the current minibatch.\n",
        "Next, we apply a scale coefficient and an offset to recover the lost degrees\n",
        "of freedom. It is precisely due to this *normalization* based on *batch* statistics\n",
        "that *batch normalization* derives its name.\n",
        "\n",
        "Note that if we tried to apply batch normalization with minibatches of size 1,\n",
        "we would not be able to learn anything.\n",
        "That is because after subtracting the means,\n",
        "each hidden unit would take value 0.\n",
        "As you might guess, since we are devoting a whole section to batch normalization,\n",
        "with large enough minibatches the approach proves effective and stable.\n",
        "One takeaway here is that when applying batch normalization,\n",
        "the choice of batch size is\n",
        "even more significant than without batch normalization, or at least,\n",
        "suitable calibration is needed as we might adjust batch size.\n",
        "\n",
        "Denote by $\\mathcal{B}$ a minibatch and let $\\mathbf{x} \\in \\mathcal{B}$ be an input to\n",
        "batch normalization ($\\textrm{BN}$). In this case the batch normalization is defined as follows:\n",
        "\n",
        "$$\\textrm{BN}(\\mathbf{x}) = \\boldsymbol{\\gamma} \\odot \\frac{\\mathbf{x} - \\hat{\\boldsymbol{\\mu}}_\\mathcal{B}}{\\hat{\\boldsymbol{\\sigma}}_\\mathcal{B}} + \\boldsymbol{\\beta}.$$\n",
        ":eqlabel:`eq_batchnorm`\n",
        "\n",
        "In :eqref:`eq_batchnorm`,\n",
        "$\\hat{\\boldsymbol{\\mu}}_\\mathcal{B}$ is the  sample mean\n",
        "and $\\hat{\\boldsymbol{\\sigma}}_\\mathcal{B}$ is the sample standard deviation of the minibatch $\\mathcal{B}$.\n",
        "After applying standardization,\n",
        "the resulting minibatch\n",
        "has zero mean and unit variance.\n",
        "The choice of unit variance\n",
        "(rather than some other magic number) is arbitrary. We recover this degree of freedom\n",
        "by including an elementwise\n",
        "*scale parameter* $\\boldsymbol{\\gamma}$ and *shift parameter* $\\boldsymbol{\\beta}$\n",
        "that have the same shape as $\\mathbf{x}$. Both are parameters that\n",
        "need to be learned as part of model training.\n",
        "\n",
        "The variable magnitudes\n",
        "for intermediate layers cannot diverge during training\n",
        "since batch normalization actively centers and rescales them back\n",
        "to a given mean and size (via $\\hat{\\boldsymbol{\\mu}}_\\mathcal{B}$ and ${\\hat{\\boldsymbol{\\sigma}}_\\mathcal{B}}$).\n",
        "Practical experience confirms that, as alluded to when discussing feature rescaling, batch normalization seems to allow for more aggressive learning rates.\n",
        "We calculate $\\hat{\\boldsymbol{\\mu}}_\\mathcal{B}$ and ${\\hat{\\boldsymbol{\\sigma}}_\\mathcal{B}}$ in :eqref:`eq_batchnorm` as follows:\n",
        "\n",
        "$$\\hat{\\boldsymbol{\\mu}}_\\mathcal{B} = \\frac{1}{|\\mathcal{B}|} \\sum_{\\mathbf{x} \\in \\mathcal{B}} \\mathbf{x}\n",
        "\\textrm{ and }\n",
        "\\hat{\\boldsymbol{\\sigma}}_\\mathcal{B}^2 = \\frac{1}{|\\mathcal{B}|} \\sum_{\\mathbf{x} \\in \\mathcal{B}} (\\mathbf{x} - \\hat{\\boldsymbol{\\mu}}_{\\mathcal{B}})^2 + \\epsilon.$$\n",
        "\n",
        "Note that we add a small constant $\\epsilon > 0$\n",
        "to the variance estimate\n",
        "to ensure that we never attempt division by zero,\n",
        "even in cases where the empirical variance estimate might be very small or vanish.\n",
        "The estimates $\\hat{\\boldsymbol{\\mu}}_\\mathcal{B}$ and ${\\hat{\\boldsymbol{\\sigma}}_\\mathcal{B}}$ counteract the scaling issue\n",
        "by using noisy estimates of mean and variance.\n",
        "You might think that this noisiness should be a problem.\n",
        "On the contrary, it is actually beneficial.\n",
        "\n",
        "This turns out to be a recurring theme in deep learning.\n",
        "For reasons that are not yet well-characterized theoretically,\n",
        "various sources of noise in optimization\n",
        "often lead to faster training and less overfitting:\n",
        "this variation appears to act as a form of regularization.\n",
        ":citet:`Teye.Azizpour.Smith.2018` and :citet:`Luo.Wang.Shao.ea.2018`\n",
        "related the properties of batch normalization to Bayesian priors and penalties, respectively.\n",
        "In particular, this sheds some light on the puzzle\n",
        "of why batch normalization works best for moderate minibatch sizes in the 50--100 range.\n",
        "This particular size of minibatch seems to inject just the \"right amount\" of noise per layer, both in terms of scale via $\\hat{\\boldsymbol{\\sigma}}$, and in terms of offset via $\\hat{\\boldsymbol{\\mu}}$: a\n",
        "larger minibatch regularizes less due to the more stable estimates, whereas tiny minibatches\n",
        "destroy useful signal due to high variance. Exploring this direction further, considering alternative types\n",
        "of preprocessing and filtering may yet lead to other effective types of regularization.\n",
        "\n",
        "Fixing a trained model, you might think\n",
        "that we would prefer using the entire dataset\n",
        "to estimate the mean and variance.\n",
        "Once training is complete, why would we want\n",
        "the same image to be classified differently,\n",
        "depending on the batch in which it happens to reside?\n",
        "During training, such exact calculation is infeasible\n",
        "because the intermediate variables\n",
        "for all data examples\n",
        "change every time we update our model.\n",
        "However, once the model is trained,\n",
        "we can calculate the means and variances\n",
        "of each layer's variables based on the entire dataset.\n",
        "Indeed this is standard practice for\n",
        "models employing batch normalization;\n",
        "thus batch normalization layers function differently\n",
        "in *training mode* (normalizing by minibatch statistics)\n",
        "than in *prediction mode* (normalizing by dataset statistics).\n",
        "In this form they closely resemble the behavior of dropout regularization of :numref:`sec_dropout`,\n",
        "where noise is only injected during training.\n",
        "\n",
        "\n",
        "## Batch Normalization Layers\n",
        "\n",
        "Batch normalization implementations for fully connected layers\n",
        "and convolutional layers are slightly different.\n",
        "One key difference between batch normalization and other layers\n",
        "is that because the former operates on a full minibatch at a time,\n",
        "we cannot just ignore the batch dimension\n",
        "as we did before when introducing other layers.\n",
        "\n",
        "### Fully Connected Layers\n",
        "\n",
        "When applying batch normalization to fully connected layers,\n",
        ":citet:`Ioffe.Szegedy.2015`, in their original paper inserted batch normalization after the affine transformation\n",
        "and *before* the nonlinear activation function. Later applications experimented with\n",
        "inserting batch normalization right *after* activation functions.\n",
        "Denoting the input to the fully connected layer by $\\mathbf{x}$,\n",
        "the affine transformation\n",
        "by $\\mathbf{W}\\mathbf{x} + \\mathbf{b}$ (with the weight parameter $\\mathbf{W}$ and the bias parameter $\\mathbf{b}$),\n",
        "and the activation function by $\\phi$,\n",
        "we can express the computation of a batch-normalization-enabled,\n",
        "fully connected layer output $\\mathbf{h}$ as follows:\n",
        "\n",
        "$$\\mathbf{h} = \\phi(\\textrm{BN}(\\mathbf{W}\\mathbf{x} + \\mathbf{b}) ).$$\n",
        "\n",
        "Recall that mean and variance are computed\n",
        "on the *same* minibatch\n",
        "on which the transformation is applied.\n",
        "\n",
        "### Convolutional Layers\n",
        "\n",
        "Similarly, with convolutional layers,\n",
        "we can apply batch normalization after the convolution\n",
        "but before the nonlinear activation function. The key difference from batch normalization\n",
        "in fully connected layers is that we apply the operation on a per-channel basis\n",
        "*across all locations*. This is compatible with our assumption of translation\n",
        "invariance that led to convolutions: we assumed that the specific location of a pattern\n",
        "within an image was not critical for the purpose of understanding.\n",
        "\n",
        "Assume that our minibatches contain $m$ examples\n",
        "and that for each channel,\n",
        "the output of the convolution has height $p$ and width $q$.\n",
        "For convolutional layers, we carry out each batch normalization\n",
        "over the $m \\cdot p \\cdot q$ elements per output channel simultaneously.\n",
        "Thus, we collect the values over all spatial locations\n",
        "when computing the mean and variance\n",
        "and consequently\n",
        "apply the same mean and variance\n",
        "within a given channel\n",
        "to normalize the value at each spatial location.\n",
        "Each channel has its own scale and shift parameters,\n",
        "both of which are scalars.\n",
        "\n",
        "### Layer Normalization\n",
        ":label:`subsec_layer-normalization-in-bn`\n",
        "\n",
        "Note that in the context of convolutions the batch normalization is well defined even for\n",
        "minibatches of size 1: after all, we have all the locations across an image to average. Consequently,\n",
        "mean and variance are well defined, even if it is just within a single observation. This consideration\n",
        "led :citet:`Ba.Kiros.Hinton.2016` to introduce the notion of *layer normalization*. It works just like\n",
        "a batch norm, only that it is applied to one observation at a time. Consequently both the offset and the scaling factor are scalars. For an $n$-dimensional vector $\\mathbf{x}$, layer norms are given by\n",
        "\n",
        "$$\\mathbf{x} \\rightarrow \\textrm{LN}(\\mathbf{x}) =  \\frac{\\mathbf{x} - \\hat{\\mu}}{\\hat\\sigma},$$\n",
        "\n",
        "where scaling and offset are applied coefficient-wise\n",
        "and given by\n",
        "\n",
        "$$\\hat{\\mu} \\stackrel{\\textrm{def}}{=} \\frac{1}{n} \\sum_{i=1}^n x_i \\textrm{ and }\n",
        "\\hat{\\sigma}^2 \\stackrel{\\textrm{def}}{=} \\frac{1}{n} \\sum_{i=1}^n (x_i - \\hat{\\mu})^2 + \\epsilon.$$\n",
        "\n",
        "As before we add a small offset $\\epsilon > 0$ to prevent division by zero. One of the major benefits of using layer normalization is that it prevents divergence. After all, ignoring $\\epsilon$, the output of the layer normalization is scale independent. That is, we have $\\textrm{LN}(\\mathbf{x}) \\approx \\textrm{LN}(\\alpha \\mathbf{x})$ for any choice of $\\alpha \\neq 0$. This becomes an equality for $|\\alpha| \\to \\infty$ (the approximate equality is due to the offset $\\epsilon$ for the variance).\n",
        "\n",
        "Another advantage of the layer normalization is that it does not depend on the minibatch size. It is also independent of whether we are in training or test regime. In other words, it is simply a deterministic transformation that standardizes the activations to a given scale. This can be very beneficial in preventing divergence in optimization. We skip further details and recommend that interested readers consult the original paper.\n",
        "\n",
        "### Batch Normalization During Prediction\n",
        "\n",
        "As we mentioned earlier, batch normalization typically behaves differently\n",
        "in training mode than in prediction mode.\n",
        "First, the noise in the sample mean and the sample variance\n",
        "arising from estimating each on minibatches\n",
        "is no longer desirable once we have trained the model.\n",
        "Second, we might not have the luxury\n",
        "of computing per-batch normalization statistics.\n",
        "For example,\n",
        "we might need to apply our model to make one prediction at a time.\n",
        "\n",
        "Typically, after training, we use the entire dataset\n",
        "to compute stable estimates of the variable statistics\n",
        "and then fix them at prediction time.\n",
        "Hence, batch normalization behaves differently during training than at test time.\n",
        "Recall that dropout also exhibits this characteristic.\n",
        "\n",
        "## (**Implementation from Scratch**)\n",
        "\n",
        "To see how batch normalization works in practice, we implement one from scratch below.\n"
      ],
      "metadata": {
        "id": "ooWzZopKMMLn"
      },
      "id": "ooWzZopKMMLn"
    },
    {
      "cell_type": "code",
      "source": [
        "def batch_norm(X, gamma, beta, moving_mean, moving_var, eps, momentum):\n",
        "    # Use is_grad_enabled to determine whether we are in training mode\n",
        "    if not torch.is_grad_enabled():\n",
        "        # In prediction mode, use mean and variance obtained by moving average\n",
        "        X_hat = (X - moving_mean) / torch.sqrt(moving_var + eps)\n",
        "    else:\n",
        "        assert len(X.shape) in (2, 4)\n",
        "        if len(X.shape) == 2:\n",
        "            # When using a fully connected layer, calculate the mean and\n",
        "            # variance on the feature dimension\n",
        "            mean = X.mean(dim=0)\n",
        "            var = ((X - mean) ** 2).mean(dim=0)\n",
        "        else:\n",
        "            # When using a two-dimensional convolutional layer, calculate the\n",
        "            # mean and variance on the channel dimension (axis=1). Here we\n",
        "            # need to maintain the shape of X, so that the broadcasting\n",
        "            # operation can be carried out later\n",
        "            mean = X.mean(dim=(0, 2, 3), keepdim=True)\n",
        "            var = ((X - mean) ** 2).mean(dim=(0, 2, 3), keepdim=True)\n",
        "        # In training mode, the current mean and variance are used\n",
        "        X_hat = (X - mean) / torch.sqrt(var + eps)\n",
        "        # Update the mean and variance using moving average\n",
        "        moving_mean = (1.0 - momentum) * moving_mean + momentum * mean\n",
        "        moving_var = (1.0 - momentum) * moving_var + momentum * var\n",
        "    Y = gamma * X_hat + beta  # Scale and shift\n",
        "    return Y, moving_mean.data, moving_var.data"
      ],
      "metadata": {
        "id": "LMA2ryy1MHhI"
      },
      "id": "LMA2ryy1MHhI",
      "execution_count": null,
      "outputs": []
    },
    {
      "cell_type": "markdown",
      "source": [
        "We can now [**create a proper `BatchNorm` layer.**]\n",
        "Our layer will maintain proper parameters\n",
        "for scale `gamma` and shift `beta`,\n",
        "both of which will be updated in the course of training.\n",
        "Additionally, our layer will maintain\n",
        "moving averages of the means and variances\n",
        "for subsequent use during model prediction.\n",
        "\n",
        "Putting aside the algorithmic details,\n",
        "note the design pattern underlying our implementation of the layer.\n",
        "Typically, we define the mathematics in a separate function, say `batch_norm`.\n",
        "We then integrate this functionality into a custom layer,\n",
        "whose code mostly addresses bookkeeping matters,\n",
        "such as moving data to the right device context,\n",
        "allocating and initializing any required variables,\n",
        "keeping track of moving averages (here for mean and variance), and so on.\n",
        "This pattern enables a clean separation of mathematics from boilerplate code.\n",
        "Also note that for the sake of convenience\n",
        "we did not worry about automatically inferring the input shape here;\n",
        "thus we need to specify the number of features throughout.\n",
        "By now all modern deep learning frameworks offer automatic detection of size and shape in the\n",
        "high-level batch normalization APIs (in practice we will use this instead).\n"
      ],
      "metadata": {
        "id": "mmfkrNm_MT6w"
      },
      "id": "mmfkrNm_MT6w"
    },
    {
      "cell_type": "code",
      "source": [
        "class BatchNorm(nn.Module):\n",
        "    # num_features: the number of outputs for a fully connected layer or the\n",
        "    # number of output channels for a convolutional layer. num_dims: 2 for a\n",
        "    # fully connected layer and 4 for a convolutional layer\n",
        "    def __init__(self, num_features, num_dims):\n",
        "        super().__init__()\n",
        "        if num_dims == 2:\n",
        "            shape = (1, num_features)\n",
        "        else:\n",
        "            shape = (1, num_features, 1, 1)\n",
        "        # The scale parameter and the shift parameter (model parameters) are\n",
        "        # initialized to 1 and 0, respectively\n",
        "        self.gamma = nn.Parameter(torch.ones(shape))\n",
        "        self.beta = nn.Parameter(torch.zeros(shape))\n",
        "        # The variables that are not model parameters are initialized to 0 and\n",
        "        # 1\n",
        "        self.moving_mean = torch.zeros(shape)\n",
        "        self.moving_var = torch.ones(shape)\n",
        "\n",
        "    def forward(self, X):\n",
        "        # If X is not on the main memory, copy moving_mean and moving_var to\n",
        "        # the device where X is located\n",
        "        if self.moving_mean.device != X.device:\n",
        "            self.moving_mean = self.moving_mean.to(X.device)\n",
        "            self.moving_var = self.moving_var.to(X.device)\n",
        "        # Save the updated moving_mean and moving_var\n",
        "        Y, self.moving_mean, self.moving_var = batch_norm(\n",
        "            X, self.gamma, self.beta, self.moving_mean,\n",
        "            self.moving_var, eps=1e-5, momentum=0.1)\n",
        "        return Y"
      ],
      "metadata": {
        "id": "afZXNGomMUcD"
      },
      "id": "afZXNGomMUcD",
      "execution_count": null,
      "outputs": []
    },
    {
      "cell_type": "markdown",
      "source": [
        "We used `momentum` to govern the aggregation over past mean and variance estimates. This is somewhat of a misnomer as it has nothing whatsoever to do with the *momentum* term of optimization. Nonetheless, it is the commonly adopted name for this term and in deference to API naming convention we use the same variable name in our code.\n",
        "\n",
        "## [**LeNet with Batch Normalization**]\n",
        "\n",
        "To see how to apply `BatchNorm` in context,\n",
        "below we apply it to a traditional LeNet model (:numref:`sec_lenet`).\n",
        "Recall that batch normalization is applied\n",
        "after the convolutional layers or fully connected layers\n",
        "but before the corresponding activation functions.\n"
      ],
      "metadata": {
        "id": "UofLd0-0MbEd"
      },
      "id": "UofLd0-0MbEd"
    },
    {
      "cell_type": "code",
      "source": [
        "class BNLeNetScratch(d2l.Classifier):\n",
        "    def __init__(self, lr=0.1, num_classes=10):\n",
        "        super().__init__()\n",
        "        self.save_hyperparameters()\n",
        "        self.net = nn.Sequential(\n",
        "            nn.LazyConv2d(6, kernel_size=5), BatchNorm(6, num_dims=4),\n",
        "            nn.Sigmoid(), nn.AvgPool2d(kernel_size=2, stride=2),\n",
        "            nn.LazyConv2d(16, kernel_size=5), BatchNorm(16, num_dims=4),\n",
        "            nn.Sigmoid(), nn.AvgPool2d(kernel_size=2, stride=2),\n",
        "            nn.Flatten(), nn.LazyLinear(120),\n",
        "            BatchNorm(120, num_dims=2), nn.Sigmoid(), nn.LazyLinear(84),\n",
        "            BatchNorm(84, num_dims=2), nn.Sigmoid(),\n",
        "            nn.LazyLinear(num_classes))"
      ],
      "metadata": {
        "id": "ZtxgEwJWMbwH"
      },
      "id": "ZtxgEwJWMbwH",
      "execution_count": null,
      "outputs": []
    },
    {
      "cell_type": "markdown",
      "source": [
        "As before, we will [**train our network on the Fashion-MNIST dataset**].\n",
        "This code is virtually identical to that when we first trained LeNet.\n"
      ],
      "metadata": {
        "id": "pWvpcUf0MhZC"
      },
      "id": "pWvpcUf0MhZC"
    },
    {
      "cell_type": "code",
      "source": [
        "trainer = d2l.Trainer(max_epochs=10, num_gpus=1)\n",
        "data = d2l.FashionMNIST(batch_size=128)\n",
        "model = BNLeNetScratch(lr=0.1)\n",
        "model.apply_init([next(iter(data.get_dataloader(True)))[0]], d2l.init_cnn)\n",
        "trainer.fit(model, data)"
      ],
      "metadata": {
        "colab": {
          "base_uri": "https://localhost:8080/",
          "height": 265
        },
        "id": "xguFp4UMMh3A",
        "outputId": "fdd825a7-e3da-4bed-a764-40f6fb4884ff"
      },
      "id": "xguFp4UMMh3A",
      "execution_count": null,
      "outputs": [
        {
          "output_type": "display_data",
          "data": {
            "text/plain": [
              "<Figure size 350x250 with 1 Axes>"
            ],
            "image/svg+xml": "<?xml version=\"1.0\" encoding=\"utf-8\" standalone=\"no\"?>\n<!DOCTYPE svg PUBLIC \"-//W3C//DTD SVG 1.1//EN\"\n  \"http://www.w3.org/Graphics/SVG/1.1/DTD/svg11.dtd\">\n<svg xmlns:xlink=\"http://www.w3.org/1999/xlink\" width=\"238.965625pt\" height=\"183.35625pt\" viewBox=\"0 0 238.965625 183.35625\" xmlns=\"http://www.w3.org/2000/svg\" version=\"1.1\">\n <metadata>\n  <rdf:RDF xmlns:dc=\"http://purl.org/dc/elements/1.1/\" xmlns:cc=\"http://creativecommons.org/ns#\" xmlns:rdf=\"http://www.w3.org/1999/02/22-rdf-syntax-ns#\">\n   <cc:Work>\n    <dc:type rdf:resource=\"http://purl.org/dc/dcmitype/StillImage\"/>\n    <dc:date>2024-09-29T09:55:01.967618</dc:date>\n    <dc:format>image/svg+xml</dc:format>\n    <dc:creator>\n     <cc:Agent>\n      <dc:title>Matplotlib v3.7.2, https://matplotlib.org/</dc:title>\n     </cc:Agent>\n    </dc:creator>\n   </cc:Work>\n  </rdf:RDF>\n </metadata>\n <defs>\n  <style type=\"text/css\">*{stroke-linejoin: round; stroke-linecap: butt}</style>\n </defs>\n <g id=\"figure_1\">\n  <g id=\"patch_1\">\n   <path d=\"M 0 183.35625 \nL 238.965625 183.35625 \nL 238.965625 0 \nL 0 0 \nz\n\" style=\"fill: #ffffff\"/>\n  </g>\n  <g id=\"axes_1\">\n   <g id=\"patch_2\">\n    <path d=\"M 30.103125 145.8 \nL 225.403125 145.8 \nL 225.403125 7.2 \nL 30.103125 7.2 \nz\n\" style=\"fill: #ffffff\"/>\n   </g>\n   <g id=\"matplotlib.axis_1\">\n    <g id=\"xtick_1\">\n     <g id=\"line2d_1\">\n      <defs>\n       <path id=\"m0d16ef4cbe\" d=\"M 0 0 \nL 0 3.5 \n\" style=\"stroke: #000000; stroke-width: 0.8\"/>\n      </defs>\n      <g>\n       <use xlink:href=\"#m0d16ef4cbe\" x=\"30.103125\" y=\"145.8\" style=\"stroke: #000000; stroke-width: 0.8\"/>\n      </g>\n     </g>\n     <g id=\"text_1\">\n      <!-- 0 -->\n      <g transform=\"translate(26.921875 160.398438) scale(0.1 -0.1)\">\n       <defs>\n        <path id=\"DejaVuSans-30\" d=\"M 2034 4250 \nQ 1547 4250 1301 3770 \nQ 1056 3291 1056 2328 \nQ 1056 1369 1301 889 \nQ 1547 409 2034 409 \nQ 2525 409 2770 889 \nQ 3016 1369 3016 2328 \nQ 3016 3291 2770 3770 \nQ 2525 4250 2034 4250 \nz\nM 2034 4750 \nQ 2819 4750 3233 4129 \nQ 3647 3509 3647 2328 \nQ 3647 1150 3233 529 \nQ 2819 -91 2034 -91 \nQ 1250 -91 836 529 \nQ 422 1150 422 2328 \nQ 422 3509 836 4129 \nQ 1250 4750 2034 4750 \nz\n\" transform=\"scale(0.015625)\"/>\n       </defs>\n       <use xlink:href=\"#DejaVuSans-30\"/>\n      </g>\n     </g>\n    </g>\n    <g id=\"xtick_2\">\n     <g id=\"line2d_2\">\n      <g>\n       <use xlink:href=\"#m0d16ef4cbe\" x=\"69.163125\" y=\"145.8\" style=\"stroke: #000000; stroke-width: 0.8\"/>\n      </g>\n     </g>\n     <g id=\"text_2\">\n      <!-- 2 -->\n      <g transform=\"translate(65.981875 160.398438) scale(0.1 -0.1)\">\n       <defs>\n        <path id=\"DejaVuSans-32\" d=\"M 1228 531 \nL 3431 531 \nL 3431 0 \nL 469 0 \nL 469 531 \nQ 828 903 1448 1529 \nQ 2069 2156 2228 2338 \nQ 2531 2678 2651 2914 \nQ 2772 3150 2772 3378 \nQ 2772 3750 2511 3984 \nQ 2250 4219 1831 4219 \nQ 1534 4219 1204 4116 \nQ 875 4013 500 3803 \nL 500 4441 \nQ 881 4594 1212 4672 \nQ 1544 4750 1819 4750 \nQ 2544 4750 2975 4387 \nQ 3406 4025 3406 3419 \nQ 3406 3131 3298 2873 \nQ 3191 2616 2906 2266 \nQ 2828 2175 2409 1742 \nQ 1991 1309 1228 531 \nz\n\" transform=\"scale(0.015625)\"/>\n       </defs>\n       <use xlink:href=\"#DejaVuSans-32\"/>\n      </g>\n     </g>\n    </g>\n    <g id=\"xtick_3\">\n     <g id=\"line2d_3\">\n      <g>\n       <use xlink:href=\"#m0d16ef4cbe\" x=\"108.223125\" y=\"145.8\" style=\"stroke: #000000; stroke-width: 0.8\"/>\n      </g>\n     </g>\n     <g id=\"text_3\">\n      <!-- 4 -->\n      <g transform=\"translate(105.041875 160.398438) scale(0.1 -0.1)\">\n       <defs>\n        <path id=\"DejaVuSans-34\" d=\"M 2419 4116 \nL 825 1625 \nL 2419 1625 \nL 2419 4116 \nz\nM 2253 4666 \nL 3047 4666 \nL 3047 1625 \nL 3713 1625 \nL 3713 1100 \nL 3047 1100 \nL 3047 0 \nL 2419 0 \nL 2419 1100 \nL 313 1100 \nL 313 1709 \nL 2253 4666 \nz\n\" transform=\"scale(0.015625)\"/>\n       </defs>\n       <use xlink:href=\"#DejaVuSans-34\"/>\n      </g>\n     </g>\n    </g>\n    <g id=\"xtick_4\">\n     <g id=\"line2d_4\">\n      <g>\n       <use xlink:href=\"#m0d16ef4cbe\" x=\"147.283125\" y=\"145.8\" style=\"stroke: #000000; stroke-width: 0.8\"/>\n      </g>\n     </g>\n     <g id=\"text_4\">\n      <!-- 6 -->\n      <g transform=\"translate(144.101875 160.398438) scale(0.1 -0.1)\">\n       <defs>\n        <path id=\"DejaVuSans-36\" d=\"M 2113 2584 \nQ 1688 2584 1439 2293 \nQ 1191 2003 1191 1497 \nQ 1191 994 1439 701 \nQ 1688 409 2113 409 \nQ 2538 409 2786 701 \nQ 3034 994 3034 1497 \nQ 3034 2003 2786 2293 \nQ 2538 2584 2113 2584 \nz\nM 3366 4563 \nL 3366 3988 \nQ 3128 4100 2886 4159 \nQ 2644 4219 2406 4219 \nQ 1781 4219 1451 3797 \nQ 1122 3375 1075 2522 \nQ 1259 2794 1537 2939 \nQ 1816 3084 2150 3084 \nQ 2853 3084 3261 2657 \nQ 3669 2231 3669 1497 \nQ 3669 778 3244 343 \nQ 2819 -91 2113 -91 \nQ 1303 -91 875 529 \nQ 447 1150 447 2328 \nQ 447 3434 972 4092 \nQ 1497 4750 2381 4750 \nQ 2619 4750 2861 4703 \nQ 3103 4656 3366 4563 \nz\n\" transform=\"scale(0.015625)\"/>\n       </defs>\n       <use xlink:href=\"#DejaVuSans-36\"/>\n      </g>\n     </g>\n    </g>\n    <g id=\"xtick_5\">\n     <g id=\"line2d_5\">\n      <g>\n       <use xlink:href=\"#m0d16ef4cbe\" x=\"186.343125\" y=\"145.8\" style=\"stroke: #000000; stroke-width: 0.8\"/>\n      </g>\n     </g>\n     <g id=\"text_5\">\n      <!-- 8 -->\n      <g transform=\"translate(183.161875 160.398438) scale(0.1 -0.1)\">\n       <defs>\n        <path id=\"DejaVuSans-38\" d=\"M 2034 2216 \nQ 1584 2216 1326 1975 \nQ 1069 1734 1069 1313 \nQ 1069 891 1326 650 \nQ 1584 409 2034 409 \nQ 2484 409 2743 651 \nQ 3003 894 3003 1313 \nQ 3003 1734 2745 1975 \nQ 2488 2216 2034 2216 \nz\nM 1403 2484 \nQ 997 2584 770 2862 \nQ 544 3141 544 3541 \nQ 544 4100 942 4425 \nQ 1341 4750 2034 4750 \nQ 2731 4750 3128 4425 \nQ 3525 4100 3525 3541 \nQ 3525 3141 3298 2862 \nQ 3072 2584 2669 2484 \nQ 3125 2378 3379 2068 \nQ 3634 1759 3634 1313 \nQ 3634 634 3220 271 \nQ 2806 -91 2034 -91 \nQ 1263 -91 848 271 \nQ 434 634 434 1313 \nQ 434 1759 690 2068 \nQ 947 2378 1403 2484 \nz\nM 1172 3481 \nQ 1172 3119 1398 2916 \nQ 1625 2713 2034 2713 \nQ 2441 2713 2670 2916 \nQ 2900 3119 2900 3481 \nQ 2900 3844 2670 4047 \nQ 2441 4250 2034 4250 \nQ 1625 4250 1398 4047 \nQ 1172 3844 1172 3481 \nz\n\" transform=\"scale(0.015625)\"/>\n       </defs>\n       <use xlink:href=\"#DejaVuSans-38\"/>\n      </g>\n     </g>\n    </g>\n    <g id=\"xtick_6\">\n     <g id=\"line2d_6\">\n      <g>\n       <use xlink:href=\"#m0d16ef4cbe\" x=\"225.403125\" y=\"145.8\" style=\"stroke: #000000; stroke-width: 0.8\"/>\n      </g>\n     </g>\n     <g id=\"text_6\">\n      <!-- 10 -->\n      <g transform=\"translate(219.040625 160.398438) scale(0.1 -0.1)\">\n       <defs>\n        <path id=\"DejaVuSans-31\" d=\"M 794 531 \nL 1825 531 \nL 1825 4091 \nL 703 3866 \nL 703 4441 \nL 1819 4666 \nL 2450 4666 \nL 2450 531 \nL 3481 531 \nL 3481 0 \nL 794 0 \nL 794 531 \nz\n\" transform=\"scale(0.015625)\"/>\n       </defs>\n       <use xlink:href=\"#DejaVuSans-31\"/>\n       <use xlink:href=\"#DejaVuSans-30\" x=\"63.623047\"/>\n      </g>\n     </g>\n    </g>\n    <g id=\"text_7\">\n     <!-- epoch -->\n     <g transform=\"translate(112.525 174.076563) scale(0.1 -0.1)\">\n      <defs>\n       <path id=\"DejaVuSans-65\" d=\"M 3597 1894 \nL 3597 1613 \nL 953 1613 \nQ 991 1019 1311 708 \nQ 1631 397 2203 397 \nQ 2534 397 2845 478 \nQ 3156 559 3463 722 \nL 3463 178 \nQ 3153 47 2828 -22 \nQ 2503 -91 2169 -91 \nQ 1331 -91 842 396 \nQ 353 884 353 1716 \nQ 353 2575 817 3079 \nQ 1281 3584 2069 3584 \nQ 2775 3584 3186 3129 \nQ 3597 2675 3597 1894 \nz\nM 3022 2063 \nQ 3016 2534 2758 2815 \nQ 2500 3097 2075 3097 \nQ 1594 3097 1305 2825 \nQ 1016 2553 972 2059 \nL 3022 2063 \nz\n\" transform=\"scale(0.015625)\"/>\n       <path id=\"DejaVuSans-70\" d=\"M 1159 525 \nL 1159 -1331 \nL 581 -1331 \nL 581 3500 \nL 1159 3500 \nL 1159 2969 \nQ 1341 3281 1617 3432 \nQ 1894 3584 2278 3584 \nQ 2916 3584 3314 3078 \nQ 3713 2572 3713 1747 \nQ 3713 922 3314 415 \nQ 2916 -91 2278 -91 \nQ 1894 -91 1617 61 \nQ 1341 213 1159 525 \nz\nM 3116 1747 \nQ 3116 2381 2855 2742 \nQ 2594 3103 2138 3103 \nQ 1681 3103 1420 2742 \nQ 1159 2381 1159 1747 \nQ 1159 1113 1420 752 \nQ 1681 391 2138 391 \nQ 2594 391 2855 752 \nQ 3116 1113 3116 1747 \nz\n\" transform=\"scale(0.015625)\"/>\n       <path id=\"DejaVuSans-6f\" d=\"M 1959 3097 \nQ 1497 3097 1228 2736 \nQ 959 2375 959 1747 \nQ 959 1119 1226 758 \nQ 1494 397 1959 397 \nQ 2419 397 2687 759 \nQ 2956 1122 2956 1747 \nQ 2956 2369 2687 2733 \nQ 2419 3097 1959 3097 \nz\nM 1959 3584 \nQ 2709 3584 3137 3096 \nQ 3566 2609 3566 1747 \nQ 3566 888 3137 398 \nQ 2709 -91 1959 -91 \nQ 1206 -91 779 398 \nQ 353 888 353 1747 \nQ 353 2609 779 3096 \nQ 1206 3584 1959 3584 \nz\n\" transform=\"scale(0.015625)\"/>\n       <path id=\"DejaVuSans-63\" d=\"M 3122 3366 \nL 3122 2828 \nQ 2878 2963 2633 3030 \nQ 2388 3097 2138 3097 \nQ 1578 3097 1268 2742 \nQ 959 2388 959 1747 \nQ 959 1106 1268 751 \nQ 1578 397 2138 397 \nQ 2388 397 2633 464 \nQ 2878 531 3122 666 \nL 3122 134 \nQ 2881 22 2623 -34 \nQ 2366 -91 2075 -91 \nQ 1284 -91 818 406 \nQ 353 903 353 1747 \nQ 353 2603 823 3093 \nQ 1294 3584 2113 3584 \nQ 2378 3584 2631 3529 \nQ 2884 3475 3122 3366 \nz\n\" transform=\"scale(0.015625)\"/>\n       <path id=\"DejaVuSans-68\" d=\"M 3513 2113 \nL 3513 0 \nL 2938 0 \nL 2938 2094 \nQ 2938 2591 2744 2837 \nQ 2550 3084 2163 3084 \nQ 1697 3084 1428 2787 \nQ 1159 2491 1159 1978 \nL 1159 0 \nL 581 0 \nL 581 4863 \nL 1159 4863 \nL 1159 2956 \nQ 1366 3272 1645 3428 \nQ 1925 3584 2291 3584 \nQ 2894 3584 3203 3211 \nQ 3513 2838 3513 2113 \nz\n\" transform=\"scale(0.015625)\"/>\n      </defs>\n      <use xlink:href=\"#DejaVuSans-65\"/>\n      <use xlink:href=\"#DejaVuSans-70\" x=\"61.523438\"/>\n      <use xlink:href=\"#DejaVuSans-6f\" x=\"125\"/>\n      <use xlink:href=\"#DejaVuSans-63\" x=\"186.181641\"/>\n      <use xlink:href=\"#DejaVuSans-68\" x=\"241.162109\"/>\n     </g>\n    </g>\n   </g>\n   <g id=\"matplotlib.axis_2\">\n    <g id=\"ytick_1\">\n     <g id=\"line2d_7\">\n      <defs>\n       <path id=\"m51e9fda572\" d=\"M 0 0 \nL -3.5 0 \n\" style=\"stroke: #000000; stroke-width: 0.8\"/>\n      </defs>\n      <g>\n       <use xlink:href=\"#m51e9fda572\" x=\"30.103125\" y=\"119.653266\" style=\"stroke: #000000; stroke-width: 0.8\"/>\n      </g>\n     </g>\n     <g id=\"text_8\">\n      <!-- 0.4 -->\n      <g transform=\"translate(7.2 123.452485) scale(0.1 -0.1)\">\n       <defs>\n        <path id=\"DejaVuSans-2e\" d=\"M 684 794 \nL 1344 794 \nL 1344 0 \nL 684 0 \nL 684 794 \nz\n\" transform=\"scale(0.015625)\"/>\n       </defs>\n       <use xlink:href=\"#DejaVuSans-30\"/>\n       <use xlink:href=\"#DejaVuSans-2e\" x=\"63.623047\"/>\n       <use xlink:href=\"#DejaVuSans-34\" x=\"95.410156\"/>\n      </g>\n     </g>\n    </g>\n    <g id=\"ytick_2\">\n     <g id=\"line2d_8\">\n      <g>\n       <use xlink:href=\"#m51e9fda572\" x=\"30.103125\" y=\"80.501441\" style=\"stroke: #000000; stroke-width: 0.8\"/>\n      </g>\n     </g>\n     <g id=\"text_9\">\n      <!-- 0.6 -->\n      <g transform=\"translate(7.2 84.30066) scale(0.1 -0.1)\">\n       <use xlink:href=\"#DejaVuSans-30\"/>\n       <use xlink:href=\"#DejaVuSans-2e\" x=\"63.623047\"/>\n       <use xlink:href=\"#DejaVuSans-36\" x=\"95.410156\"/>\n      </g>\n     </g>\n    </g>\n    <g id=\"ytick_3\">\n     <g id=\"line2d_9\">\n      <g>\n       <use xlink:href=\"#m51e9fda572\" x=\"30.103125\" y=\"41.349616\" style=\"stroke: #000000; stroke-width: 0.8\"/>\n      </g>\n     </g>\n     <g id=\"text_10\">\n      <!-- 0.8 -->\n      <g transform=\"translate(7.2 45.148835) scale(0.1 -0.1)\">\n       <use xlink:href=\"#DejaVuSans-30\"/>\n       <use xlink:href=\"#DejaVuSans-2e\" x=\"63.623047\"/>\n       <use xlink:href=\"#DejaVuSans-38\" x=\"95.410156\"/>\n      </g>\n     </g>\n    </g>\n   </g>\n   <g id=\"line2d_10\">\n    <path d=\"M 34.954394 13.5 \n\" clip-path=\"url(#p4da7054d06)\" style=\"fill: none; stroke: #1f77b4; stroke-width: 1.5; stroke-linecap: square\"/>\n   </g>\n   <g id=\"line2d_11\">\n    <path d=\"M 34.954394 13.5 \nL 44.698573 79.566519 \n\" clip-path=\"url(#p4da7054d06)\" style=\"fill: none; stroke: #1f77b4; stroke-width: 1.5; stroke-linecap: square\"/>\n   </g>\n   <g id=\"line2d_12\">\n    <path d=\"M 34.954394 13.5 \nL 44.698573 79.566519 \n\" clip-path=\"url(#p4da7054d06)\" style=\"fill: none; stroke: #1f77b4; stroke-width: 1.5; stroke-linecap: square\"/>\n   </g>\n   <g id=\"line2d_13\">\n    <path d=\"M 49.633125 85.983084 \n\" clip-path=\"url(#p4da7054d06)\" style=\"fill: none; stroke-dasharray: 5.55,2.4; stroke-dashoffset: 0; stroke: #ff7f0e; stroke-width: 1.5\"/>\n   </g>\n   <g id=\"line2d_14\"/>\n   <g id=\"line2d_15\">\n    <path d=\"M 34.954394 13.5 \nL 44.698573 79.566519 \n\" clip-path=\"url(#p4da7054d06)\" style=\"fill: none; stroke: #1f77b4; stroke-width: 1.5; stroke-linecap: square\"/>\n   </g>\n   <g id=\"line2d_16\">\n    <path d=\"M 49.633125 85.983084 \n\" clip-path=\"url(#p4da7054d06)\" style=\"fill: none; stroke-dasharray: 5.55,2.4; stroke-dashoffset: 0; stroke: #ff7f0e; stroke-width: 1.5\"/>\n   </g>\n   <g id=\"line2d_17\">\n    <path d=\"M 49.633125 40.664304 \n\" clip-path=\"url(#p4da7054d06)\" style=\"fill: none; stroke-dasharray: 9.6,2.4,1.5,2.4; stroke-dashoffset: 0; stroke: #2ca02c; stroke-width: 1.5\"/>\n   </g>\n   <g id=\"line2d_18\">\n    <path d=\"M 34.954394 13.5 \nL 44.698573 79.566519 \nL 54.442752 93.300613 \n\" clip-path=\"url(#p4da7054d06)\" style=\"fill: none; stroke: #1f77b4; stroke-width: 1.5; stroke-linecap: square\"/>\n   </g>\n   <g id=\"line2d_19\">\n    <path d=\"M 49.633125 85.983084 \n\" clip-path=\"url(#p4da7054d06)\" style=\"fill: none; stroke-dasharray: 5.55,2.4; stroke-dashoffset: 0; stroke: #ff7f0e; stroke-width: 1.5\"/>\n   </g>\n   <g id=\"line2d_20\">\n    <path d=\"M 49.633125 40.664304 \n\" clip-path=\"url(#p4da7054d06)\" style=\"fill: none; stroke-dasharray: 9.6,2.4,1.5,2.4; stroke-dashoffset: 0; stroke: #2ca02c; stroke-width: 1.5\"/>\n   </g>\n   <g id=\"line2d_21\">\n    <path d=\"M 34.954394 13.5 \nL 44.698573 79.566519 \nL 54.442752 93.300613 \nL 64.186931 101.795847 \n\" clip-path=\"url(#p4da7054d06)\" style=\"fill: none; stroke: #1f77b4; stroke-width: 1.5; stroke-linecap: square\"/>\n   </g>\n   <g id=\"line2d_22\">\n    <path d=\"M 49.633125 85.983084 \n\" clip-path=\"url(#p4da7054d06)\" style=\"fill: none; stroke-dasharray: 5.55,2.4; stroke-dashoffset: 0; stroke: #ff7f0e; stroke-width: 1.5\"/>\n   </g>\n   <g id=\"line2d_23\">\n    <path d=\"M 49.633125 40.664304 \n\" clip-path=\"url(#p4da7054d06)\" style=\"fill: none; stroke-dasharray: 9.6,2.4,1.5,2.4; stroke-dashoffset: 0; stroke: #2ca02c; stroke-width: 1.5\"/>\n   </g>\n   <g id=\"line2d_24\">\n    <path d=\"M 34.954394 13.5 \nL 44.698573 79.566519 \nL 54.442752 93.300613 \nL 64.186931 101.795847 \n\" clip-path=\"url(#p4da7054d06)\" style=\"fill: none; stroke: #1f77b4; stroke-width: 1.5; stroke-linecap: square\"/>\n   </g>\n   <g id=\"line2d_25\">\n    <path d=\"M 49.633125 85.983084 \nL 69.163125 90.424555 \n\" clip-path=\"url(#p4da7054d06)\" style=\"fill: none; stroke-dasharray: 5.55,2.4; stroke-dashoffset: 0; stroke: #ff7f0e; stroke-width: 1.5\"/>\n   </g>\n   <g id=\"line2d_26\">\n    <path d=\"M 49.633125 40.664304 \n\" clip-path=\"url(#p4da7054d06)\" style=\"fill: none; stroke-dasharray: 9.6,2.4,1.5,2.4; stroke-dashoffset: 0; stroke: #2ca02c; stroke-width: 1.5\"/>\n   </g>\n   <g id=\"line2d_27\">\n    <path d=\"M 34.954394 13.5 \nL 44.698573 79.566519 \nL 54.442752 93.300613 \nL 64.186931 101.795847 \n\" clip-path=\"url(#p4da7054d06)\" style=\"fill: none; stroke: #1f77b4; stroke-width: 1.5; stroke-linecap: square\"/>\n   </g>\n   <g id=\"line2d_28\">\n    <path d=\"M 49.633125 85.983084 \nL 69.163125 90.424555 \n\" clip-path=\"url(#p4da7054d06)\" style=\"fill: none; stroke-dasharray: 5.55,2.4; stroke-dashoffset: 0; stroke: #ff7f0e; stroke-width: 1.5\"/>\n   </g>\n   <g id=\"line2d_29\">\n    <path d=\"M 49.633125 40.664304 \nL 69.163125 39.851223 \n\" clip-path=\"url(#p4da7054d06)\" style=\"fill: none; stroke-dasharray: 9.6,2.4,1.5,2.4; stroke-dashoffset: 0; stroke: #2ca02c; stroke-width: 1.5\"/>\n   </g>\n   <g id=\"line2d_30\">\n    <path d=\"M 34.954394 13.5 \nL 44.698573 79.566519 \nL 54.442752 93.300613 \nL 64.186931 101.795847 \nL 73.93111 108.465786 \n\" clip-path=\"url(#p4da7054d06)\" style=\"fill: none; stroke: #1f77b4; stroke-width: 1.5; stroke-linecap: square\"/>\n   </g>\n   <g id=\"line2d_31\">\n    <path d=\"M 49.633125 85.983084 \nL 69.163125 90.424555 \n\" clip-path=\"url(#p4da7054d06)\" style=\"fill: none; stroke-dasharray: 5.55,2.4; stroke-dashoffset: 0; stroke: #ff7f0e; stroke-width: 1.5\"/>\n   </g>\n   <g id=\"line2d_32\">\n    <path d=\"M 49.633125 40.664304 \nL 69.163125 39.851223 \n\" clip-path=\"url(#p4da7054d06)\" style=\"fill: none; stroke-dasharray: 9.6,2.4,1.5,2.4; stroke-dashoffset: 0; stroke: #2ca02c; stroke-width: 1.5\"/>\n   </g>\n   <g id=\"line2d_33\">\n    <path d=\"M 34.954394 13.5 \nL 44.698573 79.566519 \nL 54.442752 93.300613 \nL 64.186931 101.795847 \nL 73.93111 108.465786 \nL 83.675289 111.491382 \n\" clip-path=\"url(#p4da7054d06)\" style=\"fill: none; stroke: #1f77b4; stroke-width: 1.5; stroke-linecap: square\"/>\n   </g>\n   <g id=\"line2d_34\">\n    <path d=\"M 49.633125 85.983084 \nL 69.163125 90.424555 \n\" clip-path=\"url(#p4da7054d06)\" style=\"fill: none; stroke-dasharray: 5.55,2.4; stroke-dashoffset: 0; stroke: #ff7f0e; stroke-width: 1.5\"/>\n   </g>\n   <g id=\"line2d_35\">\n    <path d=\"M 49.633125 40.664304 \nL 69.163125 39.851223 \n\" clip-path=\"url(#p4da7054d06)\" style=\"fill: none; stroke-dasharray: 9.6,2.4,1.5,2.4; stroke-dashoffset: 0; stroke: #2ca02c; stroke-width: 1.5\"/>\n   </g>\n   <g id=\"line2d_36\">\n    <path d=\"M 34.954394 13.5 \nL 44.698573 79.566519 \nL 54.442752 93.300613 \nL 64.186931 101.795847 \nL 73.93111 108.465786 \nL 83.675289 111.491382 \n\" clip-path=\"url(#p4da7054d06)\" style=\"fill: none; stroke: #1f77b4; stroke-width: 1.5; stroke-linecap: square\"/>\n   </g>\n   <g id=\"line2d_37\">\n    <path d=\"M 49.633125 85.983084 \nL 69.163125 90.424555 \nL 88.693125 80.149681 \n\" clip-path=\"url(#p4da7054d06)\" style=\"fill: none; stroke-dasharray: 5.55,2.4; stroke-dashoffset: 0; stroke: #ff7f0e; stroke-width: 1.5\"/>\n   </g>\n   <g id=\"line2d_38\">\n    <path d=\"M 49.633125 40.664304 \nL 69.163125 39.851223 \n\" clip-path=\"url(#p4da7054d06)\" style=\"fill: none; stroke-dasharray: 9.6,2.4,1.5,2.4; stroke-dashoffset: 0; stroke: #2ca02c; stroke-width: 1.5\"/>\n   </g>\n   <g id=\"line2d_39\">\n    <path d=\"M 34.954394 13.5 \nL 44.698573 79.566519 \nL 54.442752 93.300613 \nL 64.186931 101.795847 \nL 73.93111 108.465786 \nL 83.675289 111.491382 \n\" clip-path=\"url(#p4da7054d06)\" style=\"fill: none; stroke: #1f77b4; stroke-width: 1.5; stroke-linecap: square\"/>\n   </g>\n   <g id=\"line2d_40\">\n    <path d=\"M 49.633125 85.983084 \nL 69.163125 90.424555 \nL 88.693125 80.149681 \n\" clip-path=\"url(#p4da7054d06)\" style=\"fill: none; stroke-dasharray: 5.55,2.4; stroke-dashoffset: 0; stroke: #ff7f0e; stroke-width: 1.5\"/>\n   </g>\n   <g id=\"line2d_41\">\n    <path d=\"M 49.633125 40.664304 \nL 69.163125 39.851223 \nL 88.693125 41.438668 \n\" clip-path=\"url(#p4da7054d06)\" style=\"fill: none; stroke-dasharray: 9.6,2.4,1.5,2.4; stroke-dashoffset: 0; stroke: #2ca02c; stroke-width: 1.5\"/>\n   </g>\n   <g id=\"line2d_42\">\n    <path d=\"M 34.954394 13.5 \nL 44.698573 79.566519 \nL 54.442752 93.300613 \nL 64.186931 101.795847 \nL 73.93111 108.465786 \nL 83.675289 111.491382 \nL 93.419468 116.720612 \n\" clip-path=\"url(#p4da7054d06)\" style=\"fill: none; stroke: #1f77b4; stroke-width: 1.5; stroke-linecap: square\"/>\n   </g>\n   <g id=\"line2d_43\">\n    <path d=\"M 49.633125 85.983084 \nL 69.163125 90.424555 \nL 88.693125 80.149681 \n\" clip-path=\"url(#p4da7054d06)\" style=\"fill: none; stroke-dasharray: 5.55,2.4; stroke-dashoffset: 0; stroke: #ff7f0e; stroke-width: 1.5\"/>\n   </g>\n   <g id=\"line2d_44\">\n    <path d=\"M 49.633125 40.664304 \nL 69.163125 39.851223 \nL 88.693125 41.438668 \n\" clip-path=\"url(#p4da7054d06)\" style=\"fill: none; stroke-dasharray: 9.6,2.4,1.5,2.4; stroke-dashoffset: 0; stroke: #2ca02c; stroke-width: 1.5\"/>\n   </g>\n   <g id=\"line2d_45\">\n    <path d=\"M 34.954394 13.5 \nL 44.698573 79.566519 \nL 54.442752 93.300613 \nL 64.186931 101.795847 \nL 73.93111 108.465786 \nL 83.675289 111.491382 \nL 93.419468 116.720612 \nL 103.163647 119.10594 \n\" clip-path=\"url(#p4da7054d06)\" style=\"fill: none; stroke: #1f77b4; stroke-width: 1.5; stroke-linecap: square\"/>\n   </g>\n   <g id=\"line2d_46\">\n    <path d=\"M 49.633125 85.983084 \nL 69.163125 90.424555 \nL 88.693125 80.149681 \n\" clip-path=\"url(#p4da7054d06)\" style=\"fill: none; stroke-dasharray: 5.55,2.4; stroke-dashoffset: 0; stroke: #ff7f0e; stroke-width: 1.5\"/>\n   </g>\n   <g id=\"line2d_47\">\n    <path d=\"M 49.633125 40.664304 \nL 69.163125 39.851223 \nL 88.693125 41.438668 \n\" clip-path=\"url(#p4da7054d06)\" style=\"fill: none; stroke-dasharray: 9.6,2.4,1.5,2.4; stroke-dashoffset: 0; stroke: #2ca02c; stroke-width: 1.5\"/>\n   </g>\n   <g id=\"line2d_48\">\n    <path d=\"M 34.954394 13.5 \nL 44.698573 79.566519 \nL 54.442752 93.300613 \nL 64.186931 101.795847 \nL 73.93111 108.465786 \nL 83.675289 111.491382 \nL 93.419468 116.720612 \nL 103.163647 119.10594 \n\" clip-path=\"url(#p4da7054d06)\" style=\"fill: none; stroke: #1f77b4; stroke-width: 1.5; stroke-linecap: square\"/>\n   </g>\n   <g id=\"line2d_49\">\n    <path d=\"M 49.633125 85.983084 \nL 69.163125 90.424555 \nL 88.693125 80.149681 \nL 108.223125 111.011459 \n\" clip-path=\"url(#p4da7054d06)\" style=\"fill: none; stroke-dasharray: 5.55,2.4; stroke-dashoffset: 0; stroke: #ff7f0e; stroke-width: 1.5\"/>\n   </g>\n   <g id=\"line2d_50\">\n    <path d=\"M 49.633125 40.664304 \nL 69.163125 39.851223 \nL 88.693125 41.438668 \n\" clip-path=\"url(#p4da7054d06)\" style=\"fill: none; stroke-dasharray: 9.6,2.4,1.5,2.4; stroke-dashoffset: 0; stroke: #2ca02c; stroke-width: 1.5\"/>\n   </g>\n   <g id=\"line2d_51\">\n    <path d=\"M 34.954394 13.5 \nL 44.698573 79.566519 \nL 54.442752 93.300613 \nL 64.186931 101.795847 \nL 73.93111 108.465786 \nL 83.675289 111.491382 \nL 93.419468 116.720612 \nL 103.163647 119.10594 \n\" clip-path=\"url(#p4da7054d06)\" style=\"fill: none; stroke: #1f77b4; stroke-width: 1.5; stroke-linecap: square\"/>\n   </g>\n   <g id=\"line2d_52\">\n    <path d=\"M 49.633125 85.983084 \nL 69.163125 90.424555 \nL 88.693125 80.149681 \nL 108.223125 111.011459 \n\" clip-path=\"url(#p4da7054d06)\" style=\"fill: none; stroke-dasharray: 5.55,2.4; stroke-dashoffset: 0; stroke: #ff7f0e; stroke-width: 1.5\"/>\n   </g>\n   <g id=\"line2d_53\">\n    <path d=\"M 49.633125 40.664304 \nL 69.163125 39.851223 \nL 88.693125 41.438668 \nL 108.223125 31.991432 \n\" clip-path=\"url(#p4da7054d06)\" style=\"fill: none; stroke-dasharray: 9.6,2.4,1.5,2.4; stroke-dashoffset: 0; stroke: #2ca02c; stroke-width: 1.5\"/>\n   </g>\n   <g id=\"line2d_54\">\n    <path d=\"M 34.954394 13.5 \nL 44.698573 79.566519 \nL 54.442752 93.300613 \nL 64.186931 101.795847 \nL 73.93111 108.465786 \nL 83.675289 111.491382 \nL 93.419468 116.720612 \nL 103.163647 119.10594 \nL 112.907826 122.214242 \n\" clip-path=\"url(#p4da7054d06)\" style=\"fill: none; stroke: #1f77b4; stroke-width: 1.5; stroke-linecap: square\"/>\n   </g>\n   <g id=\"line2d_55\">\n    <path d=\"M 49.633125 85.983084 \nL 69.163125 90.424555 \nL 88.693125 80.149681 \nL 108.223125 111.011459 \n\" clip-path=\"url(#p4da7054d06)\" style=\"fill: none; stroke-dasharray: 5.55,2.4; stroke-dashoffset: 0; stroke: #ff7f0e; stroke-width: 1.5\"/>\n   </g>\n   <g id=\"line2d_56\">\n    <path d=\"M 49.633125 40.664304 \nL 69.163125 39.851223 \nL 88.693125 41.438668 \nL 108.223125 31.991432 \n\" clip-path=\"url(#p4da7054d06)\" style=\"fill: none; stroke-dasharray: 9.6,2.4,1.5,2.4; stroke-dashoffset: 0; stroke: #2ca02c; stroke-width: 1.5\"/>\n   </g>\n   <g id=\"line2d_57\">\n    <path d=\"M 34.954394 13.5 \nL 44.698573 79.566519 \nL 54.442752 93.300613 \nL 64.186931 101.795847 \nL 73.93111 108.465786 \nL 83.675289 111.491382 \nL 93.419468 116.720612 \nL 103.163647 119.10594 \nL 112.907826 122.214242 \nL 122.652006 124.650235 \n\" clip-path=\"url(#p4da7054d06)\" style=\"fill: none; stroke: #1f77b4; stroke-width: 1.5; stroke-linecap: square\"/>\n   </g>\n   <g id=\"line2d_58\">\n    <path d=\"M 49.633125 85.983084 \nL 69.163125 90.424555 \nL 88.693125 80.149681 \nL 108.223125 111.011459 \n\" clip-path=\"url(#p4da7054d06)\" style=\"fill: none; stroke-dasharray: 5.55,2.4; stroke-dashoffset: 0; stroke: #ff7f0e; stroke-width: 1.5\"/>\n   </g>\n   <g id=\"line2d_59\">\n    <path d=\"M 49.633125 40.664304 \nL 69.163125 39.851223 \nL 88.693125 41.438668 \nL 108.223125 31.991432 \n\" clip-path=\"url(#p4da7054d06)\" style=\"fill: none; stroke-dasharray: 9.6,2.4,1.5,2.4; stroke-dashoffset: 0; stroke: #2ca02c; stroke-width: 1.5\"/>\n   </g>\n   <g id=\"line2d_60\">\n    <path d=\"M 34.954394 13.5 \nL 44.698573 79.566519 \nL 54.442752 93.300613 \nL 64.186931 101.795847 \nL 73.93111 108.465786 \nL 83.675289 111.491382 \nL 93.419468 116.720612 \nL 103.163647 119.10594 \nL 112.907826 122.214242 \nL 122.652006 124.650235 \n\" clip-path=\"url(#p4da7054d06)\" style=\"fill: none; stroke: #1f77b4; stroke-width: 1.5; stroke-linecap: square\"/>\n   </g>\n   <g id=\"line2d_61\">\n    <path d=\"M 49.633125 85.983084 \nL 69.163125 90.424555 \nL 88.693125 80.149681 \nL 108.223125 111.011459 \nL 127.753125 113.825543 \n\" clip-path=\"url(#p4da7054d06)\" style=\"fill: none; stroke-dasharray: 5.55,2.4; stroke-dashoffset: 0; stroke: #ff7f0e; stroke-width: 1.5\"/>\n   </g>\n   <g id=\"line2d_62\">\n    <path d=\"M 49.633125 40.664304 \nL 69.163125 39.851223 \nL 88.693125 41.438668 \nL 108.223125 31.991432 \n\" clip-path=\"url(#p4da7054d06)\" style=\"fill: none; stroke-dasharray: 9.6,2.4,1.5,2.4; stroke-dashoffset: 0; stroke: #2ca02c; stroke-width: 1.5\"/>\n   </g>\n   <g id=\"line2d_63\">\n    <path d=\"M 34.954394 13.5 \nL 44.698573 79.566519 \nL 54.442752 93.300613 \nL 64.186931 101.795847 \nL 73.93111 108.465786 \nL 83.675289 111.491382 \nL 93.419468 116.720612 \nL 103.163647 119.10594 \nL 112.907826 122.214242 \nL 122.652006 124.650235 \n\" clip-path=\"url(#p4da7054d06)\" style=\"fill: none; stroke: #1f77b4; stroke-width: 1.5; stroke-linecap: square\"/>\n   </g>\n   <g id=\"line2d_64\">\n    <path d=\"M 49.633125 85.983084 \nL 69.163125 90.424555 \nL 88.693125 80.149681 \nL 108.223125 111.011459 \nL 127.753125 113.825543 \n\" clip-path=\"url(#p4da7054d06)\" style=\"fill: none; stroke-dasharray: 5.55,2.4; stroke-dashoffset: 0; stroke: #ff7f0e; stroke-width: 1.5\"/>\n   </g>\n   <g id=\"line2d_65\">\n    <path d=\"M 49.633125 40.664304 \nL 69.163125 39.851223 \nL 88.693125 41.438668 \nL 108.223125 31.991432 \nL 127.753125 31.352582 \n\" clip-path=\"url(#p4da7054d06)\" style=\"fill: none; stroke-dasharray: 9.6,2.4,1.5,2.4; stroke-dashoffset: 0; stroke: #2ca02c; stroke-width: 1.5\"/>\n   </g>\n   <g id=\"line2d_66\">\n    <path d=\"M 34.954394 13.5 \nL 44.698573 79.566519 \nL 54.442752 93.300613 \nL 64.186931 101.795847 \nL 73.93111 108.465786 \nL 83.675289 111.491382 \nL 93.419468 116.720612 \nL 103.163647 119.10594 \nL 112.907826 122.214242 \nL 122.652006 124.650235 \nL 132.396185 127.321416 \n\" clip-path=\"url(#p4da7054d06)\" style=\"fill: none; stroke: #1f77b4; stroke-width: 1.5; stroke-linecap: square\"/>\n   </g>\n   <g id=\"line2d_67\">\n    <path d=\"M 49.633125 85.983084 \nL 69.163125 90.424555 \nL 88.693125 80.149681 \nL 108.223125 111.011459 \nL 127.753125 113.825543 \n\" clip-path=\"url(#p4da7054d06)\" style=\"fill: none; stroke-dasharray: 5.55,2.4; stroke-dashoffset: 0; stroke: #ff7f0e; stroke-width: 1.5\"/>\n   </g>\n   <g id=\"line2d_68\">\n    <path d=\"M 49.633125 40.664304 \nL 69.163125 39.851223 \nL 88.693125 41.438668 \nL 108.223125 31.991432 \nL 127.753125 31.352582 \n\" clip-path=\"url(#p4da7054d06)\" style=\"fill: none; stroke-dasharray: 9.6,2.4,1.5,2.4; stroke-dashoffset: 0; stroke: #2ca02c; stroke-width: 1.5\"/>\n   </g>\n   <g id=\"line2d_69\">\n    <path d=\"M 34.954394 13.5 \nL 44.698573 79.566519 \nL 54.442752 93.300613 \nL 64.186931 101.795847 \nL 73.93111 108.465786 \nL 83.675289 111.491382 \nL 93.419468 116.720612 \nL 103.163647 119.10594 \nL 112.907826 122.214242 \nL 122.652006 124.650235 \nL 132.396185 127.321416 \nL 142.140364 128.859216 \n\" clip-path=\"url(#p4da7054d06)\" style=\"fill: none; stroke: #1f77b4; stroke-width: 1.5; stroke-linecap: square\"/>\n   </g>\n   <g id=\"line2d_70\">\n    <path d=\"M 49.633125 85.983084 \nL 69.163125 90.424555 \nL 88.693125 80.149681 \nL 108.223125 111.011459 \nL 127.753125 113.825543 \n\" clip-path=\"url(#p4da7054d06)\" style=\"fill: none; stroke-dasharray: 5.55,2.4; stroke-dashoffset: 0; stroke: #ff7f0e; stroke-width: 1.5\"/>\n   </g>\n   <g id=\"line2d_71\">\n    <path d=\"M 49.633125 40.664304 \nL 69.163125 39.851223 \nL 88.693125 41.438668 \nL 108.223125 31.991432 \nL 127.753125 31.352582 \n\" clip-path=\"url(#p4da7054d06)\" style=\"fill: none; stroke-dasharray: 9.6,2.4,1.5,2.4; stroke-dashoffset: 0; stroke: #2ca02c; stroke-width: 1.5\"/>\n   </g>\n   <g id=\"line2d_72\">\n    <path d=\"M 34.954394 13.5 \nL 44.698573 79.566519 \nL 54.442752 93.300613 \nL 64.186931 101.795847 \nL 73.93111 108.465786 \nL 83.675289 111.491382 \nL 93.419468 116.720612 \nL 103.163647 119.10594 \nL 112.907826 122.214242 \nL 122.652006 124.650235 \nL 132.396185 127.321416 \nL 142.140364 128.859216 \n\" clip-path=\"url(#p4da7054d06)\" style=\"fill: none; stroke: #1f77b4; stroke-width: 1.5; stroke-linecap: square\"/>\n   </g>\n   <g id=\"line2d_73\">\n    <path d=\"M 49.633125 85.983084 \nL 69.163125 90.424555 \nL 88.693125 80.149681 \nL 108.223125 111.011459 \nL 127.753125 113.825543 \nL 147.283125 104.031719 \n\" clip-path=\"url(#p4da7054d06)\" style=\"fill: none; stroke-dasharray: 5.55,2.4; stroke-dashoffset: 0; stroke: #ff7f0e; stroke-width: 1.5\"/>\n   </g>\n   <g id=\"line2d_74\">\n    <path d=\"M 49.633125 40.664304 \nL 69.163125 39.851223 \nL 88.693125 41.438668 \nL 108.223125 31.991432 \nL 127.753125 31.352582 \n\" clip-path=\"url(#p4da7054d06)\" style=\"fill: none; stroke-dasharray: 9.6,2.4,1.5,2.4; stroke-dashoffset: 0; stroke: #2ca02c; stroke-width: 1.5\"/>\n   </g>\n   <g id=\"line2d_75\">\n    <path d=\"M 34.954394 13.5 \nL 44.698573 79.566519 \nL 54.442752 93.300613 \nL 64.186931 101.795847 \nL 73.93111 108.465786 \nL 83.675289 111.491382 \nL 93.419468 116.720612 \nL 103.163647 119.10594 \nL 112.907826 122.214242 \nL 122.652006 124.650235 \nL 132.396185 127.321416 \nL 142.140364 128.859216 \n\" clip-path=\"url(#p4da7054d06)\" style=\"fill: none; stroke: #1f77b4; stroke-width: 1.5; stroke-linecap: square\"/>\n   </g>\n   <g id=\"line2d_76\">\n    <path d=\"M 49.633125 85.983084 \nL 69.163125 90.424555 \nL 88.693125 80.149681 \nL 108.223125 111.011459 \nL 127.753125 113.825543 \nL 147.283125 104.031719 \n\" clip-path=\"url(#p4da7054d06)\" style=\"fill: none; stroke-dasharray: 5.55,2.4; stroke-dashoffset: 0; stroke: #ff7f0e; stroke-width: 1.5\"/>\n   </g>\n   <g id=\"line2d_77\">\n    <path d=\"M 49.633125 40.664304 \nL 69.163125 39.851223 \nL 88.693125 41.438668 \nL 108.223125 31.991432 \nL 127.753125 31.352582 \nL 147.283125 34.217727 \n\" clip-path=\"url(#p4da7054d06)\" style=\"fill: none; stroke-dasharray: 9.6,2.4,1.5,2.4; stroke-dashoffset: 0; stroke: #2ca02c; stroke-width: 1.5\"/>\n   </g>\n   <g id=\"line2d_78\">\n    <path d=\"M 34.954394 13.5 \nL 44.698573 79.566519 \nL 54.442752 93.300613 \nL 64.186931 101.795847 \nL 73.93111 108.465786 \nL 83.675289 111.491382 \nL 93.419468 116.720612 \nL 103.163647 119.10594 \nL 112.907826 122.214242 \nL 122.652006 124.650235 \nL 132.396185 127.321416 \nL 142.140364 128.859216 \nL 151.884543 130.378859 \n\" clip-path=\"url(#p4da7054d06)\" style=\"fill: none; stroke: #1f77b4; stroke-width: 1.5; stroke-linecap: square\"/>\n   </g>\n   <g id=\"line2d_79\">\n    <path d=\"M 49.633125 85.983084 \nL 69.163125 90.424555 \nL 88.693125 80.149681 \nL 108.223125 111.011459 \nL 127.753125 113.825543 \nL 147.283125 104.031719 \n\" clip-path=\"url(#p4da7054d06)\" style=\"fill: none; stroke-dasharray: 5.55,2.4; stroke-dashoffset: 0; stroke: #ff7f0e; stroke-width: 1.5\"/>\n   </g>\n   <g id=\"line2d_80\">\n    <path d=\"M 49.633125 40.664304 \nL 69.163125 39.851223 \nL 88.693125 41.438668 \nL 108.223125 31.991432 \nL 127.753125 31.352582 \nL 147.283125 34.217727 \n\" clip-path=\"url(#p4da7054d06)\" style=\"fill: none; stroke-dasharray: 9.6,2.4,1.5,2.4; stroke-dashoffset: 0; stroke: #2ca02c; stroke-width: 1.5\"/>\n   </g>\n   <g id=\"line2d_81\">\n    <path d=\"M 34.954394 13.5 \nL 44.698573 79.566519 \nL 54.442752 93.300613 \nL 64.186931 101.795847 \nL 73.93111 108.465786 \nL 83.675289 111.491382 \nL 93.419468 116.720612 \nL 103.163647 119.10594 \nL 112.907826 122.214242 \nL 122.652006 124.650235 \nL 132.396185 127.321416 \nL 142.140364 128.859216 \nL 151.884543 130.378859 \nL 161.628722 132.033391 \n\" clip-path=\"url(#p4da7054d06)\" style=\"fill: none; stroke: #1f77b4; stroke-width: 1.5; stroke-linecap: square\"/>\n   </g>\n   <g id=\"line2d_82\">\n    <path d=\"M 49.633125 85.983084 \nL 69.163125 90.424555 \nL 88.693125 80.149681 \nL 108.223125 111.011459 \nL 127.753125 113.825543 \nL 147.283125 104.031719 \n\" clip-path=\"url(#p4da7054d06)\" style=\"fill: none; stroke-dasharray: 5.55,2.4; stroke-dashoffset: 0; stroke: #ff7f0e; stroke-width: 1.5\"/>\n   </g>\n   <g id=\"line2d_83\">\n    <path d=\"M 49.633125 40.664304 \nL 69.163125 39.851223 \nL 88.693125 41.438668 \nL 108.223125 31.991432 \nL 127.753125 31.352582 \nL 147.283125 34.217727 \n\" clip-path=\"url(#p4da7054d06)\" style=\"fill: none; stroke-dasharray: 9.6,2.4,1.5,2.4; stroke-dashoffset: 0; stroke: #2ca02c; stroke-width: 1.5\"/>\n   </g>\n   <g id=\"line2d_84\">\n    <path d=\"M 34.954394 13.5 \nL 44.698573 79.566519 \nL 54.442752 93.300613 \nL 64.186931 101.795847 \nL 73.93111 108.465786 \nL 83.675289 111.491382 \nL 93.419468 116.720612 \nL 103.163647 119.10594 \nL 112.907826 122.214242 \nL 122.652006 124.650235 \nL 132.396185 127.321416 \nL 142.140364 128.859216 \nL 151.884543 130.378859 \nL 161.628722 132.033391 \n\" clip-path=\"url(#p4da7054d06)\" style=\"fill: none; stroke: #1f77b4; stroke-width: 1.5; stroke-linecap: square\"/>\n   </g>\n   <g id=\"line2d_85\">\n    <path d=\"M 49.633125 85.983084 \nL 69.163125 90.424555 \nL 88.693125 80.149681 \nL 108.223125 111.011459 \nL 127.753125 113.825543 \nL 147.283125 104.031719 \nL 166.813125 118.884749 \n\" clip-path=\"url(#p4da7054d06)\" style=\"fill: none; stroke-dasharray: 5.55,2.4; stroke-dashoffset: 0; stroke: #ff7f0e; stroke-width: 1.5\"/>\n   </g>\n   <g id=\"line2d_86\">\n    <path d=\"M 49.633125 40.664304 \nL 69.163125 39.851223 \nL 88.693125 41.438668 \nL 108.223125 31.991432 \nL 127.753125 31.352582 \nL 147.283125 34.217727 \n\" clip-path=\"url(#p4da7054d06)\" style=\"fill: none; stroke-dasharray: 9.6,2.4,1.5,2.4; stroke-dashoffset: 0; stroke: #2ca02c; stroke-width: 1.5\"/>\n   </g>\n   <g id=\"line2d_87\">\n    <path d=\"M 34.954394 13.5 \nL 44.698573 79.566519 \nL 54.442752 93.300613 \nL 64.186931 101.795847 \nL 73.93111 108.465786 \nL 83.675289 111.491382 \nL 93.419468 116.720612 \nL 103.163647 119.10594 \nL 112.907826 122.214242 \nL 122.652006 124.650235 \nL 132.396185 127.321416 \nL 142.140364 128.859216 \nL 151.884543 130.378859 \nL 161.628722 132.033391 \n\" clip-path=\"url(#p4da7054d06)\" style=\"fill: none; stroke: #1f77b4; stroke-width: 1.5; stroke-linecap: square\"/>\n   </g>\n   <g id=\"line2d_88\">\n    <path d=\"M 49.633125 85.983084 \nL 69.163125 90.424555 \nL 88.693125 80.149681 \nL 108.223125 111.011459 \nL 127.753125 113.825543 \nL 147.283125 104.031719 \nL 166.813125 118.884749 \n\" clip-path=\"url(#p4da7054d06)\" style=\"fill: none; stroke-dasharray: 5.55,2.4; stroke-dashoffset: 0; stroke: #ff7f0e; stroke-width: 1.5\"/>\n   </g>\n   <g id=\"line2d_89\">\n    <path d=\"M 49.633125 40.664304 \nL 69.163125 39.851223 \nL 88.693125 41.438668 \nL 108.223125 31.991432 \nL 127.753125 31.352582 \nL 147.283125 34.217727 \nL 166.813125 30.946041 \n\" clip-path=\"url(#p4da7054d06)\" style=\"fill: none; stroke-dasharray: 9.6,2.4,1.5,2.4; stroke-dashoffset: 0; stroke: #2ca02c; stroke-width: 1.5\"/>\n   </g>\n   <g id=\"line2d_90\">\n    <path d=\"M 34.954394 13.5 \nL 44.698573 79.566519 \nL 54.442752 93.300613 \nL 64.186931 101.795847 \nL 73.93111 108.465786 \nL 83.675289 111.491382 \nL 93.419468 116.720612 \nL 103.163647 119.10594 \nL 112.907826 122.214242 \nL 122.652006 124.650235 \nL 132.396185 127.321416 \nL 142.140364 128.859216 \nL 151.884543 130.378859 \nL 161.628722 132.033391 \nL 171.372901 134.644238 \n\" clip-path=\"url(#p4da7054d06)\" style=\"fill: none; stroke: #1f77b4; stroke-width: 1.5; stroke-linecap: square\"/>\n   </g>\n   <g id=\"line2d_91\">\n    <path d=\"M 49.633125 85.983084 \nL 69.163125 90.424555 \nL 88.693125 80.149681 \nL 108.223125 111.011459 \nL 127.753125 113.825543 \nL 147.283125 104.031719 \nL 166.813125 118.884749 \n\" clip-path=\"url(#p4da7054d06)\" style=\"fill: none; stroke-dasharray: 5.55,2.4; stroke-dashoffset: 0; stroke: #ff7f0e; stroke-width: 1.5\"/>\n   </g>\n   <g id=\"line2d_92\">\n    <path d=\"M 49.633125 40.664304 \nL 69.163125 39.851223 \nL 88.693125 41.438668 \nL 108.223125 31.991432 \nL 127.753125 31.352582 \nL 147.283125 34.217727 \nL 166.813125 30.946041 \n\" clip-path=\"url(#p4da7054d06)\" style=\"fill: none; stroke-dasharray: 9.6,2.4,1.5,2.4; stroke-dashoffset: 0; stroke: #2ca02c; stroke-width: 1.5\"/>\n   </g>\n   <g id=\"line2d_93\">\n    <path d=\"M 34.954394 13.5 \nL 44.698573 79.566519 \nL 54.442752 93.300613 \nL 64.186931 101.795847 \nL 73.93111 108.465786 \nL 83.675289 111.491382 \nL 93.419468 116.720612 \nL 103.163647 119.10594 \nL 112.907826 122.214242 \nL 122.652006 124.650235 \nL 132.396185 127.321416 \nL 142.140364 128.859216 \nL 151.884543 130.378859 \nL 161.628722 132.033391 \nL 171.372901 134.644238 \nL 181.11708 134.903185 \n\" clip-path=\"url(#p4da7054d06)\" style=\"fill: none; stroke: #1f77b4; stroke-width: 1.5; stroke-linecap: square\"/>\n   </g>\n   <g id=\"line2d_94\">\n    <path d=\"M 49.633125 85.983084 \nL 69.163125 90.424555 \nL 88.693125 80.149681 \nL 108.223125 111.011459 \nL 127.753125 113.825543 \nL 147.283125 104.031719 \nL 166.813125 118.884749 \n\" clip-path=\"url(#p4da7054d06)\" style=\"fill: none; stroke-dasharray: 5.55,2.4; stroke-dashoffset: 0; stroke: #ff7f0e; stroke-width: 1.5\"/>\n   </g>\n   <g id=\"line2d_95\">\n    <path d=\"M 49.633125 40.664304 \nL 69.163125 39.851223 \nL 88.693125 41.438668 \nL 108.223125 31.991432 \nL 127.753125 31.352582 \nL 147.283125 34.217727 \nL 166.813125 30.946041 \n\" clip-path=\"url(#p4da7054d06)\" style=\"fill: none; stroke-dasharray: 9.6,2.4,1.5,2.4; stroke-dashoffset: 0; stroke: #2ca02c; stroke-width: 1.5\"/>\n   </g>\n   <g id=\"line2d_96\">\n    <path d=\"M 34.954394 13.5 \nL 44.698573 79.566519 \nL 54.442752 93.300613 \nL 64.186931 101.795847 \nL 73.93111 108.465786 \nL 83.675289 111.491382 \nL 93.419468 116.720612 \nL 103.163647 119.10594 \nL 112.907826 122.214242 \nL 122.652006 124.650235 \nL 132.396185 127.321416 \nL 142.140364 128.859216 \nL 151.884543 130.378859 \nL 161.628722 132.033391 \nL 171.372901 134.644238 \nL 181.11708 134.903185 \n\" clip-path=\"url(#p4da7054d06)\" style=\"fill: none; stroke: #1f77b4; stroke-width: 1.5; stroke-linecap: square\"/>\n   </g>\n   <g id=\"line2d_97\">\n    <path d=\"M 49.633125 85.983084 \nL 69.163125 90.424555 \nL 88.693125 80.149681 \nL 108.223125 111.011459 \nL 127.753125 113.825543 \nL 147.283125 104.031719 \nL 166.813125 118.884749 \nL 186.343125 124.692297 \n\" clip-path=\"url(#p4da7054d06)\" style=\"fill: none; stroke-dasharray: 5.55,2.4; stroke-dashoffset: 0; stroke: #ff7f0e; stroke-width: 1.5\"/>\n   </g>\n   <g id=\"line2d_98\">\n    <path d=\"M 49.633125 40.664304 \nL 69.163125 39.851223 \nL 88.693125 41.438668 \nL 108.223125 31.991432 \nL 127.753125 31.352582 \nL 147.283125 34.217727 \nL 166.813125 30.946041 \n\" clip-path=\"url(#p4da7054d06)\" style=\"fill: none; stroke-dasharray: 9.6,2.4,1.5,2.4; stroke-dashoffset: 0; stroke: #2ca02c; stroke-width: 1.5\"/>\n   </g>\n   <g id=\"line2d_99\">\n    <path d=\"M 34.954394 13.5 \nL 44.698573 79.566519 \nL 54.442752 93.300613 \nL 64.186931 101.795847 \nL 73.93111 108.465786 \nL 83.675289 111.491382 \nL 93.419468 116.720612 \nL 103.163647 119.10594 \nL 112.907826 122.214242 \nL 122.652006 124.650235 \nL 132.396185 127.321416 \nL 142.140364 128.859216 \nL 151.884543 130.378859 \nL 161.628722 132.033391 \nL 171.372901 134.644238 \nL 181.11708 134.903185 \n\" clip-path=\"url(#p4da7054d06)\" style=\"fill: none; stroke: #1f77b4; stroke-width: 1.5; stroke-linecap: square\"/>\n   </g>\n   <g id=\"line2d_100\">\n    <path d=\"M 49.633125 85.983084 \nL 69.163125 90.424555 \nL 88.693125 80.149681 \nL 108.223125 111.011459 \nL 127.753125 113.825543 \nL 147.283125 104.031719 \nL 166.813125 118.884749 \nL 186.343125 124.692297 \n\" clip-path=\"url(#p4da7054d06)\" style=\"fill: none; stroke-dasharray: 5.55,2.4; stroke-dashoffset: 0; stroke: #ff7f0e; stroke-width: 1.5\"/>\n   </g>\n   <g id=\"line2d_101\">\n    <path d=\"M 49.633125 40.664304 \nL 69.163125 39.851223 \nL 88.693125 41.438668 \nL 108.223125 31.991432 \nL 127.753125 31.352582 \nL 147.283125 34.217727 \nL 166.813125 30.946041 \nL 186.343125 27.171018 \n\" clip-path=\"url(#p4da7054d06)\" style=\"fill: none; stroke-dasharray: 9.6,2.4,1.5,2.4; stroke-dashoffset: 0; stroke: #2ca02c; stroke-width: 1.5\"/>\n   </g>\n   <g id=\"line2d_102\">\n    <path d=\"M 34.954394 13.5 \nL 44.698573 79.566519 \nL 54.442752 93.300613 \nL 64.186931 101.795847 \nL 73.93111 108.465786 \nL 83.675289 111.491382 \nL 93.419468 116.720612 \nL 103.163647 119.10594 \nL 112.907826 122.214242 \nL 122.652006 124.650235 \nL 132.396185 127.321416 \nL 142.140364 128.859216 \nL 151.884543 130.378859 \nL 161.628722 132.033391 \nL 171.372901 134.644238 \nL 181.11708 134.903185 \nL 190.861259 137.113949 \n\" clip-path=\"url(#p4da7054d06)\" style=\"fill: none; stroke: #1f77b4; stroke-width: 1.5; stroke-linecap: square\"/>\n   </g>\n   <g id=\"line2d_103\">\n    <path d=\"M 49.633125 85.983084 \nL 69.163125 90.424555 \nL 88.693125 80.149681 \nL 108.223125 111.011459 \nL 127.753125 113.825543 \nL 147.283125 104.031719 \nL 166.813125 118.884749 \nL 186.343125 124.692297 \n\" clip-path=\"url(#p4da7054d06)\" style=\"fill: none; stroke-dasharray: 5.55,2.4; stroke-dashoffset: 0; stroke: #ff7f0e; stroke-width: 1.5\"/>\n   </g>\n   <g id=\"line2d_104\">\n    <path d=\"M 49.633125 40.664304 \nL 69.163125 39.851223 \nL 88.693125 41.438668 \nL 108.223125 31.991432 \nL 127.753125 31.352582 \nL 147.283125 34.217727 \nL 166.813125 30.946041 \nL 186.343125 27.171018 \n\" clip-path=\"url(#p4da7054d06)\" style=\"fill: none; stroke-dasharray: 9.6,2.4,1.5,2.4; stroke-dashoffset: 0; stroke: #2ca02c; stroke-width: 1.5\"/>\n   </g>\n   <g id=\"line2d_105\">\n    <path d=\"M 34.954394 13.5 \nL 44.698573 79.566519 \nL 54.442752 93.300613 \nL 64.186931 101.795847 \nL 73.93111 108.465786 \nL 83.675289 111.491382 \nL 93.419468 116.720612 \nL 103.163647 119.10594 \nL 112.907826 122.214242 \nL 122.652006 124.650235 \nL 132.396185 127.321416 \nL 142.140364 128.859216 \nL 151.884543 130.378859 \nL 161.628722 132.033391 \nL 171.372901 134.644238 \nL 181.11708 134.903185 \nL 190.861259 137.113949 \nL 200.605438 137.09132 \n\" clip-path=\"url(#p4da7054d06)\" style=\"fill: none; stroke: #1f77b4; stroke-width: 1.5; stroke-linecap: square\"/>\n   </g>\n   <g id=\"line2d_106\">\n    <path d=\"M 49.633125 85.983084 \nL 69.163125 90.424555 \nL 88.693125 80.149681 \nL 108.223125 111.011459 \nL 127.753125 113.825543 \nL 147.283125 104.031719 \nL 166.813125 118.884749 \nL 186.343125 124.692297 \n\" clip-path=\"url(#p4da7054d06)\" style=\"fill: none; stroke-dasharray: 5.55,2.4; stroke-dashoffset: 0; stroke: #ff7f0e; stroke-width: 1.5\"/>\n   </g>\n   <g id=\"line2d_107\">\n    <path d=\"M 49.633125 40.664304 \nL 69.163125 39.851223 \nL 88.693125 41.438668 \nL 108.223125 31.991432 \nL 127.753125 31.352582 \nL 147.283125 34.217727 \nL 166.813125 30.946041 \nL 186.343125 27.171018 \n\" clip-path=\"url(#p4da7054d06)\" style=\"fill: none; stroke-dasharray: 9.6,2.4,1.5,2.4; stroke-dashoffset: 0; stroke: #2ca02c; stroke-width: 1.5\"/>\n   </g>\n   <g id=\"line2d_108\">\n    <path d=\"M 34.954394 13.5 \nL 44.698573 79.566519 \nL 54.442752 93.300613 \nL 64.186931 101.795847 \nL 73.93111 108.465786 \nL 83.675289 111.491382 \nL 93.419468 116.720612 \nL 103.163647 119.10594 \nL 112.907826 122.214242 \nL 122.652006 124.650235 \nL 132.396185 127.321416 \nL 142.140364 128.859216 \nL 151.884543 130.378859 \nL 161.628722 132.033391 \nL 171.372901 134.644238 \nL 181.11708 134.903185 \nL 190.861259 137.113949 \nL 200.605438 137.09132 \n\" clip-path=\"url(#p4da7054d06)\" style=\"fill: none; stroke: #1f77b4; stroke-width: 1.5; stroke-linecap: square\"/>\n   </g>\n   <g id=\"line2d_109\">\n    <path d=\"M 49.633125 85.983084 \nL 69.163125 90.424555 \nL 88.693125 80.149681 \nL 108.223125 111.011459 \nL 127.753125 113.825543 \nL 147.283125 104.031719 \nL 166.813125 118.884749 \nL 186.343125 124.692297 \nL 205.873125 125.193646 \n\" clip-path=\"url(#p4da7054d06)\" style=\"fill: none; stroke-dasharray: 5.55,2.4; stroke-dashoffset: 0; stroke: #ff7f0e; stroke-width: 1.5\"/>\n   </g>\n   <g id=\"line2d_110\">\n    <path d=\"M 49.633125 40.664304 \nL 69.163125 39.851223 \nL 88.693125 41.438668 \nL 108.223125 31.991432 \nL 127.753125 31.352582 \nL 147.283125 34.217727 \nL 166.813125 30.946041 \nL 186.343125 27.171018 \n\" clip-path=\"url(#p4da7054d06)\" style=\"fill: none; stroke-dasharray: 9.6,2.4,1.5,2.4; stroke-dashoffset: 0; stroke: #2ca02c; stroke-width: 1.5\"/>\n   </g>\n   <g id=\"line2d_111\">\n    <path d=\"M 34.954394 13.5 \nL 44.698573 79.566519 \nL 54.442752 93.300613 \nL 64.186931 101.795847 \nL 73.93111 108.465786 \nL 83.675289 111.491382 \nL 93.419468 116.720612 \nL 103.163647 119.10594 \nL 112.907826 122.214242 \nL 122.652006 124.650235 \nL 132.396185 127.321416 \nL 142.140364 128.859216 \nL 151.884543 130.378859 \nL 161.628722 132.033391 \nL 171.372901 134.644238 \nL 181.11708 134.903185 \nL 190.861259 137.113949 \nL 200.605438 137.09132 \n\" clip-path=\"url(#p4da7054d06)\" style=\"fill: none; stroke: #1f77b4; stroke-width: 1.5; stroke-linecap: square\"/>\n   </g>\n   <g id=\"line2d_112\">\n    <path d=\"M 49.633125 85.983084 \nL 69.163125 90.424555 \nL 88.693125 80.149681 \nL 108.223125 111.011459 \nL 127.753125 113.825543 \nL 147.283125 104.031719 \nL 166.813125 118.884749 \nL 186.343125 124.692297 \nL 205.873125 125.193646 \n\" clip-path=\"url(#p4da7054d06)\" style=\"fill: none; stroke-dasharray: 5.55,2.4; stroke-dashoffset: 0; stroke: #ff7f0e; stroke-width: 1.5\"/>\n   </g>\n   <g id=\"line2d_113\">\n    <path d=\"M 49.633125 40.664304 \nL 69.163125 39.851223 \nL 88.693125 41.438668 \nL 108.223125 31.991432 \nL 127.753125 31.352582 \nL 147.283125 34.217727 \nL 166.813125 30.946041 \nL 186.343125 27.171018 \nL 205.873125 27.461404 \n\" clip-path=\"url(#p4da7054d06)\" style=\"fill: none; stroke-dasharray: 9.6,2.4,1.5,2.4; stroke-dashoffset: 0; stroke: #2ca02c; stroke-width: 1.5\"/>\n   </g>\n   <g id=\"line2d_114\">\n    <path d=\"M 34.954394 13.5 \nL 44.698573 79.566519 \nL 54.442752 93.300613 \nL 64.186931 101.795847 \nL 73.93111 108.465786 \nL 83.675289 111.491382 \nL 93.419468 116.720612 \nL 103.163647 119.10594 \nL 112.907826 122.214242 \nL 122.652006 124.650235 \nL 132.396185 127.321416 \nL 142.140364 128.859216 \nL 151.884543 130.378859 \nL 161.628722 132.033391 \nL 171.372901 134.644238 \nL 181.11708 134.903185 \nL 190.861259 137.113949 \nL 200.605438 137.09132 \nL 210.349618 139.220808 \n\" clip-path=\"url(#p4da7054d06)\" style=\"fill: none; stroke: #1f77b4; stroke-width: 1.5; stroke-linecap: square\"/>\n   </g>\n   <g id=\"line2d_115\">\n    <path d=\"M 49.633125 85.983084 \nL 69.163125 90.424555 \nL 88.693125 80.149681 \nL 108.223125 111.011459 \nL 127.753125 113.825543 \nL 147.283125 104.031719 \nL 166.813125 118.884749 \nL 186.343125 124.692297 \nL 205.873125 125.193646 \n\" clip-path=\"url(#p4da7054d06)\" style=\"fill: none; stroke-dasharray: 5.55,2.4; stroke-dashoffset: 0; stroke: #ff7f0e; stroke-width: 1.5\"/>\n   </g>\n   <g id=\"line2d_116\">\n    <path d=\"M 49.633125 40.664304 \nL 69.163125 39.851223 \nL 88.693125 41.438668 \nL 108.223125 31.991432 \nL 127.753125 31.352582 \nL 147.283125 34.217727 \nL 166.813125 30.946041 \nL 186.343125 27.171018 \nL 205.873125 27.461404 \n\" clip-path=\"url(#p4da7054d06)\" style=\"fill: none; stroke-dasharray: 9.6,2.4,1.5,2.4; stroke-dashoffset: 0; stroke: #2ca02c; stroke-width: 1.5\"/>\n   </g>\n   <g id=\"line2d_117\">\n    <path d=\"M 34.954394 13.5 \nL 44.698573 79.566519 \nL 54.442752 93.300613 \nL 64.186931 101.795847 \nL 73.93111 108.465786 \nL 83.675289 111.491382 \nL 93.419468 116.720612 \nL 103.163647 119.10594 \nL 112.907826 122.214242 \nL 122.652006 124.650235 \nL 132.396185 127.321416 \nL 142.140364 128.859216 \nL 151.884543 130.378859 \nL 161.628722 132.033391 \nL 171.372901 134.644238 \nL 181.11708 134.903185 \nL 190.861259 137.113949 \nL 200.605438 137.09132 \nL 210.349618 139.220808 \nL 220.093797 139.5 \n\" clip-path=\"url(#p4da7054d06)\" style=\"fill: none; stroke: #1f77b4; stroke-width: 1.5; stroke-linecap: square\"/>\n   </g>\n   <g id=\"line2d_118\">\n    <path d=\"M 49.633125 85.983084 \nL 69.163125 90.424555 \nL 88.693125 80.149681 \nL 108.223125 111.011459 \nL 127.753125 113.825543 \nL 147.283125 104.031719 \nL 166.813125 118.884749 \nL 186.343125 124.692297 \nL 205.873125 125.193646 \n\" clip-path=\"url(#p4da7054d06)\" style=\"fill: none; stroke-dasharray: 5.55,2.4; stroke-dashoffset: 0; stroke: #ff7f0e; stroke-width: 1.5\"/>\n   </g>\n   <g id=\"line2d_119\">\n    <path d=\"M 49.633125 40.664304 \nL 69.163125 39.851223 \nL 88.693125 41.438668 \nL 108.223125 31.991432 \nL 127.753125 31.352582 \nL 147.283125 34.217727 \nL 166.813125 30.946041 \nL 186.343125 27.171018 \nL 205.873125 27.461404 \n\" clip-path=\"url(#p4da7054d06)\" style=\"fill: none; stroke-dasharray: 9.6,2.4,1.5,2.4; stroke-dashoffset: 0; stroke: #2ca02c; stroke-width: 1.5\"/>\n   </g>\n   <g id=\"line2d_120\">\n    <path d=\"M 34.954394 13.5 \nL 44.698573 79.566519 \nL 54.442752 93.300613 \nL 64.186931 101.795847 \nL 73.93111 108.465786 \nL 83.675289 111.491382 \nL 93.419468 116.720612 \nL 103.163647 119.10594 \nL 112.907826 122.214242 \nL 122.652006 124.650235 \nL 132.396185 127.321416 \nL 142.140364 128.859216 \nL 151.884543 130.378859 \nL 161.628722 132.033391 \nL 171.372901 134.644238 \nL 181.11708 134.903185 \nL 190.861259 137.113949 \nL 200.605438 137.09132 \nL 210.349618 139.220808 \nL 220.093797 139.5 \n\" clip-path=\"url(#p4da7054d06)\" style=\"fill: none; stroke: #1f77b4; stroke-width: 1.5; stroke-linecap: square\"/>\n   </g>\n   <g id=\"line2d_121\">\n    <path d=\"M 49.633125 85.983084 \nL 69.163125 90.424555 \nL 88.693125 80.149681 \nL 108.223125 111.011459 \nL 127.753125 113.825543 \nL 147.283125 104.031719 \nL 166.813125 118.884749 \nL 186.343125 124.692297 \nL 205.873125 125.193646 \nL 225.403125 128.938982 \n\" clip-path=\"url(#p4da7054d06)\" style=\"fill: none; stroke-dasharray: 5.55,2.4; stroke-dashoffset: 0; stroke: #ff7f0e; stroke-width: 1.5\"/>\n   </g>\n   <g id=\"line2d_122\">\n    <path d=\"M 49.633125 40.664304 \nL 69.163125 39.851223 \nL 88.693125 41.438668 \nL 108.223125 31.991432 \nL 127.753125 31.352582 \nL 147.283125 34.217727 \nL 166.813125 30.946041 \nL 186.343125 27.171018 \nL 205.873125 27.461404 \n\" clip-path=\"url(#p4da7054d06)\" style=\"fill: none; stroke-dasharray: 9.6,2.4,1.5,2.4; stroke-dashoffset: 0; stroke: #2ca02c; stroke-width: 1.5\"/>\n   </g>\n   <g id=\"line2d_123\">\n    <path d=\"M 34.954394 13.5 \nL 44.698573 79.566519 \nL 54.442752 93.300613 \nL 64.186931 101.795847 \nL 73.93111 108.465786 \nL 83.675289 111.491382 \nL 93.419468 116.720612 \nL 103.163647 119.10594 \nL 112.907826 122.214242 \nL 122.652006 124.650235 \nL 132.396185 127.321416 \nL 142.140364 128.859216 \nL 151.884543 130.378859 \nL 161.628722 132.033391 \nL 171.372901 134.644238 \nL 181.11708 134.903185 \nL 190.861259 137.113949 \nL 200.605438 137.09132 \nL 210.349618 139.220808 \nL 220.093797 139.5 \n\" clip-path=\"url(#p4da7054d06)\" style=\"fill: none; stroke: #1f77b4; stroke-width: 1.5; stroke-linecap: square\"/>\n   </g>\n   <g id=\"line2d_124\">\n    <path d=\"M 49.633125 85.983084 \nL 69.163125 90.424555 \nL 88.693125 80.149681 \nL 108.223125 111.011459 \nL 127.753125 113.825543 \nL 147.283125 104.031719 \nL 166.813125 118.884749 \nL 186.343125 124.692297 \nL 205.873125 125.193646 \nL 225.403125 128.938982 \n\" clip-path=\"url(#p4da7054d06)\" style=\"fill: none; stroke-dasharray: 5.55,2.4; stroke-dashoffset: 0; stroke: #ff7f0e; stroke-width: 1.5\"/>\n   </g>\n   <g id=\"line2d_125\">\n    <path d=\"M 49.633125 40.664304 \nL 69.163125 39.851223 \nL 88.693125 41.438668 \nL 108.223125 31.991432 \nL 127.753125 31.352582 \nL 147.283125 34.217727 \nL 166.813125 30.946041 \nL 186.343125 27.171018 \nL 205.873125 27.461404 \nL 225.403125 26.377295 \n\" clip-path=\"url(#p4da7054d06)\" style=\"fill: none; stroke-dasharray: 9.6,2.4,1.5,2.4; stroke-dashoffset: 0; stroke: #2ca02c; stroke-width: 1.5\"/>\n   </g>\n   <g id=\"patch_3\">\n    <path d=\"M 30.103125 145.8 \nL 30.103125 7.2 \n\" style=\"fill: none; stroke: #000000; stroke-width: 0.8; stroke-linejoin: miter; stroke-linecap: square\"/>\n   </g>\n   <g id=\"patch_4\">\n    <path d=\"M 225.403125 145.8 \nL 225.403125 7.2 \n\" style=\"fill: none; stroke: #000000; stroke-width: 0.8; stroke-linejoin: miter; stroke-linecap: square\"/>\n   </g>\n   <g id=\"patch_5\">\n    <path d=\"M 30.103125 145.8 \nL 225.403125 145.8 \n\" style=\"fill: none; stroke: #000000; stroke-width: 0.8; stroke-linejoin: miter; stroke-linecap: square\"/>\n   </g>\n   <g id=\"patch_6\">\n    <path d=\"M 30.103125 7.2 \nL 225.403125 7.2 \n\" style=\"fill: none; stroke: #000000; stroke-width: 0.8; stroke-linejoin: miter; stroke-linecap: square\"/>\n   </g>\n   <g id=\"legend_1\">\n    <g id=\"patch_7\">\n     <path d=\"M 138.8125 100.434375 \nL 218.403125 100.434375 \nQ 220.403125 100.434375 220.403125 98.434375 \nL 220.403125 54.565625 \nQ 220.403125 52.565625 218.403125 52.565625 \nL 138.8125 52.565625 \nQ 136.8125 52.565625 136.8125 54.565625 \nL 136.8125 98.434375 \nQ 136.8125 100.434375 138.8125 100.434375 \nz\n\" style=\"fill: #ffffff; opacity: 0.8; stroke: #cccccc; stroke-linejoin: miter\"/>\n    </g>\n    <g id=\"line2d_126\">\n     <path d=\"M 140.8125 60.664063 \nL 150.8125 60.664063 \nL 160.8125 60.664063 \n\" style=\"fill: none; stroke: #1f77b4; stroke-width: 1.5; stroke-linecap: square\"/>\n    </g>\n    <g id=\"text_11\">\n     <!-- train_loss -->\n     <g transform=\"translate(168.8125 64.164063) scale(0.1 -0.1)\">\n      <defs>\n       <path id=\"DejaVuSans-74\" d=\"M 1172 4494 \nL 1172 3500 \nL 2356 3500 \nL 2356 3053 \nL 1172 3053 \nL 1172 1153 \nQ 1172 725 1289 603 \nQ 1406 481 1766 481 \nL 2356 481 \nL 2356 0 \nL 1766 0 \nQ 1100 0 847 248 \nQ 594 497 594 1153 \nL 594 3053 \nL 172 3053 \nL 172 3500 \nL 594 3500 \nL 594 4494 \nL 1172 4494 \nz\n\" transform=\"scale(0.015625)\"/>\n       <path id=\"DejaVuSans-72\" d=\"M 2631 2963 \nQ 2534 3019 2420 3045 \nQ 2306 3072 2169 3072 \nQ 1681 3072 1420 2755 \nQ 1159 2438 1159 1844 \nL 1159 0 \nL 581 0 \nL 581 3500 \nL 1159 3500 \nL 1159 2956 \nQ 1341 3275 1631 3429 \nQ 1922 3584 2338 3584 \nQ 2397 3584 2469 3576 \nQ 2541 3569 2628 3553 \nL 2631 2963 \nz\n\" transform=\"scale(0.015625)\"/>\n       <path id=\"DejaVuSans-61\" d=\"M 2194 1759 \nQ 1497 1759 1228 1600 \nQ 959 1441 959 1056 \nQ 959 750 1161 570 \nQ 1363 391 1709 391 \nQ 2188 391 2477 730 \nQ 2766 1069 2766 1631 \nL 2766 1759 \nL 2194 1759 \nz\nM 3341 1997 \nL 3341 0 \nL 2766 0 \nL 2766 531 \nQ 2569 213 2275 61 \nQ 1981 -91 1556 -91 \nQ 1019 -91 701 211 \nQ 384 513 384 1019 \nQ 384 1609 779 1909 \nQ 1175 2209 1959 2209 \nL 2766 2209 \nL 2766 2266 \nQ 2766 2663 2505 2880 \nQ 2244 3097 1772 3097 \nQ 1472 3097 1187 3025 \nQ 903 2953 641 2809 \nL 641 3341 \nQ 956 3463 1253 3523 \nQ 1550 3584 1831 3584 \nQ 2591 3584 2966 3190 \nQ 3341 2797 3341 1997 \nz\n\" transform=\"scale(0.015625)\"/>\n       <path id=\"DejaVuSans-69\" d=\"M 603 3500 \nL 1178 3500 \nL 1178 0 \nL 603 0 \nL 603 3500 \nz\nM 603 4863 \nL 1178 4863 \nL 1178 4134 \nL 603 4134 \nL 603 4863 \nz\n\" transform=\"scale(0.015625)\"/>\n       <path id=\"DejaVuSans-6e\" d=\"M 3513 2113 \nL 3513 0 \nL 2938 0 \nL 2938 2094 \nQ 2938 2591 2744 2837 \nQ 2550 3084 2163 3084 \nQ 1697 3084 1428 2787 \nQ 1159 2491 1159 1978 \nL 1159 0 \nL 581 0 \nL 581 3500 \nL 1159 3500 \nL 1159 2956 \nQ 1366 3272 1645 3428 \nQ 1925 3584 2291 3584 \nQ 2894 3584 3203 3211 \nQ 3513 2838 3513 2113 \nz\n\" transform=\"scale(0.015625)\"/>\n       <path id=\"DejaVuSans-5f\" d=\"M 3263 -1063 \nL 3263 -1509 \nL -63 -1509 \nL -63 -1063 \nL 3263 -1063 \nz\n\" transform=\"scale(0.015625)\"/>\n       <path id=\"DejaVuSans-6c\" d=\"M 603 4863 \nL 1178 4863 \nL 1178 0 \nL 603 0 \nL 603 4863 \nz\n\" transform=\"scale(0.015625)\"/>\n       <path id=\"DejaVuSans-73\" d=\"M 2834 3397 \nL 2834 2853 \nQ 2591 2978 2328 3040 \nQ 2066 3103 1784 3103 \nQ 1356 3103 1142 2972 \nQ 928 2841 928 2578 \nQ 928 2378 1081 2264 \nQ 1234 2150 1697 2047 \nL 1894 2003 \nQ 2506 1872 2764 1633 \nQ 3022 1394 3022 966 \nQ 3022 478 2636 193 \nQ 2250 -91 1575 -91 \nQ 1294 -91 989 -36 \nQ 684 19 347 128 \nL 347 722 \nQ 666 556 975 473 \nQ 1284 391 1588 391 \nQ 1994 391 2212 530 \nQ 2431 669 2431 922 \nQ 2431 1156 2273 1281 \nQ 2116 1406 1581 1522 \nL 1381 1569 \nQ 847 1681 609 1914 \nQ 372 2147 372 2553 \nQ 372 3047 722 3315 \nQ 1072 3584 1716 3584 \nQ 2034 3584 2315 3537 \nQ 2597 3491 2834 3397 \nz\n\" transform=\"scale(0.015625)\"/>\n      </defs>\n      <use xlink:href=\"#DejaVuSans-74\"/>\n      <use xlink:href=\"#DejaVuSans-72\" x=\"39.208984\"/>\n      <use xlink:href=\"#DejaVuSans-61\" x=\"80.322266\"/>\n      <use xlink:href=\"#DejaVuSans-69\" x=\"141.601562\"/>\n      <use xlink:href=\"#DejaVuSans-6e\" x=\"169.384766\"/>\n      <use xlink:href=\"#DejaVuSans-5f\" x=\"232.763672\"/>\n      <use xlink:href=\"#DejaVuSans-6c\" x=\"282.763672\"/>\n      <use xlink:href=\"#DejaVuSans-6f\" x=\"310.546875\"/>\n      <use xlink:href=\"#DejaVuSans-73\" x=\"371.728516\"/>\n      <use xlink:href=\"#DejaVuSans-73\" x=\"423.828125\"/>\n     </g>\n    </g>\n    <g id=\"line2d_127\">\n     <path d=\"M 140.8125 75.620313 \nL 150.8125 75.620313 \nL 160.8125 75.620313 \n\" style=\"fill: none; stroke-dasharray: 5.55,2.4; stroke-dashoffset: 0; stroke: #ff7f0e; stroke-width: 1.5\"/>\n    </g>\n    <g id=\"text_12\">\n     <!-- val_loss -->\n     <g transform=\"translate(168.8125 79.120313) scale(0.1 -0.1)\">\n      <defs>\n       <path id=\"DejaVuSans-76\" d=\"M 191 3500 \nL 800 3500 \nL 1894 563 \nL 2988 3500 \nL 3597 3500 \nL 2284 0 \nL 1503 0 \nL 191 3500 \nz\n\" transform=\"scale(0.015625)\"/>\n      </defs>\n      <use xlink:href=\"#DejaVuSans-76\"/>\n      <use xlink:href=\"#DejaVuSans-61\" x=\"59.179688\"/>\n      <use xlink:href=\"#DejaVuSans-6c\" x=\"120.458984\"/>\n      <use xlink:href=\"#DejaVuSans-5f\" x=\"148.242188\"/>\n      <use xlink:href=\"#DejaVuSans-6c\" x=\"198.242188\"/>\n      <use xlink:href=\"#DejaVuSans-6f\" x=\"226.025391\"/>\n      <use xlink:href=\"#DejaVuSans-73\" x=\"287.207031\"/>\n      <use xlink:href=\"#DejaVuSans-73\" x=\"339.306641\"/>\n     </g>\n    </g>\n    <g id=\"line2d_128\">\n     <path d=\"M 140.8125 90.576563 \nL 150.8125 90.576563 \nL 160.8125 90.576563 \n\" style=\"fill: none; stroke-dasharray: 9.6,2.4,1.5,2.4; stroke-dashoffset: 0; stroke: #2ca02c; stroke-width: 1.5\"/>\n    </g>\n    <g id=\"text_13\">\n     <!-- val_acc -->\n     <g transform=\"translate(168.8125 94.076563) scale(0.1 -0.1)\">\n      <use xlink:href=\"#DejaVuSans-76\"/>\n      <use xlink:href=\"#DejaVuSans-61\" x=\"59.179688\"/>\n      <use xlink:href=\"#DejaVuSans-6c\" x=\"120.458984\"/>\n      <use xlink:href=\"#DejaVuSans-5f\" x=\"148.242188\"/>\n      <use xlink:href=\"#DejaVuSans-61\" x=\"198.242188\"/>\n      <use xlink:href=\"#DejaVuSans-63\" x=\"259.521484\"/>\n      <use xlink:href=\"#DejaVuSans-63\" x=\"314.501953\"/>\n     </g>\n    </g>\n   </g>\n  </g>\n </g>\n <defs>\n  <clipPath id=\"p4da7054d06\">\n   <rect x=\"30.103125\" y=\"7.2\" width=\"195.3\" height=\"138.6\"/>\n  </clipPath>\n </defs>\n</svg>\n"
          },
          "metadata": {}
        }
      ]
    },
    {
      "cell_type": "markdown",
      "source": [
        "Let's [**have a look at the scale parameter `gamma`\n",
        "and the shift parameter `beta`**] learned\n",
        "from the first batch normalization layer.\n"
      ],
      "metadata": {
        "id": "VMbrdX3wNOlf"
      },
      "id": "VMbrdX3wNOlf"
    },
    {
      "cell_type": "code",
      "source": [
        "model.net[1].gamma.reshape((-1,)), model.net[1].beta.reshape((-1,))"
      ],
      "metadata": {
        "colab": {
          "base_uri": "https://localhost:8080/"
        },
        "id": "3scSZIKZNYid",
        "outputId": "908ca749-cf20-4f39-e84b-cd2012628f5e"
      },
      "id": "3scSZIKZNYid",
      "execution_count": null,
      "outputs": [
        {
          "output_type": "execute_result",
          "data": {
            "text/plain": [
              "(tensor([1.7283, 2.1640, 1.5319, 1.7878, 1.7634, 1.8715], device='cuda:0',\n",
              "        grad_fn=<ViewBackward0>),\n",
              " tensor([ 1.3856,  0.7817,  1.1143,  1.2834,  0.8478, -1.2388], device='cuda:0',\n",
              "        grad_fn=<ViewBackward0>))"
            ]
          },
          "metadata": {},
          "execution_count": 30
        }
      ]
    },
    {
      "cell_type": "markdown",
      "source": [
        "## [**Concise Implementation**]\n",
        "\n",
        "Compared with the `BatchNorm` class,\n",
        "which we just defined ourselves,\n",
        "we can use the `BatchNorm` class defined in high-level APIs from the deep learning framework directly.\n",
        "The code looks virtually identical\n",
        "to our implementation above, except that we no longer need to provide additional arguments for it to get the dimensions right.\n"
      ],
      "metadata": {
        "id": "KrC7VoxUNdPg"
      },
      "id": "KrC7VoxUNdPg"
    },
    {
      "cell_type": "code",
      "source": [
        "class BNLeNet(d2l.Classifier):\n",
        "    def __init__(self, lr=0.1, num_classes=10):\n",
        "        super().__init__()\n",
        "        self.save_hyperparameters()\n",
        "        self.net = nn.Sequential(\n",
        "            nn.LazyConv2d(6, kernel_size=5), nn.LazyBatchNorm2d(),\n",
        "            nn.Sigmoid(), nn.AvgPool2d(kernel_size=2, stride=2),\n",
        "            nn.LazyConv2d(16, kernel_size=5), nn.LazyBatchNorm2d(),\n",
        "            nn.Sigmoid(), nn.AvgPool2d(kernel_size=2, stride=2),\n",
        "            nn.Flatten(), nn.LazyLinear(120), nn.LazyBatchNorm1d(),\n",
        "            nn.Sigmoid(), nn.LazyLinear(84), nn.LazyBatchNorm1d(),\n",
        "            nn.Sigmoid(), nn.LazyLinear(num_classes))"
      ],
      "metadata": {
        "id": "4gqRY6Q0Nd4S"
      },
      "id": "4gqRY6Q0Nd4S",
      "execution_count": null,
      "outputs": []
    },
    {
      "cell_type": "markdown",
      "source": [
        "Below, we [**use the same hyperparameters to train our model.**]\n",
        "Note that as usual, the high-level API variant runs much faster\n",
        "because its code has been compiled to C++ or CUDA\n",
        "while our custom implementation must be interpreted by Python.\n"
      ],
      "metadata": {
        "id": "jrCjhEXiNiAM"
      },
      "id": "jrCjhEXiNiAM"
    },
    {
      "cell_type": "code",
      "source": [
        "trainer = d2l.Trainer(max_epochs=10, num_gpus=1)\n",
        "data = d2l.FashionMNIST(batch_size=128)\n",
        "model = BNLeNet(lr=0.1)\n",
        "model.apply_init([next(iter(data.get_dataloader(True)))[0]], d2l.init_cnn)\n",
        "trainer.fit(model, data)"
      ],
      "metadata": {
        "colab": {
          "base_uri": "https://localhost:8080/",
          "height": 265
        },
        "id": "bs7Q3Zi_NgKm",
        "outputId": "1edd01c3-ad77-4ab6-c950-d608ff5e1ab0"
      },
      "id": "bs7Q3Zi_NgKm",
      "execution_count": null,
      "outputs": [
        {
          "output_type": "display_data",
          "data": {
            "text/plain": [
              "<Figure size 350x250 with 1 Axes>"
            ],
            "image/svg+xml": "<?xml version=\"1.0\" encoding=\"utf-8\" standalone=\"no\"?>\n<!DOCTYPE svg PUBLIC \"-//W3C//DTD SVG 1.1//EN\"\n  \"http://www.w3.org/Graphics/SVG/1.1/DTD/svg11.dtd\">\n<svg xmlns:xlink=\"http://www.w3.org/1999/xlink\" width=\"238.965625pt\" height=\"183.35625pt\" viewBox=\"0 0 238.965625 183.35625\" xmlns=\"http://www.w3.org/2000/svg\" version=\"1.1\">\n <metadata>\n  <rdf:RDF xmlns:dc=\"http://purl.org/dc/elements/1.1/\" xmlns:cc=\"http://creativecommons.org/ns#\" xmlns:rdf=\"http://www.w3.org/1999/02/22-rdf-syntax-ns#\">\n   <cc:Work>\n    <dc:type rdf:resource=\"http://purl.org/dc/dcmitype/StillImage\"/>\n    <dc:date>2024-09-29T09:59:05.648341</dc:date>\n    <dc:format>image/svg+xml</dc:format>\n    <dc:creator>\n     <cc:Agent>\n      <dc:title>Matplotlib v3.7.2, https://matplotlib.org/</dc:title>\n     </cc:Agent>\n    </dc:creator>\n   </cc:Work>\n  </rdf:RDF>\n </metadata>\n <defs>\n  <style type=\"text/css\">*{stroke-linejoin: round; stroke-linecap: butt}</style>\n </defs>\n <g id=\"figure_1\">\n  <g id=\"patch_1\">\n   <path d=\"M 0 183.35625 \nL 238.965625 183.35625 \nL 238.965625 0 \nL 0 0 \nz\n\" style=\"fill: #ffffff\"/>\n  </g>\n  <g id=\"axes_1\">\n   <g id=\"patch_2\">\n    <path d=\"M 30.103125 145.8 \nL 225.403125 145.8 \nL 225.403125 7.2 \nL 30.103125 7.2 \nz\n\" style=\"fill: #ffffff\"/>\n   </g>\n   <g id=\"matplotlib.axis_1\">\n    <g id=\"xtick_1\">\n     <g id=\"line2d_1\">\n      <defs>\n       <path id=\"m4fc5b57175\" d=\"M 0 0 \nL 0 3.5 \n\" style=\"stroke: #000000; stroke-width: 0.8\"/>\n      </defs>\n      <g>\n       <use xlink:href=\"#m4fc5b57175\" x=\"30.103125\" y=\"145.8\" style=\"stroke: #000000; stroke-width: 0.8\"/>\n      </g>\n     </g>\n     <g id=\"text_1\">\n      <!-- 0 -->\n      <g transform=\"translate(26.921875 160.398438) scale(0.1 -0.1)\">\n       <defs>\n        <path id=\"DejaVuSans-30\" d=\"M 2034 4250 \nQ 1547 4250 1301 3770 \nQ 1056 3291 1056 2328 \nQ 1056 1369 1301 889 \nQ 1547 409 2034 409 \nQ 2525 409 2770 889 \nQ 3016 1369 3016 2328 \nQ 3016 3291 2770 3770 \nQ 2525 4250 2034 4250 \nz\nM 2034 4750 \nQ 2819 4750 3233 4129 \nQ 3647 3509 3647 2328 \nQ 3647 1150 3233 529 \nQ 2819 -91 2034 -91 \nQ 1250 -91 836 529 \nQ 422 1150 422 2328 \nQ 422 3509 836 4129 \nQ 1250 4750 2034 4750 \nz\n\" transform=\"scale(0.015625)\"/>\n       </defs>\n       <use xlink:href=\"#DejaVuSans-30\"/>\n      </g>\n     </g>\n    </g>\n    <g id=\"xtick_2\">\n     <g id=\"line2d_2\">\n      <g>\n       <use xlink:href=\"#m4fc5b57175\" x=\"69.163125\" y=\"145.8\" style=\"stroke: #000000; stroke-width: 0.8\"/>\n      </g>\n     </g>\n     <g id=\"text_2\">\n      <!-- 2 -->\n      <g transform=\"translate(65.981875 160.398438) scale(0.1 -0.1)\">\n       <defs>\n        <path id=\"DejaVuSans-32\" d=\"M 1228 531 \nL 3431 531 \nL 3431 0 \nL 469 0 \nL 469 531 \nQ 828 903 1448 1529 \nQ 2069 2156 2228 2338 \nQ 2531 2678 2651 2914 \nQ 2772 3150 2772 3378 \nQ 2772 3750 2511 3984 \nQ 2250 4219 1831 4219 \nQ 1534 4219 1204 4116 \nQ 875 4013 500 3803 \nL 500 4441 \nQ 881 4594 1212 4672 \nQ 1544 4750 1819 4750 \nQ 2544 4750 2975 4387 \nQ 3406 4025 3406 3419 \nQ 3406 3131 3298 2873 \nQ 3191 2616 2906 2266 \nQ 2828 2175 2409 1742 \nQ 1991 1309 1228 531 \nz\n\" transform=\"scale(0.015625)\"/>\n       </defs>\n       <use xlink:href=\"#DejaVuSans-32\"/>\n      </g>\n     </g>\n    </g>\n    <g id=\"xtick_3\">\n     <g id=\"line2d_3\">\n      <g>\n       <use xlink:href=\"#m4fc5b57175\" x=\"108.223125\" y=\"145.8\" style=\"stroke: #000000; stroke-width: 0.8\"/>\n      </g>\n     </g>\n     <g id=\"text_3\">\n      <!-- 4 -->\n      <g transform=\"translate(105.041875 160.398438) scale(0.1 -0.1)\">\n       <defs>\n        <path id=\"DejaVuSans-34\" d=\"M 2419 4116 \nL 825 1625 \nL 2419 1625 \nL 2419 4116 \nz\nM 2253 4666 \nL 3047 4666 \nL 3047 1625 \nL 3713 1625 \nL 3713 1100 \nL 3047 1100 \nL 3047 0 \nL 2419 0 \nL 2419 1100 \nL 313 1100 \nL 313 1709 \nL 2253 4666 \nz\n\" transform=\"scale(0.015625)\"/>\n       </defs>\n       <use xlink:href=\"#DejaVuSans-34\"/>\n      </g>\n     </g>\n    </g>\n    <g id=\"xtick_4\">\n     <g id=\"line2d_4\">\n      <g>\n       <use xlink:href=\"#m4fc5b57175\" x=\"147.283125\" y=\"145.8\" style=\"stroke: #000000; stroke-width: 0.8\"/>\n      </g>\n     </g>\n     <g id=\"text_4\">\n      <!-- 6 -->\n      <g transform=\"translate(144.101875 160.398438) scale(0.1 -0.1)\">\n       <defs>\n        <path id=\"DejaVuSans-36\" d=\"M 2113 2584 \nQ 1688 2584 1439 2293 \nQ 1191 2003 1191 1497 \nQ 1191 994 1439 701 \nQ 1688 409 2113 409 \nQ 2538 409 2786 701 \nQ 3034 994 3034 1497 \nQ 3034 2003 2786 2293 \nQ 2538 2584 2113 2584 \nz\nM 3366 4563 \nL 3366 3988 \nQ 3128 4100 2886 4159 \nQ 2644 4219 2406 4219 \nQ 1781 4219 1451 3797 \nQ 1122 3375 1075 2522 \nQ 1259 2794 1537 2939 \nQ 1816 3084 2150 3084 \nQ 2853 3084 3261 2657 \nQ 3669 2231 3669 1497 \nQ 3669 778 3244 343 \nQ 2819 -91 2113 -91 \nQ 1303 -91 875 529 \nQ 447 1150 447 2328 \nQ 447 3434 972 4092 \nQ 1497 4750 2381 4750 \nQ 2619 4750 2861 4703 \nQ 3103 4656 3366 4563 \nz\n\" transform=\"scale(0.015625)\"/>\n       </defs>\n       <use xlink:href=\"#DejaVuSans-36\"/>\n      </g>\n     </g>\n    </g>\n    <g id=\"xtick_5\">\n     <g id=\"line2d_5\">\n      <g>\n       <use xlink:href=\"#m4fc5b57175\" x=\"186.343125\" y=\"145.8\" style=\"stroke: #000000; stroke-width: 0.8\"/>\n      </g>\n     </g>\n     <g id=\"text_5\">\n      <!-- 8 -->\n      <g transform=\"translate(183.161875 160.398438) scale(0.1 -0.1)\">\n       <defs>\n        <path id=\"DejaVuSans-38\" d=\"M 2034 2216 \nQ 1584 2216 1326 1975 \nQ 1069 1734 1069 1313 \nQ 1069 891 1326 650 \nQ 1584 409 2034 409 \nQ 2484 409 2743 651 \nQ 3003 894 3003 1313 \nQ 3003 1734 2745 1975 \nQ 2488 2216 2034 2216 \nz\nM 1403 2484 \nQ 997 2584 770 2862 \nQ 544 3141 544 3541 \nQ 544 4100 942 4425 \nQ 1341 4750 2034 4750 \nQ 2731 4750 3128 4425 \nQ 3525 4100 3525 3541 \nQ 3525 3141 3298 2862 \nQ 3072 2584 2669 2484 \nQ 3125 2378 3379 2068 \nQ 3634 1759 3634 1313 \nQ 3634 634 3220 271 \nQ 2806 -91 2034 -91 \nQ 1263 -91 848 271 \nQ 434 634 434 1313 \nQ 434 1759 690 2068 \nQ 947 2378 1403 2484 \nz\nM 1172 3481 \nQ 1172 3119 1398 2916 \nQ 1625 2713 2034 2713 \nQ 2441 2713 2670 2916 \nQ 2900 3119 2900 3481 \nQ 2900 3844 2670 4047 \nQ 2441 4250 2034 4250 \nQ 1625 4250 1398 4047 \nQ 1172 3844 1172 3481 \nz\n\" transform=\"scale(0.015625)\"/>\n       </defs>\n       <use xlink:href=\"#DejaVuSans-38\"/>\n      </g>\n     </g>\n    </g>\n    <g id=\"xtick_6\">\n     <g id=\"line2d_6\">\n      <g>\n       <use xlink:href=\"#m4fc5b57175\" x=\"225.403125\" y=\"145.8\" style=\"stroke: #000000; stroke-width: 0.8\"/>\n      </g>\n     </g>\n     <g id=\"text_6\">\n      <!-- 10 -->\n      <g transform=\"translate(219.040625 160.398438) scale(0.1 -0.1)\">\n       <defs>\n        <path id=\"DejaVuSans-31\" d=\"M 794 531 \nL 1825 531 \nL 1825 4091 \nL 703 3866 \nL 703 4441 \nL 1819 4666 \nL 2450 4666 \nL 2450 531 \nL 3481 531 \nL 3481 0 \nL 794 0 \nL 794 531 \nz\n\" transform=\"scale(0.015625)\"/>\n       </defs>\n       <use xlink:href=\"#DejaVuSans-31\"/>\n       <use xlink:href=\"#DejaVuSans-30\" x=\"63.623047\"/>\n      </g>\n     </g>\n    </g>\n    <g id=\"text_7\">\n     <!-- epoch -->\n     <g transform=\"translate(112.525 174.076563) scale(0.1 -0.1)\">\n      <defs>\n       <path id=\"DejaVuSans-65\" d=\"M 3597 1894 \nL 3597 1613 \nL 953 1613 \nQ 991 1019 1311 708 \nQ 1631 397 2203 397 \nQ 2534 397 2845 478 \nQ 3156 559 3463 722 \nL 3463 178 \nQ 3153 47 2828 -22 \nQ 2503 -91 2169 -91 \nQ 1331 -91 842 396 \nQ 353 884 353 1716 \nQ 353 2575 817 3079 \nQ 1281 3584 2069 3584 \nQ 2775 3584 3186 3129 \nQ 3597 2675 3597 1894 \nz\nM 3022 2063 \nQ 3016 2534 2758 2815 \nQ 2500 3097 2075 3097 \nQ 1594 3097 1305 2825 \nQ 1016 2553 972 2059 \nL 3022 2063 \nz\n\" transform=\"scale(0.015625)\"/>\n       <path id=\"DejaVuSans-70\" d=\"M 1159 525 \nL 1159 -1331 \nL 581 -1331 \nL 581 3500 \nL 1159 3500 \nL 1159 2969 \nQ 1341 3281 1617 3432 \nQ 1894 3584 2278 3584 \nQ 2916 3584 3314 3078 \nQ 3713 2572 3713 1747 \nQ 3713 922 3314 415 \nQ 2916 -91 2278 -91 \nQ 1894 -91 1617 61 \nQ 1341 213 1159 525 \nz\nM 3116 1747 \nQ 3116 2381 2855 2742 \nQ 2594 3103 2138 3103 \nQ 1681 3103 1420 2742 \nQ 1159 2381 1159 1747 \nQ 1159 1113 1420 752 \nQ 1681 391 2138 391 \nQ 2594 391 2855 752 \nQ 3116 1113 3116 1747 \nz\n\" transform=\"scale(0.015625)\"/>\n       <path id=\"DejaVuSans-6f\" d=\"M 1959 3097 \nQ 1497 3097 1228 2736 \nQ 959 2375 959 1747 \nQ 959 1119 1226 758 \nQ 1494 397 1959 397 \nQ 2419 397 2687 759 \nQ 2956 1122 2956 1747 \nQ 2956 2369 2687 2733 \nQ 2419 3097 1959 3097 \nz\nM 1959 3584 \nQ 2709 3584 3137 3096 \nQ 3566 2609 3566 1747 \nQ 3566 888 3137 398 \nQ 2709 -91 1959 -91 \nQ 1206 -91 779 398 \nQ 353 888 353 1747 \nQ 353 2609 779 3096 \nQ 1206 3584 1959 3584 \nz\n\" transform=\"scale(0.015625)\"/>\n       <path id=\"DejaVuSans-63\" d=\"M 3122 3366 \nL 3122 2828 \nQ 2878 2963 2633 3030 \nQ 2388 3097 2138 3097 \nQ 1578 3097 1268 2742 \nQ 959 2388 959 1747 \nQ 959 1106 1268 751 \nQ 1578 397 2138 397 \nQ 2388 397 2633 464 \nQ 2878 531 3122 666 \nL 3122 134 \nQ 2881 22 2623 -34 \nQ 2366 -91 2075 -91 \nQ 1284 -91 818 406 \nQ 353 903 353 1747 \nQ 353 2603 823 3093 \nQ 1294 3584 2113 3584 \nQ 2378 3584 2631 3529 \nQ 2884 3475 3122 3366 \nz\n\" transform=\"scale(0.015625)\"/>\n       <path id=\"DejaVuSans-68\" d=\"M 3513 2113 \nL 3513 0 \nL 2938 0 \nL 2938 2094 \nQ 2938 2591 2744 2837 \nQ 2550 3084 2163 3084 \nQ 1697 3084 1428 2787 \nQ 1159 2491 1159 1978 \nL 1159 0 \nL 581 0 \nL 581 4863 \nL 1159 4863 \nL 1159 2956 \nQ 1366 3272 1645 3428 \nQ 1925 3584 2291 3584 \nQ 2894 3584 3203 3211 \nQ 3513 2838 3513 2113 \nz\n\" transform=\"scale(0.015625)\"/>\n      </defs>\n      <use xlink:href=\"#DejaVuSans-65\"/>\n      <use xlink:href=\"#DejaVuSans-70\" x=\"61.523438\"/>\n      <use xlink:href=\"#DejaVuSans-6f\" x=\"125\"/>\n      <use xlink:href=\"#DejaVuSans-63\" x=\"186.181641\"/>\n      <use xlink:href=\"#DejaVuSans-68\" x=\"241.162109\"/>\n     </g>\n    </g>\n   </g>\n   <g id=\"matplotlib.axis_2\">\n    <g id=\"ytick_1\">\n     <g id=\"line2d_7\">\n      <defs>\n       <path id=\"m4f745db874\" d=\"M 0 0 \nL -3.5 0 \n\" style=\"stroke: #000000; stroke-width: 0.8\"/>\n      </defs>\n      <g>\n       <use xlink:href=\"#m4f745db874\" x=\"30.103125\" y=\"121.398146\" style=\"stroke: #000000; stroke-width: 0.8\"/>\n      </g>\n     </g>\n     <g id=\"text_8\">\n      <!-- 0.4 -->\n      <g transform=\"translate(7.2 125.197365) scale(0.1 -0.1)\">\n       <defs>\n        <path id=\"DejaVuSans-2e\" d=\"M 684 794 \nL 1344 794 \nL 1344 0 \nL 684 0 \nL 684 794 \nz\n\" transform=\"scale(0.015625)\"/>\n       </defs>\n       <use xlink:href=\"#DejaVuSans-30\"/>\n       <use xlink:href=\"#DejaVuSans-2e\" x=\"63.623047\"/>\n       <use xlink:href=\"#DejaVuSans-34\" x=\"95.410156\"/>\n      </g>\n     </g>\n    </g>\n    <g id=\"ytick_2\">\n     <g id=\"line2d_8\">\n      <g>\n       <use xlink:href=\"#m4f745db874\" x=\"30.103125\" y=\"81.578051\" style=\"stroke: #000000; stroke-width: 0.8\"/>\n      </g>\n     </g>\n     <g id=\"text_9\">\n      <!-- 0.6 -->\n      <g transform=\"translate(7.2 85.37727) scale(0.1 -0.1)\">\n       <use xlink:href=\"#DejaVuSans-30\"/>\n       <use xlink:href=\"#DejaVuSans-2e\" x=\"63.623047\"/>\n       <use xlink:href=\"#DejaVuSans-36\" x=\"95.410156\"/>\n      </g>\n     </g>\n    </g>\n    <g id=\"ytick_3\">\n     <g id=\"line2d_9\">\n      <g>\n       <use xlink:href=\"#m4f745db874\" x=\"30.103125\" y=\"41.757956\" style=\"stroke: #000000; stroke-width: 0.8\"/>\n      </g>\n     </g>\n     <g id=\"text_10\">\n      <!-- 0.8 -->\n      <g transform=\"translate(7.2 45.557175) scale(0.1 -0.1)\">\n       <use xlink:href=\"#DejaVuSans-30\"/>\n       <use xlink:href=\"#DejaVuSans-2e\" x=\"63.623047\"/>\n       <use xlink:href=\"#DejaVuSans-38\" x=\"95.410156\"/>\n      </g>\n     </g>\n    </g>\n   </g>\n   <g id=\"line2d_10\">\n    <path d=\"M 34.954394 13.5 \n\" clip-path=\"url(#pbaafc9005e)\" style=\"fill: none; stroke: #1f77b4; stroke-width: 1.5; stroke-linecap: square\"/>\n   </g>\n   <g id=\"line2d_11\">\n    <path d=\"M 34.954394 13.5 \nL 44.698573 79.818189 \n\" clip-path=\"url(#pbaafc9005e)\" style=\"fill: none; stroke: #1f77b4; stroke-width: 1.5; stroke-linecap: square\"/>\n   </g>\n   <g id=\"line2d_12\">\n    <path d=\"M 34.954394 13.5 \nL 44.698573 79.818189 \n\" clip-path=\"url(#pbaafc9005e)\" style=\"fill: none; stroke: #1f77b4; stroke-width: 1.5; stroke-linecap: square\"/>\n   </g>\n   <g id=\"line2d_13\">\n    <path d=\"M 49.633125 83.233818 \n\" clip-path=\"url(#pbaafc9005e)\" style=\"fill: none; stroke-dasharray: 5.55,2.4; stroke-dashoffset: 0; stroke: #ff7f0e; stroke-width: 1.5\"/>\n   </g>\n   <g id=\"line2d_14\"/>\n   <g id=\"line2d_15\">\n    <path d=\"M 34.954394 13.5 \nL 44.698573 79.818189 \n\" clip-path=\"url(#pbaafc9005e)\" style=\"fill: none; stroke: #1f77b4; stroke-width: 1.5; stroke-linecap: square\"/>\n   </g>\n   <g id=\"line2d_16\">\n    <path d=\"M 49.633125 83.233818 \n\" clip-path=\"url(#pbaafc9005e)\" style=\"fill: none; stroke-dasharray: 5.55,2.4; stroke-dashoffset: 0; stroke: #ff7f0e; stroke-width: 1.5\"/>\n   </g>\n   <g id=\"line2d_17\">\n    <path d=\"M 49.633125 41.966665 \n\" clip-path=\"url(#pbaafc9005e)\" style=\"fill: none; stroke-dasharray: 9.6,2.4,1.5,2.4; stroke-dashoffset: 0; stroke: #2ca02c; stroke-width: 1.5\"/>\n   </g>\n   <g id=\"line2d_18\">\n    <path d=\"M 34.954394 13.5 \nL 44.698573 79.818189 \nL 54.442752 96.931194 \n\" clip-path=\"url(#pbaafc9005e)\" style=\"fill: none; stroke: #1f77b4; stroke-width: 1.5; stroke-linecap: square\"/>\n   </g>\n   <g id=\"line2d_19\">\n    <path d=\"M 49.633125 83.233818 \n\" clip-path=\"url(#pbaafc9005e)\" style=\"fill: none; stroke-dasharray: 5.55,2.4; stroke-dashoffset: 0; stroke: #ff7f0e; stroke-width: 1.5\"/>\n   </g>\n   <g id=\"line2d_20\">\n    <path d=\"M 49.633125 41.966665 \n\" clip-path=\"url(#pbaafc9005e)\" style=\"fill: none; stroke-dasharray: 9.6,2.4,1.5,2.4; stroke-dashoffset: 0; stroke: #2ca02c; stroke-width: 1.5\"/>\n   </g>\n   <g id=\"line2d_21\">\n    <path d=\"M 34.954394 13.5 \nL 44.698573 79.818189 \nL 54.442752 96.931194 \nL 64.186931 104.58265 \n\" clip-path=\"url(#pbaafc9005e)\" style=\"fill: none; stroke: #1f77b4; stroke-width: 1.5; stroke-linecap: square\"/>\n   </g>\n   <g id=\"line2d_22\">\n    <path d=\"M 49.633125 83.233818 \n\" clip-path=\"url(#pbaafc9005e)\" style=\"fill: none; stroke-dasharray: 5.55,2.4; stroke-dashoffset: 0; stroke: #ff7f0e; stroke-width: 1.5\"/>\n   </g>\n   <g id=\"line2d_23\">\n    <path d=\"M 49.633125 41.966665 \n\" clip-path=\"url(#pbaafc9005e)\" style=\"fill: none; stroke-dasharray: 9.6,2.4,1.5,2.4; stroke-dashoffset: 0; stroke: #2ca02c; stroke-width: 1.5\"/>\n   </g>\n   <g id=\"line2d_24\">\n    <path d=\"M 34.954394 13.5 \nL 44.698573 79.818189 \nL 54.442752 96.931194 \nL 64.186931 104.58265 \n\" clip-path=\"url(#pbaafc9005e)\" style=\"fill: none; stroke: #1f77b4; stroke-width: 1.5; stroke-linecap: square\"/>\n   </g>\n   <g id=\"line2d_25\">\n    <path d=\"M 49.633125 83.233818 \nL 69.163125 94.943997 \n\" clip-path=\"url(#pbaafc9005e)\" style=\"fill: none; stroke-dasharray: 5.55,2.4; stroke-dashoffset: 0; stroke: #ff7f0e; stroke-width: 1.5\"/>\n   </g>\n   <g id=\"line2d_26\">\n    <path d=\"M 49.633125 41.966665 \n\" clip-path=\"url(#pbaafc9005e)\" style=\"fill: none; stroke-dasharray: 9.6,2.4,1.5,2.4; stroke-dashoffset: 0; stroke: #2ca02c; stroke-width: 1.5\"/>\n   </g>\n   <g id=\"line2d_27\">\n    <path d=\"M 34.954394 13.5 \nL 44.698573 79.818189 \nL 54.442752 96.931194 \nL 64.186931 104.58265 \n\" clip-path=\"url(#pbaafc9005e)\" style=\"fill: none; stroke: #1f77b4; stroke-width: 1.5; stroke-linecap: square\"/>\n   </g>\n   <g id=\"line2d_28\">\n    <path d=\"M 49.633125 83.233818 \nL 69.163125 94.943997 \n\" clip-path=\"url(#pbaafc9005e)\" style=\"fill: none; stroke-dasharray: 5.55,2.4; stroke-dashoffset: 0; stroke: #ff7f0e; stroke-width: 1.5\"/>\n   </g>\n   <g id=\"line2d_29\">\n    <path d=\"M 49.633125 41.966665 \nL 69.163125 37.339627 \n\" clip-path=\"url(#pbaafc9005e)\" style=\"fill: none; stroke-dasharray: 9.6,2.4,1.5,2.4; stroke-dashoffset: 0; stroke: #2ca02c; stroke-width: 1.5\"/>\n   </g>\n   <g id=\"line2d_30\">\n    <path d=\"M 34.954394 13.5 \nL 44.698573 79.818189 \nL 54.442752 96.931194 \nL 64.186931 104.58265 \nL 73.93111 111.455537 \n\" clip-path=\"url(#pbaafc9005e)\" style=\"fill: none; stroke: #1f77b4; stroke-width: 1.5; stroke-linecap: square\"/>\n   </g>\n   <g id=\"line2d_31\">\n    <path d=\"M 49.633125 83.233818 \nL 69.163125 94.943997 \n\" clip-path=\"url(#pbaafc9005e)\" style=\"fill: none; stroke-dasharray: 5.55,2.4; stroke-dashoffset: 0; stroke: #ff7f0e; stroke-width: 1.5\"/>\n   </g>\n   <g id=\"line2d_32\">\n    <path d=\"M 49.633125 41.966665 \nL 69.163125 37.339627 \n\" clip-path=\"url(#pbaafc9005e)\" style=\"fill: none; stroke-dasharray: 9.6,2.4,1.5,2.4; stroke-dashoffset: 0; stroke: #2ca02c; stroke-width: 1.5\"/>\n   </g>\n   <g id=\"line2d_33\">\n    <path d=\"M 34.954394 13.5 \nL 44.698573 79.818189 \nL 54.442752 96.931194 \nL 64.186931 104.58265 \nL 73.93111 111.455537 \nL 83.675289 115.685443 \n\" clip-path=\"url(#pbaafc9005e)\" style=\"fill: none; stroke: #1f77b4; stroke-width: 1.5; stroke-linecap: square\"/>\n   </g>\n   <g id=\"line2d_34\">\n    <path d=\"M 49.633125 83.233818 \nL 69.163125 94.943997 \n\" clip-path=\"url(#pbaafc9005e)\" style=\"fill: none; stroke-dasharray: 5.55,2.4; stroke-dashoffset: 0; stroke: #ff7f0e; stroke-width: 1.5\"/>\n   </g>\n   <g id=\"line2d_35\">\n    <path d=\"M 49.633125 41.966665 \nL 69.163125 37.339627 \n\" clip-path=\"url(#pbaafc9005e)\" style=\"fill: none; stroke-dasharray: 9.6,2.4,1.5,2.4; stroke-dashoffset: 0; stroke: #2ca02c; stroke-width: 1.5\"/>\n   </g>\n   <g id=\"line2d_36\">\n    <path d=\"M 34.954394 13.5 \nL 44.698573 79.818189 \nL 54.442752 96.931194 \nL 64.186931 104.58265 \nL 73.93111 111.455537 \nL 83.675289 115.685443 \n\" clip-path=\"url(#pbaafc9005e)\" style=\"fill: none; stroke: #1f77b4; stroke-width: 1.5; stroke-linecap: square\"/>\n   </g>\n   <g id=\"line2d_37\">\n    <path d=\"M 49.633125 83.233818 \nL 69.163125 94.943997 \nL 88.693125 96.976828 \n\" clip-path=\"url(#pbaafc9005e)\" style=\"fill: none; stroke-dasharray: 5.55,2.4; stroke-dashoffset: 0; stroke: #ff7f0e; stroke-width: 1.5\"/>\n   </g>\n   <g id=\"line2d_38\">\n    <path d=\"M 49.633125 41.966665 \nL 69.163125 37.339627 \n\" clip-path=\"url(#pbaafc9005e)\" style=\"fill: none; stroke-dasharray: 9.6,2.4,1.5,2.4; stroke-dashoffset: 0; stroke: #2ca02c; stroke-width: 1.5\"/>\n   </g>\n   <g id=\"line2d_39\">\n    <path d=\"M 34.954394 13.5 \nL 44.698573 79.818189 \nL 54.442752 96.931194 \nL 64.186931 104.58265 \nL 73.93111 111.455537 \nL 83.675289 115.685443 \n\" clip-path=\"url(#pbaafc9005e)\" style=\"fill: none; stroke: #1f77b4; stroke-width: 1.5; stroke-linecap: square\"/>\n   </g>\n   <g id=\"line2d_40\">\n    <path d=\"M 49.633125 83.233818 \nL 69.163125 94.943997 \nL 88.693125 96.976828 \n\" clip-path=\"url(#pbaafc9005e)\" style=\"fill: none; stroke-dasharray: 5.55,2.4; stroke-dashoffset: 0; stroke: #ff7f0e; stroke-width: 1.5\"/>\n   </g>\n   <g id=\"line2d_41\">\n    <path d=\"M 49.633125 41.966665 \nL 69.163125 37.339627 \nL 88.693125 38.973857 \n\" clip-path=\"url(#pbaafc9005e)\" style=\"fill: none; stroke-dasharray: 9.6,2.4,1.5,2.4; stroke-dashoffset: 0; stroke: #2ca02c; stroke-width: 1.5\"/>\n   </g>\n   <g id=\"line2d_42\">\n    <path d=\"M 34.954394 13.5 \nL 44.698573 79.818189 \nL 54.442752 96.931194 \nL 64.186931 104.58265 \nL 73.93111 111.455537 \nL 83.675289 115.685443 \nL 93.419468 118.385543 \n\" clip-path=\"url(#pbaafc9005e)\" style=\"fill: none; stroke: #1f77b4; stroke-width: 1.5; stroke-linecap: square\"/>\n   </g>\n   <g id=\"line2d_43\">\n    <path d=\"M 49.633125 83.233818 \nL 69.163125 94.943997 \nL 88.693125 96.976828 \n\" clip-path=\"url(#pbaafc9005e)\" style=\"fill: none; stroke-dasharray: 5.55,2.4; stroke-dashoffset: 0; stroke: #ff7f0e; stroke-width: 1.5\"/>\n   </g>\n   <g id=\"line2d_44\">\n    <path d=\"M 49.633125 41.966665 \nL 69.163125 37.339627 \nL 88.693125 38.973857 \n\" clip-path=\"url(#pbaafc9005e)\" style=\"fill: none; stroke-dasharray: 9.6,2.4,1.5,2.4; stroke-dashoffset: 0; stroke: #2ca02c; stroke-width: 1.5\"/>\n   </g>\n   <g id=\"line2d_45\">\n    <path d=\"M 34.954394 13.5 \nL 44.698573 79.818189 \nL 54.442752 96.931194 \nL 64.186931 104.58265 \nL 73.93111 111.455537 \nL 83.675289 115.685443 \nL 93.419468 118.385543 \nL 103.163647 122.483386 \n\" clip-path=\"url(#pbaafc9005e)\" style=\"fill: none; stroke: #1f77b4; stroke-width: 1.5; stroke-linecap: square\"/>\n   </g>\n   <g id=\"line2d_46\">\n    <path d=\"M 49.633125 83.233818 \nL 69.163125 94.943997 \nL 88.693125 96.976828 \n\" clip-path=\"url(#pbaafc9005e)\" style=\"fill: none; stroke-dasharray: 5.55,2.4; stroke-dashoffset: 0; stroke: #ff7f0e; stroke-width: 1.5\"/>\n   </g>\n   <g id=\"line2d_47\">\n    <path d=\"M 49.633125 41.966665 \nL 69.163125 37.339627 \nL 88.693125 38.973857 \n\" clip-path=\"url(#pbaafc9005e)\" style=\"fill: none; stroke-dasharray: 9.6,2.4,1.5,2.4; stroke-dashoffset: 0; stroke: #2ca02c; stroke-width: 1.5\"/>\n   </g>\n   <g id=\"line2d_48\">\n    <path d=\"M 34.954394 13.5 \nL 44.698573 79.818189 \nL 54.442752 96.931194 \nL 64.186931 104.58265 \nL 73.93111 111.455537 \nL 83.675289 115.685443 \nL 93.419468 118.385543 \nL 103.163647 122.483386 \n\" clip-path=\"url(#pbaafc9005e)\" style=\"fill: none; stroke: #1f77b4; stroke-width: 1.5; stroke-linecap: square\"/>\n   </g>\n   <g id=\"line2d_49\">\n    <path d=\"M 49.633125 83.233818 \nL 69.163125 94.943997 \nL 88.693125 96.976828 \nL 108.223125 115.027097 \n\" clip-path=\"url(#pbaafc9005e)\" style=\"fill: none; stroke-dasharray: 5.55,2.4; stroke-dashoffset: 0; stroke: #ff7f0e; stroke-width: 1.5\"/>\n   </g>\n   <g id=\"line2d_50\">\n    <path d=\"M 49.633125 41.966665 \nL 69.163125 37.339627 \nL 88.693125 38.973857 \n\" clip-path=\"url(#pbaafc9005e)\" style=\"fill: none; stroke-dasharray: 9.6,2.4,1.5,2.4; stroke-dashoffset: 0; stroke: #2ca02c; stroke-width: 1.5\"/>\n   </g>\n   <g id=\"line2d_51\">\n    <path d=\"M 34.954394 13.5 \nL 44.698573 79.818189 \nL 54.442752 96.931194 \nL 64.186931 104.58265 \nL 73.93111 111.455537 \nL 83.675289 115.685443 \nL 93.419468 118.385543 \nL 103.163647 122.483386 \n\" clip-path=\"url(#pbaafc9005e)\" style=\"fill: none; stroke: #1f77b4; stroke-width: 1.5; stroke-linecap: square\"/>\n   </g>\n   <g id=\"line2d_52\">\n    <path d=\"M 49.633125 83.233818 \nL 69.163125 94.943997 \nL 88.693125 96.976828 \nL 108.223125 115.027097 \n\" clip-path=\"url(#pbaafc9005e)\" style=\"fill: none; stroke-dasharray: 5.55,2.4; stroke-dashoffset: 0; stroke: #ff7f0e; stroke-width: 1.5\"/>\n   </g>\n   <g id=\"line2d_53\">\n    <path d=\"M 49.633125 41.966665 \nL 69.163125 37.339627 \nL 88.693125 38.973857 \nL 108.223125 32.850415 \n\" clip-path=\"url(#pbaafc9005e)\" style=\"fill: none; stroke-dasharray: 9.6,2.4,1.5,2.4; stroke-dashoffset: 0; stroke: #2ca02c; stroke-width: 1.5\"/>\n   </g>\n   <g id=\"line2d_54\">\n    <path d=\"M 34.954394 13.5 \nL 44.698573 79.818189 \nL 54.442752 96.931194 \nL 64.186931 104.58265 \nL 73.93111 111.455537 \nL 83.675289 115.685443 \nL 93.419468 118.385543 \nL 103.163647 122.483386 \nL 112.907826 124.067085 \n\" clip-path=\"url(#pbaafc9005e)\" style=\"fill: none; stroke: #1f77b4; stroke-width: 1.5; stroke-linecap: square\"/>\n   </g>\n   <g id=\"line2d_55\">\n    <path d=\"M 49.633125 83.233818 \nL 69.163125 94.943997 \nL 88.693125 96.976828 \nL 108.223125 115.027097 \n\" clip-path=\"url(#pbaafc9005e)\" style=\"fill: none; stroke-dasharray: 5.55,2.4; stroke-dashoffset: 0; stroke: #ff7f0e; stroke-width: 1.5\"/>\n   </g>\n   <g id=\"line2d_56\">\n    <path d=\"M 49.633125 41.966665 \nL 69.163125 37.339627 \nL 88.693125 38.973857 \nL 108.223125 32.850415 \n\" clip-path=\"url(#pbaafc9005e)\" style=\"fill: none; stroke-dasharray: 9.6,2.4,1.5,2.4; stroke-dashoffset: 0; stroke: #2ca02c; stroke-width: 1.5\"/>\n   </g>\n   <g id=\"line2d_57\">\n    <path d=\"M 34.954394 13.5 \nL 44.698573 79.818189 \nL 54.442752 96.931194 \nL 64.186931 104.58265 \nL 73.93111 111.455537 \nL 83.675289 115.685443 \nL 93.419468 118.385543 \nL 103.163647 122.483386 \nL 112.907826 124.067085 \nL 122.652006 127.435843 \n\" clip-path=\"url(#pbaafc9005e)\" style=\"fill: none; stroke: #1f77b4; stroke-width: 1.5; stroke-linecap: square\"/>\n   </g>\n   <g id=\"line2d_58\">\n    <path d=\"M 49.633125 83.233818 \nL 69.163125 94.943997 \nL 88.693125 96.976828 \nL 108.223125 115.027097 \n\" clip-path=\"url(#pbaafc9005e)\" style=\"fill: none; stroke-dasharray: 5.55,2.4; stroke-dashoffset: 0; stroke: #ff7f0e; stroke-width: 1.5\"/>\n   </g>\n   <g id=\"line2d_59\">\n    <path d=\"M 49.633125 41.966665 \nL 69.163125 37.339627 \nL 88.693125 38.973857 \nL 108.223125 32.850415 \n\" clip-path=\"url(#pbaafc9005e)\" style=\"fill: none; stroke-dasharray: 9.6,2.4,1.5,2.4; stroke-dashoffset: 0; stroke: #2ca02c; stroke-width: 1.5\"/>\n   </g>\n   <g id=\"line2d_60\">\n    <path d=\"M 34.954394 13.5 \nL 44.698573 79.818189 \nL 54.442752 96.931194 \nL 64.186931 104.58265 \nL 73.93111 111.455537 \nL 83.675289 115.685443 \nL 93.419468 118.385543 \nL 103.163647 122.483386 \nL 112.907826 124.067085 \nL 122.652006 127.435843 \n\" clip-path=\"url(#pbaafc9005e)\" style=\"fill: none; stroke: #1f77b4; stroke-width: 1.5; stroke-linecap: square\"/>\n   </g>\n   <g id=\"line2d_61\">\n    <path d=\"M 49.633125 83.233818 \nL 69.163125 94.943997 \nL 88.693125 96.976828 \nL 108.223125 115.027097 \nL 127.753125 113.122831 \n\" clip-path=\"url(#pbaafc9005e)\" style=\"fill: none; stroke-dasharray: 5.55,2.4; stroke-dashoffset: 0; stroke: #ff7f0e; stroke-width: 1.5\"/>\n   </g>\n   <g id=\"line2d_62\">\n    <path d=\"M 49.633125 41.966665 \nL 69.163125 37.339627 \nL 88.693125 38.973857 \nL 108.223125 32.850415 \n\" clip-path=\"url(#pbaafc9005e)\" style=\"fill: none; stroke-dasharray: 9.6,2.4,1.5,2.4; stroke-dashoffset: 0; stroke: #2ca02c; stroke-width: 1.5\"/>\n   </g>\n   <g id=\"line2d_63\">\n    <path d=\"M 34.954394 13.5 \nL 44.698573 79.818189 \nL 54.442752 96.931194 \nL 64.186931 104.58265 \nL 73.93111 111.455537 \nL 83.675289 115.685443 \nL 93.419468 118.385543 \nL 103.163647 122.483386 \nL 112.907826 124.067085 \nL 122.652006 127.435843 \n\" clip-path=\"url(#pbaafc9005e)\" style=\"fill: none; stroke: #1f77b4; stroke-width: 1.5; stroke-linecap: square\"/>\n   </g>\n   <g id=\"line2d_64\">\n    <path d=\"M 49.633125 83.233818 \nL 69.163125 94.943997 \nL 88.693125 96.976828 \nL 108.223125 115.027097 \nL 127.753125 113.122831 \n\" clip-path=\"url(#pbaafc9005e)\" style=\"fill: none; stroke-dasharray: 5.55,2.4; stroke-dashoffset: 0; stroke: #ff7f0e; stroke-width: 1.5\"/>\n   </g>\n   <g id=\"line2d_65\">\n    <path d=\"M 49.633125 41.966665 \nL 69.163125 37.339627 \nL 88.693125 38.973857 \nL 108.223125 32.850415 \nL 127.753125 33.401722 \n\" clip-path=\"url(#pbaafc9005e)\" style=\"fill: none; stroke-dasharray: 9.6,2.4,1.5,2.4; stroke-dashoffset: 0; stroke: #2ca02c; stroke-width: 1.5\"/>\n   </g>\n   <g id=\"line2d_66\">\n    <path d=\"M 34.954394 13.5 \nL 44.698573 79.818189 \nL 54.442752 96.931194 \nL 64.186931 104.58265 \nL 73.93111 111.455537 \nL 83.675289 115.685443 \nL 93.419468 118.385543 \nL 103.163647 122.483386 \nL 112.907826 124.067085 \nL 122.652006 127.435843 \nL 132.396185 128.762775 \n\" clip-path=\"url(#pbaafc9005e)\" style=\"fill: none; stroke: #1f77b4; stroke-width: 1.5; stroke-linecap: square\"/>\n   </g>\n   <g id=\"line2d_67\">\n    <path d=\"M 49.633125 83.233818 \nL 69.163125 94.943997 \nL 88.693125 96.976828 \nL 108.223125 115.027097 \nL 127.753125 113.122831 \n\" clip-path=\"url(#pbaafc9005e)\" style=\"fill: none; stroke-dasharray: 5.55,2.4; stroke-dashoffset: 0; stroke: #ff7f0e; stroke-width: 1.5\"/>\n   </g>\n   <g id=\"line2d_68\">\n    <path d=\"M 49.633125 41.966665 \nL 69.163125 37.339627 \nL 88.693125 38.973857 \nL 108.223125 32.850415 \nL 127.753125 33.401722 \n\" clip-path=\"url(#pbaafc9005e)\" style=\"fill: none; stroke-dasharray: 9.6,2.4,1.5,2.4; stroke-dashoffset: 0; stroke: #2ca02c; stroke-width: 1.5\"/>\n   </g>\n   <g id=\"line2d_69\">\n    <path d=\"M 34.954394 13.5 \nL 44.698573 79.818189 \nL 54.442752 96.931194 \nL 64.186931 104.58265 \nL 73.93111 111.455537 \nL 83.675289 115.685443 \nL 93.419468 118.385543 \nL 103.163647 122.483386 \nL 112.907826 124.067085 \nL 122.652006 127.435843 \nL 132.396185 128.762775 \nL 142.140364 131.319084 \n\" clip-path=\"url(#pbaafc9005e)\" style=\"fill: none; stroke: #1f77b4; stroke-width: 1.5; stroke-linecap: square\"/>\n   </g>\n   <g id=\"line2d_70\">\n    <path d=\"M 49.633125 83.233818 \nL 69.163125 94.943997 \nL 88.693125 96.976828 \nL 108.223125 115.027097 \nL 127.753125 113.122831 \n\" clip-path=\"url(#pbaafc9005e)\" style=\"fill: none; stroke-dasharray: 5.55,2.4; stroke-dashoffset: 0; stroke: #ff7f0e; stroke-width: 1.5\"/>\n   </g>\n   <g id=\"line2d_71\">\n    <path d=\"M 49.633125 41.966665 \nL 69.163125 37.339627 \nL 88.693125 38.973857 \nL 108.223125 32.850415 \nL 127.753125 33.401722 \n\" clip-path=\"url(#pbaafc9005e)\" style=\"fill: none; stroke-dasharray: 9.6,2.4,1.5,2.4; stroke-dashoffset: 0; stroke: #2ca02c; stroke-width: 1.5\"/>\n   </g>\n   <g id=\"line2d_72\">\n    <path d=\"M 34.954394 13.5 \nL 44.698573 79.818189 \nL 54.442752 96.931194 \nL 64.186931 104.58265 \nL 73.93111 111.455537 \nL 83.675289 115.685443 \nL 93.419468 118.385543 \nL 103.163647 122.483386 \nL 112.907826 124.067085 \nL 122.652006 127.435843 \nL 132.396185 128.762775 \nL 142.140364 131.319084 \n\" clip-path=\"url(#pbaafc9005e)\" style=\"fill: none; stroke: #1f77b4; stroke-width: 1.5; stroke-linecap: square\"/>\n   </g>\n   <g id=\"line2d_73\">\n    <path d=\"M 49.633125 83.233818 \nL 69.163125 94.943997 \nL 88.693125 96.976828 \nL 108.223125 115.027097 \nL 127.753125 113.122831 \nL 147.283125 113.775274 \n\" clip-path=\"url(#pbaafc9005e)\" style=\"fill: none; stroke-dasharray: 5.55,2.4; stroke-dashoffset: 0; stroke: #ff7f0e; stroke-width: 1.5\"/>\n   </g>\n   <g id=\"line2d_74\">\n    <path d=\"M 49.633125 41.966665 \nL 69.163125 37.339627 \nL 88.693125 38.973857 \nL 108.223125 32.850415 \nL 127.753125 33.401722 \n\" clip-path=\"url(#pbaafc9005e)\" style=\"fill: none; stroke-dasharray: 9.6,2.4,1.5,2.4; stroke-dashoffset: 0; stroke: #2ca02c; stroke-width: 1.5\"/>\n   </g>\n   <g id=\"line2d_75\">\n    <path d=\"M 34.954394 13.5 \nL 44.698573 79.818189 \nL 54.442752 96.931194 \nL 64.186931 104.58265 \nL 73.93111 111.455537 \nL 83.675289 115.685443 \nL 93.419468 118.385543 \nL 103.163647 122.483386 \nL 112.907826 124.067085 \nL 122.652006 127.435843 \nL 132.396185 128.762775 \nL 142.140364 131.319084 \n\" clip-path=\"url(#pbaafc9005e)\" style=\"fill: none; stroke: #1f77b4; stroke-width: 1.5; stroke-linecap: square\"/>\n   </g>\n   <g id=\"line2d_76\">\n    <path d=\"M 49.633125 83.233818 \nL 69.163125 94.943997 \nL 88.693125 96.976828 \nL 108.223125 115.027097 \nL 127.753125 113.122831 \nL 147.283125 113.775274 \n\" clip-path=\"url(#pbaafc9005e)\" style=\"fill: none; stroke-dasharray: 5.55,2.4; stroke-dashoffset: 0; stroke: #ff7f0e; stroke-width: 1.5\"/>\n   </g>\n   <g id=\"line2d_77\">\n    <path d=\"M 49.633125 41.966665 \nL 69.163125 37.339627 \nL 88.693125 38.973857 \nL 108.223125 32.850415 \nL 127.753125 33.401722 \nL 147.283125 33.972718 \n\" clip-path=\"url(#pbaafc9005e)\" style=\"fill: none; stroke-dasharray: 9.6,2.4,1.5,2.4; stroke-dashoffset: 0; stroke: #2ca02c; stroke-width: 1.5\"/>\n   </g>\n   <g id=\"line2d_78\">\n    <path d=\"M 34.954394 13.5 \nL 44.698573 79.818189 \nL 54.442752 96.931194 \nL 64.186931 104.58265 \nL 73.93111 111.455537 \nL 83.675289 115.685443 \nL 93.419468 118.385543 \nL 103.163647 122.483386 \nL 112.907826 124.067085 \nL 122.652006 127.435843 \nL 132.396185 128.762775 \nL 142.140364 131.319084 \nL 151.884543 133.021814 \n\" clip-path=\"url(#pbaafc9005e)\" style=\"fill: none; stroke: #1f77b4; stroke-width: 1.5; stroke-linecap: square\"/>\n   </g>\n   <g id=\"line2d_79\">\n    <path d=\"M 49.633125 83.233818 \nL 69.163125 94.943997 \nL 88.693125 96.976828 \nL 108.223125 115.027097 \nL 127.753125 113.122831 \nL 147.283125 113.775274 \n\" clip-path=\"url(#pbaafc9005e)\" style=\"fill: none; stroke-dasharray: 5.55,2.4; stroke-dashoffset: 0; stroke: #ff7f0e; stroke-width: 1.5\"/>\n   </g>\n   <g id=\"line2d_80\">\n    <path d=\"M 49.633125 41.966665 \nL 69.163125 37.339627 \nL 88.693125 38.973857 \nL 108.223125 32.850415 \nL 127.753125 33.401722 \nL 147.283125 33.972718 \n\" clip-path=\"url(#pbaafc9005e)\" style=\"fill: none; stroke-dasharray: 9.6,2.4,1.5,2.4; stroke-dashoffset: 0; stroke: #2ca02c; stroke-width: 1.5\"/>\n   </g>\n   <g id=\"line2d_81\">\n    <path d=\"M 34.954394 13.5 \nL 44.698573 79.818189 \nL 54.442752 96.931194 \nL 64.186931 104.58265 \nL 73.93111 111.455537 \nL 83.675289 115.685443 \nL 93.419468 118.385543 \nL 103.163647 122.483386 \nL 112.907826 124.067085 \nL 122.652006 127.435843 \nL 132.396185 128.762775 \nL 142.140364 131.319084 \nL 151.884543 133.021814 \nL 161.628722 132.902689 \n\" clip-path=\"url(#pbaafc9005e)\" style=\"fill: none; stroke: #1f77b4; stroke-width: 1.5; stroke-linecap: square\"/>\n   </g>\n   <g id=\"line2d_82\">\n    <path d=\"M 49.633125 83.233818 \nL 69.163125 94.943997 \nL 88.693125 96.976828 \nL 108.223125 115.027097 \nL 127.753125 113.122831 \nL 147.283125 113.775274 \n\" clip-path=\"url(#pbaafc9005e)\" style=\"fill: none; stroke-dasharray: 5.55,2.4; stroke-dashoffset: 0; stroke: #ff7f0e; stroke-width: 1.5\"/>\n   </g>\n   <g id=\"line2d_83\">\n    <path d=\"M 49.633125 41.966665 \nL 69.163125 37.339627 \nL 88.693125 38.973857 \nL 108.223125 32.850415 \nL 127.753125 33.401722 \nL 147.283125 33.972718 \n\" clip-path=\"url(#pbaafc9005e)\" style=\"fill: none; stroke-dasharray: 9.6,2.4,1.5,2.4; stroke-dashoffset: 0; stroke: #2ca02c; stroke-width: 1.5\"/>\n   </g>\n   <g id=\"line2d_84\">\n    <path d=\"M 34.954394 13.5 \nL 44.698573 79.818189 \nL 54.442752 96.931194 \nL 64.186931 104.58265 \nL 73.93111 111.455537 \nL 83.675289 115.685443 \nL 93.419468 118.385543 \nL 103.163647 122.483386 \nL 112.907826 124.067085 \nL 122.652006 127.435843 \nL 132.396185 128.762775 \nL 142.140364 131.319084 \nL 151.884543 133.021814 \nL 161.628722 132.902689 \n\" clip-path=\"url(#pbaafc9005e)\" style=\"fill: none; stroke: #1f77b4; stroke-width: 1.5; stroke-linecap: square\"/>\n   </g>\n   <g id=\"line2d_85\">\n    <path d=\"M 49.633125 83.233818 \nL 69.163125 94.943997 \nL 88.693125 96.976828 \nL 108.223125 115.027097 \nL 127.753125 113.122831 \nL 147.283125 113.775274 \nL 166.813125 129.676855 \n\" clip-path=\"url(#pbaafc9005e)\" style=\"fill: none; stroke-dasharray: 5.55,2.4; stroke-dashoffset: 0; stroke: #ff7f0e; stroke-width: 1.5\"/>\n   </g>\n   <g id=\"line2d_86\">\n    <path d=\"M 49.633125 41.966665 \nL 69.163125 37.339627 \nL 88.693125 38.973857 \nL 108.223125 32.850415 \nL 127.753125 33.401722 \nL 147.283125 33.972718 \n\" clip-path=\"url(#pbaafc9005e)\" style=\"fill: none; stroke-dasharray: 9.6,2.4,1.5,2.4; stroke-dashoffset: 0; stroke: #2ca02c; stroke-width: 1.5\"/>\n   </g>\n   <g id=\"line2d_87\">\n    <path d=\"M 34.954394 13.5 \nL 44.698573 79.818189 \nL 54.442752 96.931194 \nL 64.186931 104.58265 \nL 73.93111 111.455537 \nL 83.675289 115.685443 \nL 93.419468 118.385543 \nL 103.163647 122.483386 \nL 112.907826 124.067085 \nL 122.652006 127.435843 \nL 132.396185 128.762775 \nL 142.140364 131.319084 \nL 151.884543 133.021814 \nL 161.628722 132.902689 \n\" clip-path=\"url(#pbaafc9005e)\" style=\"fill: none; stroke: #1f77b4; stroke-width: 1.5; stroke-linecap: square\"/>\n   </g>\n   <g id=\"line2d_88\">\n    <path d=\"M 49.633125 83.233818 \nL 69.163125 94.943997 \nL 88.693125 96.976828 \nL 108.223125 115.027097 \nL 127.753125 113.122831 \nL 147.283125 113.775274 \nL 166.813125 129.676855 \n\" clip-path=\"url(#pbaafc9005e)\" style=\"fill: none; stroke-dasharray: 5.55,2.4; stroke-dashoffset: 0; stroke: #ff7f0e; stroke-width: 1.5\"/>\n   </g>\n   <g id=\"line2d_89\">\n    <path d=\"M 49.633125 41.966665 \nL 69.163125 37.339627 \nL 88.693125 38.973857 \nL 108.223125 32.850415 \nL 127.753125 33.401722 \nL 147.283125 33.972718 \nL 166.813125 26.8648 \n\" clip-path=\"url(#pbaafc9005e)\" style=\"fill: none; stroke-dasharray: 9.6,2.4,1.5,2.4; stroke-dashoffset: 0; stroke: #2ca02c; stroke-width: 1.5\"/>\n   </g>\n   <g id=\"line2d_90\">\n    <path d=\"M 34.954394 13.5 \nL 44.698573 79.818189 \nL 54.442752 96.931194 \nL 64.186931 104.58265 \nL 73.93111 111.455537 \nL 83.675289 115.685443 \nL 93.419468 118.385543 \nL 103.163647 122.483386 \nL 112.907826 124.067085 \nL 122.652006 127.435843 \nL 132.396185 128.762775 \nL 142.140364 131.319084 \nL 151.884543 133.021814 \nL 161.628722 132.902689 \nL 171.372901 136.199539 \n\" clip-path=\"url(#pbaafc9005e)\" style=\"fill: none; stroke: #1f77b4; stroke-width: 1.5; stroke-linecap: square\"/>\n   </g>\n   <g id=\"line2d_91\">\n    <path d=\"M 49.633125 83.233818 \nL 69.163125 94.943997 \nL 88.693125 96.976828 \nL 108.223125 115.027097 \nL 127.753125 113.122831 \nL 147.283125 113.775274 \nL 166.813125 129.676855 \n\" clip-path=\"url(#pbaafc9005e)\" style=\"fill: none; stroke-dasharray: 5.55,2.4; stroke-dashoffset: 0; stroke: #ff7f0e; stroke-width: 1.5\"/>\n   </g>\n   <g id=\"line2d_92\">\n    <path d=\"M 49.633125 41.966665 \nL 69.163125 37.339627 \nL 88.693125 38.973857 \nL 108.223125 32.850415 \nL 127.753125 33.401722 \nL 147.283125 33.972718 \nL 166.813125 26.8648 \n\" clip-path=\"url(#pbaafc9005e)\" style=\"fill: none; stroke-dasharray: 9.6,2.4,1.5,2.4; stroke-dashoffset: 0; stroke: #2ca02c; stroke-width: 1.5\"/>\n   </g>\n   <g id=\"line2d_93\">\n    <path d=\"M 34.954394 13.5 \nL 44.698573 79.818189 \nL 54.442752 96.931194 \nL 64.186931 104.58265 \nL 73.93111 111.455537 \nL 83.675289 115.685443 \nL 93.419468 118.385543 \nL 103.163647 122.483386 \nL 112.907826 124.067085 \nL 122.652006 127.435843 \nL 132.396185 128.762775 \nL 142.140364 131.319084 \nL 151.884543 133.021814 \nL 161.628722 132.902689 \nL 171.372901 136.199539 \nL 181.11708 134.79809 \n\" clip-path=\"url(#pbaafc9005e)\" style=\"fill: none; stroke: #1f77b4; stroke-width: 1.5; stroke-linecap: square\"/>\n   </g>\n   <g id=\"line2d_94\">\n    <path d=\"M 49.633125 83.233818 \nL 69.163125 94.943997 \nL 88.693125 96.976828 \nL 108.223125 115.027097 \nL 127.753125 113.122831 \nL 147.283125 113.775274 \nL 166.813125 129.676855 \n\" clip-path=\"url(#pbaafc9005e)\" style=\"fill: none; stroke-dasharray: 5.55,2.4; stroke-dashoffset: 0; stroke: #ff7f0e; stroke-width: 1.5\"/>\n   </g>\n   <g id=\"line2d_95\">\n    <path d=\"M 49.633125 41.966665 \nL 69.163125 37.339627 \nL 88.693125 38.973857 \nL 108.223125 32.850415 \nL 127.753125 33.401722 \nL 147.283125 33.972718 \nL 166.813125 26.8648 \n\" clip-path=\"url(#pbaafc9005e)\" style=\"fill: none; stroke-dasharray: 9.6,2.4,1.5,2.4; stroke-dashoffset: 0; stroke: #2ca02c; stroke-width: 1.5\"/>\n   </g>\n   <g id=\"line2d_96\">\n    <path d=\"M 34.954394 13.5 \nL 44.698573 79.818189 \nL 54.442752 96.931194 \nL 64.186931 104.58265 \nL 73.93111 111.455537 \nL 83.675289 115.685443 \nL 93.419468 118.385543 \nL 103.163647 122.483386 \nL 112.907826 124.067085 \nL 122.652006 127.435843 \nL 132.396185 128.762775 \nL 142.140364 131.319084 \nL 151.884543 133.021814 \nL 161.628722 132.902689 \nL 171.372901 136.199539 \nL 181.11708 134.79809 \n\" clip-path=\"url(#pbaafc9005e)\" style=\"fill: none; stroke: #1f77b4; stroke-width: 1.5; stroke-linecap: square\"/>\n   </g>\n   <g id=\"line2d_97\">\n    <path d=\"M 49.633125 83.233818 \nL 69.163125 94.943997 \nL 88.693125 96.976828 \nL 108.223125 115.027097 \nL 127.753125 113.122831 \nL 147.283125 113.775274 \nL 166.813125 129.676855 \nL 186.343125 128.116548 \n\" clip-path=\"url(#pbaafc9005e)\" style=\"fill: none; stroke-dasharray: 5.55,2.4; stroke-dashoffset: 0; stroke: #ff7f0e; stroke-width: 1.5\"/>\n   </g>\n   <g id=\"line2d_98\">\n    <path d=\"M 49.633125 41.966665 \nL 69.163125 37.339627 \nL 88.693125 38.973857 \nL 108.223125 32.850415 \nL 127.753125 33.401722 \nL 147.283125 33.972718 \nL 166.813125 26.8648 \n\" clip-path=\"url(#pbaafc9005e)\" style=\"fill: none; stroke-dasharray: 9.6,2.4,1.5,2.4; stroke-dashoffset: 0; stroke: #2ca02c; stroke-width: 1.5\"/>\n   </g>\n   <g id=\"line2d_99\">\n    <path d=\"M 34.954394 13.5 \nL 44.698573 79.818189 \nL 54.442752 96.931194 \nL 64.186931 104.58265 \nL 73.93111 111.455537 \nL 83.675289 115.685443 \nL 93.419468 118.385543 \nL 103.163647 122.483386 \nL 112.907826 124.067085 \nL 122.652006 127.435843 \nL 132.396185 128.762775 \nL 142.140364 131.319084 \nL 151.884543 133.021814 \nL 161.628722 132.902689 \nL 171.372901 136.199539 \nL 181.11708 134.79809 \n\" clip-path=\"url(#pbaafc9005e)\" style=\"fill: none; stroke: #1f77b4; stroke-width: 1.5; stroke-linecap: square\"/>\n   </g>\n   <g id=\"line2d_100\">\n    <path d=\"M 49.633125 83.233818 \nL 69.163125 94.943997 \nL 88.693125 96.976828 \nL 108.223125 115.027097 \nL 127.753125 113.122831 \nL 147.283125 113.775274 \nL 166.813125 129.676855 \nL 186.343125 128.116548 \n\" clip-path=\"url(#pbaafc9005e)\" style=\"fill: none; stroke-dasharray: 5.55,2.4; stroke-dashoffset: 0; stroke: #ff7f0e; stroke-width: 1.5\"/>\n   </g>\n   <g id=\"line2d_101\">\n    <path d=\"M 49.633125 41.966665 \nL 69.163125 37.339627 \nL 88.693125 38.973857 \nL 108.223125 32.850415 \nL 127.753125 33.401722 \nL 147.283125 33.972718 \nL 166.813125 26.8648 \nL 186.343125 28.754994 \n\" clip-path=\"url(#pbaafc9005e)\" style=\"fill: none; stroke-dasharray: 9.6,2.4,1.5,2.4; stroke-dashoffset: 0; stroke: #2ca02c; stroke-width: 1.5\"/>\n   </g>\n   <g id=\"line2d_102\">\n    <path d=\"M 34.954394 13.5 \nL 44.698573 79.818189 \nL 54.442752 96.931194 \nL 64.186931 104.58265 \nL 73.93111 111.455537 \nL 83.675289 115.685443 \nL 93.419468 118.385543 \nL 103.163647 122.483386 \nL 112.907826 124.067085 \nL 122.652006 127.435843 \nL 132.396185 128.762775 \nL 142.140364 131.319084 \nL 151.884543 133.021814 \nL 161.628722 132.902689 \nL 171.372901 136.199539 \nL 181.11708 134.79809 \nL 190.861259 137.610959 \n\" clip-path=\"url(#pbaafc9005e)\" style=\"fill: none; stroke: #1f77b4; stroke-width: 1.5; stroke-linecap: square\"/>\n   </g>\n   <g id=\"line2d_103\">\n    <path d=\"M 49.633125 83.233818 \nL 69.163125 94.943997 \nL 88.693125 96.976828 \nL 108.223125 115.027097 \nL 127.753125 113.122831 \nL 147.283125 113.775274 \nL 166.813125 129.676855 \nL 186.343125 128.116548 \n\" clip-path=\"url(#pbaafc9005e)\" style=\"fill: none; stroke-dasharray: 5.55,2.4; stroke-dashoffset: 0; stroke: #ff7f0e; stroke-width: 1.5\"/>\n   </g>\n   <g id=\"line2d_104\">\n    <path d=\"M 49.633125 41.966665 \nL 69.163125 37.339627 \nL 88.693125 38.973857 \nL 108.223125 32.850415 \nL 127.753125 33.401722 \nL 147.283125 33.972718 \nL 166.813125 26.8648 \nL 186.343125 28.754994 \n\" clip-path=\"url(#pbaafc9005e)\" style=\"fill: none; stroke-dasharray: 9.6,2.4,1.5,2.4; stroke-dashoffset: 0; stroke: #2ca02c; stroke-width: 1.5\"/>\n   </g>\n   <g id=\"line2d_105\">\n    <path d=\"M 34.954394 13.5 \nL 44.698573 79.818189 \nL 54.442752 96.931194 \nL 64.186931 104.58265 \nL 73.93111 111.455537 \nL 83.675289 115.685443 \nL 93.419468 118.385543 \nL 103.163647 122.483386 \nL 112.907826 124.067085 \nL 122.652006 127.435843 \nL 132.396185 128.762775 \nL 142.140364 131.319084 \nL 151.884543 133.021814 \nL 161.628722 132.902689 \nL 171.372901 136.199539 \nL 181.11708 134.79809 \nL 190.861259 137.610959 \nL 200.605438 138.12836 \n\" clip-path=\"url(#pbaafc9005e)\" style=\"fill: none; stroke: #1f77b4; stroke-width: 1.5; stroke-linecap: square\"/>\n   </g>\n   <g id=\"line2d_106\">\n    <path d=\"M 49.633125 83.233818 \nL 69.163125 94.943997 \nL 88.693125 96.976828 \nL 108.223125 115.027097 \nL 127.753125 113.122831 \nL 147.283125 113.775274 \nL 166.813125 129.676855 \nL 186.343125 128.116548 \n\" clip-path=\"url(#pbaafc9005e)\" style=\"fill: none; stroke-dasharray: 5.55,2.4; stroke-dashoffset: 0; stroke: #ff7f0e; stroke-width: 1.5\"/>\n   </g>\n   <g id=\"line2d_107\">\n    <path d=\"M 49.633125 41.966665 \nL 69.163125 37.339627 \nL 88.693125 38.973857 \nL 108.223125 32.850415 \nL 127.753125 33.401722 \nL 147.283125 33.972718 \nL 166.813125 26.8648 \nL 186.343125 28.754994 \n\" clip-path=\"url(#pbaafc9005e)\" style=\"fill: none; stroke-dasharray: 9.6,2.4,1.5,2.4; stroke-dashoffset: 0; stroke: #2ca02c; stroke-width: 1.5\"/>\n   </g>\n   <g id=\"line2d_108\">\n    <path d=\"M 34.954394 13.5 \nL 44.698573 79.818189 \nL 54.442752 96.931194 \nL 64.186931 104.58265 \nL 73.93111 111.455537 \nL 83.675289 115.685443 \nL 93.419468 118.385543 \nL 103.163647 122.483386 \nL 112.907826 124.067085 \nL 122.652006 127.435843 \nL 132.396185 128.762775 \nL 142.140364 131.319084 \nL 151.884543 133.021814 \nL 161.628722 132.902689 \nL 171.372901 136.199539 \nL 181.11708 134.79809 \nL 190.861259 137.610959 \nL 200.605438 138.12836 \n\" clip-path=\"url(#pbaafc9005e)\" style=\"fill: none; stroke: #1f77b4; stroke-width: 1.5; stroke-linecap: square\"/>\n   </g>\n   <g id=\"line2d_109\">\n    <path d=\"M 49.633125 83.233818 \nL 69.163125 94.943997 \nL 88.693125 96.976828 \nL 108.223125 115.027097 \nL 127.753125 113.122831 \nL 147.283125 113.775274 \nL 166.813125 129.676855 \nL 186.343125 128.116548 \nL 205.873125 125.464837 \n\" clip-path=\"url(#pbaafc9005e)\" style=\"fill: none; stroke-dasharray: 5.55,2.4; stroke-dashoffset: 0; stroke: #ff7f0e; stroke-width: 1.5\"/>\n   </g>\n   <g id=\"line2d_110\">\n    <path d=\"M 49.633125 41.966665 \nL 69.163125 37.339627 \nL 88.693125 38.973857 \nL 108.223125 32.850415 \nL 127.753125 33.401722 \nL 147.283125 33.972718 \nL 166.813125 26.8648 \nL 186.343125 28.754994 \n\" clip-path=\"url(#pbaafc9005e)\" style=\"fill: none; stroke-dasharray: 9.6,2.4,1.5,2.4; stroke-dashoffset: 0; stroke: #2ca02c; stroke-width: 1.5\"/>\n   </g>\n   <g id=\"line2d_111\">\n    <path d=\"M 34.954394 13.5 \nL 44.698573 79.818189 \nL 54.442752 96.931194 \nL 64.186931 104.58265 \nL 73.93111 111.455537 \nL 83.675289 115.685443 \nL 93.419468 118.385543 \nL 103.163647 122.483386 \nL 112.907826 124.067085 \nL 122.652006 127.435843 \nL 132.396185 128.762775 \nL 142.140364 131.319084 \nL 151.884543 133.021814 \nL 161.628722 132.902689 \nL 171.372901 136.199539 \nL 181.11708 134.79809 \nL 190.861259 137.610959 \nL 200.605438 138.12836 \n\" clip-path=\"url(#pbaafc9005e)\" style=\"fill: none; stroke: #1f77b4; stroke-width: 1.5; stroke-linecap: square\"/>\n   </g>\n   <g id=\"line2d_112\">\n    <path d=\"M 49.633125 83.233818 \nL 69.163125 94.943997 \nL 88.693125 96.976828 \nL 108.223125 115.027097 \nL 127.753125 113.122831 \nL 147.283125 113.775274 \nL 166.813125 129.676855 \nL 186.343125 128.116548 \nL 205.873125 125.464837 \n\" clip-path=\"url(#pbaafc9005e)\" style=\"fill: none; stroke-dasharray: 5.55,2.4; stroke-dashoffset: 0; stroke: #ff7f0e; stroke-width: 1.5\"/>\n   </g>\n   <g id=\"line2d_113\">\n    <path d=\"M 49.633125 41.966665 \nL 69.163125 37.339627 \nL 88.693125 38.973857 \nL 108.223125 32.850415 \nL 127.753125 33.401722 \nL 147.283125 33.972718 \nL 166.813125 26.8648 \nL 186.343125 28.754994 \nL 205.873125 29.483506 \n\" clip-path=\"url(#pbaafc9005e)\" style=\"fill: none; stroke-dasharray: 9.6,2.4,1.5,2.4; stroke-dashoffset: 0; stroke: #2ca02c; stroke-width: 1.5\"/>\n   </g>\n   <g id=\"line2d_114\">\n    <path d=\"M 34.954394 13.5 \nL 44.698573 79.818189 \nL 54.442752 96.931194 \nL 64.186931 104.58265 \nL 73.93111 111.455537 \nL 83.675289 115.685443 \nL 93.419468 118.385543 \nL 103.163647 122.483386 \nL 112.907826 124.067085 \nL 122.652006 127.435843 \nL 132.396185 128.762775 \nL 142.140364 131.319084 \nL 151.884543 133.021814 \nL 161.628722 132.902689 \nL 171.372901 136.199539 \nL 181.11708 134.79809 \nL 190.861259 137.610959 \nL 200.605438 138.12836 \nL 210.349618 138.861389 \n\" clip-path=\"url(#pbaafc9005e)\" style=\"fill: none; stroke: #1f77b4; stroke-width: 1.5; stroke-linecap: square\"/>\n   </g>\n   <g id=\"line2d_115\">\n    <path d=\"M 49.633125 83.233818 \nL 69.163125 94.943997 \nL 88.693125 96.976828 \nL 108.223125 115.027097 \nL 127.753125 113.122831 \nL 147.283125 113.775274 \nL 166.813125 129.676855 \nL 186.343125 128.116548 \nL 205.873125 125.464837 \n\" clip-path=\"url(#pbaafc9005e)\" style=\"fill: none; stroke-dasharray: 5.55,2.4; stroke-dashoffset: 0; stroke: #ff7f0e; stroke-width: 1.5\"/>\n   </g>\n   <g id=\"line2d_116\">\n    <path d=\"M 49.633125 41.966665 \nL 69.163125 37.339627 \nL 88.693125 38.973857 \nL 108.223125 32.850415 \nL 127.753125 33.401722 \nL 147.283125 33.972718 \nL 166.813125 26.8648 \nL 186.343125 28.754994 \nL 205.873125 29.483506 \n\" clip-path=\"url(#pbaafc9005e)\" style=\"fill: none; stroke-dasharray: 9.6,2.4,1.5,2.4; stroke-dashoffset: 0; stroke: #2ca02c; stroke-width: 1.5\"/>\n   </g>\n   <g id=\"line2d_117\">\n    <path d=\"M 34.954394 13.5 \nL 44.698573 79.818189 \nL 54.442752 96.931194 \nL 64.186931 104.58265 \nL 73.93111 111.455537 \nL 83.675289 115.685443 \nL 93.419468 118.385543 \nL 103.163647 122.483386 \nL 112.907826 124.067085 \nL 122.652006 127.435843 \nL 132.396185 128.762775 \nL 142.140364 131.319084 \nL 151.884543 133.021814 \nL 161.628722 132.902689 \nL 171.372901 136.199539 \nL 181.11708 134.79809 \nL 190.861259 137.610959 \nL 200.605438 138.12836 \nL 210.349618 138.861389 \nL 220.093797 139.5 \n\" clip-path=\"url(#pbaafc9005e)\" style=\"fill: none; stroke: #1f77b4; stroke-width: 1.5; stroke-linecap: square\"/>\n   </g>\n   <g id=\"line2d_118\">\n    <path d=\"M 49.633125 83.233818 \nL 69.163125 94.943997 \nL 88.693125 96.976828 \nL 108.223125 115.027097 \nL 127.753125 113.122831 \nL 147.283125 113.775274 \nL 166.813125 129.676855 \nL 186.343125 128.116548 \nL 205.873125 125.464837 \n\" clip-path=\"url(#pbaafc9005e)\" style=\"fill: none; stroke-dasharray: 5.55,2.4; stroke-dashoffset: 0; stroke: #ff7f0e; stroke-width: 1.5\"/>\n   </g>\n   <g id=\"line2d_119\">\n    <path d=\"M 49.633125 41.966665 \nL 69.163125 37.339627 \nL 88.693125 38.973857 \nL 108.223125 32.850415 \nL 127.753125 33.401722 \nL 147.283125 33.972718 \nL 166.813125 26.8648 \nL 186.343125 28.754994 \nL 205.873125 29.483506 \n\" clip-path=\"url(#pbaafc9005e)\" style=\"fill: none; stroke-dasharray: 9.6,2.4,1.5,2.4; stroke-dashoffset: 0; stroke: #2ca02c; stroke-width: 1.5\"/>\n   </g>\n   <g id=\"line2d_120\">\n    <path d=\"M 34.954394 13.5 \nL 44.698573 79.818189 \nL 54.442752 96.931194 \nL 64.186931 104.58265 \nL 73.93111 111.455537 \nL 83.675289 115.685443 \nL 93.419468 118.385543 \nL 103.163647 122.483386 \nL 112.907826 124.067085 \nL 122.652006 127.435843 \nL 132.396185 128.762775 \nL 142.140364 131.319084 \nL 151.884543 133.021814 \nL 161.628722 132.902689 \nL 171.372901 136.199539 \nL 181.11708 134.79809 \nL 190.861259 137.610959 \nL 200.605438 138.12836 \nL 210.349618 138.861389 \nL 220.093797 139.5 \n\" clip-path=\"url(#pbaafc9005e)\" style=\"fill: none; stroke: #1f77b4; stroke-width: 1.5; stroke-linecap: square\"/>\n   </g>\n   <g id=\"line2d_121\">\n    <path d=\"M 49.633125 83.233818 \nL 69.163125 94.943997 \nL 88.693125 96.976828 \nL 108.223125 115.027097 \nL 127.753125 113.122831 \nL 147.283125 113.775274 \nL 166.813125 129.676855 \nL 186.343125 128.116548 \nL 205.873125 125.464837 \nL 225.403125 129.683323 \n\" clip-path=\"url(#pbaafc9005e)\" style=\"fill: none; stroke-dasharray: 5.55,2.4; stroke-dashoffset: 0; stroke: #ff7f0e; stroke-width: 1.5\"/>\n   </g>\n   <g id=\"line2d_122\">\n    <path d=\"M 49.633125 41.966665 \nL 69.163125 37.339627 \nL 88.693125 38.973857 \nL 108.223125 32.850415 \nL 127.753125 33.401722 \nL 147.283125 33.972718 \nL 166.813125 26.8648 \nL 186.343125 28.754994 \nL 205.873125 29.483506 \n\" clip-path=\"url(#pbaafc9005e)\" style=\"fill: none; stroke-dasharray: 9.6,2.4,1.5,2.4; stroke-dashoffset: 0; stroke: #2ca02c; stroke-width: 1.5\"/>\n   </g>\n   <g id=\"line2d_123\">\n    <path d=\"M 34.954394 13.5 \nL 44.698573 79.818189 \nL 54.442752 96.931194 \nL 64.186931 104.58265 \nL 73.93111 111.455537 \nL 83.675289 115.685443 \nL 93.419468 118.385543 \nL 103.163647 122.483386 \nL 112.907826 124.067085 \nL 122.652006 127.435843 \nL 132.396185 128.762775 \nL 142.140364 131.319084 \nL 151.884543 133.021814 \nL 161.628722 132.902689 \nL 171.372901 136.199539 \nL 181.11708 134.79809 \nL 190.861259 137.610959 \nL 200.605438 138.12836 \nL 210.349618 138.861389 \nL 220.093797 139.5 \n\" clip-path=\"url(#pbaafc9005e)\" style=\"fill: none; stroke: #1f77b4; stroke-width: 1.5; stroke-linecap: square\"/>\n   </g>\n   <g id=\"line2d_124\">\n    <path d=\"M 49.633125 83.233818 \nL 69.163125 94.943997 \nL 88.693125 96.976828 \nL 108.223125 115.027097 \nL 127.753125 113.122831 \nL 147.283125 113.775274 \nL 166.813125 129.676855 \nL 186.343125 128.116548 \nL 205.873125 125.464837 \nL 225.403125 129.683323 \n\" clip-path=\"url(#pbaafc9005e)\" style=\"fill: none; stroke-dasharray: 5.55,2.4; stroke-dashoffset: 0; stroke: #ff7f0e; stroke-width: 1.5\"/>\n   </g>\n   <g id=\"line2d_125\">\n    <path d=\"M 49.633125 41.966665 \nL 69.163125 37.339627 \nL 88.693125 38.973857 \nL 108.223125 32.850415 \nL 127.753125 33.401722 \nL 147.283125 33.972718 \nL 166.813125 26.8648 \nL 186.343125 28.754994 \nL 205.873125 29.483506 \nL 225.403125 28.203687 \n\" clip-path=\"url(#pbaafc9005e)\" style=\"fill: none; stroke-dasharray: 9.6,2.4,1.5,2.4; stroke-dashoffset: 0; stroke: #2ca02c; stroke-width: 1.5\"/>\n   </g>\n   <g id=\"patch_3\">\n    <path d=\"M 30.103125 145.8 \nL 30.103125 7.2 \n\" style=\"fill: none; stroke: #000000; stroke-width: 0.8; stroke-linejoin: miter; stroke-linecap: square\"/>\n   </g>\n   <g id=\"patch_4\">\n    <path d=\"M 225.403125 145.8 \nL 225.403125 7.2 \n\" style=\"fill: none; stroke: #000000; stroke-width: 0.8; stroke-linejoin: miter; stroke-linecap: square\"/>\n   </g>\n   <g id=\"patch_5\">\n    <path d=\"M 30.103125 145.8 \nL 225.403125 145.8 \n\" style=\"fill: none; stroke: #000000; stroke-width: 0.8; stroke-linejoin: miter; stroke-linecap: square\"/>\n   </g>\n   <g id=\"patch_6\">\n    <path d=\"M 30.103125 7.2 \nL 225.403125 7.2 \n\" style=\"fill: none; stroke: #000000; stroke-width: 0.8; stroke-linejoin: miter; stroke-linecap: square\"/>\n   </g>\n   <g id=\"legend_1\">\n    <g id=\"patch_7\">\n     <path d=\"M 138.8125 100.434375 \nL 218.403125 100.434375 \nQ 220.403125 100.434375 220.403125 98.434375 \nL 220.403125 54.565625 \nQ 220.403125 52.565625 218.403125 52.565625 \nL 138.8125 52.565625 \nQ 136.8125 52.565625 136.8125 54.565625 \nL 136.8125 98.434375 \nQ 136.8125 100.434375 138.8125 100.434375 \nz\n\" style=\"fill: #ffffff; opacity: 0.8; stroke: #cccccc; stroke-linejoin: miter\"/>\n    </g>\n    <g id=\"line2d_126\">\n     <path d=\"M 140.8125 60.664063 \nL 150.8125 60.664063 \nL 160.8125 60.664063 \n\" style=\"fill: none; stroke: #1f77b4; stroke-width: 1.5; stroke-linecap: square\"/>\n    </g>\n    <g id=\"text_11\">\n     <!-- train_loss -->\n     <g transform=\"translate(168.8125 64.164063) scale(0.1 -0.1)\">\n      <defs>\n       <path id=\"DejaVuSans-74\" d=\"M 1172 4494 \nL 1172 3500 \nL 2356 3500 \nL 2356 3053 \nL 1172 3053 \nL 1172 1153 \nQ 1172 725 1289 603 \nQ 1406 481 1766 481 \nL 2356 481 \nL 2356 0 \nL 1766 0 \nQ 1100 0 847 248 \nQ 594 497 594 1153 \nL 594 3053 \nL 172 3053 \nL 172 3500 \nL 594 3500 \nL 594 4494 \nL 1172 4494 \nz\n\" transform=\"scale(0.015625)\"/>\n       <path id=\"DejaVuSans-72\" d=\"M 2631 2963 \nQ 2534 3019 2420 3045 \nQ 2306 3072 2169 3072 \nQ 1681 3072 1420 2755 \nQ 1159 2438 1159 1844 \nL 1159 0 \nL 581 0 \nL 581 3500 \nL 1159 3500 \nL 1159 2956 \nQ 1341 3275 1631 3429 \nQ 1922 3584 2338 3584 \nQ 2397 3584 2469 3576 \nQ 2541 3569 2628 3553 \nL 2631 2963 \nz\n\" transform=\"scale(0.015625)\"/>\n       <path id=\"DejaVuSans-61\" d=\"M 2194 1759 \nQ 1497 1759 1228 1600 \nQ 959 1441 959 1056 \nQ 959 750 1161 570 \nQ 1363 391 1709 391 \nQ 2188 391 2477 730 \nQ 2766 1069 2766 1631 \nL 2766 1759 \nL 2194 1759 \nz\nM 3341 1997 \nL 3341 0 \nL 2766 0 \nL 2766 531 \nQ 2569 213 2275 61 \nQ 1981 -91 1556 -91 \nQ 1019 -91 701 211 \nQ 384 513 384 1019 \nQ 384 1609 779 1909 \nQ 1175 2209 1959 2209 \nL 2766 2209 \nL 2766 2266 \nQ 2766 2663 2505 2880 \nQ 2244 3097 1772 3097 \nQ 1472 3097 1187 3025 \nQ 903 2953 641 2809 \nL 641 3341 \nQ 956 3463 1253 3523 \nQ 1550 3584 1831 3584 \nQ 2591 3584 2966 3190 \nQ 3341 2797 3341 1997 \nz\n\" transform=\"scale(0.015625)\"/>\n       <path id=\"DejaVuSans-69\" d=\"M 603 3500 \nL 1178 3500 \nL 1178 0 \nL 603 0 \nL 603 3500 \nz\nM 603 4863 \nL 1178 4863 \nL 1178 4134 \nL 603 4134 \nL 603 4863 \nz\n\" transform=\"scale(0.015625)\"/>\n       <path id=\"DejaVuSans-6e\" d=\"M 3513 2113 \nL 3513 0 \nL 2938 0 \nL 2938 2094 \nQ 2938 2591 2744 2837 \nQ 2550 3084 2163 3084 \nQ 1697 3084 1428 2787 \nQ 1159 2491 1159 1978 \nL 1159 0 \nL 581 0 \nL 581 3500 \nL 1159 3500 \nL 1159 2956 \nQ 1366 3272 1645 3428 \nQ 1925 3584 2291 3584 \nQ 2894 3584 3203 3211 \nQ 3513 2838 3513 2113 \nz\n\" transform=\"scale(0.015625)\"/>\n       <path id=\"DejaVuSans-5f\" d=\"M 3263 -1063 \nL 3263 -1509 \nL -63 -1509 \nL -63 -1063 \nL 3263 -1063 \nz\n\" transform=\"scale(0.015625)\"/>\n       <path id=\"DejaVuSans-6c\" d=\"M 603 4863 \nL 1178 4863 \nL 1178 0 \nL 603 0 \nL 603 4863 \nz\n\" transform=\"scale(0.015625)\"/>\n       <path id=\"DejaVuSans-73\" d=\"M 2834 3397 \nL 2834 2853 \nQ 2591 2978 2328 3040 \nQ 2066 3103 1784 3103 \nQ 1356 3103 1142 2972 \nQ 928 2841 928 2578 \nQ 928 2378 1081 2264 \nQ 1234 2150 1697 2047 \nL 1894 2003 \nQ 2506 1872 2764 1633 \nQ 3022 1394 3022 966 \nQ 3022 478 2636 193 \nQ 2250 -91 1575 -91 \nQ 1294 -91 989 -36 \nQ 684 19 347 128 \nL 347 722 \nQ 666 556 975 473 \nQ 1284 391 1588 391 \nQ 1994 391 2212 530 \nQ 2431 669 2431 922 \nQ 2431 1156 2273 1281 \nQ 2116 1406 1581 1522 \nL 1381 1569 \nQ 847 1681 609 1914 \nQ 372 2147 372 2553 \nQ 372 3047 722 3315 \nQ 1072 3584 1716 3584 \nQ 2034 3584 2315 3537 \nQ 2597 3491 2834 3397 \nz\n\" transform=\"scale(0.015625)\"/>\n      </defs>\n      <use xlink:href=\"#DejaVuSans-74\"/>\n      <use xlink:href=\"#DejaVuSans-72\" x=\"39.208984\"/>\n      <use xlink:href=\"#DejaVuSans-61\" x=\"80.322266\"/>\n      <use xlink:href=\"#DejaVuSans-69\" x=\"141.601562\"/>\n      <use xlink:href=\"#DejaVuSans-6e\" x=\"169.384766\"/>\n      <use xlink:href=\"#DejaVuSans-5f\" x=\"232.763672\"/>\n      <use xlink:href=\"#DejaVuSans-6c\" x=\"282.763672\"/>\n      <use xlink:href=\"#DejaVuSans-6f\" x=\"310.546875\"/>\n      <use xlink:href=\"#DejaVuSans-73\" x=\"371.728516\"/>\n      <use xlink:href=\"#DejaVuSans-73\" x=\"423.828125\"/>\n     </g>\n    </g>\n    <g id=\"line2d_127\">\n     <path d=\"M 140.8125 75.620313 \nL 150.8125 75.620313 \nL 160.8125 75.620313 \n\" style=\"fill: none; stroke-dasharray: 5.55,2.4; stroke-dashoffset: 0; stroke: #ff7f0e; stroke-width: 1.5\"/>\n    </g>\n    <g id=\"text_12\">\n     <!-- val_loss -->\n     <g transform=\"translate(168.8125 79.120313) scale(0.1 -0.1)\">\n      <defs>\n       <path id=\"DejaVuSans-76\" d=\"M 191 3500 \nL 800 3500 \nL 1894 563 \nL 2988 3500 \nL 3597 3500 \nL 2284 0 \nL 1503 0 \nL 191 3500 \nz\n\" transform=\"scale(0.015625)\"/>\n      </defs>\n      <use xlink:href=\"#DejaVuSans-76\"/>\n      <use xlink:href=\"#DejaVuSans-61\" x=\"59.179688\"/>\n      <use xlink:href=\"#DejaVuSans-6c\" x=\"120.458984\"/>\n      <use xlink:href=\"#DejaVuSans-5f\" x=\"148.242188\"/>\n      <use xlink:href=\"#DejaVuSans-6c\" x=\"198.242188\"/>\n      <use xlink:href=\"#DejaVuSans-6f\" x=\"226.025391\"/>\n      <use xlink:href=\"#DejaVuSans-73\" x=\"287.207031\"/>\n      <use xlink:href=\"#DejaVuSans-73\" x=\"339.306641\"/>\n     </g>\n    </g>\n    <g id=\"line2d_128\">\n     <path d=\"M 140.8125 90.576563 \nL 150.8125 90.576563 \nL 160.8125 90.576563 \n\" style=\"fill: none; stroke-dasharray: 9.6,2.4,1.5,2.4; stroke-dashoffset: 0; stroke: #2ca02c; stroke-width: 1.5\"/>\n    </g>\n    <g id=\"text_13\">\n     <!-- val_acc -->\n     <g transform=\"translate(168.8125 94.076563) scale(0.1 -0.1)\">\n      <use xlink:href=\"#DejaVuSans-76\"/>\n      <use xlink:href=\"#DejaVuSans-61\" x=\"59.179688\"/>\n      <use xlink:href=\"#DejaVuSans-6c\" x=\"120.458984\"/>\n      <use xlink:href=\"#DejaVuSans-5f\" x=\"148.242188\"/>\n      <use xlink:href=\"#DejaVuSans-61\" x=\"198.242188\"/>\n      <use xlink:href=\"#DejaVuSans-63\" x=\"259.521484\"/>\n      <use xlink:href=\"#DejaVuSans-63\" x=\"314.501953\"/>\n     </g>\n    </g>\n   </g>\n  </g>\n </g>\n <defs>\n  <clipPath id=\"pbaafc9005e\">\n   <rect x=\"30.103125\" y=\"7.2\" width=\"195.3\" height=\"138.6\"/>\n  </clipPath>\n </defs>\n</svg>\n"
          },
          "metadata": {}
        }
      ]
    },
    {
      "cell_type": "markdown",
      "source": [
        "## Discussion\n",
        "\n",
        "Intuitively, batch normalization is thought\n",
        "to make the optimization landscape smoother.\n",
        "However, we must be careful to distinguish between\n",
        "speculative intuitions and true explanations\n",
        "for the phenomena that we observe when training deep models.\n",
        "Recall that we do not even know why simpler\n",
        "deep neural networks (MLPs and conventional CNNs)\n",
        "generalize well in the first place.\n",
        "Even with dropout and weight decay,\n",
        "they remain so flexible that their ability to generalize to unseen data\n",
        "likely needs significantly more refined learning-theoretic generalization guarantees.\n",
        "\n",
        "The original paper proposing batch normalization :cite:`Ioffe.Szegedy.2015`, in addition to introducing a powerful and useful tool,\n",
        "offered an explanation for why it works:\n",
        "by reducing *internal covariate shift*.\n",
        "Presumably by *internal covariate shift* they\n",
        "meant something like the intuition expressed above---the\n",
        "notion that the distribution of variable values changes\n",
        "over the course of training.\n",
        "However, there were two problems with this explanation:\n",
        "i) This drift is very different from *covariate shift*,\n",
        "rendering the name a misnomer. If anything, it is closer to concept drift.\n",
        "ii) The explanation offers an under-specified intuition\n",
        "but leaves the question of *why precisely this technique works*\n",
        "an open question wanting for a rigorous explanation.\n",
        "Throughout this book, we aim to convey the intuitions that practitioners\n",
        "use to guide their development of deep neural networks.\n",
        "However, we believe that it is important\n",
        "to separate these guiding intuitions\n",
        "from established scientific fact.\n",
        "Eventually, when you master this material\n",
        "and start writing your own research papers\n",
        "you will want to be clear to delineate\n",
        "between technical claims and hunches.\n",
        "\n",
        "Following the success of batch normalization,\n",
        "its explanation in terms of *internal covariate shift*\n",
        "has repeatedly surfaced in debates in the technical literature\n",
        "and broader discourse about how to present machine learning research.\n",
        "In a memorable speech given while accepting a Test of Time Award\n",
        "at the 2017 NeurIPS conference,\n",
        "Ali Rahimi used *internal covariate shift*\n",
        "as a focal point in an argument likening\n",
        "the modern practice of deep learning to alchemy.\n",
        "Subsequently, the example was revisited in detail\n",
        "in a position paper outlining\n",
        "troubling trends in machine learning :cite:`Lipton.Steinhardt.2018`.\n",
        "Other authors\n",
        "have proposed alternative explanations for the success of batch normalization,\n",
        "some :cite:`Santurkar.Tsipras.Ilyas.ea.2018`\n",
        "claiming that batch normalization's success comes despite exhibiting behavior\n",
        "that is in some ways opposite to those claimed in the original paper.\n",
        "\n",
        "\n",
        "We note that the *internal covariate shift*\n",
        "is no more worthy of criticism than any of\n",
        "thousands of similarly vague claims\n",
        "made every year in the technical machine learning literature.\n",
        "Likely, its resonance as a focal point of these debates\n",
        "owes to its broad recognizability for the target audience.\n",
        "Batch normalization has proven an indispensable method,\n",
        "applied in nearly all deployed image classifiers,\n",
        "earning the paper that introduced the technique\n",
        "tens of thousands of citations. We conjecture, though, that the guiding principles\n",
        "of regularization through noise injection, acceleration through rescaling and lastly preprocessing\n",
        "may well lead to further inventions of layers and techniques in the future.\n",
        "\n",
        "On a more practical note, there are a number of aspects worth remembering about batch normalization:\n",
        "\n",
        "* During model training, batch normalization continuously adjusts the intermediate output of\n",
        "  the network by utilizing the mean and standard deviation of the minibatch, so that the\n",
        "  values of the intermediate output in each layer throughout the neural network are more stable.\n",
        "* Batch normalization is slightly different for fully connected layers than for convolutional layers. In fact,\n",
        "  for convolutional layers, layer normalization can sometimes be used as an alternative.\n",
        "* Like a dropout layer, batch normalization layers have different behaviors\n",
        "  in training mode than in prediction mode.\n",
        "* Batch normalization is useful for regularization and improving convergence in optimization. By contrast,\n",
        "  the original motivation of reducing internal covariate shift seems not to be a valid explanation.\n",
        "* For more robust models that are less sensitive to input perturbations, consider removing batch normalization :cite:`wang2022removing`.\n",
        "\n",
        "## Exercises\n",
        "\n",
        "1. Should we remove the bias parameter from the fully connected layer or the convolutional layer before the batch normalization? Why?\n",
        "2. Compare the learning rates for LeNet with and without batch normalization.\n",
        "    1. Plot the increase in validation accuracy.\n",
        "    2. How large can you make the learning rate before the optimization fails in both cases?\n",
        "3. Do we need batch normalization in every layer? Experiment with it.\n",
        "4. Implement a \"lite\" version of batch normalization that only removes the mean, or alternatively one that\n",
        "   only removes the variance. How does it behave?\n",
        "5. Fix the parameters `beta` and `gamma`. Observe and analyze the results.\n",
        "6. Can you replace dropout by batch normalization? How does the behavior change?\n",
        "7. Research ideas: think of other normalization transforms that you can apply:\n",
        "    1. Can you apply the probability integral transform?\n",
        "    2. Can you use a full-rank covariance estimate? Why should you probably not do that?\n",
        "    3. Can you use other compact matrix variants (block-diagonal, low-displacement rank, Monarch, etc.)?\n",
        "    4. Does a sparsification compression act as a regularizer?\n",
        "    5. Are there other projections (e.g., convex cone, symmetry group-specific transforms) that you can use?\n"
      ],
      "metadata": {
        "id": "xC5jSjazOLpw"
      },
      "id": "xC5jSjazOLpw"
    },
    {
      "cell_type": "markdown",
      "source": [
        "## **Answer Exercise**\n",
        "\n",
        "**1. Haruskah kita menghapus parameter bias dari lapisan fully connected atau lapisan konvolusi sebelum batch normalization? Mengapa?**\n",
        "\n",
        "*   Ya, kita harus menghapus parameter bias sebelum batch normalization karena batch normalization sudah mengurangi bias dengan menormalkan output. Menambahkan bias lagi akan menjadi operasi yang tidak diperlukan dan tidak efektif.\n",
        "\n",
        "**2. Bandingkan learning rate untuk LeNet dengan dan tanpa batch normalization.**\n",
        "\n",
        "1.   Plot peningkatan akurasi validasi\n",
        "\n",
        "  *   Dengan batch normalization, kita dapat menggunakan learning rate yang lebih tinggi tanpa menyebabkan masalah divergensi dalam pelatihan, sehingga meningkatkan akurasi validasi lebih cepat daripada tanpa batch normalization.\n",
        "\n",
        "2.   Seberapa besar Anda bisa meningkatkan learning rate sebelum optimisasi gagal pada kedua kasus?\n",
        "  *   Dengan batch normalization, learning rate dapat dinaikkan lebih tinggi daripada tanpa batch normalization (misalnya dari 0.01 menjadi 0.1) sebelum optimisasi gagal, karena batch normalization membantu stabilisasi gradien.\n",
        "\n",
        "**3. Apakah kita memerlukan batch normalization di setiap lapisan? Cobalah bereksperimen.**\n",
        "\n",
        "*   Tidak semua lapisan membutuhkan batch normalization. Batch normalization lebih efektif di lapisan yang memiliki gradien yang lebih dalam atau memiliki potensi perubahan distribusi data yang signifikan. Pada lapisan input atau lapisan shallow, batch normalization mungkin tidak terlalu diperlukan.\n",
        "\n",
        "**4. Implementasikan versi \"lite\" dari batch normalization yang hanya menghilangkan mean, atau hanya menghilangkan varians. Bagaimana perilakunya?**\n",
        "*    Jika kita hanya menghilangkan mean, outputnya tetap memiliki skala yang bervariasi yang dapat menyebabkan gradien yang tidak stabil. Jika kita hanya menghilangkan varians, distribusi akan tetap terpusat, namun tidak terstandar, yang juga bisa menghambat pelatihan optimal.\n",
        "\n",
        "**5. Tetapkan parameter `beta` dan `gamma`. Amati dan analisis hasilnya.**\n",
        "*    Jika `beta` dan `gamma` diperbaiki, batch normalization tidak dapat lagi menyesuaikan skala atau offset dari output yang dinormalkan, yang mungkin menurunkan performa jaringan, terutama dalam kasus di mana jaringan membutuhkan lebih banyak fleksibilitas dalam distribusi output.\n",
        "\n",
        "**6. Bisakah Anda mengganti dropout dengan batch normalization? Bagaimana perilakunya berubah?**\n",
        "\n",
        "* Batch normalization dan dropout adalah teknik regularisasi yang berbeda. Mengganti dropout dengan batch normalization dapat meningkatkan stabilitas pelatihan dan mengurangi waktu pelatihan, tetapi mungkin tidak memberikan tingkat regularisasi yang sama, terutama jika model rentan terhadap overfitting.\n",
        "\n",
        "**7. Ide penelitian: Pikirkan transformasi normalisasi lain yang dapat Anda terapkan:**\n",
        "\n",
        "1. Bisakah Anda menerapkan probability integral transform?\n",
        "  * Ya, probability integral transform bisa diterapkan untuk mengonversi data ke distribusi seragam. Namun, efeknya terhadap optimisasi belum terbukti seefektif batch normalization.\n",
        "\n",
        "2. Bisakah Anda menggunakan estimasi kovarian full-rank? Mengapa Anda sebaiknya tidak melakukannya?\n",
        "  * Menggunakan estimasi kovarian full-rank sangat mahal secara komputasi, terutama dalam jaringan besar, karena memerlukan inversi matriks besar.\n",
        "\n",
        "3. Bisakah Anda menggunakan varian matriks kompak lainnya (block-diagonal, low-displacement rank, Monarch, dll.)?\n",
        "  * Ya, varian matriks kompak seperti block-diagonal atau low-displacement rank dapat digunakan untuk mengurangi kompleksitas komputasi, meskipun penerapannya harus memastikan performa tetap stabil.\n",
        "\n",
        "4. Apakah kompresi sparsifikasi bertindak sebagai regularizer?\n",
        "  * Ya, kompresi sparsifikasi dapat bertindak sebagai regularizer dengan mengurangi kompleksitas model dan mencegah overfitting.\n",
        "\n",
        "5. Apakah ada proyeksi lain (misalnya, transformasi specific-group symmetry atau convex cone) yang bisa Anda gunakan?\n",
        "\n",
        "  * Ya, proyeksi yang mempertimbangkan simetri grup atau properti geometris khusus seperti convex cone bisa digunakan untuk menormalkan distribusi data secara lebih efektif tergantung pada aplikasi."
      ],
      "metadata": {
        "id": "jZuZWNmF-wtj"
      },
      "id": "jZuZWNmF-wtj"
    },
    {
      "cell_type": "markdown",
      "source": [
        "#8.6 Residual Networks (ResNet) and ResNeXt\n",
        ":label:`sec_resnet`\n",
        "\n",
        "As we design ever deeper networks it becomes imperative to understand how adding layers can increase the complexity and expressiveness of the network.\n",
        "Even more important is the ability to design networks where adding layers makes networks strictly more expressive rather than just different.\n",
        "To make some progress we need a bit of mathematics.\n"
      ],
      "metadata": {
        "id": "TfFErZ7-QGPC"
      },
      "id": "TfFErZ7-QGPC"
    },
    {
      "cell_type": "code",
      "source": [
        "import torch\n",
        "from torch import nn\n",
        "from torch.nn import functional as F\n",
        "from d2l import torch as d2l"
      ],
      "metadata": {
        "id": "xagllloTQQVJ"
      },
      "id": "xagllloTQQVJ",
      "execution_count": null,
      "outputs": []
    },
    {
      "cell_type": "markdown",
      "source": [
        "## Function Classes\n",
        "\n",
        "Consider $\\mathcal{F}$, the class of functions that a specific network architecture (together with learning rates and other hyperparameter settings) can reach.\n",
        "That is, for all $f \\in \\mathcal{F}$ there exists some set of parameters (e.g., weights and biases) that can be obtained through training on a suitable dataset.\n",
        "Let's assume that $f^*$ is the \"truth\" function that we really would like to find.\n",
        "If it is in $\\mathcal{F}$, we are in good shape but typically we will not be quite so lucky.\n",
        "Instead, we will try to find some $f^*_\\mathcal{F}$ which is our best bet within $\\mathcal{F}$.\n",
        "For instance,\n",
        "given a dataset with features $\\mathbf{X}$\n",
        "and labels $\\mathbf{y}$,\n",
        "we might try finding it by solving the following optimization problem:\n",
        "\n",
        "$$f^*_\\mathcal{F} \\stackrel{\\textrm{def}}{=} \\mathop{\\mathrm{argmin}}_f L(\\mathbf{X}, \\mathbf{y}, f) \\textrm{ subject to } f \\in \\mathcal{F}.$$\n",
        "\n",
        "We know that regularization :cite:`tikhonov1977solutions,morozov2012methods` may control complexity of $\\mathcal{F}$\n",
        "and achieve consistency, so a larger size of training data\n",
        "generally leads to better $f^*_\\mathcal{F}$.\n",
        "It is only reasonable to assume that if we design a different and more powerful architecture $\\mathcal{F}'$ we should arrive at a better outcome. In other words, we would expect that $f^*_{\\mathcal{F}'}$ is \"better\" than $f^*_{\\mathcal{F}}$. However, if $\\mathcal{F} \\not\\subseteq \\mathcal{F}'$ there is no guarantee that this should even happen. In fact, $f^*_{\\mathcal{F}'}$ might well be worse.\n",
        "As illustrated by :numref:`fig_functionclasses`,\n",
        "for non-nested function classes, a larger function class does not always move closer to the \"truth\" function $f^*$. For instance,\n",
        "on the left of :numref:`fig_functionclasses`,\n",
        "though $\\mathcal{F}_3$ is closer to $f^*$ than $\\mathcal{F}_1$, $\\mathcal{F}_6$ moves away and there is no guarantee that further increasing the complexity can reduce the distance from $f^*$.\n",
        "With nested function classes\n",
        "where $\\mathcal{F}_1 \\subseteq \\cdots \\subseteq \\mathcal{F}_6$\n",
        "on the right of :numref:`fig_functionclasses`,\n",
        "we can avoid the aforementioned issue from the non-nested function classes.\n",
        "\n",
        "\n",
        "![For non-nested function classes, a larger (indicated by area) function class does not guarantee we will get closer to the \"truth\" function ($\\mathit{f}^*$). This does not happen in nested function classes.](http://d2l.ai/_images/functionclasses.svg)\n",
        ":label:`fig_functionclasses`\n",
        "\n",
        "Thus,\n",
        "only if larger function classes contain the smaller ones are we guaranteed that increasing them strictly increases the expressive power of the network.\n",
        "For deep neural networks,\n",
        "if we can\n",
        "train the newly-added layer into an identity function $f(\\mathbf{x}) = \\mathbf{x}$, the new model will be as effective as the original model. As the new model may get a better solution to fit the training dataset, the added layer might make it easier to reduce training errors.\n",
        "\n",
        "This is the question that :citet:`He.Zhang.Ren.ea.2016` considered when working on very deep computer vision models.\n",
        "At the heart of their proposed *residual network* (*ResNet*) is the idea that every additional layer should\n",
        "more easily\n",
        "contain the identity function as one of its elements.\n",
        "These considerations are rather profound but they led to a surprisingly simple\n",
        "solution, a *residual block*.\n",
        "With it, ResNet won the ImageNet Large Scale Visual Recognition Challenge in 2015. The design had a profound influence on how to\n",
        "build deep neural networks. For instance, residual blocks have been added to recurrent networks :cite:`prakash2016neural,kim2017residual`. Likewise, Transformers :cite:`Vaswani.Shazeer.Parmar.ea.2017` use them to stack many layers of networks efficiently. It is also used in graph neural networks :cite:`Kipf.Welling.2016` and, as a basic concept, it has been used extensively in computer vision :cite:`Redmon.Farhadi.2018,Ren.He.Girshick.ea.2015`.\n",
        "Note that residual networks are predated by highway networks :cite:`srivastava2015highway` that share some of the motivation, albeit without the elegant parametrization around the identity function.\n",
        "\n",
        "\n",
        "## (**Residual Blocks**)\n",
        ":label:`subsec_residual-blks`\n",
        "\n",
        "Let's focus on a local part of a neural network, as depicted in :numref:`fig_residual_block`. Denote the input by $\\mathbf{x}$.\n",
        "We assume that $f(\\mathbf{x})$, the desired underlying mapping we want to obtain by learning, is to be used as input to the activation function on the top.\n",
        "On the left,\n",
        "the portion within the dotted-line box\n",
        "must directly learn $f(\\mathbf{x})$.\n",
        "On the right,\n",
        "the portion within the dotted-line box\n",
        "needs to\n",
        "learn the *residual mapping* $g(\\mathbf{x}) = f(\\mathbf{x}) - \\mathbf{x}$,\n",
        "which is how the residual block derives its name.\n",
        "If the identity mapping $f(\\mathbf{x}) = \\mathbf{x}$ is the desired underlying mapping,\n",
        "the residual mapping amounts to $g(\\mathbf{x}) = 0$ and it is thus easier to learn:\n",
        "we only need to push the weights and biases\n",
        "of the\n",
        "upper weight layer (e.g., fully connected layer and convolutional layer)\n",
        "within the dotted-line box\n",
        "to zero.\n",
        "The right figure illustrates the *residual block* of ResNet,\n",
        "where the solid line carrying the layer input\n",
        "$\\mathbf{x}$ to the addition operator\n",
        "is called a *residual connection* (or *shortcut connection*).\n",
        "With residual blocks, inputs can\n",
        "forward propagate faster through the residual connections across layers.\n",
        "In fact,\n",
        "the residual block\n",
        "can be thought of as\n",
        "a special case of the multi-branch Inception block:\n",
        "it has two branches\n",
        "one of which is the identity mapping.\n",
        "\n",
        "![In a regular block (left), the portion within the dotted-line box must directly learn the mapping $\\mathit{f}(\\mathbf{x})$. In a residual block (right), the portion within the dotted-line box needs to learn the residual mapping $\\mathit{g}(\\mathbf{x}) = \\mathit{f}(\\mathbf{x}) - \\mathbf{x}$, making the identity mapping $\\mathit{f}(\\mathbf{x}) = \\mathbf{x}$ easier to learn.](../img/residual-block.svg)\n",
        ":label:`fig_residual_block`\n",
        "\n",
        "\n",
        "ResNet has VGG's full $3\\times 3$ convolutional layer design. The residual block has two $3\\times 3$ convolutional layers with the same number of output channels. Each convolutional layer is followed by a batch normalization layer and a ReLU activation function. Then, we skip these two convolution operations and add the input directly before the final ReLU activation function.\n",
        "This kind of design requires that the output of the two convolutional layers has to be of the same shape as the input, so that they can be added together. If we want to change the number of channels, we need to introduce an additional $1\\times 1$ convolutional layer to transform the input into the desired shape for the addition operation. Let's have a look at the code below.\n"
      ],
      "metadata": {
        "id": "iaukx0mqQIN1"
      },
      "id": "iaukx0mqQIN1"
    },
    {
      "cell_type": "code",
      "source": [
        "class Residual(nn.Module):  #@save\n",
        "    \"\"\"The Residual block of ResNet models.\"\"\"\n",
        "    def __init__(self, num_channels, use_1x1conv=False, strides=1):\n",
        "        super().__init__()\n",
        "        self.conv1 = nn.LazyConv2d(num_channels, kernel_size=3, padding=1,\n",
        "                                   stride=strides)\n",
        "        self.conv2 = nn.LazyConv2d(num_channels, kernel_size=3, padding=1)\n",
        "        if use_1x1conv:\n",
        "            self.conv3 = nn.LazyConv2d(num_channels, kernel_size=1,\n",
        "                                       stride=strides)\n",
        "        else:\n",
        "            self.conv3 = None\n",
        "        self.bn1 = nn.LazyBatchNorm2d()\n",
        "        self.bn2 = nn.LazyBatchNorm2d()\n",
        "\n",
        "    def forward(self, X):\n",
        "        Y = F.relu(self.bn1(self.conv1(X)))\n",
        "        Y = self.bn2(self.conv2(Y))\n",
        "        if self.conv3:\n",
        "            X = self.conv3(X)\n",
        "        Y += X\n",
        "        return F.relu(Y)"
      ],
      "metadata": {
        "id": "XJW6AMUkOMiC"
      },
      "id": "XJW6AMUkOMiC",
      "execution_count": null,
      "outputs": []
    },
    {
      "cell_type": "markdown",
      "source": [
        "This code generates two types of networks: one where we add the input to the output before applying the ReLU nonlinearity whenever `use_1x1conv=False`; and one where we adjust channels and resolution by means of a $1 \\times 1$ convolution before adding. :numref:`fig_resnet_block` illustrates this.\n",
        "\n",
        "![ResNet block with and without $1 \\times 1$ convolution, which transforms the input into the desired shape for the addition operation.](../img/resnet-block.svg)\n",
        ":label:`fig_resnet_block`\n",
        "\n",
        "Now let's look at [**a situation where the input and output are of the same shape**], where $1 \\times 1$ convolution is not needed.\n"
      ],
      "metadata": {
        "id": "WXG8PJACQe6r"
      },
      "id": "WXG8PJACQe6r"
    },
    {
      "cell_type": "code",
      "source": [
        "blk = Residual(3)\n",
        "X = torch.randn(4, 3, 6, 6)\n",
        "blk(X).shape"
      ],
      "metadata": {
        "colab": {
          "base_uri": "https://localhost:8080/"
        },
        "id": "Px1a38peQfhf",
        "outputId": "695b89fa-a50f-47a6-dc07-e460c7234c11"
      },
      "id": "Px1a38peQfhf",
      "execution_count": null,
      "outputs": [
        {
          "output_type": "execute_result",
          "data": {
            "text/plain": [
              "torch.Size([4, 3, 6, 6])"
            ]
          },
          "metadata": {},
          "execution_count": 35
        }
      ]
    },
    {
      "cell_type": "markdown",
      "source": [
        "We also have the option to [**halve the output height and width while increasing the number of output channels**].\n",
        "In this case we use $1 \\times 1$ convolutions via `use_1x1conv=True`. This comes in handy at the beginning of each ResNet block to reduce the spatial dimensionality via `strides=2`.\n"
      ],
      "metadata": {
        "id": "mC_G_gfrQmli"
      },
      "id": "mC_G_gfrQmli"
    },
    {
      "cell_type": "code",
      "source": [
        "blk = Residual(6, use_1x1conv=True, strides=2)\n",
        "blk(X).shape"
      ],
      "metadata": {
        "colab": {
          "base_uri": "https://localhost:8080/"
        },
        "id": "UN0VC9AOQnPm",
        "outputId": "6a19330e-41f5-4998-bf06-c479774d432b"
      },
      "id": "UN0VC9AOQnPm",
      "execution_count": null,
      "outputs": [
        {
          "output_type": "execute_result",
          "data": {
            "text/plain": [
              "torch.Size([4, 6, 3, 3])"
            ]
          },
          "metadata": {},
          "execution_count": 36
        }
      ]
    },
    {
      "cell_type": "markdown",
      "source": [
        "## [**ResNet Model**]\n",
        "\n",
        "The first two layers of ResNet are the same as those of the GoogLeNet we described before: the $7\\times 7$ convolutional layer with 64 output channels and a stride of 2 is followed by the $3\\times 3$ max-pooling layer with a stride of 2. The difference is the batch normalization layer added after each convolutional layer in ResNet.\n"
      ],
      "metadata": {
        "id": "KYn5X5nkQsxt"
      },
      "id": "KYn5X5nkQsxt"
    },
    {
      "cell_type": "code",
      "source": [
        "class ResNet(d2l.Classifier):\n",
        "    def b1(self):\n",
        "        return nn.Sequential(\n",
        "            nn.LazyConv2d(64, kernel_size=7, stride=2, padding=3),\n",
        "            nn.LazyBatchNorm2d(), nn.ReLU(),\n",
        "            nn.MaxPool2d(kernel_size=3, stride=2, padding=1))"
      ],
      "metadata": {
        "id": "auXggZpRQtbd"
      },
      "id": "auXggZpRQtbd",
      "execution_count": null,
      "outputs": []
    },
    {
      "cell_type": "markdown",
      "source": [
        "GoogLeNet uses four modules made up of Inception blocks.\n",
        "However, ResNet uses four modules made up of residual blocks, each of which uses several residual blocks with the same number of output channels.\n",
        "The number of channels in the first module is the same as the number of input channels. Since a max-pooling layer with a stride of 2 has already been used, it is not necessary to reduce the height and width. In the first residual block for each of the subsequent modules, the number of channels is doubled compared with that of the previous module, and the height and width are halved.\n"
      ],
      "metadata": {
        "id": "lG4L_lnTQ0xo"
      },
      "id": "lG4L_lnTQ0xo"
    },
    {
      "cell_type": "code",
      "source": [
        "@d2l.add_to_class(ResNet)\n",
        "def block(self, num_residuals, num_channels, first_block=False):\n",
        "    blk = []\n",
        "    for i in range(num_residuals):\n",
        "        if i == 0 and not first_block:\n",
        "            blk.append(Residual(num_channels, use_1x1conv=True, strides=2))\n",
        "        else:\n",
        "            blk.append(Residual(num_channels))\n",
        "    return nn.Sequential(*blk)"
      ],
      "metadata": {
        "id": "XfqIwrYMQyzs"
      },
      "id": "XfqIwrYMQyzs",
      "execution_count": null,
      "outputs": []
    },
    {
      "cell_type": "markdown",
      "source": [
        "Then, we add all the modules to ResNet. Here, two residual blocks are used for each module. Lastly, just like GoogLeNet, we add a global average pooling layer, followed by the fully connected layer output.\n"
      ],
      "metadata": {
        "id": "79IPciE8Q6GY"
      },
      "id": "79IPciE8Q6GY"
    },
    {
      "cell_type": "code",
      "source": [
        "@d2l.add_to_class(ResNet)\n",
        "def __init__(self, arch, lr=0.1, num_classes=10):\n",
        "    super(ResNet, self).__init__()\n",
        "    self.save_hyperparameters()\n",
        "    self.net = nn.Sequential(self.b1())\n",
        "    for i, b in enumerate(arch):\n",
        "        self.net.add_module(f'b{i+2}', self.block(*b, first_block=(i==0)))\n",
        "    self.net.add_module('last', nn.Sequential(\n",
        "        nn.AdaptiveAvgPool2d((1, 1)), nn.Flatten(),\n",
        "        nn.LazyLinear(num_classes)))\n",
        "    self.net.apply(d2l.init_cnn)"
      ],
      "metadata": {
        "id": "67Ap9nz-Q6s-"
      },
      "id": "67Ap9nz-Q6s-",
      "execution_count": null,
      "outputs": []
    },
    {
      "cell_type": "markdown",
      "source": [
        "There are four convolutional layers in each module (excluding the $1\\times 1$ convolutional layer). Together with the first $7\\times 7$ convolutional layer and the final fully connected layer, there are 18 layers in total. Therefore, this model is commonly known as ResNet-18.\n",
        "By configuring different numbers of channels and residual blocks in the module, we can create different ResNet models, such as the deeper 152-layer ResNet-152. Although the main architecture of ResNet is similar to that of GoogLeNet, ResNet's structure is simpler and easier to modify. All these factors have resulted in the rapid and widespread use of ResNet. :numref:`fig_resnet18` depicts the full ResNet-18.\n",
        "\n",
        "![The ResNet-18 architecture.](../img/resnet18-90.svg)\n",
        ":label:`fig_resnet18`\n",
        "\n",
        "Before training ResNet, let's [**observe how the input shape changes across different modules in ResNet**]. As in all the previous architectures, the resolution decreases while the number of channels increases up until the point where a global average pooling layer aggregates all features.\n"
      ],
      "metadata": {
        "id": "Ay_88jXEQ_Ip"
      },
      "id": "Ay_88jXEQ_Ip"
    },
    {
      "cell_type": "code",
      "source": [
        "class ResNet18(ResNet):\n",
        "    def __init__(self, lr=0.1, num_classes=10):\n",
        "        super().__init__(((2, 64), (2, 128), (2, 256), (2, 512)),\n",
        "                       lr, num_classes)"
      ],
      "metadata": {
        "id": "DXd6IiyPRAMi"
      },
      "id": "DXd6IiyPRAMi",
      "execution_count": null,
      "outputs": []
    },
    {
      "cell_type": "code",
      "source": [
        "ResNet18().layer_summary((1, 1, 96, 96))"
      ],
      "metadata": {
        "colab": {
          "base_uri": "https://localhost:8080/"
        },
        "id": "9POHbDh8RGZy",
        "outputId": "757f15e3-ac07-42e9-8316-48052a475a42"
      },
      "id": "9POHbDh8RGZy",
      "execution_count": null,
      "outputs": [
        {
          "output_type": "stream",
          "name": "stdout",
          "text": [
            "Sequential output shape:\t torch.Size([1, 64, 24, 24])\n",
            "Sequential output shape:\t torch.Size([1, 64, 24, 24])\n",
            "Sequential output shape:\t torch.Size([1, 128, 12, 12])\n",
            "Sequential output shape:\t torch.Size([1, 256, 6, 6])\n",
            "Sequential output shape:\t torch.Size([1, 512, 3, 3])\n",
            "Sequential output shape:\t torch.Size([1, 10])\n"
          ]
        }
      ]
    },
    {
      "cell_type": "markdown",
      "source": [
        "## [**Training**]\n",
        "\n",
        "We train ResNet on the Fashion-MNIST dataset, just like before. ResNet is quite a powerful and flexible architecture. The plot capturing training and validation loss illustrates a significant gap between both graphs, with the training loss being considerably lower. For a network of this flexibility, more training data would offer distinct benefit in closing the gap and improving accuracy.\n"
      ],
      "metadata": {
        "id": "Lp968H01RItU"
      },
      "id": "Lp968H01RItU"
    },
    {
      "cell_type": "code",
      "source": [
        "model = ResNet18(lr=0.01)\n",
        "trainer = d2l.Trainer(max_epochs=10, num_gpus=1)\n",
        "data = d2l.FashionMNIST(batch_size=128, resize=(96, 96))\n",
        "model.apply_init([next(iter(data.get_dataloader(True)))[0]], d2l.init_cnn)\n",
        "trainer.fit(model, data)"
      ],
      "metadata": {
        "colab": {
          "base_uri": "https://localhost:8080/",
          "height": 265
        },
        "id": "FFQiio__RJhn",
        "outputId": "e0932fec-4615-4446-9679-bd6072eccd44"
      },
      "id": "FFQiio__RJhn",
      "execution_count": null,
      "outputs": [
        {
          "output_type": "display_data",
          "data": {
            "text/plain": [
              "<Figure size 350x250 with 1 Axes>"
            ],
            "image/svg+xml": "<?xml version=\"1.0\" encoding=\"utf-8\" standalone=\"no\"?>\n<!DOCTYPE svg PUBLIC \"-//W3C//DTD SVG 1.1//EN\"\n  \"http://www.w3.org/Graphics/SVG/1.1/DTD/svg11.dtd\">\n<svg xmlns:xlink=\"http://www.w3.org/1999/xlink\" width=\"238.965625pt\" height=\"183.35625pt\" viewBox=\"0 0 238.965625 183.35625\" xmlns=\"http://www.w3.org/2000/svg\" version=\"1.1\">\n <metadata>\n  <rdf:RDF xmlns:dc=\"http://purl.org/dc/elements/1.1/\" xmlns:cc=\"http://creativecommons.org/ns#\" xmlns:rdf=\"http://www.w3.org/1999/02/22-rdf-syntax-ns#\">\n   <cc:Work>\n    <dc:type rdf:resource=\"http://purl.org/dc/dcmitype/StillImage\"/>\n    <dc:date>2024-09-29T10:20:18.213615</dc:date>\n    <dc:format>image/svg+xml</dc:format>\n    <dc:creator>\n     <cc:Agent>\n      <dc:title>Matplotlib v3.7.2, https://matplotlib.org/</dc:title>\n     </cc:Agent>\n    </dc:creator>\n   </cc:Work>\n  </rdf:RDF>\n </metadata>\n <defs>\n  <style type=\"text/css\">*{stroke-linejoin: round; stroke-linecap: butt}</style>\n </defs>\n <g id=\"figure_1\">\n  <g id=\"patch_1\">\n   <path d=\"M 0 183.35625 \nL 238.965625 183.35625 \nL 238.965625 0 \nL 0 0 \nz\n\" style=\"fill: #ffffff\"/>\n  </g>\n  <g id=\"axes_1\">\n   <g id=\"patch_2\">\n    <path d=\"M 30.103125 145.8 \nL 225.403125 145.8 \nL 225.403125 7.2 \nL 30.103125 7.2 \nz\n\" style=\"fill: #ffffff\"/>\n   </g>\n   <g id=\"matplotlib.axis_1\">\n    <g id=\"xtick_1\">\n     <g id=\"line2d_1\">\n      <defs>\n       <path id=\"m2e2e1e450a\" d=\"M 0 0 \nL 0 3.5 \n\" style=\"stroke: #000000; stroke-width: 0.8\"/>\n      </defs>\n      <g>\n       <use xlink:href=\"#m2e2e1e450a\" x=\"30.103125\" y=\"145.8\" style=\"stroke: #000000; stroke-width: 0.8\"/>\n      </g>\n     </g>\n     <g id=\"text_1\">\n      <!-- 0 -->\n      <g transform=\"translate(26.921875 160.398438) scale(0.1 -0.1)\">\n       <defs>\n        <path id=\"DejaVuSans-30\" d=\"M 2034 4250 \nQ 1547 4250 1301 3770 \nQ 1056 3291 1056 2328 \nQ 1056 1369 1301 889 \nQ 1547 409 2034 409 \nQ 2525 409 2770 889 \nQ 3016 1369 3016 2328 \nQ 3016 3291 2770 3770 \nQ 2525 4250 2034 4250 \nz\nM 2034 4750 \nQ 2819 4750 3233 4129 \nQ 3647 3509 3647 2328 \nQ 3647 1150 3233 529 \nQ 2819 -91 2034 -91 \nQ 1250 -91 836 529 \nQ 422 1150 422 2328 \nQ 422 3509 836 4129 \nQ 1250 4750 2034 4750 \nz\n\" transform=\"scale(0.015625)\"/>\n       </defs>\n       <use xlink:href=\"#DejaVuSans-30\"/>\n      </g>\n     </g>\n    </g>\n    <g id=\"xtick_2\">\n     <g id=\"line2d_2\">\n      <g>\n       <use xlink:href=\"#m2e2e1e450a\" x=\"69.163125\" y=\"145.8\" style=\"stroke: #000000; stroke-width: 0.8\"/>\n      </g>\n     </g>\n     <g id=\"text_2\">\n      <!-- 2 -->\n      <g transform=\"translate(65.981875 160.398438) scale(0.1 -0.1)\">\n       <defs>\n        <path id=\"DejaVuSans-32\" d=\"M 1228 531 \nL 3431 531 \nL 3431 0 \nL 469 0 \nL 469 531 \nQ 828 903 1448 1529 \nQ 2069 2156 2228 2338 \nQ 2531 2678 2651 2914 \nQ 2772 3150 2772 3378 \nQ 2772 3750 2511 3984 \nQ 2250 4219 1831 4219 \nQ 1534 4219 1204 4116 \nQ 875 4013 500 3803 \nL 500 4441 \nQ 881 4594 1212 4672 \nQ 1544 4750 1819 4750 \nQ 2544 4750 2975 4387 \nQ 3406 4025 3406 3419 \nQ 3406 3131 3298 2873 \nQ 3191 2616 2906 2266 \nQ 2828 2175 2409 1742 \nQ 1991 1309 1228 531 \nz\n\" transform=\"scale(0.015625)\"/>\n       </defs>\n       <use xlink:href=\"#DejaVuSans-32\"/>\n      </g>\n     </g>\n    </g>\n    <g id=\"xtick_3\">\n     <g id=\"line2d_3\">\n      <g>\n       <use xlink:href=\"#m2e2e1e450a\" x=\"108.223125\" y=\"145.8\" style=\"stroke: #000000; stroke-width: 0.8\"/>\n      </g>\n     </g>\n     <g id=\"text_3\">\n      <!-- 4 -->\n      <g transform=\"translate(105.041875 160.398438) scale(0.1 -0.1)\">\n       <defs>\n        <path id=\"DejaVuSans-34\" d=\"M 2419 4116 \nL 825 1625 \nL 2419 1625 \nL 2419 4116 \nz\nM 2253 4666 \nL 3047 4666 \nL 3047 1625 \nL 3713 1625 \nL 3713 1100 \nL 3047 1100 \nL 3047 0 \nL 2419 0 \nL 2419 1100 \nL 313 1100 \nL 313 1709 \nL 2253 4666 \nz\n\" transform=\"scale(0.015625)\"/>\n       </defs>\n       <use xlink:href=\"#DejaVuSans-34\"/>\n      </g>\n     </g>\n    </g>\n    <g id=\"xtick_4\">\n     <g id=\"line2d_4\">\n      <g>\n       <use xlink:href=\"#m2e2e1e450a\" x=\"147.283125\" y=\"145.8\" style=\"stroke: #000000; stroke-width: 0.8\"/>\n      </g>\n     </g>\n     <g id=\"text_4\">\n      <!-- 6 -->\n      <g transform=\"translate(144.101875 160.398438) scale(0.1 -0.1)\">\n       <defs>\n        <path id=\"DejaVuSans-36\" d=\"M 2113 2584 \nQ 1688 2584 1439 2293 \nQ 1191 2003 1191 1497 \nQ 1191 994 1439 701 \nQ 1688 409 2113 409 \nQ 2538 409 2786 701 \nQ 3034 994 3034 1497 \nQ 3034 2003 2786 2293 \nQ 2538 2584 2113 2584 \nz\nM 3366 4563 \nL 3366 3988 \nQ 3128 4100 2886 4159 \nQ 2644 4219 2406 4219 \nQ 1781 4219 1451 3797 \nQ 1122 3375 1075 2522 \nQ 1259 2794 1537 2939 \nQ 1816 3084 2150 3084 \nQ 2853 3084 3261 2657 \nQ 3669 2231 3669 1497 \nQ 3669 778 3244 343 \nQ 2819 -91 2113 -91 \nQ 1303 -91 875 529 \nQ 447 1150 447 2328 \nQ 447 3434 972 4092 \nQ 1497 4750 2381 4750 \nQ 2619 4750 2861 4703 \nQ 3103 4656 3366 4563 \nz\n\" transform=\"scale(0.015625)\"/>\n       </defs>\n       <use xlink:href=\"#DejaVuSans-36\"/>\n      </g>\n     </g>\n    </g>\n    <g id=\"xtick_5\">\n     <g id=\"line2d_5\">\n      <g>\n       <use xlink:href=\"#m2e2e1e450a\" x=\"186.343125\" y=\"145.8\" style=\"stroke: #000000; stroke-width: 0.8\"/>\n      </g>\n     </g>\n     <g id=\"text_5\">\n      <!-- 8 -->\n      <g transform=\"translate(183.161875 160.398438) scale(0.1 -0.1)\">\n       <defs>\n        <path id=\"DejaVuSans-38\" d=\"M 2034 2216 \nQ 1584 2216 1326 1975 \nQ 1069 1734 1069 1313 \nQ 1069 891 1326 650 \nQ 1584 409 2034 409 \nQ 2484 409 2743 651 \nQ 3003 894 3003 1313 \nQ 3003 1734 2745 1975 \nQ 2488 2216 2034 2216 \nz\nM 1403 2484 \nQ 997 2584 770 2862 \nQ 544 3141 544 3541 \nQ 544 4100 942 4425 \nQ 1341 4750 2034 4750 \nQ 2731 4750 3128 4425 \nQ 3525 4100 3525 3541 \nQ 3525 3141 3298 2862 \nQ 3072 2584 2669 2484 \nQ 3125 2378 3379 2068 \nQ 3634 1759 3634 1313 \nQ 3634 634 3220 271 \nQ 2806 -91 2034 -91 \nQ 1263 -91 848 271 \nQ 434 634 434 1313 \nQ 434 1759 690 2068 \nQ 947 2378 1403 2484 \nz\nM 1172 3481 \nQ 1172 3119 1398 2916 \nQ 1625 2713 2034 2713 \nQ 2441 2713 2670 2916 \nQ 2900 3119 2900 3481 \nQ 2900 3844 2670 4047 \nQ 2441 4250 2034 4250 \nQ 1625 4250 1398 4047 \nQ 1172 3844 1172 3481 \nz\n\" transform=\"scale(0.015625)\"/>\n       </defs>\n       <use xlink:href=\"#DejaVuSans-38\"/>\n      </g>\n     </g>\n    </g>\n    <g id=\"xtick_6\">\n     <g id=\"line2d_6\">\n      <g>\n       <use xlink:href=\"#m2e2e1e450a\" x=\"225.403125\" y=\"145.8\" style=\"stroke: #000000; stroke-width: 0.8\"/>\n      </g>\n     </g>\n     <g id=\"text_6\">\n      <!-- 10 -->\n      <g transform=\"translate(219.040625 160.398438) scale(0.1 -0.1)\">\n       <defs>\n        <path id=\"DejaVuSans-31\" d=\"M 794 531 \nL 1825 531 \nL 1825 4091 \nL 703 3866 \nL 703 4441 \nL 1819 4666 \nL 2450 4666 \nL 2450 531 \nL 3481 531 \nL 3481 0 \nL 794 0 \nL 794 531 \nz\n\" transform=\"scale(0.015625)\"/>\n       </defs>\n       <use xlink:href=\"#DejaVuSans-31\"/>\n       <use xlink:href=\"#DejaVuSans-30\" x=\"63.623047\"/>\n      </g>\n     </g>\n    </g>\n    <g id=\"text_7\">\n     <!-- epoch -->\n     <g transform=\"translate(112.525 174.076563) scale(0.1 -0.1)\">\n      <defs>\n       <path id=\"DejaVuSans-65\" d=\"M 3597 1894 \nL 3597 1613 \nL 953 1613 \nQ 991 1019 1311 708 \nQ 1631 397 2203 397 \nQ 2534 397 2845 478 \nQ 3156 559 3463 722 \nL 3463 178 \nQ 3153 47 2828 -22 \nQ 2503 -91 2169 -91 \nQ 1331 -91 842 396 \nQ 353 884 353 1716 \nQ 353 2575 817 3079 \nQ 1281 3584 2069 3584 \nQ 2775 3584 3186 3129 \nQ 3597 2675 3597 1894 \nz\nM 3022 2063 \nQ 3016 2534 2758 2815 \nQ 2500 3097 2075 3097 \nQ 1594 3097 1305 2825 \nQ 1016 2553 972 2059 \nL 3022 2063 \nz\n\" transform=\"scale(0.015625)\"/>\n       <path id=\"DejaVuSans-70\" d=\"M 1159 525 \nL 1159 -1331 \nL 581 -1331 \nL 581 3500 \nL 1159 3500 \nL 1159 2969 \nQ 1341 3281 1617 3432 \nQ 1894 3584 2278 3584 \nQ 2916 3584 3314 3078 \nQ 3713 2572 3713 1747 \nQ 3713 922 3314 415 \nQ 2916 -91 2278 -91 \nQ 1894 -91 1617 61 \nQ 1341 213 1159 525 \nz\nM 3116 1747 \nQ 3116 2381 2855 2742 \nQ 2594 3103 2138 3103 \nQ 1681 3103 1420 2742 \nQ 1159 2381 1159 1747 \nQ 1159 1113 1420 752 \nQ 1681 391 2138 391 \nQ 2594 391 2855 752 \nQ 3116 1113 3116 1747 \nz\n\" transform=\"scale(0.015625)\"/>\n       <path id=\"DejaVuSans-6f\" d=\"M 1959 3097 \nQ 1497 3097 1228 2736 \nQ 959 2375 959 1747 \nQ 959 1119 1226 758 \nQ 1494 397 1959 397 \nQ 2419 397 2687 759 \nQ 2956 1122 2956 1747 \nQ 2956 2369 2687 2733 \nQ 2419 3097 1959 3097 \nz\nM 1959 3584 \nQ 2709 3584 3137 3096 \nQ 3566 2609 3566 1747 \nQ 3566 888 3137 398 \nQ 2709 -91 1959 -91 \nQ 1206 -91 779 398 \nQ 353 888 353 1747 \nQ 353 2609 779 3096 \nQ 1206 3584 1959 3584 \nz\n\" transform=\"scale(0.015625)\"/>\n       <path id=\"DejaVuSans-63\" d=\"M 3122 3366 \nL 3122 2828 \nQ 2878 2963 2633 3030 \nQ 2388 3097 2138 3097 \nQ 1578 3097 1268 2742 \nQ 959 2388 959 1747 \nQ 959 1106 1268 751 \nQ 1578 397 2138 397 \nQ 2388 397 2633 464 \nQ 2878 531 3122 666 \nL 3122 134 \nQ 2881 22 2623 -34 \nQ 2366 -91 2075 -91 \nQ 1284 -91 818 406 \nQ 353 903 353 1747 \nQ 353 2603 823 3093 \nQ 1294 3584 2113 3584 \nQ 2378 3584 2631 3529 \nQ 2884 3475 3122 3366 \nz\n\" transform=\"scale(0.015625)\"/>\n       <path id=\"DejaVuSans-68\" d=\"M 3513 2113 \nL 3513 0 \nL 2938 0 \nL 2938 2094 \nQ 2938 2591 2744 2837 \nQ 2550 3084 2163 3084 \nQ 1697 3084 1428 2787 \nQ 1159 2491 1159 1978 \nL 1159 0 \nL 581 0 \nL 581 4863 \nL 1159 4863 \nL 1159 2956 \nQ 1366 3272 1645 3428 \nQ 1925 3584 2291 3584 \nQ 2894 3584 3203 3211 \nQ 3513 2838 3513 2113 \nz\n\" transform=\"scale(0.015625)\"/>\n      </defs>\n      <use xlink:href=\"#DejaVuSans-65\"/>\n      <use xlink:href=\"#DejaVuSans-70\" x=\"61.523438\"/>\n      <use xlink:href=\"#DejaVuSans-6f\" x=\"125\"/>\n      <use xlink:href=\"#DejaVuSans-63\" x=\"186.181641\"/>\n      <use xlink:href=\"#DejaVuSans-68\" x=\"241.162109\"/>\n     </g>\n    </g>\n   </g>\n   <g id=\"matplotlib.axis_2\">\n    <g id=\"ytick_1\">\n     <g id=\"line2d_7\">\n      <defs>\n       <path id=\"m8633436ea6\" d=\"M 0 0 \nL -3.5 0 \n\" style=\"stroke: #000000; stroke-width: 0.8\"/>\n      </defs>\n      <g>\n       <use xlink:href=\"#m8633436ea6\" x=\"30.103125\" y=\"143.40703\" style=\"stroke: #000000; stroke-width: 0.8\"/>\n      </g>\n     </g>\n     <g id=\"text_8\">\n      <!-- 0.0 -->\n      <g transform=\"translate(7.2 147.206248) scale(0.1 -0.1)\">\n       <defs>\n        <path id=\"DejaVuSans-2e\" d=\"M 684 794 \nL 1344 794 \nL 1344 0 \nL 684 0 \nL 684 794 \nz\n\" transform=\"scale(0.015625)\"/>\n       </defs>\n       <use xlink:href=\"#DejaVuSans-30\"/>\n       <use xlink:href=\"#DejaVuSans-2e\" x=\"63.623047\"/>\n       <use xlink:href=\"#DejaVuSans-30\" x=\"95.410156\"/>\n      </g>\n     </g>\n    </g>\n    <g id=\"ytick_2\">\n     <g id=\"line2d_8\">\n      <g>\n       <use xlink:href=\"#m8633436ea6\" x=\"30.103125\" y=\"115.001367\" style=\"stroke: #000000; stroke-width: 0.8\"/>\n      </g>\n     </g>\n     <g id=\"text_9\">\n      <!-- 0.2 -->\n      <g transform=\"translate(7.2 118.800585) scale(0.1 -0.1)\">\n       <use xlink:href=\"#DejaVuSans-30\"/>\n       <use xlink:href=\"#DejaVuSans-2e\" x=\"63.623047\"/>\n       <use xlink:href=\"#DejaVuSans-32\" x=\"95.410156\"/>\n      </g>\n     </g>\n    </g>\n    <g id=\"ytick_3\">\n     <g id=\"line2d_9\">\n      <g>\n       <use xlink:href=\"#m8633436ea6\" x=\"30.103125\" y=\"86.595704\" style=\"stroke: #000000; stroke-width: 0.8\"/>\n      </g>\n     </g>\n     <g id=\"text_10\">\n      <!-- 0.4 -->\n      <g transform=\"translate(7.2 90.394922) scale(0.1 -0.1)\">\n       <use xlink:href=\"#DejaVuSans-30\"/>\n       <use xlink:href=\"#DejaVuSans-2e\" x=\"63.623047\"/>\n       <use xlink:href=\"#DejaVuSans-34\" x=\"95.410156\"/>\n      </g>\n     </g>\n    </g>\n    <g id=\"ytick_4\">\n     <g id=\"line2d_10\">\n      <g>\n       <use xlink:href=\"#m8633436ea6\" x=\"30.103125\" y=\"58.190041\" style=\"stroke: #000000; stroke-width: 0.8\"/>\n      </g>\n     </g>\n     <g id=\"text_11\">\n      <!-- 0.6 -->\n      <g transform=\"translate(7.2 61.989259) scale(0.1 -0.1)\">\n       <use xlink:href=\"#DejaVuSans-30\"/>\n       <use xlink:href=\"#DejaVuSans-2e\" x=\"63.623047\"/>\n       <use xlink:href=\"#DejaVuSans-36\" x=\"95.410156\"/>\n      </g>\n     </g>\n    </g>\n    <g id=\"ytick_5\">\n     <g id=\"line2d_11\">\n      <g>\n       <use xlink:href=\"#m8633436ea6\" x=\"30.103125\" y=\"29.784378\" style=\"stroke: #000000; stroke-width: 0.8\"/>\n      </g>\n     </g>\n     <g id=\"text_12\">\n      <!-- 0.8 -->\n      <g transform=\"translate(7.2 33.583597) scale(0.1 -0.1)\">\n       <use xlink:href=\"#DejaVuSans-30\"/>\n       <use xlink:href=\"#DejaVuSans-2e\" x=\"63.623047\"/>\n       <use xlink:href=\"#DejaVuSans-38\" x=\"95.410156\"/>\n      </g>\n     </g>\n    </g>\n   </g>\n   <g id=\"line2d_12\">\n    <path d=\"M 34.954394 60.153883 \n\" clip-path=\"url(#p04735777a2)\" style=\"fill: none; stroke: #1f77b4; stroke-width: 1.5; stroke-linecap: square\"/>\n   </g>\n   <g id=\"line2d_13\">\n    <path d=\"M 34.954394 60.153883 \nL 44.698573 94.449146 \n\" clip-path=\"url(#p04735777a2)\" style=\"fill: none; stroke: #1f77b4; stroke-width: 1.5; stroke-linecap: square\"/>\n   </g>\n   <g id=\"line2d_14\">\n    <path d=\"M 34.954394 60.153883 \nL 44.698573 94.449146 \n\" clip-path=\"url(#p04735777a2)\" style=\"fill: none; stroke: #1f77b4; stroke-width: 1.5; stroke-linecap: square\"/>\n   </g>\n   <g id=\"line2d_15\">\n    <path d=\"M 49.633125 80.154137 \n\" clip-path=\"url(#p04735777a2)\" style=\"fill: none; stroke-dasharray: 5.55,2.4; stroke-dashoffset: 0; stroke: #ff7f0e; stroke-width: 1.5\"/>\n   </g>\n   <g id=\"line2d_16\"/>\n   <g id=\"line2d_17\">\n    <path d=\"M 34.954394 60.153883 \nL 44.698573 94.449146 \n\" clip-path=\"url(#p04735777a2)\" style=\"fill: none; stroke: #1f77b4; stroke-width: 1.5; stroke-linecap: square\"/>\n   </g>\n   <g id=\"line2d_18\">\n    <path d=\"M 49.633125 80.154137 \n\" clip-path=\"url(#p04735777a2)\" style=\"fill: none; stroke-dasharray: 5.55,2.4; stroke-dashoffset: 0; stroke: #ff7f0e; stroke-width: 1.5\"/>\n   </g>\n   <g id=\"line2d_19\">\n    <path d=\"M 49.633125 24.244824 \n\" clip-path=\"url(#p04735777a2)\" style=\"fill: none; stroke-dasharray: 9.6,2.4,1.5,2.4; stroke-dashoffset: 0; stroke: #2ca02c; stroke-width: 1.5\"/>\n   </g>\n   <g id=\"line2d_20\">\n    <path d=\"M 34.954394 60.153883 \nL 44.698573 94.449146 \nL 54.442752 102.847293 \n\" clip-path=\"url(#p04735777a2)\" style=\"fill: none; stroke: #1f77b4; stroke-width: 1.5; stroke-linecap: square\"/>\n   </g>\n   <g id=\"line2d_21\">\n    <path d=\"M 49.633125 80.154137 \n\" clip-path=\"url(#p04735777a2)\" style=\"fill: none; stroke-dasharray: 5.55,2.4; stroke-dashoffset: 0; stroke: #ff7f0e; stroke-width: 1.5\"/>\n   </g>\n   <g id=\"line2d_22\">\n    <path d=\"M 49.633125 24.244824 \n\" clip-path=\"url(#p04735777a2)\" style=\"fill: none; stroke-dasharray: 9.6,2.4,1.5,2.4; stroke-dashoffset: 0; stroke: #2ca02c; stroke-width: 1.5\"/>\n   </g>\n   <g id=\"line2d_23\">\n    <path d=\"M 34.954394 60.153883 \nL 44.698573 94.449146 \nL 54.442752 102.847293 \nL 64.186931 106.395012 \n\" clip-path=\"url(#p04735777a2)\" style=\"fill: none; stroke: #1f77b4; stroke-width: 1.5; stroke-linecap: square\"/>\n   </g>\n   <g id=\"line2d_24\">\n    <path d=\"M 49.633125 80.154137 \n\" clip-path=\"url(#p04735777a2)\" style=\"fill: none; stroke-dasharray: 5.55,2.4; stroke-dashoffset: 0; stroke: #ff7f0e; stroke-width: 1.5\"/>\n   </g>\n   <g id=\"line2d_25\">\n    <path d=\"M 49.633125 24.244824 \n\" clip-path=\"url(#p04735777a2)\" style=\"fill: none; stroke-dasharray: 9.6,2.4,1.5,2.4; stroke-dashoffset: 0; stroke: #2ca02c; stroke-width: 1.5\"/>\n   </g>\n   <g id=\"line2d_26\">\n    <path d=\"M 34.954394 60.153883 \nL 44.698573 94.449146 \nL 54.442752 102.847293 \nL 64.186931 106.395012 \n\" clip-path=\"url(#p04735777a2)\" style=\"fill: none; stroke: #1f77b4; stroke-width: 1.5; stroke-linecap: square\"/>\n   </g>\n   <g id=\"line2d_27\">\n    <path d=\"M 49.633125 80.154137 \nL 69.163125 99.846825 \n\" clip-path=\"url(#p04735777a2)\" style=\"fill: none; stroke-dasharray: 5.55,2.4; stroke-dashoffset: 0; stroke: #ff7f0e; stroke-width: 1.5\"/>\n   </g>\n   <g id=\"line2d_28\">\n    <path d=\"M 49.633125 24.244824 \n\" clip-path=\"url(#p04735777a2)\" style=\"fill: none; stroke-dasharray: 9.6,2.4,1.5,2.4; stroke-dashoffset: 0; stroke: #2ca02c; stroke-width: 1.5\"/>\n   </g>\n   <g id=\"line2d_29\">\n    <path d=\"M 34.954394 60.153883 \nL 44.698573 94.449146 \nL 54.442752 102.847293 \nL 64.186931 106.395012 \n\" clip-path=\"url(#p04735777a2)\" style=\"fill: none; stroke: #1f77b4; stroke-width: 1.5; stroke-linecap: square\"/>\n   </g>\n   <g id=\"line2d_30\">\n    <path d=\"M 49.633125 80.154137 \nL 69.163125 99.846825 \n\" clip-path=\"url(#p04735777a2)\" style=\"fill: none; stroke-dasharray: 5.55,2.4; stroke-dashoffset: 0; stroke: #ff7f0e; stroke-width: 1.5\"/>\n   </g>\n   <g id=\"line2d_31\">\n    <path d=\"M 49.633125 24.244824 \nL 69.163125 17.657474 \n\" clip-path=\"url(#p04735777a2)\" style=\"fill: none; stroke-dasharray: 9.6,2.4,1.5,2.4; stroke-dashoffset: 0; stroke: #2ca02c; stroke-width: 1.5\"/>\n   </g>\n   <g id=\"line2d_32\">\n    <path d=\"M 34.954394 60.153883 \nL 44.698573 94.449146 \nL 54.442752 102.847293 \nL 64.186931 106.395012 \nL 73.93111 113.13515 \n\" clip-path=\"url(#p04735777a2)\" style=\"fill: none; stroke: #1f77b4; stroke-width: 1.5; stroke-linecap: square\"/>\n   </g>\n   <g id=\"line2d_33\">\n    <path d=\"M 49.633125 80.154137 \nL 69.163125 99.846825 \n\" clip-path=\"url(#p04735777a2)\" style=\"fill: none; stroke-dasharray: 5.55,2.4; stroke-dashoffset: 0; stroke: #ff7f0e; stroke-width: 1.5\"/>\n   </g>\n   <g id=\"line2d_34\">\n    <path d=\"M 49.633125 24.244824 \nL 69.163125 17.657474 \n\" clip-path=\"url(#p04735777a2)\" style=\"fill: none; stroke-dasharray: 9.6,2.4,1.5,2.4; stroke-dashoffset: 0; stroke: #2ca02c; stroke-width: 1.5\"/>\n   </g>\n   <g id=\"line2d_35\">\n    <path d=\"M 34.954394 60.153883 \nL 44.698573 94.449146 \nL 54.442752 102.847293 \nL 64.186931 106.395012 \nL 73.93111 113.13515 \nL 83.675289 112.95181 \n\" clip-path=\"url(#p04735777a2)\" style=\"fill: none; stroke: #1f77b4; stroke-width: 1.5; stroke-linecap: square\"/>\n   </g>\n   <g id=\"line2d_36\">\n    <path d=\"M 49.633125 80.154137 \nL 69.163125 99.846825 \n\" clip-path=\"url(#p04735777a2)\" style=\"fill: none; stroke-dasharray: 5.55,2.4; stroke-dashoffset: 0; stroke: #ff7f0e; stroke-width: 1.5\"/>\n   </g>\n   <g id=\"line2d_37\">\n    <path d=\"M 49.633125 24.244824 \nL 69.163125 17.657474 \n\" clip-path=\"url(#p04735777a2)\" style=\"fill: none; stroke-dasharray: 9.6,2.4,1.5,2.4; stroke-dashoffset: 0; stroke: #2ca02c; stroke-width: 1.5\"/>\n   </g>\n   <g id=\"line2d_38\">\n    <path d=\"M 34.954394 60.153883 \nL 44.698573 94.449146 \nL 54.442752 102.847293 \nL 64.186931 106.395012 \nL 73.93111 113.13515 \nL 83.675289 112.95181 \n\" clip-path=\"url(#p04735777a2)\" style=\"fill: none; stroke: #1f77b4; stroke-width: 1.5; stroke-linecap: square\"/>\n   </g>\n   <g id=\"line2d_39\">\n    <path d=\"M 49.633125 80.154137 \nL 69.163125 99.846825 \nL 88.693125 91.220134 \n\" clip-path=\"url(#p04735777a2)\" style=\"fill: none; stroke-dasharray: 5.55,2.4; stroke-dashoffset: 0; stroke: #ff7f0e; stroke-width: 1.5\"/>\n   </g>\n   <g id=\"line2d_40\">\n    <path d=\"M 49.633125 24.244824 \nL 69.163125 17.657474 \n\" clip-path=\"url(#p04735777a2)\" style=\"fill: none; stroke-dasharray: 9.6,2.4,1.5,2.4; stroke-dashoffset: 0; stroke: #2ca02c; stroke-width: 1.5\"/>\n   </g>\n   <g id=\"line2d_41\">\n    <path d=\"M 34.954394 60.153883 \nL 44.698573 94.449146 \nL 54.442752 102.847293 \nL 64.186931 106.395012 \nL 73.93111 113.13515 \nL 83.675289 112.95181 \n\" clip-path=\"url(#p04735777a2)\" style=\"fill: none; stroke: #1f77b4; stroke-width: 1.5; stroke-linecap: square\"/>\n   </g>\n   <g id=\"line2d_42\">\n    <path d=\"M 49.633125 80.154137 \nL 69.163125 99.846825 \nL 88.693125 91.220134 \n\" clip-path=\"url(#p04735777a2)\" style=\"fill: none; stroke-dasharray: 5.55,2.4; stroke-dashoffset: 0; stroke: #ff7f0e; stroke-width: 1.5\"/>\n   </g>\n   <g id=\"line2d_43\">\n    <path d=\"M 49.633125 24.244824 \nL 69.163125 17.657474 \nL 88.693125 20.157577 \n\" clip-path=\"url(#p04735777a2)\" style=\"fill: none; stroke-dasharray: 9.6,2.4,1.5,2.4; stroke-dashoffset: 0; stroke: #2ca02c; stroke-width: 1.5\"/>\n   </g>\n   <g id=\"line2d_44\">\n    <path d=\"M 34.954394 60.153883 \nL 44.698573 94.449146 \nL 54.442752 102.847293 \nL 64.186931 106.395012 \nL 73.93111 113.13515 \nL 83.675289 112.95181 \nL 93.419468 119.220896 \n\" clip-path=\"url(#p04735777a2)\" style=\"fill: none; stroke: #1f77b4; stroke-width: 1.5; stroke-linecap: square\"/>\n   </g>\n   <g id=\"line2d_45\">\n    <path d=\"M 49.633125 80.154137 \nL 69.163125 99.846825 \nL 88.693125 91.220134 \n\" clip-path=\"url(#p04735777a2)\" style=\"fill: none; stroke-dasharray: 5.55,2.4; stroke-dashoffset: 0; stroke: #ff7f0e; stroke-width: 1.5\"/>\n   </g>\n   <g id=\"line2d_46\">\n    <path d=\"M 49.633125 24.244824 \nL 69.163125 17.657474 \nL 88.693125 20.157577 \n\" clip-path=\"url(#p04735777a2)\" style=\"fill: none; stroke-dasharray: 9.6,2.4,1.5,2.4; stroke-dashoffset: 0; stroke: #2ca02c; stroke-width: 1.5\"/>\n   </g>\n   <g id=\"line2d_47\">\n    <path d=\"M 34.954394 60.153883 \nL 44.698573 94.449146 \nL 54.442752 102.847293 \nL 64.186931 106.395012 \nL 73.93111 113.13515 \nL 83.675289 112.95181 \nL 93.419468 119.220896 \nL 103.163647 119.509161 \n\" clip-path=\"url(#p04735777a2)\" style=\"fill: none; stroke: #1f77b4; stroke-width: 1.5; stroke-linecap: square\"/>\n   </g>\n   <g id=\"line2d_48\">\n    <path d=\"M 49.633125 80.154137 \nL 69.163125 99.846825 \nL 88.693125 91.220134 \n\" clip-path=\"url(#p04735777a2)\" style=\"fill: none; stroke-dasharray: 5.55,2.4; stroke-dashoffset: 0; stroke: #ff7f0e; stroke-width: 1.5\"/>\n   </g>\n   <g id=\"line2d_49\">\n    <path d=\"M 49.633125 24.244824 \nL 69.163125 17.657474 \nL 88.693125 20.157577 \n\" clip-path=\"url(#p04735777a2)\" style=\"fill: none; stroke-dasharray: 9.6,2.4,1.5,2.4; stroke-dashoffset: 0; stroke: #2ca02c; stroke-width: 1.5\"/>\n   </g>\n   <g id=\"line2d_50\">\n    <path d=\"M 34.954394 60.153883 \nL 44.698573 94.449146 \nL 54.442752 102.847293 \nL 64.186931 106.395012 \nL 73.93111 113.13515 \nL 83.675289 112.95181 \nL 93.419468 119.220896 \nL 103.163647 119.509161 \n\" clip-path=\"url(#p04735777a2)\" style=\"fill: none; stroke: #1f77b4; stroke-width: 1.5; stroke-linecap: square\"/>\n   </g>\n   <g id=\"line2d_51\">\n    <path d=\"M 49.633125 80.154137 \nL 69.163125 99.846825 \nL 88.693125 91.220134 \nL 108.223125 99.687188 \n\" clip-path=\"url(#p04735777a2)\" style=\"fill: none; stroke-dasharray: 5.55,2.4; stroke-dashoffset: 0; stroke: #ff7f0e; stroke-width: 1.5\"/>\n   </g>\n   <g id=\"line2d_52\">\n    <path d=\"M 49.633125 24.244824 \nL 69.163125 17.657474 \nL 88.693125 20.157577 \n\" clip-path=\"url(#p04735777a2)\" style=\"fill: none; stroke-dasharray: 9.6,2.4,1.5,2.4; stroke-dashoffset: 0; stroke: #2ca02c; stroke-width: 1.5\"/>\n   </g>\n   <g id=\"line2d_53\">\n    <path d=\"M 34.954394 60.153883 \nL 44.698573 94.449146 \nL 54.442752 102.847293 \nL 64.186931 106.395012 \nL 73.93111 113.13515 \nL 83.675289 112.95181 \nL 93.419468 119.220896 \nL 103.163647 119.509161 \n\" clip-path=\"url(#p04735777a2)\" style=\"fill: none; stroke: #1f77b4; stroke-width: 1.5; stroke-linecap: square\"/>\n   </g>\n   <g id=\"line2d_54\">\n    <path d=\"M 49.633125 80.154137 \nL 69.163125 99.846825 \nL 88.693125 91.220134 \nL 108.223125 99.687188 \n\" clip-path=\"url(#p04735777a2)\" style=\"fill: none; stroke-dasharray: 5.55,2.4; stroke-dashoffset: 0; stroke: #ff7f0e; stroke-width: 1.5\"/>\n   </g>\n   <g id=\"line2d_55\">\n    <path d=\"M 49.633125 24.244824 \nL 69.163125 17.657474 \nL 88.693125 20.157577 \nL 108.223125 16.997335 \n\" clip-path=\"url(#p04735777a2)\" style=\"fill: none; stroke-dasharray: 9.6,2.4,1.5,2.4; stroke-dashoffset: 0; stroke: #2ca02c; stroke-width: 1.5\"/>\n   </g>\n   <g id=\"line2d_56\">\n    <path d=\"M 34.954394 60.153883 \nL 44.698573 94.449146 \nL 54.442752 102.847293 \nL 64.186931 106.395012 \nL 73.93111 113.13515 \nL 83.675289 112.95181 \nL 93.419468 119.220896 \nL 103.163647 119.509161 \nL 112.907826 124.698193 \n\" clip-path=\"url(#p04735777a2)\" style=\"fill: none; stroke: #1f77b4; stroke-width: 1.5; stroke-linecap: square\"/>\n   </g>\n   <g id=\"line2d_57\">\n    <path d=\"M 49.633125 80.154137 \nL 69.163125 99.846825 \nL 88.693125 91.220134 \nL 108.223125 99.687188 \n\" clip-path=\"url(#p04735777a2)\" style=\"fill: none; stroke-dasharray: 5.55,2.4; stroke-dashoffset: 0; stroke: #ff7f0e; stroke-width: 1.5\"/>\n   </g>\n   <g id=\"line2d_58\">\n    <path d=\"M 49.633125 24.244824 \nL 69.163125 17.657474 \nL 88.693125 20.157577 \nL 108.223125 16.997335 \n\" clip-path=\"url(#p04735777a2)\" style=\"fill: none; stroke-dasharray: 9.6,2.4,1.5,2.4; stroke-dashoffset: 0; stroke: #2ca02c; stroke-width: 1.5\"/>\n   </g>\n   <g id=\"line2d_59\">\n    <path d=\"M 34.954394 60.153883 \nL 44.698573 94.449146 \nL 54.442752 102.847293 \nL 64.186931 106.395012 \nL 73.93111 113.13515 \nL 83.675289 112.95181 \nL 93.419468 119.220896 \nL 103.163647 119.509161 \nL 112.907826 124.698193 \nL 122.652006 123.56738 \n\" clip-path=\"url(#p04735777a2)\" style=\"fill: none; stroke: #1f77b4; stroke-width: 1.5; stroke-linecap: square\"/>\n   </g>\n   <g id=\"line2d_60\">\n    <path d=\"M 49.633125 80.154137 \nL 69.163125 99.846825 \nL 88.693125 91.220134 \nL 108.223125 99.687188 \n\" clip-path=\"url(#p04735777a2)\" style=\"fill: none; stroke-dasharray: 5.55,2.4; stroke-dashoffset: 0; stroke: #ff7f0e; stroke-width: 1.5\"/>\n   </g>\n   <g id=\"line2d_61\">\n    <path d=\"M 49.633125 24.244824 \nL 69.163125 17.657474 \nL 88.693125 20.157577 \nL 108.223125 16.997335 \n\" clip-path=\"url(#p04735777a2)\" style=\"fill: none; stroke-dasharray: 9.6,2.4,1.5,2.4; stroke-dashoffset: 0; stroke: #2ca02c; stroke-width: 1.5\"/>\n   </g>\n   <g id=\"line2d_62\">\n    <path d=\"M 34.954394 60.153883 \nL 44.698573 94.449146 \nL 54.442752 102.847293 \nL 64.186931 106.395012 \nL 73.93111 113.13515 \nL 83.675289 112.95181 \nL 93.419468 119.220896 \nL 103.163647 119.509161 \nL 112.907826 124.698193 \nL 122.652006 123.56738 \n\" clip-path=\"url(#p04735777a2)\" style=\"fill: none; stroke: #1f77b4; stroke-width: 1.5; stroke-linecap: square\"/>\n   </g>\n   <g id=\"line2d_63\">\n    <path d=\"M 49.633125 80.154137 \nL 69.163125 99.846825 \nL 88.693125 91.220134 \nL 108.223125 99.687188 \nL 127.753125 97.888786 \n\" clip-path=\"url(#p04735777a2)\" style=\"fill: none; stroke-dasharray: 5.55,2.4; stroke-dashoffset: 0; stroke: #ff7f0e; stroke-width: 1.5\"/>\n   </g>\n   <g id=\"line2d_64\">\n    <path d=\"M 49.633125 24.244824 \nL 69.163125 17.657474 \nL 88.693125 20.157577 \nL 108.223125 16.997335 \n\" clip-path=\"url(#p04735777a2)\" style=\"fill: none; stroke-dasharray: 9.6,2.4,1.5,2.4; stroke-dashoffset: 0; stroke: #2ca02c; stroke-width: 1.5\"/>\n   </g>\n   <g id=\"line2d_65\">\n    <path d=\"M 34.954394 60.153883 \nL 44.698573 94.449146 \nL 54.442752 102.847293 \nL 64.186931 106.395012 \nL 73.93111 113.13515 \nL 83.675289 112.95181 \nL 93.419468 119.220896 \nL 103.163647 119.509161 \nL 112.907826 124.698193 \nL 122.652006 123.56738 \n\" clip-path=\"url(#p04735777a2)\" style=\"fill: none; stroke: #1f77b4; stroke-width: 1.5; stroke-linecap: square\"/>\n   </g>\n   <g id=\"line2d_66\">\n    <path d=\"M 49.633125 80.154137 \nL 69.163125 99.846825 \nL 88.693125 91.220134 \nL 108.223125 99.687188 \nL 127.753125 97.888786 \n\" clip-path=\"url(#p04735777a2)\" style=\"fill: none; stroke-dasharray: 5.55,2.4; stroke-dashoffset: 0; stroke: #ff7f0e; stroke-width: 1.5\"/>\n   </g>\n   <g id=\"line2d_67\">\n    <path d=\"M 49.633125 24.244824 \nL 69.163125 17.657474 \nL 88.693125 20.157577 \nL 108.223125 16.997335 \nL 127.753125 17.081608 \n\" clip-path=\"url(#p04735777a2)\" style=\"fill: none; stroke-dasharray: 9.6,2.4,1.5,2.4; stroke-dashoffset: 0; stroke: #2ca02c; stroke-width: 1.5\"/>\n   </g>\n   <g id=\"line2d_68\">\n    <path d=\"M 34.954394 60.153883 \nL 44.698573 94.449146 \nL 54.442752 102.847293 \nL 64.186931 106.395012 \nL 73.93111 113.13515 \nL 83.675289 112.95181 \nL 93.419468 119.220896 \nL 103.163647 119.509161 \nL 112.907826 124.698193 \nL 122.652006 123.56738 \nL 132.396185 129.58308 \n\" clip-path=\"url(#p04735777a2)\" style=\"fill: none; stroke: #1f77b4; stroke-width: 1.5; stroke-linecap: square\"/>\n   </g>\n   <g id=\"line2d_69\">\n    <path d=\"M 49.633125 80.154137 \nL 69.163125 99.846825 \nL 88.693125 91.220134 \nL 108.223125 99.687188 \nL 127.753125 97.888786 \n\" clip-path=\"url(#p04735777a2)\" style=\"fill: none; stroke-dasharray: 5.55,2.4; stroke-dashoffset: 0; stroke: #ff7f0e; stroke-width: 1.5\"/>\n   </g>\n   <g id=\"line2d_70\">\n    <path d=\"M 49.633125 24.244824 \nL 69.163125 17.657474 \nL 88.693125 20.157577 \nL 108.223125 16.997335 \nL 127.753125 17.081608 \n\" clip-path=\"url(#p04735777a2)\" style=\"fill: none; stroke-dasharray: 9.6,2.4,1.5,2.4; stroke-dashoffset: 0; stroke: #2ca02c; stroke-width: 1.5\"/>\n   </g>\n   <g id=\"line2d_71\">\n    <path d=\"M 34.954394 60.153883 \nL 44.698573 94.449146 \nL 54.442752 102.847293 \nL 64.186931 106.395012 \nL 73.93111 113.13515 \nL 83.675289 112.95181 \nL 93.419468 119.220896 \nL 103.163647 119.509161 \nL 112.907826 124.698193 \nL 122.652006 123.56738 \nL 132.396185 129.58308 \nL 142.140364 128.193927 \n\" clip-path=\"url(#p04735777a2)\" style=\"fill: none; stroke: #1f77b4; stroke-width: 1.5; stroke-linecap: square\"/>\n   </g>\n   <g id=\"line2d_72\">\n    <path d=\"M 49.633125 80.154137 \nL 69.163125 99.846825 \nL 88.693125 91.220134 \nL 108.223125 99.687188 \nL 127.753125 97.888786 \n\" clip-path=\"url(#p04735777a2)\" style=\"fill: none; stroke-dasharray: 5.55,2.4; stroke-dashoffset: 0; stroke: #ff7f0e; stroke-width: 1.5\"/>\n   </g>\n   <g id=\"line2d_73\">\n    <path d=\"M 49.633125 24.244824 \nL 69.163125 17.657474 \nL 88.693125 20.157577 \nL 108.223125 16.997335 \nL 127.753125 17.081608 \n\" clip-path=\"url(#p04735777a2)\" style=\"fill: none; stroke-dasharray: 9.6,2.4,1.5,2.4; stroke-dashoffset: 0; stroke: #2ca02c; stroke-width: 1.5\"/>\n   </g>\n   <g id=\"line2d_74\">\n    <path d=\"M 34.954394 60.153883 \nL 44.698573 94.449146 \nL 54.442752 102.847293 \nL 64.186931 106.395012 \nL 73.93111 113.13515 \nL 83.675289 112.95181 \nL 93.419468 119.220896 \nL 103.163647 119.509161 \nL 112.907826 124.698193 \nL 122.652006 123.56738 \nL 132.396185 129.58308 \nL 142.140364 128.193927 \n\" clip-path=\"url(#p04735777a2)\" style=\"fill: none; stroke: #1f77b4; stroke-width: 1.5; stroke-linecap: square\"/>\n   </g>\n   <g id=\"line2d_75\">\n    <path d=\"M 49.633125 80.154137 \nL 69.163125 99.846825 \nL 88.693125 91.220134 \nL 108.223125 99.687188 \nL 127.753125 97.888786 \nL 147.283125 70.634115 \n\" clip-path=\"url(#p04735777a2)\" style=\"fill: none; stroke-dasharray: 5.55,2.4; stroke-dashoffset: 0; stroke: #ff7f0e; stroke-width: 1.5\"/>\n   </g>\n   <g id=\"line2d_76\">\n    <path d=\"M 49.633125 24.244824 \nL 69.163125 17.657474 \nL 88.693125 20.157577 \nL 108.223125 16.997335 \nL 127.753125 17.081608 \n\" clip-path=\"url(#p04735777a2)\" style=\"fill: none; stroke-dasharray: 9.6,2.4,1.5,2.4; stroke-dashoffset: 0; stroke: #2ca02c; stroke-width: 1.5\"/>\n   </g>\n   <g id=\"line2d_77\">\n    <path d=\"M 34.954394 60.153883 \nL 44.698573 94.449146 \nL 54.442752 102.847293 \nL 64.186931 106.395012 \nL 73.93111 113.13515 \nL 83.675289 112.95181 \nL 93.419468 119.220896 \nL 103.163647 119.509161 \nL 112.907826 124.698193 \nL 122.652006 123.56738 \nL 132.396185 129.58308 \nL 142.140364 128.193927 \n\" clip-path=\"url(#p04735777a2)\" style=\"fill: none; stroke: #1f77b4; stroke-width: 1.5; stroke-linecap: square\"/>\n   </g>\n   <g id=\"line2d_78\">\n    <path d=\"M 49.633125 80.154137 \nL 69.163125 99.846825 \nL 88.693125 91.220134 \nL 108.223125 99.687188 \nL 127.753125 97.888786 \nL 147.283125 70.634115 \n\" clip-path=\"url(#p04735777a2)\" style=\"fill: none; stroke-dasharray: 5.55,2.4; stroke-dashoffset: 0; stroke: #ff7f0e; stroke-width: 1.5\"/>\n   </g>\n   <g id=\"line2d_79\">\n    <path d=\"M 49.633125 24.244824 \nL 69.163125 17.657474 \nL 88.693125 20.157577 \nL 108.223125 16.997335 \nL 127.753125 17.081608 \nL 147.283125 23.444229 \n\" clip-path=\"url(#p04735777a2)\" style=\"fill: none; stroke-dasharray: 9.6,2.4,1.5,2.4; stroke-dashoffset: 0; stroke: #2ca02c; stroke-width: 1.5\"/>\n   </g>\n   <g id=\"line2d_80\">\n    <path d=\"M 34.954394 60.153883 \nL 44.698573 94.449146 \nL 54.442752 102.847293 \nL 64.186931 106.395012 \nL 73.93111 113.13515 \nL 83.675289 112.95181 \nL 93.419468 119.220896 \nL 103.163647 119.509161 \nL 112.907826 124.698193 \nL 122.652006 123.56738 \nL 132.396185 129.58308 \nL 142.140364 128.193927 \nL 151.884543 133.427883 \n\" clip-path=\"url(#p04735777a2)\" style=\"fill: none; stroke: #1f77b4; stroke-width: 1.5; stroke-linecap: square\"/>\n   </g>\n   <g id=\"line2d_81\">\n    <path d=\"M 49.633125 80.154137 \nL 69.163125 99.846825 \nL 88.693125 91.220134 \nL 108.223125 99.687188 \nL 127.753125 97.888786 \nL 147.283125 70.634115 \n\" clip-path=\"url(#p04735777a2)\" style=\"fill: none; stroke-dasharray: 5.55,2.4; stroke-dashoffset: 0; stroke: #ff7f0e; stroke-width: 1.5\"/>\n   </g>\n   <g id=\"line2d_82\">\n    <path d=\"M 49.633125 24.244824 \nL 69.163125 17.657474 \nL 88.693125 20.157577 \nL 108.223125 16.997335 \nL 127.753125 17.081608 \nL 147.283125 23.444229 \n\" clip-path=\"url(#p04735777a2)\" style=\"fill: none; stroke-dasharray: 9.6,2.4,1.5,2.4; stroke-dashoffset: 0; stroke: #2ca02c; stroke-width: 1.5\"/>\n   </g>\n   <g id=\"line2d_83\">\n    <path d=\"M 34.954394 60.153883 \nL 44.698573 94.449146 \nL 54.442752 102.847293 \nL 64.186931 106.395012 \nL 73.93111 113.13515 \nL 83.675289 112.95181 \nL 93.419468 119.220896 \nL 103.163647 119.509161 \nL 112.907826 124.698193 \nL 122.652006 123.56738 \nL 132.396185 129.58308 \nL 142.140364 128.193927 \nL 151.884543 133.427883 \nL 161.628722 131.571938 \n\" clip-path=\"url(#p04735777a2)\" style=\"fill: none; stroke: #1f77b4; stroke-width: 1.5; stroke-linecap: square\"/>\n   </g>\n   <g id=\"line2d_84\">\n    <path d=\"M 49.633125 80.154137 \nL 69.163125 99.846825 \nL 88.693125 91.220134 \nL 108.223125 99.687188 \nL 127.753125 97.888786 \nL 147.283125 70.634115 \n\" clip-path=\"url(#p04735777a2)\" style=\"fill: none; stroke-dasharray: 5.55,2.4; stroke-dashoffset: 0; stroke: #ff7f0e; stroke-width: 1.5\"/>\n   </g>\n   <g id=\"line2d_85\">\n    <path d=\"M 49.633125 24.244824 \nL 69.163125 17.657474 \nL 88.693125 20.157577 \nL 108.223125 16.997335 \nL 127.753125 17.081608 \nL 147.283125 23.444229 \n\" clip-path=\"url(#p04735777a2)\" style=\"fill: none; stroke-dasharray: 9.6,2.4,1.5,2.4; stroke-dashoffset: 0; stroke: #2ca02c; stroke-width: 1.5\"/>\n   </g>\n   <g id=\"line2d_86\">\n    <path d=\"M 34.954394 60.153883 \nL 44.698573 94.449146 \nL 54.442752 102.847293 \nL 64.186931 106.395012 \nL 73.93111 113.13515 \nL 83.675289 112.95181 \nL 93.419468 119.220896 \nL 103.163647 119.509161 \nL 112.907826 124.698193 \nL 122.652006 123.56738 \nL 132.396185 129.58308 \nL 142.140364 128.193927 \nL 151.884543 133.427883 \nL 161.628722 131.571938 \n\" clip-path=\"url(#p04735777a2)\" style=\"fill: none; stroke: #1f77b4; stroke-width: 1.5; stroke-linecap: square\"/>\n   </g>\n   <g id=\"line2d_87\">\n    <path d=\"M 49.633125 80.154137 \nL 69.163125 99.846825 \nL 88.693125 91.220134 \nL 108.223125 99.687188 \nL 127.753125 97.888786 \nL 147.283125 70.634115 \nL 166.813125 99.448114 \n\" clip-path=\"url(#p04735777a2)\" style=\"fill: none; stroke-dasharray: 5.55,2.4; stroke-dashoffset: 0; stroke: #ff7f0e; stroke-width: 1.5\"/>\n   </g>\n   <g id=\"line2d_88\">\n    <path d=\"M 49.633125 24.244824 \nL 69.163125 17.657474 \nL 88.693125 20.157577 \nL 108.223125 16.997335 \nL 127.753125 17.081608 \nL 147.283125 23.444229 \n\" clip-path=\"url(#p04735777a2)\" style=\"fill: none; stroke-dasharray: 9.6,2.4,1.5,2.4; stroke-dashoffset: 0; stroke: #2ca02c; stroke-width: 1.5\"/>\n   </g>\n   <g id=\"line2d_89\">\n    <path d=\"M 34.954394 60.153883 \nL 44.698573 94.449146 \nL 54.442752 102.847293 \nL 64.186931 106.395012 \nL 73.93111 113.13515 \nL 83.675289 112.95181 \nL 93.419468 119.220896 \nL 103.163647 119.509161 \nL 112.907826 124.698193 \nL 122.652006 123.56738 \nL 132.396185 129.58308 \nL 142.140364 128.193927 \nL 151.884543 133.427883 \nL 161.628722 131.571938 \n\" clip-path=\"url(#p04735777a2)\" style=\"fill: none; stroke: #1f77b4; stroke-width: 1.5; stroke-linecap: square\"/>\n   </g>\n   <g id=\"line2d_90\">\n    <path d=\"M 49.633125 80.154137 \nL 69.163125 99.846825 \nL 88.693125 91.220134 \nL 108.223125 99.687188 \nL 127.753125 97.888786 \nL 147.283125 70.634115 \nL 166.813125 99.448114 \n\" clip-path=\"url(#p04735777a2)\" style=\"fill: none; stroke-dasharray: 5.55,2.4; stroke-dashoffset: 0; stroke: #ff7f0e; stroke-width: 1.5\"/>\n   </g>\n   <g id=\"line2d_91\">\n    <path d=\"M 49.633125 24.244824 \nL 69.163125 17.657474 \nL 88.693125 20.157577 \nL 108.223125 16.997335 \nL 127.753125 17.081608 \nL 147.283125 23.444229 \nL 166.813125 15.157372 \n\" clip-path=\"url(#p04735777a2)\" style=\"fill: none; stroke-dasharray: 9.6,2.4,1.5,2.4; stroke-dashoffset: 0; stroke: #2ca02c; stroke-width: 1.5\"/>\n   </g>\n   <g id=\"line2d_92\">\n    <path d=\"M 34.954394 60.153883 \nL 44.698573 94.449146 \nL 54.442752 102.847293 \nL 64.186931 106.395012 \nL 73.93111 113.13515 \nL 83.675289 112.95181 \nL 93.419468 119.220896 \nL 103.163647 119.509161 \nL 112.907826 124.698193 \nL 122.652006 123.56738 \nL 132.396185 129.58308 \nL 142.140364 128.193927 \nL 151.884543 133.427883 \nL 161.628722 131.571938 \nL 171.372901 136.445565 \n\" clip-path=\"url(#p04735777a2)\" style=\"fill: none; stroke: #1f77b4; stroke-width: 1.5; stroke-linecap: square\"/>\n   </g>\n   <g id=\"line2d_93\">\n    <path d=\"M 49.633125 80.154137 \nL 69.163125 99.846825 \nL 88.693125 91.220134 \nL 108.223125 99.687188 \nL 127.753125 97.888786 \nL 147.283125 70.634115 \nL 166.813125 99.448114 \n\" clip-path=\"url(#p04735777a2)\" style=\"fill: none; stroke-dasharray: 5.55,2.4; stroke-dashoffset: 0; stroke: #ff7f0e; stroke-width: 1.5\"/>\n   </g>\n   <g id=\"line2d_94\">\n    <path d=\"M 49.633125 24.244824 \nL 69.163125 17.657474 \nL 88.693125 20.157577 \nL 108.223125 16.997335 \nL 127.753125 17.081608 \nL 147.283125 23.444229 \nL 166.813125 15.157372 \n\" clip-path=\"url(#p04735777a2)\" style=\"fill: none; stroke-dasharray: 9.6,2.4,1.5,2.4; stroke-dashoffset: 0; stroke: #2ca02c; stroke-width: 1.5\"/>\n   </g>\n   <g id=\"line2d_95\">\n    <path d=\"M 34.954394 60.153883 \nL 44.698573 94.449146 \nL 54.442752 102.847293 \nL 64.186931 106.395012 \nL 73.93111 113.13515 \nL 83.675289 112.95181 \nL 93.419468 119.220896 \nL 103.163647 119.509161 \nL 112.907826 124.698193 \nL 122.652006 123.56738 \nL 132.396185 129.58308 \nL 142.140364 128.193927 \nL 151.884543 133.427883 \nL 161.628722 131.571938 \nL 171.372901 136.445565 \nL 181.11708 134.731315 \n\" clip-path=\"url(#p04735777a2)\" style=\"fill: none; stroke: #1f77b4; stroke-width: 1.5; stroke-linecap: square\"/>\n   </g>\n   <g id=\"line2d_96\">\n    <path d=\"M 49.633125 80.154137 \nL 69.163125 99.846825 \nL 88.693125 91.220134 \nL 108.223125 99.687188 \nL 127.753125 97.888786 \nL 147.283125 70.634115 \nL 166.813125 99.448114 \n\" clip-path=\"url(#p04735777a2)\" style=\"fill: none; stroke-dasharray: 5.55,2.4; stroke-dashoffset: 0; stroke: #ff7f0e; stroke-width: 1.5\"/>\n   </g>\n   <g id=\"line2d_97\">\n    <path d=\"M 49.633125 24.244824 \nL 69.163125 17.657474 \nL 88.693125 20.157577 \nL 108.223125 16.997335 \nL 127.753125 17.081608 \nL 147.283125 23.444229 \nL 166.813125 15.157372 \n\" clip-path=\"url(#p04735777a2)\" style=\"fill: none; stroke-dasharray: 9.6,2.4,1.5,2.4; stroke-dashoffset: 0; stroke: #2ca02c; stroke-width: 1.5\"/>\n   </g>\n   <g id=\"line2d_98\">\n    <path d=\"M 34.954394 60.153883 \nL 44.698573 94.449146 \nL 54.442752 102.847293 \nL 64.186931 106.395012 \nL 73.93111 113.13515 \nL 83.675289 112.95181 \nL 93.419468 119.220896 \nL 103.163647 119.509161 \nL 112.907826 124.698193 \nL 122.652006 123.56738 \nL 132.396185 129.58308 \nL 142.140364 128.193927 \nL 151.884543 133.427883 \nL 161.628722 131.571938 \nL 171.372901 136.445565 \nL 181.11708 134.731315 \n\" clip-path=\"url(#p04735777a2)\" style=\"fill: none; stroke: #1f77b4; stroke-width: 1.5; stroke-linecap: square\"/>\n   </g>\n   <g id=\"line2d_99\">\n    <path d=\"M 49.633125 80.154137 \nL 69.163125 99.846825 \nL 88.693125 91.220134 \nL 108.223125 99.687188 \nL 127.753125 97.888786 \nL 147.283125 70.634115 \nL 166.813125 99.448114 \nL 186.343125 69.366111 \n\" clip-path=\"url(#p04735777a2)\" style=\"fill: none; stroke-dasharray: 5.55,2.4; stroke-dashoffset: 0; stroke: #ff7f0e; stroke-width: 1.5\"/>\n   </g>\n   <g id=\"line2d_100\">\n    <path d=\"M 49.633125 24.244824 \nL 69.163125 17.657474 \nL 88.693125 20.157577 \nL 108.223125 16.997335 \nL 127.753125 17.081608 \nL 147.283125 23.444229 \nL 166.813125 15.157372 \n\" clip-path=\"url(#p04735777a2)\" style=\"fill: none; stroke-dasharray: 9.6,2.4,1.5,2.4; stroke-dashoffset: 0; stroke: #2ca02c; stroke-width: 1.5\"/>\n   </g>\n   <g id=\"line2d_101\">\n    <path d=\"M 34.954394 60.153883 \nL 44.698573 94.449146 \nL 54.442752 102.847293 \nL 64.186931 106.395012 \nL 73.93111 113.13515 \nL 83.675289 112.95181 \nL 93.419468 119.220896 \nL 103.163647 119.509161 \nL 112.907826 124.698193 \nL 122.652006 123.56738 \nL 132.396185 129.58308 \nL 142.140364 128.193927 \nL 151.884543 133.427883 \nL 161.628722 131.571938 \nL 171.372901 136.445565 \nL 181.11708 134.731315 \n\" clip-path=\"url(#p04735777a2)\" style=\"fill: none; stroke: #1f77b4; stroke-width: 1.5; stroke-linecap: square\"/>\n   </g>\n   <g id=\"line2d_102\">\n    <path d=\"M 49.633125 80.154137 \nL 69.163125 99.846825 \nL 88.693125 91.220134 \nL 108.223125 99.687188 \nL 127.753125 97.888786 \nL 147.283125 70.634115 \nL 166.813125 99.448114 \nL 186.343125 69.366111 \n\" clip-path=\"url(#p04735777a2)\" style=\"fill: none; stroke-dasharray: 5.55,2.4; stroke-dashoffset: 0; stroke: #ff7f0e; stroke-width: 1.5\"/>\n   </g>\n   <g id=\"line2d_103\">\n    <path d=\"M 49.633125 24.244824 \nL 69.163125 17.657474 \nL 88.693125 20.157577 \nL 108.223125 16.997335 \nL 127.753125 17.081608 \nL 147.283125 23.444229 \nL 166.813125 15.157372 \nL 186.343125 22.306542 \n\" clip-path=\"url(#p04735777a2)\" style=\"fill: none; stroke-dasharray: 9.6,2.4,1.5,2.4; stroke-dashoffset: 0; stroke: #2ca02c; stroke-width: 1.5\"/>\n   </g>\n   <g id=\"line2d_104\">\n    <path d=\"M 34.954394 60.153883 \nL 44.698573 94.449146 \nL 54.442752 102.847293 \nL 64.186931 106.395012 \nL 73.93111 113.13515 \nL 83.675289 112.95181 \nL 93.419468 119.220896 \nL 103.163647 119.509161 \nL 112.907826 124.698193 \nL 122.652006 123.56738 \nL 132.396185 129.58308 \nL 142.140364 128.193927 \nL 151.884543 133.427883 \nL 161.628722 131.571938 \nL 171.372901 136.445565 \nL 181.11708 134.731315 \nL 190.861259 137.882858 \n\" clip-path=\"url(#p04735777a2)\" style=\"fill: none; stroke: #1f77b4; stroke-width: 1.5; stroke-linecap: square\"/>\n   </g>\n   <g id=\"line2d_105\">\n    <path d=\"M 49.633125 80.154137 \nL 69.163125 99.846825 \nL 88.693125 91.220134 \nL 108.223125 99.687188 \nL 127.753125 97.888786 \nL 147.283125 70.634115 \nL 166.813125 99.448114 \nL 186.343125 69.366111 \n\" clip-path=\"url(#p04735777a2)\" style=\"fill: none; stroke-dasharray: 5.55,2.4; stroke-dashoffset: 0; stroke: #ff7f0e; stroke-width: 1.5\"/>\n   </g>\n   <g id=\"line2d_106\">\n    <path d=\"M 49.633125 24.244824 \nL 69.163125 17.657474 \nL 88.693125 20.157577 \nL 108.223125 16.997335 \nL 127.753125 17.081608 \nL 147.283125 23.444229 \nL 166.813125 15.157372 \nL 186.343125 22.306542 \n\" clip-path=\"url(#p04735777a2)\" style=\"fill: none; stroke-dasharray: 9.6,2.4,1.5,2.4; stroke-dashoffset: 0; stroke: #2ca02c; stroke-width: 1.5\"/>\n   </g>\n   <g id=\"line2d_107\">\n    <path d=\"M 34.954394 60.153883 \nL 44.698573 94.449146 \nL 54.442752 102.847293 \nL 64.186931 106.395012 \nL 73.93111 113.13515 \nL 83.675289 112.95181 \nL 93.419468 119.220896 \nL 103.163647 119.509161 \nL 112.907826 124.698193 \nL 122.652006 123.56738 \nL 132.396185 129.58308 \nL 142.140364 128.193927 \nL 151.884543 133.427883 \nL 161.628722 131.571938 \nL 171.372901 136.445565 \nL 181.11708 134.731315 \nL 190.861259 137.882858 \nL 200.605438 137.529481 \n\" clip-path=\"url(#p04735777a2)\" style=\"fill: none; stroke: #1f77b4; stroke-width: 1.5; stroke-linecap: square\"/>\n   </g>\n   <g id=\"line2d_108\">\n    <path d=\"M 49.633125 80.154137 \nL 69.163125 99.846825 \nL 88.693125 91.220134 \nL 108.223125 99.687188 \nL 127.753125 97.888786 \nL 147.283125 70.634115 \nL 166.813125 99.448114 \nL 186.343125 69.366111 \n\" clip-path=\"url(#p04735777a2)\" style=\"fill: none; stroke-dasharray: 5.55,2.4; stroke-dashoffset: 0; stroke: #ff7f0e; stroke-width: 1.5\"/>\n   </g>\n   <g id=\"line2d_109\">\n    <path d=\"M 49.633125 24.244824 \nL 69.163125 17.657474 \nL 88.693125 20.157577 \nL 108.223125 16.997335 \nL 127.753125 17.081608 \nL 147.283125 23.444229 \nL 166.813125 15.157372 \nL 186.343125 22.306542 \n\" clip-path=\"url(#p04735777a2)\" style=\"fill: none; stroke-dasharray: 9.6,2.4,1.5,2.4; stroke-dashoffset: 0; stroke: #2ca02c; stroke-width: 1.5\"/>\n   </g>\n   <g id=\"line2d_110\">\n    <path d=\"M 34.954394 60.153883 \nL 44.698573 94.449146 \nL 54.442752 102.847293 \nL 64.186931 106.395012 \nL 73.93111 113.13515 \nL 83.675289 112.95181 \nL 93.419468 119.220896 \nL 103.163647 119.509161 \nL 112.907826 124.698193 \nL 122.652006 123.56738 \nL 132.396185 129.58308 \nL 142.140364 128.193927 \nL 151.884543 133.427883 \nL 161.628722 131.571938 \nL 171.372901 136.445565 \nL 181.11708 134.731315 \nL 190.861259 137.882858 \nL 200.605438 137.529481 \n\" clip-path=\"url(#p04735777a2)\" style=\"fill: none; stroke: #1f77b4; stroke-width: 1.5; stroke-linecap: square\"/>\n   </g>\n   <g id=\"line2d_111\">\n    <path d=\"M 49.633125 80.154137 \nL 69.163125 99.846825 \nL 88.693125 91.220134 \nL 108.223125 99.687188 \nL 127.753125 97.888786 \nL 147.283125 70.634115 \nL 166.813125 99.448114 \nL 186.343125 69.366111 \nL 205.873125 99.631912 \n\" clip-path=\"url(#p04735777a2)\" style=\"fill: none; stroke-dasharray: 5.55,2.4; stroke-dashoffset: 0; stroke: #ff7f0e; stroke-width: 1.5\"/>\n   </g>\n   <g id=\"line2d_112\">\n    <path d=\"M 49.633125 24.244824 \nL 69.163125 17.657474 \nL 88.693125 20.157577 \nL 108.223125 16.997335 \nL 127.753125 17.081608 \nL 147.283125 23.444229 \nL 166.813125 15.157372 \nL 186.343125 22.306542 \n\" clip-path=\"url(#p04735777a2)\" style=\"fill: none; stroke-dasharray: 9.6,2.4,1.5,2.4; stroke-dashoffset: 0; stroke: #2ca02c; stroke-width: 1.5\"/>\n   </g>\n   <g id=\"line2d_113\">\n    <path d=\"M 34.954394 60.153883 \nL 44.698573 94.449146 \nL 54.442752 102.847293 \nL 64.186931 106.395012 \nL 73.93111 113.13515 \nL 83.675289 112.95181 \nL 93.419468 119.220896 \nL 103.163647 119.509161 \nL 112.907826 124.698193 \nL 122.652006 123.56738 \nL 132.396185 129.58308 \nL 142.140364 128.193927 \nL 151.884543 133.427883 \nL 161.628722 131.571938 \nL 171.372901 136.445565 \nL 181.11708 134.731315 \nL 190.861259 137.882858 \nL 200.605438 137.529481 \n\" clip-path=\"url(#p04735777a2)\" style=\"fill: none; stroke: #1f77b4; stroke-width: 1.5; stroke-linecap: square\"/>\n   </g>\n   <g id=\"line2d_114\">\n    <path d=\"M 49.633125 80.154137 \nL 69.163125 99.846825 \nL 88.693125 91.220134 \nL 108.223125 99.687188 \nL 127.753125 97.888786 \nL 147.283125 70.634115 \nL 166.813125 99.448114 \nL 186.343125 69.366111 \nL 205.873125 99.631912 \n\" clip-path=\"url(#p04735777a2)\" style=\"fill: none; stroke-dasharray: 5.55,2.4; stroke-dashoffset: 0; stroke: #ff7f0e; stroke-width: 1.5\"/>\n   </g>\n   <g id=\"line2d_115\">\n    <path d=\"M 49.633125 24.244824 \nL 69.163125 17.657474 \nL 88.693125 20.157577 \nL 108.223125 16.997335 \nL 127.753125 17.081608 \nL 147.283125 23.444229 \nL 166.813125 15.157372 \nL 186.343125 22.306542 \nL 205.873125 14.146094 \n\" clip-path=\"url(#p04735777a2)\" style=\"fill: none; stroke-dasharray: 9.6,2.4,1.5,2.4; stroke-dashoffset: 0; stroke: #2ca02c; stroke-width: 1.5\"/>\n   </g>\n   <g id=\"line2d_116\">\n    <path d=\"M 34.954394 60.153883 \nL 44.698573 94.449146 \nL 54.442752 102.847293 \nL 64.186931 106.395012 \nL 73.93111 113.13515 \nL 83.675289 112.95181 \nL 93.419468 119.220896 \nL 103.163647 119.509161 \nL 112.907826 124.698193 \nL 122.652006 123.56738 \nL 132.396185 129.58308 \nL 142.140364 128.193927 \nL 151.884543 133.427883 \nL 161.628722 131.571938 \nL 171.372901 136.445565 \nL 181.11708 134.731315 \nL 190.861259 137.882858 \nL 200.605438 137.529481 \nL 210.349618 139.5 \n\" clip-path=\"url(#p04735777a2)\" style=\"fill: none; stroke: #1f77b4; stroke-width: 1.5; stroke-linecap: square\"/>\n   </g>\n   <g id=\"line2d_117\">\n    <path d=\"M 49.633125 80.154137 \nL 69.163125 99.846825 \nL 88.693125 91.220134 \nL 108.223125 99.687188 \nL 127.753125 97.888786 \nL 147.283125 70.634115 \nL 166.813125 99.448114 \nL 186.343125 69.366111 \nL 205.873125 99.631912 \n\" clip-path=\"url(#p04735777a2)\" style=\"fill: none; stroke-dasharray: 5.55,2.4; stroke-dashoffset: 0; stroke: #ff7f0e; stroke-width: 1.5\"/>\n   </g>\n   <g id=\"line2d_118\">\n    <path d=\"M 49.633125 24.244824 \nL 69.163125 17.657474 \nL 88.693125 20.157577 \nL 108.223125 16.997335 \nL 127.753125 17.081608 \nL 147.283125 23.444229 \nL 166.813125 15.157372 \nL 186.343125 22.306542 \nL 205.873125 14.146094 \n\" clip-path=\"url(#p04735777a2)\" style=\"fill: none; stroke-dasharray: 9.6,2.4,1.5,2.4; stroke-dashoffset: 0; stroke: #2ca02c; stroke-width: 1.5\"/>\n   </g>\n   <g id=\"line2d_119\">\n    <path d=\"M 34.954394 60.153883 \nL 44.698573 94.449146 \nL 54.442752 102.847293 \nL 64.186931 106.395012 \nL 73.93111 113.13515 \nL 83.675289 112.95181 \nL 93.419468 119.220896 \nL 103.163647 119.509161 \nL 112.907826 124.698193 \nL 122.652006 123.56738 \nL 132.396185 129.58308 \nL 142.140364 128.193927 \nL 151.884543 133.427883 \nL 161.628722 131.571938 \nL 171.372901 136.445565 \nL 181.11708 134.731315 \nL 190.861259 137.882858 \nL 200.605438 137.529481 \nL 210.349618 139.5 \nL 220.093797 139.40504 \n\" clip-path=\"url(#p04735777a2)\" style=\"fill: none; stroke: #1f77b4; stroke-width: 1.5; stroke-linecap: square\"/>\n   </g>\n   <g id=\"line2d_120\">\n    <path d=\"M 49.633125 80.154137 \nL 69.163125 99.846825 \nL 88.693125 91.220134 \nL 108.223125 99.687188 \nL 127.753125 97.888786 \nL 147.283125 70.634115 \nL 166.813125 99.448114 \nL 186.343125 69.366111 \nL 205.873125 99.631912 \n\" clip-path=\"url(#p04735777a2)\" style=\"fill: none; stroke-dasharray: 5.55,2.4; stroke-dashoffset: 0; stroke: #ff7f0e; stroke-width: 1.5\"/>\n   </g>\n   <g id=\"line2d_121\">\n    <path d=\"M 49.633125 24.244824 \nL 69.163125 17.657474 \nL 88.693125 20.157577 \nL 108.223125 16.997335 \nL 127.753125 17.081608 \nL 147.283125 23.444229 \nL 166.813125 15.157372 \nL 186.343125 22.306542 \nL 205.873125 14.146094 \n\" clip-path=\"url(#p04735777a2)\" style=\"fill: none; stroke-dasharray: 9.6,2.4,1.5,2.4; stroke-dashoffset: 0; stroke: #2ca02c; stroke-width: 1.5\"/>\n   </g>\n   <g id=\"line2d_122\">\n    <path d=\"M 34.954394 60.153883 \nL 44.698573 94.449146 \nL 54.442752 102.847293 \nL 64.186931 106.395012 \nL 73.93111 113.13515 \nL 83.675289 112.95181 \nL 93.419468 119.220896 \nL 103.163647 119.509161 \nL 112.907826 124.698193 \nL 122.652006 123.56738 \nL 132.396185 129.58308 \nL 142.140364 128.193927 \nL 151.884543 133.427883 \nL 161.628722 131.571938 \nL 171.372901 136.445565 \nL 181.11708 134.731315 \nL 190.861259 137.882858 \nL 200.605438 137.529481 \nL 210.349618 139.5 \nL 220.093797 139.40504 \n\" clip-path=\"url(#p04735777a2)\" style=\"fill: none; stroke: #1f77b4; stroke-width: 1.5; stroke-linecap: square\"/>\n   </g>\n   <g id=\"line2d_123\">\n    <path d=\"M 49.633125 80.154137 \nL 69.163125 99.846825 \nL 88.693125 91.220134 \nL 108.223125 99.687188 \nL 127.753125 97.888786 \nL 147.283125 70.634115 \nL 166.813125 99.448114 \nL 186.343125 69.366111 \nL 205.873125 99.631912 \nL 225.403125 100.402759 \n\" clip-path=\"url(#p04735777a2)\" style=\"fill: none; stroke-dasharray: 5.55,2.4; stroke-dashoffset: 0; stroke: #ff7f0e; stroke-width: 1.5\"/>\n   </g>\n   <g id=\"line2d_124\">\n    <path d=\"M 49.633125 24.244824 \nL 69.163125 17.657474 \nL 88.693125 20.157577 \nL 108.223125 16.997335 \nL 127.753125 17.081608 \nL 147.283125 23.444229 \nL 166.813125 15.157372 \nL 186.343125 22.306542 \nL 205.873125 14.146094 \n\" clip-path=\"url(#p04735777a2)\" style=\"fill: none; stroke-dasharray: 9.6,2.4,1.5,2.4; stroke-dashoffset: 0; stroke: #2ca02c; stroke-width: 1.5\"/>\n   </g>\n   <g id=\"line2d_125\">\n    <path d=\"M 34.954394 60.153883 \nL 44.698573 94.449146 \nL 54.442752 102.847293 \nL 64.186931 106.395012 \nL 73.93111 113.13515 \nL 83.675289 112.95181 \nL 93.419468 119.220896 \nL 103.163647 119.509161 \nL 112.907826 124.698193 \nL 122.652006 123.56738 \nL 132.396185 129.58308 \nL 142.140364 128.193927 \nL 151.884543 133.427883 \nL 161.628722 131.571938 \nL 171.372901 136.445565 \nL 181.11708 134.731315 \nL 190.861259 137.882858 \nL 200.605438 137.529481 \nL 210.349618 139.5 \nL 220.093797 139.40504 \n\" clip-path=\"url(#p04735777a2)\" style=\"fill: none; stroke: #1f77b4; stroke-width: 1.5; stroke-linecap: square\"/>\n   </g>\n   <g id=\"line2d_126\">\n    <path d=\"M 49.633125 80.154137 \nL 69.163125 99.846825 \nL 88.693125 91.220134 \nL 108.223125 99.687188 \nL 127.753125 97.888786 \nL 147.283125 70.634115 \nL 166.813125 99.448114 \nL 186.343125 69.366111 \nL 205.873125 99.631912 \nL 225.403125 100.402759 \n\" clip-path=\"url(#p04735777a2)\" style=\"fill: none; stroke-dasharray: 5.55,2.4; stroke-dashoffset: 0; stroke: #ff7f0e; stroke-width: 1.5\"/>\n   </g>\n   <g id=\"line2d_127\">\n    <path d=\"M 49.633125 24.244824 \nL 69.163125 17.657474 \nL 88.693125 20.157577 \nL 108.223125 16.997335 \nL 127.753125 17.081608 \nL 147.283125 23.444229 \nL 166.813125 15.157372 \nL 186.343125 22.306542 \nL 205.873125 14.146094 \nL 225.403125 13.5 \n\" clip-path=\"url(#p04735777a2)\" style=\"fill: none; stroke-dasharray: 9.6,2.4,1.5,2.4; stroke-dashoffset: 0; stroke: #2ca02c; stroke-width: 1.5\"/>\n   </g>\n   <g id=\"patch_3\">\n    <path d=\"M 30.103125 145.8 \nL 30.103125 7.2 \n\" style=\"fill: none; stroke: #000000; stroke-width: 0.8; stroke-linejoin: miter; stroke-linecap: square\"/>\n   </g>\n   <g id=\"patch_4\">\n    <path d=\"M 225.403125 145.8 \nL 225.403125 7.2 \n\" style=\"fill: none; stroke: #000000; stroke-width: 0.8; stroke-linejoin: miter; stroke-linecap: square\"/>\n   </g>\n   <g id=\"patch_5\">\n    <path d=\"M 30.103125 145.8 \nL 225.403125 145.8 \n\" style=\"fill: none; stroke: #000000; stroke-width: 0.8; stroke-linejoin: miter; stroke-linecap: square\"/>\n   </g>\n   <g id=\"patch_6\">\n    <path d=\"M 30.103125 7.2 \nL 225.403125 7.2 \n\" style=\"fill: none; stroke: #000000; stroke-width: 0.8; stroke-linejoin: miter; stroke-linecap: square\"/>\n   </g>\n   <g id=\"legend_1\">\n    <g id=\"patch_7\">\n     <path d=\"M 138.8125 60.06875 \nL 218.403125 60.06875 \nQ 220.403125 60.06875 220.403125 58.06875 \nL 220.403125 14.2 \nQ 220.403125 12.2 218.403125 12.2 \nL 138.8125 12.2 \nQ 136.8125 12.2 136.8125 14.2 \nL 136.8125 58.06875 \nQ 136.8125 60.06875 138.8125 60.06875 \nz\n\" style=\"fill: #ffffff; opacity: 0.8; stroke: #cccccc; stroke-linejoin: miter\"/>\n    </g>\n    <g id=\"line2d_128\">\n     <path d=\"M 140.8125 20.298438 \nL 150.8125 20.298438 \nL 160.8125 20.298438 \n\" style=\"fill: none; stroke: #1f77b4; stroke-width: 1.5; stroke-linecap: square\"/>\n    </g>\n    <g id=\"text_13\">\n     <!-- train_loss -->\n     <g transform=\"translate(168.8125 23.798438) scale(0.1 -0.1)\">\n      <defs>\n       <path id=\"DejaVuSans-74\" d=\"M 1172 4494 \nL 1172 3500 \nL 2356 3500 \nL 2356 3053 \nL 1172 3053 \nL 1172 1153 \nQ 1172 725 1289 603 \nQ 1406 481 1766 481 \nL 2356 481 \nL 2356 0 \nL 1766 0 \nQ 1100 0 847 248 \nQ 594 497 594 1153 \nL 594 3053 \nL 172 3053 \nL 172 3500 \nL 594 3500 \nL 594 4494 \nL 1172 4494 \nz\n\" transform=\"scale(0.015625)\"/>\n       <path id=\"DejaVuSans-72\" d=\"M 2631 2963 \nQ 2534 3019 2420 3045 \nQ 2306 3072 2169 3072 \nQ 1681 3072 1420 2755 \nQ 1159 2438 1159 1844 \nL 1159 0 \nL 581 0 \nL 581 3500 \nL 1159 3500 \nL 1159 2956 \nQ 1341 3275 1631 3429 \nQ 1922 3584 2338 3584 \nQ 2397 3584 2469 3576 \nQ 2541 3569 2628 3553 \nL 2631 2963 \nz\n\" transform=\"scale(0.015625)\"/>\n       <path id=\"DejaVuSans-61\" d=\"M 2194 1759 \nQ 1497 1759 1228 1600 \nQ 959 1441 959 1056 \nQ 959 750 1161 570 \nQ 1363 391 1709 391 \nQ 2188 391 2477 730 \nQ 2766 1069 2766 1631 \nL 2766 1759 \nL 2194 1759 \nz\nM 3341 1997 \nL 3341 0 \nL 2766 0 \nL 2766 531 \nQ 2569 213 2275 61 \nQ 1981 -91 1556 -91 \nQ 1019 -91 701 211 \nQ 384 513 384 1019 \nQ 384 1609 779 1909 \nQ 1175 2209 1959 2209 \nL 2766 2209 \nL 2766 2266 \nQ 2766 2663 2505 2880 \nQ 2244 3097 1772 3097 \nQ 1472 3097 1187 3025 \nQ 903 2953 641 2809 \nL 641 3341 \nQ 956 3463 1253 3523 \nQ 1550 3584 1831 3584 \nQ 2591 3584 2966 3190 \nQ 3341 2797 3341 1997 \nz\n\" transform=\"scale(0.015625)\"/>\n       <path id=\"DejaVuSans-69\" d=\"M 603 3500 \nL 1178 3500 \nL 1178 0 \nL 603 0 \nL 603 3500 \nz\nM 603 4863 \nL 1178 4863 \nL 1178 4134 \nL 603 4134 \nL 603 4863 \nz\n\" transform=\"scale(0.015625)\"/>\n       <path id=\"DejaVuSans-6e\" d=\"M 3513 2113 \nL 3513 0 \nL 2938 0 \nL 2938 2094 \nQ 2938 2591 2744 2837 \nQ 2550 3084 2163 3084 \nQ 1697 3084 1428 2787 \nQ 1159 2491 1159 1978 \nL 1159 0 \nL 581 0 \nL 581 3500 \nL 1159 3500 \nL 1159 2956 \nQ 1366 3272 1645 3428 \nQ 1925 3584 2291 3584 \nQ 2894 3584 3203 3211 \nQ 3513 2838 3513 2113 \nz\n\" transform=\"scale(0.015625)\"/>\n       <path id=\"DejaVuSans-5f\" d=\"M 3263 -1063 \nL 3263 -1509 \nL -63 -1509 \nL -63 -1063 \nL 3263 -1063 \nz\n\" transform=\"scale(0.015625)\"/>\n       <path id=\"DejaVuSans-6c\" d=\"M 603 4863 \nL 1178 4863 \nL 1178 0 \nL 603 0 \nL 603 4863 \nz\n\" transform=\"scale(0.015625)\"/>\n       <path id=\"DejaVuSans-73\" d=\"M 2834 3397 \nL 2834 2853 \nQ 2591 2978 2328 3040 \nQ 2066 3103 1784 3103 \nQ 1356 3103 1142 2972 \nQ 928 2841 928 2578 \nQ 928 2378 1081 2264 \nQ 1234 2150 1697 2047 \nL 1894 2003 \nQ 2506 1872 2764 1633 \nQ 3022 1394 3022 966 \nQ 3022 478 2636 193 \nQ 2250 -91 1575 -91 \nQ 1294 -91 989 -36 \nQ 684 19 347 128 \nL 347 722 \nQ 666 556 975 473 \nQ 1284 391 1588 391 \nQ 1994 391 2212 530 \nQ 2431 669 2431 922 \nQ 2431 1156 2273 1281 \nQ 2116 1406 1581 1522 \nL 1381 1569 \nQ 847 1681 609 1914 \nQ 372 2147 372 2553 \nQ 372 3047 722 3315 \nQ 1072 3584 1716 3584 \nQ 2034 3584 2315 3537 \nQ 2597 3491 2834 3397 \nz\n\" transform=\"scale(0.015625)\"/>\n      </defs>\n      <use xlink:href=\"#DejaVuSans-74\"/>\n      <use xlink:href=\"#DejaVuSans-72\" x=\"39.208984\"/>\n      <use xlink:href=\"#DejaVuSans-61\" x=\"80.322266\"/>\n      <use xlink:href=\"#DejaVuSans-69\" x=\"141.601562\"/>\n      <use xlink:href=\"#DejaVuSans-6e\" x=\"169.384766\"/>\n      <use xlink:href=\"#DejaVuSans-5f\" x=\"232.763672\"/>\n      <use xlink:href=\"#DejaVuSans-6c\" x=\"282.763672\"/>\n      <use xlink:href=\"#DejaVuSans-6f\" x=\"310.546875\"/>\n      <use xlink:href=\"#DejaVuSans-73\" x=\"371.728516\"/>\n      <use xlink:href=\"#DejaVuSans-73\" x=\"423.828125\"/>\n     </g>\n    </g>\n    <g id=\"line2d_129\">\n     <path d=\"M 140.8125 35.254688 \nL 150.8125 35.254688 \nL 160.8125 35.254688 \n\" style=\"fill: none; stroke-dasharray: 5.55,2.4; stroke-dashoffset: 0; stroke: #ff7f0e; stroke-width: 1.5\"/>\n    </g>\n    <g id=\"text_14\">\n     <!-- val_loss -->\n     <g transform=\"translate(168.8125 38.754688) scale(0.1 -0.1)\">\n      <defs>\n       <path id=\"DejaVuSans-76\" d=\"M 191 3500 \nL 800 3500 \nL 1894 563 \nL 2988 3500 \nL 3597 3500 \nL 2284 0 \nL 1503 0 \nL 191 3500 \nz\n\" transform=\"scale(0.015625)\"/>\n      </defs>\n      <use xlink:href=\"#DejaVuSans-76\"/>\n      <use xlink:href=\"#DejaVuSans-61\" x=\"59.179688\"/>\n      <use xlink:href=\"#DejaVuSans-6c\" x=\"120.458984\"/>\n      <use xlink:href=\"#DejaVuSans-5f\" x=\"148.242188\"/>\n      <use xlink:href=\"#DejaVuSans-6c\" x=\"198.242188\"/>\n      <use xlink:href=\"#DejaVuSans-6f\" x=\"226.025391\"/>\n      <use xlink:href=\"#DejaVuSans-73\" x=\"287.207031\"/>\n      <use xlink:href=\"#DejaVuSans-73\" x=\"339.306641\"/>\n     </g>\n    </g>\n    <g id=\"line2d_130\">\n     <path d=\"M 140.8125 50.210938 \nL 150.8125 50.210938 \nL 160.8125 50.210938 \n\" style=\"fill: none; stroke-dasharray: 9.6,2.4,1.5,2.4; stroke-dashoffset: 0; stroke: #2ca02c; stroke-width: 1.5\"/>\n    </g>\n    <g id=\"text_15\">\n     <!-- val_acc -->\n     <g transform=\"translate(168.8125 53.710938) scale(0.1 -0.1)\">\n      <use xlink:href=\"#DejaVuSans-76\"/>\n      <use xlink:href=\"#DejaVuSans-61\" x=\"59.179688\"/>\n      <use xlink:href=\"#DejaVuSans-6c\" x=\"120.458984\"/>\n      <use xlink:href=\"#DejaVuSans-5f\" x=\"148.242188\"/>\n      <use xlink:href=\"#DejaVuSans-61\" x=\"198.242188\"/>\n      <use xlink:href=\"#DejaVuSans-63\" x=\"259.521484\"/>\n      <use xlink:href=\"#DejaVuSans-63\" x=\"314.501953\"/>\n     </g>\n    </g>\n   </g>\n  </g>\n </g>\n <defs>\n  <clipPath id=\"p04735777a2\">\n   <rect x=\"30.103125\" y=\"7.2\" width=\"195.3\" height=\"138.6\"/>\n  </clipPath>\n </defs>\n</svg>\n"
          },
          "metadata": {}
        }
      ]
    },
    {
      "cell_type": "markdown",
      "source": [
        "## ResNeXt\n",
        ":label:`subsec_resnext`\n",
        "\n",
        "One of the challenges one encounters in the design of ResNet is the trade-off between nonlinearity and dimensionality within a given block. That is, we could add more nonlinearity by increasing the number of layers, or by increasing the width of the convolutions. An alternative strategy is to increase the number of channels that can carry information between blocks. Unfortunately, the latter comes with a quadratic penalty since the computational cost of ingesting $c_\\textrm{i}$ channels and emitting $c_\\textrm{o}$ channels is proportional to $\\mathcal{O}(c_\\textrm{i} \\cdot c_\\textrm{o})$ (see our discussion in :numref:`sec_channels`).\n",
        "\n",
        "We can take some inspiration from the Inception block of :numref:`fig_inception` which has information flowing through the block in separate groups. Applying the idea of multiple independent groups to the ResNet block of :numref:`fig_resnet_block` led to the design of ResNeXt :cite:`Xie.Girshick.Dollar.ea.2017`.\n",
        "Different from the smorgasbord of transformations in Inception,\n",
        "ResNeXt adopts the *same* transformation in all branches,\n",
        "thus minimizing the need for manual tuning of each branch.\n",
        "\n",
        "![The ResNeXt block. The use of grouped convolution with $\\mathit{g}$ groups is $\\mathit{g}$ times faster than a dense convolution. It is a bottleneck residual block when the number of intermediate channels $\\mathit{b}$ is less than $\\mathit{c}$.](../img/resnext-block.svg)\n",
        ":label:`fig_resnext_block`\n",
        "\n",
        "Breaking up a convolution from $c_\\textrm{i}$ to $c_\\textrm{o}$ channels into one of $g$ groups of size $c_\\textrm{i}/g$ generating $g$ outputs of size $c_\\textrm{o}/g$ is called, quite fittingly, a *grouped convolution*. The computational cost (proportionally) is reduced from $\\mathcal{O}(c_\\textrm{i} \\cdot c_\\textrm{o})$ to $\\mathcal{O}(g \\cdot (c_\\textrm{i}/g) \\cdot (c_\\textrm{o}/g)) = \\mathcal{O}(c_\\textrm{i} \\cdot c_\\textrm{o} / g)$, i.e., it is $g$ times faster. Even better, the number of parameters needed to generate the output is also reduced from a $c_\\textrm{i} \\times c_\\textrm{o}$ matrix to $g$ smaller matrices of size $(c_\\textrm{i}/g) \\times (c_\\textrm{o}/g)$, again a $g$ times reduction. In what follows we assume that both $c_\\textrm{i}$ and $c_\\textrm{o}$ are divisible by $g$.\n",
        "\n",
        "The only challenge in this design is that no information is exchanged between the $g$ groups. The ResNeXt block of\n",
        ":numref:`fig_resnext_block` amends this in two ways: the grouped convolution with a $3 \\times 3$ kernel is sandwiched in between two $1 \\times 1$ convolutions. The second one serves double duty in changing the number of channels back. The benefit is that we only pay the $\\mathcal{O}(c \\cdot b)$ cost for $1 \\times 1$ kernels and can make do with an $\\mathcal{O}(b^2 / g)$ cost for $3 \\times 3$ kernels. Similar to the residual block implementation in\n",
        ":numref:`subsec_residual-blks`, the residual connection is replaced (thus generalized) by a $1 \\times 1$ convolution.\n",
        "\n",
        "The right-hand figure in :numref:`fig_resnext_block` provides a much more concise summary of the resulting network block. It will also play a major role in the design of generic modern CNNs in :numref:`sec_cnn-design`. Note that the idea of grouped convolutions dates back to the implementation of AlexNet :cite:`Krizhevsky.Sutskever.Hinton.2012`. When distributing the network across two GPUs with limited memory, the implementation treated each GPU as its own channel with no ill effects.\n",
        "\n",
        "The following implementation of the `ResNeXtBlock` class takes as argument `groups` ($g$), with\n",
        "`bot_channels` ($b$) intermediate (bottleneck) channels. Lastly, when we need to reduce the height and width of the representation, we add a stride of $2$ by setting `use_1x1conv=True, strides=2`.\n"
      ],
      "metadata": {
        "id": "yM8yKW7lRN-e"
      },
      "id": "yM8yKW7lRN-e"
    },
    {
      "cell_type": "code",
      "source": [
        "class ResNeXtBlock(nn.Module):  #@save\n",
        "    \"\"\"The ResNeXt block.\"\"\"\n",
        "    def __init__(self, num_channels, groups, bot_mul, use_1x1conv=False,\n",
        "                 strides=1):\n",
        "        super().__init__()\n",
        "        bot_channels = int(round(num_channels * bot_mul))\n",
        "        self.conv1 = nn.LazyConv2d(bot_channels, kernel_size=1, stride=1)\n",
        "        self.conv2 = nn.LazyConv2d(bot_channels, kernel_size=3,\n",
        "                                   stride=strides, padding=1,\n",
        "                                   groups=bot_channels//groups)\n",
        "        self.conv3 = nn.LazyConv2d(num_channels, kernel_size=1, stride=1)\n",
        "        self.bn1 = nn.LazyBatchNorm2d()\n",
        "        self.bn2 = nn.LazyBatchNorm2d()\n",
        "        self.bn3 = nn.LazyBatchNorm2d()\n",
        "        if use_1x1conv:\n",
        "            self.conv4 = nn.LazyConv2d(num_channels, kernel_size=1,\n",
        "                                       stride=strides)\n",
        "            self.bn4 = nn.LazyBatchNorm2d()\n",
        "        else:\n",
        "            self.conv4 = None\n",
        "\n",
        "    def forward(self, X):\n",
        "        Y = F.relu(self.bn1(self.conv1(X)))\n",
        "        Y = F.relu(self.bn2(self.conv2(Y)))\n",
        "        Y = self.bn3(self.conv3(Y))\n",
        "        if self.conv4:\n",
        "            X = self.bn4(self.conv4(X))\n",
        "        return F.relu(Y + X)"
      ],
      "metadata": {
        "id": "_XrbW0KQRUw8"
      },
      "id": "_XrbW0KQRUw8",
      "execution_count": null,
      "outputs": []
    },
    {
      "cell_type": "markdown",
      "source": [
        "Its use is entirely analogous to that of the `ResNetBlock` discussed previously. For instance, when using (`use_1x1conv=False, strides=1`), the input and output are of the same shape. Alternatively, setting `use_1x1conv=True, strides=2` halves the output height and width.\n"
      ],
      "metadata": {
        "id": "Q6cTNiyQUB0I"
      },
      "id": "Q6cTNiyQUB0I"
    },
    {
      "cell_type": "code",
      "source": [
        "blk = ResNeXtBlock(32, 16, 1)\n",
        "X = torch.randn(4, 32, 96, 96)\n",
        "blk(X).shape"
      ],
      "metadata": {
        "colab": {
          "base_uri": "https://localhost:8080/"
        },
        "id": "CmdzT9n2UCUn",
        "outputId": "a579d48d-135a-468f-9d67-1426274b3493"
      },
      "id": "CmdzT9n2UCUn",
      "execution_count": null,
      "outputs": [
        {
          "output_type": "execute_result",
          "data": {
            "text/plain": [
              "torch.Size([4, 32, 96, 96])"
            ]
          },
          "metadata": {},
          "execution_count": 44
        }
      ]
    },
    {
      "cell_type": "markdown",
      "source": [
        "## Summary and Discussion\n",
        "\n",
        "Nested function classes are desirable since they allow us to obtain strictly *more powerful* rather than also subtly *different* function classes when adding capacity. One way of accomplishing this is by letting additional layers to simply pass through the input to the output. Residual connections allow for this. As a consequence, this changes the inductive bias from simple functions being of the form $f(\\mathbf{x}) = 0$ to simple functions looking like $f(\\mathbf{x}) = \\mathbf{x}$.\n",
        "\n",
        "\n",
        "The residual mapping can learn the identity function more easily, such as pushing parameters in the weight layer to zero. We can train an effective *deep* neural network by having residual blocks. Inputs can forward propagate faster through the residual connections across layers. As a consequence, we can thus train much deeper networks. For instance, the original ResNet paper :cite:`He.Zhang.Ren.ea.2016` allowed for up to 152 layers. Another benefit of residual networks is that it allows us to add layers, initialized as the identity function, *during* the training process. After all, the default behavior of a layer is to let the data pass through unchanged. This can accelerate the training of very large networks in some cases.\n",
        "\n",
        "Prior to residual connections,\n",
        "bypassing paths with gating units were introduced\n",
        "to effectively train highway networks with over 100 layers\n",
        ":cite:`srivastava2015highway`.\n",
        "Using identity functions as bypassing paths,\n",
        "ResNet performed remarkably well\n",
        "on multiple computer vision tasks.\n",
        "Residual connections had a major influence on the design of subsequent deep neural networks, of either convolutional or sequential nature.\n",
        "As we will introduce later,\n",
        "the Transformer architecture :cite:`Vaswani.Shazeer.Parmar.ea.2017`\n",
        "adopts residual connections (together with other design choices) and is pervasive\n",
        "in areas as diverse as\n",
        "language, vision, speech, and reinforcement learning.\n",
        "\n",
        "ResNeXt is an example for how the design of convolutional neural networks has evolved over time: by being more frugal with computation and trading it off against the size of the activations (number of channels), it allows for faster and more accurate networks at lower cost. An alternative way of viewing grouped convolutions is to think of a block-diagonal matrix for the convolutional weights. Note that there are quite a few such \"tricks\" that lead to more efficient networks. For instance, ShiftNet :cite:`wu2018shift` mimicks the effects of a $3 \\times 3$ convolution, simply by adding shifted activations to the channels, offering increased function complexity, this time without any computational cost.\n",
        "\n",
        "A common feature of the designs we have discussed so far is that the network design is fairly manual, primarily relying on the ingenuity of the designer to find the \"right\" network hyperparameters. While clearly feasible, it is also very costly in terms of human time and there is no guarantee that the outcome is optimal in any sense. In :numref:`sec_cnn-design` we will discuss a number of strategies for obtaining high quality networks in a more automated fashion. In particular, we will review the notion of *network design spaces* that led to the RegNetX/Y models\n",
        ":cite:`Radosavovic.Kosaraju.Girshick.ea.2020`.\n",
        "\n",
        "## Exercises\n",
        "\n",
        "1. What are the major differences between the Inception block in :numref:`fig_inception` and the residual block? How do they compare in terms of computation, accuracy, and the classes of functions they can describe?\n",
        "1. Refer to Table 1 in the ResNet paper :cite:`He.Zhang.Ren.ea.2016` to implement different variants of the network.\n",
        "1. For deeper networks, ResNet introduces a \"bottleneck\" architecture to reduce model complexity. Try to implement it.\n",
        "1. In subsequent versions of ResNet, the authors changed the \"convolution, batch normalization, and activation\" structure to the \"batch normalization, activation, and convolution\" structure. Make this improvement yourself. See Figure 1 in :citet:`He.Zhang.Ren.ea.2016*1` for details.\n",
        "1. Why can't we just increase the complexity of functions without bound, even if the function classes are nested?\n"
      ],
      "metadata": {
        "id": "CZJY71kcUFgU"
      },
      "id": "CZJY71kcUFgU"
    },
    {
      "cell_type": "markdown",
      "source": [
        "## **Answer Exercise**\n",
        "\n",
        "**1. Apa perbedaan utama antara blok Inception di :numref:`fig_inception` dan blok residual? Bagaimana perbandingannya dalam hal komputasi, akurasi, dan kelas fungsi yang bisa mereka gambarkan?**\n",
        "\n",
        "*   Komputasi: Blok Inception lebih kompleks secara komputasi karena memiliki beberapa jalur konvolusi dengan ukuran filter yang berbeda (1x1, 3x3, 5x5), yang memerlukan lebih banyak komputasi. Blok residual, di sisi lain, lebih sederhana karena hanya menambahkan residual connection, sehingga mempercepat propagasi gradien.\n",
        "*   Akurasi: Blok residual memungkinkan pelatihan jaringan yang lebih dalam secara stabil, yang mengarah pada peningkatan akurasi, terutama pada dataset yang kompleks. Inception juga meningkatkan akurasi, tetapi lebih menekankan pada menggabungkan informasi dari berbagai skala fitur.\n",
        "*   Kelas Fungsi: Blok residual mampu menggambarkan fungsi identitas dengan lebih baik karena adanya shortcut connections yang memungkinkan output dari lapisan sebelumnya untuk diteruskan tanpa perubahan. Sementara Inception lebih berfokus pada ekstraksi fitur multi-skala.\n",
        "\n",
        "**2. Rujuk Tabel 1 di makalah ResNet :cite:`He.Zhang.Ren.ea.2016` untuk mengimplementasikan berbagai varian dari jaringan tersebut.**\n",
        "\n",
        "*   Implementasi varian ResNet dapat dimulai dengan mengatur arsitektur untuk model ResNet-18, ResNet-34, ResNet-50, dan seterusnya, mengikuti konfigurasi dari tabel 1 yang mencantumkan jumlah blok residual di setiap tahap konvolusi. Setiap model dapat diimplementasikan dengan mengubah jumlah lapisan dalam blok residual sesuai tabel tersebut.\n",
        "\n",
        "**3. Untuk jaringan yang lebih dalam, ResNet memperkenalkan arsitektur \"bottleneck\" untuk mengurangi kompleksitas model. Cobalah untuk mengimplementasikannya.**\n",
        "\n",
        "*   Arsitektur bottleneck di ResNet melibatkan penggunaan lapisan 1x1 konvolusi untuk mengurangi dimensi kanal sebelum konvolusi 3x3, lalu mengembalikan dimensi kanal dengan konvolusi 1x1 berikutnya. Ini mengurangi jumlah komputasi tanpa mengorbankan representasi fitur. Implementasi ini dapat dilakukan dengan menambahkan dua lapisan konvolusi 1x1 di sekitar konvolusi 3x3 di blok residual.\n",
        "\n",
        "**4. Dalam versi ResNet berikutnya, penulis mengubah struktur \"convolution, batch normalization, and activation\" menjadi \"batch normalization, activation, and convolution\". Lakukan peningkatan ini sendiri. Lihat Gambar 1 di :citet:`He.Zhang.Ren.ea.2016*1` untuk detailnya.**\n",
        "\n",
        "* Untuk meningkatkan arsitektur, urutan batch normalization, aktivasi (ReLU), dan konvolusi perlu diubah. Langkah ini melibatkan penerapan batch normalization dan ReLU sebelum konvolusi di setiap blok residual, bukan setelahnya. Ini dapat diimplementasikan dengan memodifikasi urutan layer di setiap blok residual.\n",
        "\n",
        "**5. Mengapa kita tidak bisa terus-menerus meningkatkan kompleksitas fungsi tanpa batas, bahkan jika kelas fungsi tersebut bersarang?**\n",
        "\n",
        "* Meskipun kelas fungsi bersarang memungkinkan kita menambah kapasitas model, kompleksitas yang berlebihan dapat menyebabkan masalah overfitting. Model yang terlalu kompleks akan belajar pola yang tidak relevan dari data pelatihan, sehingga tidak mampu melakukan generalisasi dengan baik pada data yang tidak terlihat. Selain itu, peningkatan kompleksitas juga memperlambat pelatihan dan meningkatkan kebutuhan komputasi.\n",
        "\n",
        "\n",
        "\n"
      ],
      "metadata": {
        "id": "-v6upAYcB96O"
      },
      "id": "-v6upAYcB96O"
    },
    {
      "cell_type": "markdown",
      "source": [
        "#8.7 Densely Connected Networks (DenseNet)\n",
        ":label:`sec_densenet`\n",
        "\n",
        "ResNet significantly changed the view of how to parametrize the functions in deep networks. *DenseNet* (dense convolutional network) is to some extent the logical extension of this :cite:`Huang.Liu.Van-Der-Maaten.ea.2017`.\n",
        "DenseNet is characterized by both the connectivity pattern where\n",
        "each layer connects to all the preceding layers\n",
        "and the concatenation operation (rather than the addition operator in ResNet) to preserve and reuse features\n",
        "from earlier layers.\n",
        "To understand how to arrive at it, let's take a small detour to mathematics.\n"
      ],
      "metadata": {
        "id": "MHlgWimHUKt0"
      },
      "id": "MHlgWimHUKt0"
    },
    {
      "cell_type": "code",
      "source": [
        "import torch\n",
        "from torch import nn\n",
        "from d2l import torch as d2l"
      ],
      "metadata": {
        "id": "spUfD3l-Uehd"
      },
      "id": "spUfD3l-Uehd",
      "execution_count": null,
      "outputs": []
    },
    {
      "cell_type": "markdown",
      "source": [
        "## From ResNet to DenseNet\n",
        "\n",
        "Recall the Taylor expansion for functions. At the point $x = 0$ it can be written as\n",
        "\n",
        "$$f(x) = f(0) + x \\cdot \\left[f'(0) + x \\cdot \\left[\\frac{f''(0)}{2!}  + x \\cdot \\left[\\frac{f'''(0)}{3!}  + \\cdots \\right]\\right]\\right].$$\n",
        "\n",
        "\n",
        "The key point is that it decomposes a function into terms of increasingly higher order. In a similar vein, ResNet decomposes functions into\n",
        "\n",
        "$$f(\\mathbf{x}) = \\mathbf{x} + g(\\mathbf{x}).$$\n",
        "\n",
        "That is, ResNet decomposes $f$ into a simple linear term and a more complex\n",
        "nonlinear one.\n",
        "What if we wanted to capture (not necessarily add) information beyond two terms?\n",
        "One such solution is DenseNet :cite:`Huang.Liu.Van-Der-Maaten.ea.2017`.\n",
        "\n",
        "![The main difference between ResNet (left) and DenseNet (right) in cross-layer connections: use of addition and use of concatenation. ](../img/densenet-block.svg)\n",
        ":label:`fig_densenet_block`\n",
        "\n",
        "As shown in :numref:`fig_densenet_block`, the key difference between ResNet and DenseNet is that in the latter case outputs are *concatenated* (denoted by $[,]$) rather than added.\n",
        "As a result, we perform a mapping from $\\mathbf{x}$ to its values after applying an increasingly complex sequence of functions:\n",
        "\n",
        "$$\\mathbf{x} \\to \\left[\n",
        "\\mathbf{x},\n",
        "f_1(\\mathbf{x}),\n",
        "f_2\\left(\\left[\\mathbf{x}, f_1\\left(\\mathbf{x}\\right)\\right]\\right), f_3\\left(\\left[\\mathbf{x}, f_1\\left(\\mathbf{x}\\right), f_2\\left(\\left[\\mathbf{x}, f_1\\left(\\mathbf{x}\\right)\\right]\\right)\\right]\\right), \\ldots\\right].$$\n",
        "\n",
        "In the end, all these functions are combined in MLP to reduce the number of features again. In terms of implementation this is quite simple:\n",
        "rather than adding terms, we concatenate them. The name DenseNet arises from the fact that the dependency graph between variables becomes quite dense. The final layer of such a chain is densely connected to all previous layers. The dense connections are shown in :numref:`fig_densenet`.\n",
        "\n",
        "![Dense connections in DenseNet. Note how the dimensionality increases with depth.](http://d2l.ai/_images/densenet.svg)\n",
        ":label:`fig_densenet`\n",
        "\n",
        "The main components that comprise a DenseNet are *dense blocks* and *transition layers*. The former define how the inputs and outputs are concatenated, while the latter control the number of channels so that it is not too large,\n",
        "since the expansion $\\mathbf{x} \\to \\left[\\mathbf{x}, f_1(\\mathbf{x}),\n",
        "f_2\\left(\\left[\\mathbf{x}, f_1\\left(\\mathbf{x}\\right)\\right]\\right), \\ldots \\right]$ can be quite high-dimensional.\n",
        "\n",
        "\n",
        "## [**Dense Blocks**]\n",
        "\n",
        "DenseNet uses the modified \"batch normalization, activation, and convolution\"\n",
        "structure of ResNet (see the exercise in :numref:`sec_resnet`).\n",
        "First, we implement this convolution block structure.\n"
      ],
      "metadata": {
        "id": "roun_rz0Ub9y"
      },
      "id": "roun_rz0Ub9y"
    },
    {
      "cell_type": "code",
      "source": [
        "def conv_block(num_channels):\n",
        "    return nn.Sequential(\n",
        "        nn.LazyBatchNorm2d(), nn.ReLU(),\n",
        "        nn.LazyConv2d(num_channels, kernel_size=3, padding=1))"
      ],
      "metadata": {
        "id": "ta5efBEwUJ4u"
      },
      "id": "ta5efBEwUJ4u",
      "execution_count": null,
      "outputs": []
    },
    {
      "cell_type": "markdown",
      "source": [
        "A *dense block* consists of multiple convolution blocks, each using the same number of output channels. In the forward propagation, however, we concatenate the input and output of each convolution block on the channel dimension. Lazy evaluation allows us to adjust the dimensionality automatically.\n"
      ],
      "metadata": {
        "id": "jUKg_-UuUn5e"
      },
      "id": "jUKg_-UuUn5e"
    },
    {
      "cell_type": "code",
      "source": [
        "class DenseBlock(nn.Module):\n",
        "    def __init__(self, num_convs, num_channels):\n",
        "        super(DenseBlock, self).__init__()\n",
        "        layer = []\n",
        "        for i in range(num_convs):\n",
        "            layer.append(conv_block(num_channels))\n",
        "        self.net = nn.Sequential(*layer)\n",
        "\n",
        "    def forward(self, X):\n",
        "        for blk in self.net:\n",
        "            Y = blk(X)\n",
        "            # Concatenate input and output of each block along the channels\n",
        "            X = torch.cat((X, Y), dim=1)\n",
        "        return X"
      ],
      "metadata": {
        "id": "EIRw_-t9UmJ1"
      },
      "id": "EIRw_-t9UmJ1",
      "execution_count": null,
      "outputs": []
    },
    {
      "cell_type": "markdown",
      "source": [
        "In the following example,\n",
        "we [**define a `DenseBlock` instance**] with two convolution blocks of 10 output channels.\n",
        "When using an input with three channels, we will get an output with  $3 + 10 + 10=23$ channels. The number of convolution block channels controls the growth in the number of output channels relative to the number of input channels. This is also referred to as the *growth rate*.\n"
      ],
      "metadata": {
        "id": "8QmUGnuXU1eu"
      },
      "id": "8QmUGnuXU1eu"
    },
    {
      "cell_type": "code",
      "source": [
        "blk = DenseBlock(2, 10)\n",
        "X = torch.randn(4, 3, 8, 8)\n",
        "Y = blk(X)\n",
        "Y.shape"
      ],
      "metadata": {
        "colab": {
          "base_uri": "https://localhost:8080/"
        },
        "id": "zrlvg0GtU2XR",
        "outputId": "2314f65c-0a2e-4c38-ccd4-fddb8c557803"
      },
      "id": "zrlvg0GtU2XR",
      "execution_count": null,
      "outputs": [
        {
          "output_type": "execute_result",
          "data": {
            "text/plain": [
              "torch.Size([4, 23, 8, 8])"
            ]
          },
          "metadata": {},
          "execution_count": 48
        }
      ]
    },
    {
      "cell_type": "markdown",
      "source": [
        "## [**Transition Layers**]\n",
        "\n",
        "Since each dense block will increase the number of channels, adding too many of them will lead to an excessively complex model. A *transition layer* is used to control the complexity of the model. It reduces the number of channels by using a $1\\times 1$ convolution. Moreover, it halves the height and width via average pooling with a stride of 2.\n"
      ],
      "metadata": {
        "id": "dxbnqy0SU6_Q"
      },
      "id": "dxbnqy0SU6_Q"
    },
    {
      "cell_type": "code",
      "source": [
        "def transition_block(num_channels):\n",
        "    return nn.Sequential(\n",
        "        nn.LazyBatchNorm2d(), nn.ReLU(),\n",
        "        nn.LazyConv2d(num_channels, kernel_size=1),\n",
        "        nn.AvgPool2d(kernel_size=2, stride=2))"
      ],
      "metadata": {
        "id": "TitUrzxFU85I"
      },
      "id": "TitUrzxFU85I",
      "execution_count": null,
      "outputs": []
    },
    {
      "cell_type": "markdown",
      "source": [
        "[**Apply a transition layer**] with 10 channels to the output of the dense block in the previous example.  This reduces the number of output channels to 10, and halves the height and width.\n"
      ],
      "metadata": {
        "id": "kbwWcJOFVHhE"
      },
      "id": "kbwWcJOFVHhE"
    },
    {
      "cell_type": "code",
      "source": [
        "blk = transition_block(10)\n",
        "blk(Y).shape"
      ],
      "metadata": {
        "colab": {
          "base_uri": "https://localhost:8080/"
        },
        "id": "NtcB6NRVVH_i",
        "outputId": "9a286099-1416-425d-98d2-82149bb8c1ee"
      },
      "id": "NtcB6NRVVH_i",
      "execution_count": null,
      "outputs": [
        {
          "output_type": "execute_result",
          "data": {
            "text/plain": [
              "torch.Size([4, 10, 4, 4])"
            ]
          },
          "metadata": {},
          "execution_count": 50
        }
      ]
    },
    {
      "cell_type": "markdown",
      "source": [
        "## [**DenseNet Model**]\n",
        "\n",
        "Next, we will construct a DenseNet model. DenseNet first uses the same single convolutional layer and max-pooling layer as in ResNet.\n"
      ],
      "metadata": {
        "id": "MNIE0UozVMUe"
      },
      "id": "MNIE0UozVMUe"
    },
    {
      "cell_type": "code",
      "source": [
        "class DenseNet(d2l.Classifier):\n",
        "    def b1(self):\n",
        "        return nn.Sequential(\n",
        "            nn.LazyConv2d(64, kernel_size=7, stride=2, padding=3),\n",
        "            nn.LazyBatchNorm2d(), nn.ReLU(),\n",
        "            nn.MaxPool2d(kernel_size=3, stride=2, padding=1))"
      ],
      "metadata": {
        "id": "OudNepCjVKPJ"
      },
      "id": "OudNepCjVKPJ",
      "execution_count": null,
      "outputs": []
    },
    {
      "cell_type": "markdown",
      "source": [
        "Then, similar to the four modules made up of residual blocks that ResNet uses,\n",
        "DenseNet uses four dense blocks.\n",
        "As with ResNet, we can set the number of convolutional layers used in each dense block. Here, we set it to 4, consistent with the ResNet-18 model in :numref:`sec_resnet`. Furthermore, we set the number of channels (i.e., growth rate) for the convolutional layers in the dense block to 32, so 128 channels will be added to each dense block.\n",
        "\n",
        "In ResNet, the height and width are reduced between each module by a residual block with a stride of 2. Here, we use the transition layer to halve the height and width and halve the number of channels. Similar to ResNet, a global pooling layer and a fully connected layer are connected at the end to produce the output.\n"
      ],
      "metadata": {
        "id": "E9nTDW0UVRDJ"
      },
      "id": "E9nTDW0UVRDJ"
    },
    {
      "cell_type": "code",
      "source": [
        "@d2l.add_to_class(DenseNet)\n",
        "def __init__(self, num_channels=64, growth_rate=32, arch=(4, 4, 4, 4),\n",
        "             lr=0.1, num_classes=10):\n",
        "    super(DenseNet, self).__init__()\n",
        "    self.save_hyperparameters()\n",
        "    self.net = nn.Sequential(self.b1())\n",
        "    for i, num_convs in enumerate(arch):\n",
        "        self.net.add_module(f'dense_blk{i+1}', DenseBlock(num_convs,\n",
        "                                                          growth_rate))\n",
        "        # The number of output channels in the previous dense block\n",
        "        num_channels += num_convs * growth_rate\n",
        "        # A transition layer that halves the number of channels is added\n",
        "        # between the dense blocks\n",
        "        if i != len(arch) - 1:\n",
        "            num_channels //= 2\n",
        "            self.net.add_module(f'tran_blk{i+1}', transition_block(\n",
        "                num_channels))\n",
        "    self.net.add_module('last', nn.Sequential(\n",
        "        nn.LazyBatchNorm2d(), nn.ReLU(),\n",
        "        nn.AdaptiveAvgPool2d((1, 1)), nn.Flatten(),\n",
        "        nn.LazyLinear(num_classes)))\n",
        "    self.net.apply(d2l.init_cnn)"
      ],
      "metadata": {
        "id": "lSLYYTSZVRtz"
      },
      "id": "lSLYYTSZVRtz",
      "execution_count": null,
      "outputs": []
    },
    {
      "cell_type": "markdown",
      "source": [
        "## [**Training**]\n",
        "\n",
        "Since we are using a deeper network here, in this section, we will reduce the input height and width from 224 to 96 to simplify the computation.\n"
      ],
      "metadata": {
        "id": "w5qxhmXCVW9I"
      },
      "id": "w5qxhmXCVW9I"
    },
    {
      "cell_type": "code",
      "source": [
        "model = DenseNet(lr=0.01)\n",
        "trainer = d2l.Trainer(max_epochs=10, num_gpus=1)\n",
        "data = d2l.FashionMNIST(batch_size=128, resize=(96, 96))\n",
        "trainer.fit(model, data)"
      ],
      "metadata": {
        "colab": {
          "base_uri": "https://localhost:8080/",
          "height": 265
        },
        "id": "gHPtTs27VU0E",
        "outputId": "210fd1ac-d480-4f76-dfff-a904400089d9"
      },
      "id": "gHPtTs27VU0E",
      "execution_count": null,
      "outputs": [
        {
          "output_type": "display_data",
          "data": {
            "text/plain": [
              "<Figure size 350x250 with 1 Axes>"
            ],
            "image/svg+xml": "<?xml version=\"1.0\" encoding=\"utf-8\" standalone=\"no\"?>\n<!DOCTYPE svg PUBLIC \"-//W3C//DTD SVG 1.1//EN\"\n  \"http://www.w3.org/Graphics/SVG/1.1/DTD/svg11.dtd\">\n<svg xmlns:xlink=\"http://www.w3.org/1999/xlink\" width=\"238.965625pt\" height=\"183.35625pt\" viewBox=\"0 0 238.965625 183.35625\" xmlns=\"http://www.w3.org/2000/svg\" version=\"1.1\">\n <metadata>\n  <rdf:RDF xmlns:dc=\"http://purl.org/dc/elements/1.1/\" xmlns:cc=\"http://creativecommons.org/ns#\" xmlns:rdf=\"http://www.w3.org/1999/02/22-rdf-syntax-ns#\">\n   <cc:Work>\n    <dc:type rdf:resource=\"http://purl.org/dc/dcmitype/StillImage\"/>\n    <dc:date>2024-09-29T10:37:16.373472</dc:date>\n    <dc:format>image/svg+xml</dc:format>\n    <dc:creator>\n     <cc:Agent>\n      <dc:title>Matplotlib v3.7.2, https://matplotlib.org/</dc:title>\n     </cc:Agent>\n    </dc:creator>\n   </cc:Work>\n  </rdf:RDF>\n </metadata>\n <defs>\n  <style type=\"text/css\">*{stroke-linejoin: round; stroke-linecap: butt}</style>\n </defs>\n <g id=\"figure_1\">\n  <g id=\"patch_1\">\n   <path d=\"M 0 183.35625 \nL 238.965625 183.35625 \nL 238.965625 0 \nL 0 0 \nz\n\" style=\"fill: #ffffff\"/>\n  </g>\n  <g id=\"axes_1\">\n   <g id=\"patch_2\">\n    <path d=\"M 30.103125 145.8 \nL 225.403125 145.8 \nL 225.403125 7.2 \nL 30.103125 7.2 \nz\n\" style=\"fill: #ffffff\"/>\n   </g>\n   <g id=\"matplotlib.axis_1\">\n    <g id=\"xtick_1\">\n     <g id=\"line2d_1\">\n      <defs>\n       <path id=\"m5924437a1e\" d=\"M 0 0 \nL 0 3.5 \n\" style=\"stroke: #000000; stroke-width: 0.8\"/>\n      </defs>\n      <g>\n       <use xlink:href=\"#m5924437a1e\" x=\"30.103125\" y=\"145.8\" style=\"stroke: #000000; stroke-width: 0.8\"/>\n      </g>\n     </g>\n     <g id=\"text_1\">\n      <!-- 0 -->\n      <g transform=\"translate(26.921875 160.398438) scale(0.1 -0.1)\">\n       <defs>\n        <path id=\"DejaVuSans-30\" d=\"M 2034 4250 \nQ 1547 4250 1301 3770 \nQ 1056 3291 1056 2328 \nQ 1056 1369 1301 889 \nQ 1547 409 2034 409 \nQ 2525 409 2770 889 \nQ 3016 1369 3016 2328 \nQ 3016 3291 2770 3770 \nQ 2525 4250 2034 4250 \nz\nM 2034 4750 \nQ 2819 4750 3233 4129 \nQ 3647 3509 3647 2328 \nQ 3647 1150 3233 529 \nQ 2819 -91 2034 -91 \nQ 1250 -91 836 529 \nQ 422 1150 422 2328 \nQ 422 3509 836 4129 \nQ 1250 4750 2034 4750 \nz\n\" transform=\"scale(0.015625)\"/>\n       </defs>\n       <use xlink:href=\"#DejaVuSans-30\"/>\n      </g>\n     </g>\n    </g>\n    <g id=\"xtick_2\">\n     <g id=\"line2d_2\">\n      <g>\n       <use xlink:href=\"#m5924437a1e\" x=\"69.163125\" y=\"145.8\" style=\"stroke: #000000; stroke-width: 0.8\"/>\n      </g>\n     </g>\n     <g id=\"text_2\">\n      <!-- 2 -->\n      <g transform=\"translate(65.981875 160.398438) scale(0.1 -0.1)\">\n       <defs>\n        <path id=\"DejaVuSans-32\" d=\"M 1228 531 \nL 3431 531 \nL 3431 0 \nL 469 0 \nL 469 531 \nQ 828 903 1448 1529 \nQ 2069 2156 2228 2338 \nQ 2531 2678 2651 2914 \nQ 2772 3150 2772 3378 \nQ 2772 3750 2511 3984 \nQ 2250 4219 1831 4219 \nQ 1534 4219 1204 4116 \nQ 875 4013 500 3803 \nL 500 4441 \nQ 881 4594 1212 4672 \nQ 1544 4750 1819 4750 \nQ 2544 4750 2975 4387 \nQ 3406 4025 3406 3419 \nQ 3406 3131 3298 2873 \nQ 3191 2616 2906 2266 \nQ 2828 2175 2409 1742 \nQ 1991 1309 1228 531 \nz\n\" transform=\"scale(0.015625)\"/>\n       </defs>\n       <use xlink:href=\"#DejaVuSans-32\"/>\n      </g>\n     </g>\n    </g>\n    <g id=\"xtick_3\">\n     <g id=\"line2d_3\">\n      <g>\n       <use xlink:href=\"#m5924437a1e\" x=\"108.223125\" y=\"145.8\" style=\"stroke: #000000; stroke-width: 0.8\"/>\n      </g>\n     </g>\n     <g id=\"text_3\">\n      <!-- 4 -->\n      <g transform=\"translate(105.041875 160.398438) scale(0.1 -0.1)\">\n       <defs>\n        <path id=\"DejaVuSans-34\" d=\"M 2419 4116 \nL 825 1625 \nL 2419 1625 \nL 2419 4116 \nz\nM 2253 4666 \nL 3047 4666 \nL 3047 1625 \nL 3713 1625 \nL 3713 1100 \nL 3047 1100 \nL 3047 0 \nL 2419 0 \nL 2419 1100 \nL 313 1100 \nL 313 1709 \nL 2253 4666 \nz\n\" transform=\"scale(0.015625)\"/>\n       </defs>\n       <use xlink:href=\"#DejaVuSans-34\"/>\n      </g>\n     </g>\n    </g>\n    <g id=\"xtick_4\">\n     <g id=\"line2d_4\">\n      <g>\n       <use xlink:href=\"#m5924437a1e\" x=\"147.283125\" y=\"145.8\" style=\"stroke: #000000; stroke-width: 0.8\"/>\n      </g>\n     </g>\n     <g id=\"text_4\">\n      <!-- 6 -->\n      <g transform=\"translate(144.101875 160.398438) scale(0.1 -0.1)\">\n       <defs>\n        <path id=\"DejaVuSans-36\" d=\"M 2113 2584 \nQ 1688 2584 1439 2293 \nQ 1191 2003 1191 1497 \nQ 1191 994 1439 701 \nQ 1688 409 2113 409 \nQ 2538 409 2786 701 \nQ 3034 994 3034 1497 \nQ 3034 2003 2786 2293 \nQ 2538 2584 2113 2584 \nz\nM 3366 4563 \nL 3366 3988 \nQ 3128 4100 2886 4159 \nQ 2644 4219 2406 4219 \nQ 1781 4219 1451 3797 \nQ 1122 3375 1075 2522 \nQ 1259 2794 1537 2939 \nQ 1816 3084 2150 3084 \nQ 2853 3084 3261 2657 \nQ 3669 2231 3669 1497 \nQ 3669 778 3244 343 \nQ 2819 -91 2113 -91 \nQ 1303 -91 875 529 \nQ 447 1150 447 2328 \nQ 447 3434 972 4092 \nQ 1497 4750 2381 4750 \nQ 2619 4750 2861 4703 \nQ 3103 4656 3366 4563 \nz\n\" transform=\"scale(0.015625)\"/>\n       </defs>\n       <use xlink:href=\"#DejaVuSans-36\"/>\n      </g>\n     </g>\n    </g>\n    <g id=\"xtick_5\">\n     <g id=\"line2d_5\">\n      <g>\n       <use xlink:href=\"#m5924437a1e\" x=\"186.343125\" y=\"145.8\" style=\"stroke: #000000; stroke-width: 0.8\"/>\n      </g>\n     </g>\n     <g id=\"text_5\">\n      <!-- 8 -->\n      <g transform=\"translate(183.161875 160.398438) scale(0.1 -0.1)\">\n       <defs>\n        <path id=\"DejaVuSans-38\" d=\"M 2034 2216 \nQ 1584 2216 1326 1975 \nQ 1069 1734 1069 1313 \nQ 1069 891 1326 650 \nQ 1584 409 2034 409 \nQ 2484 409 2743 651 \nQ 3003 894 3003 1313 \nQ 3003 1734 2745 1975 \nQ 2488 2216 2034 2216 \nz\nM 1403 2484 \nQ 997 2584 770 2862 \nQ 544 3141 544 3541 \nQ 544 4100 942 4425 \nQ 1341 4750 2034 4750 \nQ 2731 4750 3128 4425 \nQ 3525 4100 3525 3541 \nQ 3525 3141 3298 2862 \nQ 3072 2584 2669 2484 \nQ 3125 2378 3379 2068 \nQ 3634 1759 3634 1313 \nQ 3634 634 3220 271 \nQ 2806 -91 2034 -91 \nQ 1263 -91 848 271 \nQ 434 634 434 1313 \nQ 434 1759 690 2068 \nQ 947 2378 1403 2484 \nz\nM 1172 3481 \nQ 1172 3119 1398 2916 \nQ 1625 2713 2034 2713 \nQ 2441 2713 2670 2916 \nQ 2900 3119 2900 3481 \nQ 2900 3844 2670 4047 \nQ 2441 4250 2034 4250 \nQ 1625 4250 1398 4047 \nQ 1172 3844 1172 3481 \nz\n\" transform=\"scale(0.015625)\"/>\n       </defs>\n       <use xlink:href=\"#DejaVuSans-38\"/>\n      </g>\n     </g>\n    </g>\n    <g id=\"xtick_6\">\n     <g id=\"line2d_6\">\n      <g>\n       <use xlink:href=\"#m5924437a1e\" x=\"225.403125\" y=\"145.8\" style=\"stroke: #000000; stroke-width: 0.8\"/>\n      </g>\n     </g>\n     <g id=\"text_6\">\n      <!-- 10 -->\n      <g transform=\"translate(219.040625 160.398438) scale(0.1 -0.1)\">\n       <defs>\n        <path id=\"DejaVuSans-31\" d=\"M 794 531 \nL 1825 531 \nL 1825 4091 \nL 703 3866 \nL 703 4441 \nL 1819 4666 \nL 2450 4666 \nL 2450 531 \nL 3481 531 \nL 3481 0 \nL 794 0 \nL 794 531 \nz\n\" transform=\"scale(0.015625)\"/>\n       </defs>\n       <use xlink:href=\"#DejaVuSans-31\"/>\n       <use xlink:href=\"#DejaVuSans-30\" x=\"63.623047\"/>\n      </g>\n     </g>\n    </g>\n    <g id=\"text_7\">\n     <!-- epoch -->\n     <g transform=\"translate(112.525 174.076563) scale(0.1 -0.1)\">\n      <defs>\n       <path id=\"DejaVuSans-65\" d=\"M 3597 1894 \nL 3597 1613 \nL 953 1613 \nQ 991 1019 1311 708 \nQ 1631 397 2203 397 \nQ 2534 397 2845 478 \nQ 3156 559 3463 722 \nL 3463 178 \nQ 3153 47 2828 -22 \nQ 2503 -91 2169 -91 \nQ 1331 -91 842 396 \nQ 353 884 353 1716 \nQ 353 2575 817 3079 \nQ 1281 3584 2069 3584 \nQ 2775 3584 3186 3129 \nQ 3597 2675 3597 1894 \nz\nM 3022 2063 \nQ 3016 2534 2758 2815 \nQ 2500 3097 2075 3097 \nQ 1594 3097 1305 2825 \nQ 1016 2553 972 2059 \nL 3022 2063 \nz\n\" transform=\"scale(0.015625)\"/>\n       <path id=\"DejaVuSans-70\" d=\"M 1159 525 \nL 1159 -1331 \nL 581 -1331 \nL 581 3500 \nL 1159 3500 \nL 1159 2969 \nQ 1341 3281 1617 3432 \nQ 1894 3584 2278 3584 \nQ 2916 3584 3314 3078 \nQ 3713 2572 3713 1747 \nQ 3713 922 3314 415 \nQ 2916 -91 2278 -91 \nQ 1894 -91 1617 61 \nQ 1341 213 1159 525 \nz\nM 3116 1747 \nQ 3116 2381 2855 2742 \nQ 2594 3103 2138 3103 \nQ 1681 3103 1420 2742 \nQ 1159 2381 1159 1747 \nQ 1159 1113 1420 752 \nQ 1681 391 2138 391 \nQ 2594 391 2855 752 \nQ 3116 1113 3116 1747 \nz\n\" transform=\"scale(0.015625)\"/>\n       <path id=\"DejaVuSans-6f\" d=\"M 1959 3097 \nQ 1497 3097 1228 2736 \nQ 959 2375 959 1747 \nQ 959 1119 1226 758 \nQ 1494 397 1959 397 \nQ 2419 397 2687 759 \nQ 2956 1122 2956 1747 \nQ 2956 2369 2687 2733 \nQ 2419 3097 1959 3097 \nz\nM 1959 3584 \nQ 2709 3584 3137 3096 \nQ 3566 2609 3566 1747 \nQ 3566 888 3137 398 \nQ 2709 -91 1959 -91 \nQ 1206 -91 779 398 \nQ 353 888 353 1747 \nQ 353 2609 779 3096 \nQ 1206 3584 1959 3584 \nz\n\" transform=\"scale(0.015625)\"/>\n       <path id=\"DejaVuSans-63\" d=\"M 3122 3366 \nL 3122 2828 \nQ 2878 2963 2633 3030 \nQ 2388 3097 2138 3097 \nQ 1578 3097 1268 2742 \nQ 959 2388 959 1747 \nQ 959 1106 1268 751 \nQ 1578 397 2138 397 \nQ 2388 397 2633 464 \nQ 2878 531 3122 666 \nL 3122 134 \nQ 2881 22 2623 -34 \nQ 2366 -91 2075 -91 \nQ 1284 -91 818 406 \nQ 353 903 353 1747 \nQ 353 2603 823 3093 \nQ 1294 3584 2113 3584 \nQ 2378 3584 2631 3529 \nQ 2884 3475 3122 3366 \nz\n\" transform=\"scale(0.015625)\"/>\n       <path id=\"DejaVuSans-68\" d=\"M 3513 2113 \nL 3513 0 \nL 2938 0 \nL 2938 2094 \nQ 2938 2591 2744 2837 \nQ 2550 3084 2163 3084 \nQ 1697 3084 1428 2787 \nQ 1159 2491 1159 1978 \nL 1159 0 \nL 581 0 \nL 581 4863 \nL 1159 4863 \nL 1159 2956 \nQ 1366 3272 1645 3428 \nQ 1925 3584 2291 3584 \nQ 2894 3584 3203 3211 \nQ 3513 2838 3513 2113 \nz\n\" transform=\"scale(0.015625)\"/>\n      </defs>\n      <use xlink:href=\"#DejaVuSans-65\"/>\n      <use xlink:href=\"#DejaVuSans-70\" x=\"61.523438\"/>\n      <use xlink:href=\"#DejaVuSans-6f\" x=\"125\"/>\n      <use xlink:href=\"#DejaVuSans-63\" x=\"186.181641\"/>\n      <use xlink:href=\"#DejaVuSans-68\" x=\"241.162109\"/>\n     </g>\n    </g>\n   </g>\n   <g id=\"matplotlib.axis_2\">\n    <g id=\"ytick_1\">\n     <g id=\"line2d_7\">\n      <defs>\n       <path id=\"m08465f140b\" d=\"M 0 0 \nL -3.5 0 \n\" style=\"stroke: #000000; stroke-width: 0.8\"/>\n      </defs>\n      <g>\n       <use xlink:href=\"#m08465f140b\" x=\"30.103125\" y=\"130.878523\" style=\"stroke: #000000; stroke-width: 0.8\"/>\n      </g>\n     </g>\n     <g id=\"text_8\">\n      <!-- 0.2 -->\n      <g transform=\"translate(7.2 134.677742) scale(0.1 -0.1)\">\n       <defs>\n        <path id=\"DejaVuSans-2e\" d=\"M 684 794 \nL 1344 794 \nL 1344 0 \nL 684 0 \nL 684 794 \nz\n\" transform=\"scale(0.015625)\"/>\n       </defs>\n       <use xlink:href=\"#DejaVuSans-30\"/>\n       <use xlink:href=\"#DejaVuSans-2e\" x=\"63.623047\"/>\n       <use xlink:href=\"#DejaVuSans-32\" x=\"95.410156\"/>\n      </g>\n     </g>\n    </g>\n    <g id=\"ytick_2\">\n     <g id=\"line2d_8\">\n      <g>\n       <use xlink:href=\"#m08465f140b\" x=\"30.103125\" y=\"97.993154\" style=\"stroke: #000000; stroke-width: 0.8\"/>\n      </g>\n     </g>\n     <g id=\"text_9\">\n      <!-- 0.4 -->\n      <g transform=\"translate(7.2 101.792373) scale(0.1 -0.1)\">\n       <use xlink:href=\"#DejaVuSans-30\"/>\n       <use xlink:href=\"#DejaVuSans-2e\" x=\"63.623047\"/>\n       <use xlink:href=\"#DejaVuSans-34\" x=\"95.410156\"/>\n      </g>\n     </g>\n    </g>\n    <g id=\"ytick_3\">\n     <g id=\"line2d_9\">\n      <g>\n       <use xlink:href=\"#m08465f140b\" x=\"30.103125\" y=\"65.107785\" style=\"stroke: #000000; stroke-width: 0.8\"/>\n      </g>\n     </g>\n     <g id=\"text_10\">\n      <!-- 0.6 -->\n      <g transform=\"translate(7.2 68.907004) scale(0.1 -0.1)\">\n       <use xlink:href=\"#DejaVuSans-30\"/>\n       <use xlink:href=\"#DejaVuSans-2e\" x=\"63.623047\"/>\n       <use xlink:href=\"#DejaVuSans-36\" x=\"95.410156\"/>\n      </g>\n     </g>\n    </g>\n    <g id=\"ytick_4\">\n     <g id=\"line2d_10\">\n      <g>\n       <use xlink:href=\"#m08465f140b\" x=\"30.103125\" y=\"32.222416\" style=\"stroke: #000000; stroke-width: 0.8\"/>\n      </g>\n     </g>\n     <g id=\"text_11\">\n      <!-- 0.8 -->\n      <g transform=\"translate(7.2 36.021635) scale(0.1 -0.1)\">\n       <use xlink:href=\"#DejaVuSans-30\"/>\n       <use xlink:href=\"#DejaVuSans-2e\" x=\"63.623047\"/>\n       <use xlink:href=\"#DejaVuSans-38\" x=\"95.410156\"/>\n      </g>\n     </g>\n    </g>\n   </g>\n   <g id=\"line2d_11\">\n    <path d=\"M 34.954394 13.866588 \n\" clip-path=\"url(#pf67a14ea08)\" style=\"fill: none; stroke: #1f77b4; stroke-width: 1.5; stroke-linecap: square\"/>\n   </g>\n   <g id=\"line2d_12\">\n    <path d=\"M 34.954394 13.866588 \nL 44.698573 90.490169 \n\" clip-path=\"url(#pf67a14ea08)\" style=\"fill: none; stroke: #1f77b4; stroke-width: 1.5; stroke-linecap: square\"/>\n   </g>\n   <g id=\"line2d_13\">\n    <path d=\"M 34.954394 13.866588 \nL 44.698573 90.490169 \n\" clip-path=\"url(#pf67a14ea08)\" style=\"fill: none; stroke: #1f77b4; stroke-width: 1.5; stroke-linecap: square\"/>\n   </g>\n   <g id=\"line2d_14\">\n    <path d=\"M 49.633125 81.29529 \n\" clip-path=\"url(#pf67a14ea08)\" style=\"fill: none; stroke-dasharray: 5.55,2.4; stroke-dashoffset: 0; stroke: #ff7f0e; stroke-width: 1.5\"/>\n   </g>\n   <g id=\"line2d_15\"/>\n   <g id=\"line2d_16\">\n    <path d=\"M 34.954394 13.866588 \nL 44.698573 90.490169 \n\" clip-path=\"url(#pf67a14ea08)\" style=\"fill: none; stroke: #1f77b4; stroke-width: 1.5; stroke-linecap: square\"/>\n   </g>\n   <g id=\"line2d_17\">\n    <path d=\"M 49.633125 81.29529 \n\" clip-path=\"url(#pf67a14ea08)\" style=\"fill: none; stroke-dasharray: 5.55,2.4; stroke-dashoffset: 0; stroke: #ff7f0e; stroke-width: 1.5\"/>\n   </g>\n   <g id=\"line2d_18\">\n    <path d=\"M 49.633125 30.378468 \n\" clip-path=\"url(#pf67a14ea08)\" style=\"fill: none; stroke-dasharray: 9.6,2.4,1.5,2.4; stroke-dashoffset: 0; stroke: #2ca02c; stroke-width: 1.5\"/>\n   </g>\n   <g id=\"line2d_19\">\n    <path d=\"M 34.954394 13.866588 \nL 44.698573 90.490169 \nL 54.442752 104.297425 \n\" clip-path=\"url(#pf67a14ea08)\" style=\"fill: none; stroke: #1f77b4; stroke-width: 1.5; stroke-linecap: square\"/>\n   </g>\n   <g id=\"line2d_20\">\n    <path d=\"M 49.633125 81.29529 \n\" clip-path=\"url(#pf67a14ea08)\" style=\"fill: none; stroke-dasharray: 5.55,2.4; stroke-dashoffset: 0; stroke: #ff7f0e; stroke-width: 1.5\"/>\n   </g>\n   <g id=\"line2d_21\">\n    <path d=\"M 49.633125 30.378468 \n\" clip-path=\"url(#pf67a14ea08)\" style=\"fill: none; stroke-dasharray: 9.6,2.4,1.5,2.4; stroke-dashoffset: 0; stroke: #2ca02c; stroke-width: 1.5\"/>\n   </g>\n   <g id=\"line2d_22\">\n    <path d=\"M 34.954394 13.866588 \nL 44.698573 90.490169 \nL 54.442752 104.297425 \nL 64.186931 112.700682 \n\" clip-path=\"url(#pf67a14ea08)\" style=\"fill: none; stroke: #1f77b4; stroke-width: 1.5; stroke-linecap: square\"/>\n   </g>\n   <g id=\"line2d_23\">\n    <path d=\"M 49.633125 81.29529 \n\" clip-path=\"url(#pf67a14ea08)\" style=\"fill: none; stroke-dasharray: 5.55,2.4; stroke-dashoffset: 0; stroke: #ff7f0e; stroke-width: 1.5\"/>\n   </g>\n   <g id=\"line2d_24\">\n    <path d=\"M 49.633125 30.378468 \n\" clip-path=\"url(#pf67a14ea08)\" style=\"fill: none; stroke-dasharray: 9.6,2.4,1.5,2.4; stroke-dashoffset: 0; stroke: #2ca02c; stroke-width: 1.5\"/>\n   </g>\n   <g id=\"line2d_25\">\n    <path d=\"M 34.954394 13.866588 \nL 44.698573 90.490169 \nL 54.442752 104.297425 \nL 64.186931 112.700682 \n\" clip-path=\"url(#pf67a14ea08)\" style=\"fill: none; stroke: #1f77b4; stroke-width: 1.5; stroke-linecap: square\"/>\n   </g>\n   <g id=\"line2d_26\">\n    <path d=\"M 49.633125 81.29529 \nL 69.163125 98.082977 \n\" clip-path=\"url(#pf67a14ea08)\" style=\"fill: none; stroke-dasharray: 5.55,2.4; stroke-dashoffset: 0; stroke: #ff7f0e; stroke-width: 1.5\"/>\n   </g>\n   <g id=\"line2d_27\">\n    <path d=\"M 49.633125 30.378468 \n\" clip-path=\"url(#pf67a14ea08)\" style=\"fill: none; stroke-dasharray: 9.6,2.4,1.5,2.4; stroke-dashoffset: 0; stroke: #2ca02c; stroke-width: 1.5\"/>\n   </g>\n   <g id=\"line2d_28\">\n    <path d=\"M 34.954394 13.866588 \nL 44.698573 90.490169 \nL 54.442752 104.297425 \nL 64.186931 112.700682 \n\" clip-path=\"url(#pf67a14ea08)\" style=\"fill: none; stroke: #1f77b4; stroke-width: 1.5; stroke-linecap: square\"/>\n   </g>\n   <g id=\"line2d_29\">\n    <path d=\"M 49.633125 81.29529 \nL 69.163125 98.082977 \n\" clip-path=\"url(#pf67a14ea08)\" style=\"fill: none; stroke-dasharray: 5.55,2.4; stroke-dashoffset: 0; stroke: #ff7f0e; stroke-width: 1.5\"/>\n   </g>\n   <g id=\"line2d_30\">\n    <path d=\"M 49.633125 30.378468 \nL 69.163125 23.044952 \n\" clip-path=\"url(#pf67a14ea08)\" style=\"fill: none; stroke-dasharray: 9.6,2.4,1.5,2.4; stroke-dashoffset: 0; stroke: #2ca02c; stroke-width: 1.5\"/>\n   </g>\n   <g id=\"line2d_31\">\n    <path d=\"M 34.954394 13.866588 \nL 44.698573 90.490169 \nL 54.442752 104.297425 \nL 64.186931 112.700682 \nL 73.93111 117.322313 \n\" clip-path=\"url(#pf67a14ea08)\" style=\"fill: none; stroke: #1f77b4; stroke-width: 1.5; stroke-linecap: square\"/>\n   </g>\n   <g id=\"line2d_32\">\n    <path d=\"M 49.633125 81.29529 \nL 69.163125 98.082977 \n\" clip-path=\"url(#pf67a14ea08)\" style=\"fill: none; stroke-dasharray: 5.55,2.4; stroke-dashoffset: 0; stroke: #ff7f0e; stroke-width: 1.5\"/>\n   </g>\n   <g id=\"line2d_33\">\n    <path d=\"M 49.633125 30.378468 \nL 69.163125 23.044952 \n\" clip-path=\"url(#pf67a14ea08)\" style=\"fill: none; stroke-dasharray: 9.6,2.4,1.5,2.4; stroke-dashoffset: 0; stroke: #2ca02c; stroke-width: 1.5\"/>\n   </g>\n   <g id=\"line2d_34\">\n    <path d=\"M 34.954394 13.866588 \nL 44.698573 90.490169 \nL 54.442752 104.297425 \nL 64.186931 112.700682 \nL 73.93111 117.322313 \nL 83.675289 118.55592 \n\" clip-path=\"url(#pf67a14ea08)\" style=\"fill: none; stroke: #1f77b4; stroke-width: 1.5; stroke-linecap: square\"/>\n   </g>\n   <g id=\"line2d_35\">\n    <path d=\"M 49.633125 81.29529 \nL 69.163125 98.082977 \n\" clip-path=\"url(#pf67a14ea08)\" style=\"fill: none; stroke-dasharray: 5.55,2.4; stroke-dashoffset: 0; stroke: #ff7f0e; stroke-width: 1.5\"/>\n   </g>\n   <g id=\"line2d_36\">\n    <path d=\"M 49.633125 30.378468 \nL 69.163125 23.044952 \n\" clip-path=\"url(#pf67a14ea08)\" style=\"fill: none; stroke-dasharray: 9.6,2.4,1.5,2.4; stroke-dashoffset: 0; stroke: #2ca02c; stroke-width: 1.5\"/>\n   </g>\n   <g id=\"line2d_37\">\n    <path d=\"M 34.954394 13.866588 \nL 44.698573 90.490169 \nL 54.442752 104.297425 \nL 64.186931 112.700682 \nL 73.93111 117.322313 \nL 83.675289 118.55592 \n\" clip-path=\"url(#pf67a14ea08)\" style=\"fill: none; stroke: #1f77b4; stroke-width: 1.5; stroke-linecap: square\"/>\n   </g>\n   <g id=\"line2d_38\">\n    <path d=\"M 49.633125 81.29529 \nL 69.163125 98.082977 \nL 88.693125 108.883772 \n\" clip-path=\"url(#pf67a14ea08)\" style=\"fill: none; stroke-dasharray: 5.55,2.4; stroke-dashoffset: 0; stroke: #ff7f0e; stroke-width: 1.5\"/>\n   </g>\n   <g id=\"line2d_39\">\n    <path d=\"M 49.633125 30.378468 \nL 69.163125 23.044952 \n\" clip-path=\"url(#pf67a14ea08)\" style=\"fill: none; stroke-dasharray: 9.6,2.4,1.5,2.4; stroke-dashoffset: 0; stroke: #2ca02c; stroke-width: 1.5\"/>\n   </g>\n   <g id=\"line2d_40\">\n    <path d=\"M 34.954394 13.866588 \nL 44.698573 90.490169 \nL 54.442752 104.297425 \nL 64.186931 112.700682 \nL 73.93111 117.322313 \nL 83.675289 118.55592 \n\" clip-path=\"url(#pf67a14ea08)\" style=\"fill: none; stroke: #1f77b4; stroke-width: 1.5; stroke-linecap: square\"/>\n   </g>\n   <g id=\"line2d_41\">\n    <path d=\"M 49.633125 81.29529 \nL 69.163125 98.082977 \nL 88.693125 108.883772 \n\" clip-path=\"url(#pf67a14ea08)\" style=\"fill: none; stroke-dasharray: 5.55,2.4; stroke-dashoffset: 0; stroke: #ff7f0e; stroke-width: 1.5\"/>\n   </g>\n   <g id=\"line2d_42\">\n    <path d=\"M 49.633125 30.378468 \nL 69.163125 23.044952 \nL 88.693125 18.638339 \n\" clip-path=\"url(#pf67a14ea08)\" style=\"fill: none; stroke-dasharray: 9.6,2.4,1.5,2.4; stroke-dashoffset: 0; stroke: #2ca02c; stroke-width: 1.5\"/>\n   </g>\n   <g id=\"line2d_43\">\n    <path d=\"M 34.954394 13.866588 \nL 44.698573 90.490169 \nL 54.442752 104.297425 \nL 64.186931 112.700682 \nL 73.93111 117.322313 \nL 83.675289 118.55592 \nL 93.419468 123.397467 \n\" clip-path=\"url(#pf67a14ea08)\" style=\"fill: none; stroke: #1f77b4; stroke-width: 1.5; stroke-linecap: square\"/>\n   </g>\n   <g id=\"line2d_44\">\n    <path d=\"M 49.633125 81.29529 \nL 69.163125 98.082977 \nL 88.693125 108.883772 \n\" clip-path=\"url(#pf67a14ea08)\" style=\"fill: none; stroke-dasharray: 5.55,2.4; stroke-dashoffset: 0; stroke: #ff7f0e; stroke-width: 1.5\"/>\n   </g>\n   <g id=\"line2d_45\">\n    <path d=\"M 49.633125 30.378468 \nL 69.163125 23.044952 \nL 88.693125 18.638339 \n\" clip-path=\"url(#pf67a14ea08)\" style=\"fill: none; stroke-dasharray: 9.6,2.4,1.5,2.4; stroke-dashoffset: 0; stroke: #2ca02c; stroke-width: 1.5\"/>\n   </g>\n   <g id=\"line2d_46\">\n    <path d=\"M 34.954394 13.866588 \nL 44.698573 90.490169 \nL 54.442752 104.297425 \nL 64.186931 112.700682 \nL 73.93111 117.322313 \nL 83.675289 118.55592 \nL 93.419468 123.397467 \nL 103.163647 123.58847 \n\" clip-path=\"url(#pf67a14ea08)\" style=\"fill: none; stroke: #1f77b4; stroke-width: 1.5; stroke-linecap: square\"/>\n   </g>\n   <g id=\"line2d_47\">\n    <path d=\"M 49.633125 81.29529 \nL 69.163125 98.082977 \nL 88.693125 108.883772 \n\" clip-path=\"url(#pf67a14ea08)\" style=\"fill: none; stroke-dasharray: 5.55,2.4; stroke-dashoffset: 0; stroke: #ff7f0e; stroke-width: 1.5\"/>\n   </g>\n   <g id=\"line2d_48\">\n    <path d=\"M 49.633125 30.378468 \nL 69.163125 23.044952 \nL 88.693125 18.638339 \n\" clip-path=\"url(#pf67a14ea08)\" style=\"fill: none; stroke-dasharray: 9.6,2.4,1.5,2.4; stroke-dashoffset: 0; stroke: #2ca02c; stroke-width: 1.5\"/>\n   </g>\n   <g id=\"line2d_49\">\n    <path d=\"M 34.954394 13.866588 \nL 44.698573 90.490169 \nL 54.442752 104.297425 \nL 64.186931 112.700682 \nL 73.93111 117.322313 \nL 83.675289 118.55592 \nL 93.419468 123.397467 \nL 103.163647 123.58847 \n\" clip-path=\"url(#pf67a14ea08)\" style=\"fill: none; stroke: #1f77b4; stroke-width: 1.5; stroke-linecap: square\"/>\n   </g>\n   <g id=\"line2d_50\">\n    <path d=\"M 49.633125 81.29529 \nL 69.163125 98.082977 \nL 88.693125 108.883772 \nL 108.223125 109.086193 \n\" clip-path=\"url(#pf67a14ea08)\" style=\"fill: none; stroke-dasharray: 5.55,2.4; stroke-dashoffset: 0; stroke: #ff7f0e; stroke-width: 1.5\"/>\n   </g>\n   <g id=\"line2d_51\">\n    <path d=\"M 49.633125 30.378468 \nL 69.163125 23.044952 \nL 88.693125 18.638339 \n\" clip-path=\"url(#pf67a14ea08)\" style=\"fill: none; stroke-dasharray: 9.6,2.4,1.5,2.4; stroke-dashoffset: 0; stroke: #2ca02c; stroke-width: 1.5\"/>\n   </g>\n   <g id=\"line2d_52\">\n    <path d=\"M 34.954394 13.866588 \nL 44.698573 90.490169 \nL 54.442752 104.297425 \nL 64.186931 112.700682 \nL 73.93111 117.322313 \nL 83.675289 118.55592 \nL 93.419468 123.397467 \nL 103.163647 123.58847 \n\" clip-path=\"url(#pf67a14ea08)\" style=\"fill: none; stroke: #1f77b4; stroke-width: 1.5; stroke-linecap: square\"/>\n   </g>\n   <g id=\"line2d_53\">\n    <path d=\"M 49.633125 81.29529 \nL 69.163125 98.082977 \nL 88.693125 108.883772 \nL 108.223125 109.086193 \n\" clip-path=\"url(#pf67a14ea08)\" style=\"fill: none; stroke-dasharray: 5.55,2.4; stroke-dashoffset: 0; stroke: #ff7f0e; stroke-width: 1.5\"/>\n   </g>\n   <g id=\"line2d_54\">\n    <path d=\"M 49.633125 30.378468 \nL 69.163125 23.044952 \nL 88.693125 18.638339 \nL 108.223125 19.353804 \n\" clip-path=\"url(#pf67a14ea08)\" style=\"fill: none; stroke-dasharray: 9.6,2.4,1.5,2.4; stroke-dashoffset: 0; stroke: #2ca02c; stroke-width: 1.5\"/>\n   </g>\n   <g id=\"line2d_55\">\n    <path d=\"M 34.954394 13.866588 \nL 44.698573 90.490169 \nL 54.442752 104.297425 \nL 64.186931 112.700682 \nL 73.93111 117.322313 \nL 83.675289 118.55592 \nL 93.419468 123.397467 \nL 103.163647 123.58847 \nL 112.907826 126.529969 \n\" clip-path=\"url(#pf67a14ea08)\" style=\"fill: none; stroke: #1f77b4; stroke-width: 1.5; stroke-linecap: square\"/>\n   </g>\n   <g id=\"line2d_56\">\n    <path d=\"M 49.633125 81.29529 \nL 69.163125 98.082977 \nL 88.693125 108.883772 \nL 108.223125 109.086193 \n\" clip-path=\"url(#pf67a14ea08)\" style=\"fill: none; stroke-dasharray: 5.55,2.4; stroke-dashoffset: 0; stroke: #ff7f0e; stroke-width: 1.5\"/>\n   </g>\n   <g id=\"line2d_57\">\n    <path d=\"M 49.633125 30.378468 \nL 69.163125 23.044952 \nL 88.693125 18.638339 \nL 108.223125 19.353804 \n\" clip-path=\"url(#pf67a14ea08)\" style=\"fill: none; stroke-dasharray: 9.6,2.4,1.5,2.4; stroke-dashoffset: 0; stroke: #2ca02c; stroke-width: 1.5\"/>\n   </g>\n   <g id=\"line2d_58\">\n    <path d=\"M 34.954394 13.866588 \nL 44.698573 90.490169 \nL 54.442752 104.297425 \nL 64.186931 112.700682 \nL 73.93111 117.322313 \nL 83.675289 118.55592 \nL 93.419468 123.397467 \nL 103.163647 123.58847 \nL 112.907826 126.529969 \nL 122.652006 127.652477 \n\" clip-path=\"url(#pf67a14ea08)\" style=\"fill: none; stroke: #1f77b4; stroke-width: 1.5; stroke-linecap: square\"/>\n   </g>\n   <g id=\"line2d_59\">\n    <path d=\"M 49.633125 81.29529 \nL 69.163125 98.082977 \nL 88.693125 108.883772 \nL 108.223125 109.086193 \n\" clip-path=\"url(#pf67a14ea08)\" style=\"fill: none; stroke-dasharray: 5.55,2.4; stroke-dashoffset: 0; stroke: #ff7f0e; stroke-width: 1.5\"/>\n   </g>\n   <g id=\"line2d_60\">\n    <path d=\"M 49.633125 30.378468 \nL 69.163125 23.044952 \nL 88.693125 18.638339 \nL 108.223125 19.353804 \n\" clip-path=\"url(#pf67a14ea08)\" style=\"fill: none; stroke-dasharray: 9.6,2.4,1.5,2.4; stroke-dashoffset: 0; stroke: #2ca02c; stroke-width: 1.5\"/>\n   </g>\n   <g id=\"line2d_61\">\n    <path d=\"M 34.954394 13.866588 \nL 44.698573 90.490169 \nL 54.442752 104.297425 \nL 64.186931 112.700682 \nL 73.93111 117.322313 \nL 83.675289 118.55592 \nL 93.419468 123.397467 \nL 103.163647 123.58847 \nL 112.907826 126.529969 \nL 122.652006 127.652477 \n\" clip-path=\"url(#pf67a14ea08)\" style=\"fill: none; stroke: #1f77b4; stroke-width: 1.5; stroke-linecap: square\"/>\n   </g>\n   <g id=\"line2d_62\">\n    <path d=\"M 49.633125 81.29529 \nL 69.163125 98.082977 \nL 88.693125 108.883772 \nL 108.223125 109.086193 \nL 127.753125 96.380721 \n\" clip-path=\"url(#pf67a14ea08)\" style=\"fill: none; stroke-dasharray: 5.55,2.4; stroke-dashoffset: 0; stroke: #ff7f0e; stroke-width: 1.5\"/>\n   </g>\n   <g id=\"line2d_63\">\n    <path d=\"M 49.633125 30.378468 \nL 69.163125 23.044952 \nL 88.693125 18.638339 \nL 108.223125 19.353804 \n\" clip-path=\"url(#pf67a14ea08)\" style=\"fill: none; stroke-dasharray: 9.6,2.4,1.5,2.4; stroke-dashoffset: 0; stroke: #2ca02c; stroke-width: 1.5\"/>\n   </g>\n   <g id=\"line2d_64\">\n    <path d=\"M 34.954394 13.866588 \nL 44.698573 90.490169 \nL 54.442752 104.297425 \nL 64.186931 112.700682 \nL 73.93111 117.322313 \nL 83.675289 118.55592 \nL 93.419468 123.397467 \nL 103.163647 123.58847 \nL 112.907826 126.529969 \nL 122.652006 127.652477 \n\" clip-path=\"url(#pf67a14ea08)\" style=\"fill: none; stroke: #1f77b4; stroke-width: 1.5; stroke-linecap: square\"/>\n   </g>\n   <g id=\"line2d_65\">\n    <path d=\"M 49.633125 81.29529 \nL 69.163125 98.082977 \nL 88.693125 108.883772 \nL 108.223125 109.086193 \nL 127.753125 96.380721 \n\" clip-path=\"url(#pf67a14ea08)\" style=\"fill: none; stroke-dasharray: 5.55,2.4; stroke-dashoffset: 0; stroke: #ff7f0e; stroke-width: 1.5\"/>\n   </g>\n   <g id=\"line2d_66\">\n    <path d=\"M 49.633125 30.378468 \nL 69.163125 23.044952 \nL 88.693125 18.638339 \nL 108.223125 19.353804 \nL 127.753125 24.540924 \n\" clip-path=\"url(#pf67a14ea08)\" style=\"fill: none; stroke-dasharray: 9.6,2.4,1.5,2.4; stroke-dashoffset: 0; stroke: #2ca02c; stroke-width: 1.5\"/>\n   </g>\n   <g id=\"line2d_67\">\n    <path d=\"M 34.954394 13.866588 \nL 44.698573 90.490169 \nL 54.442752 104.297425 \nL 64.186931 112.700682 \nL 73.93111 117.322313 \nL 83.675289 118.55592 \nL 93.419468 123.397467 \nL 103.163647 123.58847 \nL 112.907826 126.529969 \nL 122.652006 127.652477 \nL 132.396185 130.199749 \n\" clip-path=\"url(#pf67a14ea08)\" style=\"fill: none; stroke: #1f77b4; stroke-width: 1.5; stroke-linecap: square\"/>\n   </g>\n   <g id=\"line2d_68\">\n    <path d=\"M 49.633125 81.29529 \nL 69.163125 98.082977 \nL 88.693125 108.883772 \nL 108.223125 109.086193 \nL 127.753125 96.380721 \n\" clip-path=\"url(#pf67a14ea08)\" style=\"fill: none; stroke-dasharray: 5.55,2.4; stroke-dashoffset: 0; stroke: #ff7f0e; stroke-width: 1.5\"/>\n   </g>\n   <g id=\"line2d_69\">\n    <path d=\"M 49.633125 30.378468 \nL 69.163125 23.044952 \nL 88.693125 18.638339 \nL 108.223125 19.353804 \nL 127.753125 24.540924 \n\" clip-path=\"url(#pf67a14ea08)\" style=\"fill: none; stroke-dasharray: 9.6,2.4,1.5,2.4; stroke-dashoffset: 0; stroke: #2ca02c; stroke-width: 1.5\"/>\n   </g>\n   <g id=\"line2d_70\">\n    <path d=\"M 34.954394 13.866588 \nL 44.698573 90.490169 \nL 54.442752 104.297425 \nL 64.186931 112.700682 \nL 73.93111 117.322313 \nL 83.675289 118.55592 \nL 93.419468 123.397467 \nL 103.163647 123.58847 \nL 112.907826 126.529969 \nL 122.652006 127.652477 \nL 132.396185 130.199749 \nL 142.140364 130.354426 \n\" clip-path=\"url(#pf67a14ea08)\" style=\"fill: none; stroke: #1f77b4; stroke-width: 1.5; stroke-linecap: square\"/>\n   </g>\n   <g id=\"line2d_71\">\n    <path d=\"M 49.633125 81.29529 \nL 69.163125 98.082977 \nL 88.693125 108.883772 \nL 108.223125 109.086193 \nL 127.753125 96.380721 \n\" clip-path=\"url(#pf67a14ea08)\" style=\"fill: none; stroke-dasharray: 5.55,2.4; stroke-dashoffset: 0; stroke: #ff7f0e; stroke-width: 1.5\"/>\n   </g>\n   <g id=\"line2d_72\">\n    <path d=\"M 49.633125 30.378468 \nL 69.163125 23.044952 \nL 88.693125 18.638339 \nL 108.223125 19.353804 \nL 127.753125 24.540924 \n\" clip-path=\"url(#pf67a14ea08)\" style=\"fill: none; stroke-dasharray: 9.6,2.4,1.5,2.4; stroke-dashoffset: 0; stroke: #2ca02c; stroke-width: 1.5\"/>\n   </g>\n   <g id=\"line2d_73\">\n    <path d=\"M 34.954394 13.866588 \nL 44.698573 90.490169 \nL 54.442752 104.297425 \nL 64.186931 112.700682 \nL 73.93111 117.322313 \nL 83.675289 118.55592 \nL 93.419468 123.397467 \nL 103.163647 123.58847 \nL 112.907826 126.529969 \nL 122.652006 127.652477 \nL 132.396185 130.199749 \nL 142.140364 130.354426 \n\" clip-path=\"url(#pf67a14ea08)\" style=\"fill: none; stroke: #1f77b4; stroke-width: 1.5; stroke-linecap: square\"/>\n   </g>\n   <g id=\"line2d_74\">\n    <path d=\"M 49.633125 81.29529 \nL 69.163125 98.082977 \nL 88.693125 108.883772 \nL 108.223125 109.086193 \nL 127.753125 96.380721 \nL 147.283125 107.233313 \n\" clip-path=\"url(#pf67a14ea08)\" style=\"fill: none; stroke-dasharray: 5.55,2.4; stroke-dashoffset: 0; stroke: #ff7f0e; stroke-width: 1.5\"/>\n   </g>\n   <g id=\"line2d_75\">\n    <path d=\"M 49.633125 30.378468 \nL 69.163125 23.044952 \nL 88.693125 18.638339 \nL 108.223125 19.353804 \nL 127.753125 24.540924 \n\" clip-path=\"url(#pf67a14ea08)\" style=\"fill: none; stroke-dasharray: 9.6,2.4,1.5,2.4; stroke-dashoffset: 0; stroke: #2ca02c; stroke-width: 1.5\"/>\n   </g>\n   <g id=\"line2d_76\">\n    <path d=\"M 34.954394 13.866588 \nL 44.698573 90.490169 \nL 54.442752 104.297425 \nL 64.186931 112.700682 \nL 73.93111 117.322313 \nL 83.675289 118.55592 \nL 93.419468 123.397467 \nL 103.163647 123.58847 \nL 112.907826 126.529969 \nL 122.652006 127.652477 \nL 132.396185 130.199749 \nL 142.140364 130.354426 \n\" clip-path=\"url(#pf67a14ea08)\" style=\"fill: none; stroke: #1f77b4; stroke-width: 1.5; stroke-linecap: square\"/>\n   </g>\n   <g id=\"line2d_77\">\n    <path d=\"M 49.633125 81.29529 \nL 69.163125 98.082977 \nL 88.693125 108.883772 \nL 108.223125 109.086193 \nL 127.753125 96.380721 \nL 147.283125 107.233313 \n\" clip-path=\"url(#pf67a14ea08)\" style=\"fill: none; stroke-dasharray: 5.55,2.4; stroke-dashoffset: 0; stroke: #ff7f0e; stroke-width: 1.5\"/>\n   </g>\n   <g id=\"line2d_78\">\n    <path d=\"M 49.633125 30.378468 \nL 69.163125 23.044952 \nL 88.693125 18.638339 \nL 108.223125 19.353804 \nL 127.753125 24.540924 \nL 147.283125 20.10179 \n\" clip-path=\"url(#pf67a14ea08)\" style=\"fill: none; stroke-dasharray: 9.6,2.4,1.5,2.4; stroke-dashoffset: 0; stroke: #2ca02c; stroke-width: 1.5\"/>\n   </g>\n   <g id=\"line2d_79\">\n    <path d=\"M 34.954394 13.866588 \nL 44.698573 90.490169 \nL 54.442752 104.297425 \nL 64.186931 112.700682 \nL 73.93111 117.322313 \nL 83.675289 118.55592 \nL 93.419468 123.397467 \nL 103.163647 123.58847 \nL 112.907826 126.529969 \nL 122.652006 127.652477 \nL 132.396185 130.199749 \nL 142.140364 130.354426 \nL 151.884543 133.468365 \n\" clip-path=\"url(#pf67a14ea08)\" style=\"fill: none; stroke: #1f77b4; stroke-width: 1.5; stroke-linecap: square\"/>\n   </g>\n   <g id=\"line2d_80\">\n    <path d=\"M 49.633125 81.29529 \nL 69.163125 98.082977 \nL 88.693125 108.883772 \nL 108.223125 109.086193 \nL 127.753125 96.380721 \nL 147.283125 107.233313 \n\" clip-path=\"url(#pf67a14ea08)\" style=\"fill: none; stroke-dasharray: 5.55,2.4; stroke-dashoffset: 0; stroke: #ff7f0e; stroke-width: 1.5\"/>\n   </g>\n   <g id=\"line2d_81\">\n    <path d=\"M 49.633125 30.378468 \nL 69.163125 23.044952 \nL 88.693125 18.638339 \nL 108.223125 19.353804 \nL 127.753125 24.540924 \nL 147.283125 20.10179 \n\" clip-path=\"url(#pf67a14ea08)\" style=\"fill: none; stroke-dasharray: 9.6,2.4,1.5,2.4; stroke-dashoffset: 0; stroke: #2ca02c; stroke-width: 1.5\"/>\n   </g>\n   <g id=\"line2d_82\">\n    <path d=\"M 34.954394 13.866588 \nL 44.698573 90.490169 \nL 54.442752 104.297425 \nL 64.186931 112.700682 \nL 73.93111 117.322313 \nL 83.675289 118.55592 \nL 93.419468 123.397467 \nL 103.163647 123.58847 \nL 112.907826 126.529969 \nL 122.652006 127.652477 \nL 132.396185 130.199749 \nL 142.140364 130.354426 \nL 151.884543 133.468365 \nL 161.628722 132.131206 \n\" clip-path=\"url(#pf67a14ea08)\" style=\"fill: none; stroke: #1f77b4; stroke-width: 1.5; stroke-linecap: square\"/>\n   </g>\n   <g id=\"line2d_83\">\n    <path d=\"M 49.633125 81.29529 \nL 69.163125 98.082977 \nL 88.693125 108.883772 \nL 108.223125 109.086193 \nL 127.753125 96.380721 \nL 147.283125 107.233313 \n\" clip-path=\"url(#pf67a14ea08)\" style=\"fill: none; stroke-dasharray: 5.55,2.4; stroke-dashoffset: 0; stroke: #ff7f0e; stroke-width: 1.5\"/>\n   </g>\n   <g id=\"line2d_84\">\n    <path d=\"M 49.633125 30.378468 \nL 69.163125 23.044952 \nL 88.693125 18.638339 \nL 108.223125 19.353804 \nL 127.753125 24.540924 \nL 147.283125 20.10179 \n\" clip-path=\"url(#pf67a14ea08)\" style=\"fill: none; stroke-dasharray: 9.6,2.4,1.5,2.4; stroke-dashoffset: 0; stroke: #2ca02c; stroke-width: 1.5\"/>\n   </g>\n   <g id=\"line2d_85\">\n    <path d=\"M 34.954394 13.866588 \nL 44.698573 90.490169 \nL 54.442752 104.297425 \nL 64.186931 112.700682 \nL 73.93111 117.322313 \nL 83.675289 118.55592 \nL 93.419468 123.397467 \nL 103.163647 123.58847 \nL 112.907826 126.529969 \nL 122.652006 127.652477 \nL 132.396185 130.199749 \nL 142.140364 130.354426 \nL 151.884543 133.468365 \nL 161.628722 132.131206 \n\" clip-path=\"url(#pf67a14ea08)\" style=\"fill: none; stroke: #1f77b4; stroke-width: 1.5; stroke-linecap: square\"/>\n   </g>\n   <g id=\"line2d_86\">\n    <path d=\"M 49.633125 81.29529 \nL 69.163125 98.082977 \nL 88.693125 108.883772 \nL 108.223125 109.086193 \nL 127.753125 96.380721 \nL 147.283125 107.233313 \nL 166.813125 116.54891 \n\" clip-path=\"url(#pf67a14ea08)\" style=\"fill: none; stroke-dasharray: 5.55,2.4; stroke-dashoffset: 0; stroke: #ff7f0e; stroke-width: 1.5\"/>\n   </g>\n   <g id=\"line2d_87\">\n    <path d=\"M 49.633125 30.378468 \nL 69.163125 23.044952 \nL 88.693125 18.638339 \nL 108.223125 19.353804 \nL 127.753125 24.540924 \nL 147.283125 20.10179 \n\" clip-path=\"url(#pf67a14ea08)\" style=\"fill: none; stroke-dasharray: 9.6,2.4,1.5,2.4; stroke-dashoffset: 0; stroke: #2ca02c; stroke-width: 1.5\"/>\n   </g>\n   <g id=\"line2d_88\">\n    <path d=\"M 34.954394 13.866588 \nL 44.698573 90.490169 \nL 54.442752 104.297425 \nL 64.186931 112.700682 \nL 73.93111 117.322313 \nL 83.675289 118.55592 \nL 93.419468 123.397467 \nL 103.163647 123.58847 \nL 112.907826 126.529969 \nL 122.652006 127.652477 \nL 132.396185 130.199749 \nL 142.140364 130.354426 \nL 151.884543 133.468365 \nL 161.628722 132.131206 \n\" clip-path=\"url(#pf67a14ea08)\" style=\"fill: none; stroke: #1f77b4; stroke-width: 1.5; stroke-linecap: square\"/>\n   </g>\n   <g id=\"line2d_89\">\n    <path d=\"M 49.633125 81.29529 \nL 69.163125 98.082977 \nL 88.693125 108.883772 \nL 108.223125 109.086193 \nL 127.753125 96.380721 \nL 147.283125 107.233313 \nL 166.813125 116.54891 \n\" clip-path=\"url(#pf67a14ea08)\" style=\"fill: none; stroke-dasharray: 5.55,2.4; stroke-dashoffset: 0; stroke: #ff7f0e; stroke-width: 1.5\"/>\n   </g>\n   <g id=\"line2d_90\">\n    <path d=\"M 49.633125 30.378468 \nL 69.163125 23.044952 \nL 88.693125 18.638339 \nL 108.223125 19.353804 \nL 127.753125 24.540924 \nL 147.283125 20.10179 \nL 166.813125 15.743958 \n\" clip-path=\"url(#pf67a14ea08)\" style=\"fill: none; stroke-dasharray: 9.6,2.4,1.5,2.4; stroke-dashoffset: 0; stroke: #2ca02c; stroke-width: 1.5\"/>\n   </g>\n   <g id=\"line2d_91\">\n    <path d=\"M 34.954394 13.866588 \nL 44.698573 90.490169 \nL 54.442752 104.297425 \nL 64.186931 112.700682 \nL 73.93111 117.322313 \nL 83.675289 118.55592 \nL 93.419468 123.397467 \nL 103.163647 123.58847 \nL 112.907826 126.529969 \nL 122.652006 127.652477 \nL 132.396185 130.199749 \nL 142.140364 130.354426 \nL 151.884543 133.468365 \nL 161.628722 132.131206 \nL 171.372901 135.197991 \n\" clip-path=\"url(#pf67a14ea08)\" style=\"fill: none; stroke: #1f77b4; stroke-width: 1.5; stroke-linecap: square\"/>\n   </g>\n   <g id=\"line2d_92\">\n    <path d=\"M 49.633125 81.29529 \nL 69.163125 98.082977 \nL 88.693125 108.883772 \nL 108.223125 109.086193 \nL 127.753125 96.380721 \nL 147.283125 107.233313 \nL 166.813125 116.54891 \n\" clip-path=\"url(#pf67a14ea08)\" style=\"fill: none; stroke-dasharray: 5.55,2.4; stroke-dashoffset: 0; stroke: #ff7f0e; stroke-width: 1.5\"/>\n   </g>\n   <g id=\"line2d_93\">\n    <path d=\"M 49.633125 30.378468 \nL 69.163125 23.044952 \nL 88.693125 18.638339 \nL 108.223125 19.353804 \nL 127.753125 24.540924 \nL 147.283125 20.10179 \nL 166.813125 15.743958 \n\" clip-path=\"url(#pf67a14ea08)\" style=\"fill: none; stroke-dasharray: 9.6,2.4,1.5,2.4; stroke-dashoffset: 0; stroke: #2ca02c; stroke-width: 1.5\"/>\n   </g>\n   <g id=\"line2d_94\">\n    <path d=\"M 34.954394 13.866588 \nL 44.698573 90.490169 \nL 54.442752 104.297425 \nL 64.186931 112.700682 \nL 73.93111 117.322313 \nL 83.675289 118.55592 \nL 93.419468 123.397467 \nL 103.163647 123.58847 \nL 112.907826 126.529969 \nL 122.652006 127.652477 \nL 132.396185 130.199749 \nL 142.140364 130.354426 \nL 151.884543 133.468365 \nL 161.628722 132.131206 \nL 171.372901 135.197991 \nL 181.11708 134.303168 \n\" clip-path=\"url(#pf67a14ea08)\" style=\"fill: none; stroke: #1f77b4; stroke-width: 1.5; stroke-linecap: square\"/>\n   </g>\n   <g id=\"line2d_95\">\n    <path d=\"M 49.633125 81.29529 \nL 69.163125 98.082977 \nL 88.693125 108.883772 \nL 108.223125 109.086193 \nL 127.753125 96.380721 \nL 147.283125 107.233313 \nL 166.813125 116.54891 \n\" clip-path=\"url(#pf67a14ea08)\" style=\"fill: none; stroke-dasharray: 5.55,2.4; stroke-dashoffset: 0; stroke: #ff7f0e; stroke-width: 1.5\"/>\n   </g>\n   <g id=\"line2d_96\">\n    <path d=\"M 49.633125 30.378468 \nL 69.163125 23.044952 \nL 88.693125 18.638339 \nL 108.223125 19.353804 \nL 127.753125 24.540924 \nL 147.283125 20.10179 \nL 166.813125 15.743958 \n\" clip-path=\"url(#pf67a14ea08)\" style=\"fill: none; stroke-dasharray: 9.6,2.4,1.5,2.4; stroke-dashoffset: 0; stroke: #2ca02c; stroke-width: 1.5\"/>\n   </g>\n   <g id=\"line2d_97\">\n    <path d=\"M 34.954394 13.866588 \nL 44.698573 90.490169 \nL 54.442752 104.297425 \nL 64.186931 112.700682 \nL 73.93111 117.322313 \nL 83.675289 118.55592 \nL 93.419468 123.397467 \nL 103.163647 123.58847 \nL 112.907826 126.529969 \nL 122.652006 127.652477 \nL 132.396185 130.199749 \nL 142.140364 130.354426 \nL 151.884543 133.468365 \nL 161.628722 132.131206 \nL 171.372901 135.197991 \nL 181.11708 134.303168 \n\" clip-path=\"url(#pf67a14ea08)\" style=\"fill: none; stroke: #1f77b4; stroke-width: 1.5; stroke-linecap: square\"/>\n   </g>\n   <g id=\"line2d_98\">\n    <path d=\"M 49.633125 81.29529 \nL 69.163125 98.082977 \nL 88.693125 108.883772 \nL 108.223125 109.086193 \nL 127.753125 96.380721 \nL 147.283125 107.233313 \nL 166.813125 116.54891 \nL 186.343125 117.421968 \n\" clip-path=\"url(#pf67a14ea08)\" style=\"fill: none; stroke-dasharray: 5.55,2.4; stroke-dashoffset: 0; stroke: #ff7f0e; stroke-width: 1.5\"/>\n   </g>\n   <g id=\"line2d_99\">\n    <path d=\"M 49.633125 30.378468 \nL 69.163125 23.044952 \nL 88.693125 18.638339 \nL 108.223125 19.353804 \nL 127.753125 24.540924 \nL 147.283125 20.10179 \nL 166.813125 15.743958 \n\" clip-path=\"url(#pf67a14ea08)\" style=\"fill: none; stroke-dasharray: 9.6,2.4,1.5,2.4; stroke-dashoffset: 0; stroke: #2ca02c; stroke-width: 1.5\"/>\n   </g>\n   <g id=\"line2d_100\">\n    <path d=\"M 34.954394 13.866588 \nL 44.698573 90.490169 \nL 54.442752 104.297425 \nL 64.186931 112.700682 \nL 73.93111 117.322313 \nL 83.675289 118.55592 \nL 93.419468 123.397467 \nL 103.163647 123.58847 \nL 112.907826 126.529969 \nL 122.652006 127.652477 \nL 132.396185 130.199749 \nL 142.140364 130.354426 \nL 151.884543 133.468365 \nL 161.628722 132.131206 \nL 171.372901 135.197991 \nL 181.11708 134.303168 \n\" clip-path=\"url(#pf67a14ea08)\" style=\"fill: none; stroke: #1f77b4; stroke-width: 1.5; stroke-linecap: square\"/>\n   </g>\n   <g id=\"line2d_101\">\n    <path d=\"M 49.633125 81.29529 \nL 69.163125 98.082977 \nL 88.693125 108.883772 \nL 108.223125 109.086193 \nL 127.753125 96.380721 \nL 147.283125 107.233313 \nL 166.813125 116.54891 \nL 186.343125 117.421968 \n\" clip-path=\"url(#pf67a14ea08)\" style=\"fill: none; stroke-dasharray: 5.55,2.4; stroke-dashoffset: 0; stroke: #ff7f0e; stroke-width: 1.5\"/>\n   </g>\n   <g id=\"line2d_102\">\n    <path d=\"M 49.633125 30.378468 \nL 69.163125 23.044952 \nL 88.693125 18.638339 \nL 108.223125 19.353804 \nL 127.753125 24.540924 \nL 147.283125 20.10179 \nL 166.813125 15.743958 \nL 186.343125 15.906564 \n\" clip-path=\"url(#pf67a14ea08)\" style=\"fill: none; stroke-dasharray: 9.6,2.4,1.5,2.4; stroke-dashoffset: 0; stroke: #2ca02c; stroke-width: 1.5\"/>\n   </g>\n   <g id=\"line2d_103\">\n    <path d=\"M 34.954394 13.866588 \nL 44.698573 90.490169 \nL 54.442752 104.297425 \nL 64.186931 112.700682 \nL 73.93111 117.322313 \nL 83.675289 118.55592 \nL 93.419468 123.397467 \nL 103.163647 123.58847 \nL 112.907826 126.529969 \nL 122.652006 127.652477 \nL 132.396185 130.199749 \nL 142.140364 130.354426 \nL 151.884543 133.468365 \nL 161.628722 132.131206 \nL 171.372901 135.197991 \nL 181.11708 134.303168 \nL 190.861259 136.619162 \n\" clip-path=\"url(#pf67a14ea08)\" style=\"fill: none; stroke: #1f77b4; stroke-width: 1.5; stroke-linecap: square\"/>\n   </g>\n   <g id=\"line2d_104\">\n    <path d=\"M 49.633125 81.29529 \nL 69.163125 98.082977 \nL 88.693125 108.883772 \nL 108.223125 109.086193 \nL 127.753125 96.380721 \nL 147.283125 107.233313 \nL 166.813125 116.54891 \nL 186.343125 117.421968 \n\" clip-path=\"url(#pf67a14ea08)\" style=\"fill: none; stroke-dasharray: 5.55,2.4; stroke-dashoffset: 0; stroke: #ff7f0e; stroke-width: 1.5\"/>\n   </g>\n   <g id=\"line2d_105\">\n    <path d=\"M 49.633125 30.378468 \nL 69.163125 23.044952 \nL 88.693125 18.638339 \nL 108.223125 19.353804 \nL 127.753125 24.540924 \nL 147.283125 20.10179 \nL 166.813125 15.743958 \nL 186.343125 15.906564 \n\" clip-path=\"url(#pf67a14ea08)\" style=\"fill: none; stroke-dasharray: 9.6,2.4,1.5,2.4; stroke-dashoffset: 0; stroke: #2ca02c; stroke-width: 1.5\"/>\n   </g>\n   <g id=\"line2d_106\">\n    <path d=\"M 34.954394 13.866588 \nL 44.698573 90.490169 \nL 54.442752 104.297425 \nL 64.186931 112.700682 \nL 73.93111 117.322313 \nL 83.675289 118.55592 \nL 93.419468 123.397467 \nL 103.163647 123.58847 \nL 112.907826 126.529969 \nL 122.652006 127.652477 \nL 132.396185 130.199749 \nL 142.140364 130.354426 \nL 151.884543 133.468365 \nL 161.628722 132.131206 \nL 171.372901 135.197991 \nL 181.11708 134.303168 \nL 190.861259 136.619162 \nL 200.605438 137.247172 \n\" clip-path=\"url(#pf67a14ea08)\" style=\"fill: none; stroke: #1f77b4; stroke-width: 1.5; stroke-linecap: square\"/>\n   </g>\n   <g id=\"line2d_107\">\n    <path d=\"M 49.633125 81.29529 \nL 69.163125 98.082977 \nL 88.693125 108.883772 \nL 108.223125 109.086193 \nL 127.753125 96.380721 \nL 147.283125 107.233313 \nL 166.813125 116.54891 \nL 186.343125 117.421968 \n\" clip-path=\"url(#pf67a14ea08)\" style=\"fill: none; stroke-dasharray: 5.55,2.4; stroke-dashoffset: 0; stroke: #ff7f0e; stroke-width: 1.5\"/>\n   </g>\n   <g id=\"line2d_108\">\n    <path d=\"M 49.633125 30.378468 \nL 69.163125 23.044952 \nL 88.693125 18.638339 \nL 108.223125 19.353804 \nL 127.753125 24.540924 \nL 147.283125 20.10179 \nL 166.813125 15.743958 \nL 186.343125 15.906564 \n\" clip-path=\"url(#pf67a14ea08)\" style=\"fill: none; stroke-dasharray: 9.6,2.4,1.5,2.4; stroke-dashoffset: 0; stroke: #2ca02c; stroke-width: 1.5\"/>\n   </g>\n   <g id=\"line2d_109\">\n    <path d=\"M 34.954394 13.866588 \nL 44.698573 90.490169 \nL 54.442752 104.297425 \nL 64.186931 112.700682 \nL 73.93111 117.322313 \nL 83.675289 118.55592 \nL 93.419468 123.397467 \nL 103.163647 123.58847 \nL 112.907826 126.529969 \nL 122.652006 127.652477 \nL 132.396185 130.199749 \nL 142.140364 130.354426 \nL 151.884543 133.468365 \nL 161.628722 132.131206 \nL 171.372901 135.197991 \nL 181.11708 134.303168 \nL 190.861259 136.619162 \nL 200.605438 137.247172 \n\" clip-path=\"url(#pf67a14ea08)\" style=\"fill: none; stroke: #1f77b4; stroke-width: 1.5; stroke-linecap: square\"/>\n   </g>\n   <g id=\"line2d_110\">\n    <path d=\"M 49.633125 81.29529 \nL 69.163125 98.082977 \nL 88.693125 108.883772 \nL 108.223125 109.086193 \nL 127.753125 96.380721 \nL 147.283125 107.233313 \nL 166.813125 116.54891 \nL 186.343125 117.421968 \nL 205.873125 119.129192 \n\" clip-path=\"url(#pf67a14ea08)\" style=\"fill: none; stroke-dasharray: 5.55,2.4; stroke-dashoffset: 0; stroke: #ff7f0e; stroke-width: 1.5\"/>\n   </g>\n   <g id=\"line2d_111\">\n    <path d=\"M 49.633125 30.378468 \nL 69.163125 23.044952 \nL 88.693125 18.638339 \nL 108.223125 19.353804 \nL 127.753125 24.540924 \nL 147.283125 20.10179 \nL 166.813125 15.743958 \nL 186.343125 15.906564 \n\" clip-path=\"url(#pf67a14ea08)\" style=\"fill: none; stroke-dasharray: 9.6,2.4,1.5,2.4; stroke-dashoffset: 0; stroke: #2ca02c; stroke-width: 1.5\"/>\n   </g>\n   <g id=\"line2d_112\">\n    <path d=\"M 34.954394 13.866588 \nL 44.698573 90.490169 \nL 54.442752 104.297425 \nL 64.186931 112.700682 \nL 73.93111 117.322313 \nL 83.675289 118.55592 \nL 93.419468 123.397467 \nL 103.163647 123.58847 \nL 112.907826 126.529969 \nL 122.652006 127.652477 \nL 132.396185 130.199749 \nL 142.140364 130.354426 \nL 151.884543 133.468365 \nL 161.628722 132.131206 \nL 171.372901 135.197991 \nL 181.11708 134.303168 \nL 190.861259 136.619162 \nL 200.605438 137.247172 \n\" clip-path=\"url(#pf67a14ea08)\" style=\"fill: none; stroke: #1f77b4; stroke-width: 1.5; stroke-linecap: square\"/>\n   </g>\n   <g id=\"line2d_113\">\n    <path d=\"M 49.633125 81.29529 \nL 69.163125 98.082977 \nL 88.693125 108.883772 \nL 108.223125 109.086193 \nL 127.753125 96.380721 \nL 147.283125 107.233313 \nL 166.813125 116.54891 \nL 186.343125 117.421968 \nL 205.873125 119.129192 \n\" clip-path=\"url(#pf67a14ea08)\" style=\"fill: none; stroke-dasharray: 5.55,2.4; stroke-dashoffset: 0; stroke: #ff7f0e; stroke-width: 1.5\"/>\n   </g>\n   <g id=\"line2d_114\">\n    <path d=\"M 49.633125 30.378468 \nL 69.163125 23.044952 \nL 88.693125 18.638339 \nL 108.223125 19.353804 \nL 127.753125 24.540924 \nL 147.283125 20.10179 \nL 166.813125 15.743958 \nL 186.343125 15.906564 \nL 205.873125 15.581352 \n\" clip-path=\"url(#pf67a14ea08)\" style=\"fill: none; stroke-dasharray: 9.6,2.4,1.5,2.4; stroke-dashoffset: 0; stroke: #2ca02c; stroke-width: 1.5\"/>\n   </g>\n   <g id=\"line2d_115\">\n    <path d=\"M 34.954394 13.866588 \nL 44.698573 90.490169 \nL 54.442752 104.297425 \nL 64.186931 112.700682 \nL 73.93111 117.322313 \nL 83.675289 118.55592 \nL 93.419468 123.397467 \nL 103.163647 123.58847 \nL 112.907826 126.529969 \nL 122.652006 127.652477 \nL 132.396185 130.199749 \nL 142.140364 130.354426 \nL 151.884543 133.468365 \nL 161.628722 132.131206 \nL 171.372901 135.197991 \nL 181.11708 134.303168 \nL 190.861259 136.619162 \nL 200.605438 137.247172 \nL 210.349618 139.5 \n\" clip-path=\"url(#pf67a14ea08)\" style=\"fill: none; stroke: #1f77b4; stroke-width: 1.5; stroke-linecap: square\"/>\n   </g>\n   <g id=\"line2d_116\">\n    <path d=\"M 49.633125 81.29529 \nL 69.163125 98.082977 \nL 88.693125 108.883772 \nL 108.223125 109.086193 \nL 127.753125 96.380721 \nL 147.283125 107.233313 \nL 166.813125 116.54891 \nL 186.343125 117.421968 \nL 205.873125 119.129192 \n\" clip-path=\"url(#pf67a14ea08)\" style=\"fill: none; stroke-dasharray: 5.55,2.4; stroke-dashoffset: 0; stroke: #ff7f0e; stroke-width: 1.5\"/>\n   </g>\n   <g id=\"line2d_117\">\n    <path d=\"M 49.633125 30.378468 \nL 69.163125 23.044952 \nL 88.693125 18.638339 \nL 108.223125 19.353804 \nL 127.753125 24.540924 \nL 147.283125 20.10179 \nL 166.813125 15.743958 \nL 186.343125 15.906564 \nL 205.873125 15.581352 \n\" clip-path=\"url(#pf67a14ea08)\" style=\"fill: none; stroke-dasharray: 9.6,2.4,1.5,2.4; stroke-dashoffset: 0; stroke: #2ca02c; stroke-width: 1.5\"/>\n   </g>\n   <g id=\"line2d_118\">\n    <path d=\"M 34.954394 13.866588 \nL 44.698573 90.490169 \nL 54.442752 104.297425 \nL 64.186931 112.700682 \nL 73.93111 117.322313 \nL 83.675289 118.55592 \nL 93.419468 123.397467 \nL 103.163647 123.58847 \nL 112.907826 126.529969 \nL 122.652006 127.652477 \nL 132.396185 130.199749 \nL 142.140364 130.354426 \nL 151.884543 133.468365 \nL 161.628722 132.131206 \nL 171.372901 135.197991 \nL 181.11708 134.303168 \nL 190.861259 136.619162 \nL 200.605438 137.247172 \nL 210.349618 139.5 \nL 220.093797 138.878562 \n\" clip-path=\"url(#pf67a14ea08)\" style=\"fill: none; stroke: #1f77b4; stroke-width: 1.5; stroke-linecap: square\"/>\n   </g>\n   <g id=\"line2d_119\">\n    <path d=\"M 49.633125 81.29529 \nL 69.163125 98.082977 \nL 88.693125 108.883772 \nL 108.223125 109.086193 \nL 127.753125 96.380721 \nL 147.283125 107.233313 \nL 166.813125 116.54891 \nL 186.343125 117.421968 \nL 205.873125 119.129192 \n\" clip-path=\"url(#pf67a14ea08)\" style=\"fill: none; stroke-dasharray: 5.55,2.4; stroke-dashoffset: 0; stroke: #ff7f0e; stroke-width: 1.5\"/>\n   </g>\n   <g id=\"line2d_120\">\n    <path d=\"M 49.633125 30.378468 \nL 69.163125 23.044952 \nL 88.693125 18.638339 \nL 108.223125 19.353804 \nL 127.753125 24.540924 \nL 147.283125 20.10179 \nL 166.813125 15.743958 \nL 186.343125 15.906564 \nL 205.873125 15.581352 \n\" clip-path=\"url(#pf67a14ea08)\" style=\"fill: none; stroke-dasharray: 9.6,2.4,1.5,2.4; stroke-dashoffset: 0; stroke: #2ca02c; stroke-width: 1.5\"/>\n   </g>\n   <g id=\"line2d_121\">\n    <path d=\"M 34.954394 13.866588 \nL 44.698573 90.490169 \nL 54.442752 104.297425 \nL 64.186931 112.700682 \nL 73.93111 117.322313 \nL 83.675289 118.55592 \nL 93.419468 123.397467 \nL 103.163647 123.58847 \nL 112.907826 126.529969 \nL 122.652006 127.652477 \nL 132.396185 130.199749 \nL 142.140364 130.354426 \nL 151.884543 133.468365 \nL 161.628722 132.131206 \nL 171.372901 135.197991 \nL 181.11708 134.303168 \nL 190.861259 136.619162 \nL 200.605438 137.247172 \nL 210.349618 139.5 \nL 220.093797 138.878562 \n\" clip-path=\"url(#pf67a14ea08)\" style=\"fill: none; stroke: #1f77b4; stroke-width: 1.5; stroke-linecap: square\"/>\n   </g>\n   <g id=\"line2d_122\">\n    <path d=\"M 49.633125 81.29529 \nL 69.163125 98.082977 \nL 88.693125 108.883772 \nL 108.223125 109.086193 \nL 127.753125 96.380721 \nL 147.283125 107.233313 \nL 166.813125 116.54891 \nL 186.343125 117.421968 \nL 205.873125 119.129192 \nL 225.403125 122.742498 \n\" clip-path=\"url(#pf67a14ea08)\" style=\"fill: none; stroke-dasharray: 5.55,2.4; stroke-dashoffset: 0; stroke: #ff7f0e; stroke-width: 1.5\"/>\n   </g>\n   <g id=\"line2d_123\">\n    <path d=\"M 49.633125 30.378468 \nL 69.163125 23.044952 \nL 88.693125 18.638339 \nL 108.223125 19.353804 \nL 127.753125 24.540924 \nL 147.283125 20.10179 \nL 166.813125 15.743958 \nL 186.343125 15.906564 \nL 205.873125 15.581352 \n\" clip-path=\"url(#pf67a14ea08)\" style=\"fill: none; stroke-dasharray: 9.6,2.4,1.5,2.4; stroke-dashoffset: 0; stroke: #2ca02c; stroke-width: 1.5\"/>\n   </g>\n   <g id=\"line2d_124\">\n    <path d=\"M 34.954394 13.866588 \nL 44.698573 90.490169 \nL 54.442752 104.297425 \nL 64.186931 112.700682 \nL 73.93111 117.322313 \nL 83.675289 118.55592 \nL 93.419468 123.397467 \nL 103.163647 123.58847 \nL 112.907826 126.529969 \nL 122.652006 127.652477 \nL 132.396185 130.199749 \nL 142.140364 130.354426 \nL 151.884543 133.468365 \nL 161.628722 132.131206 \nL 171.372901 135.197991 \nL 181.11708 134.303168 \nL 190.861259 136.619162 \nL 200.605438 137.247172 \nL 210.349618 139.5 \nL 220.093797 138.878562 \n\" clip-path=\"url(#pf67a14ea08)\" style=\"fill: none; stroke: #1f77b4; stroke-width: 1.5; stroke-linecap: square\"/>\n   </g>\n   <g id=\"line2d_125\">\n    <path d=\"M 49.633125 81.29529 \nL 69.163125 98.082977 \nL 88.693125 108.883772 \nL 108.223125 109.086193 \nL 127.753125 96.380721 \nL 147.283125 107.233313 \nL 166.813125 116.54891 \nL 186.343125 117.421968 \nL 205.873125 119.129192 \nL 225.403125 122.742498 \n\" clip-path=\"url(#pf67a14ea08)\" style=\"fill: none; stroke-dasharray: 5.55,2.4; stroke-dashoffset: 0; stroke: #ff7f0e; stroke-width: 1.5\"/>\n   </g>\n   <g id=\"line2d_126\">\n    <path d=\"M 49.633125 30.378468 \nL 69.163125 23.044952 \nL 88.693125 18.638339 \nL 108.223125 19.353804 \nL 127.753125 24.540924 \nL 147.283125 20.10179 \nL 166.813125 15.743958 \nL 186.343125 15.906564 \nL 205.873125 15.581352 \nL 225.403125 13.5 \n\" clip-path=\"url(#pf67a14ea08)\" style=\"fill: none; stroke-dasharray: 9.6,2.4,1.5,2.4; stroke-dashoffset: 0; stroke: #2ca02c; stroke-width: 1.5\"/>\n   </g>\n   <g id=\"patch_3\">\n    <path d=\"M 30.103125 145.8 \nL 30.103125 7.2 \n\" style=\"fill: none; stroke: #000000; stroke-width: 0.8; stroke-linejoin: miter; stroke-linecap: square\"/>\n   </g>\n   <g id=\"patch_4\">\n    <path d=\"M 225.403125 145.8 \nL 225.403125 7.2 \n\" style=\"fill: none; stroke: #000000; stroke-width: 0.8; stroke-linejoin: miter; stroke-linecap: square\"/>\n   </g>\n   <g id=\"patch_5\">\n    <path d=\"M 30.103125 145.8 \nL 225.403125 145.8 \n\" style=\"fill: none; stroke: #000000; stroke-width: 0.8; stroke-linejoin: miter; stroke-linecap: square\"/>\n   </g>\n   <g id=\"patch_6\">\n    <path d=\"M 30.103125 7.2 \nL 225.403125 7.2 \n\" style=\"fill: none; stroke: #000000; stroke-width: 0.8; stroke-linejoin: miter; stroke-linecap: square\"/>\n   </g>\n   <g id=\"legend_1\">\n    <g id=\"patch_7\">\n     <path d=\"M 138.8125 100.434375 \nL 218.403125 100.434375 \nQ 220.403125 100.434375 220.403125 98.434375 \nL 220.403125 54.565625 \nQ 220.403125 52.565625 218.403125 52.565625 \nL 138.8125 52.565625 \nQ 136.8125 52.565625 136.8125 54.565625 \nL 136.8125 98.434375 \nQ 136.8125 100.434375 138.8125 100.434375 \nz\n\" style=\"fill: #ffffff; opacity: 0.8; stroke: #cccccc; stroke-linejoin: miter\"/>\n    </g>\n    <g id=\"line2d_127\">\n     <path d=\"M 140.8125 60.664063 \nL 150.8125 60.664063 \nL 160.8125 60.664063 \n\" style=\"fill: none; stroke: #1f77b4; stroke-width: 1.5; stroke-linecap: square\"/>\n    </g>\n    <g id=\"text_12\">\n     <!-- train_loss -->\n     <g transform=\"translate(168.8125 64.164063) scale(0.1 -0.1)\">\n      <defs>\n       <path id=\"DejaVuSans-74\" d=\"M 1172 4494 \nL 1172 3500 \nL 2356 3500 \nL 2356 3053 \nL 1172 3053 \nL 1172 1153 \nQ 1172 725 1289 603 \nQ 1406 481 1766 481 \nL 2356 481 \nL 2356 0 \nL 1766 0 \nQ 1100 0 847 248 \nQ 594 497 594 1153 \nL 594 3053 \nL 172 3053 \nL 172 3500 \nL 594 3500 \nL 594 4494 \nL 1172 4494 \nz\n\" transform=\"scale(0.015625)\"/>\n       <path id=\"DejaVuSans-72\" d=\"M 2631 2963 \nQ 2534 3019 2420 3045 \nQ 2306 3072 2169 3072 \nQ 1681 3072 1420 2755 \nQ 1159 2438 1159 1844 \nL 1159 0 \nL 581 0 \nL 581 3500 \nL 1159 3500 \nL 1159 2956 \nQ 1341 3275 1631 3429 \nQ 1922 3584 2338 3584 \nQ 2397 3584 2469 3576 \nQ 2541 3569 2628 3553 \nL 2631 2963 \nz\n\" transform=\"scale(0.015625)\"/>\n       <path id=\"DejaVuSans-61\" d=\"M 2194 1759 \nQ 1497 1759 1228 1600 \nQ 959 1441 959 1056 \nQ 959 750 1161 570 \nQ 1363 391 1709 391 \nQ 2188 391 2477 730 \nQ 2766 1069 2766 1631 \nL 2766 1759 \nL 2194 1759 \nz\nM 3341 1997 \nL 3341 0 \nL 2766 0 \nL 2766 531 \nQ 2569 213 2275 61 \nQ 1981 -91 1556 -91 \nQ 1019 -91 701 211 \nQ 384 513 384 1019 \nQ 384 1609 779 1909 \nQ 1175 2209 1959 2209 \nL 2766 2209 \nL 2766 2266 \nQ 2766 2663 2505 2880 \nQ 2244 3097 1772 3097 \nQ 1472 3097 1187 3025 \nQ 903 2953 641 2809 \nL 641 3341 \nQ 956 3463 1253 3523 \nQ 1550 3584 1831 3584 \nQ 2591 3584 2966 3190 \nQ 3341 2797 3341 1997 \nz\n\" transform=\"scale(0.015625)\"/>\n       <path id=\"DejaVuSans-69\" d=\"M 603 3500 \nL 1178 3500 \nL 1178 0 \nL 603 0 \nL 603 3500 \nz\nM 603 4863 \nL 1178 4863 \nL 1178 4134 \nL 603 4134 \nL 603 4863 \nz\n\" transform=\"scale(0.015625)\"/>\n       <path id=\"DejaVuSans-6e\" d=\"M 3513 2113 \nL 3513 0 \nL 2938 0 \nL 2938 2094 \nQ 2938 2591 2744 2837 \nQ 2550 3084 2163 3084 \nQ 1697 3084 1428 2787 \nQ 1159 2491 1159 1978 \nL 1159 0 \nL 581 0 \nL 581 3500 \nL 1159 3500 \nL 1159 2956 \nQ 1366 3272 1645 3428 \nQ 1925 3584 2291 3584 \nQ 2894 3584 3203 3211 \nQ 3513 2838 3513 2113 \nz\n\" transform=\"scale(0.015625)\"/>\n       <path id=\"DejaVuSans-5f\" d=\"M 3263 -1063 \nL 3263 -1509 \nL -63 -1509 \nL -63 -1063 \nL 3263 -1063 \nz\n\" transform=\"scale(0.015625)\"/>\n       <path id=\"DejaVuSans-6c\" d=\"M 603 4863 \nL 1178 4863 \nL 1178 0 \nL 603 0 \nL 603 4863 \nz\n\" transform=\"scale(0.015625)\"/>\n       <path id=\"DejaVuSans-73\" d=\"M 2834 3397 \nL 2834 2853 \nQ 2591 2978 2328 3040 \nQ 2066 3103 1784 3103 \nQ 1356 3103 1142 2972 \nQ 928 2841 928 2578 \nQ 928 2378 1081 2264 \nQ 1234 2150 1697 2047 \nL 1894 2003 \nQ 2506 1872 2764 1633 \nQ 3022 1394 3022 966 \nQ 3022 478 2636 193 \nQ 2250 -91 1575 -91 \nQ 1294 -91 989 -36 \nQ 684 19 347 128 \nL 347 722 \nQ 666 556 975 473 \nQ 1284 391 1588 391 \nQ 1994 391 2212 530 \nQ 2431 669 2431 922 \nQ 2431 1156 2273 1281 \nQ 2116 1406 1581 1522 \nL 1381 1569 \nQ 847 1681 609 1914 \nQ 372 2147 372 2553 \nQ 372 3047 722 3315 \nQ 1072 3584 1716 3584 \nQ 2034 3584 2315 3537 \nQ 2597 3491 2834 3397 \nz\n\" transform=\"scale(0.015625)\"/>\n      </defs>\n      <use xlink:href=\"#DejaVuSans-74\"/>\n      <use xlink:href=\"#DejaVuSans-72\" x=\"39.208984\"/>\n      <use xlink:href=\"#DejaVuSans-61\" x=\"80.322266\"/>\n      <use xlink:href=\"#DejaVuSans-69\" x=\"141.601562\"/>\n      <use xlink:href=\"#DejaVuSans-6e\" x=\"169.384766\"/>\n      <use xlink:href=\"#DejaVuSans-5f\" x=\"232.763672\"/>\n      <use xlink:href=\"#DejaVuSans-6c\" x=\"282.763672\"/>\n      <use xlink:href=\"#DejaVuSans-6f\" x=\"310.546875\"/>\n      <use xlink:href=\"#DejaVuSans-73\" x=\"371.728516\"/>\n      <use xlink:href=\"#DejaVuSans-73\" x=\"423.828125\"/>\n     </g>\n    </g>\n    <g id=\"line2d_128\">\n     <path d=\"M 140.8125 75.620313 \nL 150.8125 75.620313 \nL 160.8125 75.620313 \n\" style=\"fill: none; stroke-dasharray: 5.55,2.4; stroke-dashoffset: 0; stroke: #ff7f0e; stroke-width: 1.5\"/>\n    </g>\n    <g id=\"text_13\">\n     <!-- val_loss -->\n     <g transform=\"translate(168.8125 79.120313) scale(0.1 -0.1)\">\n      <defs>\n       <path id=\"DejaVuSans-76\" d=\"M 191 3500 \nL 800 3500 \nL 1894 563 \nL 2988 3500 \nL 3597 3500 \nL 2284 0 \nL 1503 0 \nL 191 3500 \nz\n\" transform=\"scale(0.015625)\"/>\n      </defs>\n      <use xlink:href=\"#DejaVuSans-76\"/>\n      <use xlink:href=\"#DejaVuSans-61\" x=\"59.179688\"/>\n      <use xlink:href=\"#DejaVuSans-6c\" x=\"120.458984\"/>\n      <use xlink:href=\"#DejaVuSans-5f\" x=\"148.242188\"/>\n      <use xlink:href=\"#DejaVuSans-6c\" x=\"198.242188\"/>\n      <use xlink:href=\"#DejaVuSans-6f\" x=\"226.025391\"/>\n      <use xlink:href=\"#DejaVuSans-73\" x=\"287.207031\"/>\n      <use xlink:href=\"#DejaVuSans-73\" x=\"339.306641\"/>\n     </g>\n    </g>\n    <g id=\"line2d_129\">\n     <path d=\"M 140.8125 90.576563 \nL 150.8125 90.576563 \nL 160.8125 90.576563 \n\" style=\"fill: none; stroke-dasharray: 9.6,2.4,1.5,2.4; stroke-dashoffset: 0; stroke: #2ca02c; stroke-width: 1.5\"/>\n    </g>\n    <g id=\"text_14\">\n     <!-- val_acc -->\n     <g transform=\"translate(168.8125 94.076563) scale(0.1 -0.1)\">\n      <use xlink:href=\"#DejaVuSans-76\"/>\n      <use xlink:href=\"#DejaVuSans-61\" x=\"59.179688\"/>\n      <use xlink:href=\"#DejaVuSans-6c\" x=\"120.458984\"/>\n      <use xlink:href=\"#DejaVuSans-5f\" x=\"148.242188\"/>\n      <use xlink:href=\"#DejaVuSans-61\" x=\"198.242188\"/>\n      <use xlink:href=\"#DejaVuSans-63\" x=\"259.521484\"/>\n      <use xlink:href=\"#DejaVuSans-63\" x=\"314.501953\"/>\n     </g>\n    </g>\n   </g>\n  </g>\n </g>\n <defs>\n  <clipPath id=\"pf67a14ea08\">\n   <rect x=\"30.103125\" y=\"7.2\" width=\"195.3\" height=\"138.6\"/>\n  </clipPath>\n </defs>\n</svg>\n"
          },
          "metadata": {}
        }
      ]
    },
    {
      "cell_type": "markdown",
      "source": [
        "## Summary and Discussion\n",
        "\n",
        "The main components that comprise DenseNet are dense blocks and transition layers. For the latter, we need to keep the dimensionality under control when composing the network by adding transition layers that shrink the number of channels again.\n",
        "In terms of cross-layer connections, in contrast to ResNet, where inputs and outputs are added together, DenseNet concatenates inputs and outputs on the channel dimension.\n",
        "Although these concatenation operations\n",
        "reuse features to achieve computational efficiency,\n",
        "unfortunately they lead to heavy GPU memory consumption.\n",
        "As a result,\n",
        "applying DenseNet may require more memory-efficient implementations that may increase training time :cite:`pleiss2017memory`.\n",
        "\n",
        "\n",
        "## Exercises\n",
        "\n",
        "1. Why do we use average pooling rather than max-pooling in the transition layer?\n",
        "2. One of the advantages mentioned in the DenseNet paper is that its model parameters are smaller than those of ResNet. Why is this the case?\n",
        "3. One problem for which DenseNet has been criticized is its high memory consumption.\n",
        "    1. Is this really the case? Try to change the input shape to $224\\times 224$ to compare the actual GPU memory consumption empirically.\n",
        "    2. Can you think of an alternative means of reducing the memory consumption? How would you need to change the framework?\n",
        "4. Implement the various DenseNet versions presented in Table 1 of the DenseNet paper :cite:`Huang.Liu.Van-Der-Maaten.ea.2017`.\n",
        "5. Design an MLP-based model by applying the DenseNet idea. Apply it to the housing price prediction task in :numref:`sec_kaggle_house`.\n"
      ],
      "metadata": {
        "id": "wOQbma-nZSOn"
      },
      "id": "wOQbma-nZSOn"
    },
    {
      "cell_type": "markdown",
      "source": [
        "## **Answer Exercise**\n",
        "\n",
        "**1. Mengapa kita menggunakan average pooling daripada max-pooling di transition layer?**\n",
        "\n",
        "*   *Average pooling* digunakan di transition layer DenseNet untuk secara halus mengurangi dimensi fitur dan menjaga informasi global, karena average pooling mempertimbangkan kontribusi semua nilai dalam jendela pool. Sebaliknya, *max-pooling* hanya mempertahankan nilai maksimum, yang bisa menyebabkan hilangnya informasi yang lebih besar dalam jaringan yang sangat dalam seperti DenseNet, di mana setiap fitur berperan penting.\n",
        "\n",
        "**2. Salah satu keunggulan yang disebutkan dalam makalah DenseNet adalah bahwa parameter modelnya lebih kecil daripada ResNet. Mengapa demikian?**\n",
        "\n",
        "*   Parameter DenseNet lebih kecil karena koneksi antar lapisan dalam DenseNet dilakukan dengan penggabungan (*concatenation*) daripada penjumlahan seperti di ResNet. Hal ini memungkinkan setiap lapisan menggunakan kembali semua fitur dari lapisan sebelumnya tanpa perlu menambahkan lebih banyak parameter baru di setiap lapisan. Dengan kata lain, DenseNet lebih efisien dalam menggunakan parameter dengan menghindari penambahan bobot baru untuk setiap koneksi residual.\n",
        "\n",
        "**3.  Salah satu masalah yang dikritik dari DenseNet adalah konsumsi memorinya yang tinggi.**\n",
        "\n",
        "1. Apakah ini benar-benar masalah? Cobalah untuk mengubah bentuk input menjadi $224\\times 224$ untuk membandingkan konsumsi memori GPU secara empiris.\n",
        "\n",
        "  * Ya, konsumsi memori yang tinggi adalah masalah nyata di DenseNet, terutama pada resolusi input yang lebih besar seperti $224 \\times 224$. Saat input menjadi lebih besar, concatenation dari fitur di setiap blok menyebabkan memori GPU semakin terbebani karena setiap lapisan harus menyimpan fitur dari semua lapisan sebelumnya.\n",
        "\n",
        "2. Bisakah Anda memikirkan cara alternatif untuk mengurangi konsumsi memori? Bagaimana Anda perlu mengubah frameworknya?\n",
        "  * Salah satu cara untuk mengurangi konsumsi memori adalah dengan menggunakan teknik seperti memory-efficient backpropagation yang menghitung ulang beberapa aktivasi selama pelatihan alih-alih menyimpannya di memori. Ini dapat dilakukan dengan mengubah framework agar menggunakan strategi seperti checkpointing, yang mengurangi jumlah memori yang diperlukan pada setiap iterasi tetapi mungkin meningkatkan waktu pelatihan.\n",
        "\n",
        "**4. Implementasikan berbagai versi DenseNet yang disajikan dalam Tabel 1 makalah DenseNet :cite:`Huang.Liu.Van-Der-Maaten.ea.2017`.**\n",
        "\n",
        "* Implementasi ini memerlukan pembuatan beberapa arsitektur DenseNet, seperti DenseNet-121, DenseNet-169, dan DenseNet-201, sesuai dengan jumlah blok dan kanal yang ditentukan dalam Tabel 1 dari makalah tersebut. Setiap versi menggunakan jumlah blok yang berbeda, yang menghasilkan perbedaan dalam jumlah lapisan dan parameter yang digunakan.\n",
        "\n",
        "**5. Rancang model berbasis MLP dengan menerapkan ide DenseNet. Terapkan pada tugas prediksi harga rumah di :numref:`sec_kaggle_house`.**\n",
        "\n",
        "* Untuk menerapkan ide DenseNet dalam model MLP, kita dapat menggabungkan keluaran dari setiap lapisan di MLP ke lapisan berikutnya, sama seperti DenseNet menggunakan concatenation. Setiap lapisan dalam MLP akan menerima input dari semua lapisan sebelumnya, sehingga memungkinkan model untuk menggunakan kembali fitur yang sudah dihitung. Implementasi ini dapat diuji pada tugas prediksi harga rumah dengan dataset Kaggle, dengan memodifikasi arsitektur MLP biasa menjadi model *dense-connected*.\n",
        "\n",
        "\n",
        "\n",
        "\n",
        "\n"
      ],
      "metadata": {
        "id": "ukPB2z64r-aY"
      },
      "id": "ukPB2z64r-aY"
    },
    {
      "cell_type": "markdown",
      "source": [
        "#8.8 Designing Convolution Network Architectures\n",
        ":label:`sec_cnn-design`\n",
        "\n",
        "The previous sections have taken us on a tour of modern network design for computer vision. Common to all the work we covered was that it greatly relied on the intuition of scientists. Many of the architectures are heavily informed by human creativity and to a much lesser extent by systematic exploration of the design space that deep networks offer. Nonetheless, this *network engineering* approach has been tremendously successful.\n",
        "\n",
        "Ever since AlexNet (:numref:`sec_alexnet`)\n",
        "beat conventional computer vision models on ImageNet,\n",
        "it has become popular to construct very deep networks\n",
        "by stacking blocks of convolutions, all designed according to the same pattern.\n",
        "In particular, $3 \\times 3$ convolutions were\n",
        "popularized by VGG networks (:numref:`sec_vgg`).\n",
        "NiN (:numref:`sec_nin`) showed that even $1 \\times 1$ convolutions could\n",
        "be beneficial by adding local nonlinearities.\n",
        "Moreover, NiN solved the problem of aggregating information at the head of a network\n",
        "by aggregating across all locations.\n",
        "GoogLeNet (:numref:`sec_googlenet`) added multiple branches of different convolution width,\n",
        "combining the advantages of VGG and NiN in its Inception block.\n",
        "ResNets (:numref:`sec_resnet`)\n",
        "changed the inductive bias towards the identity mapping (from $f(x) = 0$). This allowed for very deep networks. Almost a decade later, the ResNet design is still popular, a testament to its design. Lastly, ResNeXt (:numref:`subsec_resnext`) added grouped convolutions, offering a better trade-off between parameters and computation. A precursor to Transformers for vision, the Squeeze-and-Excitation Networks (SENets) allow for efficient information transfer between locations\n",
        ":cite:`Hu.Shen.Sun.2018`. This was accomplished by computing a per-channel global attention function.\n",
        "\n",
        "Up to now we have omitted networks obtained via *neural architecture search* (NAS) :cite:`zoph2016neural,liu2018darts`. We chose to do so since their cost is usually enormous, relying on brute-force search, genetic algorithms, reinforcement learning, or some other form of hyperparameter optimization. Given a fixed search space,\n",
        "NAS uses a search strategy to automatically select\n",
        "an architecture based on the returned performance estimation.\n",
        "The outcome of NAS\n",
        "is a single network instance. EfficientNets are a notable outcome of this search :cite:`tan2019efficientnet`.\n",
        "\n",
        "In the following we discuss an idea that is quite different to the quest for the *single best network*. It is computationally relatively inexpensive, it leads to scientific insights on the way, and it is quite effective in terms of the quality of outcomes. Let's review the strategy by :citet:`Radosavovic.Kosaraju.Girshick.ea.2020` to *design network design spaces*. The strategy combines the strength of manual design and NAS. It accomplishes this by operating on *distributions of networks* and optimizing the distributions in a way to obtain good performance for entire families of networks. The outcome of it are *RegNets*, specifically RegNetX and RegNetY, plus a range of guiding principles for the design of performant CNNs.\n"
      ],
      "metadata": {
        "id": "Fbl5Y_hRZWFx"
      },
      "id": "Fbl5Y_hRZWFx"
    },
    {
      "cell_type": "code",
      "source": [
        "import torch\n",
        "from torch import nn\n",
        "from torch.nn import functional as F\n",
        "from d2l import torch as d2l"
      ],
      "metadata": {
        "id": "ct6uMDHpZvdp"
      },
      "id": "ct6uMDHpZvdp",
      "execution_count": null,
      "outputs": []
    },
    {
      "cell_type": "markdown",
      "source": [
        "## The AnyNet Design Space\n",
        ":label:`subsec_the-anynet-design-space`\n",
        "\n",
        "The description below closely follows the reasoning in :citet:`Radosavovic.Kosaraju.Girshick.ea.2020` with some abbreviations to make it fit in the scope of the book.\n",
        "To begin, we need a template for the family of networks to explore. One of the commonalities of the designs in this chapter is that the networks consist of a *stem*, a *body* and a *head*. The stem performs initial image processing, often through convolutions with a larger window size. The body consists of multiple blocks, carrying out the bulk of the transformations needed to go from raw images to object representations. Lastly, the head converts this into the desired outputs, such as via a softmax regressor for multiclass classification.\n",
        "The body, in turn, consists of multiple stages, operating on the image at decreasing resolutions. In fact, both the stem and each subsequent stage quarter the spatial resolution. Lastly, each stage consists of one or more blocks. This pattern is common to all networks, from VGG to ResNeXt. Indeed, for the design of generic AnyNet networks, :citet:`Radosavovic.Kosaraju.Girshick.ea.2020` used the ResNeXt block of :numref:`fig_resnext_block`.\n",
        "\n",
        "\n",
        "![The AnyNet design space. The numbers $(\\mathit{c}, \\mathit{r})$ along each arrow indicate the number of channels $c$ and the resolution $\\mathit{r} \\times \\mathit{r}$ of the images at that point. From left to right: generic network structure composed of stem, body, and head; body composed of four stages; detailed structure of a stage; two alternative structures for blocks, one without downsampling and one that halves the resolution in each dimension. Design choices include depth $\\mathit{d_i}$, the number of output channels $\\mathit{c_i}$, the number of groups $\\mathit{g_i}$, and bottleneck ratio $\\mathit{k_i}$ for any stage $\\mathit{i}$.](http://d2l.ai/_images/anynet.svg)\n",
        ":label:`fig_anynet_full`\n",
        "\n",
        "Let's review the structure outlined in :numref:`fig_anynet_full` in detail. As mentioned, an AnyNet consists of a stem, body, and head. The stem takes as its input RGB images (3 channels), using a $3 \\times 3$ convolution with a stride of $2$, followed by a batch norm, to halve the resolution from $r \\times r$ to $r/2 \\times r/2$. Moreover, it generates $c_0$ channels that serve as input to the body.\n",
        "\n",
        "Since the network is designed to work well with ImageNet images of shape $224 \\times 224 \\times 3$, the body serves to reduce this to $7 \\times 7 \\times c_4$ through 4 stages (recall that $224 / 2^{1+4} = 7$), each with an eventual stride of $2$. Lastly, the head employs an entirely standard design via global average pooling, similar to NiN (:numref:`sec_nin`), followed by a fully connected layer to emit an $n$-dimensional vector for $n$-class classification.\n",
        "\n",
        "Most of the relevant design decisions are inherent to the body of the network. It proceeds in stages, where each stage is composed of the same type of ResNeXt blocks as we discussed in :numref:`subsec_resnext`. The design there is again entirely generic: we begin with a block that halves the resolution by using a stride of $2$ (the rightmost in :numref:`fig_anynet_full`). To match this, the residual branch of the ResNeXt block needs to pass through a $1 \\times 1$ convolution. This block is followed by a variable number of additional ResNeXt blocks that leave both resolution and the number of channels unchanged. Note that a common design practice is to add a slight bottleneck in the design of convolutional blocks.\n",
        "As such, with bottleneck ratio $k_i \\geq 1$ we afford some number of channels, $c_i/k_i$,  within each block for stage $i$ (as the experiments show, this is not really effective and should be skipped). Lastly, since we are dealing with ResNeXt blocks, we also need to pick the number of groups $g_i$ for grouped convolutions at stage $i$.\n",
        "\n",
        "This seemingly generic design space provides us nonetheless with many parameters: we can set the block width (number of channels) $c_0, \\ldots c_4$, the depth (number of blocks) per stage $d_1, \\ldots d_4$, the bottleneck ratios $k_1, \\ldots k_4$, and the group widths (numbers of groups) $g_1, \\ldots g_4$.\n",
        "In total this adds up to 17 parameters, resulting in an unreasonably large number of configurations that would warrant exploring. We need some tools to reduce this huge design space effectively. This is where the conceptual beauty of design spaces comes in. Before we do so, let's implement the generic design first.\n"
      ],
      "metadata": {
        "id": "TJl0V6fCZ3xo"
      },
      "id": "TJl0V6fCZ3xo"
    },
    {
      "cell_type": "code",
      "source": [
        "class AnyNet(d2l.Classifier):\n",
        "    def stem(self, num_channels):\n",
        "        return nn.Sequential(\n",
        "            nn.LazyConv2d(num_channels, kernel_size=3, stride=2, padding=1),\n",
        "            nn.LazyBatchNorm2d(), nn.ReLU())"
      ],
      "metadata": {
        "id": "Gz30gN5YZ4hr"
      },
      "id": "Gz30gN5YZ4hr",
      "execution_count": null,
      "outputs": []
    },
    {
      "cell_type": "markdown",
      "source": [
        "Each stage consists of `depth` ResNeXt blocks,\n",
        "where `num_channels` specifies the block width.\n",
        "Note that the first block halves the height and width of input images.\n"
      ],
      "metadata": {
        "id": "vZx4EEyoZ9DH"
      },
      "id": "vZx4EEyoZ9DH"
    },
    {
      "cell_type": "code",
      "source": [
        "@d2l.add_to_class(AnyNet)\n",
        "def stage(self, depth, num_channels, groups, bot_mul):\n",
        "    blk = []\n",
        "    for i in range(depth):\n",
        "        if i == 0:\n",
        "            blk.append(d2l.ResNeXtBlock(num_channels, groups, bot_mul,\n",
        "                use_1x1conv=True, strides=2))\n",
        "        else:\n",
        "            blk.append(d2l.ResNeXtBlock(num_channels, groups, bot_mul))\n",
        "    return nn.Sequential(*blk)"
      ],
      "metadata": {
        "id": "ZqWGuXkIZ7Od"
      },
      "id": "ZqWGuXkIZ7Od",
      "execution_count": null,
      "outputs": []
    },
    {
      "cell_type": "markdown",
      "source": [
        "Putting the network stem, body, and head together,\n",
        "we complete the implementation of AnyNet.\n"
      ],
      "metadata": {
        "id": "tTZHrPdwaB33"
      },
      "id": "tTZHrPdwaB33"
    },
    {
      "cell_type": "code",
      "source": [
        "@d2l.add_to_class(AnyNet)\n",
        "def __init__(self, arch, stem_channels, lr=0.1, num_classes=10):\n",
        "    super(AnyNet, self).__init__()\n",
        "    self.save_hyperparameters()\n",
        "    self.net = nn.Sequential(self.stem(stem_channels))\n",
        "    for i, s in enumerate(arch):\n",
        "        self.net.add_module(f'stage{i+1}', self.stage(*s))\n",
        "    self.net.add_module('head', nn.Sequential(\n",
        "        nn.AdaptiveAvgPool2d((1, 1)), nn.Flatten(),\n",
        "        nn.LazyLinear(num_classes)))\n",
        "    self.net.apply(d2l.init_cnn)"
      ],
      "metadata": {
        "id": "oJ_z17kkZ_yd"
      },
      "id": "oJ_z17kkZ_yd",
      "execution_count": null,
      "outputs": []
    },
    {
      "cell_type": "markdown",
      "source": [
        "## Distributions and Parameters of Design Spaces\n",
        "\n",
        "As just discussed in :numref:`subsec_the-anynet-design-space`, parameters of a design space are hyperparameters of networks in that design space.\n",
        "Consider the problem of identifying good parameters in the AnyNet design space. We could try finding the *single best* parameter choice for a given amount of computation (e.g., FLOPs and compute time). If we allowed for even only *two* possible choices for each parameter, we would have to explore $2^{17} = 131072$ combinations to find the best solution. This is clearly infeasible because of its exorbitant cost. Even worse, we do not really learn anything from this exercise in terms of how one should design a network. Next time we add, say, an X-stage, or a shift operation, or similar, we would need to start from scratch. Even worse, due to the stochasticity in training (rounding, shuffling, bit errors), no two runs are likely to produce exactly the same results. A better strategy would be to try to determine general guidelines of how the choices of parameters should be related. For instance, the bottleneck ratio, the number of channels, blocks, groups, or their change between layers should ideally be governed by a collection of simple rules. The approach in :citet:`radosavovic2019network` relies on the following four assumptions:\n",
        "\n",
        "1. We assume that general design principles actually exist, so that many networks satisfying these requirements should offer good performance. Consequently, identifying a *distribution* over networks can be a sensible strategy. In other words, we assume that there are many good needles in the haystack.\n",
        "1. We need not train networks to convergence before we can assess whether a network is good. Instead, it is sufficient to use the intermediate results as reliable guidance for final accuracy. Using (approximate) proxies to optimize an objective is referred to as multi-fidelity optimization :cite:`forrester2007multi`. Consequently, design optimization is carried out, based on the accuracy achieved after only a few passes through the dataset, reducing the cost significantly.\n",
        "1. Results obtained at a smaller scale (for smaller networks) generalize to larger ones. Consequently, optimization is carried out for networks that are structurally similar, but with a smaller number of blocks, fewer channels, etc. Only in the end will we need to verify that the so-found networks also offer good performance at scale.\n",
        "1. Aspects of the design can be approximately factorized so that it is possible to infer their effect on the quality of the outcome somewhat independently. In other words, the optimization problem is moderately easy.\n",
        "\n",
        "These assumptions allow us to test many networks cheaply. In particular, we can *sample* uniformly from the space of configurations and evaluate their performance. Subsequently, we can evaluate the quality of the choice of parameters by reviewing the *distribution* of error/accuracy that can be achieved with said networks. Denote by $F(e)$ the cumulative distribution function (CDF) for errors committed by networks of a given design space, drawn using probability disribution $p$. That is,\n",
        "\n",
        "$$F(e, p) \\stackrel{\\textrm{def}}{=} P_{\\textrm{net} \\sim p} \\{e(\\textrm{net}) \\leq e\\}.$$\n",
        "\n",
        "Our goal is now to find a distribution $p$ over *networks* such that most networks have a very low error rate and where the support of $p$ is concise. Of course, this is computationally infeasible to perform accurately. We resort to a sample of networks $\\mathcal{Z} \\stackrel{\\textrm{def}}{=} \\{\\textrm{net}_1, \\ldots \\textrm{net}_n\\}$ (with errors $e_1, \\ldots, e_n$, respectively) from $p$ and use the empirical CDF $\\hat{F}(e, \\mathcal{Z})$ instead:\n",
        "\n",
        "$$\\hat{F}(e, \\mathcal{Z}) = \\frac{1}{n}\\sum_{i=1}^n \\mathbf{1}(e_i \\leq e).$$\n",
        "\n",
        "Whenever the CDF for one set of choices majorizes (or matches) another CDF it follows that its choice of parameters is superior (or indifferent). Accordingly\n",
        ":citet:`Radosavovic.Kosaraju.Girshick.ea.2020` experimented with a shared network bottleneck ratio $k_i = k$ for all stages $i$ of the network. This gets rid of three of the four parameters governing the bottleneck ratio. To assess whether this (negatively) affects the performance one can draw networks from the constrained and from the unconstrained distribution and compare the corresonding CDFs. It turns out that this constraint does not affect the accuracy of the distribution of networks at all, as can be seen in the first panel of :numref:`fig_regnet-fig`.\n",
        "Likewise, we could choose to pick the same group width $g_i = g$ occurring at the various stages of the network. Again, this does not affect performance, as can be seen in the second panel of :numref:`fig_regnet-fig`.\n",
        "Both steps combined reduce the number of free parameters by six.\n",
        "\n",
        "![Comparing error empirical distribution functions of design spaces. $\\textrm{AnyNet}_\\mathit{A}$ is the original design space; $\\textrm{AnyNet}_\\mathit{B}$ ties the bottleneck ratios, $\\textrm{AnyNet}_\\mathit{C}$ also ties group widths, $\\textrm{AnyNet}_\\mathit{D}$ increases the network depth across stages. From left to right: (i) tying bottleneck ratios has no effect on performance; (ii) tying group widths has no effect on performance; (iii) increasing network widths (channels) across stages improves performance; (iv) increasing network depths across stages improves performance. Figure courtesy of :citet:`Radosavovic.Kosaraju.Girshick.ea.2020`.](../img/regnet-fig.png)\n",
        ":label:`fig_regnet-fig`\n",
        "\n",
        "Next we look for ways to reduce the multitude of potential choices for width and depth of the stages. It is a reasonable assumption that, as we go deeper, the number of channels should increase, i.e., $c_i \\geq c_{i-1}$ ($w_{i+1} \\geq w_i$ per their notation in :numref:`fig_regnet-fig`), yielding\n",
        "$\\textrm{AnyNetX}_D$. Likewise, it is equally reasonable to assume that as the stages progress, they should become deeper, i.e., $d_i \\geq d_{i-1}$, yielding $\\textrm{AnyNetX}_E$. This can be experimentally verified in the third and fourth panel of :numref:`fig_regnet-fig`, respectively.\n",
        "\n",
        "## RegNet\n",
        "\n",
        "The resulting $\\textrm{AnyNetX}_E$ design space consists of simple networks\n",
        "following easy-to-interpret design principles:\n",
        "\n",
        "* Share the bottleneck ratio $k_i = k$ for all stages $i$;\n",
        "* Share the group width $g_i = g$ for all stages $i$;\n",
        "* Increase network width across stages: $c_{i} \\leq c_{i+1}$;\n",
        "* Increase network depth across stages: $d_{i} \\leq d_{i+1}$.\n",
        "\n",
        "This leaves us with a final set of choices: how to pick the specific values for the above parameters of the eventual $\\textrm{AnyNetX}_E$ design space. By studying the best-performing networks from the distribution in $\\textrm{AnyNetX}_E$ one can observe the following: the width of the network ideally increases linearly with the block index across the network, i.e., $c_j \\approx c_0 + c_a j$, where $j$ is the block index and slope $c_a > 0$. Given that we get to choose a different block width only per stage, we arrive at a piecewise constant function, engineered to match this dependence. Furthermore, experiments also show that a bottleneck ratio of $k = 1$ performs best, i.e., we are advised not to use bottlenecks at all.\n",
        "\n",
        "We recommend the interested reader reviews further details in the design of specific networks for different amounts of computation by perusing :citet:`Radosavovic.Kosaraju.Girshick.ea.2020`. For instance, an effective 32-layer RegNetX variant is given by $k = 1$ (no bottleneck), $g = 16$ (group width is 16), $c_1 = 32$ and $c_2 = 80$ channels for the first and second stage, respectively, chosen to be $d_1=4$ and $d_2=6$ blocks deep. The astonishing insight from the design is that it still applies, even when investigating networks at a larger scale. Even better, it even holds for Squeeze-and-Excitation (SE) network designs (RegNetY) that have a global channel activation :cite:`Hu.Shen.Sun.2018`.\n"
      ],
      "metadata": {
        "id": "oJUh5uKbaGZ8"
      },
      "id": "oJUh5uKbaGZ8"
    },
    {
      "cell_type": "code",
      "source": [
        "class RegNetX32(AnyNet):\n",
        "    def __init__(self, lr=0.1, num_classes=10):\n",
        "        stem_channels, groups, bot_mul = 32, 16, 1\n",
        "        depths, channels = (4, 6), (32, 80)\n",
        "        super().__init__(\n",
        "            ((depths[0], channels[0], groups, bot_mul),\n",
        "             (depths[1], channels[1], groups, bot_mul)),\n",
        "            stem_channels, lr, num_classes)"
      ],
      "metadata": {
        "id": "ERbfSazbaEnF"
      },
      "id": "ERbfSazbaEnF",
      "execution_count": null,
      "outputs": []
    },
    {
      "cell_type": "markdown",
      "source": [
        "We can see that each RegNetX stage progressively reduces resolution and increases output channels.\n"
      ],
      "metadata": {
        "id": "e9Uj_-CKaNhb"
      },
      "id": "e9Uj_-CKaNhb"
    },
    {
      "cell_type": "code",
      "source": [
        "RegNetX32().layer_summary((1, 1, 96, 96))"
      ],
      "metadata": {
        "colab": {
          "base_uri": "https://localhost:8080/"
        },
        "id": "xwDpElkhaLoK",
        "outputId": "2ec46998-1988-4d40-f3de-3d203c1ee3fa"
      },
      "id": "xwDpElkhaLoK",
      "execution_count": null,
      "outputs": [
        {
          "output_type": "stream",
          "name": "stdout",
          "text": [
            "Sequential output shape:\t torch.Size([1, 32, 48, 48])\n",
            "Sequential output shape:\t torch.Size([1, 32, 24, 24])\n",
            "Sequential output shape:\t torch.Size([1, 80, 12, 12])\n",
            "Sequential output shape:\t torch.Size([1, 10])\n"
          ]
        }
      ]
    },
    {
      "cell_type": "markdown",
      "source": [
        "## Training\n",
        "\n",
        "Training the 32-layer RegNetX on the Fashion-MNIST dataset is just like before.\n"
      ],
      "metadata": {
        "id": "daZtHIA_aSEk"
      },
      "id": "daZtHIA_aSEk"
    },
    {
      "cell_type": "code",
      "source": [
        "model = RegNetX32(lr=0.05)\n",
        "trainer = d2l.Trainer(max_epochs=10, num_gpus=1)\n",
        "data = d2l.FashionMNIST(batch_size=128, resize=(96, 96))\n",
        "trainer.fit(model, data)"
      ],
      "metadata": {
        "colab": {
          "base_uri": "https://localhost:8080/",
          "height": 265
        },
        "id": "c1PzxL-qaQXq",
        "outputId": "51048205-5b37-47b4-ec8c-e83e443e3333"
      },
      "id": "c1PzxL-qaQXq",
      "execution_count": null,
      "outputs": [
        {
          "output_type": "display_data",
          "data": {
            "text/plain": [
              "<Figure size 350x250 with 1 Axes>"
            ],
            "image/svg+xml": "<?xml version=\"1.0\" encoding=\"utf-8\" standalone=\"no\"?>\n<!DOCTYPE svg PUBLIC \"-//W3C//DTD SVG 1.1//EN\"\n  \"http://www.w3.org/Graphics/SVG/1.1/DTD/svg11.dtd\">\n<svg xmlns:xlink=\"http://www.w3.org/1999/xlink\" width=\"238.965625pt\" height=\"183.35625pt\" viewBox=\"0 0 238.965625 183.35625\" xmlns=\"http://www.w3.org/2000/svg\" version=\"1.1\">\n <metadata>\n  <rdf:RDF xmlns:dc=\"http://purl.org/dc/elements/1.1/\" xmlns:cc=\"http://creativecommons.org/ns#\" xmlns:rdf=\"http://www.w3.org/1999/02/22-rdf-syntax-ns#\">\n   <cc:Work>\n    <dc:type rdf:resource=\"http://purl.org/dc/dcmitype/StillImage\"/>\n    <dc:date>2024-09-29T10:58:10.759548</dc:date>\n    <dc:format>image/svg+xml</dc:format>\n    <dc:creator>\n     <cc:Agent>\n      <dc:title>Matplotlib v3.7.2, https://matplotlib.org/</dc:title>\n     </cc:Agent>\n    </dc:creator>\n   </cc:Work>\n  </rdf:RDF>\n </metadata>\n <defs>\n  <style type=\"text/css\">*{stroke-linejoin: round; stroke-linecap: butt}</style>\n </defs>\n <g id=\"figure_1\">\n  <g id=\"patch_1\">\n   <path d=\"M 0 183.35625 \nL 238.965625 183.35625 \nL 238.965625 0 \nL 0 0 \nz\n\" style=\"fill: #ffffff\"/>\n  </g>\n  <g id=\"axes_1\">\n   <g id=\"patch_2\">\n    <path d=\"M 30.103125 145.8 \nL 225.403125 145.8 \nL 225.403125 7.2 \nL 30.103125 7.2 \nz\n\" style=\"fill: #ffffff\"/>\n   </g>\n   <g id=\"matplotlib.axis_1\">\n    <g id=\"xtick_1\">\n     <g id=\"line2d_1\">\n      <defs>\n       <path id=\"m2c44db7dd5\" d=\"M 0 0 \nL 0 3.5 \n\" style=\"stroke: #000000; stroke-width: 0.8\"/>\n      </defs>\n      <g>\n       <use xlink:href=\"#m2c44db7dd5\" x=\"30.103125\" y=\"145.8\" style=\"stroke: #000000; stroke-width: 0.8\"/>\n      </g>\n     </g>\n     <g id=\"text_1\">\n      <!-- 0 -->\n      <g transform=\"translate(26.921875 160.398438) scale(0.1 -0.1)\">\n       <defs>\n        <path id=\"DejaVuSans-30\" d=\"M 2034 4250 \nQ 1547 4250 1301 3770 \nQ 1056 3291 1056 2328 \nQ 1056 1369 1301 889 \nQ 1547 409 2034 409 \nQ 2525 409 2770 889 \nQ 3016 1369 3016 2328 \nQ 3016 3291 2770 3770 \nQ 2525 4250 2034 4250 \nz\nM 2034 4750 \nQ 2819 4750 3233 4129 \nQ 3647 3509 3647 2328 \nQ 3647 1150 3233 529 \nQ 2819 -91 2034 -91 \nQ 1250 -91 836 529 \nQ 422 1150 422 2328 \nQ 422 3509 836 4129 \nQ 1250 4750 2034 4750 \nz\n\" transform=\"scale(0.015625)\"/>\n       </defs>\n       <use xlink:href=\"#DejaVuSans-30\"/>\n      </g>\n     </g>\n    </g>\n    <g id=\"xtick_2\">\n     <g id=\"line2d_2\">\n      <g>\n       <use xlink:href=\"#m2c44db7dd5\" x=\"69.163125\" y=\"145.8\" style=\"stroke: #000000; stroke-width: 0.8\"/>\n      </g>\n     </g>\n     <g id=\"text_2\">\n      <!-- 2 -->\n      <g transform=\"translate(65.981875 160.398438) scale(0.1 -0.1)\">\n       <defs>\n        <path id=\"DejaVuSans-32\" d=\"M 1228 531 \nL 3431 531 \nL 3431 0 \nL 469 0 \nL 469 531 \nQ 828 903 1448 1529 \nQ 2069 2156 2228 2338 \nQ 2531 2678 2651 2914 \nQ 2772 3150 2772 3378 \nQ 2772 3750 2511 3984 \nQ 2250 4219 1831 4219 \nQ 1534 4219 1204 4116 \nQ 875 4013 500 3803 \nL 500 4441 \nQ 881 4594 1212 4672 \nQ 1544 4750 1819 4750 \nQ 2544 4750 2975 4387 \nQ 3406 4025 3406 3419 \nQ 3406 3131 3298 2873 \nQ 3191 2616 2906 2266 \nQ 2828 2175 2409 1742 \nQ 1991 1309 1228 531 \nz\n\" transform=\"scale(0.015625)\"/>\n       </defs>\n       <use xlink:href=\"#DejaVuSans-32\"/>\n      </g>\n     </g>\n    </g>\n    <g id=\"xtick_3\">\n     <g id=\"line2d_3\">\n      <g>\n       <use xlink:href=\"#m2c44db7dd5\" x=\"108.223125\" y=\"145.8\" style=\"stroke: #000000; stroke-width: 0.8\"/>\n      </g>\n     </g>\n     <g id=\"text_3\">\n      <!-- 4 -->\n      <g transform=\"translate(105.041875 160.398438) scale(0.1 -0.1)\">\n       <defs>\n        <path id=\"DejaVuSans-34\" d=\"M 2419 4116 \nL 825 1625 \nL 2419 1625 \nL 2419 4116 \nz\nM 2253 4666 \nL 3047 4666 \nL 3047 1625 \nL 3713 1625 \nL 3713 1100 \nL 3047 1100 \nL 3047 0 \nL 2419 0 \nL 2419 1100 \nL 313 1100 \nL 313 1709 \nL 2253 4666 \nz\n\" transform=\"scale(0.015625)\"/>\n       </defs>\n       <use xlink:href=\"#DejaVuSans-34\"/>\n      </g>\n     </g>\n    </g>\n    <g id=\"xtick_4\">\n     <g id=\"line2d_4\">\n      <g>\n       <use xlink:href=\"#m2c44db7dd5\" x=\"147.283125\" y=\"145.8\" style=\"stroke: #000000; stroke-width: 0.8\"/>\n      </g>\n     </g>\n     <g id=\"text_4\">\n      <!-- 6 -->\n      <g transform=\"translate(144.101875 160.398438) scale(0.1 -0.1)\">\n       <defs>\n        <path id=\"DejaVuSans-36\" d=\"M 2113 2584 \nQ 1688 2584 1439 2293 \nQ 1191 2003 1191 1497 \nQ 1191 994 1439 701 \nQ 1688 409 2113 409 \nQ 2538 409 2786 701 \nQ 3034 994 3034 1497 \nQ 3034 2003 2786 2293 \nQ 2538 2584 2113 2584 \nz\nM 3366 4563 \nL 3366 3988 \nQ 3128 4100 2886 4159 \nQ 2644 4219 2406 4219 \nQ 1781 4219 1451 3797 \nQ 1122 3375 1075 2522 \nQ 1259 2794 1537 2939 \nQ 1816 3084 2150 3084 \nQ 2853 3084 3261 2657 \nQ 3669 2231 3669 1497 \nQ 3669 778 3244 343 \nQ 2819 -91 2113 -91 \nQ 1303 -91 875 529 \nQ 447 1150 447 2328 \nQ 447 3434 972 4092 \nQ 1497 4750 2381 4750 \nQ 2619 4750 2861 4703 \nQ 3103 4656 3366 4563 \nz\n\" transform=\"scale(0.015625)\"/>\n       </defs>\n       <use xlink:href=\"#DejaVuSans-36\"/>\n      </g>\n     </g>\n    </g>\n    <g id=\"xtick_5\">\n     <g id=\"line2d_5\">\n      <g>\n       <use xlink:href=\"#m2c44db7dd5\" x=\"186.343125\" y=\"145.8\" style=\"stroke: #000000; stroke-width: 0.8\"/>\n      </g>\n     </g>\n     <g id=\"text_5\">\n      <!-- 8 -->\n      <g transform=\"translate(183.161875 160.398438) scale(0.1 -0.1)\">\n       <defs>\n        <path id=\"DejaVuSans-38\" d=\"M 2034 2216 \nQ 1584 2216 1326 1975 \nQ 1069 1734 1069 1313 \nQ 1069 891 1326 650 \nQ 1584 409 2034 409 \nQ 2484 409 2743 651 \nQ 3003 894 3003 1313 \nQ 3003 1734 2745 1975 \nQ 2488 2216 2034 2216 \nz\nM 1403 2484 \nQ 997 2584 770 2862 \nQ 544 3141 544 3541 \nQ 544 4100 942 4425 \nQ 1341 4750 2034 4750 \nQ 2731 4750 3128 4425 \nQ 3525 4100 3525 3541 \nQ 3525 3141 3298 2862 \nQ 3072 2584 2669 2484 \nQ 3125 2378 3379 2068 \nQ 3634 1759 3634 1313 \nQ 3634 634 3220 271 \nQ 2806 -91 2034 -91 \nQ 1263 -91 848 271 \nQ 434 634 434 1313 \nQ 434 1759 690 2068 \nQ 947 2378 1403 2484 \nz\nM 1172 3481 \nQ 1172 3119 1398 2916 \nQ 1625 2713 2034 2713 \nQ 2441 2713 2670 2916 \nQ 2900 3119 2900 3481 \nQ 2900 3844 2670 4047 \nQ 2441 4250 2034 4250 \nQ 1625 4250 1398 4047 \nQ 1172 3844 1172 3481 \nz\n\" transform=\"scale(0.015625)\"/>\n       </defs>\n       <use xlink:href=\"#DejaVuSans-38\"/>\n      </g>\n     </g>\n    </g>\n    <g id=\"xtick_6\">\n     <g id=\"line2d_6\">\n      <g>\n       <use xlink:href=\"#m2c44db7dd5\" x=\"225.403125\" y=\"145.8\" style=\"stroke: #000000; stroke-width: 0.8\"/>\n      </g>\n     </g>\n     <g id=\"text_6\">\n      <!-- 10 -->\n      <g transform=\"translate(219.040625 160.398438) scale(0.1 -0.1)\">\n       <defs>\n        <path id=\"DejaVuSans-31\" d=\"M 794 531 \nL 1825 531 \nL 1825 4091 \nL 703 3866 \nL 703 4441 \nL 1819 4666 \nL 2450 4666 \nL 2450 531 \nL 3481 531 \nL 3481 0 \nL 794 0 \nL 794 531 \nz\n\" transform=\"scale(0.015625)\"/>\n       </defs>\n       <use xlink:href=\"#DejaVuSans-31\"/>\n       <use xlink:href=\"#DejaVuSans-30\" x=\"63.623047\"/>\n      </g>\n     </g>\n    </g>\n    <g id=\"text_7\">\n     <!-- epoch -->\n     <g transform=\"translate(112.525 174.076563) scale(0.1 -0.1)\">\n      <defs>\n       <path id=\"DejaVuSans-65\" d=\"M 3597 1894 \nL 3597 1613 \nL 953 1613 \nQ 991 1019 1311 708 \nQ 1631 397 2203 397 \nQ 2534 397 2845 478 \nQ 3156 559 3463 722 \nL 3463 178 \nQ 3153 47 2828 -22 \nQ 2503 -91 2169 -91 \nQ 1331 -91 842 396 \nQ 353 884 353 1716 \nQ 353 2575 817 3079 \nQ 1281 3584 2069 3584 \nQ 2775 3584 3186 3129 \nQ 3597 2675 3597 1894 \nz\nM 3022 2063 \nQ 3016 2534 2758 2815 \nQ 2500 3097 2075 3097 \nQ 1594 3097 1305 2825 \nQ 1016 2553 972 2059 \nL 3022 2063 \nz\n\" transform=\"scale(0.015625)\"/>\n       <path id=\"DejaVuSans-70\" d=\"M 1159 525 \nL 1159 -1331 \nL 581 -1331 \nL 581 3500 \nL 1159 3500 \nL 1159 2969 \nQ 1341 3281 1617 3432 \nQ 1894 3584 2278 3584 \nQ 2916 3584 3314 3078 \nQ 3713 2572 3713 1747 \nQ 3713 922 3314 415 \nQ 2916 -91 2278 -91 \nQ 1894 -91 1617 61 \nQ 1341 213 1159 525 \nz\nM 3116 1747 \nQ 3116 2381 2855 2742 \nQ 2594 3103 2138 3103 \nQ 1681 3103 1420 2742 \nQ 1159 2381 1159 1747 \nQ 1159 1113 1420 752 \nQ 1681 391 2138 391 \nQ 2594 391 2855 752 \nQ 3116 1113 3116 1747 \nz\n\" transform=\"scale(0.015625)\"/>\n       <path id=\"DejaVuSans-6f\" d=\"M 1959 3097 \nQ 1497 3097 1228 2736 \nQ 959 2375 959 1747 \nQ 959 1119 1226 758 \nQ 1494 397 1959 397 \nQ 2419 397 2687 759 \nQ 2956 1122 2956 1747 \nQ 2956 2369 2687 2733 \nQ 2419 3097 1959 3097 \nz\nM 1959 3584 \nQ 2709 3584 3137 3096 \nQ 3566 2609 3566 1747 \nQ 3566 888 3137 398 \nQ 2709 -91 1959 -91 \nQ 1206 -91 779 398 \nQ 353 888 353 1747 \nQ 353 2609 779 3096 \nQ 1206 3584 1959 3584 \nz\n\" transform=\"scale(0.015625)\"/>\n       <path id=\"DejaVuSans-63\" d=\"M 3122 3366 \nL 3122 2828 \nQ 2878 2963 2633 3030 \nQ 2388 3097 2138 3097 \nQ 1578 3097 1268 2742 \nQ 959 2388 959 1747 \nQ 959 1106 1268 751 \nQ 1578 397 2138 397 \nQ 2388 397 2633 464 \nQ 2878 531 3122 666 \nL 3122 134 \nQ 2881 22 2623 -34 \nQ 2366 -91 2075 -91 \nQ 1284 -91 818 406 \nQ 353 903 353 1747 \nQ 353 2603 823 3093 \nQ 1294 3584 2113 3584 \nQ 2378 3584 2631 3529 \nQ 2884 3475 3122 3366 \nz\n\" transform=\"scale(0.015625)\"/>\n       <path id=\"DejaVuSans-68\" d=\"M 3513 2113 \nL 3513 0 \nL 2938 0 \nL 2938 2094 \nQ 2938 2591 2744 2837 \nQ 2550 3084 2163 3084 \nQ 1697 3084 1428 2787 \nQ 1159 2491 1159 1978 \nL 1159 0 \nL 581 0 \nL 581 4863 \nL 1159 4863 \nL 1159 2956 \nQ 1366 3272 1645 3428 \nQ 1925 3584 2291 3584 \nQ 2894 3584 3203 3211 \nQ 3513 2838 3513 2113 \nz\n\" transform=\"scale(0.015625)\"/>\n      </defs>\n      <use xlink:href=\"#DejaVuSans-65\"/>\n      <use xlink:href=\"#DejaVuSans-70\" x=\"61.523438\"/>\n      <use xlink:href=\"#DejaVuSans-6f\" x=\"125\"/>\n      <use xlink:href=\"#DejaVuSans-63\" x=\"186.181641\"/>\n      <use xlink:href=\"#DejaVuSans-68\" x=\"241.162109\"/>\n     </g>\n    </g>\n   </g>\n   <g id=\"matplotlib.axis_2\">\n    <g id=\"ytick_1\">\n     <g id=\"line2d_7\">\n      <defs>\n       <path id=\"me32e34af64\" d=\"M 0 0 \nL -3.5 0 \n\" style=\"stroke: #000000; stroke-width: 0.8\"/>\n      </defs>\n      <g>\n       <use xlink:href=\"#me32e34af64\" x=\"30.103125\" y=\"109.983267\" style=\"stroke: #000000; stroke-width: 0.8\"/>\n      </g>\n     </g>\n     <g id=\"text_8\">\n      <!-- 0.5 -->\n      <g transform=\"translate(7.2 113.782486) scale(0.1 -0.1)\">\n       <defs>\n        <path id=\"DejaVuSans-2e\" d=\"M 684 794 \nL 1344 794 \nL 1344 0 \nL 684 0 \nL 684 794 \nz\n\" transform=\"scale(0.015625)\"/>\n        <path id=\"DejaVuSans-35\" d=\"M 691 4666 \nL 3169 4666 \nL 3169 4134 \nL 1269 4134 \nL 1269 2991 \nQ 1406 3038 1543 3061 \nQ 1681 3084 1819 3084 \nQ 2600 3084 3056 2656 \nQ 3513 2228 3513 1497 \nQ 3513 744 3044 326 \nQ 2575 -91 1722 -91 \nQ 1428 -91 1123 -41 \nQ 819 9 494 109 \nL 494 744 \nQ 775 591 1075 516 \nQ 1375 441 1709 441 \nQ 2250 441 2565 725 \nQ 2881 1009 2881 1497 \nQ 2881 1984 2565 2268 \nQ 2250 2553 1709 2553 \nQ 1456 2553 1204 2497 \nQ 953 2441 691 2322 \nL 691 4666 \nz\n\" transform=\"scale(0.015625)\"/>\n       </defs>\n       <use xlink:href=\"#DejaVuSans-30\"/>\n       <use xlink:href=\"#DejaVuSans-2e\" x=\"63.623047\"/>\n       <use xlink:href=\"#DejaVuSans-35\" x=\"95.410156\"/>\n      </g>\n     </g>\n    </g>\n    <g id=\"ytick_2\">\n     <g id=\"line2d_8\">\n      <g>\n       <use xlink:href=\"#me32e34af64\" x=\"30.103125\" y=\"66.756272\" style=\"stroke: #000000; stroke-width: 0.8\"/>\n      </g>\n     </g>\n     <g id=\"text_9\">\n      <!-- 1.0 -->\n      <g transform=\"translate(7.2 70.555491) scale(0.1 -0.1)\">\n       <use xlink:href=\"#DejaVuSans-31\"/>\n       <use xlink:href=\"#DejaVuSans-2e\" x=\"63.623047\"/>\n       <use xlink:href=\"#DejaVuSans-30\" x=\"95.410156\"/>\n      </g>\n     </g>\n    </g>\n    <g id=\"ytick_3\">\n     <g id=\"line2d_9\">\n      <g>\n       <use xlink:href=\"#me32e34af64\" x=\"30.103125\" y=\"23.529277\" style=\"stroke: #000000; stroke-width: 0.8\"/>\n      </g>\n     </g>\n     <g id=\"text_10\">\n      <!-- 1.5 -->\n      <g transform=\"translate(7.2 27.328496) scale(0.1 -0.1)\">\n       <use xlink:href=\"#DejaVuSans-31\"/>\n       <use xlink:href=\"#DejaVuSans-2e\" x=\"63.623047\"/>\n       <use xlink:href=\"#DejaVuSans-35\" x=\"95.410156\"/>\n      </g>\n     </g>\n    </g>\n   </g>\n   <g id=\"line2d_10\">\n    <path d=\"M 34.954394 73.789526 \n\" clip-path=\"url(#pe7ef5c56a1)\" style=\"fill: none; stroke: #1f77b4; stroke-width: 1.5; stroke-linecap: square\"/>\n   </g>\n   <g id=\"line2d_11\">\n    <path d=\"M 34.954394 73.789526 \nL 44.698573 111.34176 \n\" clip-path=\"url(#pe7ef5c56a1)\" style=\"fill: none; stroke: #1f77b4; stroke-width: 1.5; stroke-linecap: square\"/>\n   </g>\n   <g id=\"line2d_12\">\n    <path d=\"M 34.954394 73.789526 \nL 44.698573 111.34176 \n\" clip-path=\"url(#pe7ef5c56a1)\" style=\"fill: none; stroke: #1f77b4; stroke-width: 1.5; stroke-linecap: square\"/>\n   </g>\n   <g id=\"line2d_13\">\n    <path d=\"M 49.633125 13.5 \n\" clip-path=\"url(#pe7ef5c56a1)\" style=\"fill: none; stroke-dasharray: 5.55,2.4; stroke-dashoffset: 0; stroke: #ff7f0e; stroke-width: 1.5\"/>\n   </g>\n   <g id=\"line2d_14\"/>\n   <g id=\"line2d_15\">\n    <path d=\"M 34.954394 73.789526 \nL 44.698573 111.34176 \n\" clip-path=\"url(#pe7ef5c56a1)\" style=\"fill: none; stroke: #1f77b4; stroke-width: 1.5; stroke-linecap: square\"/>\n   </g>\n   <g id=\"line2d_16\">\n    <path d=\"M 49.633125 13.5 \n\" clip-path=\"url(#pe7ef5c56a1)\" style=\"fill: none; stroke-dasharray: 5.55,2.4; stroke-dashoffset: 0; stroke: #ff7f0e; stroke-width: 1.5\"/>\n   </g>\n   <g id=\"line2d_17\">\n    <path d=\"M 49.633125 105.35791 \n\" clip-path=\"url(#pe7ef5c56a1)\" style=\"fill: none; stroke-dasharray: 9.6,2.4,1.5,2.4; stroke-dashoffset: 0; stroke: #2ca02c; stroke-width: 1.5\"/>\n   </g>\n   <g id=\"line2d_18\">\n    <path d=\"M 34.954394 73.789526 \nL 44.698573 111.34176 \nL 54.442752 120.561295 \n\" clip-path=\"url(#pe7ef5c56a1)\" style=\"fill: none; stroke: #1f77b4; stroke-width: 1.5; stroke-linecap: square\"/>\n   </g>\n   <g id=\"line2d_19\">\n    <path d=\"M 49.633125 13.5 \n\" clip-path=\"url(#pe7ef5c56a1)\" style=\"fill: none; stroke-dasharray: 5.55,2.4; stroke-dashoffset: 0; stroke: #ff7f0e; stroke-width: 1.5\"/>\n   </g>\n   <g id=\"line2d_20\">\n    <path d=\"M 49.633125 105.35791 \n\" clip-path=\"url(#pe7ef5c56a1)\" style=\"fill: none; stroke-dasharray: 9.6,2.4,1.5,2.4; stroke-dashoffset: 0; stroke: #2ca02c; stroke-width: 1.5\"/>\n   </g>\n   <g id=\"line2d_21\">\n    <path d=\"M 34.954394 73.789526 \nL 44.698573 111.34176 \nL 54.442752 120.561295 \nL 64.186931 123.374879 \n\" clip-path=\"url(#pe7ef5c56a1)\" style=\"fill: none; stroke: #1f77b4; stroke-width: 1.5; stroke-linecap: square\"/>\n   </g>\n   <g id=\"line2d_22\">\n    <path d=\"M 49.633125 13.5 \n\" clip-path=\"url(#pe7ef5c56a1)\" style=\"fill: none; stroke-dasharray: 5.55,2.4; stroke-dashoffset: 0; stroke: #ff7f0e; stroke-width: 1.5\"/>\n   </g>\n   <g id=\"line2d_23\">\n    <path d=\"M 49.633125 105.35791 \n\" clip-path=\"url(#pe7ef5c56a1)\" style=\"fill: none; stroke-dasharray: 9.6,2.4,1.5,2.4; stroke-dashoffset: 0; stroke: #2ca02c; stroke-width: 1.5\"/>\n   </g>\n   <g id=\"line2d_24\">\n    <path d=\"M 34.954394 73.789526 \nL 44.698573 111.34176 \nL 54.442752 120.561295 \nL 64.186931 123.374879 \n\" clip-path=\"url(#pe7ef5c56a1)\" style=\"fill: none; stroke: #1f77b4; stroke-width: 1.5; stroke-linecap: square\"/>\n   </g>\n   <g id=\"line2d_25\">\n    <path d=\"M 49.633125 13.5 \nL 69.163125 113.720928 \n\" clip-path=\"url(#pe7ef5c56a1)\" style=\"fill: none; stroke-dasharray: 5.55,2.4; stroke-dashoffset: 0; stroke: #ff7f0e; stroke-width: 1.5\"/>\n   </g>\n   <g id=\"line2d_26\">\n    <path d=\"M 49.633125 105.35791 \n\" clip-path=\"url(#pe7ef5c56a1)\" style=\"fill: none; stroke-dasharray: 9.6,2.4,1.5,2.4; stroke-dashoffset: 0; stroke: #2ca02c; stroke-width: 1.5\"/>\n   </g>\n   <g id=\"line2d_27\">\n    <path d=\"M 34.954394 73.789526 \nL 44.698573 111.34176 \nL 54.442752 120.561295 \nL 64.186931 123.374879 \n\" clip-path=\"url(#pe7ef5c56a1)\" style=\"fill: none; stroke: #1f77b4; stroke-width: 1.5; stroke-linecap: square\"/>\n   </g>\n   <g id=\"line2d_28\">\n    <path d=\"M 49.633125 13.5 \nL 69.163125 113.720928 \n\" clip-path=\"url(#pe7ef5c56a1)\" style=\"fill: none; stroke-dasharray: 5.55,2.4; stroke-dashoffset: 0; stroke: #ff7f0e; stroke-width: 1.5\"/>\n   </g>\n   <g id=\"line2d_29\">\n    <path d=\"M 49.633125 105.35791 \nL 69.163125 81.025626 \n\" clip-path=\"url(#pe7ef5c56a1)\" style=\"fill: none; stroke-dasharray: 9.6,2.4,1.5,2.4; stroke-dashoffset: 0; stroke: #2ca02c; stroke-width: 1.5\"/>\n   </g>\n   <g id=\"line2d_30\">\n    <path d=\"M 34.954394 73.789526 \nL 44.698573 111.34176 \nL 54.442752 120.561295 \nL 64.186931 123.374879 \nL 73.93111 126.700198 \n\" clip-path=\"url(#pe7ef5c56a1)\" style=\"fill: none; stroke: #1f77b4; stroke-width: 1.5; stroke-linecap: square\"/>\n   </g>\n   <g id=\"line2d_31\">\n    <path d=\"M 49.633125 13.5 \nL 69.163125 113.720928 \n\" clip-path=\"url(#pe7ef5c56a1)\" style=\"fill: none; stroke-dasharray: 5.55,2.4; stroke-dashoffset: 0; stroke: #ff7f0e; stroke-width: 1.5\"/>\n   </g>\n   <g id=\"line2d_32\">\n    <path d=\"M 49.633125 105.35791 \nL 69.163125 81.025626 \n\" clip-path=\"url(#pe7ef5c56a1)\" style=\"fill: none; stroke-dasharray: 9.6,2.4,1.5,2.4; stroke-dashoffset: 0; stroke: #2ca02c; stroke-width: 1.5\"/>\n   </g>\n   <g id=\"line2d_33\">\n    <path d=\"M 34.954394 73.789526 \nL 44.698573 111.34176 \nL 54.442752 120.561295 \nL 64.186931 123.374879 \nL 73.93111 126.700198 \nL 83.675289 127.628565 \n\" clip-path=\"url(#pe7ef5c56a1)\" style=\"fill: none; stroke: #1f77b4; stroke-width: 1.5; stroke-linecap: square\"/>\n   </g>\n   <g id=\"line2d_34\">\n    <path d=\"M 49.633125 13.5 \nL 69.163125 113.720928 \n\" clip-path=\"url(#pe7ef5c56a1)\" style=\"fill: none; stroke-dasharray: 5.55,2.4; stroke-dashoffset: 0; stroke: #ff7f0e; stroke-width: 1.5\"/>\n   </g>\n   <g id=\"line2d_35\">\n    <path d=\"M 49.633125 105.35791 \nL 69.163125 81.025626 \n\" clip-path=\"url(#pe7ef5c56a1)\" style=\"fill: none; stroke-dasharray: 9.6,2.4,1.5,2.4; stroke-dashoffset: 0; stroke: #2ca02c; stroke-width: 1.5\"/>\n   </g>\n   <g id=\"line2d_36\">\n    <path d=\"M 34.954394 73.789526 \nL 44.698573 111.34176 \nL 54.442752 120.561295 \nL 64.186931 123.374879 \nL 73.93111 126.700198 \nL 83.675289 127.628565 \n\" clip-path=\"url(#pe7ef5c56a1)\" style=\"fill: none; stroke: #1f77b4; stroke-width: 1.5; stroke-linecap: square\"/>\n   </g>\n   <g id=\"line2d_37\">\n    <path d=\"M 49.633125 13.5 \nL 69.163125 113.720928 \nL 88.693125 121.585883 \n\" clip-path=\"url(#pe7ef5c56a1)\" style=\"fill: none; stroke-dasharray: 5.55,2.4; stroke-dashoffset: 0; stroke: #ff7f0e; stroke-width: 1.5\"/>\n   </g>\n   <g id=\"line2d_38\">\n    <path d=\"M 49.633125 105.35791 \nL 69.163125 81.025626 \n\" clip-path=\"url(#pe7ef5c56a1)\" style=\"fill: none; stroke-dasharray: 9.6,2.4,1.5,2.4; stroke-dashoffset: 0; stroke: #2ca02c; stroke-width: 1.5\"/>\n   </g>\n   <g id=\"line2d_39\">\n    <path d=\"M 34.954394 73.789526 \nL 44.698573 111.34176 \nL 54.442752 120.561295 \nL 64.186931 123.374879 \nL 73.93111 126.700198 \nL 83.675289 127.628565 \n\" clip-path=\"url(#pe7ef5c56a1)\" style=\"fill: none; stroke: #1f77b4; stroke-width: 1.5; stroke-linecap: square\"/>\n   </g>\n   <g id=\"line2d_40\">\n    <path d=\"M 49.633125 13.5 \nL 69.163125 113.720928 \nL 88.693125 121.585883 \n\" clip-path=\"url(#pe7ef5c56a1)\" style=\"fill: none; stroke-dasharray: 5.55,2.4; stroke-dashoffset: 0; stroke: #ff7f0e; stroke-width: 1.5\"/>\n   </g>\n   <g id=\"line2d_41\">\n    <path d=\"M 49.633125 105.35791 \nL 69.163125 81.025626 \nL 88.693125 77.999053 \n\" clip-path=\"url(#pe7ef5c56a1)\" style=\"fill: none; stroke-dasharray: 9.6,2.4,1.5,2.4; stroke-dashoffset: 0; stroke: #2ca02c; stroke-width: 1.5\"/>\n   </g>\n   <g id=\"line2d_42\">\n    <path d=\"M 34.954394 73.789526 \nL 44.698573 111.34176 \nL 54.442752 120.561295 \nL 64.186931 123.374879 \nL 73.93111 126.700198 \nL 83.675289 127.628565 \nL 93.419468 130.178022 \n\" clip-path=\"url(#pe7ef5c56a1)\" style=\"fill: none; stroke: #1f77b4; stroke-width: 1.5; stroke-linecap: square\"/>\n   </g>\n   <g id=\"line2d_43\">\n    <path d=\"M 49.633125 13.5 \nL 69.163125 113.720928 \nL 88.693125 121.585883 \n\" clip-path=\"url(#pe7ef5c56a1)\" style=\"fill: none; stroke-dasharray: 5.55,2.4; stroke-dashoffset: 0; stroke: #ff7f0e; stroke-width: 1.5\"/>\n   </g>\n   <g id=\"line2d_44\">\n    <path d=\"M 49.633125 105.35791 \nL 69.163125 81.025626 \nL 88.693125 77.999053 \n\" clip-path=\"url(#pe7ef5c56a1)\" style=\"fill: none; stroke-dasharray: 9.6,2.4,1.5,2.4; stroke-dashoffset: 0; stroke: #2ca02c; stroke-width: 1.5\"/>\n   </g>\n   <g id=\"line2d_45\">\n    <path d=\"M 34.954394 73.789526 \nL 44.698573 111.34176 \nL 54.442752 120.561295 \nL 64.186931 123.374879 \nL 73.93111 126.700198 \nL 83.675289 127.628565 \nL 93.419468 130.178022 \nL 103.163647 130.425676 \n\" clip-path=\"url(#pe7ef5c56a1)\" style=\"fill: none; stroke: #1f77b4; stroke-width: 1.5; stroke-linecap: square\"/>\n   </g>\n   <g id=\"line2d_46\">\n    <path d=\"M 49.633125 13.5 \nL 69.163125 113.720928 \nL 88.693125 121.585883 \n\" clip-path=\"url(#pe7ef5c56a1)\" style=\"fill: none; stroke-dasharray: 5.55,2.4; stroke-dashoffset: 0; stroke: #ff7f0e; stroke-width: 1.5\"/>\n   </g>\n   <g id=\"line2d_47\">\n    <path d=\"M 49.633125 105.35791 \nL 69.163125 81.025626 \nL 88.693125 77.999053 \n\" clip-path=\"url(#pe7ef5c56a1)\" style=\"fill: none; stroke-dasharray: 9.6,2.4,1.5,2.4; stroke-dashoffset: 0; stroke: #2ca02c; stroke-width: 1.5\"/>\n   </g>\n   <g id=\"line2d_48\">\n    <path d=\"M 34.954394 73.789526 \nL 44.698573 111.34176 \nL 54.442752 120.561295 \nL 64.186931 123.374879 \nL 73.93111 126.700198 \nL 83.675289 127.628565 \nL 93.419468 130.178022 \nL 103.163647 130.425676 \n\" clip-path=\"url(#pe7ef5c56a1)\" style=\"fill: none; stroke: #1f77b4; stroke-width: 1.5; stroke-linecap: square\"/>\n   </g>\n   <g id=\"line2d_49\">\n    <path d=\"M 49.633125 13.5 \nL 69.163125 113.720928 \nL 88.693125 121.585883 \nL 108.223125 125.232272 \n\" clip-path=\"url(#pe7ef5c56a1)\" style=\"fill: none; stroke-dasharray: 5.55,2.4; stroke-dashoffset: 0; stroke: #ff7f0e; stroke-width: 1.5\"/>\n   </g>\n   <g id=\"line2d_50\">\n    <path d=\"M 49.633125 105.35791 \nL 69.163125 81.025626 \nL 88.693125 77.999053 \n\" clip-path=\"url(#pe7ef5c56a1)\" style=\"fill: none; stroke-dasharray: 9.6,2.4,1.5,2.4; stroke-dashoffset: 0; stroke: #2ca02c; stroke-width: 1.5\"/>\n   </g>\n   <g id=\"line2d_51\">\n    <path d=\"M 34.954394 73.789526 \nL 44.698573 111.34176 \nL 54.442752 120.561295 \nL 64.186931 123.374879 \nL 73.93111 126.700198 \nL 83.675289 127.628565 \nL 93.419468 130.178022 \nL 103.163647 130.425676 \n\" clip-path=\"url(#pe7ef5c56a1)\" style=\"fill: none; stroke: #1f77b4; stroke-width: 1.5; stroke-linecap: square\"/>\n   </g>\n   <g id=\"line2d_52\">\n    <path d=\"M 49.633125 13.5 \nL 69.163125 113.720928 \nL 88.693125 121.585883 \nL 108.223125 125.232272 \n\" clip-path=\"url(#pe7ef5c56a1)\" style=\"fill: none; stroke-dasharray: 5.55,2.4; stroke-dashoffset: 0; stroke: #ff7f0e; stroke-width: 1.5\"/>\n   </g>\n   <g id=\"line2d_53\">\n    <path d=\"M 49.633125 105.35791 \nL 69.163125 81.025626 \nL 88.693125 77.999053 \nL 108.223125 77.272333 \n\" clip-path=\"url(#pe7ef5c56a1)\" style=\"fill: none; stroke-dasharray: 9.6,2.4,1.5,2.4; stroke-dashoffset: 0; stroke: #2ca02c; stroke-width: 1.5\"/>\n   </g>\n   <g id=\"line2d_54\">\n    <path d=\"M 34.954394 73.789526 \nL 44.698573 111.34176 \nL 54.442752 120.561295 \nL 64.186931 123.374879 \nL 73.93111 126.700198 \nL 83.675289 127.628565 \nL 93.419468 130.178022 \nL 103.163647 130.425676 \nL 112.907826 132.618411 \n\" clip-path=\"url(#pe7ef5c56a1)\" style=\"fill: none; stroke: #1f77b4; stroke-width: 1.5; stroke-linecap: square\"/>\n   </g>\n   <g id=\"line2d_55\">\n    <path d=\"M 49.633125 13.5 \nL 69.163125 113.720928 \nL 88.693125 121.585883 \nL 108.223125 125.232272 \n\" clip-path=\"url(#pe7ef5c56a1)\" style=\"fill: none; stroke-dasharray: 5.55,2.4; stroke-dashoffset: 0; stroke: #ff7f0e; stroke-width: 1.5\"/>\n   </g>\n   <g id=\"line2d_56\">\n    <path d=\"M 49.633125 105.35791 \nL 69.163125 81.025626 \nL 88.693125 77.999053 \nL 108.223125 77.272333 \n\" clip-path=\"url(#pe7ef5c56a1)\" style=\"fill: none; stroke-dasharray: 9.6,2.4,1.5,2.4; stroke-dashoffset: 0; stroke: #2ca02c; stroke-width: 1.5\"/>\n   </g>\n   <g id=\"line2d_57\">\n    <path d=\"M 34.954394 73.789526 \nL 44.698573 111.34176 \nL 54.442752 120.561295 \nL 64.186931 123.374879 \nL 73.93111 126.700198 \nL 83.675289 127.628565 \nL 93.419468 130.178022 \nL 103.163647 130.425676 \nL 112.907826 132.618411 \nL 122.652006 132.600515 \n\" clip-path=\"url(#pe7ef5c56a1)\" style=\"fill: none; stroke: #1f77b4; stroke-width: 1.5; stroke-linecap: square\"/>\n   </g>\n   <g id=\"line2d_58\">\n    <path d=\"M 49.633125 13.5 \nL 69.163125 113.720928 \nL 88.693125 121.585883 \nL 108.223125 125.232272 \n\" clip-path=\"url(#pe7ef5c56a1)\" style=\"fill: none; stroke-dasharray: 5.55,2.4; stroke-dashoffset: 0; stroke: #ff7f0e; stroke-width: 1.5\"/>\n   </g>\n   <g id=\"line2d_59\">\n    <path d=\"M 49.633125 105.35791 \nL 69.163125 81.025626 \nL 88.693125 77.999053 \nL 108.223125 77.272333 \n\" clip-path=\"url(#pe7ef5c56a1)\" style=\"fill: none; stroke-dasharray: 9.6,2.4,1.5,2.4; stroke-dashoffset: 0; stroke: #2ca02c; stroke-width: 1.5\"/>\n   </g>\n   <g id=\"line2d_60\">\n    <path d=\"M 34.954394 73.789526 \nL 44.698573 111.34176 \nL 54.442752 120.561295 \nL 64.186931 123.374879 \nL 73.93111 126.700198 \nL 83.675289 127.628565 \nL 93.419468 130.178022 \nL 103.163647 130.425676 \nL 112.907826 132.618411 \nL 122.652006 132.600515 \n\" clip-path=\"url(#pe7ef5c56a1)\" style=\"fill: none; stroke: #1f77b4; stroke-width: 1.5; stroke-linecap: square\"/>\n   </g>\n   <g id=\"line2d_61\">\n    <path d=\"M 49.633125 13.5 \nL 69.163125 113.720928 \nL 88.693125 121.585883 \nL 108.223125 125.232272 \nL 127.753125 120.290614 \n\" clip-path=\"url(#pe7ef5c56a1)\" style=\"fill: none; stroke-dasharray: 5.55,2.4; stroke-dashoffset: 0; stroke: #ff7f0e; stroke-width: 1.5\"/>\n   </g>\n   <g id=\"line2d_62\">\n    <path d=\"M 49.633125 105.35791 \nL 69.163125 81.025626 \nL 88.693125 77.999053 \nL 108.223125 77.272333 \n\" clip-path=\"url(#pe7ef5c56a1)\" style=\"fill: none; stroke-dasharray: 9.6,2.4,1.5,2.4; stroke-dashoffset: 0; stroke: #2ca02c; stroke-width: 1.5\"/>\n   </g>\n   <g id=\"line2d_63\">\n    <path d=\"M 34.954394 73.789526 \nL 44.698573 111.34176 \nL 54.442752 120.561295 \nL 64.186931 123.374879 \nL 73.93111 126.700198 \nL 83.675289 127.628565 \nL 93.419468 130.178022 \nL 103.163647 130.425676 \nL 112.907826 132.618411 \nL 122.652006 132.600515 \n\" clip-path=\"url(#pe7ef5c56a1)\" style=\"fill: none; stroke: #1f77b4; stroke-width: 1.5; stroke-linecap: square\"/>\n   </g>\n   <g id=\"line2d_64\">\n    <path d=\"M 49.633125 13.5 \nL 69.163125 113.720928 \nL 88.693125 121.585883 \nL 108.223125 125.232272 \nL 127.753125 120.290614 \n\" clip-path=\"url(#pe7ef5c56a1)\" style=\"fill: none; stroke-dasharray: 5.55,2.4; stroke-dashoffset: 0; stroke: #ff7f0e; stroke-width: 1.5\"/>\n   </g>\n   <g id=\"line2d_65\">\n    <path d=\"M 49.633125 105.35791 \nL 69.163125 81.025626 \nL 88.693125 77.999053 \nL 108.223125 77.272333 \nL 127.753125 77.716914 \n\" clip-path=\"url(#pe7ef5c56a1)\" style=\"fill: none; stroke-dasharray: 9.6,2.4,1.5,2.4; stroke-dashoffset: 0; stroke: #2ca02c; stroke-width: 1.5\"/>\n   </g>\n   <g id=\"line2d_66\">\n    <path d=\"M 34.954394 73.789526 \nL 44.698573 111.34176 \nL 54.442752 120.561295 \nL 64.186931 123.374879 \nL 73.93111 126.700198 \nL 83.675289 127.628565 \nL 93.419468 130.178022 \nL 103.163647 130.425676 \nL 112.907826 132.618411 \nL 122.652006 132.600515 \nL 132.396185 134.303745 \n\" clip-path=\"url(#pe7ef5c56a1)\" style=\"fill: none; stroke: #1f77b4; stroke-width: 1.5; stroke-linecap: square\"/>\n   </g>\n   <g id=\"line2d_67\">\n    <path d=\"M 49.633125 13.5 \nL 69.163125 113.720928 \nL 88.693125 121.585883 \nL 108.223125 125.232272 \nL 127.753125 120.290614 \n\" clip-path=\"url(#pe7ef5c56a1)\" style=\"fill: none; stroke-dasharray: 5.55,2.4; stroke-dashoffset: 0; stroke: #ff7f0e; stroke-width: 1.5\"/>\n   </g>\n   <g id=\"line2d_68\">\n    <path d=\"M 49.633125 105.35791 \nL 69.163125 81.025626 \nL 88.693125 77.999053 \nL 108.223125 77.272333 \nL 127.753125 77.716914 \n\" clip-path=\"url(#pe7ef5c56a1)\" style=\"fill: none; stroke-dasharray: 9.6,2.4,1.5,2.4; stroke-dashoffset: 0; stroke: #2ca02c; stroke-width: 1.5\"/>\n   </g>\n   <g id=\"line2d_69\">\n    <path d=\"M 34.954394 73.789526 \nL 44.698573 111.34176 \nL 54.442752 120.561295 \nL 64.186931 123.374879 \nL 73.93111 126.700198 \nL 83.675289 127.628565 \nL 93.419468 130.178022 \nL 103.163647 130.425676 \nL 112.907826 132.618411 \nL 122.652006 132.600515 \nL 132.396185 134.303745 \nL 142.140364 133.582664 \n\" clip-path=\"url(#pe7ef5c56a1)\" style=\"fill: none; stroke: #1f77b4; stroke-width: 1.5; stroke-linecap: square\"/>\n   </g>\n   <g id=\"line2d_70\">\n    <path d=\"M 49.633125 13.5 \nL 69.163125 113.720928 \nL 88.693125 121.585883 \nL 108.223125 125.232272 \nL 127.753125 120.290614 \n\" clip-path=\"url(#pe7ef5c56a1)\" style=\"fill: none; stroke-dasharray: 5.55,2.4; stroke-dashoffset: 0; stroke: #ff7f0e; stroke-width: 1.5\"/>\n   </g>\n   <g id=\"line2d_71\">\n    <path d=\"M 49.633125 105.35791 \nL 69.163125 81.025626 \nL 88.693125 77.999053 \nL 108.223125 77.272333 \nL 127.753125 77.716914 \n\" clip-path=\"url(#pe7ef5c56a1)\" style=\"fill: none; stroke-dasharray: 9.6,2.4,1.5,2.4; stroke-dashoffset: 0; stroke: #2ca02c; stroke-width: 1.5\"/>\n   </g>\n   <g id=\"line2d_72\">\n    <path d=\"M 34.954394 73.789526 \nL 44.698573 111.34176 \nL 54.442752 120.561295 \nL 64.186931 123.374879 \nL 73.93111 126.700198 \nL 83.675289 127.628565 \nL 93.419468 130.178022 \nL 103.163647 130.425676 \nL 112.907826 132.618411 \nL 122.652006 132.600515 \nL 132.396185 134.303745 \nL 142.140364 133.582664 \n\" clip-path=\"url(#pe7ef5c56a1)\" style=\"fill: none; stroke: #1f77b4; stroke-width: 1.5; stroke-linecap: square\"/>\n   </g>\n   <g id=\"line2d_73\">\n    <path d=\"M 49.633125 13.5 \nL 69.163125 113.720928 \nL 88.693125 121.585883 \nL 108.223125 125.232272 \nL 127.753125 120.290614 \nL 147.283125 129.765023 \n\" clip-path=\"url(#pe7ef5c56a1)\" style=\"fill: none; stroke-dasharray: 5.55,2.4; stroke-dashoffset: 0; stroke: #ff7f0e; stroke-width: 1.5\"/>\n   </g>\n   <g id=\"line2d_74\">\n    <path d=\"M 49.633125 105.35791 \nL 69.163125 81.025626 \nL 88.693125 77.999053 \nL 108.223125 77.272333 \nL 127.753125 77.716914 \n\" clip-path=\"url(#pe7ef5c56a1)\" style=\"fill: none; stroke-dasharray: 9.6,2.4,1.5,2.4; stroke-dashoffset: 0; stroke: #2ca02c; stroke-width: 1.5\"/>\n   </g>\n   <g id=\"line2d_75\">\n    <path d=\"M 34.954394 73.789526 \nL 44.698573 111.34176 \nL 54.442752 120.561295 \nL 64.186931 123.374879 \nL 73.93111 126.700198 \nL 83.675289 127.628565 \nL 93.419468 130.178022 \nL 103.163647 130.425676 \nL 112.907826 132.618411 \nL 122.652006 132.600515 \nL 132.396185 134.303745 \nL 142.140364 133.582664 \n\" clip-path=\"url(#pe7ef5c56a1)\" style=\"fill: none; stroke: #1f77b4; stroke-width: 1.5; stroke-linecap: square\"/>\n   </g>\n   <g id=\"line2d_76\">\n    <path d=\"M 49.633125 13.5 \nL 69.163125 113.720928 \nL 88.693125 121.585883 \nL 108.223125 125.232272 \nL 127.753125 120.290614 \nL 147.283125 129.765023 \n\" clip-path=\"url(#pe7ef5c56a1)\" style=\"fill: none; stroke-dasharray: 5.55,2.4; stroke-dashoffset: 0; stroke: #ff7f0e; stroke-width: 1.5\"/>\n   </g>\n   <g id=\"line2d_77\">\n    <path d=\"M 49.633125 105.35791 \nL 69.163125 81.025626 \nL 88.693125 77.999053 \nL 108.223125 77.272333 \nL 127.753125 77.716914 \nL 147.283125 75.057975 \n\" clip-path=\"url(#pe7ef5c56a1)\" style=\"fill: none; stroke-dasharray: 9.6,2.4,1.5,2.4; stroke-dashoffset: 0; stroke: #2ca02c; stroke-width: 1.5\"/>\n   </g>\n   <g id=\"line2d_78\">\n    <path d=\"M 34.954394 73.789526 \nL 44.698573 111.34176 \nL 54.442752 120.561295 \nL 64.186931 123.374879 \nL 73.93111 126.700198 \nL 83.675289 127.628565 \nL 93.419468 130.178022 \nL 103.163647 130.425676 \nL 112.907826 132.618411 \nL 122.652006 132.600515 \nL 132.396185 134.303745 \nL 142.140364 133.582664 \nL 151.884543 135.668628 \n\" clip-path=\"url(#pe7ef5c56a1)\" style=\"fill: none; stroke: #1f77b4; stroke-width: 1.5; stroke-linecap: square\"/>\n   </g>\n   <g id=\"line2d_79\">\n    <path d=\"M 49.633125 13.5 \nL 69.163125 113.720928 \nL 88.693125 121.585883 \nL 108.223125 125.232272 \nL 127.753125 120.290614 \nL 147.283125 129.765023 \n\" clip-path=\"url(#pe7ef5c56a1)\" style=\"fill: none; stroke-dasharray: 5.55,2.4; stroke-dashoffset: 0; stroke: #ff7f0e; stroke-width: 1.5\"/>\n   </g>\n   <g id=\"line2d_80\">\n    <path d=\"M 49.633125 105.35791 \nL 69.163125 81.025626 \nL 88.693125 77.999053 \nL 108.223125 77.272333 \nL 127.753125 77.716914 \nL 147.283125 75.057975 \n\" clip-path=\"url(#pe7ef5c56a1)\" style=\"fill: none; stroke-dasharray: 9.6,2.4,1.5,2.4; stroke-dashoffset: 0; stroke: #2ca02c; stroke-width: 1.5\"/>\n   </g>\n   <g id=\"line2d_81\">\n    <path d=\"M 34.954394 73.789526 \nL 44.698573 111.34176 \nL 54.442752 120.561295 \nL 64.186931 123.374879 \nL 73.93111 126.700198 \nL 83.675289 127.628565 \nL 93.419468 130.178022 \nL 103.163647 130.425676 \nL 112.907826 132.618411 \nL 122.652006 132.600515 \nL 132.396185 134.303745 \nL 142.140364 133.582664 \nL 151.884543 135.668628 \nL 161.628722 135.601096 \n\" clip-path=\"url(#pe7ef5c56a1)\" style=\"fill: none; stroke: #1f77b4; stroke-width: 1.5; stroke-linecap: square\"/>\n   </g>\n   <g id=\"line2d_82\">\n    <path d=\"M 49.633125 13.5 \nL 69.163125 113.720928 \nL 88.693125 121.585883 \nL 108.223125 125.232272 \nL 127.753125 120.290614 \nL 147.283125 129.765023 \n\" clip-path=\"url(#pe7ef5c56a1)\" style=\"fill: none; stroke-dasharray: 5.55,2.4; stroke-dashoffset: 0; stroke: #ff7f0e; stroke-width: 1.5\"/>\n   </g>\n   <g id=\"line2d_83\">\n    <path d=\"M 49.633125 105.35791 \nL 69.163125 81.025626 \nL 88.693125 77.999053 \nL 108.223125 77.272333 \nL 127.753125 77.716914 \nL 147.283125 75.057975 \n\" clip-path=\"url(#pe7ef5c56a1)\" style=\"fill: none; stroke-dasharray: 9.6,2.4,1.5,2.4; stroke-dashoffset: 0; stroke: #2ca02c; stroke-width: 1.5\"/>\n   </g>\n   <g id=\"line2d_84\">\n    <path d=\"M 34.954394 73.789526 \nL 44.698573 111.34176 \nL 54.442752 120.561295 \nL 64.186931 123.374879 \nL 73.93111 126.700198 \nL 83.675289 127.628565 \nL 93.419468 130.178022 \nL 103.163647 130.425676 \nL 112.907826 132.618411 \nL 122.652006 132.600515 \nL 132.396185 134.303745 \nL 142.140364 133.582664 \nL 151.884543 135.668628 \nL 161.628722 135.601096 \n\" clip-path=\"url(#pe7ef5c56a1)\" style=\"fill: none; stroke: #1f77b4; stroke-width: 1.5; stroke-linecap: square\"/>\n   </g>\n   <g id=\"line2d_85\">\n    <path d=\"M 49.633125 13.5 \nL 69.163125 113.720928 \nL 88.693125 121.585883 \nL 108.223125 125.232272 \nL 127.753125 120.290614 \nL 147.283125 129.765023 \nL 166.813125 128.63448 \n\" clip-path=\"url(#pe7ef5c56a1)\" style=\"fill: none; stroke-dasharray: 5.55,2.4; stroke-dashoffset: 0; stroke: #ff7f0e; stroke-width: 1.5\"/>\n   </g>\n   <g id=\"line2d_86\">\n    <path d=\"M 49.633125 105.35791 \nL 69.163125 81.025626 \nL 88.693125 77.999053 \nL 108.223125 77.272333 \nL 127.753125 77.716914 \nL 147.283125 75.057975 \n\" clip-path=\"url(#pe7ef5c56a1)\" style=\"fill: none; stroke-dasharray: 9.6,2.4,1.5,2.4; stroke-dashoffset: 0; stroke: #2ca02c; stroke-width: 1.5\"/>\n   </g>\n   <g id=\"line2d_87\">\n    <path d=\"M 34.954394 73.789526 \nL 44.698573 111.34176 \nL 54.442752 120.561295 \nL 64.186931 123.374879 \nL 73.93111 126.700198 \nL 83.675289 127.628565 \nL 93.419468 130.178022 \nL 103.163647 130.425676 \nL 112.907826 132.618411 \nL 122.652006 132.600515 \nL 132.396185 134.303745 \nL 142.140364 133.582664 \nL 151.884543 135.668628 \nL 161.628722 135.601096 \n\" clip-path=\"url(#pe7ef5c56a1)\" style=\"fill: none; stroke: #1f77b4; stroke-width: 1.5; stroke-linecap: square\"/>\n   </g>\n   <g id=\"line2d_88\">\n    <path d=\"M 49.633125 13.5 \nL 69.163125 113.720928 \nL 88.693125 121.585883 \nL 108.223125 125.232272 \nL 127.753125 120.290614 \nL 147.283125 129.765023 \nL 166.813125 128.63448 \n\" clip-path=\"url(#pe7ef5c56a1)\" style=\"fill: none; stroke-dasharray: 5.55,2.4; stroke-dashoffset: 0; stroke: #ff7f0e; stroke-width: 1.5\"/>\n   </g>\n   <g id=\"line2d_89\">\n    <path d=\"M 49.633125 105.35791 \nL 69.163125 81.025626 \nL 88.693125 77.999053 \nL 108.223125 77.272333 \nL 127.753125 77.716914 \nL 147.283125 75.057975 \nL 166.813125 75.733397 \n\" clip-path=\"url(#pe7ef5c56a1)\" style=\"fill: none; stroke-dasharray: 9.6,2.4,1.5,2.4; stroke-dashoffset: 0; stroke: #2ca02c; stroke-width: 1.5\"/>\n   </g>\n   <g id=\"line2d_90\">\n    <path d=\"M 34.954394 73.789526 \nL 44.698573 111.34176 \nL 54.442752 120.561295 \nL 64.186931 123.374879 \nL 73.93111 126.700198 \nL 83.675289 127.628565 \nL 93.419468 130.178022 \nL 103.163647 130.425676 \nL 112.907826 132.618411 \nL 122.652006 132.600515 \nL 132.396185 134.303745 \nL 142.140364 133.582664 \nL 151.884543 135.668628 \nL 161.628722 135.601096 \nL 171.372901 136.943692 \n\" clip-path=\"url(#pe7ef5c56a1)\" style=\"fill: none; stroke: #1f77b4; stroke-width: 1.5; stroke-linecap: square\"/>\n   </g>\n   <g id=\"line2d_91\">\n    <path d=\"M 49.633125 13.5 \nL 69.163125 113.720928 \nL 88.693125 121.585883 \nL 108.223125 125.232272 \nL 127.753125 120.290614 \nL 147.283125 129.765023 \nL 166.813125 128.63448 \n\" clip-path=\"url(#pe7ef5c56a1)\" style=\"fill: none; stroke-dasharray: 5.55,2.4; stroke-dashoffset: 0; stroke: #ff7f0e; stroke-width: 1.5\"/>\n   </g>\n   <g id=\"line2d_92\">\n    <path d=\"M 49.633125 105.35791 \nL 69.163125 81.025626 \nL 88.693125 77.999053 \nL 108.223125 77.272333 \nL 127.753125 77.716914 \nL 147.283125 75.057975 \nL 166.813125 75.733397 \n\" clip-path=\"url(#pe7ef5c56a1)\" style=\"fill: none; stroke-dasharray: 9.6,2.4,1.5,2.4; stroke-dashoffset: 0; stroke: #2ca02c; stroke-width: 1.5\"/>\n   </g>\n   <g id=\"line2d_93\">\n    <path d=\"M 34.954394 73.789526 \nL 44.698573 111.34176 \nL 54.442752 120.561295 \nL 64.186931 123.374879 \nL 73.93111 126.700198 \nL 83.675289 127.628565 \nL 93.419468 130.178022 \nL 103.163647 130.425676 \nL 112.907826 132.618411 \nL 122.652006 132.600515 \nL 132.396185 134.303745 \nL 142.140364 133.582664 \nL 151.884543 135.668628 \nL 161.628722 135.601096 \nL 171.372901 136.943692 \nL 181.11708 136.917722 \n\" clip-path=\"url(#pe7ef5c56a1)\" style=\"fill: none; stroke: #1f77b4; stroke-width: 1.5; stroke-linecap: square\"/>\n   </g>\n   <g id=\"line2d_94\">\n    <path d=\"M 49.633125 13.5 \nL 69.163125 113.720928 \nL 88.693125 121.585883 \nL 108.223125 125.232272 \nL 127.753125 120.290614 \nL 147.283125 129.765023 \nL 166.813125 128.63448 \n\" clip-path=\"url(#pe7ef5c56a1)\" style=\"fill: none; stroke-dasharray: 5.55,2.4; stroke-dashoffset: 0; stroke: #ff7f0e; stroke-width: 1.5\"/>\n   </g>\n   <g id=\"line2d_95\">\n    <path d=\"M 49.633125 105.35791 \nL 69.163125 81.025626 \nL 88.693125 77.999053 \nL 108.223125 77.272333 \nL 127.753125 77.716914 \nL 147.283125 75.057975 \nL 166.813125 75.733397 \n\" clip-path=\"url(#pe7ef5c56a1)\" style=\"fill: none; stroke-dasharray: 9.6,2.4,1.5,2.4; stroke-dashoffset: 0; stroke: #2ca02c; stroke-width: 1.5\"/>\n   </g>\n   <g id=\"line2d_96\">\n    <path d=\"M 34.954394 73.789526 \nL 44.698573 111.34176 \nL 54.442752 120.561295 \nL 64.186931 123.374879 \nL 73.93111 126.700198 \nL 83.675289 127.628565 \nL 93.419468 130.178022 \nL 103.163647 130.425676 \nL 112.907826 132.618411 \nL 122.652006 132.600515 \nL 132.396185 134.303745 \nL 142.140364 133.582664 \nL 151.884543 135.668628 \nL 161.628722 135.601096 \nL 171.372901 136.943692 \nL 181.11708 136.917722 \n\" clip-path=\"url(#pe7ef5c56a1)\" style=\"fill: none; stroke: #1f77b4; stroke-width: 1.5; stroke-linecap: square\"/>\n   </g>\n   <g id=\"line2d_97\">\n    <path d=\"M 49.633125 13.5 \nL 69.163125 113.720928 \nL 88.693125 121.585883 \nL 108.223125 125.232272 \nL 127.753125 120.290614 \nL 147.283125 129.765023 \nL 166.813125 128.63448 \nL 186.343125 126.956133 \n\" clip-path=\"url(#pe7ef5c56a1)\" style=\"fill: none; stroke-dasharray: 5.55,2.4; stroke-dashoffset: 0; stroke: #ff7f0e; stroke-width: 1.5\"/>\n   </g>\n   <g id=\"line2d_98\">\n    <path d=\"M 49.633125 105.35791 \nL 69.163125 81.025626 \nL 88.693125 77.999053 \nL 108.223125 77.272333 \nL 127.753125 77.716914 \nL 147.283125 75.057975 \nL 166.813125 75.733397 \n\" clip-path=\"url(#pe7ef5c56a1)\" style=\"fill: none; stroke-dasharray: 9.6,2.4,1.5,2.4; stroke-dashoffset: 0; stroke: #2ca02c; stroke-width: 1.5\"/>\n   </g>\n   <g id=\"line2d_99\">\n    <path d=\"M 34.954394 73.789526 \nL 44.698573 111.34176 \nL 54.442752 120.561295 \nL 64.186931 123.374879 \nL 73.93111 126.700198 \nL 83.675289 127.628565 \nL 93.419468 130.178022 \nL 103.163647 130.425676 \nL 112.907826 132.618411 \nL 122.652006 132.600515 \nL 132.396185 134.303745 \nL 142.140364 133.582664 \nL 151.884543 135.668628 \nL 161.628722 135.601096 \nL 171.372901 136.943692 \nL 181.11708 136.917722 \n\" clip-path=\"url(#pe7ef5c56a1)\" style=\"fill: none; stroke: #1f77b4; stroke-width: 1.5; stroke-linecap: square\"/>\n   </g>\n   <g id=\"line2d_100\">\n    <path d=\"M 49.633125 13.5 \nL 69.163125 113.720928 \nL 88.693125 121.585883 \nL 108.223125 125.232272 \nL 127.753125 120.290614 \nL 147.283125 129.765023 \nL 166.813125 128.63448 \nL 186.343125 126.956133 \n\" clip-path=\"url(#pe7ef5c56a1)\" style=\"fill: none; stroke-dasharray: 5.55,2.4; stroke-dashoffset: 0; stroke: #ff7f0e; stroke-width: 1.5\"/>\n   </g>\n   <g id=\"line2d_101\">\n    <path d=\"M 49.633125 105.35791 \nL 69.163125 81.025626 \nL 88.693125 77.999053 \nL 108.223125 77.272333 \nL 127.753125 77.716914 \nL 147.283125 75.057975 \nL 166.813125 75.733397 \nL 186.343125 76.14378 \n\" clip-path=\"url(#pe7ef5c56a1)\" style=\"fill: none; stroke-dasharray: 9.6,2.4,1.5,2.4; stroke-dashoffset: 0; stroke: #2ca02c; stroke-width: 1.5\"/>\n   </g>\n   <g id=\"line2d_102\">\n    <path d=\"M 34.954394 73.789526 \nL 44.698573 111.34176 \nL 54.442752 120.561295 \nL 64.186931 123.374879 \nL 73.93111 126.700198 \nL 83.675289 127.628565 \nL 93.419468 130.178022 \nL 103.163647 130.425676 \nL 112.907826 132.618411 \nL 122.652006 132.600515 \nL 132.396185 134.303745 \nL 142.140364 133.582664 \nL 151.884543 135.668628 \nL 161.628722 135.601096 \nL 171.372901 136.943692 \nL 181.11708 136.917722 \nL 190.861259 137.974931 \n\" clip-path=\"url(#pe7ef5c56a1)\" style=\"fill: none; stroke: #1f77b4; stroke-width: 1.5; stroke-linecap: square\"/>\n   </g>\n   <g id=\"line2d_103\">\n    <path d=\"M 49.633125 13.5 \nL 69.163125 113.720928 \nL 88.693125 121.585883 \nL 108.223125 125.232272 \nL 127.753125 120.290614 \nL 147.283125 129.765023 \nL 166.813125 128.63448 \nL 186.343125 126.956133 \n\" clip-path=\"url(#pe7ef5c56a1)\" style=\"fill: none; stroke-dasharray: 5.55,2.4; stroke-dashoffset: 0; stroke: #ff7f0e; stroke-width: 1.5\"/>\n   </g>\n   <g id=\"line2d_104\">\n    <path d=\"M 49.633125 105.35791 \nL 69.163125 81.025626 \nL 88.693125 77.999053 \nL 108.223125 77.272333 \nL 127.753125 77.716914 \nL 147.283125 75.057975 \nL 166.813125 75.733397 \nL 186.343125 76.14378 \n\" clip-path=\"url(#pe7ef5c56a1)\" style=\"fill: none; stroke-dasharray: 9.6,2.4,1.5,2.4; stroke-dashoffset: 0; stroke: #2ca02c; stroke-width: 1.5\"/>\n   </g>\n   <g id=\"line2d_105\">\n    <path d=\"M 34.954394 73.789526 \nL 44.698573 111.34176 \nL 54.442752 120.561295 \nL 64.186931 123.374879 \nL 73.93111 126.700198 \nL 83.675289 127.628565 \nL 93.419468 130.178022 \nL 103.163647 130.425676 \nL 112.907826 132.618411 \nL 122.652006 132.600515 \nL 132.396185 134.303745 \nL 142.140364 133.582664 \nL 151.884543 135.668628 \nL 161.628722 135.601096 \nL 171.372901 136.943692 \nL 181.11708 136.917722 \nL 190.861259 137.974931 \nL 200.605438 137.76242 \n\" clip-path=\"url(#pe7ef5c56a1)\" style=\"fill: none; stroke: #1f77b4; stroke-width: 1.5; stroke-linecap: square\"/>\n   </g>\n   <g id=\"line2d_106\">\n    <path d=\"M 49.633125 13.5 \nL 69.163125 113.720928 \nL 88.693125 121.585883 \nL 108.223125 125.232272 \nL 127.753125 120.290614 \nL 147.283125 129.765023 \nL 166.813125 128.63448 \nL 186.343125 126.956133 \n\" clip-path=\"url(#pe7ef5c56a1)\" style=\"fill: none; stroke-dasharray: 5.55,2.4; stroke-dashoffset: 0; stroke: #ff7f0e; stroke-width: 1.5\"/>\n   </g>\n   <g id=\"line2d_107\">\n    <path d=\"M 49.633125 105.35791 \nL 69.163125 81.025626 \nL 88.693125 77.999053 \nL 108.223125 77.272333 \nL 127.753125 77.716914 \nL 147.283125 75.057975 \nL 166.813125 75.733397 \nL 186.343125 76.14378 \n\" clip-path=\"url(#pe7ef5c56a1)\" style=\"fill: none; stroke-dasharray: 9.6,2.4,1.5,2.4; stroke-dashoffset: 0; stroke: #2ca02c; stroke-width: 1.5\"/>\n   </g>\n   <g id=\"line2d_108\">\n    <path d=\"M 34.954394 73.789526 \nL 44.698573 111.34176 \nL 54.442752 120.561295 \nL 64.186931 123.374879 \nL 73.93111 126.700198 \nL 83.675289 127.628565 \nL 93.419468 130.178022 \nL 103.163647 130.425676 \nL 112.907826 132.618411 \nL 122.652006 132.600515 \nL 132.396185 134.303745 \nL 142.140364 133.582664 \nL 151.884543 135.668628 \nL 161.628722 135.601096 \nL 171.372901 136.943692 \nL 181.11708 136.917722 \nL 190.861259 137.974931 \nL 200.605438 137.76242 \n\" clip-path=\"url(#pe7ef5c56a1)\" style=\"fill: none; stroke: #1f77b4; stroke-width: 1.5; stroke-linecap: square\"/>\n   </g>\n   <g id=\"line2d_109\">\n    <path d=\"M 49.633125 13.5 \nL 69.163125 113.720928 \nL 88.693125 121.585883 \nL 108.223125 125.232272 \nL 127.753125 120.290614 \nL 147.283125 129.765023 \nL 166.813125 128.63448 \nL 186.343125 126.956133 \nL 205.873125 125.221877 \n\" clip-path=\"url(#pe7ef5c56a1)\" style=\"fill: none; stroke-dasharray: 5.55,2.4; stroke-dashoffset: 0; stroke: #ff7f0e; stroke-width: 1.5\"/>\n   </g>\n   <g id=\"line2d_110\">\n    <path d=\"M 49.633125 105.35791 \nL 69.163125 81.025626 \nL 88.693125 77.999053 \nL 108.223125 77.272333 \nL 127.753125 77.716914 \nL 147.283125 75.057975 \nL 166.813125 75.733397 \nL 186.343125 76.14378 \n\" clip-path=\"url(#pe7ef5c56a1)\" style=\"fill: none; stroke-dasharray: 9.6,2.4,1.5,2.4; stroke-dashoffset: 0; stroke: #2ca02c; stroke-width: 1.5\"/>\n   </g>\n   <g id=\"line2d_111\">\n    <path d=\"M 34.954394 73.789526 \nL 44.698573 111.34176 \nL 54.442752 120.561295 \nL 64.186931 123.374879 \nL 73.93111 126.700198 \nL 83.675289 127.628565 \nL 93.419468 130.178022 \nL 103.163647 130.425676 \nL 112.907826 132.618411 \nL 122.652006 132.600515 \nL 132.396185 134.303745 \nL 142.140364 133.582664 \nL 151.884543 135.668628 \nL 161.628722 135.601096 \nL 171.372901 136.943692 \nL 181.11708 136.917722 \nL 190.861259 137.974931 \nL 200.605438 137.76242 \n\" clip-path=\"url(#pe7ef5c56a1)\" style=\"fill: none; stroke: #1f77b4; stroke-width: 1.5; stroke-linecap: square\"/>\n   </g>\n   <g id=\"line2d_112\">\n    <path d=\"M 49.633125 13.5 \nL 69.163125 113.720928 \nL 88.693125 121.585883 \nL 108.223125 125.232272 \nL 127.753125 120.290614 \nL 147.283125 129.765023 \nL 166.813125 128.63448 \nL 186.343125 126.956133 \nL 205.873125 125.221877 \n\" clip-path=\"url(#pe7ef5c56a1)\" style=\"fill: none; stroke-dasharray: 5.55,2.4; stroke-dashoffset: 0; stroke: #ff7f0e; stroke-width: 1.5\"/>\n   </g>\n   <g id=\"line2d_113\">\n    <path d=\"M 49.633125 105.35791 \nL 69.163125 81.025626 \nL 88.693125 77.999053 \nL 108.223125 77.272333 \nL 127.753125 77.716914 \nL 147.283125 75.057975 \nL 166.813125 75.733397 \nL 186.343125 76.14378 \nL 205.873125 76.39172 \n\" clip-path=\"url(#pe7ef5c56a1)\" style=\"fill: none; stroke-dasharray: 9.6,2.4,1.5,2.4; stroke-dashoffset: 0; stroke: #2ca02c; stroke-width: 1.5\"/>\n   </g>\n   <g id=\"line2d_114\">\n    <path d=\"M 34.954394 73.789526 \nL 44.698573 111.34176 \nL 54.442752 120.561295 \nL 64.186931 123.374879 \nL 73.93111 126.700198 \nL 83.675289 127.628565 \nL 93.419468 130.178022 \nL 103.163647 130.425676 \nL 112.907826 132.618411 \nL 122.652006 132.600515 \nL 132.396185 134.303745 \nL 142.140364 133.582664 \nL 151.884543 135.668628 \nL 161.628722 135.601096 \nL 171.372901 136.943692 \nL 181.11708 136.917722 \nL 190.861259 137.974931 \nL 200.605438 137.76242 \nL 210.349618 139.5 \n\" clip-path=\"url(#pe7ef5c56a1)\" style=\"fill: none; stroke: #1f77b4; stroke-width: 1.5; stroke-linecap: square\"/>\n   </g>\n   <g id=\"line2d_115\">\n    <path d=\"M 49.633125 13.5 \nL 69.163125 113.720928 \nL 88.693125 121.585883 \nL 108.223125 125.232272 \nL 127.753125 120.290614 \nL 147.283125 129.765023 \nL 166.813125 128.63448 \nL 186.343125 126.956133 \nL 205.873125 125.221877 \n\" clip-path=\"url(#pe7ef5c56a1)\" style=\"fill: none; stroke-dasharray: 5.55,2.4; stroke-dashoffset: 0; stroke: #ff7f0e; stroke-width: 1.5\"/>\n   </g>\n   <g id=\"line2d_116\">\n    <path d=\"M 49.633125 105.35791 \nL 69.163125 81.025626 \nL 88.693125 77.999053 \nL 108.223125 77.272333 \nL 127.753125 77.716914 \nL 147.283125 75.057975 \nL 166.813125 75.733397 \nL 186.343125 76.14378 \nL 205.873125 76.39172 \n\" clip-path=\"url(#pe7ef5c56a1)\" style=\"fill: none; stroke-dasharray: 9.6,2.4,1.5,2.4; stroke-dashoffset: 0; stroke: #2ca02c; stroke-width: 1.5\"/>\n   </g>\n   <g id=\"line2d_117\">\n    <path d=\"M 34.954394 73.789526 \nL 44.698573 111.34176 \nL 54.442752 120.561295 \nL 64.186931 123.374879 \nL 73.93111 126.700198 \nL 83.675289 127.628565 \nL 93.419468 130.178022 \nL 103.163647 130.425676 \nL 112.907826 132.618411 \nL 122.652006 132.600515 \nL 132.396185 134.303745 \nL 142.140364 133.582664 \nL 151.884543 135.668628 \nL 161.628722 135.601096 \nL 171.372901 136.943692 \nL 181.11708 136.917722 \nL 190.861259 137.974931 \nL 200.605438 137.76242 \nL 210.349618 139.5 \nL 220.093797 137.948817 \n\" clip-path=\"url(#pe7ef5c56a1)\" style=\"fill: none; stroke: #1f77b4; stroke-width: 1.5; stroke-linecap: square\"/>\n   </g>\n   <g id=\"line2d_118\">\n    <path d=\"M 49.633125 13.5 \nL 69.163125 113.720928 \nL 88.693125 121.585883 \nL 108.223125 125.232272 \nL 127.753125 120.290614 \nL 147.283125 129.765023 \nL 166.813125 128.63448 \nL 186.343125 126.956133 \nL 205.873125 125.221877 \n\" clip-path=\"url(#pe7ef5c56a1)\" style=\"fill: none; stroke-dasharray: 5.55,2.4; stroke-dashoffset: 0; stroke: #ff7f0e; stroke-width: 1.5\"/>\n   </g>\n   <g id=\"line2d_119\">\n    <path d=\"M 49.633125 105.35791 \nL 69.163125 81.025626 \nL 88.693125 77.999053 \nL 108.223125 77.272333 \nL 127.753125 77.716914 \nL 147.283125 75.057975 \nL 166.813125 75.733397 \nL 186.343125 76.14378 \nL 205.873125 76.39172 \n\" clip-path=\"url(#pe7ef5c56a1)\" style=\"fill: none; stroke-dasharray: 9.6,2.4,1.5,2.4; stroke-dashoffset: 0; stroke: #2ca02c; stroke-width: 1.5\"/>\n   </g>\n   <g id=\"line2d_120\">\n    <path d=\"M 34.954394 73.789526 \nL 44.698573 111.34176 \nL 54.442752 120.561295 \nL 64.186931 123.374879 \nL 73.93111 126.700198 \nL 83.675289 127.628565 \nL 93.419468 130.178022 \nL 103.163647 130.425676 \nL 112.907826 132.618411 \nL 122.652006 132.600515 \nL 132.396185 134.303745 \nL 142.140364 133.582664 \nL 151.884543 135.668628 \nL 161.628722 135.601096 \nL 171.372901 136.943692 \nL 181.11708 136.917722 \nL 190.861259 137.974931 \nL 200.605438 137.76242 \nL 210.349618 139.5 \nL 220.093797 137.948817 \n\" clip-path=\"url(#pe7ef5c56a1)\" style=\"fill: none; stroke: #1f77b4; stroke-width: 1.5; stroke-linecap: square\"/>\n   </g>\n   <g id=\"line2d_121\">\n    <path d=\"M 49.633125 13.5 \nL 69.163125 113.720928 \nL 88.693125 121.585883 \nL 108.223125 125.232272 \nL 127.753125 120.290614 \nL 147.283125 129.765023 \nL 166.813125 128.63448 \nL 186.343125 126.956133 \nL 205.873125 125.221877 \nL 225.403125 116.365366 \n\" clip-path=\"url(#pe7ef5c56a1)\" style=\"fill: none; stroke-dasharray: 5.55,2.4; stroke-dashoffset: 0; stroke: #ff7f0e; stroke-width: 1.5\"/>\n   </g>\n   <g id=\"line2d_122\">\n    <path d=\"M 49.633125 105.35791 \nL 69.163125 81.025626 \nL 88.693125 77.999053 \nL 108.223125 77.272333 \nL 127.753125 77.716914 \nL 147.283125 75.057975 \nL 166.813125 75.733397 \nL 186.343125 76.14378 \nL 205.873125 76.39172 \n\" clip-path=\"url(#pe7ef5c56a1)\" style=\"fill: none; stroke-dasharray: 9.6,2.4,1.5,2.4; stroke-dashoffset: 0; stroke: #2ca02c; stroke-width: 1.5\"/>\n   </g>\n   <g id=\"line2d_123\">\n    <path d=\"M 34.954394 73.789526 \nL 44.698573 111.34176 \nL 54.442752 120.561295 \nL 64.186931 123.374879 \nL 73.93111 126.700198 \nL 83.675289 127.628565 \nL 93.419468 130.178022 \nL 103.163647 130.425676 \nL 112.907826 132.618411 \nL 122.652006 132.600515 \nL 132.396185 134.303745 \nL 142.140364 133.582664 \nL 151.884543 135.668628 \nL 161.628722 135.601096 \nL 171.372901 136.943692 \nL 181.11708 136.917722 \nL 190.861259 137.974931 \nL 200.605438 137.76242 \nL 210.349618 139.5 \nL 220.093797 137.948817 \n\" clip-path=\"url(#pe7ef5c56a1)\" style=\"fill: none; stroke: #1f77b4; stroke-width: 1.5; stroke-linecap: square\"/>\n   </g>\n   <g id=\"line2d_124\">\n    <path d=\"M 49.633125 13.5 \nL 69.163125 113.720928 \nL 88.693125 121.585883 \nL 108.223125 125.232272 \nL 127.753125 120.290614 \nL 147.283125 129.765023 \nL 166.813125 128.63448 \nL 186.343125 126.956133 \nL 205.873125 125.221877 \nL 225.403125 116.365366 \n\" clip-path=\"url(#pe7ef5c56a1)\" style=\"fill: none; stroke-dasharray: 5.55,2.4; stroke-dashoffset: 0; stroke: #ff7f0e; stroke-width: 1.5\"/>\n   </g>\n   <g id=\"line2d_125\">\n    <path d=\"M 49.633125 105.35791 \nL 69.163125 81.025626 \nL 88.693125 77.999053 \nL 108.223125 77.272333 \nL 127.753125 77.716914 \nL 147.283125 75.057975 \nL 166.813125 75.733397 \nL 186.343125 76.14378 \nL 205.873125 76.39172 \nL 225.403125 78.323939 \n\" clip-path=\"url(#pe7ef5c56a1)\" style=\"fill: none; stroke-dasharray: 9.6,2.4,1.5,2.4; stroke-dashoffset: 0; stroke: #2ca02c; stroke-width: 1.5\"/>\n   </g>\n   <g id=\"patch_3\">\n    <path d=\"M 30.103125 145.8 \nL 30.103125 7.2 \n\" style=\"fill: none; stroke: #000000; stroke-width: 0.8; stroke-linejoin: miter; stroke-linecap: square\"/>\n   </g>\n   <g id=\"patch_4\">\n    <path d=\"M 225.403125 145.8 \nL 225.403125 7.2 \n\" style=\"fill: none; stroke: #000000; stroke-width: 0.8; stroke-linejoin: miter; stroke-linecap: square\"/>\n   </g>\n   <g id=\"patch_5\">\n    <path d=\"M 30.103125 145.8 \nL 225.403125 145.8 \n\" style=\"fill: none; stroke: #000000; stroke-width: 0.8; stroke-linejoin: miter; stroke-linecap: square\"/>\n   </g>\n   <g id=\"patch_6\">\n    <path d=\"M 30.103125 7.2 \nL 225.403125 7.2 \n\" style=\"fill: none; stroke: #000000; stroke-width: 0.8; stroke-linejoin: miter; stroke-linecap: square\"/>\n   </g>\n   <g id=\"legend_1\">\n    <g id=\"patch_7\">\n     <path d=\"M 138.8125 60.06875 \nL 218.403125 60.06875 \nQ 220.403125 60.06875 220.403125 58.06875 \nL 220.403125 14.2 \nQ 220.403125 12.2 218.403125 12.2 \nL 138.8125 12.2 \nQ 136.8125 12.2 136.8125 14.2 \nL 136.8125 58.06875 \nQ 136.8125 60.06875 138.8125 60.06875 \nz\n\" style=\"fill: #ffffff; opacity: 0.8; stroke: #cccccc; stroke-linejoin: miter\"/>\n    </g>\n    <g id=\"line2d_126\">\n     <path d=\"M 140.8125 20.298438 \nL 150.8125 20.298438 \nL 160.8125 20.298438 \n\" style=\"fill: none; stroke: #1f77b4; stroke-width: 1.5; stroke-linecap: square\"/>\n    </g>\n    <g id=\"text_11\">\n     <!-- train_loss -->\n     <g transform=\"translate(168.8125 23.798438) scale(0.1 -0.1)\">\n      <defs>\n       <path id=\"DejaVuSans-74\" d=\"M 1172 4494 \nL 1172 3500 \nL 2356 3500 \nL 2356 3053 \nL 1172 3053 \nL 1172 1153 \nQ 1172 725 1289 603 \nQ 1406 481 1766 481 \nL 2356 481 \nL 2356 0 \nL 1766 0 \nQ 1100 0 847 248 \nQ 594 497 594 1153 \nL 594 3053 \nL 172 3053 \nL 172 3500 \nL 594 3500 \nL 594 4494 \nL 1172 4494 \nz\n\" transform=\"scale(0.015625)\"/>\n       <path id=\"DejaVuSans-72\" d=\"M 2631 2963 \nQ 2534 3019 2420 3045 \nQ 2306 3072 2169 3072 \nQ 1681 3072 1420 2755 \nQ 1159 2438 1159 1844 \nL 1159 0 \nL 581 0 \nL 581 3500 \nL 1159 3500 \nL 1159 2956 \nQ 1341 3275 1631 3429 \nQ 1922 3584 2338 3584 \nQ 2397 3584 2469 3576 \nQ 2541 3569 2628 3553 \nL 2631 2963 \nz\n\" transform=\"scale(0.015625)\"/>\n       <path id=\"DejaVuSans-61\" d=\"M 2194 1759 \nQ 1497 1759 1228 1600 \nQ 959 1441 959 1056 \nQ 959 750 1161 570 \nQ 1363 391 1709 391 \nQ 2188 391 2477 730 \nQ 2766 1069 2766 1631 \nL 2766 1759 \nL 2194 1759 \nz\nM 3341 1997 \nL 3341 0 \nL 2766 0 \nL 2766 531 \nQ 2569 213 2275 61 \nQ 1981 -91 1556 -91 \nQ 1019 -91 701 211 \nQ 384 513 384 1019 \nQ 384 1609 779 1909 \nQ 1175 2209 1959 2209 \nL 2766 2209 \nL 2766 2266 \nQ 2766 2663 2505 2880 \nQ 2244 3097 1772 3097 \nQ 1472 3097 1187 3025 \nQ 903 2953 641 2809 \nL 641 3341 \nQ 956 3463 1253 3523 \nQ 1550 3584 1831 3584 \nQ 2591 3584 2966 3190 \nQ 3341 2797 3341 1997 \nz\n\" transform=\"scale(0.015625)\"/>\n       <path id=\"DejaVuSans-69\" d=\"M 603 3500 \nL 1178 3500 \nL 1178 0 \nL 603 0 \nL 603 3500 \nz\nM 603 4863 \nL 1178 4863 \nL 1178 4134 \nL 603 4134 \nL 603 4863 \nz\n\" transform=\"scale(0.015625)\"/>\n       <path id=\"DejaVuSans-6e\" d=\"M 3513 2113 \nL 3513 0 \nL 2938 0 \nL 2938 2094 \nQ 2938 2591 2744 2837 \nQ 2550 3084 2163 3084 \nQ 1697 3084 1428 2787 \nQ 1159 2491 1159 1978 \nL 1159 0 \nL 581 0 \nL 581 3500 \nL 1159 3500 \nL 1159 2956 \nQ 1366 3272 1645 3428 \nQ 1925 3584 2291 3584 \nQ 2894 3584 3203 3211 \nQ 3513 2838 3513 2113 \nz\n\" transform=\"scale(0.015625)\"/>\n       <path id=\"DejaVuSans-5f\" d=\"M 3263 -1063 \nL 3263 -1509 \nL -63 -1509 \nL -63 -1063 \nL 3263 -1063 \nz\n\" transform=\"scale(0.015625)\"/>\n       <path id=\"DejaVuSans-6c\" d=\"M 603 4863 \nL 1178 4863 \nL 1178 0 \nL 603 0 \nL 603 4863 \nz\n\" transform=\"scale(0.015625)\"/>\n       <path id=\"DejaVuSans-73\" d=\"M 2834 3397 \nL 2834 2853 \nQ 2591 2978 2328 3040 \nQ 2066 3103 1784 3103 \nQ 1356 3103 1142 2972 \nQ 928 2841 928 2578 \nQ 928 2378 1081 2264 \nQ 1234 2150 1697 2047 \nL 1894 2003 \nQ 2506 1872 2764 1633 \nQ 3022 1394 3022 966 \nQ 3022 478 2636 193 \nQ 2250 -91 1575 -91 \nQ 1294 -91 989 -36 \nQ 684 19 347 128 \nL 347 722 \nQ 666 556 975 473 \nQ 1284 391 1588 391 \nQ 1994 391 2212 530 \nQ 2431 669 2431 922 \nQ 2431 1156 2273 1281 \nQ 2116 1406 1581 1522 \nL 1381 1569 \nQ 847 1681 609 1914 \nQ 372 2147 372 2553 \nQ 372 3047 722 3315 \nQ 1072 3584 1716 3584 \nQ 2034 3584 2315 3537 \nQ 2597 3491 2834 3397 \nz\n\" transform=\"scale(0.015625)\"/>\n      </defs>\n      <use xlink:href=\"#DejaVuSans-74\"/>\n      <use xlink:href=\"#DejaVuSans-72\" x=\"39.208984\"/>\n      <use xlink:href=\"#DejaVuSans-61\" x=\"80.322266\"/>\n      <use xlink:href=\"#DejaVuSans-69\" x=\"141.601562\"/>\n      <use xlink:href=\"#DejaVuSans-6e\" x=\"169.384766\"/>\n      <use xlink:href=\"#DejaVuSans-5f\" x=\"232.763672\"/>\n      <use xlink:href=\"#DejaVuSans-6c\" x=\"282.763672\"/>\n      <use xlink:href=\"#DejaVuSans-6f\" x=\"310.546875\"/>\n      <use xlink:href=\"#DejaVuSans-73\" x=\"371.728516\"/>\n      <use xlink:href=\"#DejaVuSans-73\" x=\"423.828125\"/>\n     </g>\n    </g>\n    <g id=\"line2d_127\">\n     <path d=\"M 140.8125 35.254688 \nL 150.8125 35.254688 \nL 160.8125 35.254688 \n\" style=\"fill: none; stroke-dasharray: 5.55,2.4; stroke-dashoffset: 0; stroke: #ff7f0e; stroke-width: 1.5\"/>\n    </g>\n    <g id=\"text_12\">\n     <!-- val_loss -->\n     <g transform=\"translate(168.8125 38.754688) scale(0.1 -0.1)\">\n      <defs>\n       <path id=\"DejaVuSans-76\" d=\"M 191 3500 \nL 800 3500 \nL 1894 563 \nL 2988 3500 \nL 3597 3500 \nL 2284 0 \nL 1503 0 \nL 191 3500 \nz\n\" transform=\"scale(0.015625)\"/>\n      </defs>\n      <use xlink:href=\"#DejaVuSans-76\"/>\n      <use xlink:href=\"#DejaVuSans-61\" x=\"59.179688\"/>\n      <use xlink:href=\"#DejaVuSans-6c\" x=\"120.458984\"/>\n      <use xlink:href=\"#DejaVuSans-5f\" x=\"148.242188\"/>\n      <use xlink:href=\"#DejaVuSans-6c\" x=\"198.242188\"/>\n      <use xlink:href=\"#DejaVuSans-6f\" x=\"226.025391\"/>\n      <use xlink:href=\"#DejaVuSans-73\" x=\"287.207031\"/>\n      <use xlink:href=\"#DejaVuSans-73\" x=\"339.306641\"/>\n     </g>\n    </g>\n    <g id=\"line2d_128\">\n     <path d=\"M 140.8125 50.210938 \nL 150.8125 50.210938 \nL 160.8125 50.210938 \n\" style=\"fill: none; stroke-dasharray: 9.6,2.4,1.5,2.4; stroke-dashoffset: 0; stroke: #2ca02c; stroke-width: 1.5\"/>\n    </g>\n    <g id=\"text_13\">\n     <!-- val_acc -->\n     <g transform=\"translate(168.8125 53.710938) scale(0.1 -0.1)\">\n      <use xlink:href=\"#DejaVuSans-76\"/>\n      <use xlink:href=\"#DejaVuSans-61\" x=\"59.179688\"/>\n      <use xlink:href=\"#DejaVuSans-6c\" x=\"120.458984\"/>\n      <use xlink:href=\"#DejaVuSans-5f\" x=\"148.242188\"/>\n      <use xlink:href=\"#DejaVuSans-61\" x=\"198.242188\"/>\n      <use xlink:href=\"#DejaVuSans-63\" x=\"259.521484\"/>\n      <use xlink:href=\"#DejaVuSans-63\" x=\"314.501953\"/>\n     </g>\n    </g>\n   </g>\n  </g>\n </g>\n <defs>\n  <clipPath id=\"pe7ef5c56a1\">\n   <rect x=\"30.103125\" y=\"7.2\" width=\"195.3\" height=\"138.6\"/>\n  </clipPath>\n </defs>\n</svg>\n"
          },
          "metadata": {}
        }
      ]
    },
    {
      "cell_type": "markdown",
      "source": [
        "## Discussion\n",
        "\n",
        "With desirable inductive biases (assumptions or preferences) like locality and translation invariance (:numref:`sec_why-conv`)\n",
        "for vision, CNNs have been the dominant architectures in this area. This remained the case from LeNet up until Transformers (:numref:`sec_transformer`) :cite:`Dosovitskiy.Beyer.Kolesnikov.ea.2021,touvron2021training` started surpassing CNNs in terms of accuracy. While much of the recent progress in terms of vision Transformers *can* be backported into CNNs :cite:`liu2022convnet`, it is only possible at a higher computational cost. Just as importantly, recent hardware optimizations (NVIDIA Ampere and Hopper) have only widened the gap in favor of Transformers.\n",
        "\n",
        "It is worth noting that Transformers have a significantly lower degree of inductive bias towards locality and translation invariance than CNNs. That learned structures prevailed is due, not least, to the availability of large image collections, such as LAION-400m and LAION-5B :cite:`schuhmann2022laion` with up to 5 billion images. Quite surprisingly, some of the more relevant work in this context even includes MLPs :cite:`tolstikhin2021mlp`.\n",
        "\n",
        "In sum, vision Transformers (:numref:`sec_vision-transformer`) by now lead in terms of\n",
        "state-of-the-art performance in large-scale image classification,\n",
        "showing that *scalability trumps inductive biases* :cite:`Dosovitskiy.Beyer.Kolesnikov.ea.2021`.\n",
        "This includes pretraining large-scale Transformers (:numref:`sec_large-pretraining-transformers`) with multi-head self-attention (:numref:`sec_multihead-attention`). We invite the readers to dive into these chapters for a much more detailed discussion.\n",
        "\n",
        "## Exercises\n",
        "\n",
        "1. Increase the number of stages to four. Can you design a deeper RegNetX that performs better?\n",
        "2. De-ResNeXt-ify RegNets by replacing the ResNeXt block with the ResNet block. How does your new model perform?\n",
        "3. Implement multiple instances of a \"VioNet\" family by *violating* the design principles of RegNetX. How do they perform? Which of ($d_i$, $c_i$, $g_i$, $b_i$) is the most important factor?\n",
        "4. Your goal is to design the \"perfect\" MLP. Can you use the design principles introduced above to find good architectures? Is it possible to extrapolate from small to large networks?\n"
      ],
      "metadata": {
        "id": "95JgGQTKbs81"
      },
      "id": "95JgGQTKbs81"
    },
    {
      "cell_type": "markdown",
      "source": [
        "## **Answer Exercise**\n",
        "\n",
        "**1. Tingkatkan jumlah tahapan menjadi empat. Bisakah Anda merancang RegNetX yang lebih dalam dan memberikan performa yang lebih baik?**\n",
        "\n",
        "*   Untuk meningkatkan jumlah tahapan menjadi empat, kita perlu menambah kompleksitas arsitektur RegNetX dengan menambahkan lebih banyak blok atau lapisan di setiap tahapan, sekaligus menjaga keseimbangan antara komputasi dan performa. Dengan menggunakan arsitektur yang lebih dalam, performa bisa meningkat, terutama untuk dataset yang besar dan kompleks, meskipun hal ini akan membutuhkan sumber daya komputasi yang lebih besar dan tuning parameter yang lebih cermat.\n",
        "\n",
        "**2. Hapus elemen ResNeXt pada RegNet dengan menggantikan blok ResNeXt dengan blok ResNet. Bagaimana performa model baru Anda?**\n",
        "\n",
        "*   Menggantikan blok ResNeXt dengan blok ResNet menghilangkan aspek *grouped convolutions* yang digunakan dalam ResNeXt. Hal ini mungkin mengurangi kemampuan model untuk menangkap informasi lokal secara efisien, karena ResNeXt memanfaatkan *grouped convolutions* untuk menangani beberapa fitur sekaligus. Namun, dengan struktur ResNet yang lebih sederhana, performa komputasi mungkin menjadi lebih ringan, meskipun akurasinya mungkin sedikit menurun dibandingkan RegNet yang menggunakan blok ResNeXt.\n",
        "\n",
        "**3. Implementasikan beberapa contoh dari keluarga \"VioNet\" dengan melanggar prinsip desain RegNetX. Bagaimana performanya? Faktor mana dari ($d_i$, $c_i$, $g_i$, $b_i$) yang paling penting?**\n",
        "\n",
        "*   Untuk membuat \"VioNet\", kita bisa mencoba berbagai eksperimen dengan memodifikasi faktor seperti jumlah channel ($c_i$), jumlah lapisan ($d_i$), ukuran grup ($g_i$), atau distribusi lebar blok ($b_i$). Dengan melanggar prinsip desain RegNetX, kita mungkin menemukan bahwa jumlah channel ($c_i$) dan distribusi lebar blok ($b_i$) adalah faktor yang paling penting karena mereka sangat mempengaruhi kapasitas model dan efisiensi komputasi. Sementara itu, jumlah lapisan ($d_i$) dan ukuran grup ($g_i$) mungkin juga berpengaruh, tetapi dampaknya mungkin lebih kecil pada performa keseluruhan.\n",
        "\n",
        "**4. Tujuan Anda adalah merancang MLP yang \"sempurna\". Bisakah Anda menggunakan prinsip desain yang diperkenalkan di atas untuk menemukan arsitektur yang baik? Apakah mungkin untuk mengekstrapolasi dari jaringan kecil ke jaringan besar?**\n",
        "\n",
        "* Merancang MLP yang sempurna bisa dilakukan dengan menerapkan prinsip-prinsip seperti modularitas, penggunaan fungsi aktivasi yang tepat, dan pemilihan jumlah neuron yang sesuai di setiap lapisan. Dengan menggunakan prinsip-prinsip desain dari RegNet dan Vision Transformers, kita dapat merancang MLP dengan beberapa lapisan terhubung padat dan regularisasi yang baik. Meskipun kita bisa mengekstrapolasi arsitektur dari jaringan kecil ke jaringan besar, skalabilitas mungkin menjadi tantangan, terutama dalam hal komputasi dan sumber daya memori. Ekstrapolasi ini membutuhkan pemilihan hiperparameter yang hati-hati untuk memastikan model besar tetap stabil dan efisien.\n",
        "\n"
      ],
      "metadata": {
        "id": "VV3aLCTmxroB"
      },
      "id": "VV3aLCTmxroB"
    },
    {
      "cell_type": "code",
      "source": [],
      "metadata": {
        "id": "XSHTOImPbugj"
      },
      "id": "XSHTOImPbugj",
      "execution_count": null,
      "outputs": []
    }
  ],
  "metadata": {
    "accelerator": "GPU",
    "kernelspec": {
      "display_name": "Python 3",
      "name": "python3"
    },
    "language_info": {
      "name": "python"
    },
    "required_libs": [],
    "colab": {
      "provenance": [],
      "include_colab_link": true
    }
  },
  "nbformat": 4,
  "nbformat_minor": 5
}